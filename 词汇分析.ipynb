{
 "cells": [
  {
   "cell_type": "code",
   "execution_count": 4,
   "metadata": {},
   "outputs": [
    {
     "name": "stdout",
     "output_type": "stream",
     "text": [
      "6132\n",
      "humanity\n"
     ]
    }
   ],
   "source": [
    "import re\n",
    "with open(\"E:\\\\vocabulary.txt\", 'r',encoding=\"utf-8\") as f:\n",
    "    read_data = f.readlines()\n",
    "voc_list=[]\n",
    "for line in read_data:\n",
    "    voc1 = re.search('词汇.*?sound.', line)\n",
    "    if type(voc1) == re.Match:       #只有在匹配有结果的时候才将结果放入voc_list\n",
    "        voc2list = re.split(\"\\<\\!\\-\\-anki\\-\\-\\>|;|\\<b\\>|\\<div\\>|\\[sound\\:|\\</b\\>|&nbsp|\\(|\\)\",voc1.group().split(\"\\t\")[1].split(\" \")[0])\n",
    "        for voc2 in voc2list:\n",
    "            if voc2 != \"\" and voc2 !=\" \" :\n",
    "                voc_list.append(voc2)\n",
    "print(len(voc_list))\n",
    "print(voc_list[2])"
   ]
  },
  {
   "cell_type": "code",
   "execution_count": null,
   "metadata": {},
   "outputs": [],
   "source": [
    "import pandas as pd\n",
    "frame = pd.read_excel(\"E:\\\\COCA.xlsx\",\"Sheet1\")\n",
    "# print(frame.columns)\n",
    "# print(frame[\" word\"].head())"
   ]
  },
  {
   "cell_type": "code",
   "execution_count": null,
   "metadata": {},
   "outputs": [],
   "source": [
    "match_list = []\n",
    "for i in voc_list:\n",
    "    # 第一次找出匹配的词汇\n",
    "    match_result = frame[frame[\" word\"].str.contains(\"  \" + i)].index.tolist()\n",
    "    # 找出字符串完全匹配的词汇\n",
    "    if match_result != []:\n",
    "        for j in match_result:\n",
    "            if \"  \" + i == frame[\" word\"][j]:\n",
    "                match_list.append(j)\n",
    "# 词汇表索引去重并且排序\n",
    "match_list2=list(set(match_list))\n",
    "match_list2.sort()"
   ]
  },
  {
   "cell_type": "markdown",
   "metadata": {},
   "source": [
    "> COCA词汇占有率"
   ]
  },
  {
   "cell_type": "code",
   "execution_count": null,
   "metadata": {},
   "outputs": [],
   "source": [
    "def search_top(num):\n",
    "    count=0\n",
    "    for i in match_list2 :\n",
    "        if i <= num :\n",
    "            count+=1\n",
    "    return count\n",
    "\n",
    "import matplotlib.pyplot as plt\n",
    "\n",
    "# 这两行代码解决 plt 中文显示的问题\n",
    "plt.rcParams['font.sans-serif'] = ['SimHei']\n",
    "plt.rcParams['axes.unicode_minus'] = False\n",
    "\n",
    "nums = ('10000', '20000', \"30000\", '40000', '50000',\"60000\")\n",
    "buy_number = [search_top(10000),search_top(20000),search_top(30000),search_top(40000),search_top(50000),search_top(60000)]\n",
    "\n",
    "plt.bar(nums, buy_number)\n",
    "plt.title('COCA词汇占有率')\n",
    "\n",
    "plt.show()"
   ]
  },
  {
   "cell_type": "markdown",
   "metadata": {},
   "source": [
    "> 词汇分类占比"
   ]
  },
  {
   "cell_type": "code",
   "execution_count": 35,
   "metadata": {},
   "outputs": [
    {
     "name": "stdout",
     "output_type": "stream",
     "text": [
      "16624215 17394869 19702696 18232464 19549613\n"
     ]
    },
    {
     "data": {
      "image/png": "[encoded data removed]",
      "text/plain": [
       "<Figure size 432x288 with 1 Axes>"
      ]
     },
     "metadata": {},
     "output_type": "display_data"
    }
   ],
   "source": [
    "SPOKEN = 0\n",
    "FICTION = 0\n",
    "MAGAZINE = 0\n",
    "NEWSPAPER = 0\n",
    "ACADEMIC = 0\n",
    "\n",
    "for i in match_list2:\n",
    "    SPOKEN = SPOKEN + frame[\"SPOKEN\"][i]\n",
    "    FICTION = FICTION + frame[\"FICTION\"][i]\n",
    "    MAGAZINE = MAGAZINE + frame[\"MAGAZINE\"][i]\n",
    "    NEWSPAPER = NEWSPAPER + frame[\"NEWSPAPER\"][i]\n",
    "    ACADEMIC = ACADEMIC + frame[\"ACADEMIC\"][i]\n",
    "\n",
    "print(SPOKEN,FICTION,MAGAZINE,NEWSPAPER,ACADEMIC)\n",
    "\n",
    "import numpy as np  \n",
    "import matplotlib.mlab as mlab  \n",
    "import matplotlib.pyplot as plt  \n",
    "plt.rcParams['font.sans-serif'] = ['SimHei']\n",
    "plt.rcParams['axes.unicode_minus'] = False\n",
    "\n",
    "labels=['口语','小说','杂志','报纸','学术']\n",
    "X=[SPOKEN,FICTION,MAGAZINE,NEWSPAPER,ACADEMIC]  \n",
    "\n",
    "fig = plt.figure()\n",
    "plt.pie(X,labels=labels,autopct='%1.2f%%') #画饼图（数据，数据对应的标签，百分数保留两位小数点）\n",
    "plt.title(\"词汇各分类占比\")\n",
    "plt.show()  "
   ]
  },
  {
   "cell_type": "code",
   "execution_count": 1,
   "metadata": {},
   "outputs": [
    {
     "name": "stdout",
     "output_type": "stream",
     "text": [
      "Enter password: ········\n",
      "Verify password: ········\n"
     ]
    },
    {
     "data": {
      "text/plain": [
       "'argon2:$argon2id$v=19$m=10240,t=10,p=8$uuGJs4ayb0alg+DS0FyA0g$z9ihv0MIEK5Ng1p8RGkj2g'"
      ]
     },
     "execution_count": 1,
     "metadata": {},
     "output_type": "execute_result"
    }
   ],
   "source": []
  },
  {
   "cell_type": "code",
   "execution_count": null,
   "metadata": {},
   "outputs": [],
   "source": []
  }
 ],
 "metadata": {
  "kernelspec": {
   "display_name": "Python 3",
   "language": "python",
   "name": "python3"
  },
  "language_info": {
   "codemirror_mode": {
    "name": "ipython",
    "version": 3
   },
   "file_extension": ".py",
   "mimetype": "text/x-python",
   "name": "python",
   "nbconvert_exporter": "python",
   "pygments_lexer": "ipython3",
   "version": "3.8.5"
  },
  "toc": {
   "base_numbering": 1,
   "nav_menu": {},
   "number_sections": true,
   "sideBar": true,
   "skip_h1_title": false,
   "title_cell": "Table of Contents",
   "title_sidebar": "Contents",
   "toc_cell": false,
   "toc_position": {},
   "toc_section_display": true,
   "toc_window_display": false
  }
 },
 "nbformat": 4,
 "nbformat_minor": 4
}
