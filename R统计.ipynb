{
 "cells": [
  {
   "cell_type": "markdown",
   "id": "recognized-stress",
   "metadata": {},
   "source": [
    "# 初级统计学"
   ]
  },
  {
   "cell_type": "markdown",
   "id": "forty-porter",
   "metadata": {
    "heading_collapsed": true
   },
   "source": [
    "## 变量"
   ]
  },
  {
   "cell_type": "markdown",
   "id": "collected-bulgarian",
   "metadata": {
    "hidden": true
   },
   "source": [
    "地震数据集"
   ]
  },
  {
   "cell_type": "code",
   "execution_count": 4,
   "id": "affiliated-rotation",
   "metadata": {
    "collapsed": true,
    "hidden": true
   },
   "outputs": [
    {
     "data": {
      "image/png": "[encoded data removed]",
      "text/plain": [
       "plot without title"
      ]
     },
     "metadata": {},
     "output_type": "display_data"
    }
   ],
   "source": [
    "plot(quakes$long,quakes$lat,xlab=\"Longitude\",ylab=\"Latitude\")"
   ]
  },
  {
   "cell_type": "markdown",
   "id": "outer-incident",
   "metadata": {
    "heading_collapsed": true
   },
   "source": [
    "## 参数和统计量"
   ]
  },
  {
   "cell_type": "markdown",
   "id": "freelance-trailer",
   "metadata": {
    "hidden": true
   },
   "source": [
    "+ 总体是个体的集合\n",
    "+ 参数是总体的特征\n",
    "+ 统计量：根据样本的估计量"
   ]
  },
  {
   "cell_type": "markdown",
   "id": "english-chosen",
   "metadata": {
    "heading_collapsed": true
   },
   "source": [
    "## 集中趋势：均值mean()，中位数median()，众数"
   ]
  },
  {
   "cell_type": "code",
   "execution_count": 9,
   "id": "foreign-snake",
   "metadata": {
    "hidden": true,
    "scrolled": true
   },
   "outputs": [
    {
     "data": {
      "text/html": [
       "2.825"
      ],
      "text/latex": [
       "2.825"
      ],
      "text/markdown": [
       "2.825"
      ],
      "text/plain": [
       "[1] 2.825"
      ]
     },
     "metadata": {},
     "output_type": "display_data"
    },
    {
     "data": {
      "text/html": [
       "2.6"
      ],
      "text/latex": [
       "2.6"
      ],
      "text/markdown": [
       "2.6"
      ],
      "text/plain": [
       "[1] 2.6"
      ]
     },
     "metadata": {},
     "output_type": "display_data"
    }
   ],
   "source": [
    "xdata <- c(2,4.4,3,3,2,2.2,2,4)\n",
    "\n",
    "mean(xdata)\n",
    "median(xdata)"
   ]
  },
  {
   "cell_type": "markdown",
   "id": "lovely-session",
   "metadata": {
    "hidden": true
   },
   "source": [
    "用table求众数"
   ]
  },
  {
   "cell_type": "code",
   "execution_count": 13,
   "id": "traditional-fight",
   "metadata": {
    "hidden": true
   },
   "outputs": [
    {
     "data": {
      "text/plain": [
       "xdata\n",
       "  2 2.2   3   4 4.4 \n",
       "  3   1   2   1   1 "
      ]
     },
     "metadata": {},
     "output_type": "display_data"
    }
   ],
   "source": [
    "table(xdata)"
   ]
  },
  {
   "cell_type": "code",
   "execution_count": 21,
   "id": "suitable-crack",
   "metadata": {
    "hidden": true,
    "scrolled": true
   },
   "outputs": [
    {
     "data": {
      "text/html": [
       "3"
      ],
      "text/latex": [
       "3"
      ],
      "text/markdown": [
       "3"
      ],
      "text/plain": [
       "[1] 3"
      ]
     },
     "metadata": {},
     "output_type": "display_data"
    }
   ],
   "source": [
    "max(table(xdata))"
   ]
  },
  {
   "cell_type": "code",
   "execution_count": 46,
   "id": "trying-violin",
   "metadata": {
    "hidden": true
   },
   "outputs": [
    {
     "data": {
      "text/html": [
       "<strong>2:</strong> 3"
      ],
      "text/latex": [
       "\\textbf{2:} 3"
      ],
      "text/markdown": [
       "**2:** 3"
      ],
      "text/plain": [
       "2 \n",
       "3 "
      ]
     },
     "metadata": {},
     "output_type": "display_data"
    }
   ],
   "source": [
    "xtab=table(xdata)\n",
    "zhong = xtab[xtab==max(xtab)]"
   ]
  },
  {
   "cell_type": "code",
   "execution_count": 47,
   "id": "explicit-surfing",
   "metadata": {
    "hidden": true
   },
   "outputs": [
    {
     "data": {
      "text/html": [
       "<strong>$names</strong> = '2'"
      ],
      "text/latex": [
       "\\textbf{\\$names} = '2'"
      ],
      "text/markdown": [
       "**$names** = '2'"
      ],
      "text/plain": [
       "$names\n",
       "[1] \"2\"\n"
      ]
     },
     "metadata": {},
     "output_type": "display_data"
    }
   ],
   "source": [
    "a=attributes(zhong)\n",
    "a"
   ]
  },
  {
   "cell_type": "code",
   "execution_count": 48,
   "id": "registered-somerset",
   "metadata": {
    "hidden": true
   },
   "outputs": [
    {
     "data": {
      "text/html": [
       "2"
      ],
      "text/latex": [
       "2"
      ],
      "text/markdown": [
       "2"
      ],
      "text/plain": [
       "[1] 2"
      ]
     },
     "metadata": {},
     "output_type": "display_data"
    }
   ],
   "source": [
    "as.numeric(a)"
   ]
  },
  {
   "cell_type": "markdown",
   "id": "balanced-given",
   "metadata": {
    "hidden": true
   },
   "source": [
    "忽略缺失值"
   ]
  },
  {
   "cell_type": "code",
   "execution_count": 10,
   "id": "abandoned-strength",
   "metadata": {
    "hidden": true
   },
   "outputs": [
    {
     "data": {
      "text/html": [
       "2.5"
      ],
      "text/latex": [
       "2.5"
      ],
      "text/markdown": [
       "2.5"
      ],
      "text/plain": [
       "[1] 2.5"
      ]
     },
     "metadata": {},
     "output_type": "display_data"
    },
    {
     "data": {
      "text/html": [
       "2.5"
      ],
      "text/latex": [
       "2.5"
      ],
      "text/markdown": [
       "2.5"
      ],
      "text/plain": [
       "[1] 2.5"
      ]
     },
     "metadata": {},
     "output_type": "display_data"
    }
   ],
   "source": [
    "mean(c(1,4,NA),na.rm=TRUE)\n",
    "mean(c(1,4,NaN),na.rm=TRUE)"
   ]
  },
  {
   "cell_type": "markdown",
   "id": "little-batman",
   "metadata": {
    "heading_collapsed": true
   },
   "source": [
    "## 计数，百分比和比例"
   ]
  },
  {
   "cell_type": "code",
   "execution_count": 49,
   "id": "advisory-yellow",
   "metadata": {
    "hidden": true
   },
   "outputs": [
    {
     "data": {
      "text/plain": [
       "\n",
       "   casein horsebean   linseed  meatmeal   soybean sunflower \n",
       "       12        10        12        11        14        12 "
      ]
     },
     "metadata": {},
     "output_type": "display_data"
    }
   ],
   "source": [
    "table(chickwts$feed)"
   ]
  },
  {
   "cell_type": "code",
   "execution_count": 50,
   "id": "sunrise-science",
   "metadata": {
    "hidden": true
   },
   "outputs": [
    {
     "data": {
      "text/plain": [
       "\n",
       "   casein horsebean   linseed  meatmeal   soybean sunflower \n",
       "0.1690141 0.1408451 0.1690141 0.1549296 0.1971831 0.1690141 "
      ]
     },
     "metadata": {},
     "output_type": "display_data"
    }
   ],
   "source": [
    "table(chickwts$feed)/nrow(chickwts)"
   ]
  },
  {
   "cell_type": "code",
   "execution_count": 51,
   "id": "monthly-soldier",
   "metadata": {
    "hidden": true
   },
   "outputs": [
    {
     "data": {
      "text/html": [
       "0.197183098591549"
      ],
      "text/latex": [
       "0.197183098591549"
      ],
      "text/markdown": [
       "0.197183098591549"
      ],
      "text/plain": [
       "[1] 0.1971831"
      ]
     },
     "metadata": {},
     "output_type": "display_data"
    }
   ],
   "source": [
    "sum(chickwts$feed==\"soybean\")/nrow(chickwts)"
   ]
  },
  {
   "cell_type": "code",
   "execution_count": 55,
   "id": "surrounded-tracker",
   "metadata": {
    "hidden": true,
    "scrolled": true
   },
   "outputs": [
    {
     "data": {
      "text/html": [
       "0.197183098591549"
      ],
      "text/latex": [
       "0.197183098591549"
      ],
      "text/markdown": [
       "0.197183098591549"
      ],
      "text/plain": [
       "[1] 0.1971831"
      ]
     },
     "metadata": {},
     "output_type": "display_data"
    }
   ],
   "source": [
    "mean(chickwts$feed==\"soybean\")"
   ]
  },
  {
   "cell_type": "code",
   "execution_count": 56,
   "id": "equal-porcelain",
   "metadata": {
    "hidden": true
   },
   "outputs": [
    {
     "data": {
      "text/html": [
       "<style>\n",
       ".list-inline {list-style: none; margin:0; padding: 0}\n",
       ".list-inline>li {display: inline-block}\n",
       ".list-inline>li:not(:last-child)::after {content: \"\\00b7\"; padding: 0 .5ex}\n",
       "</style>\n",
       "<ol class=list-inline><li>horsebean</li><li>horsebean</li><li>horsebean</li><li>horsebean</li><li>horsebean</li><li>horsebean</li><li>horsebean</li><li>horsebean</li><li>horsebean</li><li>horsebean</li><li>linseed</li><li>linseed</li><li>linseed</li><li>linseed</li><li>linseed</li><li>linseed</li><li>linseed</li><li>linseed</li><li>linseed</li><li>linseed</li><li>linseed</li><li>linseed</li><li>soybean</li><li>soybean</li><li>soybean</li><li>soybean</li><li>soybean</li><li>soybean</li><li>soybean</li><li>soybean</li><li>soybean</li><li>soybean</li><li>soybean</li><li>soybean</li><li>soybean</li><li>soybean</li><li>sunflower</li><li>sunflower</li><li>sunflower</li><li>sunflower</li><li>sunflower</li><li>sunflower</li><li>sunflower</li><li>sunflower</li><li>sunflower</li><li>sunflower</li><li>sunflower</li><li>sunflower</li><li>meatmeal</li><li>meatmeal</li><li>meatmeal</li><li>meatmeal</li><li>meatmeal</li><li>meatmeal</li><li>meatmeal</li><li>meatmeal</li><li>meatmeal</li><li>meatmeal</li><li>meatmeal</li><li>casein</li><li>casein</li><li>casein</li><li>casein</li><li>casein</li><li>casein</li><li>casein</li><li>casein</li><li>casein</li><li>casein</li><li>casein</li><li>casein</li></ol>\n",
       "\n",
       "<details>\n",
       "\t<summary style=display:list-item;cursor:pointer>\n",
       "\t\t<strong>Levels</strong>:\n",
       "\t</summary>\n",
       "\t<style>\n",
       "\t.list-inline {list-style: none; margin:0; padding: 0}\n",
       "\t.list-inline>li {display: inline-block}\n",
       "\t.list-inline>li:not(:last-child)::after {content: \"\\00b7\"; padding: 0 .5ex}\n",
       "\t</style>\n",
       "\t<ol class=list-inline><li>'casein'</li><li>'horsebean'</li><li>'linseed'</li><li>'meatmeal'</li><li>'soybean'</li><li>'sunflower'</li></ol>\n",
       "</details>"
      ],
      "text/latex": [
       "\\begin{enumerate*}\n",
       "\\item horsebean\n",
       "\\item horsebean\n",
       "\\item horsebean\n",
       "\\item horsebean\n",
       "\\item horsebean\n",
       "\\item horsebean\n",
       "\\item horsebean\n",
       "\\item horsebean\n",
       "\\item horsebean\n",
       "\\item horsebean\n",
       "\\item linseed\n",
       "\\item linseed\n",
       "\\item linseed\n",
       "\\item linseed\n",
       "\\item linseed\n",
       "\\item linseed\n",
       "\\item linseed\n",
       "\\item linseed\n",
       "\\item linseed\n",
       "\\item linseed\n",
       "\\item linseed\n",
       "\\item linseed\n",
       "\\item soybean\n",
       "\\item soybean\n",
       "\\item soybean\n",
       "\\item soybean\n",
       "\\item soybean\n",
       "\\item soybean\n",
       "\\item soybean\n",
       "\\item soybean\n",
       "\\item soybean\n",
       "\\item soybean\n",
       "\\item soybean\n",
       "\\item soybean\n",
       "\\item soybean\n",
       "\\item soybean\n",
       "\\item sunflower\n",
       "\\item sunflower\n",
       "\\item sunflower\n",
       "\\item sunflower\n",
       "\\item sunflower\n",
       "\\item sunflower\n",
       "\\item sunflower\n",
       "\\item sunflower\n",
       "\\item sunflower\n",
       "\\item sunflower\n",
       "\\item sunflower\n",
       "\\item sunflower\n",
       "\\item meatmeal\n",
       "\\item meatmeal\n",
       "\\item meatmeal\n",
       "\\item meatmeal\n",
       "\\item meatmeal\n",
       "\\item meatmeal\n",
       "\\item meatmeal\n",
       "\\item meatmeal\n",
       "\\item meatmeal\n",
       "\\item meatmeal\n",
       "\\item meatmeal\n",
       "\\item casein\n",
       "\\item casein\n",
       "\\item casein\n",
       "\\item casein\n",
       "\\item casein\n",
       "\\item casein\n",
       "\\item casein\n",
       "\\item casein\n",
       "\\item casein\n",
       "\\item casein\n",
       "\\item casein\n",
       "\\item casein\n",
       "\\end{enumerate*}\n",
       "\n",
       "\\emph{Levels}: \\begin{enumerate*}\n",
       "\\item 'casein'\n",
       "\\item 'horsebean'\n",
       "\\item 'linseed'\n",
       "\\item 'meatmeal'\n",
       "\\item 'soybean'\n",
       "\\item 'sunflower'\n",
       "\\end{enumerate*}\n"
      ],
      "text/markdown": [
       "1. horsebean\n",
       "2. horsebean\n",
       "3. horsebean\n",
       "4. horsebean\n",
       "5. horsebean\n",
       "6. horsebean\n",
       "7. horsebean\n",
       "8. horsebean\n",
       "9. horsebean\n",
       "10. horsebean\n",
       "11. linseed\n",
       "12. linseed\n",
       "13. linseed\n",
       "14. linseed\n",
       "15. linseed\n",
       "16. linseed\n",
       "17. linseed\n",
       "18. linseed\n",
       "19. linseed\n",
       "20. linseed\n",
       "21. linseed\n",
       "22. linseed\n",
       "23. soybean\n",
       "24. soybean\n",
       "25. soybean\n",
       "26. soybean\n",
       "27. soybean\n",
       "28. soybean\n",
       "29. soybean\n",
       "30. soybean\n",
       "31. soybean\n",
       "32. soybean\n",
       "33. soybean\n",
       "34. soybean\n",
       "35. soybean\n",
       "36. soybean\n",
       "37. sunflower\n",
       "38. sunflower\n",
       "39. sunflower\n",
       "40. sunflower\n",
       "41. sunflower\n",
       "42. sunflower\n",
       "43. sunflower\n",
       "44. sunflower\n",
       "45. sunflower\n",
       "46. sunflower\n",
       "47. sunflower\n",
       "48. sunflower\n",
       "49. meatmeal\n",
       "50. meatmeal\n",
       "51. meatmeal\n",
       "52. meatmeal\n",
       "53. meatmeal\n",
       "54. meatmeal\n",
       "55. meatmeal\n",
       "56. meatmeal\n",
       "57. meatmeal\n",
       "58. meatmeal\n",
       "59. meatmeal\n",
       "60. casein\n",
       "61. casein\n",
       "62. casein\n",
       "63. casein\n",
       "64. casein\n",
       "65. casein\n",
       "66. casein\n",
       "67. casein\n",
       "68. casein\n",
       "69. casein\n",
       "70. casein\n",
       "71. casein\n",
       "\n",
       "\n",
       "\n",
       "**Levels**: 1. 'casein'\n",
       "2. 'horsebean'\n",
       "3. 'linseed'\n",
       "4. 'meatmeal'\n",
       "5. 'soybean'\n",
       "6. 'sunflower'\n",
       "\n",
       "\n"
      ],
      "text/plain": [
       " [1] horsebean horsebean horsebean horsebean horsebean horsebean horsebean\n",
       " [8] horsebean horsebean horsebean linseed   linseed   linseed   linseed  \n",
       "[15] linseed   linseed   linseed   linseed   linseed   linseed   linseed  \n",
       "[22] linseed   soybean   soybean   soybean   soybean   soybean   soybean  \n",
       "[29] soybean   soybean   soybean   soybean   soybean   soybean   soybean  \n",
       "[36] soybean   sunflower sunflower sunflower sunflower sunflower sunflower\n",
       "[43] sunflower sunflower sunflower sunflower sunflower sunflower meatmeal \n",
       "[50] meatmeal  meatmeal  meatmeal  meatmeal  meatmeal  meatmeal  meatmeal \n",
       "[57] meatmeal  meatmeal  meatmeal  casein    casein    casein    casein   \n",
       "[64] casein    casein    casein    casein    casein    casein    casein   \n",
       "[71] casein   \n",
       "Levels: casein horsebean linseed meatmeal soybean sunflower"
      ]
     },
     "metadata": {},
     "output_type": "display_data"
    }
   ],
   "source": [
    "chickwts$feed"
   ]
  },
  {
   "cell_type": "code",
   "execution_count": null,
   "id": "expressed-artwork",
   "metadata": {
    "hidden": true
   },
   "outputs": [],
   "source": [
    "mean(chickwts$feed==\"soybean\"|chickwts$feed==\"horsebean\")\n",
    "\n",
    "#\n",
    "\n",
    "tapply(chickwts$weight,INDEX=chickwts$feed,FUN=function(x) length(x)/nrow(chickwts))\n",
    "\n",
    "#\n",
    "\n",
    "round(table(chickwts$feed)/nrow(chickwts),digits=3)\n",
    "\n",
    "#\n",
    "\n",
    "round(mean(chickwts$feed==\"soybean\")*100,1)"
   ]
  },
  {
   "cell_type": "markdown",
   "id": "unlikely-defeat",
   "metadata": {},
   "source": [
    "## 四分位数，百分位数和五分位数"
   ]
  },
  {
   "cell_type": "code",
   "execution_count": 1,
   "id": "naked-ratio",
   "metadata": {},
   "outputs": [
    {
     "data": {
      "text/html": [
       "<strong>80%:</strong> 3.6"
      ],
      "text/latex": [
       "\\textbf{80\\textbackslash{}\\%:} 3.6"
      ],
      "text/markdown": [
       "**80%:** 3.6"
      ],
      "text/plain": [
       "80% \n",
       "3.6 "
      ]
     },
     "metadata": {},
     "output_type": "display_data"
    }
   ],
   "source": [
    "xdata <- c(2,4.4,3,3,2,2.2,2,4)\n",
    "quantile(xdata,prob=0.8)"
   ]
  },
  {
   "cell_type": "code",
   "execution_count": 58,
   "id": "immune-rebound",
   "metadata": {},
   "outputs": [
    {
     "data": {
      "text/html": [
       "<style>\n",
       ".dl-inline {width: auto; margin:0; padding: 0}\n",
       ".dl-inline>dt, .dl-inline>dd {float: none; width: auto; display: inline-block}\n",
       ".dl-inline>dt::after {content: \":\\0020\"; padding-right: .5ex}\n",
       ".dl-inline>dt:not(:first-of-type) {padding-left: .5ex}\n",
       "</style><dl class=dl-inline><dt>0%</dt><dd>2</dd><dt>25%</dt><dd>2</dd><dt>50%</dt><dd>2.6</dd><dt>75%</dt><dd>3.25</dd><dt>100%</dt><dd>4.4</dd></dl>\n"
      ],
      "text/latex": [
       "\\begin{description*}\n",
       "\\item[0\\textbackslash{}\\%] 2\n",
       "\\item[25\\textbackslash{}\\%] 2\n",
       "\\item[50\\textbackslash{}\\%] 2.6\n",
       "\\item[75\\textbackslash{}\\%] 3.25\n",
       "\\item[100\\textbackslash{}\\%] 4.4\n",
       "\\end{description*}\n"
      ],
      "text/markdown": [
       "0%\n",
       ":   225%\n",
       ":   250%\n",
       ":   2.675%\n",
       ":   3.25100%\n",
       ":   4.4\n",
       "\n"
      ],
      "text/plain": [
       "  0%  25%  50%  75% 100% \n",
       "2.00 2.00 2.60 3.25 4.40 "
      ]
     },
     "metadata": {},
     "output_type": "display_data"
    }
   ],
   "source": [
    "quantile(xdata,prob=c(0,0.25,0.5,0.75,1))"
   ]
  },
  {
   "cell_type": "code",
   "execution_count": 3,
   "id": "charming-campbell",
   "metadata": {},
   "outputs": [
    {
     "data": {
      "text/html": [
       "3.25"
      ],
      "text/latex": [
       "3.25"
      ],
      "text/markdown": [
       "3.25"
      ],
      "text/plain": [
       "[1] 3.25"
      ]
     },
     "metadata": {},
     "output_type": "display_data"
    }
   ],
   "source": [
    "as.numeric(quantile(xdata,0.75))"
   ]
  },
  {
   "cell_type": "code",
   "execution_count": 59,
   "id": "black-panic",
   "metadata": {
    "scrolled": true
   },
   "outputs": [
    {
     "data": {
      "text/plain": [
       "   Min. 1st Qu.  Median    Mean 3rd Qu.    Max. \n",
       "   4.00    4.40    4.60    4.67    4.90    6.40 "
      ]
     },
     "metadata": {},
     "output_type": "display_data"
    }
   ],
   "source": [
    "summary(quakes$mag[quakes$depth<400])"
   ]
  },
  {
   "cell_type": "markdown",
   "id": "sound-fiber",
   "metadata": {},
   "source": [
    "## 离散程度：方差var，标准差sd和四分位差函数IQR"
   ]
  },
  {
   "cell_type": "markdown",
   "id": "analyzed-walker",
   "metadata": {},
   "source": [
    "IQR是上四分位数到下四分位数的距离"
   ]
  },
  {
   "cell_type": "code",
   "execution_count": 60,
   "id": "extraordinary-dylan",
   "metadata": {},
   "outputs": [
    {
     "data": {
      "text/html": [
       "0.907857142857143"
      ],
      "text/latex": [
       "0.907857142857143"
      ],
      "text/markdown": [
       "0.907857142857143"
      ],
      "text/plain": [
       "[1] 0.9078571"
      ]
     },
     "metadata": {},
     "output_type": "display_data"
    },
    {
     "data": {
      "text/html": [
       "0.952815377109933"
      ],
      "text/latex": [
       "0.952815377109933"
      ],
      "text/markdown": [
       "0.952815377109933"
      ],
      "text/plain": [
       "[1] 0.9528154"
      ]
     },
     "metadata": {},
     "output_type": "display_data"
    },
    {
     "data": {
      "text/html": [
       "1.25"
      ],
      "text/latex": [
       "1.25"
      ],
      "text/markdown": [
       "1.25"
      ],
      "text/plain": [
       "[1] 1.25"
      ]
     },
     "metadata": {},
     "output_type": "display_data"
    }
   ],
   "source": [
    "xdata <- c(2,4.4,3,3,2,2.2,2,4)\n",
    "ydata <- c(1,4.4,1,3,2,2.2,2,7)\n",
    "\n",
    "var(xdata)\n",
    "sd(xdata)\n",
    "IQR(xdata)"
   ]
  },
  {
   "cell_type": "markdown",
   "id": "developmental-developer",
   "metadata": {},
   "source": [
    "## 协方差cov和相关系数cor"
   ]
  },
  {
   "cell_type": "code",
   "execution_count": 66,
   "id": "empirical-fiction",
   "metadata": {
    "scrolled": true
   },
   "outputs": [
    {
     "data": {
      "text/html": [
       "1.47928571428571"
      ],
      "text/latex": [
       "1.47928571428571"
      ],
      "text/markdown": [
       "1.47928571428571"
      ],
      "text/plain": [
       "[1] 1.479286"
      ]
     },
     "metadata": {},
     "output_type": "display_data"
    },
    {
     "data": {
      "text/html": [
       "0.771396208579747"
      ],
      "text/latex": [
       "0.771396208579747"
      ],
      "text/markdown": [
       "0.771396208579747"
      ],
      "text/plain": [
       "[1] 0.7713962"
      ]
     },
     "metadata": {},
     "output_type": "display_data"
    }
   ],
   "source": [
    "xdata <- c(2,4.4,3,3,2,2.2,2,4)\n",
    "ydata <- c(1,4.4,1,3,2,2.2,2,7)\n",
    "cov(xdata,ydata)\n",
    "cor(xdata,ydata)"
   ]
  },
  {
   "cell_type": "code",
   "execution_count": 69,
   "id": "adjustable-cause",
   "metadata": {},
   "outputs": [
    {
     "data": {
      "text/html": [
       "7.50818098098098"
      ],
      "text/latex": [
       "7.50818098098098"
      ],
      "text/markdown": [
       "7.50818098098098"
      ],
      "text/plain": [
       "[1] 7.508181"
      ]
     },
     "metadata": {},
     "output_type": "display_data"
    },
    {
     "data": {
      "text/html": [
       "0.851182422372364"
      ],
      "text/latex": [
       "0.851182422372364"
      ],
      "text/markdown": [
       "0.851182422372364"
      ],
      "text/plain": [
       "[1] 0.8511824"
      ]
     },
     "metadata": {},
     "output_type": "display_data"
    }
   ],
   "source": [
    "cov(quakes$mag,quakes$stations)\n",
    "\n",
    "cor(quakes$mag,quakes$stations)"
   ]
  },
  {
   "cell_type": "markdown",
   "id": "marine-contest",
   "metadata": {},
   "source": [
    "# 可视化"
   ]
  },
  {
   "cell_type": "markdown",
   "id": "turned-account",
   "metadata": {
    "heading_collapsed": true
   },
   "source": [
    "## 条形图"
   ]
  },
  {
   "cell_type": "markdown",
   "id": "copyrighted-scoop",
   "metadata": {
    "hidden": true
   },
   "source": [
    "各种气缸的分类数"
   ]
  },
  {
   "cell_type": "code",
   "execution_count": 1,
   "id": "knowing-invite",
   "metadata": {
    "collapsed": true,
    "hidden": true
   },
   "outputs": [
    {
     "data": {
      "text/html": [
       "<table class=\"dataframe\">\n",
       "<caption>A data.frame: 5 × 11</caption>\n",
       "<thead>\n",
       "\t<tr><th></th><th scope=col>mpg</th><th scope=col>cyl</th><th scope=col>disp</th><th scope=col>hp</th><th scope=col>drat</th><th scope=col>wt</th><th scope=col>qsec</th><th scope=col>vs</th><th scope=col>am</th><th scope=col>gear</th><th scope=col>carb</th></tr>\n",
       "\t<tr><th></th><th scope=col>&lt;dbl&gt;</th><th scope=col>&lt;dbl&gt;</th><th scope=col>&lt;dbl&gt;</th><th scope=col>&lt;dbl&gt;</th><th scope=col>&lt;dbl&gt;</th><th scope=col>&lt;dbl&gt;</th><th scope=col>&lt;dbl&gt;</th><th scope=col>&lt;dbl&gt;</th><th scope=col>&lt;dbl&gt;</th><th scope=col>&lt;dbl&gt;</th><th scope=col>&lt;dbl&gt;</th></tr>\n",
       "</thead>\n",
       "<tbody>\n",
       "\t<tr><th scope=row>Mazda RX4</th><td>21.0</td><td>6</td><td>160</td><td>110</td><td>3.90</td><td>2.620</td><td>16.46</td><td>0</td><td>1</td><td>4</td><td>4</td></tr>\n",
       "\t<tr><th scope=row>Mazda RX4 Wag</th><td>21.0</td><td>6</td><td>160</td><td>110</td><td>3.90</td><td>2.875</td><td>17.02</td><td>0</td><td>1</td><td>4</td><td>4</td></tr>\n",
       "\t<tr><th scope=row>Datsun 710</th><td>22.8</td><td>4</td><td>108</td><td> 93</td><td>3.85</td><td>2.320</td><td>18.61</td><td>1</td><td>1</td><td>4</td><td>1</td></tr>\n",
       "\t<tr><th scope=row>Hornet 4 Drive</th><td>21.4</td><td>6</td><td>258</td><td>110</td><td>3.08</td><td>3.215</td><td>19.44</td><td>1</td><td>0</td><td>3</td><td>1</td></tr>\n",
       "\t<tr><th scope=row>Hornet Sportabout</th><td>18.7</td><td>8</td><td>360</td><td>175</td><td>3.15</td><td>3.440</td><td>17.02</td><td>0</td><td>0</td><td>3</td><td>2</td></tr>\n",
       "</tbody>\n",
       "</table>\n"
      ],
      "text/latex": [
       "A data.frame: 5 × 11\n",
       "\\begin{tabular}{r|lllllllllll}\n",
       "  & mpg & cyl & disp & hp & drat & wt & qsec & vs & am & gear & carb\\\\\n",
       "  & <dbl> & <dbl> & <dbl> & <dbl> & <dbl> & <dbl> & <dbl> & <dbl> & <dbl> & <dbl> & <dbl>\\\\\n",
       "\\hline\n",
       "\tMazda RX4 & 21.0 & 6 & 160 & 110 & 3.90 & 2.620 & 16.46 & 0 & 1 & 4 & 4\\\\\n",
       "\tMazda RX4 Wag & 21.0 & 6 & 160 & 110 & 3.90 & 2.875 & 17.02 & 0 & 1 & 4 & 4\\\\\n",
       "\tDatsun 710 & 22.8 & 4 & 108 &  93 & 3.85 & 2.320 & 18.61 & 1 & 1 & 4 & 1\\\\\n",
       "\tHornet 4 Drive & 21.4 & 6 & 258 & 110 & 3.08 & 3.215 & 19.44 & 1 & 0 & 3 & 1\\\\\n",
       "\tHornet Sportabout & 18.7 & 8 & 360 & 175 & 3.15 & 3.440 & 17.02 & 0 & 0 & 3 & 2\\\\\n",
       "\\end{tabular}\n"
      ],
      "text/markdown": [
       "\n",
       "A data.frame: 5 × 11\n",
       "\n",
       "| <!--/--> | mpg &lt;dbl&gt; | cyl &lt;dbl&gt; | disp &lt;dbl&gt; | hp &lt;dbl&gt; | drat &lt;dbl&gt; | wt &lt;dbl&gt; | qsec &lt;dbl&gt; | vs &lt;dbl&gt; | am &lt;dbl&gt; | gear &lt;dbl&gt; | carb &lt;dbl&gt; |\n",
       "|---|---|---|---|---|---|---|---|---|---|---|---|\n",
       "| Mazda RX4 | 21.0 | 6 | 160 | 110 | 3.90 | 2.620 | 16.46 | 0 | 1 | 4 | 4 |\n",
       "| Mazda RX4 Wag | 21.0 | 6 | 160 | 110 | 3.90 | 2.875 | 17.02 | 0 | 1 | 4 | 4 |\n",
       "| Datsun 710 | 22.8 | 4 | 108 |  93 | 3.85 | 2.320 | 18.61 | 1 | 1 | 4 | 1 |\n",
       "| Hornet 4 Drive | 21.4 | 6 | 258 | 110 | 3.08 | 3.215 | 19.44 | 1 | 0 | 3 | 1 |\n",
       "| Hornet Sportabout | 18.7 | 8 | 360 | 175 | 3.15 | 3.440 | 17.02 | 0 | 0 | 3 | 2 |\n",
       "\n"
      ],
      "text/plain": [
       "                  mpg  cyl disp hp  drat wt    qsec  vs am gear carb\n",
       "Mazda RX4         21.0 6   160  110 3.90 2.620 16.46 0  1  4    4   \n",
       "Mazda RX4 Wag     21.0 6   160  110 3.90 2.875 17.02 0  1  4    4   \n",
       "Datsun 710        22.8 4   108   93 3.85 2.320 18.61 1  1  4    1   \n",
       "Hornet 4 Drive    21.4 6   258  110 3.08 3.215 19.44 1  0  3    1   \n",
       "Hornet Sportabout 18.7 8   360  175 3.15 3.440 17.02 0  0  3    2   "
      ]
     },
     "metadata": {},
     "output_type": "display_data"
    },
    {
     "data": {
      "image/png": "[encoded data removed]",
      "text/plain": [
       "plot without title"
      ]
     },
     "metadata": {},
     "output_type": "display_data"
    }
   ],
   "source": [
    "mtcars[1:5,]\n",
    "barplot(table(mtcars$cyl))"
   ]
  },
  {
   "cell_type": "code",
   "execution_count": 2,
   "id": "permanent-satisfaction",
   "metadata": {
    "hidden": true
   },
   "outputs": [
    {
     "data": {
      "text/plain": [
       "\n",
       " 4  6  8 \n",
       " 3  4 12 "
      ]
     },
     "metadata": {},
     "output_type": "display_data"
    },
    {
     "data": {
      "text/plain": [
       "\n",
       "4 6 8 \n",
       "8 3 2 "
      ]
     },
     "metadata": {},
     "output_type": "display_data"
    },
    {
     "data": {
      "text/plain": [
       "   \n",
       "     4  6  8\n",
       "  0  3  4 12\n",
       "  1  8  3  2"
      ]
     },
     "metadata": {},
     "output_type": "display_data"
    }
   ],
   "source": [
    "table(mtcars$cyl[mtcars$am==0])\n",
    "table(mtcars$cyl[mtcars$am==1])\n",
    "\n",
    "#\n",
    "\n",
    "cyl.freq.matrix <- table(mtcars$am,mtcars$cyl)\n",
    "cyl.freq.matrix"
   ]
  },
  {
   "cell_type": "code",
   "execution_count": 6,
   "id": "green-cheese",
   "metadata": {
    "hidden": true
   },
   "outputs": [
    {
     "data": {
      "image/png": "[encoded data removed]",
      "text/plain": [
       "Plot with title \"Performance car counts\n",
       "by transmission and cylinders\""
      ]
     },
     "metadata": {},
     "output_type": "display_data"
    }
   ],
   "source": [
    "barplot(cyl.freq.matrix,beside=TRUE,horiz=TRUE,las=1,main=\"Performance car counts\\nby transmission and cylinders\",names.arg=c(\"V4\",\"V6\",\"V8\"),legend.text=c(\"auto\",\"manual\"),args.legend=list(x=\"bottomright\"))"
   ]
  },
  {
   "cell_type": "code",
   "execution_count": 7,
   "id": "finnish-little",
   "metadata": {
    "hidden": true,
    "scrolled": false
   },
   "outputs": [
    {
     "name": "stderr",
     "output_type": "stream",
     "text": [
      "Warning message:\n",
      "\"package 'ggplot2' was built under R version 3.6.3\""
     ]
    },
    {
     "data": {
      "image/png": "[encoded data removed]",
      "text/plain": [
       "plot without title"
      ]
     },
     "metadata": {},
     "output_type": "display_data"
    }
   ],
   "source": [
    "library(\"ggplot2\")\n",
    "qplot(factor(mtcars$cyl),geom=\"bar\")"
   ]
  },
  {
   "cell_type": "code",
   "execution_count": 8,
   "id": "hourly-scanning",
   "metadata": {
    "hidden": true,
    "scrolled": true
   },
   "outputs": [
    {
     "data": {
      "image/png": "[encoded data removed]",
      "text/plain": [
       "plot without title"
      ]
     },
     "metadata": {},
     "output_type": "display_data"
    }
   ],
   "source": [
    "qplot(factor(mtcars$cyl),geom=\"blank\",fill=factor(mtcars$am),xlab=\"\",ylab=\"\",main=\"Performance car counts\\nby transmission and cylinders\") + geom_bar(position=\"dodge\") + scale_x_discrete(labels=c(\"V4\",\"V6\",\"V8\")) + scale_y_continuous(breaks=seq(0,12,2)) + scale_fill_grey(name=\"Trans.\",labels=c(\"auto\",\"manual\"))  + theme_bw() + coord_flip()"
   ]
  },
  {
   "cell_type": "code",
   "execution_count": 10,
   "id": "proper-dialogue",
   "metadata": {
    "hidden": true,
    "scrolled": false
   },
   "outputs": [
    {
     "name": "stderr",
     "output_type": "stream",
     "text": [
      "Warning message:\n",
      "\"package 'stringr' is in use and will not be installed\"Warning message:\n",
      "\"package 'installr' is in use and will not be installed\""
     ]
    },
    {
     "ename": "ERROR",
     "evalue": "Error in winDialog(type = \"ok\", message = message_text): winDialog() cannot be used non-interactively\n",
     "output_type": "error",
     "traceback": [
      "Error in winDialog(type = \"ok\", message = message_text): winDialog() cannot be used non-interactively\nTraceback:\n",
      "1. updateR()",
      "2. check.for.updates.R(print_R_versions, GUI = GUI, page_with_download_url = paste0(cran_mirror, \n .     \"bin/windows/base/\"))",
      "3. winDialog(type = \"ok\", message = message_text)",
      "4. stop(\"winDialog() cannot be used non-interactively\")"
     ]
    }
   ],
   "source": [
    "install.packages(\"stringr\")\n",
    "\n",
    "library(\"stringr\")\n",
    "\n",
    "install.packages(\"installr\")\n",
    "\n",
    "library(installr)\n",
    "\n",
    "updateR()"
   ]
  },
  {
   "cell_type": "markdown",
   "id": "taken-latvia",
   "metadata": {
    "heading_collapsed": true
   },
   "source": [
    "## 饼图"
   ]
  },
  {
   "cell_type": "code",
   "execution_count": 11,
   "id": "anonymous-recall",
   "metadata": {
    "hidden": true
   },
   "outputs": [
    {
     "data": {
      "image/png": "[encoded data removed]",
      "text/plain": [
       "Plot with title \"Performance cars by cylinders\""
      ]
     },
     "metadata": {},
     "output_type": "display_data"
    }
   ],
   "source": [
    "pie(table(mtcars$cyl),labels=c(\"V4\",\"V6\",\"V8\"),col=c(\"white\",\"gray\",\"black\"),main=\"Performance cars by cylinders\")"
   ]
  },
  {
   "cell_type": "markdown",
   "id": "wound-frank",
   "metadata": {},
   "source": [
    "## 直方图"
   ]
  },
  {
   "cell_type": "code",
   "execution_count": 12,
   "id": "greatest-legislature",
   "metadata": {},
   "outputs": [
    {
     "data": {
      "text/html": [
       "<style>\n",
       ".list-inline {list-style: none; margin:0; padding: 0}\n",
       ".list-inline>li {display: inline-block}\n",
       ".list-inline>li:not(:last-child)::after {content: \"\\00b7\"; padding: 0 .5ex}\n",
       "</style>\n",
       "<ol class=list-inline><li>110</li><li>110</li><li>93</li><li>110</li><li>175</li><li>105</li><li>245</li><li>62</li><li>95</li><li>123</li><li>123</li><li>180</li><li>180</li><li>180</li><li>205</li><li>215</li><li>230</li><li>66</li><li>52</li><li>65</li><li>97</li><li>150</li><li>150</li><li>245</li><li>175</li><li>66</li><li>91</li><li>113</li><li>264</li><li>175</li><li>335</li><li>109</li></ol>\n"
      ],
      "text/latex": [
       "\\begin{enumerate*}\n",
       "\\item 110\n",
       "\\item 110\n",
       "\\item 93\n",
       "\\item 110\n",
       "\\item 175\n",
       "\\item 105\n",
       "\\item 245\n",
       "\\item 62\n",
       "\\item 95\n",
       "\\item 123\n",
       "\\item 123\n",
       "\\item 180\n",
       "\\item 180\n",
       "\\item 180\n",
       "\\item 205\n",
       "\\item 215\n",
       "\\item 230\n",
       "\\item 66\n",
       "\\item 52\n",
       "\\item 65\n",
       "\\item 97\n",
       "\\item 150\n",
       "\\item 150\n",
       "\\item 245\n",
       "\\item 175\n",
       "\\item 66\n",
       "\\item 91\n",
       "\\item 113\n",
       "\\item 264\n",
       "\\item 175\n",
       "\\item 335\n",
       "\\item 109\n",
       "\\end{enumerate*}\n"
      ],
      "text/markdown": [
       "1. 110\n",
       "2. 110\n",
       "3. 93\n",
       "4. 110\n",
       "5. 175\n",
       "6. 105\n",
       "7. 245\n",
       "8. 62\n",
       "9. 95\n",
       "10. 123\n",
       "11. 123\n",
       "12. 180\n",
       "13. 180\n",
       "14. 180\n",
       "15. 205\n",
       "16. 215\n",
       "17. 230\n",
       "18. 66\n",
       "19. 52\n",
       "20. 65\n",
       "21. 97\n",
       "22. 150\n",
       "23. 150\n",
       "24. 245\n",
       "25. 175\n",
       "26. 66\n",
       "27. 91\n",
       "28. 113\n",
       "29. 264\n",
       "30. 175\n",
       "31. 335\n",
       "32. 109\n",
       "\n",
       "\n"
      ],
      "text/plain": [
       " [1] 110 110  93 110 175 105 245  62  95 123 123 180 180 180 205 215 230  66  52\n",
       "[20]  65  97 150 150 245 175  66  91 113 264 175 335 109"
      ]
     },
     "metadata": {},
     "output_type": "display_data"
    },
    {
     "data": {
      "image/png": "[encoded data removed]",
      "text/plain": [
       "Plot with title \"Histogram of mtcars$hp\""
      ]
     },
     "metadata": {},
     "output_type": "display_data"
    }
   ],
   "source": [
    "mtcars$hp\n",
    "hist(mtcars$hp)"
   ]
  },
  {
   "cell_type": "markdown",
   "id": "korean-premium",
   "metadata": {},
   "source": [
    "组间距由breaks参数控制"
   ]
  },
  {
   "cell_type": "code",
   "execution_count": 13,
   "id": "controlled-hostel",
   "metadata": {},
   "outputs": [
    {
     "data": {
      "image/png": "[encoded data removed]",
      "text/plain": [
       "Plot with title \"Horsepower\""
      ]
     },
     "metadata": {},
     "output_type": "display_data"
    }
   ],
   "source": [
    "hist(mtcars$hp,breaks=seq(0,400,25),col=\"gray\",main=\"Horsepower\",xlab=\"HP\")\n",
    "abline(v=c(mean(mtcars$hp),median(mtcars$hp)),lty=c(2,3),lwd=2)\n",
    "legend(\"topright\",legend=c(\"mean HP\",\"median HP\"),lty=c(2,3),lwd=2)"
   ]
  },
  {
   "cell_type": "code",
   "execution_count": 14,
   "id": "administrative-resort",
   "metadata": {},
   "outputs": [
    {
     "name": "stderr",
     "output_type": "stream",
     "text": [
      "`stat_bin()` using `bins = 30`. Pick better value with `binwidth`.\n"
     ]
    },
    {
     "data": {
      "image/png": "[encoded data removed]",
      "text/plain": [
       "plot without title"
      ]
     },
     "metadata": {},
     "output_type": "display_data"
    },
    {
     "data": {
      "image/png": "[encoded data removed]",
      "text/plain": [
       "plot without title"
      ]
     },
     "metadata": {},
     "output_type": "display_data"
    }
   ],
   "source": [
    "library(\"ggplot2\")\n",
    "qplot(mtcars$hp)\n",
    "\n",
    "qplot(mtcars$hp,geom=\"blank\",main=\"Horsepower\",xlab=\"HP\") + geom_histogram(color=\"black\",fill=\"white\",breaks=seq(0,400,25),closed=\"right\") + geom_vline(mapping=aes(xintercept=c(mean(mtcars$hp),median(mtcars$hp)),linetype=factor(c(\"mean\",\"median\"))),show.legend=TRUE) + scale_linetype_manual(values=c(2,3)) + labs(linetype=\"\")"
   ]
  },
  {
   "cell_type": "markdown",
   "id": "external-highway",
   "metadata": {},
   "source": [
    "## 核密度图"
   ]
  },
  {
   "cell_type": "code",
   "execution_count": 9,
   "id": "standing-musician",
   "metadata": {
    "collapsed": true
   },
   "outputs": [
    {
     "data": {
      "image/png": "[encoded data removed]",
      "text/plain": [
       "Plot with title \"整体\""
      ]
     },
     "metadata": {},
     "output_type": "display_data"
    }
   ],
   "source": [
    "x = c(1,2,3,4,5,6,67,8,2,432,34,543,55,232,32,32,56,54,7)\n",
    "hist(x,xlim=c(min(x),max(x)),ylim = c(0,0.12),probability = T,col = 'green',main=\"整体\",border=\"white\")  # probability T代表频率，F代表频数\n",
    "lines(density(x,bw=2),col=\"red\",lwd=3)   # density是核密度图，bw=0.001：核密度曲线的平滑度。数越大，越平滑，border=‘white’：柱子边界白色"
   ]
  },
  {
   "cell_type": "markdown",
   "id": "stone-chambers",
   "metadata": {
    "heading_collapsed": true
   },
   "source": [
    "# ggplot2绘图"
   ]
  },
  {
   "cell_type": "markdown",
   "id": "stuck-recycling",
   "metadata": {
    "hidden": true
   },
   "source": [
    "## 基本使用"
   ]
  },
  {
   "cell_type": "code",
   "execution_count": 4,
   "id": "vietnamese-verse",
   "metadata": {
    "collapsed": true,
    "hidden": true
   },
   "outputs": [
    {
     "name": "stderr",
     "output_type": "stream",
     "text": [
      "Warning message:\n",
      "\"package 'ggplot2' was built under R version 3.6.3\""
     ]
    },
    {
     "data": {
      "image/png": "[encoded data removed]",
      "text/plain": [
       "plot without title"
      ]
     },
     "metadata": {},
     "output_type": "display_data"
    }
   ],
   "source": [
    "library(ggplot2)\n",
    "foo <- c(1.1,2,3.5,3.9,4.2)\n",
    "bar <- c(2,2.2,-1.3,0,0.2)\n",
    "qplot(foo,bar)"
   ]
  },
  {
   "cell_type": "code",
   "execution_count": 6,
   "id": "military-manual",
   "metadata": {
    "collapsed": true,
    "hidden": true
   },
   "outputs": [
    {
     "data": {
      "image/png": "[encoded data removed]",
      "text/plain": [
       "plot without title"
      ]
     },
     "metadata": {},
     "output_type": "display_data"
    },
    {
     "data": {
      "image/png": "[encoded data removed]",
      "text/plain": [
       "plot without title"
      ]
     },
     "metadata": {},
     "output_type": "display_data"
    }
   ],
   "source": [
    "qplot(foo,bar,main=\"My lovely qplot\",xlab=\"x axis label\",ylab=\"location y\")\n",
    "\n",
    "qux <- qplot(foo,bar)\n",
    "qux"
   ]
  },
  {
   "cell_type": "markdown",
   "id": "standard-control",
   "metadata": {
    "hidden": true
   },
   "source": [
    "## 用geoms设置外观常量"
   ]
  },
  {
   "cell_type": "code",
   "execution_count": 9,
   "id": "romance-shower",
   "metadata": {
    "collapsed": true,
    "hidden": true
   },
   "outputs": [
    {
     "data": {
      "image/png": "[encoded data removed]",
      "text/plain": [
       "plot without title"
      ]
     },
     "metadata": {},
     "output_type": "display_data"
    },
    {
     "data": {
      "image/png": "[encoded data removed]",
      "text/plain": [
       "plot without title"
      ]
     },
     "metadata": {},
     "output_type": "display_data"
    }
   ],
   "source": [
    "qplot(foo,bar,geom=\"blank\") + geom_point() + geom_line()\n",
    "\n",
    "qplot(foo,bar,geom=\"blank\") + geom_point(size=3,shape=6,color=\"blue\") + geom_line(color=\"red\",linetype=2)"
   ]
  },
  {
   "cell_type": "code",
   "execution_count": 10,
   "id": "radical-clarity",
   "metadata": {
    "collapsed": true,
    "hidden": true
   },
   "outputs": [
    {
     "data": {
      "image/png": "[encoded data removed]",
      "text/plain": [
       "plot without title"
      ]
     },
     "metadata": {},
     "output_type": "display_data"
    },
    {
     "data": {
      "image/png": "[encoded data removed]",
      "text/plain": [
       "plot without title"
      ]
     },
     "metadata": {},
     "output_type": "display_data"
    }
   ],
   "source": [
    "myqplot <- qplot(foo,bar,geom=\"blank\") + geom_line(color=\"red\",linetype=2)\n",
    "myqplot + geom_point(size=3,shape=3,color=\"blue\")\n",
    "myqplot + geom_point(size=3,shape=7,color=\"blue\")"
   ]
  },
  {
   "cell_type": "markdown",
   "id": "magnetic-packing",
   "metadata": {
    "heading_collapsed": true,
    "hidden": true
   },
   "source": [
    "## geoms的美学映射"
   ]
  },
  {
   "cell_type": "code",
   "execution_count": 11,
   "id": "printable-creator",
   "metadata": {
    "hidden": true
   },
   "outputs": [
    {
     "data": {
      "text/html": [
       "<style>\n",
       ".list-inline {list-style: none; margin:0; padding: 0}\n",
       ".list-inline>li {display: inline-block}\n",
       ".list-inline>li:not(:last-child)::after {content: \"\\00b7\"; padding: 0 .5ex}\n",
       "</style>\n",
       "<ol class=list-inline><li>standard</li><li>standard</li><li>standard</li><li>standard</li><li>sweet</li><li>sweet</li><li>too_big</li><li>too_big</li><li>sweet</li><li>too_small</li><li>too_small</li><li>too_small</li><li>sweet</li><li>too_big</li><li>too_big</li><li>standard</li><li>too_small</li><li>too_small</li><li>standard</li><li>too_big</li></ol>\n",
       "\n",
       "<details>\n",
       "\t<summary style=display:list-item;cursor:pointer>\n",
       "\t\t<strong>Levels</strong>:\n",
       "\t</summary>\n",
       "\t<style>\n",
       "\t.list-inline {list-style: none; margin:0; padding: 0}\n",
       "\t.list-inline>li {display: inline-block}\n",
       "\t.list-inline>li:not(:last-child)::after {content: \"\\00b7\"; padding: 0 .5ex}\n",
       "\t</style>\n",
       "\t<ol class=list-inline><li>'standard'</li><li>'sweet'</li><li>'too_big'</li><li>'too_small'</li></ol>\n",
       "</details>"
      ],
      "text/latex": [
       "\\begin{enumerate*}\n",
       "\\item standard\n",
       "\\item standard\n",
       "\\item standard\n",
       "\\item standard\n",
       "\\item sweet\n",
       "\\item sweet\n",
       "\\item too\\_big\n",
       "\\item too\\_big\n",
       "\\item sweet\n",
       "\\item too\\_small\n",
       "\\item too\\_small\n",
       "\\item too\\_small\n",
       "\\item sweet\n",
       "\\item too\\_big\n",
       "\\item too\\_big\n",
       "\\item standard\n",
       "\\item too\\_small\n",
       "\\item too\\_small\n",
       "\\item standard\n",
       "\\item too\\_big\n",
       "\\end{enumerate*}\n",
       "\n",
       "\\emph{Levels}: \\begin{enumerate*}\n",
       "\\item 'standard'\n",
       "\\item 'sweet'\n",
       "\\item 'too\\_big'\n",
       "\\item 'too\\_small'\n",
       "\\end{enumerate*}\n"
      ],
      "text/markdown": [
       "1. standard\n",
       "2. standard\n",
       "3. standard\n",
       "4. standard\n",
       "5. sweet\n",
       "6. sweet\n",
       "7. too_big\n",
       "8. too_big\n",
       "9. sweet\n",
       "10. too_small\n",
       "11. too_small\n",
       "12. too_small\n",
       "13. sweet\n",
       "14. too_big\n",
       "15. too_big\n",
       "16. standard\n",
       "17. too_small\n",
       "18. too_small\n",
       "19. standard\n",
       "20. too_big\n",
       "\n",
       "\n",
       "\n",
       "**Levels**: 1. 'standard'\n",
       "2. 'sweet'\n",
       "3. 'too_big'\n",
       "4. 'too_small'\n",
       "\n",
       "\n"
      ],
      "text/plain": [
       " [1] standard  standard  standard  standard  sweet     sweet     too_big  \n",
       " [8] too_big   sweet     too_small too_small too_small sweet     too_big  \n",
       "[15] too_big   standard  too_small too_small standard  too_big  \n",
       "Levels: standard sweet too_big too_small"
      ]
     },
     "metadata": {},
     "output_type": "display_data"
    },
    {
     "data": {
      "image/png": "[encoded data removed]",
      "text/plain": [
       "plot without title"
      ]
     },
     "metadata": {},
     "output_type": "display_data"
    },
    {
     "data": {
      "image/png": "[encoded data removed]",
      "text/plain": [
       "plot without title"
      ]
     },
     "metadata": {},
     "output_type": "display_data"
    }
   ],
   "source": [
    "x <- 1:20\n",
    "y <- c(-1.49,3.37,2.59,-2.78,-3.94,-0.92,6.43,8.51,3.41,-8.23,-12.01,-6.58,2.87,14.12,9.63,-4.58,-14.78,-11.67,1.17,15.62)\n",
    "\n",
    "#\n",
    "\n",
    "ptype <- rep(NA,length(x=x))\n",
    "ptype[y>=5] <- \"too_big\"\n",
    "ptype[y<=-5] <- \"too_small\"\n",
    "ptype[(x>=5&x<=15)&(y>-5&y<5)] <- \"sweet\"\n",
    "ptype[(x<5|x>15)&(y>-5&y<5)] <- \"standard\"\n",
    "ptype <- factor(x=ptype)\n",
    "ptype\n",
    "\n",
    "#\n",
    "\n",
    "qplot(x,y,color=ptype,shape=ptype)\n",
    "\n",
    "#\n",
    "\n",
    "qplot(x,y,color=ptype,shape=ptype) + geom_point(size=4) + geom_line(mapping=aes(group=1),color=\"black\",lty=2) + geom_hline(mapping=aes(yintercept=c(-5,5)),color=\"red\") + geom_segment(mapping=aes(x=5,y=-5,xend=5,yend=5),color=\"red\",lty=3) + geom_segment(mapping=aes(x=15,y=-5,xend=15,yend=5),color=\"red\",lty=3)\n"
   ]
  },
  {
   "cell_type": "markdown",
   "id": "white-smith",
   "metadata": {},
   "source": [
    "# 常见概率分布"
   ]
  },
  {
   "cell_type": "markdown",
   "id": "proved-steal",
   "metadata": {},
   "source": [
    "R中与xxx分布有关的函数包括：\n",
    "\n",
    "+ dxxx(x)， 即xxx分布的分布密度函数(PDF)或概率函数(PMF)p(x)。（某一点的概率）\n",
    "\n",
    "+ pxxx(q)， 即xxx分布的分布函数(CDF)$F(q)=P(X \\leq q)$。（累计概率）\n",
    "\n",
    "+ qxxx(p)， 即xxx分布的分位数函数q(p), $p \\in (0,1)$， 对连续型分布，$q(p) = F^{-1}(p)$， 即F(x)=p的解x。\n",
    "\n",
    "+ rxxx(n)， 即xxx的随机数函数，可以生成n个xxx的随机数。\n",
    "\n",
    "dxxx(x)函数可以加选项log=TRUE， 用来计算$\\ln p(x)$， 这在计算对数似然函数时有用， 比log(dxxx(x))更精确。\n",
    "\n",
    "pxxx(q)可以加选项lower.tail=FALSE， 变成计算$P(X>q) = 1 - F(q)$。\n",
    "\n",
    "qxxx(p)可以加选项lower.tail=TRUE， 表示求P(X>x)=p的解x； 可以加选项log.p=TRUE， 表示输入的p实际是$\\ln p$。\n",
    "\n",
    "这些函数都可以带有自己的分布参数， 有些分布参数有缺省值， 比如正态分布的缺省参数值为零均值单位标准差。\n",
    "\n",
    "具体的分布类型可以在R命令行用?Distributions查看列表。 常用的分布密度有：\n",
    "\n",
    "+ 离散分布有dbinom二项分布, dpois泊松分布， dgeom几何分布， dnbinom负二项分布， dmultinom多项分布， dhyper超几何分布。\n",
    "+ 连续分布有 dunif均匀分布， dnorm正态分布， dchisq卡方分布， dt t分布(包括非中心t)， df F分布， dexp指数分布， dweibull 威布尔分布， dgamma 伽马分布， dbeta 贝塔分布， dlnorm 对数正态分布， dcauchy 柯西分布, dlogis 逻辑斯谛分布。"
   ]
  },
  {
   "cell_type": "markdown",
   "id": "personalized-electricity",
   "metadata": {},
   "source": [
    "## 离散型分布"
   ]
  },
  {
   "cell_type": "markdown",
   "id": "addressed-campus",
   "metadata": {},
   "source": [
    "### 伯努利分布"
   ]
  },
  {
   "cell_type": "markdown",
   "id": "offshore-yahoo",
   "metadata": {
    "heading_collapsed": true
   },
   "source": [
    "### 二项分布(binom)"
   ]
  },
  {
   "cell_type": "markdown",
   "id": "equivalent-mixer",
   "metadata": {
    "hidden": true
   },
   "source": [
    "dbinom：PDF函数，某一点的值"
   ]
  },
  {
   "cell_type": "code",
   "execution_count": 1,
   "id": "introductory-partner",
   "metadata": {
    "hidden": true
   },
   "outputs": [
    {
     "data": {
      "text/html": [
       "0.00416761926535589"
      ],
      "text/latex": [
       "0.00416761926535589"
      ],
      "text/markdown": [
       "0.00416761926535589"
      ],
      "text/plain": [
       "[1] 0.004167619"
      ]
     },
     "metadata": {},
     "output_type": "display_data"
    },
    {
     "data": {
      "text/html": [
       "<style>\n",
       ".list-inline {list-style: none; margin:0; padding: 0}\n",
       ".list-inline>li {display: inline-block}\n",
       ".list-inline>li:not(:last-child)::after {content: \"\\00b7\"; padding: 0 .5ex}\n",
       "</style>\n",
       "<ol class=list-inline><li>0.232568039361378</li><li>0.372108862978205</li><li>0.260476204084743</li><li>0.104190481633897</li><li>0.0260476204084743</li><li>0.00416761926535589</li><li>0.000416761926535589</li><li>2.3814967230605e-05</li><li>5.95374180765127e-07</li></ol>\n"
      ],
      "text/latex": [
       "\\begin{enumerate*}\n",
       "\\item 0.232568039361378\n",
       "\\item 0.372108862978205\n",
       "\\item 0.260476204084743\n",
       "\\item 0.104190481633897\n",
       "\\item 0.0260476204084743\n",
       "\\item 0.00416761926535589\n",
       "\\item 0.000416761926535589\n",
       "\\item 2.3814967230605e-05\n",
       "\\item 5.95374180765127e-07\n",
       "\\end{enumerate*}\n"
      ],
      "text/markdown": [
       "1. 0.232568039361378\n",
       "2. 0.372108862978205\n",
       "3. 0.260476204084743\n",
       "4. 0.104190481633897\n",
       "5. 0.0260476204084743\n",
       "6. 0.00416761926535589\n",
       "7. 0.000416761926535589\n",
       "8. 2.3814967230605e-05\n",
       "9. 5.95374180765127e-07\n",
       "\n",
       "\n"
      ],
      "text/plain": [
       "[1] 2.325680e-01 3.721089e-01 2.604762e-01 1.041905e-01 2.604762e-02\n",
       "[6] 4.167619e-03 4.167619e-04 2.381497e-05 5.953742e-07"
      ]
     },
     "metadata": {},
     "output_type": "display_data"
    },
    {
     "data": {
      "text/html": [
       "1"
      ],
      "text/latex": [
       "1"
      ],
      "text/markdown": [
       "1"
      ],
      "text/plain": [
       "[1] 1"
      ]
     },
     "metadata": {},
     "output_type": "display_data"
    },
    {
     "data": {
      "text/html": [
       "<style>\n",
       ".list-inline {list-style: none; margin:0; padding: 0}\n",
       ".list-inline>li {display: inline-block}\n",
       ".list-inline>li:not(:last-child)::after {content: \"\\00b7\"; padding: 0 .5ex}\n",
       "</style>\n",
       "<ol class=list-inline><li>0.233</li><li>0.372</li><li>0.26</li><li>0.104</li><li>0.026</li><li>0.004</li><li>0</li><li>0</li><li>0</li></ol>\n"
      ],
      "text/latex": [
       "\\begin{enumerate*}\n",
       "\\item 0.233\n",
       "\\item 0.372\n",
       "\\item 0.26\n",
       "\\item 0.104\n",
       "\\item 0.026\n",
       "\\item 0.004\n",
       "\\item 0\n",
       "\\item 0\n",
       "\\item 0\n",
       "\\end{enumerate*}\n"
      ],
      "text/markdown": [
       "1. 0.233\n",
       "2. 0.372\n",
       "3. 0.26\n",
       "4. 0.104\n",
       "5. 0.026\n",
       "6. 0.004\n",
       "7. 0\n",
       "8. 0\n",
       "9. 0\n",
       "\n",
       "\n"
      ],
      "text/plain": [
       "[1] 0.233 0.372 0.260 0.104 0.026 0.004 0.000 0.000 0.000"
      ]
     },
     "metadata": {},
     "output_type": "display_data"
    }
   ],
   "source": [
    "dbinom(x=5,size=8,prob=1/6)\n",
    "\n",
    "# 0-8所有的概率\n",
    "X.prob <- dbinom(x=0:8,size=8,prob=1/6)\n",
    "X.prob\n",
    "\n",
    "# 概率和为1\n",
    "sum(X.prob)\n",
    "\n",
    "# 保留三位小数\n",
    "round(X.prob,3)"
   ]
  },
  {
   "cell_type": "code",
   "execution_count": 8,
   "id": "durable-solid",
   "metadata": {
    "collapsed": true,
    "hidden": true
   },
   "outputs": [
    {
     "data": {
      "image/png": "[encoded data removed]",
      "text/plain": [
       "plot without title"
      ]
     },
     "metadata": {},
     "output_type": "display_data"
    }
   ],
   "source": [
    "barplot(X.prob,names.arg=0:8,space=0,xlab=\"x\",ylab=\"Pr(X = x)\")"
   ]
  },
  {
   "cell_type": "markdown",
   "id": "latest-chapel",
   "metadata": {
    "hidden": true
   },
   "source": [
    "平均值$\\mu=np$\n",
    "\n",
    "方差$\\sigma^2=np(1-p)$"
   ]
  },
  {
   "cell_type": "markdown",
   "id": "pretty-baker",
   "metadata": {
    "hidden": true
   },
   "source": [
    "$pbinom$函数：累积概率"
   ]
  },
  {
   "cell_type": "code",
   "execution_count": 10,
   "id": "perfect-array",
   "metadata": {
    "hidden": true
   },
   "outputs": [
    {
     "data": {
      "text/html": [
       "0.969343588058223"
      ],
      "text/latex": [
       "0.969343588058223"
      ],
      "text/markdown": [
       "0.969343588058223"
      ],
      "text/plain": [
       "[1] 0.9693436"
      ]
     },
     "metadata": {},
     "output_type": "display_data"
    },
    {
     "data": {
      "text/html": [
       "0.969343588058223"
      ],
      "text/latex": [
       "0.969343588058223"
      ],
      "text/markdown": [
       "0.969343588058223"
      ],
      "text/plain": [
       "[1] 0.9693436"
      ]
     },
     "metadata": {},
     "output_type": "display_data"
    }
   ],
   "source": [
    "sum(dbinom(x=0:3,size=8,prob=1/6))\n",
    "pbinom(q=3,size=8,prob=1/6)      # q是变量值"
   ]
  },
  {
   "cell_type": "markdown",
   "id": "great-albuquerque",
   "metadata": {
    "hidden": true
   },
   "source": [
    "$rbinom$函数：产生服从二项分布的随机数"
   ]
  },
  {
   "cell_type": "code",
   "execution_count": 18,
   "id": "differential-motorcycle",
   "metadata": {
    "hidden": true
   },
   "outputs": [
    {
     "data": {
      "text/html": [
       "2"
      ],
      "text/latex": [
       "2"
      ],
      "text/markdown": [
       "2"
      ],
      "text/plain": [
       "[1] 2"
      ]
     },
     "metadata": {},
     "output_type": "display_data"
    },
    {
     "data": {
      "text/html": [
       "1"
      ],
      "text/latex": [
       "1"
      ],
      "text/markdown": [
       "1"
      ],
      "text/plain": [
       "[1] 1"
      ]
     },
     "metadata": {},
     "output_type": "display_data"
    },
    {
     "data": {
      "text/html": [
       "1"
      ],
      "text/latex": [
       "1"
      ],
      "text/markdown": [
       "1"
      ],
      "text/plain": [
       "[1] 1"
      ]
     },
     "metadata": {},
     "output_type": "display_data"
    },
    {
     "data": {
      "text/html": [
       "<style>\n",
       ".list-inline {list-style: none; margin:0; padding: 0}\n",
       ".list-inline>li {display: inline-block}\n",
       ".list-inline>li:not(:last-child)::after {content: \"\\00b7\"; padding: 0 .5ex}\n",
       "</style>\n",
       "<ol class=list-inline><li>2</li><li>1</li><li>2</li></ol>\n"
      ],
      "text/latex": [
       "\\begin{enumerate*}\n",
       "\\item 2\n",
       "\\item 1\n",
       "\\item 2\n",
       "\\end{enumerate*}\n"
      ],
      "text/markdown": [
       "1. 2\n",
       "2. 1\n",
       "3. 2\n",
       "\n",
       "\n"
      ],
      "text/plain": [
       "[1] 2 1 2"
      ]
     },
     "metadata": {},
     "output_type": "display_data"
    }
   ],
   "source": [
    "rbinom(n=1,size=8,prob=1/6)  # n是产生的数量\n",
    "rbinom(n=1,size=8,prob=1/6)\n",
    "rbinom(n=1,size=8,prob=1/6)\n",
    "rbinom(n=3,size=8,prob=1/6)"
   ]
  },
  {
   "cell_type": "markdown",
   "id": "appointed-hostel",
   "metadata": {
    "heading_collapsed": true
   },
   "source": [
    "### 泊松分布(pois)"
   ]
  },
  {
   "cell_type": "markdown",
   "id": "western-stockholm",
   "metadata": {
    "hidden": true
   },
   "source": [
    "$P(X=k)=\\frac{\\lambda^k}{k!}e^{-\\lambda}   \\lambda>0 , k=0,1,2,...,n$\n",
    "\n",
    "泊松分布的均值和方差均是$\\lambda$\n",
    "\n",
    "lambda即是$\\lambda$"
   ]
  },
  {
   "cell_type": "code",
   "execution_count": 20,
   "id": "instant-williams",
   "metadata": {
    "hidden": true
   },
   "outputs": [
    {
     "data": {
      "text/html": [
       "0.222324913990773"
      ],
      "text/latex": [
       "0.222324913990773"
      ],
      "text/markdown": [
       "0.222324913990773"
      ],
      "text/plain": [
       "[1] 0.2223249"
      ]
     },
     "metadata": {},
     "output_type": "display_data"
    },
    {
     "data": {
      "text/html": [
       "0.0399550582606539"
      ],
      "text/latex": [
       "0.0399550582606539"
      ],
      "text/markdown": [
       "0.0399550582606539"
      ],
      "text/plain": [
       "[1] 0.03995506"
      ]
     },
     "metadata": {},
     "output_type": "display_data"
    },
    {
     "data": {
      "text/html": [
       "<style>\n",
       ".list-inline {list-style: none; margin:0; padding: 0}\n",
       ".list-inline>li {display: inline-block}\n",
       ".list-inline>li:not(:last-child)::after {content: \"\\00b7\"; padding: 0 .5ex}\n",
       "</style>\n",
       "<ol class=list-inline><li>0.04</li><li>0.129</li><li>0.207</li><li>0.222</li><li>0.179</li><li>0.115</li><li>0.062</li><li>0.028</li><li>0.011</li><li>0.004</li><li>0.001</li></ol>\n"
      ],
      "text/latex": [
       "\\begin{enumerate*}\n",
       "\\item 0.04\n",
       "\\item 0.129\n",
       "\\item 0.207\n",
       "\\item 0.222\n",
       "\\item 0.179\n",
       "\\item 0.115\n",
       "\\item 0.062\n",
       "\\item 0.028\n",
       "\\item 0.011\n",
       "\\item 0.004\n",
       "\\item 0.001\n",
       "\\end{enumerate*}\n"
      ],
      "text/markdown": [
       "1. 0.04\n",
       "2. 0.129\n",
       "3. 0.207\n",
       "4. 0.222\n",
       "5. 0.179\n",
       "6. 0.115\n",
       "7. 0.062\n",
       "8. 0.028\n",
       "9. 0.011\n",
       "10. 0.004\n",
       "11. 0.001\n",
       "\n",
       "\n"
      ],
      "text/plain": [
       " [1] 0.040 0.129 0.207 0.222 0.179 0.115 0.062 0.028 0.011 0.004 0.001"
      ]
     },
     "metadata": {},
     "output_type": "display_data"
    }
   ],
   "source": [
    "dpois(x=3,lambda=3.22)\n",
    "dpois(x=0,lambda=3.22)\n",
    "round(dpois(0:10,3.22),3)"
   ]
  },
  {
   "cell_type": "code",
   "execution_count": 21,
   "id": "terminal-organization",
   "metadata": {
    "hidden": true
   },
   "outputs": [
    {
     "data": {
      "image/png": "[encoded data removed]",
      "text/plain": [
       "plot without title"
      ]
     },
     "metadata": {},
     "output_type": "display_data"
    }
   ],
   "source": [
    "barplot(dpois(x=0:10,lambda=3.22),ylim=c(0,0.25),space=0,names.arg=0:10,ylab=\"Pr(X=x)\",xlab=\"x\")"
   ]
  },
  {
   "cell_type": "code",
   "execution_count": 22,
   "id": "sufficient-accuracy",
   "metadata": {
    "hidden": true
   },
   "outputs": [
    {
     "data": {
      "text/html": [
       "0.375745358894842"
      ],
      "text/latex": [
       "0.375745358894842"
      ],
      "text/markdown": [
       "0.375745358894842"
      ],
      "text/plain": [
       "[1] 0.3757454"
      ]
     },
     "metadata": {},
     "output_type": "display_data"
    }
   ],
   "source": [
    "# 累积概率\n",
    "ppois(q=2,lambda=3.22)\n",
    "# barplot(ppois(q=0:10,lambda=3.22),ylim=0:1,space=0,names.arg=0:10,ylab=\"Pr(X<=x)\",xlab=\"x\")"
   ]
  },
  {
   "cell_type": "markdown",
   "id": "french-visibility",
   "metadata": {},
   "source": [
    "## 连续型分布"
   ]
  },
  {
   "cell_type": "markdown",
   "id": "pediatric-auction",
   "metadata": {},
   "source": [
    "### 均匀分布(unif)"
   ]
  },
  {
   "cell_type": "markdown",
   "id": "eleven-sunday",
   "metadata": {},
   "source": [
    "### 正态分布"
   ]
  },
  {
   "cell_type": "markdown",
   "id": "fuzzy-officer",
   "metadata": {},
   "source": [
    "$X$~$N(\\mu,\\delta^2)$\n",
    "\n",
    "$f(x)=\\frac{1}{\\sqrt{2\\pi}\\delta}e^{-\\frac{(x-\\mu)^2}{2\\delta^2}}$"
   ]
  },
  {
   "cell_type": "markdown",
   "id": "numeric-command",
   "metadata": {},
   "source": [
    "$dnorm$函数\n",
    "默认生成标准正态分布"
   ]
  },
  {
   "cell_type": "code",
   "execution_count": 24,
   "id": "empty-hands",
   "metadata": {},
   "outputs": [
    {
     "data": {
      "text/html": [
       "<style>\n",
       ".list-inline {list-style: none; margin:0; padding: 0}\n",
       ".list-inline>li {display: inline-block}\n",
       ".list-inline>li:not(:last-child)::after {content: \"\\00b7\"; padding: 0 .5ex}\n",
       "</style>\n",
       "<ol class=list-inline><li>0.000133830225764885</li><li>0.00315601631641804</li><li>0.0337736510352706</li><li>0.164010074675994</li><li>0.361423829882744</li><li>0.361423829882744</li><li>0.164010074675994</li><li>0.0337736510352707</li><li>0.00315601631641805</li><li>0.000133830225764885</li></ol>\n"
      ],
      "text/latex": [
       "\\begin{enumerate*}\n",
       "\\item 0.000133830225764885\n",
       "\\item 0.00315601631641804\n",
       "\\item 0.0337736510352706\n",
       "\\item 0.164010074675994\n",
       "\\item 0.361423829882744\n",
       "\\item 0.361423829882744\n",
       "\\item 0.164010074675994\n",
       "\\item 0.0337736510352707\n",
       "\\item 0.00315601631641805\n",
       "\\item 0.000133830225764885\n",
       "\\end{enumerate*}\n"
      ],
      "text/markdown": [
       "1. 0.000133830225764885\n",
       "2. 0.00315601631641804\n",
       "3. 0.0337736510352706\n",
       "4. 0.164010074675994\n",
       "5. 0.361423829882744\n",
       "6. 0.361423829882744\n",
       "7. 0.164010074675994\n",
       "8. 0.0337736510352707\n",
       "9. 0.00315601631641805\n",
       "10. 0.000133830225764885\n",
       "\n",
       "\n"
      ],
      "text/plain": [
       " [1] 0.0001338302 0.0031560163 0.0337736510 0.1640100747 0.3614238299\n",
       " [6] 0.3614238299 0.1640100747 0.0337736510 0.0031560163 0.0001338302"
      ]
     },
     "metadata": {},
     "output_type": "display_data"
    }
   ],
   "source": [
    "xvals <- seq(-4,4,length=10)\n",
    "fx <- dnorm(xvals,mean=0,sd=1)\n",
    "fx"
   ]
  },
  {
   "cell_type": "markdown",
   "id": "combined-response",
   "metadata": {},
   "source": [
    "$pnorm函数$"
   ]
  },
  {
   "cell_type": "code",
   "execution_count": 27,
   "id": "satisfactory-blair",
   "metadata": {},
   "outputs": [
    {
     "data": {
      "text/html": [
       "-3.62"
      ],
      "text/latex": [
       "-3.62"
      ],
      "text/markdown": [
       "-3.62"
      ],
      "text/plain": [
       "[1] -3.62"
      ]
     },
     "metadata": {},
     "output_type": "display_data"
    },
    {
     "data": {
      "text/html": [
       "-3.22"
      ],
      "text/latex": [
       "-3.22"
      ],
      "text/markdown": [
       "-3.22"
      ],
      "text/plain": [
       "[1] -3.22"
      ]
     },
     "metadata": {},
     "output_type": "display_data"
    },
    {
     "data": {
      "text/html": [
       "0.682689492137086"
      ],
      "text/latex": [
       "0.682689492137086"
      ],
      "text/markdown": [
       "0.682689492137086"
      ],
      "text/plain": [
       "[1] 0.6826895"
      ]
     },
     "metadata": {},
     "output_type": "display_data"
    }
   ],
   "source": [
    "mu <- -3.42\n",
    "sigma <- 0.2\n",
    "mu.minus.1sig <- mu-sigma\n",
    "mu.minus.1sig\n",
    "mu.plus.1sig <- mu+sigma\n",
    "mu.plus.1sig\n",
    "pnorm(q=mu.plus.1sig,mean=mu,sd=sigma) - pnorm(q=mu.minus.1sig,mean=mu,sd=sigma)"
   ]
  },
  {
   "cell_type": "code",
   "execution_count": 29,
   "id": "reasonable-buffalo",
   "metadata": {
    "collapsed": true
   },
   "outputs": [
    {
     "data": {
      "image/png": "[encoded data removed]",
      "text/plain": [
       "Plot with title \"N(-3.42,0.2) distribution\""
      ]
     },
     "metadata": {},
     "output_type": "display_data"
    }
   ],
   "source": [
    "xvals <- seq(-5,-2,length=300)\n",
    "fx <- dnorm(xvals,mean=mu,sd=sigma)\n",
    "plot(xvals,fx,type=\"l\",xlim=c(-4.4,-2.5),main=\"N(-3.42,0.2) distribution\",xlab=\"x\",ylab=\"f(x)\")\n",
    "abline(h=0,col=\"gray\")\n",
    "abline(v=c(mu.plus.1sig,mu.minus.1sig),lty=3:2)\n",
    "legend(\"topleft\",legend=c(\"-3.62\\n(mean - 1 sd)\",\"\\n-3.22\\n(mean + 1 sd)\"),lty=2:3,bty=\"n\")\n",
    "xvals.sub <- xvals[xvals>=mu.minus.1sig & xvals<=mu.plus.1sig]\n",
    "fx.sub <- fx[xvals>=mu.minus.1sig & xvals<=mu.plus.1sig]\n",
    "\n",
    "polygon(rbind(c(mu.minus.1sig,0),cbind(xvals.sub,fx.sub),c(mu.plus.1sig,0)),border=NA,col=\"gray\")\n",
    "\n",
    "arrows(c(-4.2,-2.7,-2.9),c(0.5,0.5,1.2),c(-3.7,-3.15,-3.4),c(0.2,0.2,1))\n",
    "text(c(-4.2,-2.7,-2.9),c(0.5,0.5,1.2)+0.05,labels=c(\"0.159\",\"0.159\",\"0.682\"))"
   ]
  },
  {
   "cell_type": "markdown",
   "id": "contrary-duplicate",
   "metadata": {
    "heading_collapsed": true
   },
   "source": [
    "### 学生t分布"
   ]
  },
  {
   "cell_type": "markdown",
   "id": "ready-negotiation",
   "metadata": {
    "hidden": true
   },
   "source": [
    "通过自由度来选择t分布，自由度通常与样本大小直接相关"
   ]
  },
  {
   "cell_type": "code",
   "execution_count": 15,
   "id": "patent-mechanics",
   "metadata": {
    "hidden": true
   },
   "outputs": [
    {
     "data": {
      "text/html": [
       "6.31375151467504"
      ],
      "text/latex": [
       "6.31375151467504"
      ],
      "text/markdown": [
       "6.31375151467504"
      ],
      "text/plain": [
       "[1] 6.313752"
      ]
     },
     "metadata": {},
     "output_type": "display_data"
    },
    {
     "data": {
      "text/html": [
       "1.9431802805153"
      ],
      "text/latex": [
       "1.9431802805153"
      ],
      "text/markdown": [
       "1.9431802805153"
      ],
      "text/plain": [
       "[1] 1.94318"
      ]
     },
     "metadata": {},
     "output_type": "display_data"
    },
    {
     "data": {
      "text/html": [
       "1.72471824292079"
      ],
      "text/latex": [
       "1.72471824292079"
      ],
      "text/markdown": [
       "1.72471824292079"
      ],
      "text/plain": [
       "[1] 1.724718"
      ]
     },
     "metadata": {},
     "output_type": "display_data"
    }
   ],
   "source": [
    "qt(1-0.05,df=1)\n",
    "qt(1-0.05,df=6)\n",
    "qt(1-0.05,df=20)"
   ]
  },
  {
   "cell_type": "code",
   "execution_count": 39,
   "id": "elegant-craps",
   "metadata": {
    "hidden": true
   },
   "outputs": [
    {
     "data": {
      "image/png": "[encoded data removed]",
      "text/plain": [
       "Plot with title \"学生t分布\""
      ]
     },
     "metadata": {},
     "output_type": "display_data"
    }
   ],
   "source": [
    "hist(rt(100000,df = 20),breaks=seq(-7,7,0.1),col=\"red\",main=\"学生t分布\",xlab=\"HP\")"
   ]
  },
  {
   "cell_type": "markdown",
   "id": "understanding-wallace",
   "metadata": {},
   "source": [
    "### 指数分布(exp)"
   ]
  },
  {
   "cell_type": "markdown",
   "id": "honey-attribute",
   "metadata": {},
   "source": [
    "密度函数$f(x)=\\lambda e^{-\\lambda x}$\n",
    "平均值$\\mu=\\frac{1}{\\lambda}$  方差$\\delta^2=\\frac{1}{\\lambda^2}$"
   ]
  },
  {
   "cell_type": "code",
   "execution_count": 40,
   "id": "lightweight-crime",
   "metadata": {},
   "outputs": [
    {
     "data": {
      "image/png": "[encoded data removed]",
      "text/plain": [
       "plot without title"
      ]
     },
     "metadata": {},
     "output_type": "display_data"
    }
   ],
   "source": [
    "xvals <- seq(0,10,length=200)\n",
    "plot(xvals,dexp(x=xvals,rate=1.65),xlim=c(0,8),ylim=c(0,1.65),type=\"l\",xlab=\"x\",ylab=\"f(x)\")\n",
    "lines(xvals,dexp(x=xvals,rate=1),lty=2)\n",
    "lines(xvals,dexp(x=xvals,rate=0.4),lty=3)\n",
    "abline(v=0,col=\"gray\")\n",
    "abline(h=0,col=\"gray\")\n",
    "legend(\"topright\",legend=c(\"EXP(1.65)\",\"EXP(1)\",\"EXP(0.4)\"),lty=1:3)"
   ]
  },
  {
   "cell_type": "markdown",
   "id": "fleet-shift",
   "metadata": {},
   "source": [
    "### 韦伯分布"
   ]
  },
  {
   "attachments": {
    "image.png": {
     "image/png": "[encoded data removed]"
    }
   },
   "cell_type": "markdown",
   "id": "pretty-great",
   "metadata": {},
   "source": [
    "![image.png](attachment:image.png)\n",
    "其中，x是随机变量，λ>0是比例参数（scale parameter），k>0是形状参数（shape parameter）。显然，它的累积分布函数是扩展的指数分布函数，而且，Weibull distribution与很多分布都有关系。如，当k=1，它是指数分布；k=2且时，是Rayleigh distribution（瑞利分布）。"
   ]
  },
  {
   "cell_type": "code",
   "execution_count": 10,
   "id": "macro-polyester",
   "metadata": {},
   "outputs": [
    {
     "data": {
      "text/html": [
       "0.925017517414779"
      ],
      "text/latex": [
       "0.925017517414779"
      ],
      "text/markdown": [
       "0.925017517414779"
      ],
      "text/plain": [
       "[1] 0.9250175"
      ]
     },
     "metadata": {},
     "output_type": "display_data"
    },
    {
     "data": {
      "text/html": [
       "<strong>shape:</strong> 1.9671961357035"
      ],
      "text/latex": [
       "\\textbf{shape:} 1.9671961357035"
      ],
      "text/markdown": [
       "**shape:** 1.9671961357035"
      ],
      "text/plain": [
       "   shape \n",
       "1.967196 "
      ]
     },
     "metadata": {},
     "output_type": "display_data"
    },
    {
     "data": {
      "text/html": [
       "<strong>scale:</strong> 7.95481438060931"
      ],
      "text/latex": [
       "\\textbf{scale:} 7.95481438060931"
      ],
      "text/markdown": [
       "**scale:** 7.95481438060931"
      ],
      "text/plain": [
       "   scale \n",
       "7.954814 "
      ]
     },
     "metadata": {},
     "output_type": "display_data"
    }
   ],
   "source": [
    "library(MASS)\n",
    "s = rweibull(1000,2,scale = 8)\n",
    "tem<-fitdistr(s, densfun = \"weibull\",lower=c(1,1))   # lower代表最小的shape和scale\n",
    "\n",
    "shape<-tem$estimate[1]\n",
    "scale<-tem$estimate[2]\n",
    "k<-ks.test(jitter(s),\"pweibull\",shape=shape,scale=scale)\n",
    "\n",
    "# jitter(s),添加小的随机数作为噪声，防止点的重叠\n",
    "\n",
    "k$p.value\n",
    "shape\n",
    "scale"
   ]
  },
  {
   "cell_type": "markdown",
   "id": "bored-roberts",
   "metadata": {},
   "source": [
    "### ks.test"
   ]
  },
  {
   "cell_type": "markdown",
   "id": "about-ordering",
   "metadata": {},
   "source": [
    "Kolmogorov-Smirnov是比较一个频率分布f(x)与理论分布g(x)或者两个观测值分布的检验方法。其原假设H0:两个数据分布一致或者数据符合理论分布。D=max| f(x)- g(x)|，当实际观测值D>D(n,α)则拒绝H0，否则则接受H0假设。"
   ]
  },
  {
   "cell_type": "code",
   "execution_count": null,
   "id": "proud-louisiana",
   "metadata": {},
   "outputs": [],
   "source": [
    "library(MASS)\n",
    "s = rweibull(1000,2,scale = 8)\n",
    "tem<-fitdistr(s, densfun = \"weibull\",lower=c(1,1))   # lower代表最小的shape和scale\n",
    "\n",
    "shape<-tem$estimate[1]\n",
    "scale<-tem$estimate[2]\n",
    "k<-ks.test(jitter(s),\"pweibull\",shape=shape,scale=scale)\n",
    "\n",
    "# jitter(s),添加小的随机数作为噪声，防止点的重叠\n",
    "\n",
    "k$p.value\n",
    "shape\n",
    "scale"
   ]
  },
  {
   "cell_type": "markdown",
   "id": "powered-ticket",
   "metadata": {},
   "source": [
    "# 统计检验"
   ]
  },
  {
   "cell_type": "markdown",
   "id": "missing-testing",
   "metadata": {},
   "source": [
    "## 抽样分布"
   ]
  },
  {
   "cell_type": "markdown",
   "id": "elegant-difference",
   "metadata": {},
   "source": [
    "### 样本均值的分布"
   ]
  },
  {
   "cell_type": "markdown",
   "id": "fossil-plant",
   "metadata": {},
   "source": [
    "情况1：已知标准差\n",
    "+ 若X本身是正态的，则X抽样分布的样本均值是正态分布，平均值为$\\mu_x$，标准误差为$\\frac{\\delta_x}{\\sqrt{n}}$($\\delta$是总体的标准差)\n",
    "+ 若X本身是非正态的，则X抽样分布的样本均值近似服从正态分布，平均值为$\\mu_x$，标准误差为$\\frac{s_x}{\\sqrt{n}}$($s$是抽样分布的标准差)<br>\n",
    "\n",
    "\n",
    "情况2：标准差未知\n",
    "+ X的抽样分布的标准化值服从自由度v=n-1的t分布，使用标准误差为$\\frac{s_x}{\\sqrt{n}}$进行了标准化"
   ]
  },
  {
   "cell_type": "code",
   "execution_count": 19,
   "id": "immune-disability",
   "metadata": {
    "collapsed": true
   },
   "outputs": [
    {
     "data": {
      "image/png": "[encoded data removed]",
      "text/plain": [
       "plot without title"
      ]
     },
     "metadata": {},
     "output_type": "display_data"
    }
   ],
   "source": [
    "xvals <- seq(16,28,by=0.1)\n",
    "fx.samp <- dnorm(xvals,22,1.5/sqrt(5))\n",
    "plot(xvals,fx.samp,type=\"l\",lty=2,lwd=2,xlab=\"\",ylab=\"\")\n",
    "abline(h=0,col=\"gray\")\n",
    "fx <- dnorm(xvals,22,1.5)\n",
    "lines(xvals,fx,lwd=2)\n",
    "legend(\"topright\",legend=c(\"raw obs. distbn.\",\"sampling distbn. (mean)\"),lty=1:2,lwd=c(2,2),bty=\"n\") # this plot is continued below\n",
    "\n",
    "abline(v=21.5,col=\"gray\")\n",
    "xvals.sub <- xvals[xvals<=21.5]\n",
    "fx.sub <- fx[xvals<=21.5]\n",
    "fx.samp.sub <- fx.samp[xvals<=21.5]\n",
    "polygon(cbind(c(21.5,xvals.sub),c(0,fx.sub)),density=10)\n",
    "polygon(cbind(c(21.5,xvals.sub),c(0,fx.samp.sub)),density=10,angle=120,lty=2)"
   ]
  },
  {
   "cell_type": "markdown",
   "id": "honey-consensus",
   "metadata": {},
   "source": [
    "### 样本比例的分布"
   ]
  },
  {
   "cell_type": "markdown",
   "id": "mobile-competition",
   "metadata": {},
   "source": [
    "随机变量$\\hat{P}$表示n次试验中成功比例的估计，每次试验结果是0或1。估计式是$\\hat{p}=\\frac{x}{n}$，其中x是n次试验成功的次数。$\\pi$表示成功的比例。<br>\n",
    "$\\hat{P}$的抽样分布近似为正态分布，其平均值为$\\pi$，标准误差为$\\sqrt{\\pi(1-\\pi)/n}$\n",
    "+ 当真实$\\pi$未知时，用$\\hat{p}$代替"
   ]
  },
  {
   "cell_type": "markdown",
   "id": "later-absence",
   "metadata": {},
   "source": [
    "## 置信区间（CI）"
   ]
  },
  {
   "cell_type": "markdown",
   "id": "vanilla-equipment",
   "metadata": {},
   "source": [
    "+ 置信区间CI是下限l和上限u限定的间隔\n",
    "+ 置信水平：通常表示为百分比，用以构建$100*(1-\\alpha)百分比置信区间$"
   ]
  },
  {
   "cell_type": "markdown",
   "id": "prompt-sleep",
   "metadata": {},
   "source": [
    "### 平均值的置信区间"
   ]
  },
  {
   "cell_type": "markdown",
   "id": "capable-lover",
   "metadata": {},
   "source": [
    "## 假设检验"
   ]
  },
  {
   "cell_type": "code",
   "execution_count": 1,
   "id": "fifteen-julian",
   "metadata": {},
   "outputs": [
    {
     "data": {
      "text/html": [
       "2.69727008689334e-19"
      ],
      "text/latex": [
       "2.69727008689334e-19"
      ],
      "text/markdown": [
       "2.69727008689334e-19"
      ],
      "text/plain": [
       "[1] 2.69727e-19"
      ]
     },
     "metadata": {},
     "output_type": "display_data"
    }
   ],
   "source": [
    "dbinom(18,20,0.07) + dbinom(19,20,0.07) + dbinom(20,20,0.07)"
   ]
  },
  {
   "cell_type": "code",
   "execution_count": 3,
   "id": "secure-specialist",
   "metadata": {},
   "outputs": [
    {
     "data": {
      "text/html": [
       "2.69727008689334e-19"
      ],
      "text/latex": [
       "2.69727008689334e-19"
      ],
      "text/markdown": [
       "2.69727008689334e-19"
      ],
      "text/plain": [
       "[1] 2.69727e-19"
      ]
     },
     "metadata": {},
     "output_type": "display_data"
    }
   ],
   "source": [
    "sum(dbinom(c(18,19,20),20,0.07))"
   ]
  }
 ],
 "metadata": {
  "kernelspec": {
   "display_name": "R",
   "language": "R",
   "name": "ir"
  },
  "language_info": {
   "codemirror_mode": "r",
   "file_extension": ".r",
   "mimetype": "text/x-r-source",
   "name": "R",
   "pygments_lexer": "r",
   "version": "3.6.1"
  },
  "latex_envs": {
   "LaTeX_envs_menu_present": true,
   "autoclose": true,
   "autocomplete": true,
   "bibliofile": "biblio.bib",
   "cite_by": "apalike",
   "current_citInitial": 1,
   "eqLabelWithNumbers": true,
   "eqNumInitial": 1,
   "hotkeys": {
    "equation": "Ctrl-E",
    "itemize": "Ctrl-I"
   },
   "labels_anchors": false,
   "latex_user_defs": false,
   "report_style_numbering": false,
   "user_envs_cfg": false
  },
  "toc": {
   "base_numbering": 1,
   "nav_menu": {},
   "number_sections": true,
   "sideBar": true,
   "skip_h1_title": false,
   "title_cell": "Table of Contents",
   "title_sidebar": "Contents",
   "toc_cell": false,
   "toc_position": {
    "height": "calc(100% - 180px)",
    "left": "10px",
    "top": "150px",
    "width": "325.198px"
   },
   "toc_section_display": true,
   "toc_window_display": true
  }
 },
 "nbformat": 4,
 "nbformat_minor": 5
}
