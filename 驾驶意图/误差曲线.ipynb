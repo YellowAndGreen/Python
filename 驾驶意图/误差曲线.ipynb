{
 "cells": [
  {
   "cell_type": "markdown",
   "id": "sporting-cartoon",
   "metadata": {},
   "source": [
    "# 处理元数据"
   ]
  },
  {
   "cell_type": "markdown",
   "id": "opened-calcium",
   "metadata": {},
   "source": [
    "根据每行分组并只留下时间和角度及其种类"
   ]
  },
  {
   "cell_type": "code",
   "execution_count": 5,
   "id": "geographic-pavilion",
   "metadata": {
    "scrolled": false
   },
   "outputs": [
    {
     "data": {
      "text/plain": [
       "['diary on;\\n',\n",
       " \"uiimport('C:\\\\Users\\\\Administrator\\\\Desktop\\\\训练和测试数据.mat',1)\\n\",\n",
       " \"uiimport('C:\\\\Users\\\\Administrator\\\\Desktop\\\\matlab.mat',1)\\n\",\n",
       " '\\n',\n",
       " 'ANFIS info: \\n']"
      ]
     },
     "execution_count": 5,
     "metadata": {},
     "output_type": "execute_result"
    }
   ],
   "source": [
    "rawdata = []\n",
    "data = []\n",
    "for line in open(\"C:/Users/Administrator/Desktop/outputlog.txt\",\"r\",encoding=\"utf-8\"): #设置文件对象并读取每一行文件\n",
    "    rawdata.append(line)               #将每一行文件加入到list中\n"
   ]
  },
  {
   "cell_type": "code",
   "execution_count": 11,
   "id": "essential-trash",
   "metadata": {
    "collapsed": true
   },
   "outputs": [
    {
     "data": {
      "text/plain": [
       "['\\n',\n",
       " 'Minimal training RMSE = 1.561020\\n',\n",
       " '\\n',\n",
       " 'ANFIS info: \\n',\n",
       " '\\tNumber of nodes: 35\\n',\n",
       " '\\tNumber of linear parameters: 9\\n',\n",
       " '\\tNumber of nonlinear parameters: 21\\n',\n",
       " '\\tTotal number of parameters: 30\\n',\n",
       " '\\tNumber of training data pairs: 50\\n',\n",
       " '\\tNumber of checking data pairs: 0\\n',\n",
       " '\\tNumber of fuzzy rules: 9\\n',\n",
       " '\\n',\n",
       " '\\n',\n",
       " 'Start training ANFIS ...\\n',\n",
       " '\\n',\n",
       " '   1 \\t 1.55758\\n',\n",
       " '   2 \\t 1.55415\\n',\n",
       " '\\n',\n",
       " 'Designated epoch number reached --> ANFIS training completed at epoch 2.\\n',\n",
       " '\\n',\n",
       " 'Minimal training RMSE = 1.554150\\n',\n",
       " '\\n',\n",
       " 'ANFIS info: \\n',\n",
       " '\\tNumber of nodes: 35\\n',\n",
       " '\\tNumber of linear parameters: 9\\n',\n",
       " '\\tNumber of nonlinear parameters: 21\\n',\n",
       " '\\tTotal number of parameters: 30\\n',\n",
       " '\\tNumber of training data pairs: 50\\n',\n",
       " '\\tNumber of checking data pairs: 0\\n',\n",
       " '\\tNumber of fuzzy rules: 9\\n']"
      ]
     },
     "execution_count": 11,
     "metadata": {},
     "output_type": "execute_result"
    }
   ],
   "source": [
    "rawdata[20:50]"
   ]
  },
  {
   "cell_type": "code",
   "execution_count": 14,
   "id": "employed-johns",
   "metadata": {},
   "outputs": [
    {
     "data": {
      "text/plain": [
       "'Minimal training RMSE = 1.561020\\n'"
      ]
     },
     "execution_count": 14,
     "metadata": {},
     "output_type": "execute_result"
    }
   ],
   "source": [
    "rawdata[21]"
   ]
  },
  {
   "cell_type": "code",
   "execution_count": 12,
   "id": "terminal-tiffany",
   "metadata": {},
   "outputs": [
    {
     "data": {
      "text/plain": [
       "'Minimal training RMSE = 1.554150\\n'"
      ]
     },
     "execution_count": 12,
     "metadata": {},
     "output_type": "execute_result"
    }
   ],
   "source": [
    "rawdata[40]"
   ]
  },
  {
   "cell_type": "code",
   "execution_count": 15,
   "id": "velvet-investigator",
   "metadata": {},
   "outputs": [
    {
     "data": {
      "text/plain": [
       "'Minimal training RMSE = 1.547334\\n'"
      ]
     },
     "execution_count": 15,
     "metadata": {},
     "output_type": "execute_result"
    }
   ],
   "source": [
    "rawdata[59]"
   ]
  },
  {
   "cell_type": "code",
   "execution_count": 23,
   "id": "piano-engagement",
   "metadata": {},
   "outputs": [],
   "source": [
    "data = []\n",
    "temp = 0\n",
    "for i in rawdata:\n",
    "    if temp != 2 and temp % 19 ==2:\n",
    "        data.append(i)\n",
    "    temp+=1"
   ]
  },
  {
   "cell_type": "code",
   "execution_count": 25,
   "id": "selected-street",
   "metadata": {},
   "outputs": [
    {
     "data": {
      "text/plain": [
       "1000"
      ]
     },
     "execution_count": 25,
     "metadata": {},
     "output_type": "execute_result"
    }
   ],
   "source": [
    "len(data)"
   ]
  },
  {
   "cell_type": "code",
   "execution_count": 30,
   "id": "artificial-rebecca",
   "metadata": {},
   "outputs": [
    {
     "data": {
      "text/plain": [
       "'1.554150'"
      ]
     },
     "execution_count": 30,
     "metadata": {},
     "output_type": "execute_result"
    }
   ],
   "source": [
    "a = 'Minimal training RMSE = 1.554150\\n'\n",
    "a.split(\"Minimal training RMSE = \")[1].split(\"\\n\")[0]"
   ]
  },
  {
   "cell_type": "code",
   "execution_count": 31,
   "id": "wireless-electronics",
   "metadata": {},
   "outputs": [],
   "source": [
    "result_data = []\n",
    "for i in data:\n",
    "    result_data.append(i.split(\"Minimal training RMSE = \")[1].split(\"\\n\")[0])"
   ]
  },
  {
   "cell_type": "markdown",
   "id": "numerical-rating",
   "metadata": {},
   "source": [
    "写入excel"
   ]
  },
  {
   "cell_type": "code",
   "execution_count": 32,
   "id": "multiple-compact",
   "metadata": {
    "scrolled": true
   },
   "outputs": [
    {
     "data": {
      "text/html": [
       "<div>\n",
       "<style scoped>\n",
       "    .dataframe tbody tr th:only-of-type {\n",
       "        vertical-align: middle;\n",
       "    }\n",
       "\n",
       "    .dataframe tbody tr th {\n",
       "        vertical-align: top;\n",
       "    }\n",
       "\n",
       "    .dataframe thead th {\n",
       "        text-align: right;\n",
       "    }\n",
       "</style>\n",
       "<table border=\"1\" class=\"dataframe\">\n",
       "  <thead>\n",
       "    <tr style=\"text-align: right;\">\n",
       "      <th></th>\n",
       "      <th>RMSE</th>\n",
       "    </tr>\n",
       "  </thead>\n",
       "  <tbody>\n",
       "    <tr>\n",
       "      <th>0</th>\n",
       "      <td>1.561020</td>\n",
       "    </tr>\n",
       "    <tr>\n",
       "      <th>1</th>\n",
       "      <td>1.554150</td>\n",
       "    </tr>\n",
       "    <tr>\n",
       "      <th>2</th>\n",
       "      <td>1.547334</td>\n",
       "    </tr>\n",
       "    <tr>\n",
       "      <th>3</th>\n",
       "      <td>1.540572</td>\n",
       "    </tr>\n",
       "    <tr>\n",
       "      <th>4</th>\n",
       "      <td>1.533863</td>\n",
       "    </tr>\n",
       "    <tr>\n",
       "      <th>...</th>\n",
       "      <td>...</td>\n",
       "    </tr>\n",
       "    <tr>\n",
       "      <th>995</th>\n",
       "      <td>0.277063</td>\n",
       "    </tr>\n",
       "    <tr>\n",
       "      <th>996</th>\n",
       "      <td>0.277055</td>\n",
       "    </tr>\n",
       "    <tr>\n",
       "      <th>997</th>\n",
       "      <td>0.277048</td>\n",
       "    </tr>\n",
       "    <tr>\n",
       "      <th>998</th>\n",
       "      <td>0.277040</td>\n",
       "    </tr>\n",
       "    <tr>\n",
       "      <th>999</th>\n",
       "      <td>0.277036</td>\n",
       "    </tr>\n",
       "  </tbody>\n",
       "</table>\n",
       "<p>1000 rows × 1 columns</p>\n",
       "</div>"
      ],
      "text/plain": [
       "         RMSE\n",
       "0    1.561020\n",
       "1    1.554150\n",
       "2    1.547334\n",
       "3    1.540572\n",
       "4    1.533863\n",
       "..        ...\n",
       "995  0.277063\n",
       "996  0.277055\n",
       "997  0.277048\n",
       "998  0.277040\n",
       "999  0.277036\n",
       "\n",
       "[1000 rows x 1 columns]"
      ]
     },
     "execution_count": 32,
     "metadata": {},
     "output_type": "execute_result"
    }
   ],
   "source": [
    "import pandas as pd\n",
    "\n",
    "result = pd.DataFrame(result_data,columns=[\"RMSE\"])\n",
    "result"
   ]
  },
  {
   "cell_type": "code",
   "execution_count": 33,
   "id": "defensive-diary",
   "metadata": {},
   "outputs": [],
   "source": [
    "result.to_excel(\"C:\\\\Users\\\\Administrator\\\\Desktop\\\\RMSE.xlsx\")"
   ]
  },
  {
   "cell_type": "code",
   "execution_count": null,
   "id": "electoral-update",
   "metadata": {},
   "outputs": [],
   "source": []
  }
 ],
 "metadata": {
  "kernelspec": {
   "display_name": "Python 3",
   "language": "python",
   "name": "python3"
  },
  "language_info": {
   "codemirror_mode": {
    "name": "ipython",
    "version": 3
   },
   "file_extension": ".py",
   "mimetype": "text/x-python",
   "name": "python",
   "nbconvert_exporter": "python",
   "pygments_lexer": "ipython3",
   "version": "3.8.5"
  },
  "toc": {
   "base_numbering": 1,
   "nav_menu": {},
   "number_sections": true,
   "sideBar": true,
   "skip_h1_title": false,
   "title_cell": "Table of Contents",
   "title_sidebar": "Contents",
   "toc_cell": false,
   "toc_position": {},
   "toc_section_display": true,
   "toc_window_display": false
  }
 },
 "nbformat": 4,
 "nbformat_minor": 5
}
