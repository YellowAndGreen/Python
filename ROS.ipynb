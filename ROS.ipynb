{
 "cells": [
  {
   "cell_type": "markdown",
   "id": "88021cea",
   "metadata": {},
   "source": [
    "教程\n",
    "1. https://www.ncnynl.com/category/autoware/2/\n",
    "2. http://wiki.ros.org/cn/ROS/Tutorials"
   ]
  },
  {
   "cell_type": "markdown",
   "id": "92220ede",
   "metadata": {},
   "source": [
    "# ROS安装和配置"
   ]
  },
  {
   "cell_type": "markdown",
   "id": "96620208",
   "metadata": {},
   "source": [
    "## 创建ROS工作空间"
   ]
  },
  {
   "cell_type": "markdown",
   "id": "2fbc1ed1",
   "metadata": {},
   "source": [
    "```bash\n",
    " mkdir -p ~/catkin_ws/src\n",
    " cd ~/catkin_ws/\n",
    " catkin_make\n",
    " //更新变量\n",
    " source devel/setup.bash\n",
    " //确定ROS_PACKAGE_PATH环境变量包含你当前的工作空间目录：\n",
    "echo $ROS_PACKAGE_PATH\n",
    "```"
   ]
  },
  {
   "cell_type": "markdown",
   "id": "8dfe1ca8",
   "metadata": {},
   "source": [
    "# ROS文件系统"
   ]
  },
  {
   "cell_type": "markdown",
   "id": "86975b74",
   "metadata": {},
   "source": [
    "## 相关命令\n",
    "rospack允许你获取软件包的有关信息。"
   ]
  },
  {
   "cell_type": "markdown",
   "id": "a9e66b26",
   "metadata": {},
   "source": [
    "+ rospack find [package_name]  返回软件包的所在路径 例如：rospack find roscpp\n",
    "+ roscd [package_name]   跳转到软件包的所在路径，也可以跳转到子路径\n",
    "+ rosls roscpp_tutorials   列出某包内当前目录的文件\n",
    "+ roscd log   进入存储ROS日志文件的目录\n",
    "+ rosed [package_name] [filename]  编辑某个文件"
   ]
  },
  {
   "cell_type": "markdown",
   "id": "00be5f90",
   "metadata": {},
   "source": [
    "# ROS软件包"
   ]
  },
  {
   "cell_type": "markdown",
   "id": "112ead15",
   "metadata": {},
   "source": [
    "一个ROS软件包应该有1. 自己的目录  2. package.xml文件  3. catkin版本的CMakeLists.txt文件"
   ]
  },
  {
   "cell_type": "markdown",
   "id": "0ec072cf",
   "metadata": {},
   "source": [
    "## 创建catkin软件包\n",
    "1. 创建命令： catkin_create_pkg <package_name> [depend1] [depend2] [依赖3]"
   ]
  },
  {
   "cell_type": "markdown",
   "id": "ceab5411",
   "metadata": {},
   "source": [
    "```bash\n",
    "//切换到工作空间的src目录\n",
    "cd ~/catkin_ws/src\n",
    "catkin_create_pkg beginner_tutorials std_msgs rospy roscpp\n",
    "```"
   ]
  },
  {
   "cell_type": "markdown",
   "id": "1190768e",
   "metadata": {},
   "source": [
    "## 构建一个catkin工作区并生效配置文件\n",
    "+ catkin_make相当于\n",
    "```\n",
    "# 在CMake工作空间下\n",
    "$ mkdir build\n",
    "$ cd build\n",
    "$ cmake ..\n",
    "$ make\n",
    "$ make install  # （可选）\n",
    "```"
   ]
  },
  {
   "cell_type": "markdown",
   "id": "5499560a",
   "metadata": {},
   "source": [
    "```bash\n",
    "cd ~/catkin_ws\n",
    "catkin_make\n",
    "//将这个工作空间添加到ROS环境中，source一下生成的配置文件\n",
    ". ~/catkin_ws/devel/setup.bash\n",
    "```"
   ]
  },
  {
   "cell_type": "markdown",
   "id": "b364f4e0",
   "metadata": {},
   "source": [
    "## 软件包依赖关系"
   ]
  },
  {
   "cell_type": "markdown",
   "id": "8e9c65e3",
   "metadata": {},
   "source": [
    "1. 查看直接依赖  rospack depends1 beginner_tutorials\n",
    "2. 递归查看依赖（可以找到依赖包的依赖）  rospack depends beginner_tutorials"
   ]
  },
  {
   "cell_type": "markdown",
   "id": "4f825a5f",
   "metadata": {},
   "source": [
    "## 自定义软件包"
   ]
  },
  {
   "cell_type": "markdown",
   "id": "b17168e2",
   "metadata": {},
   "source": [
    "### 自定义package.xml\n",
    "```xml\n",
    "1. 描述标签：<description>The beginner_tutorials package</description>\n",
    "2. 维护者标签：<maintainer email=\"you@yourdomain.tld\">Your Name</maintainer>\n",
    "3. 许可证标签： <license>BSD</license>\n",
    "4. 依赖项标签： 依赖项分为build_depend、buildtool_depend、run_depend、test_depend\n",
    "5. 编译和运行的依赖包：<run_depend>roscpp</run_depend>\n",
    "```\n",
    "完整示例：\n",
    "```xml\n",
    "<?xml version=\"1.0\"?>\n",
    "<package format=\"2\">\n",
    "  <name>beginner_tutorials</name>\n",
    "  <version>0.1.0</version>\n",
    "  <description>The beginner_tutorials package</description>\n",
    "\n",
    "  <maintainer email=\"you@yourdomain.tld\">Your Name</maintainer>\n",
    "  <license>BSD</license>\n",
    "  <url type=\"website\">http://wiki.ros.org/beginner_tutorials</url>\n",
    "  <author email=\"you@yourdomain.tld\">Jane Doe</author>\n",
    "\n",
    "  <buildtool_depend>catkin</buildtool_depend>\n",
    "\n",
    "  <build_depend>roscpp</build_depend>\n",
    "  <build_depend>rospy</build_depend>\n",
    "  <build_depend>std_msgs</build_depend>\n",
    "\n",
    "  <exec_depend>roscpp</exec_depend>\n",
    "  <exec_depend>rospy</exec_depend>\n",
    "  <exec_depend>std_msgs</exec_depend>\n",
    "\n",
    "</package>\n",
    "```"
   ]
  },
  {
   "cell_type": "markdown",
   "id": "3c8e1fcb",
   "metadata": {},
   "source": [
    "# 节点，话题，服务与动作\n",
    "计算图（Computation Graph）是一个由ROS进程组成的点对点网络，它们能够共同处理数据。ROS的基本计算图概念有节点（Nodes）、主节点（Master）、参数服务器（Parameter Server）、消息（Messages）、服务（Services）、话题（Topics）和袋（Bags），它们都以不同的方式向图（Graph）提供数据。\n",
    "\n",
    "+ 节点（Nodes）：节点是一个可执行文件，它可以通过ROS来与其他节点进行通信。\n",
    "\n",
    "+ 消息（Messages）：订阅或发布话题时所使用的ROS数据类型。\n",
    "\n",
    "+ 话题（Topics）：节点可以将消息发布到话题，或通过订阅话题来接收消息。\n",
    "\n",
    "+ 主节点（Master）：ROS的命名服务，例如帮助节点发现彼此。\n",
    "\n",
    "+ rosout：在ROS中相当于stdout/stderr（标准输出/标准错误）。\n",
    "\n",
    "+ roscore：主节点 + rosout + 参数服务器（会在以后介绍）。"
   ]
  },
  {
   "cell_type": "markdown",
   "id": "4d49e254",
   "metadata": {},
   "source": [
    "## 节点命令：rosnode,rosrun\n",
    "1. 查看所有活跃节点 rosnode list\n",
    "2. 结束节点  rosnode kill\n",
    "3. 运行节点   rosrun [package_name] [node_name]  例：rosrun turtlesim turtlesim_node\n",
    "4. 运行节点并指定节点名：最后加上__name:=my_turtle\n",
    "5. 查看节点间的关系：rosrun rqt_graph rqt_graph或直接使用rqt或rqt_graph"
   ]
  },
  {
   "cell_type": "markdown",
   "id": "102106b8",
   "metadata": {},
   "source": [
    "## 话题： rostopic\n",
    "### 常用命令\n",
    "1. 显示在某个话题上发布的数据：rostopic echo [topic]\n",
    "2. 列出当前已被订阅和发布的所有话题：rostopic list\n",
    "3. 把数据发布到当前某个正在广播的话题上：rostopic pub [topic] [msg_type] [args]  例如：\n",
    "> rostopic pub -1 /turtle1/cmd_vel geometry_msgs/Twist -- '[2.0, 0.0, 0.0]' '[0.0, 0.0, 1.8]'\n",
    "+ -1表示rostopic只发布一条消息，然后退出\n",
    "+ 两个破折号用来告诉选项解析器，表明之后的参数都不是选项\n",
    "4. 报告数据发布的速率：rostopic hz [topic]"
   ]
  },
  {
   "cell_type": "markdown",
   "id": "3679c5c8",
   "metadata": {},
   "source": [
    "### 消息\n",
    "话题的通信是通过节点间发送ROS消息实现的。为了使发布者（turtle_teleop_key）和订阅者（turtulesim_node）进行通信，发布者和订阅者必须发送和接收相同类型的消息。这意味着话题的类型是由发布在它上面消息的类型决定的。\n",
    "1. 查看所发布话题的消息类型：rostopic type [topic]\n",
    "2. 用动态图表查看消息数据：rosrun rqt_plot rqt_plot"
   ]
  },
  {
   "cell_type": "markdown",
   "id": "615fee32",
   "metadata": {},
   "source": [
    "## 服务\n",
    "服务（Services）是节点之间通讯的另一种方式。服务允许节点发送一个请求（request）并获得一个响应（response）。"
   ]
  },
  {
   "cell_type": "markdown",
   "id": "393d672a",
   "metadata": {},
   "source": [
    "### 常用命令  rosservice\n",
    "+ rosservice list         输出活跃服务的信息\n",
    "+ rosservice call [service] [args]         用给定的参数调用服务\n",
    "\n",
    "+ rosservice find         按服务的类型查找服务\n",
    "+ rosservice uri          输出服务的ROSRPC uri\n",
    "+ rosservice type         输出服务的类型\n",
    "+ rosservice type /spawn | rossrv show  输出服务的参数"
   ]
  },
  {
   "cell_type": "markdown",
   "id": "8d32f8ee",
   "metadata": {},
   "source": [
    "### rosparam服务器\n",
    "rosparam能让我们在ROS参数服务器（Parameter Server）上存储和操作数据。\n",
    "+ rosparam set [param_name]   设置参数\n",
    "> 设置之后使用rosservice call /clear生效\n",
    "+ rosparam get [param_name]   获取参数\n",
    "+ rosparam load           从文件中加载参数\n",
    "+ rosparam dump [file_name] [namespace]           向文件中存储参数\n",
    "+ rosparam delete         删除参数\n",
    "+ rosparam list           列出参数名"
   ]
  },
  {
   "cell_type": "markdown",
   "id": "d9b225f2",
   "metadata": {},
   "source": [
    "## 调试：rqt_console和rqt_logger_level\n",
    "> rosrun rqt_console rqt_console\n",
    "\n",
    "> rosrun rqt_logger_level rqt_logger_level"
   ]
  },
  {
   "cell_type": "markdown",
   "id": "c830f395",
   "metadata": {},
   "source": [
    "## 启用文件中的节点：roslaunch\n",
    ">roslaunch [package] [filename.launch]"
   ]
  },
  {
   "cell_type": "markdown",
   "id": "e7a37ea2",
   "metadata": {},
   "source": [
    "\n",
    "\n",
    "```xml\n",
    "<launch>\n",
    "    //创建两个命名不同的节点\n",
    "  <group ns=\"turtlesim1\">\n",
    "    <node pkg=\"turtlesim\" name=\"sim\" type=\"turtlesim_node\"/>\n",
    "  </group>\n",
    "\n",
    "  <group ns=\"turtlesim2\">\n",
    "    <node pkg=\"turtlesim\" name=\"sim\" type=\"turtlesim_node\"/>\n",
    "  </group>\n",
    "    // 启动模仿节点，话题的输入和输出分别重命名为turtlesim1和turtlesim2，这样就可以让turtlesim2模仿turtlesim1了。\n",
    "  <node pkg=\"turtlesim\" name=\"mimic\" type=\"mimic\">\n",
    "    <remap from=\"input\" to=\"turtlesim1/turtle1\"/>\n",
    "    <remap from=\"output\" to=\"turtlesim2/turtle1\"/>\n",
    "  </node>\n",
    "\n",
    "</launch>\n",
    "```"
   ]
  },
  {
   "cell_type": "markdown",
   "id": "20970cac",
   "metadata": {},
   "source": [
    "+ msg（消息）：msg文件就是文本文件，用于描述ROS消息的字段。它们用于为不同编程语言编写的消息生成源代码。\n",
    "+ srv（服务）：一个srv文件描述一个服务。它由两部分组成：请求（request）和响应（response）。\n",
    "+ msg文件存放在软件包的msg目录下，srv文件则存放在srv目录下。"
   ]
  },
  {
   "cell_type": "markdown",
   "id": "c95751ef",
   "metadata": {},
   "source": [
    "## 消息msg\n",
    "1. ROS中还有一个特殊的数据类型：Header，它含有时间戳和ROS中广泛使用的坐标帧信息。\n",
    "```msg\n",
    "    Header header\n",
    "    string first_name\n",
    "    string last_name\n",
    "    uint8 age\n",
    "    uint32 score\n",
    "    geometry_msgs/PoseWithCovariance pose\n",
    "    geometry_msgs/TwistWithCovariance twist\n",
    "  ```"
   ]
  },
  {
   "cell_type": "markdown",
   "id": "d1c8805d",
   "metadata": {},
   "source": [
    "### 创建msg\n",
    "1. mkdir srv\n",
    "2. echo \"int64 num\" > msg/Num.msg\n",
    "1. 确保msg文件能被转换为C++、Python和其他语言的源代码:\n",
    "```\n",
    "  <build_depend>message_generation</build_depend>\n",
    "  <exec_depend>message_runtime</exec_depend>\n",
    "```\n",
    "2. 在CMakeLists.txt文件中，为已经存在里面的find_package调用添加message_generation依赖项，这样就能生成消息了。直接将message_generation添加到COMPONENTS列表中即可\n",
    "3. 还要确保导出消息的运行时依赖关系：\n",
    "```\n",
    "catkin_package(\n",
    "  ...\n",
    "  CATKIN_DEPENDS message_runtime ...\n",
    "  ...)\n",
    "  ```\n",
    "4. 加入消息文件\n",
    "  ```\n",
    "  add_message_files(\n",
    "  FILES\n",
    "  Num.msg\n",
    ")\n",
    "  ```\n",
    "5. 确保generate_messages()函数被调用\n",
    "```\n",
    "generate_messages(\n",
    "  DEPENDENCIES\n",
    "  std_msgs\n",
    ")\n",
    "```\n",
    "6. catkin_make"
   ]
  },
  {
   "cell_type": "markdown",
   "id": "e94e05cd",
   "metadata": {},
   "source": [
    "### 使用rosmsg查看消息"
   ]
  },
  {
   "cell_type": "markdown",
   "id": "477b7a90",
   "metadata": {},
   "source": [
    "## 服务srv\n",
    "```\n",
    "int64 A\n",
    "int64 B\n",
    "---\n",
    "int64 Sum\n",
    "```"
   ]
  },
  {
   "cell_type": "markdown",
   "id": "8b404f64",
   "metadata": {},
   "source": [
    "### 创建srv\n",
    "1. mkdir srv\n",
    "2. 复制一个服务：roscp rospy_tutorials AddTwoInts.srv srv/AddTwoInts.srv\n",
    "3. 上述创建消息的第三，四步\n",
    "4. 添加服务文件\n",
    "```\n",
    "add_service_files(\n",
    "  FILES\n",
    "  AddTwoInts.srv\n",
    ")\n",
    "```\n",
    "5. catkin_make"
   ]
  },
  {
   "cell_type": "markdown",
   "id": "f84b8e5e",
   "metadata": {},
   "source": [
    "### 使用rossrv查看\n",
    "1. rossrv show beginner_tutorials/AddTwoInts"
   ]
  },
  {
   "cell_type": "markdown",
   "id": "120bff00",
   "metadata": {},
   "source": [
    "# 编写简单的发布者和订阅者"
   ]
  },
  {
   "cell_type": "markdown",
   "id": "54719d3f",
   "metadata": {},
   "source": [
    "## 编写发布者节点\n",
    "1. \n",
    "```bash\n",
    "mkdir scripts\n",
    "cd scripts\n",
    "wget https://raw.github.com/ros/ros_tutorials/noetic-devel/rospy_tutorials/001_talker_listener/talker.py\n",
    "chmod +x talker.py\n",
    "```\n",
    "2. 将以下内容添加到CMakeLists.txt文件。这样可以确保正确安装Python脚本，并使用合适的Python解释器。**一定要放在最下面，不然路径找不到**\n",
    "```bash\n",
    "catkin_install_python(PROGRAMS scripts/talker.py\n",
    "  DESTINATION ${CATKIN_PACKAGE_BIN_DESTINATION}\n",
    ")\n",
    "```"
   ]
  },
  {
   "cell_type": "code",
   "execution_count": null,
   "id": "b253fed6",
   "metadata": {},
   "outputs": [],
   "source": [
    "#!/usr/bin/env python\n",
    "# 第一行确保脚本作为Python脚本执行。\n",
    "import rospy\n",
    "from std_msgs.msg import String\n",
    "\n",
    "def talker():\n",
    "    # 声明该节点正在使用String消息类型发布到chatter话题\n",
    "    # 更复杂的类型：一般的经验法则是构造函数参数的顺序与.msg文件中的顺序相同\n",
    "    pub = rospy.Publisher('chatter', String, queue_size=10)\n",
    "    \n",
    "    # 初始化节点，名称为talker\n",
    "    # anonymous = True会让名称末尾添加随机数，来确保节点具有唯一的名称。\n",
    "    rospy.init_node('talker', anonymous=True)\n",
    "    # 每秒循环十次\n",
    "    rate = rospy.Rate(10) # 10hz\n",
    "    while not rospy.is_shutdown(): # 检查程序是否退出\n",
    "        hello_str = \"hello world %s\" % rospy.get_time()\n",
    "        rospy.loginfo(hello_str)\n",
    "        pub.publish(hello_str)\n",
    "        # 调用了rate.sleep()，它在循环中可以用刚刚好的睡眠时间维持期望的速率。\n",
    "        rate.sleep()\n",
    "\n",
    "if __name__ == '__main__':\n",
    "    try:\n",
    "        talker()\n",
    "    except rospy.ROSInterruptException:\n",
    "        pass"
   ]
  },
  {
   "cell_type": "markdown",
   "id": "caa7fec7",
   "metadata": {},
   "source": [
    "## 编写订阅者节点\n",
    "1. \n",
    "```bash\n",
    "mkdir scripts\n",
    "cd scripts\n",
    "wget https://raw.github.com/ros/ros_tutorials/noetic-devel/rospy_tutorials/001_talker_listener/listener.py\n",
    "chmod +x talker.py\n",
    "```\n",
    "2. 将以下内容添加到CMakeLists.txt文件。这样可以确保正确安装Python脚本，并使用合适的Python解释器。**一定要放在最下面，不然路径找不到**\n",
    "```bash\n",
    "catkin_install_python(PROGRAMS scripts/talker.py scripts/listener.py\n",
    "  DESTINATION ${CATKIN_PACKAGE_BIN_DESTINATION}\n",
    ")\n",
    "```"
   ]
  },
  {
   "cell_type": "code",
   "execution_count": null,
   "id": "a3f09e6c",
   "metadata": {},
   "outputs": [],
   "source": [
    "#!/usr/bin/env python\n",
    "import rospy\n",
    "from std_msgs.msg import String\n",
    "\n",
    "# 收到数据的回调函数\n",
    "def callback(data):\n",
    "    rospy.loginfo(rospy.get_caller_id() + \"I heard %s\", data.data)\n",
    "    \n",
    "def listener():\n",
    "\n",
    "    # In ROS, nodes are uniquely named. If two nodes with the same\n",
    "    # name are launched, the previous one is kicked off. The\n",
    "    # anonymous=True flag means that rospy will choose a unique\n",
    "    # name for our 'listener' node so that multiple listeners can\n",
    "    # run simultaneously.\n",
    "    rospy.init_node('listener', anonymous=True)\n",
    "\n",
    "    rospy.Subscriber(\"chatter\", String, callback)\n",
    "\n",
    "    # rospy.spin()不让你的节点退出，直到节点被明确关闭。\n",
    "    rospy.spin()\n",
    "\n",
    "if __name__ == '__main__':\n",
    "    listener()"
   ]
  },
  {
   "cell_type": "markdown",
   "id": "22090edb",
   "metadata": {},
   "source": [
    "## 运行发布者和订阅者\n",
    "```\n",
    "roscore\n",
    "cd ~/catkin_ws\n",
    "source ./devel/setup.bash\n",
    "rosrun beginner_tutorials talker.py\n",
    "rosrun beginner_tutorials listener.py\n",
    "```"
   ]
  },
  {
   "cell_type": "markdown",
   "id": "93c69e20",
   "metadata": {},
   "source": [
    "# 编写服务和客户端"
   ]
  },
  {
   "cell_type": "markdown",
   "id": "9ecfeeb2",
   "metadata": {},
   "source": [
    "## 服务端\n",
    "1. 创建scripts/add_two_ints_server.py文件\n",
    "\n",
    "```python \n",
    "from __future__ import print_function\n",
    "\n",
    "from beginner_tutorials.srv import AddTwoInts,AddTwoIntsResponse\n",
    "import rospy\n",
    "\n",
    "def handle_add_two_ints(req):\n",
    "    print(\"Returning [%s + %s = %s]\"%(req.a, req.b, (req.a + req.b)))\n",
    "    return AddTwoIntsResponse(req.a + req.b)\n",
    "\n",
    "def add_two_ints_server():\n",
    "    rospy.init_node('add_two_ints_server')\n",
    "    # 声明了一个名为add_two_ints的新服务，其服务类型为AddTwoInts。\n",
    "    # 请求回调函数为handle_add_two_ints\n",
    "    s = rospy.Service('add_two_ints', AddTwoInts, handle_add_two_ints)\n",
    "    print(\"Ready to add two ints.\")\n",
    "    rospy.spin()\n",
    "\n",
    "if __name__ == \"__main__\":\n",
    "    add_two_ints_server()\n",
    "```\n",
    "2. 添加执行权限：chmod +x scripts/add_two_ints_server.py\n",
    "3. 将以下内容添加到CMakeLists.txt文件。这样可以确保正确安装Python脚本，并使用合适的Python解释器。\n",
    "```\n",
    "catkin_install_python(PROGRAMS scripts/add_two_ints_server.py\n",
    "  DESTINATION ${CATKIN_PACKAGE_BIN_DESTINATION}\n",
    ")\n",
    "```"
   ]
  },
  {
   "cell_type": "markdown",
   "id": "40a332e3",
   "metadata": {},
   "source": [
    "## 客户端\n",
    "1. 创建scripts/add_two_ints_client.py文件\n",
    "```python\n",
    "from __future__ import print_function\n",
    "import sys\n",
    "import rospy\n",
    "from beginner_tutorials.srv import *\n",
    "def add_two_ints_client(x, y):\n",
    "    # 在add_two_ints服务可用之前一直阻塞。\n",
    "    rospy.wait_for_service('add_two_ints')\n",
    "    try:\n",
    "        # 服务可用时创建处理函数，其类型为AddTwoInts\n",
    "        add_two_ints = rospy.ServiceProxy('add_two_ints', AddTwoInts)\n",
    "        resp1 = add_two_ints(x, y)\n",
    "        return resp1.sum\n",
    "    except rospy.ServiceException as e:\n",
    "        print(\"Service call failed: %s\"%e)\n",
    "def usage():\n",
    "    return \"%s [x y]\"%sys.argv[0]\n",
    "if __name__ == \"__main__\":\n",
    "    if len(sys.argv) == 3:\n",
    "        x = int(sys.argv[1])\n",
    "        y = int(sys.argv[2])\n",
    "    else:\n",
    "        print(usage())\n",
    "        sys.exit(1)\n",
    "    print(\"Requesting %s+%s\"%(x, y))\n",
    "    print(\"%s + %s = %s\"%(x, y, add_two_ints_client(x, y)))\n",
    "```\n",
    "2. 添加执行权限：chmod +x scripts/add_two_ints_server.py\n",
    "3. 将以下内容添加到CMakeLists.txt文件。这样可以确保正确安装Python脚本，并使用合适的Python解释器。\n",
    "```\n",
    "catkin_install_python(PROGRAMS scripts/add_two_ints_server.py scripts/add_two_ints_client.py\n",
    "  DESTINATION ${CATKIN_PACKAGE_BIN_DESTINATION}\n",
    ")\n",
    "```\n",
    "4. 构建节点\n",
    "```\n",
    "# 在你的catkin工作空间中\n",
    "$ cd ~/catkin_ws\n",
    "$ catkin_make\n",
    "```"
   ]
  },
  {
   "cell_type": "markdown",
   "id": "cd02e464",
   "metadata": {},
   "source": [
    "## 运行\n",
    "```\n",
    "rosrun beginner_tutorials add_two_ints_server.py\n",
    "rosrun beginner_tutorials add_two_ints_client.py 1 3\n",
    "```"
   ]
  },
  {
   "cell_type": "markdown",
   "id": "77ee5a6b",
   "metadata": {},
   "source": [
    "# 记录和回放数据\n",
    "1. 记录发布的所有数据\n",
    "```bash\n",
    "rosbag record -a\n",
    "```\n",
    "2. 记录指定的话题\n",
    "```\n",
    "//-O参数告诉rosbag record将数据记录到名为subset.bag的文件中\n",
    "//topic参数告诉rosbag record只能订阅这两个指定的话题。\n",
    "rosbag record -O subset /turtle1/cmd_vel /turtle1/pose\n",
    "```\n",
    "2. 包信息\n",
    "```bash\n",
    "rosbag info <your bagfile>\n",
    "```\n",
    "3. 回放数据\n",
    "```\n",
    "// -r表示播放速率\n",
    "rosbag play -r 2 <your bagfile>\n",
    "```\n",
    "4. 从bag文件中读取消息\n",
    "```\n",
    "//订阅/obs1/gps/fix话题并复读该话题上发布的所有内容，同时用tee命令转储到一个yaml格式的文件中以便之后查看\n",
    "rostopic echo /obs1/gps/fix | tee topic1.yaml\n",
    "```"
   ]
  }
 ],
 "metadata": {
  "kernelspec": {
   "display_name": "Python 3",
   "language": "python",
   "name": "python3"
  },
  "language_info": {
   "codemirror_mode": {
    "name": "ipython",
    "version": 3
   },
   "file_extension": ".py",
   "mimetype": "text/x-python",
   "name": "python",
   "nbconvert_exporter": "python",
   "pygments_lexer": "ipython3",
   "version": "3.8.5"
  },
  "toc": {
   "base_numbering": 1,
   "nav_menu": {},
   "number_sections": true,
   "sideBar": true,
   "skip_h1_title": false,
   "title_cell": "Table of Contents",
   "title_sidebar": "Contents",
   "toc_cell": false,
   "toc_position": {
    "height": "calc(100% - 180px)",
    "left": "10px",
    "top": "150px",
    "width": "219px"
   },
   "toc_section_display": true,
   "toc_window_display": false
  }
 },
 "nbformat": 4,
 "nbformat_minor": 5
}
