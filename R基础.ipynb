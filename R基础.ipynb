{
 "cells": [
  {
   "cell_type": "markdown",
   "id": "early-procurement",
   "metadata": {},
   "source": [
    "# 基础"
   ]
  },
  {
   "cell_type": "markdown",
   "id": "cognitive-hardwood",
   "metadata": {},
   "source": [
    "## 基本函数"
   ]
  },
  {
   "cell_type": "markdown",
   "id": "peaceful-joining",
   "metadata": {},
   "source": [
    "平方"
   ]
  },
  {
   "cell_type": "code",
   "execution_count": 1,
   "id": "uniform-component",
   "metadata": {},
   "outputs": [
    {
     "data": {
      "text/html": [
       "3"
      ],
      "text/latex": [
       "3"
      ],
      "text/markdown": [
       "3"
      ],
      "text/plain": [
       "[1] 3"
      ]
     },
     "metadata": {},
     "output_type": "display_data"
    }
   ],
   "source": [
    "sqrt(9)"
   ]
  },
  {
   "cell_type": "markdown",
   "id": "detailed-kazakhstan",
   "metadata": {},
   "source": [
    "对数\n",
    "$\\log_3^{243}$"
   ]
  },
  {
   "cell_type": "code",
   "execution_count": 5,
   "id": "social-revision",
   "metadata": {
    "scrolled": false
   },
   "outputs": [
    {
     "data": {
      "text/html": [
       "5"
      ],
      "text/latex": [
       "5"
      ],
      "text/markdown": [
       "5"
      ],
      "text/plain": [
       "[1] 5"
      ]
     },
     "metadata": {},
     "output_type": "display_data"
    }
   ],
   "source": [
    "log(243,base = 3)"
   ]
  },
  {
   "cell_type": "markdown",
   "id": "enormous-contrast",
   "metadata": {},
   "source": [
    "指数"
   ]
  },
  {
   "cell_type": "code",
   "execution_count": 6,
   "id": "literary-finish",
   "metadata": {
    "scrolled": true
   },
   "outputs": [
    {
     "data": {
      "text/html": [
       "20.0855369231877"
      ],
      "text/latex": [
       "20.0855369231877"
      ],
      "text/markdown": [
       "20.0855369231877"
      ],
      "text/plain": [
       "[1] 20.08554"
      ]
     },
     "metadata": {},
     "output_type": "display_data"
    }
   ],
   "source": [
    "exp(3)"
   ]
  },
  {
   "cell_type": "markdown",
   "id": "cubic-ceramic",
   "metadata": {},
   "source": [
    "## 向量的序列，重复，排序和长度"
   ]
  },
  {
   "cell_type": "markdown",
   "id": "forty-serum",
   "metadata": {},
   "source": [
    "### 创建向量"
   ]
  },
  {
   "cell_type": "code",
   "execution_count": 8,
   "id": "simplified-protein",
   "metadata": {
    "scrolled": true
   },
   "outputs": [
    {
     "data": {
      "text/html": [
       "<ol class=list-inline>\n",
       "\t<li>1</li>\n",
       "\t<li>3</li>\n",
       "\t<li>4</li>\n",
       "</ol>\n"
      ],
      "text/latex": [
       "\\begin{enumerate*}\n",
       "\\item 1\n",
       "\\item 3\n",
       "\\item 4\n",
       "\\end{enumerate*}\n"
      ],
      "text/markdown": [
       "1. 1\n",
       "2. 3\n",
       "3. 4\n",
       "\n",
       "\n"
      ],
      "text/plain": [
       "[1] 1 3 4"
      ]
     },
     "metadata": {},
     "output_type": "display_data"
    }
   ],
   "source": [
    "vec = c(1,3,4)\n",
    "vec"
   ]
  },
  {
   "cell_type": "markdown",
   "id": "labeled-staff",
   "metadata": {},
   "source": [
    "### 序列"
   ]
  },
  {
   "cell_type": "markdown",
   "id": "specialized-tooth",
   "metadata": {},
   "source": [
    "使用冒号"
   ]
  },
  {
   "cell_type": "code",
   "execution_count": 9,
   "id": "orange-integral",
   "metadata": {},
   "outputs": [
    {
     "data": {
      "text/html": [
       "<ol class=list-inline>\n",
       "\t<li>3</li>\n",
       "\t<li>4</li>\n",
       "\t<li>5</li>\n",
       "\t<li>6</li>\n",
       "\t<li>7</li>\n",
       "\t<li>8</li>\n",
       "\t<li>9</li>\n",
       "\t<li>10</li>\n",
       "\t<li>11</li>\n",
       "\t<li>12</li>\n",
       "\t<li>13</li>\n",
       "\t<li>14</li>\n",
       "\t<li>15</li>\n",
       "\t<li>16</li>\n",
       "\t<li>17</li>\n",
       "\t<li>18</li>\n",
       "\t<li>19</li>\n",
       "\t<li>20</li>\n",
       "\t<li>21</li>\n",
       "\t<li>22</li>\n",
       "\t<li>23</li>\n",
       "\t<li>24</li>\n",
       "\t<li>25</li>\n",
       "\t<li>26</li>\n",
       "\t<li>27</li>\n",
       "</ol>\n"
      ],
      "text/latex": [
       "\\begin{enumerate*}\n",
       "\\item 3\n",
       "\\item 4\n",
       "\\item 5\n",
       "\\item 6\n",
       "\\item 7\n",
       "\\item 8\n",
       "\\item 9\n",
       "\\item 10\n",
       "\\item 11\n",
       "\\item 12\n",
       "\\item 13\n",
       "\\item 14\n",
       "\\item 15\n",
       "\\item 16\n",
       "\\item 17\n",
       "\\item 18\n",
       "\\item 19\n",
       "\\item 20\n",
       "\\item 21\n",
       "\\item 22\n",
       "\\item 23\n",
       "\\item 24\n",
       "\\item 25\n",
       "\\item 26\n",
       "\\item 27\n",
       "\\end{enumerate*}\n"
      ],
      "text/markdown": [
       "1. 3\n",
       "2. 4\n",
       "3. 5\n",
       "4. 6\n",
       "5. 7\n",
       "6. 8\n",
       "7. 9\n",
       "8. 10\n",
       "9. 11\n",
       "10. 12\n",
       "11. 13\n",
       "12. 14\n",
       "13. 15\n",
       "14. 16\n",
       "15. 17\n",
       "16. 18\n",
       "17. 19\n",
       "18. 20\n",
       "19. 21\n",
       "20. 22\n",
       "21. 23\n",
       "22. 24\n",
       "23. 25\n",
       "24. 26\n",
       "25. 27\n",
       "\n",
       "\n"
      ],
      "text/plain": [
       " [1]  3  4  5  6  7  8  9 10 11 12 13 14 15 16 17 18 19 20 21 22 23 24 25 26 27"
      ]
     },
     "metadata": {},
     "output_type": "display_data"
    }
   ],
   "source": [
    "3:27"
   ]
  },
  {
   "cell_type": "code",
   "execution_count": 10,
   "id": "occupational-question",
   "metadata": {
    "scrolled": true
   },
   "outputs": [
    {
     "data": {
      "text/html": [
       "<ol class=list-inline>\n",
       "\t<li>3</li>\n",
       "\t<li>2</li>\n",
       "\t<li>1</li>\n",
       "\t<li>0</li>\n",
       "\t<li>-1</li>\n",
       "\t<li>-2</li>\n",
       "\t<li>-3</li>\n",
       "\t<li>-4</li>\n",
       "\t<li>-5</li>\n",
       "\t<li>-6</li>\n",
       "\t<li>-7</li>\n",
       "\t<li>-8</li>\n",
       "\t<li>-9</li>\n",
       "\t<li>-10</li>\n",
       "\t<li>-11</li>\n",
       "</ol>\n"
      ],
      "text/latex": [
       "\\begin{enumerate*}\n",
       "\\item 3\n",
       "\\item 2\n",
       "\\item 1\n",
       "\\item 0\n",
       "\\item -1\n",
       "\\item -2\n",
       "\\item -3\n",
       "\\item -4\n",
       "\\item -5\n",
       "\\item -6\n",
       "\\item -7\n",
       "\\item -8\n",
       "\\item -9\n",
       "\\item -10\n",
       "\\item -11\n",
       "\\end{enumerate*}\n"
      ],
      "text/markdown": [
       "1. 3\n",
       "2. 2\n",
       "3. 1\n",
       "4. 0\n",
       "5. -1\n",
       "6. -2\n",
       "7. -3\n",
       "8. -4\n",
       "9. -5\n",
       "10. -6\n",
       "11. -7\n",
       "12. -8\n",
       "13. -9\n",
       "14. -10\n",
       "15. -11\n",
       "\n",
       "\n"
      ],
      "text/plain": [
       " [1]   3   2   1   0  -1  -2  -3  -4  -5  -6  -7  -8  -9 -10 -11"
      ]
     },
     "metadata": {},
     "output_type": "display_data"
    }
   ],
   "source": [
    "3:(-1-10)"
   ]
  },
  {
   "cell_type": "markdown",
   "id": "printable-tucson",
   "metadata": {},
   "source": [
    "序列函数seq"
   ]
  },
  {
   "cell_type": "code",
   "execution_count": 11,
   "id": "steady-exception",
   "metadata": {
    "scrolled": true
   },
   "outputs": [
    {
     "data": {
      "text/html": [
       "<ol class=list-inline>\n",
       "\t<li>3</li>\n",
       "\t<li>6</li>\n",
       "\t<li>9</li>\n",
       "\t<li>12</li>\n",
       "\t<li>15</li>\n",
       "\t<li>18</li>\n",
       "\t<li>21</li>\n",
       "\t<li>24</li>\n",
       "\t<li>27</li>\n",
       "</ol>\n"
      ],
      "text/latex": [
       "\\begin{enumerate*}\n",
       "\\item 3\n",
       "\\item 6\n",
       "\\item 9\n",
       "\\item 12\n",
       "\\item 15\n",
       "\\item 18\n",
       "\\item 21\n",
       "\\item 24\n",
       "\\item 27\n",
       "\\end{enumerate*}\n"
      ],
      "text/markdown": [
       "1. 3\n",
       "2. 6\n",
       "3. 9\n",
       "4. 12\n",
       "5. 15\n",
       "6. 18\n",
       "7. 21\n",
       "8. 24\n",
       "9. 27\n",
       "\n",
       "\n"
      ],
      "text/plain": [
       "[1]  3  6  9 12 15 18 21 24 27"
      ]
     },
     "metadata": {},
     "output_type": "display_data"
    }
   ],
   "source": [
    "seq(from = 3,to = 27,by = 3)"
   ]
  },
  {
   "cell_type": "code",
   "execution_count": 15,
   "id": "figured-optics",
   "metadata": {
    "scrolled": true
   },
   "outputs": [
    {
     "data": {
      "text/html": [
       "<ol class=list-inline>\n",
       "\t<li>3</li>\n",
       "\t<li>7</li>\n",
       "\t<li>11</li>\n",
       "\t<li>15</li>\n",
       "\t<li>19</li>\n",
       "\t<li>23</li>\n",
       "\t<li>27</li>\n",
       "</ol>\n"
      ],
      "text/latex": [
       "\\begin{enumerate*}\n",
       "\\item 3\n",
       "\\item 7\n",
       "\\item 11\n",
       "\\item 15\n",
       "\\item 19\n",
       "\\item 23\n",
       "\\item 27\n",
       "\\end{enumerate*}\n"
      ],
      "text/markdown": [
       "1. 3\n",
       "2. 7\n",
       "3. 11\n",
       "4. 15\n",
       "5. 19\n",
       "6. 23\n",
       "7. 27\n",
       "\n",
       "\n"
      ],
      "text/plain": [
       "[1]  3  7 11 15 19 23 27"
      ]
     },
     "metadata": {},
     "output_type": "display_data"
    }
   ],
   "source": [
    "seq(from = 3,to = 27,length.out = 7)  # 长度为7"
   ]
  },
  {
   "cell_type": "markdown",
   "id": "afraid-promotion",
   "metadata": {},
   "source": [
    "产生递减序列"
   ]
  },
  {
   "cell_type": "code",
   "execution_count": 18,
   "id": "first-demand",
   "metadata": {
    "scrolled": true
   },
   "outputs": [
    {
     "data": {
      "text/html": [
       "<ol class=list-inline>\n",
       "\t<li>3</li>\n",
       "\t<li>0</li>\n",
       "\t<li>-3</li>\n",
       "\t<li>-6</li>\n",
       "\t<li>-9</li>\n",
       "\t<li>-12</li>\n",
       "\t<li>-15</li>\n",
       "\t<li>-18</li>\n",
       "\t<li>-21</li>\n",
       "\t<li>-24</li>\n",
       "\t<li>-27</li>\n",
       "</ol>\n"
      ],
      "text/latex": [
       "\\begin{enumerate*}\n",
       "\\item 3\n",
       "\\item 0\n",
       "\\item -3\n",
       "\\item -6\n",
       "\\item -9\n",
       "\\item -12\n",
       "\\item -15\n",
       "\\item -18\n",
       "\\item -21\n",
       "\\item -24\n",
       "\\item -27\n",
       "\\end{enumerate*}\n"
      ],
      "text/markdown": [
       "1. 3\n",
       "2. 0\n",
       "3. -3\n",
       "4. -6\n",
       "5. -9\n",
       "6. -12\n",
       "7. -15\n",
       "8. -18\n",
       "9. -21\n",
       "10. -24\n",
       "11. -27\n",
       "\n",
       "\n"
      ],
      "text/plain": [
       " [1]   3   0  -3  -6  -9 -12 -15 -18 -21 -24 -27"
      ]
     },
     "metadata": {},
     "output_type": "display_data"
    }
   ],
   "source": [
    "seq(from = 3,to = -27,by = -3)  # by必须是负数"
   ]
  },
  {
   "cell_type": "markdown",
   "id": "listed-communication",
   "metadata": {},
   "source": [
    "### 重复函数rep"
   ]
  },
  {
   "cell_type": "code",
   "execution_count": 19,
   "id": "figured-boards",
   "metadata": {},
   "outputs": [
    {
     "data": {
      "text/html": [
       "<ol class=list-inline>\n",
       "\t<li>1</li>\n",
       "\t<li>1</li>\n",
       "\t<li>1</li>\n",
       "\t<li>1</li>\n",
       "\t<li>1</li>\n",
       "</ol>\n"
      ],
      "text/latex": [
       "\\begin{enumerate*}\n",
       "\\item 1\n",
       "\\item 1\n",
       "\\item 1\n",
       "\\item 1\n",
       "\\item 1\n",
       "\\end{enumerate*}\n"
      ],
      "text/markdown": [
       "1. 1\n",
       "2. 1\n",
       "3. 1\n",
       "4. 1\n",
       "5. 1\n",
       "\n",
       "\n"
      ],
      "text/plain": [
       "[1] 1 1 1 1 1"
      ]
     },
     "metadata": {},
     "output_type": "display_data"
    }
   ],
   "source": [
    "rep(x=1,times=5)"
   ]
  },
  {
   "cell_type": "code",
   "execution_count": 21,
   "id": "civic-harbor",
   "metadata": {
    "scrolled": true
   },
   "outputs": [
    {
     "data": {
      "text/html": [
       "<ol class=list-inline>\n",
       "\t<li>1</li>\n",
       "\t<li>1</li>\n",
       "\t<li>1</li>\n",
       "\t<li>2</li>\n",
       "\t<li>2</li>\n",
       "\t<li>2</li>\n",
       "\t<li>3</li>\n",
       "\t<li>3</li>\n",
       "\t<li>3</li>\n",
       "\t<li>4</li>\n",
       "\t<li>4</li>\n",
       "\t<li>4</li>\n",
       "</ol>\n"
      ],
      "text/latex": [
       "\\begin{enumerate*}\n",
       "\\item 1\n",
       "\\item 1\n",
       "\\item 1\n",
       "\\item 2\n",
       "\\item 2\n",
       "\\item 2\n",
       "\\item 3\n",
       "\\item 3\n",
       "\\item 3\n",
       "\\item 4\n",
       "\\item 4\n",
       "\\item 4\n",
       "\\end{enumerate*}\n"
      ],
      "text/markdown": [
       "1. 1\n",
       "2. 1\n",
       "3. 1\n",
       "4. 2\n",
       "5. 2\n",
       "6. 2\n",
       "7. 3\n",
       "8. 3\n",
       "9. 3\n",
       "10. 4\n",
       "11. 4\n",
       "12. 4\n",
       "\n",
       "\n"
      ],
      "text/plain": [
       " [1] 1 1 1 2 2 2 3 3 3 4 4 4"
      ]
     },
     "metadata": {},
     "output_type": "display_data"
    }
   ],
   "source": [
    "rep(x=c(1,2,3,4),each=3)"
   ]
  },
  {
   "cell_type": "markdown",
   "id": "forced-applicant",
   "metadata": {},
   "source": [
    "### 排序函数sort"
   ]
  },
  {
   "cell_type": "code",
   "execution_count": 25,
   "id": "bibliographic-radical",
   "metadata": {},
   "outputs": [
    {
     "data": {
      "text/html": [
       "<ol class=list-inline>\n",
       "\t<li>3</li>\n",
       "\t<li>2</li>\n",
       "\t<li>1</li>\n",
       "\t<li>-10</li>\n",
       "</ol>\n"
      ],
      "text/latex": [
       "\\begin{enumerate*}\n",
       "\\item 3\n",
       "\\item 2\n",
       "\\item 1\n",
       "\\item -10\n",
       "\\end{enumerate*}\n"
      ],
      "text/markdown": [
       "1. 3\n",
       "2. 2\n",
       "3. 1\n",
       "4. -10\n",
       "\n",
       "\n"
      ],
      "text/plain": [
       "[1]   3   2   1 -10"
      ]
     },
     "metadata": {},
     "output_type": "display_data"
    }
   ],
   "source": [
    "sort(x = c(2,1,-10,3),decreasing = TRUE)"
   ]
  },
  {
   "cell_type": "code",
   "execution_count": 24,
   "id": "collectible-broadcast",
   "metadata": {
    "scrolled": true
   },
   "outputs": [
    {
     "data": {
      "text/html": [
       "<ol class=list-inline>\n",
       "\t<li>-10</li>\n",
       "\t<li>1</li>\n",
       "\t<li>2</li>\n",
       "\t<li>3</li>\n",
       "</ol>\n"
      ],
      "text/latex": [
       "\\begin{enumerate*}\n",
       "\\item -10\n",
       "\\item 1\n",
       "\\item 2\n",
       "\\item 3\n",
       "\\end{enumerate*}\n"
      ],
      "text/markdown": [
       "1. -10\n",
       "2. 1\n",
       "3. 2\n",
       "4. 3\n",
       "\n",
       "\n"
      ],
      "text/plain": [
       "[1] -10   1   2   3"
      ]
     },
     "metadata": {},
     "output_type": "display_data"
    }
   ],
   "source": [
    "sort(x = c(2,1,-10,3))"
   ]
  },
  {
   "cell_type": "markdown",
   "id": "optical-syndicate",
   "metadata": {},
   "source": [
    "### 长度"
   ]
  },
  {
   "cell_type": "code",
   "execution_count": 26,
   "id": "physical-madness",
   "metadata": {
    "scrolled": false
   },
   "outputs": [
    {
     "data": {
      "text/html": [
       "19"
      ],
      "text/latex": [
       "19"
      ],
      "text/markdown": [
       "19"
      ],
      "text/plain": [
       "[1] 19"
      ]
     },
     "metadata": {},
     "output_type": "display_data"
    }
   ],
   "source": [
    "length(1:19)"
   ]
  },
  {
   "cell_type": "markdown",
   "id": "stuffed-marathon",
   "metadata": {},
   "source": [
    "### 索引与切片"
   ]
  },
  {
   "cell_type": "markdown",
   "id": "coordinated-turtle",
   "metadata": {},
   "source": [
    "#### 索引"
   ]
  },
  {
   "cell_type": "code",
   "execution_count": 17,
   "id": "sacred-stroke",
   "metadata": {
    "scrolled": true
   },
   "outputs": [
    {
     "data": {
      "text/html": [
       "<ol class=list-inline>\n",
       "\t<li>2</li>\n",
       "\t<li>3</li>\n",
       "\t<li>4</li>\n",
       "\t<li>5</li>\n",
       "\t<li>6</li>\n",
       "\t<li>7</li>\n",
       "\t<li>8</li>\n",
       "\t<li>9</li>\n",
       "\t<li>10</li>\n",
       "\t<li>11</li>\n",
       "\t<li>12</li>\n",
       "\t<li>13</li>\n",
       "\t<li>14</li>\n",
       "\t<li>15</li>\n",
       "\t<li>16</li>\n",
       "\t<li>17</li>\n",
       "\t<li>18</li>\n",
       "\t<li>19</li>\n",
       "</ol>\n"
      ],
      "text/latex": [
       "\\begin{enumerate*}\n",
       "\\item 2\n",
       "\\item 3\n",
       "\\item 4\n",
       "\\item 5\n",
       "\\item 6\n",
       "\\item 7\n",
       "\\item 8\n",
       "\\item 9\n",
       "\\item 10\n",
       "\\item 11\n",
       "\\item 12\n",
       "\\item 13\n",
       "\\item 14\n",
       "\\item 15\n",
       "\\item 16\n",
       "\\item 17\n",
       "\\item 18\n",
       "\\item 19\n",
       "\\end{enumerate*}\n"
      ],
      "text/markdown": [
       "1. 2\n",
       "2. 3\n",
       "3. 4\n",
       "4. 5\n",
       "5. 6\n",
       "6. 7\n",
       "7. 8\n",
       "8. 9\n",
       "9. 10\n",
       "10. 11\n",
       "11. 12\n",
       "12. 13\n",
       "13. 14\n",
       "14. 15\n",
       "15. 16\n",
       "16. 17\n",
       "17. 18\n",
       "18. 19\n",
       "\n",
       "\n"
      ],
      "text/plain": [
       " [1]  2  3  4  5  6  7  8  9 10 11 12 13 14 15 16 17 18 19"
      ]
     },
     "metadata": {},
     "output_type": "display_data"
    }
   ],
   "source": [
    "x=2:19\n",
    "x"
   ]
  },
  {
   "cell_type": "code",
   "execution_count": 16,
   "id": "conditional-rates",
   "metadata": {},
   "outputs": [
    {
     "data": {
      "text/html": [
       "6"
      ],
      "text/latex": [
       "6"
      ],
      "text/markdown": [
       "6"
      ],
      "text/plain": [
       "[1] 6"
      ]
     },
     "metadata": {},
     "output_type": "display_data"
    }
   ],
   "source": [
    "x[5]"
   ]
  },
  {
   "cell_type": "markdown",
   "id": "broken-reviewer",
   "metadata": {},
   "source": [
    "索引多个向量"
   ]
  },
  {
   "cell_type": "code",
   "execution_count": 23,
   "id": "devoted-donor",
   "metadata": {},
   "outputs": [
    {
     "data": {
      "text/html": [
       "<ol class=list-inline>\n",
       "\t<li>2</li>\n",
       "\t<li>3</li>\n",
       "\t<li>5</li>\n",
       "</ol>\n"
      ],
      "text/latex": [
       "\\begin{enumerate*}\n",
       "\\item 2\n",
       "\\item 3\n",
       "\\item 5\n",
       "\\end{enumerate*}\n"
      ],
      "text/markdown": [
       "1. 2\n",
       "2. 3\n",
       "3. 5\n",
       "\n",
       "\n"
      ],
      "text/plain": [
       "[1] 2 3 5"
      ]
     },
     "metadata": {},
     "output_type": "display_data"
    }
   ],
   "source": [
    "x[c(1,2,4)]"
   ]
  },
  {
   "cell_type": "markdown",
   "id": "standing-beaver",
   "metadata": {},
   "source": [
    "#### 删除元素"
   ]
  },
  {
   "cell_type": "code",
   "execution_count": 15,
   "id": "periodic-brooks",
   "metadata": {},
   "outputs": [
    {
     "data": {
      "text/html": [
       "<ol class=list-inline>\n",
       "\t<li>3</li>\n",
       "\t<li>4</li>\n",
       "\t<li>5</li>\n",
       "\t<li>6</li>\n",
       "\t<li>7</li>\n",
       "\t<li>8</li>\n",
       "\t<li>9</li>\n",
       "\t<li>10</li>\n",
       "\t<li>11</li>\n",
       "\t<li>12</li>\n",
       "\t<li>13</li>\n",
       "\t<li>14</li>\n",
       "\t<li>15</li>\n",
       "\t<li>16</li>\n",
       "\t<li>17</li>\n",
       "\t<li>18</li>\n",
       "\t<li>19</li>\n",
       "</ol>\n"
      ],
      "text/latex": [
       "\\begin{enumerate*}\n",
       "\\item 3\n",
       "\\item 4\n",
       "\\item 5\n",
       "\\item 6\n",
       "\\item 7\n",
       "\\item 8\n",
       "\\item 9\n",
       "\\item 10\n",
       "\\item 11\n",
       "\\item 12\n",
       "\\item 13\n",
       "\\item 14\n",
       "\\item 15\n",
       "\\item 16\n",
       "\\item 17\n",
       "\\item 18\n",
       "\\item 19\n",
       "\\end{enumerate*}\n"
      ],
      "text/markdown": [
       "1. 3\n",
       "2. 4\n",
       "3. 5\n",
       "4. 6\n",
       "5. 7\n",
       "6. 8\n",
       "7. 9\n",
       "8. 10\n",
       "9. 11\n",
       "10. 12\n",
       "11. 13\n",
       "12. 14\n",
       "13. 15\n",
       "14. 16\n",
       "15. 17\n",
       "16. 18\n",
       "17. 19\n",
       "\n",
       "\n"
      ],
      "text/plain": [
       " [1]  3  4  5  6  7  8  9 10 11 12 13 14 15 16 17 18 19"
      ]
     },
     "metadata": {},
     "output_type": "display_data"
    }
   ],
   "source": [
    "x[-1]   # 删除第二个元素"
   ]
  },
  {
   "cell_type": "code",
   "execution_count": 18,
   "id": "enormous-amateur",
   "metadata": {
    "scrolled": false
   },
   "outputs": [
    {
     "data": {
      "text/html": [
       "<ol class=list-inline>\n",
       "\t<li>2</li>\n",
       "\t<li>4</li>\n",
       "\t<li>5</li>\n",
       "\t<li>6</li>\n",
       "\t<li>7</li>\n",
       "\t<li>8</li>\n",
       "\t<li>9</li>\n",
       "\t<li>10</li>\n",
       "\t<li>11</li>\n",
       "\t<li>12</li>\n",
       "\t<li>13</li>\n",
       "\t<li>14</li>\n",
       "\t<li>15</li>\n",
       "\t<li>16</li>\n",
       "\t<li>17</li>\n",
       "\t<li>18</li>\n",
       "\t<li>19</li>\n",
       "</ol>\n"
      ],
      "text/latex": [
       "\\begin{enumerate*}\n",
       "\\item 2\n",
       "\\item 4\n",
       "\\item 5\n",
       "\\item 6\n",
       "\\item 7\n",
       "\\item 8\n",
       "\\item 9\n",
       "\\item 10\n",
       "\\item 11\n",
       "\\item 12\n",
       "\\item 13\n",
       "\\item 14\n",
       "\\item 15\n",
       "\\item 16\n",
       "\\item 17\n",
       "\\item 18\n",
       "\\item 19\n",
       "\\end{enumerate*}\n"
      ],
      "text/markdown": [
       "1. 2\n",
       "2. 4\n",
       "3. 5\n",
       "4. 6\n",
       "5. 7\n",
       "6. 8\n",
       "7. 9\n",
       "8. 10\n",
       "9. 11\n",
       "10. 12\n",
       "11. 13\n",
       "12. 14\n",
       "13. 15\n",
       "14. 16\n",
       "15. 17\n",
       "16. 18\n",
       "17. 19\n",
       "\n",
       "\n"
      ],
      "text/plain": [
       " [1]  2  4  5  6  7  8  9 10 11 12 13 14 15 16 17 18 19"
      ]
     },
     "metadata": {},
     "output_type": "display_data"
    }
   ],
   "source": [
    "x[-2]   # 删除第二个元素"
   ]
  },
  {
   "cell_type": "markdown",
   "id": "several-lindsay",
   "metadata": {},
   "source": [
    "删除多个元素"
   ]
  },
  {
   "cell_type": "code",
   "execution_count": 27,
   "id": "copyrighted-adams",
   "metadata": {},
   "outputs": [
    {
     "data": {
      "text/html": [
       "<ol class=list-inline>\n",
       "\t<li>3</li>\n",
       "\t<li>5</li>\n",
       "\t<li>6</li>\n",
       "\t<li>7</li>\n",
       "\t<li>8</li>\n",
       "\t<li>9</li>\n",
       "\t<li>10</li>\n",
       "\t<li>11</li>\n",
       "\t<li>12</li>\n",
       "\t<li>13</li>\n",
       "\t<li>14</li>\n",
       "\t<li>15</li>\n",
       "\t<li>16</li>\n",
       "\t<li>17</li>\n",
       "\t<li>18</li>\n",
       "\t<li>19</li>\n",
       "</ol>\n"
      ],
      "text/latex": [
       "\\begin{enumerate*}\n",
       "\\item 3\n",
       "\\item 5\n",
       "\\item 6\n",
       "\\item 7\n",
       "\\item 8\n",
       "\\item 9\n",
       "\\item 10\n",
       "\\item 11\n",
       "\\item 12\n",
       "\\item 13\n",
       "\\item 14\n",
       "\\item 15\n",
       "\\item 16\n",
       "\\item 17\n",
       "\\item 18\n",
       "\\item 19\n",
       "\\end{enumerate*}\n"
      ],
      "text/markdown": [
       "1. 3\n",
       "2. 5\n",
       "3. 6\n",
       "4. 7\n",
       "5. 8\n",
       "6. 9\n",
       "7. 10\n",
       "8. 11\n",
       "9. 12\n",
       "10. 13\n",
       "11. 14\n",
       "12. 15\n",
       "13. 16\n",
       "14. 17\n",
       "15. 18\n",
       "16. 19\n",
       "\n",
       "\n"
      ],
      "text/plain": [
       " [1]  3  5  6  7  8  9 10 11 12 13 14 15 16 17 18 19"
      ]
     },
     "metadata": {},
     "output_type": "display_data"
    }
   ],
   "source": [
    "x[-c(1,3)]"
   ]
  },
  {
   "cell_type": "markdown",
   "id": "neural-canadian",
   "metadata": {},
   "source": [
    "#### 切片"
   ]
  },
  {
   "cell_type": "code",
   "execution_count": 22,
   "id": "educational-superintendent",
   "metadata": {
    "scrolled": true
   },
   "outputs": [
    {
     "data": {
      "text/html": [
       "<ol class=list-inline>\n",
       "\t<li>2</li>\n",
       "\t<li>3</li>\n",
       "\t<li>4</li>\n",
       "\t<li>5</li>\n",
       "</ol>\n"
      ],
      "text/latex": [
       "\\begin{enumerate*}\n",
       "\\item 2\n",
       "\\item 3\n",
       "\\item 4\n",
       "\\item 5\n",
       "\\end{enumerate*}\n"
      ],
      "text/markdown": [
       "1. 2\n",
       "2. 3\n",
       "3. 4\n",
       "4. 5\n",
       "\n",
       "\n"
      ],
      "text/plain": [
       "[1] 2 3 4 5"
      ]
     },
     "metadata": {},
     "output_type": "display_data"
    }
   ],
   "source": [
    "x[1:4]"
   ]
  },
  {
   "cell_type": "markdown",
   "id": "equivalent-conspiracy",
   "metadata": {},
   "source": [
    "### 向量操作（广播）"
   ]
  },
  {
   "cell_type": "code",
   "execution_count": 29,
   "id": "identified-statistics",
   "metadata": {},
   "outputs": [
    {
     "data": {
      "text/html": [
       "<ol class=list-inline>\n",
       "\t<li>1</li>\n",
       "\t<li>1</li>\n",
       "\t<li>1</li>\n",
       "\t<li>1</li>\n",
       "\t<li>1</li>\n",
       "\t<li>1</li>\n",
       "</ol>\n"
      ],
      "text/latex": [
       "\\begin{enumerate*}\n",
       "\\item 1\n",
       "\\item 1\n",
       "\\item 1\n",
       "\\item 1\n",
       "\\item 1\n",
       "\\item 1\n",
       "\\end{enumerate*}\n"
      ],
      "text/markdown": [
       "1. 1\n",
       "2. 1\n",
       "3. 1\n",
       "4. 1\n",
       "5. 1\n",
       "6. 1\n",
       "\n",
       "\n"
      ],
      "text/plain": [
       "[1] 1 1 1 1 1 1"
      ]
     },
     "metadata": {},
     "output_type": "display_data"
    }
   ],
   "source": [
    "1:6-0:5"
   ]
  },
  {
   "cell_type": "markdown",
   "id": "convinced-antenna",
   "metadata": {},
   "source": [
    "#### 向量求和sum"
   ]
  },
  {
   "cell_type": "code",
   "execution_count": 30,
   "id": "banner-defensive",
   "metadata": {},
   "outputs": [
    {
     "data": {
      "text/html": [
       "210"
      ],
      "text/latex": [
       "210"
      ],
      "text/markdown": [
       "210"
      ],
      "text/plain": [
       "[1] 210"
      ]
     },
     "metadata": {},
     "output_type": "display_data"
    }
   ],
   "source": [
    "sum(1:20)"
   ]
  },
  {
   "cell_type": "markdown",
   "id": "ongoing-declaration",
   "metadata": {},
   "source": [
    "#### 连乘集prod"
   ]
  },
  {
   "cell_type": "code",
   "execution_count": 79,
   "id": "prostate-veteran",
   "metadata": {},
   "outputs": [
    {
     "data": {
      "text/html": [
       "2432902008176640000"
      ],
      "text/latex": [
       "2432902008176640000"
      ],
      "text/markdown": [
       "2432902008176640000"
      ],
      "text/plain": [
       "[1] 2.432902e+18"
      ]
     },
     "metadata": {},
     "output_type": "display_data"
    }
   ],
   "source": [
    "prod(1:20)"
   ]
  },
  {
   "cell_type": "markdown",
   "id": "criminal-department",
   "metadata": {},
   "source": [
    "## 逻辑值"
   ]
  },
  {
   "cell_type": "markdown",
   "id": "requested-person",
   "metadata": {},
   "source": [
    "可以将TRUE和FALSE缩写为T和F"
   ]
  },
  {
   "cell_type": "code",
   "execution_count": 80,
   "id": "encouraging-drain",
   "metadata": {},
   "outputs": [],
   "source": [
    "A=c(T,T,F,F)\n",
    "B=c(F,F,T,F)"
   ]
  },
  {
   "cell_type": "markdown",
   "id": "related-trail",
   "metadata": {},
   "source": [
    "### 元素间比较（与或非）"
   ]
  },
  {
   "cell_type": "code",
   "execution_count": 81,
   "id": "stainless-berry",
   "metadata": {},
   "outputs": [
    {
     "data": {
      "text/html": [
       "<ol class=list-inline>\n",
       "\t<li>FALSE</li>\n",
       "\t<li>FALSE</li>\n",
       "\t<li>FALSE</li>\n",
       "\t<li>FALSE</li>\n",
       "</ol>\n"
      ],
      "text/latex": [
       "\\begin{enumerate*}\n",
       "\\item FALSE\n",
       "\\item FALSE\n",
       "\\item FALSE\n",
       "\\item FALSE\n",
       "\\end{enumerate*}\n"
      ],
      "text/markdown": [
       "1. FALSE\n",
       "2. FALSE\n",
       "3. FALSE\n",
       "4. FALSE\n",
       "\n",
       "\n"
      ],
      "text/plain": [
       "[1] FALSE FALSE FALSE FALSE"
      ]
     },
     "metadata": {},
     "output_type": "display_data"
    }
   ],
   "source": [
    "A&B"
   ]
  },
  {
   "cell_type": "code",
   "execution_count": 82,
   "id": "bottom-legislature",
   "metadata": {},
   "outputs": [
    {
     "data": {
      "text/html": [
       "<ol class=list-inline>\n",
       "\t<li>TRUE</li>\n",
       "\t<li>TRUE</li>\n",
       "\t<li>TRUE</li>\n",
       "\t<li>FALSE</li>\n",
       "</ol>\n"
      ],
      "text/latex": [
       "\\begin{enumerate*}\n",
       "\\item TRUE\n",
       "\\item TRUE\n",
       "\\item TRUE\n",
       "\\item FALSE\n",
       "\\end{enumerate*}\n"
      ],
      "text/markdown": [
       "1. TRUE\n",
       "2. TRUE\n",
       "3. TRUE\n",
       "4. FALSE\n",
       "\n",
       "\n"
      ],
      "text/plain": [
       "[1]  TRUE  TRUE  TRUE FALSE"
      ]
     },
     "metadata": {},
     "output_type": "display_data"
    }
   ],
   "source": [
    "A|B"
   ]
  },
  {
   "cell_type": "code",
   "execution_count": 84,
   "id": "atlantic-republican",
   "metadata": {},
   "outputs": [
    {
     "data": {
      "text/html": [
       "<ol class=list-inline>\n",
       "\t<li>TRUE</li>\n",
       "\t<li>TRUE</li>\n",
       "\t<li>FALSE</li>\n",
       "\t<li>TRUE</li>\n",
       "</ol>\n"
      ],
      "text/latex": [
       "\\begin{enumerate*}\n",
       "\\item TRUE\n",
       "\\item TRUE\n",
       "\\item FALSE\n",
       "\\item TRUE\n",
       "\\end{enumerate*}\n"
      ],
      "text/markdown": [
       "1. TRUE\n",
       "2. TRUE\n",
       "3. FALSE\n",
       "4. TRUE\n",
       "\n",
       "\n"
      ],
      "text/plain": [
       "[1]  TRUE  TRUE FALSE  TRUE"
      ]
     },
     "metadata": {},
     "output_type": "display_data"
    }
   ],
   "source": [
    "!B"
   ]
  },
  {
   "cell_type": "markdown",
   "id": "bizarre-hygiene",
   "metadata": {},
   "source": [
    "### 值之间比较"
   ]
  },
  {
   "cell_type": "code",
   "execution_count": 85,
   "id": "complex-jungle",
   "metadata": {},
   "outputs": [
    {
     "data": {
      "text/html": [
       "FALSE"
      ],
      "text/latex": [
       "FALSE"
      ],
      "text/markdown": [
       "FALSE"
      ],
      "text/plain": [
       "[1] FALSE"
      ]
     },
     "metadata": {},
     "output_type": "display_data"
    }
   ],
   "source": [
    "A&&B"
   ]
  },
  {
   "cell_type": "code",
   "execution_count": 88,
   "id": "figured-basement",
   "metadata": {},
   "outputs": [
    {
     "data": {
      "text/html": [
       "TRUE"
      ],
      "text/latex": [
       "TRUE"
      ],
      "text/markdown": [
       "TRUE"
      ],
      "text/plain": [
       "[1] TRUE"
      ]
     },
     "metadata": {},
     "output_type": "display_data"
    }
   ],
   "source": [
    "A&&c(T,T,T,T)"
   ]
  },
  {
   "cell_type": "markdown",
   "id": "cheap-fraud",
   "metadata": {},
   "source": [
    "### 将正布尔值列表的索引转向量值which"
   ]
  },
  {
   "cell_type": "code",
   "execution_count": 2,
   "id": "behind-hanging",
   "metadata": {},
   "outputs": [],
   "source": [
    "x=c(1,4,3,-2,321,-90)"
   ]
  },
  {
   "cell_type": "code",
   "execution_count": 3,
   "id": "detected-seating",
   "metadata": {},
   "outputs": [
    {
     "data": {
      "text/html": [
       "<style>\n",
       ".list-inline {list-style: none; margin:0; padding: 0}\n",
       ".list-inline>li {display: inline-block}\n",
       ".list-inline>li:not(:last-child)::after {content: \"\\00b7\"; padding: 0 .5ex}\n",
       "</style>\n",
       "<ol class=list-inline><li>1</li><li>2</li><li>3</li><li>5</li></ol>\n"
      ],
      "text/latex": [
       "\\begin{enumerate*}\n",
       "\\item 1\n",
       "\\item 2\n",
       "\\item 3\n",
       "\\item 5\n",
       "\\end{enumerate*}\n"
      ],
      "text/markdown": [
       "1. 1\n",
       "2. 2\n",
       "3. 3\n",
       "4. 5\n",
       "\n",
       "\n"
      ],
      "text/plain": [
       "[1] 1 2 3 5"
      ]
     },
     "metadata": {},
     "output_type": "display_data"
    }
   ],
   "source": [
    "y=which(x>0)\n",
    "y"
   ]
  },
  {
   "cell_type": "markdown",
   "id": "funny-missile",
   "metadata": {},
   "source": [
    "删除大于0的数"
   ]
  },
  {
   "cell_type": "code",
   "execution_count": 4,
   "id": "primary-crisis",
   "metadata": {
    "scrolled": true
   },
   "outputs": [
    {
     "data": {
      "text/html": [
       "<style>\n",
       ".list-inline {list-style: none; margin:0; padding: 0}\n",
       ".list-inline>li {display: inline-block}\n",
       ".list-inline>li:not(:last-child)::after {content: \"\\00b7\"; padding: 0 .5ex}\n",
       "</style>\n",
       "<ol class=list-inline><li>-2</li><li>-90</li></ol>\n"
      ],
      "text/latex": [
       "\\begin{enumerate*}\n",
       "\\item -2\n",
       "\\item -90\n",
       "\\end{enumerate*}\n"
      ],
      "text/markdown": [
       "1. -2\n",
       "2. -90\n",
       "\n",
       "\n"
      ],
      "text/plain": [
       "[1]  -2 -90"
      ]
     },
     "metadata": {},
     "output_type": "display_data"
    }
   ],
   "source": [
    "x[-y]"
   ]
  },
  {
   "cell_type": "markdown",
   "id": "invalid-samba",
   "metadata": {},
   "source": [
    "## 字符"
   ]
  },
  {
   "cell_type": "markdown",
   "id": "nasty-creation",
   "metadata": {},
   "source": [
    "### 创建字符串"
   ]
  },
  {
   "cell_type": "code",
   "execution_count": 103,
   "id": "elegant-unknown",
   "metadata": {},
   "outputs": [],
   "source": [
    "ch=\"hello\"\n",
    "ch2=\"peter\""
   ]
  },
  {
   "cell_type": "markdown",
   "id": "representative-water",
   "metadata": {},
   "source": [
    "字符串个数"
   ]
  },
  {
   "cell_type": "code",
   "execution_count": 100,
   "id": "labeled-encounter",
   "metadata": {},
   "outputs": [
    {
     "data": {
      "text/html": [
       "1"
      ],
      "text/latex": [
       "1"
      ],
      "text/markdown": [
       "1"
      ],
      "text/plain": [
       "[1] 1"
      ]
     },
     "metadata": {},
     "output_type": "display_data"
    }
   ],
   "source": [
    "length(ch)"
   ]
  },
  {
   "cell_type": "markdown",
   "id": "biblical-swedish",
   "metadata": {},
   "source": [
    "字符数"
   ]
  },
  {
   "cell_type": "code",
   "execution_count": 101,
   "id": "catholic-emphasis",
   "metadata": {},
   "outputs": [
    {
     "data": {
      "text/html": [
       "5"
      ],
      "text/latex": [
       "5"
      ],
      "text/markdown": [
       "5"
      ],
      "text/plain": [
       "[1] 5"
      ]
     },
     "metadata": {},
     "output_type": "display_data"
    }
   ],
   "source": [
    "nchar(ch)"
   ]
  },
  {
   "cell_type": "markdown",
   "id": "talented-presence",
   "metadata": {},
   "source": [
    "### 连接字符串paste"
   ]
  },
  {
   "cell_type": "code",
   "execution_count": 105,
   "id": "better-debate",
   "metadata": {},
   "outputs": [
    {
     "data": {
      "text/html": [
       "'hello peter'"
      ],
      "text/latex": [
       "'hello peter'"
      ],
      "text/markdown": [
       "'hello peter'"
      ],
      "text/plain": [
       "[1] \"hello peter\""
      ]
     },
     "metadata": {},
     "output_type": "display_data"
    }
   ],
   "source": [
    "x= paste(ch,ch2)\n",
    "x"
   ]
  },
  {
   "cell_type": "code",
   "execution_count": 107,
   "id": "annoying-raleigh",
   "metadata": {
    "scrolled": true
   },
   "outputs": [
    {
     "data": {
      "text/html": [
       "'hello!peter'"
      ],
      "text/latex": [
       "'hello!peter'"
      ],
      "text/markdown": [
       "'hello!peter'"
      ],
      "text/plain": [
       "[1] \"hello!peter\""
      ]
     },
     "metadata": {},
     "output_type": "display_data"
    }
   ],
   "source": [
    "x= paste(ch,ch2,sep = \"!\")\n",
    "x"
   ]
  },
  {
   "cell_type": "markdown",
   "id": "graphic-attachment",
   "metadata": {},
   "source": [
    "## 因子"
   ]
  },
  {
   "cell_type": "markdown",
   "id": "driving-johnson",
   "metadata": {},
   "source": [
    "# 编程"
   ]
  },
  {
   "cell_type": "markdown",
   "id": "complete-darkness",
   "metadata": {},
   "source": [
    "## 输入与输出"
   ]
  },
  {
   "cell_type": "markdown",
   "id": "floral-ambassador",
   "metadata": {},
   "source": [
    "### 读取csv"
   ]
  },
  {
   "cell_type": "markdown",
   "id": "naughty-invention",
   "metadata": {},
   "source": [
    "```read_csv(\"testcsv.csv\",col_names=c(\"name\", \"x\", \"y\"),locale=locale(encoding=\"GBK\"))```"
   ]
  },
  {
   "cell_type": "code",
   "execution_count": 21,
   "id": "elegant-farmer",
   "metadata": {
    "scrolled": false
   },
   "outputs": [
    {
     "data": {
      "text/html": [
       "<table class=\"dataframe\">\n",
       "<caption>A spec_tbl_df: 3 × 3</caption>\n",
       "<thead>\n",
       "\t<tr><th scope=col>name</th><th scope=col>x</th><th scope=col>y</th></tr>\n",
       "\t<tr><th scope=col>&lt;chr&gt;</th><th scope=col>&lt;dbl&gt;</th><th scope=col>&lt;dbl&gt;</th></tr>\n",
       "</thead>\n",
       "<tbody>\n",
       "\t<tr><td>John </td><td>33</td><td> 95</td></tr>\n",
       "\t<tr><td>Kim  </td><td>21</td><td> 64</td></tr>\n",
       "\t<tr><td>Sandy</td><td>49</td><td>100</td></tr>\n",
       "</tbody>\n",
       "</table>\n"
      ],
      "text/latex": [
       "A spec\\_tbl\\_df: 3 × 3\n",
       "\\begin{tabular}{lll}\n",
       " name & x & y\\\\\n",
       " <chr> & <dbl> & <dbl>\\\\\n",
       "\\hline\n",
       "\t John  & 33 &  95\\\\\n",
       "\t Kim   & 21 &  64\\\\\n",
       "\t Sandy & 49 & 100\\\\\n",
       "\\end{tabular}\n"
      ],
      "text/markdown": [
       "\n",
       "A spec_tbl_df: 3 × 3\n",
       "\n",
       "| name &lt;chr&gt; | x &lt;dbl&gt; | y &lt;dbl&gt; |\n",
       "|---|---|---|\n",
       "| John  | 33 |  95 |\n",
       "| Kim   | 21 |  64 |\n",
       "| Sandy | 49 | 100 |\n",
       "\n"
      ],
      "text/plain": [
       "  name  x  y  \n",
       "1 John  33  95\n",
       "2 Kim   21  64\n",
       "3 Sandy 49 100"
      ]
     },
     "metadata": {},
     "output_type": "display_data"
    }
   ],
   "source": [
    "library(readr)\n",
    "d.small <- read_csv(\"name,x,y\n",
    "John, 33, 95\n",
    "Kim, 21, 64\n",
    "Sandy, 49, 100\n",
    "\")\n",
    "d.small"
   ]
  },
  {
   "cell_type": "markdown",
   "id": "treated-dialogue",
   "metadata": {},
   "source": [
    "### 读写excel"
   ]
  },
  {
   "cell_type": "code",
   "execution_count": 24,
   "id": "basic-nudist",
   "metadata": {},
   "outputs": [
    {
     "name": "stderr",
     "output_type": "stream",
     "text": [
      "Warning message:\n",
      "\"package 'tibble' was built under R version 3.6.3\""
     ]
    }
   ],
   "source": [
    "library(tibble)"
   ]
  },
  {
   "cell_type": "code",
   "execution_count": 25,
   "id": "partial-overhead",
   "metadata": {},
   "outputs": [],
   "source": [
    "d1 <- tibble(\"学号\"=c(\"101\", \"103\", \"104\"),\n",
    "             \"数学\"=c(85, 60, 73), \n",
    "             \"语文\"=c(90, 78, 80))\n",
    "write.csv(d1, file=\"tmp1.csv\", row.names=FALSE)"
   ]
  },
  {
   "cell_type": "markdown",
   "id": "graduate-ferry",
   "metadata": {},
   "source": [
    "## 程序控制结构"
   ]
  },
  {
   "cell_type": "markdown",
   "id": "possible-singer",
   "metadata": {},
   "source": [
    "### if"
   ]
  },
  {
   "cell_type": "markdown",
   "id": "loving-steel",
   "metadata": {},
   "source": [
    "```if(x>0) y <- 1 else y <- 0```\n",
    "<br>用逻辑下标代替分支结构\n",
    "```\n",
    "y <- numeric(length(x))\n",
    "y[x>0] <- 1\n",
    "y```"
   ]
  },
  {
   "cell_type": "markdown",
   "id": "every-registration",
   "metadata": {},
   "source": [
    "### while循环和repeat循环"
   ]
  },
  {
   "cell_type": "markdown",
   "id": "bronze-canada",
   "metadata": {},
   "source": [
    "repeat循环是无条件循环\n",
    "```repeat{\n",
    "  ...\n",
    "  if(循环退出条件) break\n",
    "}```"
   ]
  },
  {
   "cell_type": "markdown",
   "id": "rocky-annual",
   "metadata": {},
   "source": [
    "## 函数"
   ]
  },
  {
   "cell_type": "markdown",
   "id": "printable-mixture",
   "metadata": {},
   "source": [
    "### 函数定义"
   ]
  },
  {
   "cell_type": "code",
   "execution_count": 28,
   "id": "gorgeous-admission",
   "metadata": {},
   "outputs": [
    {
     "data": {
      "image/png": "[encoded data removed]",
      "text/plain": [
       "plot without title"
      ]
     },
     "metadata": {},
     "output_type": "display_data"
    }
   ],
   "source": [
    "f <- function() {\n",
    "  x <- seq(0, 2*pi, length=50)\n",
    "  y1 <- sin(x)\n",
    "  y2 <- cos(x)\n",
    "  plot(x, y1, type=\"l\", lwd=2, col=\"red\",\n",
    "       xlab=\"x\", ylab=\"\")\n",
    "  lines(x, y2, lwd=2, col=\"blue\")\n",
    "  abline(h=0, col=\"gray\")\n",
    "}\n",
    "f()"
   ]
  },
  {
   "cell_type": "markdown",
   "id": "graduate-greensboro",
   "metadata": {},
   "source": [
    "# 特殊值，类型与转换"
   ]
  },
  {
   "cell_type": "markdown",
   "id": "otherwise-nashville",
   "metadata": {},
   "source": [
    "## 特殊值"
   ]
  },
  {
   "cell_type": "markdown",
   "id": "sticky-contract",
   "metadata": {},
   "source": [
    "### 无穷数"
   ]
  },
  {
   "cell_type": "markdown",
   "id": "unable-gospel",
   "metadata": {},
   "source": [
    "加减乘除都是无穷"
   ]
  },
  {
   "cell_type": "code",
   "execution_count": 32,
   "id": "earlier-protection",
   "metadata": {},
   "outputs": [
    {
     "data": {
      "text/html": [
       "-Inf"
      ],
      "text/latex": [
       "-Inf"
      ],
      "text/markdown": [
       "-Inf"
      ],
      "text/plain": [
       "[1] -Inf"
      ]
     },
     "metadata": {},
     "output_type": "display_data"
    }
   ],
   "source": [
    "Inf*-9\n",
    "Inf+1\n",
    "4*-Inf\n",
    "-45.2-Inf\n",
    "Inf-45.2\n",
    "Inf+Inf\n",
    "Inf/23"
   ]
  },
  {
   "cell_type": "code",
   "execution_count": 34,
   "id": "honest-anatomy",
   "metadata": {
    "scrolled": true
   },
   "outputs": [
    {
     "data": {
      "text/html": [
       "0"
      ],
      "text/latex": [
       "0"
      ],
      "text/markdown": [
       "0"
      ],
      "text/plain": [
       "[1] 0"
      ]
     },
     "metadata": {},
     "output_type": "display_data"
    },
    {
     "data": {
      "text/html": [
       "0"
      ],
      "text/latex": [
       "0"
      ],
      "text/markdown": [
       "0"
      ],
      "text/plain": [
       "[1] 0"
      ]
     },
     "metadata": {},
     "output_type": "display_data"
    }
   ],
   "source": [
    "-59/Inf\n",
    "-59/-Inf"
   ]
  },
  {
   "cell_type": "markdown",
   "id": "built-wealth",
   "metadata": {},
   "source": [
    "判断是否是无穷"
   ]
  },
  {
   "cell_type": "code",
   "execution_count": 37,
   "id": "violent-consumption",
   "metadata": {},
   "outputs": [
    {
     "data": {
      "text/html": [
       "<ol class=list-inline>\n",
       "\t<li>FALSE</li>\n",
       "\t<li>FALSE</li>\n",
       "\t<li>TRUE</li>\n",
       "\t<li>TRUE</li>\n",
       "\t<li>TRUE</li>\n",
       "\t<li>FALSE</li>\n",
       "</ol>\n"
      ],
      "text/latex": [
       "\\begin{enumerate*}\n",
       "\\item FALSE\n",
       "\\item FALSE\n",
       "\\item TRUE\n",
       "\\item TRUE\n",
       "\\item TRUE\n",
       "\\item FALSE\n",
       "\\end{enumerate*}\n"
      ],
      "text/markdown": [
       "1. FALSE\n",
       "2. FALSE\n",
       "3. TRUE\n",
       "4. TRUE\n",
       "5. TRUE\n",
       "6. FALSE\n",
       "\n",
       "\n"
      ],
      "text/plain": [
       "[1] FALSE FALSE  TRUE  TRUE  TRUE FALSE"
      ]
     },
     "metadata": {},
     "output_type": "display_data"
    },
    {
     "data": {
      "text/html": [
       "<ol class=list-inline>\n",
       "\t<li>TRUE</li>\n",
       "\t<li>TRUE</li>\n",
       "\t<li>FALSE</li>\n",
       "\t<li>FALSE</li>\n",
       "\t<li>FALSE</li>\n",
       "\t<li>TRUE</li>\n",
       "</ol>\n"
      ],
      "text/latex": [
       "\\begin{enumerate*}\n",
       "\\item TRUE\n",
       "\\item TRUE\n",
       "\\item FALSE\n",
       "\\item FALSE\n",
       "\\item FALSE\n",
       "\\item TRUE\n",
       "\\end{enumerate*}\n"
      ],
      "text/markdown": [
       "1. TRUE\n",
       "2. TRUE\n",
       "3. FALSE\n",
       "4. FALSE\n",
       "5. FALSE\n",
       "6. TRUE\n",
       "\n",
       "\n"
      ],
      "text/plain": [
       "[1]  TRUE  TRUE FALSE FALSE FALSE  TRUE"
      ]
     },
     "metadata": {},
     "output_type": "display_data"
    }
   ],
   "source": [
    "qux <- c(-42,565,-Inf,-Inf,Inf,-45632.3)\n",
    "is.infinite(x=qux)\n",
    "is.finite(x=qux)"
   ]
  },
  {
   "cell_type": "code",
   "execution_count": 38,
   "id": "measured-award",
   "metadata": {},
   "outputs": [
    {
     "data": {
      "text/html": [
       "TRUE"
      ],
      "text/latex": [
       "TRUE"
      ],
      "text/markdown": [
       "TRUE"
      ],
      "text/plain": [
       "[1] TRUE"
      ]
     },
     "metadata": {},
     "output_type": "display_data"
    },
    {
     "data": {
      "text/html": [
       "FALSE"
      ],
      "text/latex": [
       "FALSE"
      ],
      "text/markdown": [
       "FALSE"
      ],
      "text/plain": [
       "[1] FALSE"
      ]
     },
     "metadata": {},
     "output_type": "display_data"
    },
    {
     "data": {
      "text/html": [
       "<ol class=list-inline>\n",
       "\t<li>FALSE</li>\n",
       "\t<li>FALSE</li>\n",
       "\t<li>FALSE</li>\n",
       "\t<li>FALSE</li>\n",
       "\t<li>TRUE</li>\n",
       "\t<li>FALSE</li>\n",
       "</ol>\n"
      ],
      "text/latex": [
       "\\begin{enumerate*}\n",
       "\\item FALSE\n",
       "\\item FALSE\n",
       "\\item FALSE\n",
       "\\item FALSE\n",
       "\\item TRUE\n",
       "\\item FALSE\n",
       "\\end{enumerate*}\n"
      ],
      "text/markdown": [
       "1. FALSE\n",
       "2. FALSE\n",
       "3. FALSE\n",
       "4. FALSE\n",
       "5. TRUE\n",
       "6. FALSE\n",
       "\n",
       "\n"
      ],
      "text/plain": [
       "[1] FALSE FALSE FALSE FALSE  TRUE FALSE"
      ]
     },
     "metadata": {},
     "output_type": "display_data"
    },
    {
     "data": {
      "text/html": [
       "<ol class=list-inline>\n",
       "\t<li>FALSE</li>\n",
       "\t<li>FALSE</li>\n",
       "\t<li>TRUE</li>\n",
       "\t<li>TRUE</li>\n",
       "\t<li>FALSE</li>\n",
       "\t<li>FALSE</li>\n",
       "</ol>\n"
      ],
      "text/latex": [
       "\\begin{enumerate*}\n",
       "\\item FALSE\n",
       "\\item FALSE\n",
       "\\item TRUE\n",
       "\\item TRUE\n",
       "\\item FALSE\n",
       "\\item FALSE\n",
       "\\end{enumerate*}\n"
      ],
      "text/markdown": [
       "1. FALSE\n",
       "2. FALSE\n",
       "3. TRUE\n",
       "4. TRUE\n",
       "5. FALSE\n",
       "6. FALSE\n",
       "\n",
       "\n"
      ],
      "text/plain": [
       "[1] FALSE FALSE  TRUE  TRUE FALSE FALSE"
      ]
     },
     "metadata": {},
     "output_type": "display_data"
    }
   ],
   "source": [
    "-Inf<Inf\n",
    "Inf>Inf\n",
    "qux==Inf\n",
    "qux==-Inf"
   ]
  },
  {
   "cell_type": "markdown",
   "id": "obvious-fancy",
   "metadata": {},
   "source": [
    "### NaN"
   ]
  },
  {
   "cell_type": "code",
   "execution_count": 40,
   "id": "widespread-jimmy",
   "metadata": {},
   "outputs": [
    {
     "data": {
      "text/html": [
       "TRUE"
      ],
      "text/latex": [
       "TRUE"
      ],
      "text/markdown": [
       "TRUE"
      ],
      "text/plain": [
       "[1] TRUE"
      ]
     },
     "metadata": {},
     "output_type": "display_data"
    },
    {
     "data": {
      "text/html": [
       "FALSE"
      ],
      "text/latex": [
       "FALSE"
      ],
      "text/markdown": [
       "FALSE"
      ],
      "text/plain": [
       "[1] FALSE"
      ]
     },
     "metadata": {},
     "output_type": "display_data"
    }
   ],
   "source": [
    "a=NaN\n",
    "is.nan(a)\n",
    "is.nan(1)"
   ]
  },
  {
   "cell_type": "markdown",
   "id": "subsequent-barbados",
   "metadata": {},
   "source": [
    "### 缺失值NaN"
   ]
  },
  {
   "cell_type": "markdown",
   "id": "healthy-trinity",
   "metadata": {},
   "source": [
    "NaN是不必要的，不需要时可以删除<br>\n",
    "NULL是必要的，不能删除"
   ]
  },
  {
   "cell_type": "code",
   "execution_count": 7,
   "id": "extraordinary-practitioner",
   "metadata": {
    "scrolled": true
   },
   "outputs": [
    {
     "data": {
      "text/html": [
       "<strong>png:</strong> 2"
      ],
      "text/latex": [
       "\\textbf{png:} 2"
      ],
      "text/markdown": [
       "**png:** 2"
      ],
      "text/plain": [
       "png \n",
       "  2 "
      ]
     },
     "metadata": {},
     "output_type": "display_data"
    }
   ],
   "source": []
  },
  {
   "cell_type": "code",
   "execution_count": 42,
   "id": "noticed-encoding",
   "metadata": {
    "scrolled": true
   },
   "outputs": [
    {
     "data": {
      "text/html": [
       "<ol class=list-inline>\n",
       "\t<li>&lt;NA&gt;</li>\n",
       "\t<li>5.89</li>\n",
       "\t<li>Inf</li>\n",
       "\t<li>&lt;NA&gt;</li>\n",
       "\t<li>9.43</li>\n",
       "\t<li>-2.35</li>\n",
       "\t<li>NaN</li>\n",
       "\t<li>2.1</li>\n",
       "\t<li>-8.53</li>\n",
       "\t<li>-7.58</li>\n",
       "\t<li>&lt;NA&gt;</li>\n",
       "\t<li>-4.58</li>\n",
       "\t<li>2.01</li>\n",
       "\t<li>NaN</li>\n",
       "</ol>\n"
      ],
      "text/latex": [
       "\\begin{enumerate*}\n",
       "\\item <NA>\n",
       "\\item 5.89\n",
       "\\item Inf\n",
       "\\item <NA>\n",
       "\\item 9.43\n",
       "\\item -2.35\n",
       "\\item NaN\n",
       "\\item 2.1\n",
       "\\item -8.53\n",
       "\\item -7.58\n",
       "\\item <NA>\n",
       "\\item -4.58\n",
       "\\item 2.01\n",
       "\\item NaN\n",
       "\\end{enumerate*}\n"
      ],
      "text/markdown": [
       "1. &lt;NA&gt;\n",
       "2. 5.89\n",
       "3. Inf\n",
       "4. &lt;NA&gt;\n",
       "5. 9.43\n",
       "6. -2.35\n",
       "7. NaN\n",
       "8. 2.1\n",
       "9. -8.53\n",
       "10. -7.58\n",
       "11. &lt;NA&gt;\n",
       "12. -4.58\n",
       "13. 2.01\n",
       "14. NaN\n",
       "\n",
       "\n"
      ],
      "text/plain": [
       " [1]    NA  5.89   Inf    NA  9.43 -2.35   NaN  2.10 -8.53 -7.58    NA -4.58\n",
       "[13]  2.01   NaN"
      ]
     },
     "metadata": {},
     "output_type": "display_data"
    },
    {
     "data": {
      "text/html": [
       "<ol class=list-inline>\n",
       "\t<li>TRUE</li>\n",
       "\t<li>FALSE</li>\n",
       "\t<li>FALSE</li>\n",
       "\t<li>TRUE</li>\n",
       "\t<li>FALSE</li>\n",
       "\t<li>FALSE</li>\n",
       "\t<li>TRUE</li>\n",
       "\t<li>FALSE</li>\n",
       "\t<li>FALSE</li>\n",
       "\t<li>FALSE</li>\n",
       "\t<li>TRUE</li>\n",
       "\t<li>FALSE</li>\n",
       "\t<li>FALSE</li>\n",
       "\t<li>TRUE</li>\n",
       "</ol>\n"
      ],
      "text/latex": [
       "\\begin{enumerate*}\n",
       "\\item TRUE\n",
       "\\item FALSE\n",
       "\\item FALSE\n",
       "\\item TRUE\n",
       "\\item FALSE\n",
       "\\item FALSE\n",
       "\\item TRUE\n",
       "\\item FALSE\n",
       "\\item FALSE\n",
       "\\item FALSE\n",
       "\\item TRUE\n",
       "\\item FALSE\n",
       "\\item FALSE\n",
       "\\item TRUE\n",
       "\\end{enumerate*}\n"
      ],
      "text/markdown": [
       "1. TRUE\n",
       "2. FALSE\n",
       "3. FALSE\n",
       "4. TRUE\n",
       "5. FALSE\n",
       "6. FALSE\n",
       "7. TRUE\n",
       "8. FALSE\n",
       "9. FALSE\n",
       "10. FALSE\n",
       "11. TRUE\n",
       "12. FALSE\n",
       "13. FALSE\n",
       "14. TRUE\n",
       "\n",
       "\n"
      ],
      "text/plain": [
       " [1]  TRUE FALSE FALSE  TRUE FALSE FALSE  TRUE FALSE FALSE FALSE  TRUE FALSE\n",
       "[13] FALSE  TRUE"
      ]
     },
     "metadata": {},
     "output_type": "display_data"
    }
   ],
   "source": [
    "qux <- c(NA,5.89,Inf,NA,9.43,-2.35,NaN,2.10,-8.53,-7.58,NA,-4.58,2.01,NaN)\n",
    "qux\n",
    "\n",
    "is.na(x=qux)"
   ]
  },
  {
   "cell_type": "markdown",
   "id": "national-microphone",
   "metadata": {},
   "source": [
    "删除缺失值"
   ]
  },
  {
   "cell_type": "code",
   "execution_count": 45,
   "id": "described-harvey",
   "metadata": {},
   "outputs": [
    {
     "data": {
      "text/html": [
       "<ol class=list-inline>\n",
       "\t<li>5.89</li>\n",
       "\t<li>Inf</li>\n",
       "\t<li>9.43</li>\n",
       "\t<li>-2.35</li>\n",
       "\t<li>2.1</li>\n",
       "\t<li>-8.53</li>\n",
       "\t<li>-7.58</li>\n",
       "\t<li>-4.58</li>\n",
       "\t<li>2.01</li>\n",
       "</ol>\n"
      ],
      "text/latex": [
       "\\begin{enumerate*}\n",
       "\\item 5.89\n",
       "\\item Inf\n",
       "\\item 9.43\n",
       "\\item -2.35\n",
       "\\item 2.1\n",
       "\\item -8.53\n",
       "\\item -7.58\n",
       "\\item -4.58\n",
       "\\item 2.01\n",
       "\\end{enumerate*}\n"
      ],
      "text/markdown": [
       "1. 5.89\n",
       "2. Inf\n",
       "3. 9.43\n",
       "4. -2.35\n",
       "5. 2.1\n",
       "6. -8.53\n",
       "7. -7.58\n",
       "8. -4.58\n",
       "9. 2.01\n",
       "\n",
       "\n"
      ],
      "text/plain": [
       "[1]  5.89   Inf  9.43 -2.35  2.10 -8.53 -7.58 -4.58  2.01\n",
       "attr(,\"na.action\")\n",
       "[1]  1  4  7 11 14\n",
       "attr(,\"class\")\n",
       "[1] \"omit\""
      ]
     },
     "metadata": {},
     "output_type": "display_data"
    }
   ],
   "source": [
    "quux <- na.omit(object=qux)\n",
    "quux"
   ]
  },
  {
   "cell_type": "markdown",
   "id": "conservative-greensboro",
   "metadata": {},
   "source": [
    "### 空值NULL"
   ]
  },
  {
   "cell_type": "code",
   "execution_count": 47,
   "id": "removable-secretariat",
   "metadata": {},
   "outputs": [
    {
     "data": {
      "text/html": [
       "FALSE"
      ],
      "text/latex": [
       "FALSE"
      ],
      "text/markdown": [
       "FALSE"
      ],
      "text/plain": [
       "[1] FALSE"
      ]
     },
     "metadata": {},
     "output_type": "display_data"
    }
   ],
   "source": [
    "opt.arg <- c(\"string1\",\"string2\",\"string3\")\n",
    "is.null(x=opt.arg)"
   ]
  },
  {
   "cell_type": "markdown",
   "id": "intermediate-lease",
   "metadata": {},
   "source": [
    "## 类型"
   ]
  },
  {
   "cell_type": "markdown",
   "id": "returning-allocation",
   "metadata": {},
   "source": [
    "### 属性"
   ]
  },
  {
   "cell_type": "markdown",
   "id": "wrong-dover",
   "metadata": {},
   "source": [
    "获取属性"
   ]
  },
  {
   "cell_type": "code",
   "execution_count": 48,
   "id": "invisible-answer",
   "metadata": {},
   "outputs": [
    {
     "data": {
      "text/html": [
       "<table>\n",
       "<tbody>\n",
       "\t<tr><td>1</td><td>4</td><td>7</td></tr>\n",
       "\t<tr><td>2</td><td>5</td><td>8</td></tr>\n",
       "\t<tr><td>3</td><td>6</td><td>9</td></tr>\n",
       "</tbody>\n",
       "</table>\n"
      ],
      "text/latex": [
       "\\begin{tabular}{lll}\n",
       "\t 1 & 4 & 7\\\\\n",
       "\t 2 & 5 & 8\\\\\n",
       "\t 3 & 6 & 9\\\\\n",
       "\\end{tabular}\n"
      ],
      "text/markdown": [
       "\n",
       "| 1 | 4 | 7 |\n",
       "| 2 | 5 | 8 |\n",
       "| 3 | 6 | 9 |\n",
       "\n"
      ],
      "text/plain": [
       "     [,1] [,2] [,3]\n",
       "[1,] 1    4    7   \n",
       "[2,] 2    5    8   \n",
       "[3,] 3    6    9   "
      ]
     },
     "metadata": {},
     "output_type": "display_data"
    },
    {
     "data": {
      "text/html": [
       "<strong>$dim</strong> = <ol class=list-inline>\n",
       "\t<li>3</li>\n",
       "\t<li>3</li>\n",
       "</ol>\n"
      ],
      "text/latex": [
       "\\textbf{\\$dim} = \\begin{enumerate*}\n",
       "\\item 3\n",
       "\\item 3\n",
       "\\end{enumerate*}\n"
      ],
      "text/markdown": [
       "**$dim** = 1. 3\n",
       "2. 3\n",
       "\n",
       "\n"
      ],
      "text/plain": [
       "$dim\n",
       "[1] 3 3\n"
      ]
     },
     "metadata": {},
     "output_type": "display_data"
    }
   ],
   "source": [
    "foo <- matrix(data=1:9,nrow=3,ncol=3)\n",
    "foo\n",
    "\n",
    "attributes(foo)"
   ]
  },
  {
   "cell_type": "code",
   "execution_count": 51,
   "id": "valued-joyce",
   "metadata": {},
   "outputs": [
    {
     "data": {
      "text/html": [
       "<ol class=list-inline>\n",
       "\t<li>3</li>\n",
       "\t<li>3</li>\n",
       "</ol>\n"
      ],
      "text/latex": [
       "\\begin{enumerate*}\n",
       "\\item 3\n",
       "\\item 3\n",
       "\\end{enumerate*}\n"
      ],
      "text/markdown": [
       "1. 3\n",
       "2. 3\n",
       "\n",
       "\n"
      ],
      "text/plain": [
       "[1] 3 3"
      ]
     },
     "metadata": {},
     "output_type": "display_data"
    }
   ],
   "source": [
    "dim(foo)"
   ]
  },
  {
   "cell_type": "markdown",
   "id": "thousand-argentina",
   "metadata": {},
   "source": [
    "### 对象类别"
   ]
  },
  {
   "cell_type": "markdown",
   "id": "missing-sensitivity",
   "metadata": {},
   "source": [
    "#### 查看类别"
   ]
  },
  {
   "cell_type": "code",
   "execution_count": 54,
   "id": "viral-playing",
   "metadata": {},
   "outputs": [
    {
     "data": {
      "text/html": [
       "<ol class=list-inline>\n",
       "\t<li>1</li>\n",
       "\t<li>2</li>\n",
       "\t<li>3</li>\n",
       "\t<li>4</li>\n",
       "</ol>\n"
      ],
      "text/latex": [
       "\\begin{enumerate*}\n",
       "\\item 1\n",
       "\\item 2\n",
       "\\item 3\n",
       "\\item 4\n",
       "\\end{enumerate*}\n"
      ],
      "text/markdown": [
       "1. 1\n",
       "2. 2\n",
       "3. 3\n",
       "4. 4\n",
       "\n",
       "\n"
      ],
      "text/plain": [
       "[1] 1 2 3 4"
      ]
     },
     "metadata": {},
     "output_type": "display_data"
    },
    {
     "data": {
      "text/html": [
       "<ol class=list-inline>\n",
       "\t<li>1</li>\n",
       "\t<li>1.6</li>\n",
       "\t<li>2.2</li>\n",
       "\t<li>2.8</li>\n",
       "\t<li>3.4</li>\n",
       "\t<li>4</li>\n",
       "</ol>\n"
      ],
      "text/latex": [
       "\\begin{enumerate*}\n",
       "\\item 1\n",
       "\\item 1.6\n",
       "\\item 2.2\n",
       "\\item 2.8\n",
       "\\item 3.4\n",
       "\\item 4\n",
       "\\end{enumerate*}\n"
      ],
      "text/markdown": [
       "1. 1\n",
       "2. 1.6\n",
       "3. 2.2\n",
       "4. 2.8\n",
       "5. 3.4\n",
       "6. 4\n",
       "\n",
       "\n"
      ],
      "text/plain": [
       "[1] 1.0 1.6 2.2 2.8 3.4 4.0"
      ]
     },
     "metadata": {},
     "output_type": "display_data"
    },
    {
     "data": {
      "text/html": [
       "'integer'"
      ],
      "text/latex": [
       "'integer'"
      ],
      "text/markdown": [
       "'integer'"
      ],
      "text/plain": [
       "[1] \"integer\""
      ]
     },
     "metadata": {},
     "output_type": "display_data"
    },
    {
     "data": {
      "text/html": [
       "'numeric'"
      ],
      "text/latex": [
       "'numeric'"
      ],
      "text/markdown": [
       "'numeric'"
      ],
      "text/plain": [
       "[1] \"numeric\""
      ]
     },
     "metadata": {},
     "output_type": "display_data"
    }
   ],
   "source": [
    "num.vec1 <- 1:4\n",
    "num.vec1\n",
    "num.vec2 <- seq(from=1,to=4,length=6)\n",
    "num.vec2\n",
    "\n",
    "#\n",
    "\n",
    "class(num.vec1)\n",
    "class(num.vec2)"
   ]
  },
  {
   "cell_type": "markdown",
   "id": "beautiful-forty",
   "metadata": {
    "heading_collapsed": true
   },
   "source": [
    "#### 判断是否为某一类is"
   ]
  },
  {
   "cell_type": "code",
   "execution_count": 55,
   "id": "prerequisite-mirror",
   "metadata": {
    "hidden": true
   },
   "outputs": [
    {
     "data": {
      "text/html": [
       "<ol class=list-inline>\n",
       "\t<li>1</li>\n",
       "\t<li>2</li>\n",
       "\t<li>3</li>\n",
       "\t<li>4</li>\n",
       "</ol>\n"
      ],
      "text/latex": [
       "\\begin{enumerate*}\n",
       "\\item 1\n",
       "\\item 2\n",
       "\\item 3\n",
       "\\item 4\n",
       "\\end{enumerate*}\n"
      ],
      "text/markdown": [
       "1. 1\n",
       "2. 2\n",
       "3. 3\n",
       "4. 4\n",
       "\n",
       "\n"
      ],
      "text/plain": [
       "[1] 1 2 3 4"
      ]
     },
     "metadata": {},
     "output_type": "display_data"
    },
    {
     "data": {
      "text/html": [
       "TRUE"
      ],
      "text/latex": [
       "TRUE"
      ],
      "text/markdown": [
       "TRUE"
      ],
      "text/plain": [
       "[1] TRUE"
      ]
     },
     "metadata": {},
     "output_type": "display_data"
    },
    {
     "data": {
      "text/html": [
       "TRUE"
      ],
      "text/latex": [
       "TRUE"
      ],
      "text/markdown": [
       "TRUE"
      ],
      "text/plain": [
       "[1] TRUE"
      ]
     },
     "metadata": {},
     "output_type": "display_data"
    },
    {
     "data": {
      "text/html": [
       "FALSE"
      ],
      "text/latex": [
       "FALSE"
      ],
      "text/markdown": [
       "FALSE"
      ],
      "text/plain": [
       "[1] FALSE"
      ]
     },
     "metadata": {},
     "output_type": "display_data"
    },
    {
     "data": {
      "text/html": [
       "FALSE"
      ],
      "text/latex": [
       "FALSE"
      ],
      "text/markdown": [
       "FALSE"
      ],
      "text/plain": [
       "[1] FALSE"
      ]
     },
     "metadata": {},
     "output_type": "display_data"
    },
    {
     "data": {
      "text/html": [
       "TRUE"
      ],
      "text/latex": [
       "TRUE"
      ],
      "text/markdown": [
       "TRUE"
      ],
      "text/plain": [
       "[1] TRUE"
      ]
     },
     "metadata": {},
     "output_type": "display_data"
    },
    {
     "data": {
      "text/html": [
       "FALSE"
      ],
      "text/latex": [
       "FALSE"
      ],
      "text/markdown": [
       "FALSE"
      ],
      "text/plain": [
       "[1] FALSE"
      ]
     },
     "metadata": {},
     "output_type": "display_data"
    }
   ],
   "source": [
    "num.vec1 <- 1:4\n",
    "num.vec1\n",
    "is.integer(num.vec1)\n",
    "is.numeric(num.vec1)\n",
    "is.matrix(num.vec1)\n",
    "is.data.frame(num.vec1)\n",
    "is.vector(num.vec1)\n",
    "is.logical(num.vec1)"
   ]
  },
  {
   "cell_type": "markdown",
   "id": "antique-canberra",
   "metadata": {},
   "source": [
    "#### 转换函数as"
   ]
  },
  {
   "cell_type": "code",
   "execution_count": 57,
   "id": "cloudy-egyptian",
   "metadata": {},
   "outputs": [
    {
     "data": {
      "text/html": [
       "<ol class=list-inline>\n",
       "\t<li>TRUE</li>\n",
       "\t<li>FALSE</li>\n",
       "\t<li>TRUE</li>\n",
       "\t<li>FALSE</li>\n",
       "\t<li>FALSE</li>\n",
       "</ol>\n"
      ],
      "text/latex": [
       "\\begin{enumerate*}\n",
       "\\item TRUE\n",
       "\\item FALSE\n",
       "\\item TRUE\n",
       "\\item FALSE\n",
       "\\item FALSE\n",
       "\\end{enumerate*}\n"
      ],
      "text/markdown": [
       "1. TRUE\n",
       "2. FALSE\n",
       "3. TRUE\n",
       "4. FALSE\n",
       "5. FALSE\n",
       "\n",
       "\n"
      ],
      "text/plain": [
       "[1]  TRUE FALSE  TRUE FALSE FALSE"
      ]
     },
     "metadata": {},
     "output_type": "display_data"
    }
   ],
   "source": [
    "as.logical(as.numeric(c(\"1\",\"0\",\"1\",\"0\",\"0\")))"
   ]
  },
  {
   "cell_type": "code",
   "execution_count": 58,
   "id": "adopted-bowling",
   "metadata": {},
   "outputs": [
    {
     "data": {
      "text/html": [
       "<ol class=list-inline>\n",
       "\t<li>8</li>\n",
       "\t<li>1</li>\n",
       "\t<li>9</li>\n",
       "\t<li>5</li>\n",
       "\t<li>5</li>\n",
       "\t<li>1</li>\n",
       "\t<li>3</li>\n",
       "\t<li>4</li>\n",
       "\t<li>3</li>\n",
       "\t<li>9</li>\n",
       "\t<li>8</li>\n",
       "\t<li>8</li>\n",
       "</ol>\n"
      ],
      "text/latex": [
       "\\begin{enumerate*}\n",
       "\\item 8\n",
       "\\item 1\n",
       "\\item 9\n",
       "\\item 5\n",
       "\\item 5\n",
       "\\item 1\n",
       "\\item 3\n",
       "\\item 4\n",
       "\\item 3\n",
       "\\item 9\n",
       "\\item 8\n",
       "\\item 8\n",
       "\\end{enumerate*}\n"
      ],
      "text/markdown": [
       "1. 8\n",
       "2. 1\n",
       "3. 9\n",
       "4. 5\n",
       "5. 5\n",
       "6. 1\n",
       "7. 3\n",
       "8. 4\n",
       "9. 3\n",
       "10. 9\n",
       "11. 8\n",
       "12. 8\n",
       "\n",
       "\n"
      ],
      "text/plain": [
       ", , 1\n",
       "\n",
       "     [,1] [,2] [,3]\n",
       "[1,]    8    9    5\n",
       "[2,]    1    5    1\n",
       "\n",
       ", , 2\n",
       "\n",
       "     [,1] [,2] [,3]\n",
       "[1,]    3    3    8\n",
       "[2,]    4    9    8\n"
      ]
     },
     "metadata": {},
     "output_type": "display_data"
    },
    {
     "data": {
      "text/html": [
       "<table>\n",
       "<tbody>\n",
       "\t<tr><td>8</td></tr>\n",
       "\t<tr><td>1</td></tr>\n",
       "\t<tr><td>9</td></tr>\n",
       "\t<tr><td>5</td></tr>\n",
       "\t<tr><td>5</td></tr>\n",
       "\t<tr><td>1</td></tr>\n",
       "\t<tr><td>3</td></tr>\n",
       "\t<tr><td>4</td></tr>\n",
       "\t<tr><td>3</td></tr>\n",
       "\t<tr><td>9</td></tr>\n",
       "\t<tr><td>8</td></tr>\n",
       "\t<tr><td>8</td></tr>\n",
       "</tbody>\n",
       "</table>\n"
      ],
      "text/latex": [
       "\\begin{tabular}{l}\n",
       "\t 8\\\\\n",
       "\t 1\\\\\n",
       "\t 9\\\\\n",
       "\t 5\\\\\n",
       "\t 5\\\\\n",
       "\t 1\\\\\n",
       "\t 3\\\\\n",
       "\t 4\\\\\n",
       "\t 3\\\\\n",
       "\t 9\\\\\n",
       "\t 8\\\\\n",
       "\t 8\\\\\n",
       "\\end{tabular}\n"
      ],
      "text/markdown": [
       "\n",
       "| 8 |\n",
       "| 1 |\n",
       "| 9 |\n",
       "| 5 |\n",
       "| 5 |\n",
       "| 1 |\n",
       "| 3 |\n",
       "| 4 |\n",
       "| 3 |\n",
       "| 9 |\n",
       "| 8 |\n",
       "| 8 |\n",
       "\n"
      ],
      "text/plain": [
       "      [,1]\n",
       " [1,] 8   \n",
       " [2,] 1   \n",
       " [3,] 9   \n",
       " [4,] 5   \n",
       " [5,] 5   \n",
       " [6,] 1   \n",
       " [7,] 3   \n",
       " [8,] 4   \n",
       " [9,] 3   \n",
       "[10,] 9   \n",
       "[11,] 8   \n",
       "[12,] 8   "
      ]
     },
     "metadata": {},
     "output_type": "display_data"
    },
    {
     "data": {
      "text/html": [
       "<ol class=list-inline>\n",
       "\t<li>8</li>\n",
       "\t<li>1</li>\n",
       "\t<li>9</li>\n",
       "\t<li>5</li>\n",
       "\t<li>5</li>\n",
       "\t<li>1</li>\n",
       "\t<li>3</li>\n",
       "\t<li>4</li>\n",
       "\t<li>3</li>\n",
       "\t<li>9</li>\n",
       "\t<li>8</li>\n",
       "\t<li>8</li>\n",
       "</ol>\n"
      ],
      "text/latex": [
       "\\begin{enumerate*}\n",
       "\\item 8\n",
       "\\item 1\n",
       "\\item 9\n",
       "\\item 5\n",
       "\\item 5\n",
       "\\item 1\n",
       "\\item 3\n",
       "\\item 4\n",
       "\\item 3\n",
       "\\item 9\n",
       "\\item 8\n",
       "\\item 8\n",
       "\\end{enumerate*}\n"
      ],
      "text/markdown": [
       "1. 8\n",
       "2. 1\n",
       "3. 9\n",
       "4. 5\n",
       "5. 5\n",
       "6. 1\n",
       "7. 3\n",
       "8. 4\n",
       "9. 3\n",
       "10. 9\n",
       "11. 8\n",
       "12. 8\n",
       "\n",
       "\n"
      ],
      "text/plain": [
       " [1] 8 1 9 5 5 1 3 4 3 9 8 8"
      ]
     },
     "metadata": {},
     "output_type": "display_data"
    }
   ],
   "source": [
    "bar <- array(data=c(8,1,9,5,5,1,3,4,3,9,8,8),dim=c(2,3,2))\n",
    "bar\n",
    "\n",
    "as.matrix(bar)\n",
    "\n",
    "as.vector(bar)"
   ]
  },
  {
   "cell_type": "markdown",
   "id": "tamil-inclusion",
   "metadata": {},
   "source": [
    "## 转换"
   ]
  },
  {
   "cell_type": "markdown",
   "id": "allied-waterproof",
   "metadata": {},
   "source": [
    "# 列表和数据框"
   ]
  },
  {
   "cell_type": "markdown",
   "id": "happy-reader",
   "metadata": {},
   "source": [
    "## 列表对象"
   ]
  },
  {
   "cell_type": "markdown",
   "id": "polished-thomas",
   "metadata": {},
   "source": [
    "### 创建列表和索引"
   ]
  },
  {
   "cell_type": "code",
   "execution_count": 5,
   "id": "iraqi-exclusive",
   "metadata": {},
   "outputs": [
    {
     "data": {
      "text/html": [
       "<ol>\n",
       "\t<li><table class=\"dataframe\">\n",
       "<caption>A matrix: 2 × 2 of type int</caption>\n",
       "<tbody>\n",
       "\t<tr><td>1</td><td>3</td></tr>\n",
       "\t<tr><td>2</td><td>4</td></tr>\n",
       "</tbody>\n",
       "</table>\n",
       "</li>\n",
       "\t<li><style>\n",
       ".list-inline {list-style: none; margin:0; padding: 0}\n",
       ".list-inline>li {display: inline-block}\n",
       ".list-inline>li:not(:last-child)::after {content: \"\\00b7\"; padding: 0 .5ex}\n",
       "</style>\n",
       "<ol class=list-inline><li>TRUE</li><li>FALSE</li><li>TRUE</li><li>TRUE</li></ol>\n",
       "</li>\n",
       "\t<li>'hello'</li>\n",
       "</ol>\n"
      ],
      "text/latex": [
       "\\begin{enumerate}\n",
       "\\item A matrix: 2 × 2 of type int\n",
       "\\begin{tabular}{ll}\n",
       "\t 1 & 3\\\\\n",
       "\t 2 & 4\\\\\n",
       "\\end{tabular}\n",
       "\n",
       "\\item \\begin{enumerate*}\n",
       "\\item TRUE\n",
       "\\item FALSE\n",
       "\\item TRUE\n",
       "\\item TRUE\n",
       "\\end{enumerate*}\n",
       "\n",
       "\\item 'hello'\n",
       "\\end{enumerate}\n"
      ],
      "text/markdown": [
       "1. \n",
       "A matrix: 2 × 2 of type int\n",
       "\n",
       "| 1 | 3 |\n",
       "| 2 | 4 |\n",
       "\n",
       "\n",
       "2. 1. TRUE\n",
       "2. FALSE\n",
       "3. TRUE\n",
       "4. TRUE\n",
       "\n",
       "\n",
       "\n",
       "3. 'hello'\n",
       "\n",
       "\n"
      ],
      "text/plain": [
       "[[1]]\n",
       "     [,1] [,2]\n",
       "[1,]    1    3\n",
       "[2,]    2    4\n",
       "\n",
       "[[2]]\n",
       "[1]  TRUE FALSE  TRUE  TRUE\n",
       "\n",
       "[[3]]\n",
       "[1] \"hello\"\n"
      ]
     },
     "metadata": {},
     "output_type": "display_data"
    }
   ],
   "source": [
    "foo = list(matrix(data=1:4,nrow=2,ncol=2),c(T,F,T,T),\"hello\")\n",
    "foo"
   ]
  },
  {
   "cell_type": "code",
   "execution_count": 6,
   "id": "honest-yukon",
   "metadata": {},
   "outputs": [
    {
     "data": {
      "text/html": [
       "<table class=\"dataframe\">\n",
       "<caption>A matrix: 2 × 2 of type int</caption>\n",
       "<tbody>\n",
       "\t<tr><td>1</td><td>3</td></tr>\n",
       "\t<tr><td>2</td><td>4</td></tr>\n",
       "</tbody>\n",
       "</table>\n"
      ],
      "text/latex": [
       "A matrix: 2 × 2 of type int\n",
       "\\begin{tabular}{ll}\n",
       "\t 1 & 3\\\\\n",
       "\t 2 & 4\\\\\n",
       "\\end{tabular}\n"
      ],
      "text/markdown": [
       "\n",
       "A matrix: 2 × 2 of type int\n",
       "\n",
       "| 1 | 3 |\n",
       "| 2 | 4 |\n",
       "\n"
      ],
      "text/plain": [
       "     [,1] [,2]\n",
       "[1,] 1    3   \n",
       "[2,] 2    4   "
      ]
     },
     "metadata": {},
     "output_type": "display_data"
    }
   ],
   "source": [
    "foo[[1]]"
   ]
  },
  {
   "cell_type": "code",
   "execution_count": 8,
   "id": "stone-hearing",
   "metadata": {
    "scrolled": true
   },
   "outputs": [
    {
     "data": {
      "text/html": [
       "<ol>\n",
       "\t<li><table class=\"dataframe\">\n",
       "<caption>A matrix: 2 × 2 of type int</caption>\n",
       "<tbody>\n",
       "\t<tr><td>1</td><td>3</td></tr>\n",
       "\t<tr><td>2</td><td>4</td></tr>\n",
       "</tbody>\n",
       "</table>\n",
       "</li>\n",
       "\t<li><style>\n",
       ".list-inline {list-style: none; margin:0; padding: 0}\n",
       ".list-inline>li {display: inline-block}\n",
       ".list-inline>li:not(:last-child)::after {content: \"\\00b7\"; padding: 0 .5ex}\n",
       "</style>\n",
       "<ol class=list-inline><li>TRUE</li><li>FALSE</li><li>TRUE</li><li>TRUE</li></ol>\n",
       "</li>\n",
       "</ol>\n"
      ],
      "text/latex": [
       "\\begin{enumerate}\n",
       "\\item A matrix: 2 × 2 of type int\n",
       "\\begin{tabular}{ll}\n",
       "\t 1 & 3\\\\\n",
       "\t 2 & 4\\\\\n",
       "\\end{tabular}\n",
       "\n",
       "\\item \\begin{enumerate*}\n",
       "\\item TRUE\n",
       "\\item FALSE\n",
       "\\item TRUE\n",
       "\\item TRUE\n",
       "\\end{enumerate*}\n",
       "\n",
       "\\end{enumerate}\n"
      ],
      "text/markdown": [
       "1. \n",
       "A matrix: 2 × 2 of type int\n",
       "\n",
       "| 1 | 3 |\n",
       "| 2 | 4 |\n",
       "\n",
       "\n",
       "2. 1. TRUE\n",
       "2. FALSE\n",
       "3. TRUE\n",
       "4. TRUE\n",
       "\n",
       "\n",
       "\n",
       "\n",
       "\n"
      ],
      "text/plain": [
       "[[1]]\n",
       "     [,1] [,2]\n",
       "[1,]    1    3\n",
       "[2,]    2    4\n",
       "\n",
       "[[2]]\n",
       "[1]  TRUE FALSE  TRUE  TRUE\n"
      ]
     },
     "metadata": {},
     "output_type": "display_data"
    }
   ],
   "source": [
    "foo[c(1,2)]"
   ]
  },
  {
   "cell_type": "markdown",
   "id": "textile-bronze",
   "metadata": {},
   "source": [
    "### 命名"
   ]
  },
  {
   "cell_type": "code",
   "execution_count": 9,
   "id": "impaired-decline",
   "metadata": {},
   "outputs": [
    {
     "data": {
      "text/html": [
       "<dl>\n",
       "\t<dt>$mymatrix</dt>\n",
       "\t\t<dd><table class=\"dataframe\">\n",
       "<caption>A matrix: 2 × 2 of type int</caption>\n",
       "<tbody>\n",
       "\t<tr><td>1</td><td>3</td></tr>\n",
       "\t<tr><td>2</td><td>4</td></tr>\n",
       "</tbody>\n",
       "</table>\n",
       "</dd>\n",
       "\t<dt>$mylogicals</dt>\n",
       "\t\t<dd><style>\n",
       ".list-inline {list-style: none; margin:0; padding: 0}\n",
       ".list-inline>li {display: inline-block}\n",
       ".list-inline>li:not(:last-child)::after {content: \"\\00b7\"; padding: 0 .5ex}\n",
       "</style>\n",
       "<ol class=list-inline><li>TRUE</li><li>FALSE</li><li>TRUE</li><li>TRUE</li></ol>\n",
       "</dd>\n",
       "\t<dt>$mystring</dt>\n",
       "\t\t<dd>'hello'</dd>\n",
       "</dl>\n"
      ],
      "text/latex": [
       "\\begin{description}\n",
       "\\item[\\$mymatrix] A matrix: 2 × 2 of type int\n",
       "\\begin{tabular}{ll}\n",
       "\t 1 & 3\\\\\n",
       "\t 2 & 4\\\\\n",
       "\\end{tabular}\n",
       "\n",
       "\\item[\\$mylogicals] \\begin{enumerate*}\n",
       "\\item TRUE\n",
       "\\item FALSE\n",
       "\\item TRUE\n",
       "\\item TRUE\n",
       "\\end{enumerate*}\n",
       "\n",
       "\\item[\\$mystring] 'hello'\n",
       "\\end{description}\n"
      ],
      "text/markdown": [
       "$mymatrix\n",
       ":   \n",
       "A matrix: 2 × 2 of type int\n",
       "\n",
       "| 1 | 3 |\n",
       "| 2 | 4 |\n",
       "\n",
       "\n",
       "$mylogicals\n",
       ":   1. TRUE\n",
       "2. FALSE\n",
       "3. TRUE\n",
       "4. TRUE\n",
       "\n",
       "\n",
       "\n",
       "$mystring\n",
       ":   'hello'\n",
       "\n",
       "\n"
      ],
      "text/plain": [
       "$mymatrix\n",
       "     [,1] [,2]\n",
       "[1,]    1    3\n",
       "[2,]    2    4\n",
       "\n",
       "$mylogicals\n",
       "[1]  TRUE FALSE  TRUE  TRUE\n",
       "\n",
       "$mystring\n",
       "[1] \"hello\"\n"
      ]
     },
     "metadata": {},
     "output_type": "display_data"
    }
   ],
   "source": [
    "names(foo) <- c(\"mymatrix\",\"mylogicals\",\"mystring\")\n",
    "foo"
   ]
  },
  {
   "cell_type": "markdown",
   "id": "hybrid-assurance",
   "metadata": {},
   "source": [
    "直接通过名称索引"
   ]
  },
  {
   "cell_type": "code",
   "execution_count": 6,
   "id": "authentic-director",
   "metadata": {},
   "outputs": [
    {
     "data": {
      "text/html": [
       "<table>\n",
       "<tbody>\n",
       "\t<tr><td>1</td><td>3</td></tr>\n",
       "\t<tr><td>2</td><td>4</td></tr>\n",
       "</tbody>\n",
       "</table>\n"
      ],
      "text/latex": [
       "\\begin{tabular}{ll}\n",
       "\t 1 & 3\\\\\n",
       "\t 2 & 4\\\\\n",
       "\\end{tabular}\n"
      ],
      "text/markdown": [
       "\n",
       "| 1 | 3 |\n",
       "| 2 | 4 |\n",
       "\n"
      ],
      "text/plain": [
       "     [,1] [,2]\n",
       "[1,] 1    3   \n",
       "[2,] 2    4   "
      ]
     },
     "metadata": {},
     "output_type": "display_data"
    }
   ],
   "source": [
    "foo$mymatrix"
   ]
  },
  {
   "cell_type": "markdown",
   "id": "concerned-fiction",
   "metadata": {},
   "source": [
    "创建列表时就命名"
   ]
  },
  {
   "cell_type": "code",
   "execution_count": 7,
   "id": "harmful-tiffany",
   "metadata": {},
   "outputs": [
    {
     "data": {
      "text/html": [
       "<dl>\n",
       "\t<dt>$tom</dt>\n",
       "\t\t<dd><ol class=list-inline>\n",
       "\t<li>TRUE</li>\n",
       "\t<li>FALSE</li>\n",
       "\t<li>TRUE</li>\n",
       "\t<li>TRUE</li>\n",
       "\t<li>TRUE</li>\n",
       "\t<li>TRUE</li>\n",
       "\t<li>TRUE</li>\n",
       "\t<li>FALSE</li>\n",
       "</ol>\n",
       "</dd>\n",
       "\t<dt>$dick</dt>\n",
       "\t\t<dd>'g\\'day mate'</dd>\n",
       "\t<dt>$harry</dt>\n",
       "\t\t<dd><table>\n",
       "<tbody>\n",
       "\t<tr><td>2</td><td>6</td></tr>\n",
       "\t<tr><td>4</td><td>8</td></tr>\n",
       "</tbody>\n",
       "</table>\n",
       "</dd>\n",
       "</dl>\n"
      ],
      "text/latex": [
       "\\begin{description}\n",
       "\\item[\\$tom] \\begin{enumerate*}\n",
       "\\item TRUE\n",
       "\\item FALSE\n",
       "\\item TRUE\n",
       "\\item TRUE\n",
       "\\item TRUE\n",
       "\\item TRUE\n",
       "\\item TRUE\n",
       "\\item FALSE\n",
       "\\end{enumerate*}\n",
       "\n",
       "\\item[\\$dick] 'g\\textbackslash{}'day mate'\n",
       "\\item[\\$harry] \\begin{tabular}{ll}\n",
       "\t 2 & 6\\\\\n",
       "\t 4 & 8\\\\\n",
       "\\end{tabular}\n",
       "\n",
       "\\end{description}\n"
      ],
      "text/markdown": [
       "$tom\n",
       ":   1. TRUE\n",
       "2. FALSE\n",
       "3. TRUE\n",
       "4. TRUE\n",
       "5. TRUE\n",
       "6. TRUE\n",
       "7. TRUE\n",
       "8. FALSE\n",
       "\n",
       "\n",
       "\n",
       "$dick\n",
       ":   'g\\'day mate'\n",
       "$harry\n",
       ":   \n",
       "| 2 | 6 |\n",
       "| 4 | 8 |\n",
       "\n",
       "\n",
       "\n",
       "\n"
      ],
      "text/plain": [
       "$tom\n",
       "[1]  TRUE FALSE  TRUE  TRUE  TRUE  TRUE  TRUE FALSE\n",
       "\n",
       "$dick\n",
       "[1] \"g'day mate\"\n",
       "\n",
       "$harry\n",
       "     [,1] [,2]\n",
       "[1,]    2    6\n",
       "[2,]    4    8\n"
      ]
     },
     "metadata": {},
     "output_type": "display_data"
    }
   ],
   "source": [
    "baz <- list(tom=c(foo[[2]],T,T,T,F),dick=\"g'day mate\",harry=foo$mymatrix*2)\n",
    "baz"
   ]
  },
  {
   "cell_type": "markdown",
   "id": "beginning-mouse",
   "metadata": {},
   "source": [
    "## 数据框dataframe"
   ]
  },
  {
   "cell_type": "markdown",
   "id": "absent-retail",
   "metadata": {},
   "source": [
    "### 创建dataframe"
   ]
  },
  {
   "cell_type": "code",
   "execution_count": 10,
   "id": "greenhouse-trademark",
   "metadata": {},
   "outputs": [
    {
     "data": {
      "text/html": [
       "<table class=\"dataframe\">\n",
       "<caption>A data.frame: 5 × 3</caption>\n",
       "<thead>\n",
       "\t<tr><th scope=col>person</th><th scope=col>age</th><th scope=col>sex</th></tr>\n",
       "\t<tr><th scope=col>&lt;fct&gt;</th><th scope=col>&lt;dbl&gt;</th><th scope=col>&lt;fct&gt;</th></tr>\n",
       "</thead>\n",
       "<tbody>\n",
       "\t<tr><td>Peter </td><td>42</td><td>M</td></tr>\n",
       "\t<tr><td>Lois  </td><td>40</td><td>F</td></tr>\n",
       "\t<tr><td>Meg   </td><td>17</td><td>F</td></tr>\n",
       "\t<tr><td>Chris </td><td>14</td><td>M</td></tr>\n",
       "\t<tr><td>Stewie</td><td> 1</td><td>M</td></tr>\n",
       "</tbody>\n",
       "</table>\n"
      ],
      "text/latex": [
       "A data.frame: 5 × 3\n",
       "\\begin{tabular}{lll}\n",
       " person & age & sex\\\\\n",
       " <fct> & <dbl> & <fct>\\\\\n",
       "\\hline\n",
       "\t Peter  & 42 & M\\\\\n",
       "\t Lois   & 40 & F\\\\\n",
       "\t Meg    & 17 & F\\\\\n",
       "\t Chris  & 14 & M\\\\\n",
       "\t Stewie &  1 & M\\\\\n",
       "\\end{tabular}\n"
      ],
      "text/markdown": [
       "\n",
       "A data.frame: 5 × 3\n",
       "\n",
       "| person &lt;fct&gt; | age &lt;dbl&gt; | sex &lt;fct&gt; |\n",
       "|---|---|---|\n",
       "| Peter  | 42 | M |\n",
       "| Lois   | 40 | F |\n",
       "| Meg    | 17 | F |\n",
       "| Chris  | 14 | M |\n",
       "| Stewie |  1 | M |\n",
       "\n"
      ],
      "text/plain": [
       "  person age sex\n",
       "1 Peter  42  M  \n",
       "2 Lois   40  F  \n",
       "3 Meg    17  F  \n",
       "4 Chris  14  M  \n",
       "5 Stewie  1  M  "
      ]
     },
     "metadata": {},
     "output_type": "display_data"
    }
   ],
   "source": [
    "mydata <- data.frame(person=c(\"Peter\",\"Lois\",\"Meg\",\"Chris\",\"Stewie\"),age=c(42,40,17,14,1),sex=factor(c(\"M\",\"F\",\"F\",\"M\",\"M\")))\n",
    "mydata"
   ]
  },
  {
   "cell_type": "markdown",
   "id": "unknown-career",
   "metadata": {},
   "source": [
    "### 引用"
   ]
  },
  {
   "cell_type": "code",
   "execution_count": 10,
   "id": "friendly-latter",
   "metadata": {},
   "outputs": [
    {
     "data": {
      "text/html": [
       "40"
      ],
      "text/latex": [
       "40"
      ],
      "text/markdown": [
       "40"
      ],
      "text/plain": [
       "[1] 40"
      ]
     },
     "metadata": {},
     "output_type": "display_data"
    }
   ],
   "source": [
    "mydata[2,2]"
   ]
  },
  {
   "cell_type": "code",
   "execution_count": 11,
   "id": "multiple-anatomy",
   "metadata": {},
   "outputs": [
    {
     "data": {
      "text/html": [
       "<ol class=list-inline>\n",
       "\t<li>F</li>\n",
       "\t<li>M</li>\n",
       "\t<li>M</li>\n",
       "</ol>\n",
       "\n",
       "<details>\n",
       "\t<summary style=display:list-item;cursor:pointer>\n",
       "\t\t<strong>Levels</strong>:\n",
       "\t</summary>\n",
       "\t<ol class=list-inline>\n",
       "\t\t<li>'F'</li>\n",
       "\t\t<li>'M'</li>\n",
       "\t</ol>\n",
       "</details>"
      ],
      "text/latex": [
       "\\begin{enumerate*}\n",
       "\\item F\n",
       "\\item M\n",
       "\\item M\n",
       "\\end{enumerate*}\n",
       "\n",
       "\\emph{Levels}: \\begin{enumerate*}\n",
       "\\item 'F'\n",
       "\\item 'M'\n",
       "\\end{enumerate*}\n"
      ],
      "text/markdown": [
       "1. F\n",
       "2. M\n",
       "3. M\n",
       "\n",
       "\n",
       "\n",
       "**Levels**: 1. 'F'\n",
       "2. 'M'\n",
       "\n",
       "\n"
      ],
      "text/plain": [
       "[1] F M M\n",
       "Levels: F M"
      ]
     },
     "metadata": {},
     "output_type": "display_data"
    }
   ],
   "source": [
    "mydata[3:5,3]"
   ]
  },
  {
   "cell_type": "code",
   "execution_count": 12,
   "id": "governmental-collapse",
   "metadata": {},
   "outputs": [
    {
     "data": {
      "text/html": [
       "<ol class=list-inline>\n",
       "\t<li>42</li>\n",
       "\t<li>40</li>\n",
       "\t<li>17</li>\n",
       "\t<li>14</li>\n",
       "\t<li>1</li>\n",
       "</ol>\n"
      ],
      "text/latex": [
       "\\begin{enumerate*}\n",
       "\\item 42\n",
       "\\item 40\n",
       "\\item 17\n",
       "\\item 14\n",
       "\\item 1\n",
       "\\end{enumerate*}\n"
      ],
      "text/markdown": [
       "1. 42\n",
       "2. 40\n",
       "3. 17\n",
       "4. 14\n",
       "5. 1\n",
       "\n",
       "\n"
      ],
      "text/plain": [
       "[1] 42 40 17 14  1"
      ]
     },
     "metadata": {},
     "output_type": "display_data"
    }
   ],
   "source": [
    "mydata$age"
   ]
  },
  {
   "cell_type": "markdown",
   "id": "scenic-commercial",
   "metadata": {},
   "source": [
    "### 基本信息"
   ]
  },
  {
   "cell_type": "code",
   "execution_count": 13,
   "id": "utility-blind",
   "metadata": {
    "scrolled": true
   },
   "outputs": [
    {
     "data": {
      "text/html": [
       "5"
      ],
      "text/latex": [
       "5"
      ],
      "text/markdown": [
       "5"
      ],
      "text/plain": [
       "[1] 5"
      ]
     },
     "metadata": {},
     "output_type": "display_data"
    },
    {
     "data": {
      "text/html": [
       "3"
      ],
      "text/latex": [
       "3"
      ],
      "text/markdown": [
       "3"
      ],
      "text/plain": [
       "[1] 3"
      ]
     },
     "metadata": {},
     "output_type": "display_data"
    },
    {
     "data": {
      "text/html": [
       "<ol class=list-inline>\n",
       "\t<li>5</li>\n",
       "\t<li>3</li>\n",
       "</ol>\n"
      ],
      "text/latex": [
       "\\begin{enumerate*}\n",
       "\\item 5\n",
       "\\item 3\n",
       "\\end{enumerate*}\n"
      ],
      "text/markdown": [
       "1. 5\n",
       "2. 3\n",
       "\n",
       "\n"
      ],
      "text/plain": [
       "[1] 5 3"
      ]
     },
     "metadata": {},
     "output_type": "display_data"
    }
   ],
   "source": [
    "nrow(mydata)\n",
    "ncol(mydata)\n",
    "dim(mydata)"
   ]
  },
  {
   "cell_type": "markdown",
   "id": "editorial-legislation",
   "metadata": {},
   "source": [
    "### 字符串默认是因子对象"
   ]
  },
  {
   "cell_type": "code",
   "execution_count": 17,
   "id": "blind-coupon",
   "metadata": {},
   "outputs": [
    {
     "data": {
      "text/html": [
       "<ol class=list-inline>\n",
       "\t<li>'Peter'</li>\n",
       "\t<li>'Lois'</li>\n",
       "\t<li>'Meg'</li>\n",
       "\t<li>'Chris'</li>\n",
       "\t<li>'Stewie'</li>\n",
       "</ol>\n"
      ],
      "text/latex": [
       "\\begin{enumerate*}\n",
       "\\item 'Peter'\n",
       "\\item 'Lois'\n",
       "\\item 'Meg'\n",
       "\\item 'Chris'\n",
       "\\item 'Stewie'\n",
       "\\end{enumerate*}\n"
      ],
      "text/markdown": [
       "1. 'Peter'\n",
       "2. 'Lois'\n",
       "3. 'Meg'\n",
       "4. 'Chris'\n",
       "5. 'Stewie'\n",
       "\n",
       "\n"
      ],
      "text/plain": [
       "[1] \"Peter\"  \"Lois\"   \"Meg\"    \"Chris\"  \"Stewie\""
      ]
     },
     "metadata": {},
     "output_type": "display_data"
    },
    {
     "data": {
      "text/html": [
       "<table>\n",
       "<thead><tr><th scope=col>person</th><th scope=col>age</th><th scope=col>sex</th></tr></thead>\n",
       "<tbody>\n",
       "\t<tr><td>Peter </td><td>42    </td><td>M     </td></tr>\n",
       "\t<tr><td>Lois  </td><td>40    </td><td>F     </td></tr>\n",
       "\t<tr><td>Meg   </td><td>17    </td><td>F     </td></tr>\n",
       "\t<tr><td>Chris </td><td>14    </td><td>M     </td></tr>\n",
       "\t<tr><td>Stewie</td><td> 1    </td><td>M     </td></tr>\n",
       "</tbody>\n",
       "</table>\n"
      ],
      "text/latex": [
       "\\begin{tabular}{r|lll}\n",
       " person & age & sex\\\\\n",
       "\\hline\n",
       "\t Peter  & 42     & M     \\\\\n",
       "\t Lois   & 40     & F     \\\\\n",
       "\t Meg    & 17     & F     \\\\\n",
       "\t Chris  & 14     & M     \\\\\n",
       "\t Stewie &  1     & M     \\\\\n",
       "\\end{tabular}\n"
      ],
      "text/markdown": [
       "\n",
       "| person | age | sex |\n",
       "|---|---|---|\n",
       "| Peter  | 42     | M      |\n",
       "| Lois   | 40     | F      |\n",
       "| Meg    | 17     | F      |\n",
       "| Chris  | 14     | M      |\n",
       "| Stewie |  1     | M      |\n",
       "\n"
      ],
      "text/plain": [
       "  person age sex\n",
       "1 Peter  42  M  \n",
       "2 Lois   40  F  \n",
       "3 Meg    17  F  \n",
       "4 Chris  14  M  \n",
       "5 Stewie  1  M  "
      ]
     },
     "metadata": {},
     "output_type": "display_data"
    },
    {
     "data": {
      "text/html": [
       "<ol class=list-inline>\n",
       "\t<li>'Peter'</li>\n",
       "\t<li>'Lois'</li>\n",
       "\t<li>'Meg'</li>\n",
       "\t<li>'Chris'</li>\n",
       "\t<li>'Stewie'</li>\n",
       "</ol>\n"
      ],
      "text/latex": [
       "\\begin{enumerate*}\n",
       "\\item 'Peter'\n",
       "\\item 'Lois'\n",
       "\\item 'Meg'\n",
       "\\item 'Chris'\n",
       "\\item 'Stewie'\n",
       "\\end{enumerate*}\n"
      ],
      "text/markdown": [
       "1. 'Peter'\n",
       "2. 'Lois'\n",
       "3. 'Meg'\n",
       "4. 'Chris'\n",
       "5. 'Stewie'\n",
       "\n",
       "\n"
      ],
      "text/plain": [
       "[1] \"Peter\"  \"Lois\"   \"Meg\"    \"Chris\"  \"Stewie\""
      ]
     },
     "metadata": {},
     "output_type": "display_data"
    }
   ],
   "source": [
    "mydata$person\n",
    "# 设置默认不是因子对象\n",
    "mydata <- data.frame(person=c(\"Peter\",\"Lois\",\"Meg\",\"Chris\",\"Stewie\"),age=c(42,40,17,14,1),\n",
    "                     sex=factor(c(\"M\",\"F\",\"F\",\"M\",\"M\")),stringsAsFactors=FALSE)\n",
    "mydata\n",
    "mydata$person"
   ]
  },
  {
   "cell_type": "markdown",
   "id": "corresponding-patrick",
   "metadata": {},
   "source": [
    "### 添加数据行或列"
   ]
  },
  {
   "cell_type": "code",
   "execution_count": 18,
   "id": "ongoing-hollywood",
   "metadata": {
    "scrolled": true
   },
   "outputs": [
    {
     "data": {
      "text/html": [
       "<table>\n",
       "<thead><tr><th scope=col>person</th><th scope=col>age</th><th scope=col>sex</th></tr></thead>\n",
       "<tbody>\n",
       "\t<tr><td>Brian</td><td>7    </td><td>M    </td></tr>\n",
       "</tbody>\n",
       "</table>\n"
      ],
      "text/latex": [
       "\\begin{tabular}{r|lll}\n",
       " person & age & sex\\\\\n",
       "\\hline\n",
       "\t Brian & 7     & M    \\\\\n",
       "\\end{tabular}\n"
      ],
      "text/markdown": [
       "\n",
       "| person | age | sex |\n",
       "|---|---|---|\n",
       "| Brian | 7     | M     |\n",
       "\n"
      ],
      "text/plain": [
       "  person age sex\n",
       "1 Brian  7   M  "
      ]
     },
     "metadata": {},
     "output_type": "display_data"
    }
   ],
   "source": [
    "newrecord <- data.frame(person=\"Brian\",age=7,sex=factor(\"M\",levels=levels(mydata$sex)))\n",
    "newrecord"
   ]
  },
  {
   "cell_type": "markdown",
   "id": "found-uncertainty",
   "metadata": {},
   "source": [
    "法一"
   ]
  },
  {
   "cell_type": "code",
   "execution_count": 19,
   "id": "cheap-department",
   "metadata": {
    "scrolled": true
   },
   "outputs": [
    {
     "data": {
      "text/html": [
       "<table>\n",
       "<thead><tr><th scope=col>person</th><th scope=col>age</th><th scope=col>sex</th></tr></thead>\n",
       "<tbody>\n",
       "\t<tr><td>Peter </td><td>42    </td><td>M     </td></tr>\n",
       "\t<tr><td>Lois  </td><td>40    </td><td>F     </td></tr>\n",
       "\t<tr><td>Meg   </td><td>17    </td><td>F     </td></tr>\n",
       "\t<tr><td>Chris </td><td>14    </td><td>M     </td></tr>\n",
       "\t<tr><td>Stewie</td><td> 1    </td><td>M     </td></tr>\n",
       "\t<tr><td>Brian </td><td> 7    </td><td>M     </td></tr>\n",
       "</tbody>\n",
       "</table>\n"
      ],
      "text/latex": [
       "\\begin{tabular}{r|lll}\n",
       " person & age & sex\\\\\n",
       "\\hline\n",
       "\t Peter  & 42     & M     \\\\\n",
       "\t Lois   & 40     & F     \\\\\n",
       "\t Meg    & 17     & F     \\\\\n",
       "\t Chris  & 14     & M     \\\\\n",
       "\t Stewie &  1     & M     \\\\\n",
       "\t Brian  &  7     & M     \\\\\n",
       "\\end{tabular}\n"
      ],
      "text/markdown": [
       "\n",
       "| person | age | sex |\n",
       "|---|---|---|\n",
       "| Peter  | 42     | M      |\n",
       "| Lois   | 40     | F      |\n",
       "| Meg    | 17     | F      |\n",
       "| Chris  | 14     | M      |\n",
       "| Stewie |  1     | M      |\n",
       "| Brian  |  7     | M      |\n",
       "\n"
      ],
      "text/plain": [
       "  person age sex\n",
       "1 Peter  42  M  \n",
       "2 Lois   40  F  \n",
       "3 Meg    17  F  \n",
       "4 Chris  14  M  \n",
       "5 Stewie  1  M  \n",
       "6 Brian   7  M  "
      ]
     },
     "metadata": {},
     "output_type": "display_data"
    }
   ],
   "source": [
    "mydata <- rbind(mydata,newrecord)\n",
    "mydata"
   ]
  },
  {
   "cell_type": "markdown",
   "id": "blocked-vietnamese",
   "metadata": {},
   "source": [
    "法二"
   ]
  },
  {
   "cell_type": "code",
   "execution_count": 20,
   "id": "following-barcelona",
   "metadata": {},
   "outputs": [
    {
     "data": {
      "text/html": [
       "<table>\n",
       "<thead><tr><th scope=col>person</th><th scope=col>age</th><th scope=col>sex</th><th scope=col>age.mon</th></tr></thead>\n",
       "<tbody>\n",
       "\t<tr><td>Peter </td><td>42    </td><td>M     </td><td>504   </td></tr>\n",
       "\t<tr><td>Lois  </td><td>40    </td><td>F     </td><td>480   </td></tr>\n",
       "\t<tr><td>Meg   </td><td>17    </td><td>F     </td><td>204   </td></tr>\n",
       "\t<tr><td>Chris </td><td>14    </td><td>M     </td><td>168   </td></tr>\n",
       "\t<tr><td>Stewie</td><td> 1    </td><td>M     </td><td> 12   </td></tr>\n",
       "\t<tr><td>Brian </td><td> 7    </td><td>M     </td><td> 84   </td></tr>\n",
       "</tbody>\n",
       "</table>\n"
      ],
      "text/latex": [
       "\\begin{tabular}{r|llll}\n",
       " person & age & sex & age.mon\\\\\n",
       "\\hline\n",
       "\t Peter  & 42     & M      & 504   \\\\\n",
       "\t Lois   & 40     & F      & 480   \\\\\n",
       "\t Meg    & 17     & F      & 204   \\\\\n",
       "\t Chris  & 14     & M      & 168   \\\\\n",
       "\t Stewie &  1     & M      &  12   \\\\\n",
       "\t Brian  &  7     & M      &  84   \\\\\n",
       "\\end{tabular}\n"
      ],
      "text/markdown": [
       "\n",
       "| person | age | sex | age.mon |\n",
       "|---|---|---|---|\n",
       "| Peter  | 42     | M      | 504    |\n",
       "| Lois   | 40     | F      | 480    |\n",
       "| Meg    | 17     | F      | 204    |\n",
       "| Chris  | 14     | M      | 168    |\n",
       "| Stewie |  1     | M      |  12    |\n",
       "| Brian  |  7     | M      |  84    |\n",
       "\n"
      ],
      "text/plain": [
       "  person age sex age.mon\n",
       "1 Peter  42  M   504    \n",
       "2 Lois   40  F   480    \n",
       "3 Meg    17  F   204    \n",
       "4 Chris  14  M   168    \n",
       "5 Stewie  1  M    12    \n",
       "6 Brian   7  M    84    "
      ]
     },
     "metadata": {},
     "output_type": "display_data"
    }
   ],
   "source": [
    "mydata$age.mon <- mydata$age*12\n",
    "mydata"
   ]
  },
  {
   "cell_type": "markdown",
   "id": "filled-japan",
   "metadata": {},
   "source": [
    "### 子集的提取与删除"
   ]
  },
  {
   "cell_type": "markdown",
   "id": "maritime-merit",
   "metadata": {},
   "source": [
    "获取某一列：mydata[1]"
   ]
  },
  {
   "cell_type": "markdown",
   "id": "emerging-tiger",
   "metadata": {},
   "source": [
    "只显示男性"
   ]
  },
  {
   "cell_type": "code",
   "execution_count": 22,
   "id": "analyzed-shirt",
   "metadata": {},
   "outputs": [
    {
     "data": {
      "text/html": [
       "<table>\n",
       "<thead><tr><th></th><th scope=col>person</th><th scope=col>age</th><th scope=col>sex</th><th scope=col>age.mon</th></tr></thead>\n",
       "<tbody>\n",
       "\t<tr><th scope=row>1</th><td>Peter </td><td>42    </td><td>M     </td><td>504   </td></tr>\n",
       "\t<tr><th scope=row>4</th><td>Chris </td><td>14    </td><td>M     </td><td>168   </td></tr>\n",
       "\t<tr><th scope=row>5</th><td>Stewie</td><td> 1    </td><td>M     </td><td> 12   </td></tr>\n",
       "\t<tr><th scope=row>6</th><td>Brian </td><td> 7    </td><td>M     </td><td> 84   </td></tr>\n",
       "</tbody>\n",
       "</table>\n"
      ],
      "text/latex": [
       "\\begin{tabular}{r|llll}\n",
       "  & person & age & sex & age.mon\\\\\n",
       "\\hline\n",
       "\t1 & Peter  & 42     & M      & 504   \\\\\n",
       "\t4 & Chris  & 14     & M      & 168   \\\\\n",
       "\t5 & Stewie &  1     & M      &  12   \\\\\n",
       "\t6 & Brian  &  7     & M      &  84   \\\\\n",
       "\\end{tabular}\n"
      ],
      "text/markdown": [
       "\n",
       "| <!--/--> | person | age | sex | age.mon |\n",
       "|---|---|---|---|---|\n",
       "| 1 | Peter  | 42     | M      | 504    |\n",
       "| 4 | Chris  | 14     | M      | 168    |\n",
       "| 5 | Stewie |  1     | M      |  12    |\n",
       "| 6 | Brian  |  7     | M      |  84    |\n",
       "\n"
      ],
      "text/plain": [
       "  person age sex age.mon\n",
       "1 Peter  42  M   504    \n",
       "4 Chris  14  M   168    \n",
       "5 Stewie  1  M    12    \n",
       "6 Brian   7  M    84    "
      ]
     },
     "metadata": {},
     "output_type": "display_data"
    }
   ],
   "source": [
    "mydata[mydata$sex==\"M\",]"
   ]
  },
  {
   "cell_type": "markdown",
   "id": "precise-aircraft",
   "metadata": {},
   "source": [
    "删除第三行"
   ]
  },
  {
   "cell_type": "code",
   "execution_count": 23,
   "id": "creative-queen",
   "metadata": {},
   "outputs": [
    {
     "data": {
      "text/html": [
       "<table>\n",
       "<thead><tr><th></th><th scope=col>person</th><th scope=col>age</th><th scope=col>age.mon</th></tr></thead>\n",
       "<tbody>\n",
       "\t<tr><th scope=row>1</th><td>Peter </td><td>42    </td><td>504   </td></tr>\n",
       "\t<tr><th scope=row>4</th><td>Chris </td><td>14    </td><td>168   </td></tr>\n",
       "\t<tr><th scope=row>5</th><td>Stewie</td><td> 1    </td><td> 12   </td></tr>\n",
       "\t<tr><th scope=row>6</th><td>Brian </td><td> 7    </td><td> 84   </td></tr>\n",
       "</tbody>\n",
       "</table>\n"
      ],
      "text/latex": [
       "\\begin{tabular}{r|lll}\n",
       "  & person & age & age.mon\\\\\n",
       "\\hline\n",
       "\t1 & Peter  & 42     & 504   \\\\\n",
       "\t4 & Chris  & 14     & 168   \\\\\n",
       "\t5 & Stewie &  1     &  12   \\\\\n",
       "\t6 & Brian  &  7     &  84   \\\\\n",
       "\\end{tabular}\n"
      ],
      "text/markdown": [
       "\n",
       "| <!--/--> | person | age | age.mon |\n",
       "|---|---|---|---|\n",
       "| 1 | Peter  | 42     | 504    |\n",
       "| 4 | Chris  | 14     | 168    |\n",
       "| 5 | Stewie |  1     |  12    |\n",
       "| 6 | Brian  |  7     |  84    |\n",
       "\n"
      ],
      "text/plain": [
       "  person age age.mon\n",
       "1 Peter  42  504    \n",
       "4 Chris  14  168    \n",
       "5 Stewie  1   12    \n",
       "6 Brian   7   84    "
      ]
     },
     "metadata": {},
     "output_type": "display_data"
    }
   ],
   "source": [
    "mydata[mydata$sex==\"M\",-3]"
   ]
  },
  {
   "cell_type": "markdown",
   "id": "english-discrimination",
   "metadata": {},
   "source": [
    "用名字选择"
   ]
  },
  {
   "cell_type": "code",
   "execution_count": 30,
   "id": "metric-proof",
   "metadata": {},
   "outputs": [
    {
     "data": {
      "text/html": [
       "<table>\n",
       "<thead><tr><th></th><th scope=col>person</th><th scope=col>age</th></tr></thead>\n",
       "<tbody>\n",
       "\t<tr><th scope=row>1</th><td>Peter </td><td>42    </td></tr>\n",
       "\t<tr><th scope=row>4</th><td>Chris </td><td>14    </td></tr>\n",
       "\t<tr><th scope=row>5</th><td>Stewie</td><td> 1    </td></tr>\n",
       "</tbody>\n",
       "</table>\n"
      ],
      "text/latex": [
       "\\begin{tabular}{r|ll}\n",
       "  & person & age\\\\\n",
       "\\hline\n",
       "\t1 & Peter  & 42    \\\\\n",
       "\t4 & Chris  & 14    \\\\\n",
       "\t5 & Stewie &  1    \\\\\n",
       "\\end{tabular}\n"
      ],
      "text/markdown": [
       "\n",
       "| <!--/--> | person | age |\n",
       "|---|---|---|\n",
       "| 1 | Peter  | 42     |\n",
       "| 4 | Chris  | 14     |\n",
       "| 5 | Stewie |  1     |\n",
       "\n"
      ],
      "text/plain": [
       "  person age\n",
       "1 Peter  42 \n",
       "4 Chris  14 \n",
       "5 Stewie  1 "
      ]
     },
     "metadata": {},
     "output_type": "display_data"
    }
   ],
   "source": [
    "mydata <- data.frame(person=c(\"Peter\",\"Lois\",\"Meg\",\"Chris\",\"Stewie\"),age=c(42,40,17,14,1),\n",
    "                     sex=factor(c(\"M\",\"F\",\"F\",\"M\",\"M\")),stringsAsFactors=FALSE)\n",
    "mydata[mydata$sex==\"M\",c(\"person\",\"age\")]"
   ]
  },
  {
   "cell_type": "code",
   "execution_count": 25,
   "id": "bibliographic-diesel",
   "metadata": {},
   "outputs": [
    {
     "data": {
      "text/html": [
       "<table>\n",
       "<thead><tr><th scope=col>person</th><th scope=col>age</th><th scope=col>sex</th><th scope=col>age.mon</th></tr></thead>\n",
       "<tbody>\n",
       "</tbody>\n",
       "</table>\n"
      ],
      "text/latex": [
       "\\begin{tabular}{r|llll}\n",
       " person & age & sex & age.mon\\\\\n",
       "\\hline\n",
       "\\end{tabular}\n"
      ],
      "text/markdown": [
       "\n",
       "| person | age | sex | age.mon |\n",
       "|---|---|---|---|\n",
       "\n"
      ],
      "text/plain": [
       "     person age sex age.mon"
      ]
     },
     "metadata": {},
     "output_type": "display_data"
    },
    {
     "data": {
      "text/html": [
       "<table>\n",
       "<thead><tr><th scope=col>person</th><th scope=col>age</th><th scope=col>sex</th><th scope=col>age.mon</th></tr></thead>\n",
       "<tbody>\n",
       "</tbody>\n",
       "</table>\n"
      ],
      "text/latex": [
       "\\begin{tabular}{r|llll}\n",
       " person & age & sex & age.mon\\\\\n",
       "\\hline\n",
       "\\end{tabular}\n"
      ],
      "text/markdown": [
       "\n",
       "| person | age | sex | age.mon |\n",
       "|---|---|---|---|\n",
       "\n"
      ],
      "text/plain": [
       "     person age sex age.mon"
      ]
     },
     "metadata": {},
     "output_type": "display_data"
    }
   ],
   "source": [
    "mydata[mydata$age>10|mydata$funny==\"High\",]\n",
    "\n",
    "mydata[mydata$age>45,]"
   ]
  },
  {
   "cell_type": "markdown",
   "id": "alien-pitch",
   "metadata": {},
   "source": [
    "### 转置"
   ]
  },
  {
   "cell_type": "code",
   "execution_count": null,
   "id": "racial-point",
   "metadata": {},
   "outputs": [],
   "source": [
    "t(mydata)"
   ]
  },
  {
   "cell_type": "markdown",
   "id": "novel-destruction",
   "metadata": {},
   "source": [
    "# 矩阵和数组"
   ]
  },
  {
   "cell_type": "markdown",
   "id": "republican-alpha",
   "metadata": {},
   "source": [
    "## 矩阵定义"
   ]
  },
  {
   "cell_type": "markdown",
   "id": "planned-arbor",
   "metadata": {},
   "source": [
    "默认是按行进行填充矩阵"
   ]
  },
  {
   "cell_type": "code",
   "execution_count": 32,
   "id": "unexpected-facing",
   "metadata": {
    "scrolled": true
   },
   "outputs": [
    {
     "data": {
      "text/html": [
       "<table>\n",
       "<tbody>\n",
       "\t<tr><td>1</td><td>3</td></tr>\n",
       "\t<tr><td>2</td><td>4</td></tr>\n",
       "</tbody>\n",
       "</table>\n"
      ],
      "text/latex": [
       "\\begin{tabular}{ll}\n",
       "\t 1 & 3\\\\\n",
       "\t 2 & 4\\\\\n",
       "\\end{tabular}\n"
      ],
      "text/markdown": [
       "\n",
       "| 1 | 3 |\n",
       "| 2 | 4 |\n",
       "\n"
      ],
      "text/plain": [
       "     [,1] [,2]\n",
       "[1,] 1    3   \n",
       "[2,] 2    4   "
      ]
     },
     "metadata": {},
     "output_type": "display_data"
    }
   ],
   "source": [
    "A=matrix(data = 1:4,nrow = 2,ncol = 2)\n",
    "A"
   ]
  },
  {
   "cell_type": "code",
   "execution_count": 35,
   "id": "spanish-calendar",
   "metadata": {
    "scrolled": true
   },
   "outputs": [
    {
     "data": {
      "text/html": [
       "<table>\n",
       "<tbody>\n",
       "\t<tr><td>1</td><td>2</td></tr>\n",
       "\t<tr><td>3</td><td>4</td></tr>\n",
       "</tbody>\n",
       "</table>\n"
      ],
      "text/latex": [
       "\\begin{tabular}{ll}\n",
       "\t 1 & 2\\\\\n",
       "\t 3 & 4\\\\\n",
       "\\end{tabular}\n"
      ],
      "text/markdown": [
       "\n",
       "| 1 | 2 |\n",
       "| 3 | 4 |\n",
       "\n"
      ],
      "text/plain": [
       "     [,1] [,2]\n",
       "[1,] 1    2   \n",
       "[2,] 3    4   "
      ]
     },
     "metadata": {},
     "output_type": "display_data"
    }
   ],
   "source": [
    "A=matrix(data = 1:4,nrow = 2,ncol = 2,byrow = TRUE)\n",
    "A"
   ]
  },
  {
   "cell_type": "markdown",
   "id": "initial-tucson",
   "metadata": {},
   "source": [
    "合并向量"
   ]
  },
  {
   "cell_type": "code",
   "execution_count": 37,
   "id": "advised-cyprus",
   "metadata": {},
   "outputs": [
    {
     "data": {
      "text/html": [
       "<table>\n",
       "<tbody>\n",
       "\t<tr><td>1</td><td>2</td></tr>\n",
       "\t<tr><td>2</td><td>3</td></tr>\n",
       "\t<tr><td>3</td><td>4</td></tr>\n",
       "\t<tr><td>4</td><td>5</td></tr>\n",
       "</tbody>\n",
       "</table>\n"
      ],
      "text/latex": [
       "\\begin{tabular}{ll}\n",
       "\t 1 & 2\\\\\n",
       "\t 2 & 3\\\\\n",
       "\t 3 & 4\\\\\n",
       "\t 4 & 5\\\\\n",
       "\\end{tabular}\n"
      ],
      "text/markdown": [
       "\n",
       "| 1 | 2 |\n",
       "| 2 | 3 |\n",
       "| 3 | 4 |\n",
       "| 4 | 5 |\n",
       "\n"
      ],
      "text/plain": [
       "     [,1] [,2]\n",
       "[1,] 1    2   \n",
       "[2,] 2    3   \n",
       "[3,] 3    4   \n",
       "[4,] 4    5   "
      ]
     },
     "metadata": {},
     "output_type": "display_data"
    }
   ],
   "source": [
    "cbind(1:4,2:5)"
   ]
  },
  {
   "cell_type": "code",
   "execution_count": 36,
   "id": "minute-wheat",
   "metadata": {
    "scrolled": true
   },
   "outputs": [
    {
     "data": {
      "text/html": [
       "<table>\n",
       "<tbody>\n",
       "\t<tr><td>1</td><td>2</td><td>3</td><td>4</td></tr>\n",
       "\t<tr><td>2</td><td>3</td><td>4</td><td>5</td></tr>\n",
       "</tbody>\n",
       "</table>\n"
      ],
      "text/latex": [
       "\\begin{tabular}{llll}\n",
       "\t 1 & 2 & 3 & 4\\\\\n",
       "\t 2 & 3 & 4 & 5\\\\\n",
       "\\end{tabular}\n"
      ],
      "text/markdown": [
       "\n",
       "| 1 | 2 | 3 | 4 |\n",
       "| 2 | 3 | 4 | 5 |\n",
       "\n"
      ],
      "text/plain": [
       "     [,1] [,2] [,3] [,4]\n",
       "[1,] 1    2    3    4   \n",
       "[2,] 2    3    4    5   "
      ]
     },
     "metadata": {},
     "output_type": "display_data"
    }
   ],
   "source": [
    "rbind(1:4,2:5)"
   ]
  },
  {
   "cell_type": "markdown",
   "id": "wound-berkeley",
   "metadata": {},
   "source": [
    "维度"
   ]
  },
  {
   "cell_type": "code",
   "execution_count": 40,
   "id": "ongoing-facing",
   "metadata": {},
   "outputs": [
    {
     "data": {
      "text/html": [
       "<ol class=list-inline>\n",
       "\t<li>2</li>\n",
       "\t<li>4</li>\n",
       "</ol>\n"
      ],
      "text/latex": [
       "\\begin{enumerate*}\n",
       "\\item 2\n",
       "\\item 4\n",
       "\\end{enumerate*}\n"
      ],
      "text/markdown": [
       "1. 2\n",
       "2. 4\n",
       "\n",
       "\n"
      ],
      "text/plain": [
       "[1] 2 4"
      ]
     },
     "metadata": {},
     "output_type": "display_data"
    }
   ],
   "source": [
    "dim(rbind(1:4,2:5))"
   ]
  },
  {
   "cell_type": "markdown",
   "id": "hourly-healthcare",
   "metadata": {},
   "source": [
    "## 索引与子集"
   ]
  },
  {
   "cell_type": "markdown",
   "id": "identified-watson",
   "metadata": {},
   "source": [
    "矩阵索引"
   ]
  },
  {
   "cell_type": "code",
   "execution_count": 45,
   "id": "tropical-assembly",
   "metadata": {},
   "outputs": [
    {
     "data": {
      "text/html": [
       "3"
      ],
      "text/latex": [
       "3"
      ],
      "text/markdown": [
       "3"
      ],
      "text/plain": [
       "[1] 3"
      ]
     },
     "metadata": {},
     "output_type": "display_data"
    }
   ],
   "source": [
    "rbind(1:4,2:5)[2,2]"
   ]
  },
  {
   "cell_type": "markdown",
   "id": "finnish-ordinary",
   "metadata": {},
   "source": [
    "### 按行，列和对角线(diag)提取元素"
   ]
  },
  {
   "cell_type": "code",
   "execution_count": 55,
   "id": "artistic-august",
   "metadata": {
    "scrolled": false
   },
   "outputs": [
    {
     "data": {
      "text/html": [
       "<table>\n",
       "<tbody>\n",
       "\t<tr><td>1</td><td>2</td><td>3</td><td>4</td></tr>\n",
       "\t<tr><td>2</td><td>3</td><td>4</td><td>5</td></tr>\n",
       "\t<tr><td>3</td><td>4</td><td>5</td><td>6</td></tr>\n",
       "</tbody>\n",
       "</table>\n"
      ],
      "text/latex": [
       "\\begin{tabular}{llll}\n",
       "\t 1 & 2 & 3 & 4\\\\\n",
       "\t 2 & 3 & 4 & 5\\\\\n",
       "\t 3 & 4 & 5 & 6\\\\\n",
       "\\end{tabular}\n"
      ],
      "text/markdown": [
       "\n",
       "| 1 | 2 | 3 | 4 |\n",
       "| 2 | 3 | 4 | 5 |\n",
       "| 3 | 4 | 5 | 6 |\n",
       "\n"
      ],
      "text/plain": [
       "     [,1] [,2] [,3] [,4]\n",
       "[1,] 1    2    3    4   \n",
       "[2,] 2    3    4    5   \n",
       "[3,] 3    4    5    6   "
      ]
     },
     "metadata": {},
     "output_type": "display_data"
    }
   ],
   "source": [
    "x= rbind(1:4,2:5,3:6)\n",
    "x"
   ]
  },
  {
   "cell_type": "markdown",
   "id": "insured-comfort",
   "metadata": {},
   "source": [
    "按行"
   ]
  },
  {
   "cell_type": "code",
   "execution_count": 50,
   "id": "available-irish",
   "metadata": {},
   "outputs": [
    {
     "data": {
      "text/html": [
       "1"
      ],
      "text/latex": [
       "1"
      ],
      "text/markdown": [
       "1"
      ],
      "text/plain": [
       "[1] 1"
      ]
     },
     "metadata": {},
     "output_type": "display_data"
    }
   ],
   "source": [
    "x[1]"
   ]
  },
  {
   "cell_type": "markdown",
   "id": "insured-filename",
   "metadata": {},
   "source": [
    "按列"
   ]
  },
  {
   "cell_type": "code",
   "execution_count": 51,
   "id": "destroyed-church",
   "metadata": {},
   "outputs": [
    {
     "data": {
      "text/html": [
       "<ol class=list-inline>\n",
       "\t<li>2</li>\n",
       "\t<li>3</li>\n",
       "</ol>\n"
      ],
      "text/latex": [
       "\\begin{enumerate*}\n",
       "\\item 2\n",
       "\\item 3\n",
       "\\end{enumerate*}\n"
      ],
      "text/markdown": [
       "1. 2\n",
       "2. 3\n",
       "\n",
       "\n"
      ],
      "text/plain": [
       "[1] 2 3"
      ]
     },
     "metadata": {},
     "output_type": "display_data"
    }
   ],
   "source": [
    "x[,2]"
   ]
  },
  {
   "cell_type": "markdown",
   "id": "blank-objective",
   "metadata": {},
   "source": [
    "多行"
   ]
  },
  {
   "cell_type": "code",
   "execution_count": 56,
   "id": "contemporary-original",
   "metadata": {},
   "outputs": [
    {
     "data": {
      "text/html": [
       "<table>\n",
       "<tbody>\n",
       "\t<tr><td>1</td><td>2</td><td>3</td><td>4</td></tr>\n",
       "\t<tr><td>2</td><td>3</td><td>4</td><td>5</td></tr>\n",
       "</tbody>\n",
       "</table>\n"
      ],
      "text/latex": [
       "\\begin{tabular}{llll}\n",
       "\t 1 & 2 & 3 & 4\\\\\n",
       "\t 2 & 3 & 4 & 5\\\\\n",
       "\\end{tabular}\n"
      ],
      "text/markdown": [
       "\n",
       "| 1 | 2 | 3 | 4 |\n",
       "| 2 | 3 | 4 | 5 |\n",
       "\n"
      ],
      "text/plain": [
       "     [,1] [,2] [,3] [,4]\n",
       "[1,] 1    2    3    4   \n",
       "[2,] 2    3    4    5   "
      ]
     },
     "metadata": {},
     "output_type": "display_data"
    }
   ],
   "source": [
    "x[c(1,2),]"
   ]
  },
  {
   "cell_type": "markdown",
   "id": "governing-nerve",
   "metadata": {},
   "source": [
    "对角线"
   ]
  },
  {
   "cell_type": "code",
   "execution_count": 58,
   "id": "beautiful-encyclopedia",
   "metadata": {},
   "outputs": [
    {
     "data": {
      "text/html": [
       "<ol class=list-inline>\n",
       "\t<li>1</li>\n",
       "\t<li>3</li>\n",
       "\t<li>5</li>\n",
       "</ol>\n"
      ],
      "text/latex": [
       "\\begin{enumerate*}\n",
       "\\item 1\n",
       "\\item 3\n",
       "\\item 5\n",
       "\\end{enumerate*}\n"
      ],
      "text/markdown": [
       "1. 1\n",
       "2. 3\n",
       "3. 5\n",
       "\n",
       "\n"
      ],
      "text/plain": [
       "[1] 1 3 5"
      ]
     },
     "metadata": {},
     "output_type": "display_data"
    }
   ],
   "source": [
    "diag(x)"
   ]
  },
  {
   "cell_type": "markdown",
   "id": "ongoing-decade",
   "metadata": {},
   "source": [
    "### 删除矩阵行列"
   ]
  },
  {
   "cell_type": "code",
   "execution_count": 59,
   "id": "linear-satellite",
   "metadata": {
    "scrolled": true
   },
   "outputs": [
    {
     "data": {
      "text/html": [
       "<table>\n",
       "<tbody>\n",
       "\t<tr><td>1</td><td>2</td><td>3</td><td>4</td></tr>\n",
       "\t<tr><td>2</td><td>3</td><td>4</td><td>5</td></tr>\n",
       "\t<tr><td>3</td><td>4</td><td>5</td><td>6</td></tr>\n",
       "</tbody>\n",
       "</table>\n"
      ],
      "text/latex": [
       "\\begin{tabular}{llll}\n",
       "\t 1 & 2 & 3 & 4\\\\\n",
       "\t 2 & 3 & 4 & 5\\\\\n",
       "\t 3 & 4 & 5 & 6\\\\\n",
       "\\end{tabular}\n"
      ],
      "text/markdown": [
       "\n",
       "| 1 | 2 | 3 | 4 |\n",
       "| 2 | 3 | 4 | 5 |\n",
       "| 3 | 4 | 5 | 6 |\n",
       "\n"
      ],
      "text/plain": [
       "     [,1] [,2] [,3] [,4]\n",
       "[1,] 1    2    3    4   \n",
       "[2,] 2    3    4    5   \n",
       "[3,] 3    4    5    6   "
      ]
     },
     "metadata": {},
     "output_type": "display_data"
    }
   ],
   "source": [
    "x= rbind(1:4,2:5,3:6)\n",
    "x"
   ]
  },
  {
   "cell_type": "markdown",
   "id": "meaningful-check",
   "metadata": {},
   "source": [
    "删除第一行"
   ]
  },
  {
   "cell_type": "code",
   "execution_count": 61,
   "id": "possible-correction",
   "metadata": {},
   "outputs": [
    {
     "data": {
      "text/html": [
       "<table>\n",
       "<tbody>\n",
       "\t<tr><td>2</td><td>3</td><td>4</td><td>5</td></tr>\n",
       "\t<tr><td>3</td><td>4</td><td>5</td><td>6</td></tr>\n",
       "</tbody>\n",
       "</table>\n"
      ],
      "text/latex": [
       "\\begin{tabular}{llll}\n",
       "\t 2 & 3 & 4 & 5\\\\\n",
       "\t 3 & 4 & 5 & 6\\\\\n",
       "\\end{tabular}\n"
      ],
      "text/markdown": [
       "\n",
       "| 2 | 3 | 4 | 5 |\n",
       "| 3 | 4 | 5 | 6 |\n",
       "\n"
      ],
      "text/plain": [
       "     [,1] [,2] [,3] [,4]\n",
       "[1,] 2    3    4    5   \n",
       "[2,] 3    4    5    6   "
      ]
     },
     "metadata": {},
     "output_type": "display_data"
    }
   ],
   "source": [
    "x[-1,]"
   ]
  },
  {
   "cell_type": "markdown",
   "id": "innovative-rainbow",
   "metadata": {},
   "source": [
    "删除多列"
   ]
  },
  {
   "cell_type": "code",
   "execution_count": 63,
   "id": "level-reproduction",
   "metadata": {},
   "outputs": [
    {
     "data": {
      "text/html": [
       "<table>\n",
       "<tbody>\n",
       "\t<tr><td>2</td><td>3</td></tr>\n",
       "\t<tr><td>3</td><td>4</td></tr>\n",
       "\t<tr><td>4</td><td>5</td></tr>\n",
       "</tbody>\n",
       "</table>\n"
      ],
      "text/latex": [
       "\\begin{tabular}{ll}\n",
       "\t 2 & 3\\\\\n",
       "\t 3 & 4\\\\\n",
       "\t 4 & 5\\\\\n",
       "\\end{tabular}\n"
      ],
      "text/markdown": [
       "\n",
       "| 2 | 3 |\n",
       "| 3 | 4 |\n",
       "| 4 | 5 |\n",
       "\n"
      ],
      "text/plain": [
       "     [,1] [,2]\n",
       "[1,] 2    3   \n",
       "[2,] 3    4   \n",
       "[3,] 4    5   "
      ]
     },
     "metadata": {},
     "output_type": "display_data"
    }
   ],
   "source": [
    "x[,2:3]"
   ]
  },
  {
   "cell_type": "markdown",
   "id": "occasional-bicycle",
   "metadata": {},
   "source": [
    "### 替换"
   ]
  },
  {
   "cell_type": "code",
   "execution_count": 65,
   "id": "muslim-trouble",
   "metadata": {
    "scrolled": false
   },
   "outputs": [
    {
     "data": {
      "text/html": [
       "<table>\n",
       "<tbody>\n",
       "\t<tr><td>2</td><td>3</td><td>4</td><td>5</td></tr>\n",
       "\t<tr><td>2</td><td>3</td><td>4</td><td>5</td></tr>\n",
       "\t<tr><td>3</td><td>4</td><td>5</td><td>6</td></tr>\n",
       "</tbody>\n",
       "</table>\n"
      ],
      "text/latex": [
       "\\begin{tabular}{llll}\n",
       "\t 2 & 3 & 4 & 5\\\\\n",
       "\t 2 & 3 & 4 & 5\\\\\n",
       "\t 3 & 4 & 5 & 6\\\\\n",
       "\\end{tabular}\n"
      ],
      "text/markdown": [
       "\n",
       "| 2 | 3 | 4 | 5 |\n",
       "| 2 | 3 | 4 | 5 |\n",
       "| 3 | 4 | 5 | 6 |\n",
       "\n"
      ],
      "text/plain": [
       "     [,1] [,2] [,3] [,4]\n",
       "[1,] 2    3    4    5   \n",
       "[2,] 2    3    4    5   \n",
       "[3,] 3    4    5    6   "
      ]
     },
     "metadata": {},
     "output_type": "display_data"
    }
   ],
   "source": [
    "x[1,] = 2:5\n",
    "x"
   ]
  },
  {
   "cell_type": "markdown",
   "id": "thorough-pleasure",
   "metadata": {},
   "source": [
    "## 矩阵运算与线性代数"
   ]
  },
  {
   "cell_type": "markdown",
   "id": "random-stone",
   "metadata": {},
   "source": [
    "### 矩阵转置t()"
   ]
  },
  {
   "cell_type": "code",
   "execution_count": 66,
   "id": "relative-trail",
   "metadata": {},
   "outputs": [
    {
     "data": {
      "text/html": [
       "<table>\n",
       "<tbody>\n",
       "\t<tr><td>1</td><td>2</td><td>3</td><td>4</td></tr>\n",
       "\t<tr><td>2</td><td>3</td><td>4</td><td>5</td></tr>\n",
       "</tbody>\n",
       "</table>\n"
      ],
      "text/latex": [
       "\\begin{tabular}{llll}\n",
       "\t 1 & 2 & 3 & 4\\\\\n",
       "\t 2 & 3 & 4 & 5\\\\\n",
       "\\end{tabular}\n"
      ],
      "text/markdown": [
       "\n",
       "| 1 | 2 | 3 | 4 |\n",
       "| 2 | 3 | 4 | 5 |\n",
       "\n"
      ],
      "text/plain": [
       "     [,1] [,2] [,3] [,4]\n",
       "[1,] 1    2    3    4   \n",
       "[2,] 2    3    4    5   "
      ]
     },
     "metadata": {},
     "output_type": "display_data"
    }
   ],
   "source": [
    "x=rbind(1:4,2:5)\n",
    "x"
   ]
  },
  {
   "cell_type": "code",
   "execution_count": 67,
   "id": "above-going",
   "metadata": {
    "scrolled": true
   },
   "outputs": [
    {
     "data": {
      "text/html": [
       "<table>\n",
       "<tbody>\n",
       "\t<tr><td>1</td><td>2</td></tr>\n",
       "\t<tr><td>2</td><td>3</td></tr>\n",
       "\t<tr><td>3</td><td>4</td></tr>\n",
       "\t<tr><td>4</td><td>5</td></tr>\n",
       "</tbody>\n",
       "</table>\n"
      ],
      "text/latex": [
       "\\begin{tabular}{ll}\n",
       "\t 1 & 2\\\\\n",
       "\t 2 & 3\\\\\n",
       "\t 3 & 4\\\\\n",
       "\t 4 & 5\\\\\n",
       "\\end{tabular}\n"
      ],
      "text/markdown": [
       "\n",
       "| 1 | 2 |\n",
       "| 2 | 3 |\n",
       "| 3 | 4 |\n",
       "| 4 | 5 |\n",
       "\n"
      ],
      "text/plain": [
       "     [,1] [,2]\n",
       "[1,] 1    2   \n",
       "[2,] 2    3   \n",
       "[3,] 3    4   \n",
       "[4,] 4    5   "
      ]
     },
     "metadata": {},
     "output_type": "display_data"
    }
   ],
   "source": [
    "t(x)"
   ]
  },
  {
   "cell_type": "markdown",
   "id": "aggressive-lesson",
   "metadata": {},
   "source": [
    "### 单位矩阵"
   ]
  },
  {
   "cell_type": "code",
   "execution_count": 68,
   "id": "altered-policy",
   "metadata": {},
   "outputs": [
    {
     "data": {
      "text/html": [
       "<table>\n",
       "<tbody>\n",
       "\t<tr><td>1</td><td>0</td><td>0</td><td>0</td></tr>\n",
       "\t<tr><td>0</td><td>1</td><td>0</td><td>0</td></tr>\n",
       "\t<tr><td>0</td><td>0</td><td>1</td><td>0</td></tr>\n",
       "\t<tr><td>0</td><td>0</td><td>0</td><td>1</td></tr>\n",
       "</tbody>\n",
       "</table>\n"
      ],
      "text/latex": [
       "\\begin{tabular}{llll}\n",
       "\t 1 & 0 & 0 & 0\\\\\n",
       "\t 0 & 1 & 0 & 0\\\\\n",
       "\t 0 & 0 & 1 & 0\\\\\n",
       "\t 0 & 0 & 0 & 1\\\\\n",
       "\\end{tabular}\n"
      ],
      "text/markdown": [
       "\n",
       "| 1 | 0 | 0 | 0 |\n",
       "| 0 | 1 | 0 | 0 |\n",
       "| 0 | 0 | 1 | 0 |\n",
       "| 0 | 0 | 0 | 1 |\n",
       "\n"
      ],
      "text/plain": [
       "     [,1] [,2] [,3] [,4]\n",
       "[1,] 1    0    0    0   \n",
       "[2,] 0    1    0    0   \n",
       "[3,] 0    0    1    0   \n",
       "[4,] 0    0    0    1   "
      ]
     },
     "metadata": {},
     "output_type": "display_data"
    }
   ],
   "source": [
    "diag(4)"
   ]
  },
  {
   "cell_type": "markdown",
   "id": "sporting-repeat",
   "metadata": {},
   "source": [
    "### 矩阵数乘"
   ]
  },
  {
   "cell_type": "code",
   "execution_count": 69,
   "id": "short-eagle",
   "metadata": {},
   "outputs": [
    {
     "data": {
      "text/html": [
       "<table>\n",
       "<tbody>\n",
       "\t<tr><td>2</td><td>0</td><td>0</td><td>0</td></tr>\n",
       "\t<tr><td>0</td><td>2</td><td>0</td><td>0</td></tr>\n",
       "\t<tr><td>0</td><td>0</td><td>2</td><td>0</td></tr>\n",
       "\t<tr><td>0</td><td>0</td><td>0</td><td>2</td></tr>\n",
       "</tbody>\n",
       "</table>\n"
      ],
      "text/latex": [
       "\\begin{tabular}{llll}\n",
       "\t 2 & 0 & 0 & 0\\\\\n",
       "\t 0 & 2 & 0 & 0\\\\\n",
       "\t 0 & 0 & 2 & 0\\\\\n",
       "\t 0 & 0 & 0 & 2\\\\\n",
       "\\end{tabular}\n"
      ],
      "text/markdown": [
       "\n",
       "| 2 | 0 | 0 | 0 |\n",
       "| 0 | 2 | 0 | 0 |\n",
       "| 0 | 0 | 2 | 0 |\n",
       "| 0 | 0 | 0 | 2 |\n",
       "\n"
      ],
      "text/plain": [
       "     [,1] [,2] [,3] [,4]\n",
       "[1,] 2    0    0    0   \n",
       "[2,] 0    2    0    0   \n",
       "[3,] 0    0    2    0   \n",
       "[4,] 0    0    0    2   "
      ]
     },
     "metadata": {},
     "output_type": "display_data"
    }
   ],
   "source": [
    "2*diag(4)"
   ]
  },
  {
   "cell_type": "markdown",
   "id": "traditional-gallery",
   "metadata": {},
   "source": [
    "### 矩阵乘法%*%"
   ]
  },
  {
   "cell_type": "code",
   "execution_count": 73,
   "id": "traditional-contrast",
   "metadata": {},
   "outputs": [
    {
     "data": {
      "text/html": [
       "<table>\n",
       "<tbody>\n",
       "\t<tr><td>1</td><td>2</td><td>3</td><td>4</td></tr>\n",
       "\t<tr><td>2</td><td>3</td><td>4</td><td>5</td></tr>\n",
       "\t<tr><td>3</td><td>4</td><td>5</td><td>6</td></tr>\n",
       "\t<tr><td>4</td><td>5</td><td>6</td><td>7</td></tr>\n",
       "</tbody>\n",
       "</table>\n"
      ],
      "text/latex": [
       "\\begin{tabular}{llll}\n",
       "\t 1 & 2 & 3 & 4\\\\\n",
       "\t 2 & 3 & 4 & 5\\\\\n",
       "\t 3 & 4 & 5 & 6\\\\\n",
       "\t 4 & 5 & 6 & 7\\\\\n",
       "\\end{tabular}\n"
      ],
      "text/markdown": [
       "\n",
       "| 1 | 2 | 3 | 4 |\n",
       "| 2 | 3 | 4 | 5 |\n",
       "| 3 | 4 | 5 | 6 |\n",
       "| 4 | 5 | 6 | 7 |\n",
       "\n"
      ],
      "text/plain": [
       "     [,1] [,2] [,3] [,4]\n",
       "[1,] 1    2    3    4   \n",
       "[2,] 2    3    4    5   \n",
       "[3,] 3    4    5    6   \n",
       "[4,] 4    5    6    7   "
      ]
     },
     "metadata": {},
     "output_type": "display_data"
    }
   ],
   "source": [
    "x= rbind(1:4,2:5,3:6,4:7)\n",
    "x"
   ]
  },
  {
   "cell_type": "code",
   "execution_count": 74,
   "id": "charming-guatemala",
   "metadata": {},
   "outputs": [
    {
     "data": {
      "text/html": [
       "<table>\n",
       "<tbody>\n",
       "\t<tr><td>1</td><td>0</td><td>0</td><td>0</td></tr>\n",
       "\t<tr><td>0</td><td>1</td><td>0</td><td>0</td></tr>\n",
       "\t<tr><td>0</td><td>0</td><td>1</td><td>0</td></tr>\n",
       "\t<tr><td>0</td><td>0</td><td>0</td><td>1</td></tr>\n",
       "</tbody>\n",
       "</table>\n"
      ],
      "text/latex": [
       "\\begin{tabular}{llll}\n",
       "\t 1 & 0 & 0 & 0\\\\\n",
       "\t 0 & 1 & 0 & 0\\\\\n",
       "\t 0 & 0 & 1 & 0\\\\\n",
       "\t 0 & 0 & 0 & 1\\\\\n",
       "\\end{tabular}\n"
      ],
      "text/markdown": [
       "\n",
       "| 1 | 0 | 0 | 0 |\n",
       "| 0 | 1 | 0 | 0 |\n",
       "| 0 | 0 | 1 | 0 |\n",
       "| 0 | 0 | 0 | 1 |\n",
       "\n"
      ],
      "text/plain": [
       "     [,1] [,2] [,3] [,4]\n",
       "[1,] 1    0    0    0   \n",
       "[2,] 0    1    0    0   \n",
       "[3,] 0    0    1    0   \n",
       "[4,] 0    0    0    1   "
      ]
     },
     "metadata": {},
     "output_type": "display_data"
    }
   ],
   "source": [
    "y=diag(4)\n",
    "y"
   ]
  },
  {
   "cell_type": "code",
   "execution_count": 75,
   "id": "coupled-financing",
   "metadata": {},
   "outputs": [
    {
     "data": {
      "text/html": [
       "<table>\n",
       "<tbody>\n",
       "\t<tr><td>1</td><td>2</td><td>3</td><td>4</td></tr>\n",
       "\t<tr><td>2</td><td>3</td><td>4</td><td>5</td></tr>\n",
       "\t<tr><td>3</td><td>4</td><td>5</td><td>6</td></tr>\n",
       "\t<tr><td>4</td><td>5</td><td>6</td><td>7</td></tr>\n",
       "</tbody>\n",
       "</table>\n"
      ],
      "text/latex": [
       "\\begin{tabular}{llll}\n",
       "\t 1 & 2 & 3 & 4\\\\\n",
       "\t 2 & 3 & 4 & 5\\\\\n",
       "\t 3 & 4 & 5 & 6\\\\\n",
       "\t 4 & 5 & 6 & 7\\\\\n",
       "\\end{tabular}\n"
      ],
      "text/markdown": [
       "\n",
       "| 1 | 2 | 3 | 4 |\n",
       "| 2 | 3 | 4 | 5 |\n",
       "| 3 | 4 | 5 | 6 |\n",
       "| 4 | 5 | 6 | 7 |\n",
       "\n"
      ],
      "text/plain": [
       "     [,1] [,2] [,3] [,4]\n",
       "[1,] 1    2    3    4   \n",
       "[2,] 2    3    4    5   \n",
       "[3,] 3    4    5    6   \n",
       "[4,] 4    5    6    7   "
      ]
     },
     "metadata": {},
     "output_type": "display_data"
    }
   ],
   "source": [
    "x%*%y"
   ]
  },
  {
   "cell_type": "markdown",
   "id": "honey-yemen",
   "metadata": {},
   "source": [
    "### 逆矩阵(求逆)"
   ]
  },
  {
   "cell_type": "code",
   "execution_count": 78,
   "id": "typical-declaration",
   "metadata": {},
   "outputs": [
    {
     "data": {
      "text/html": [
       "<table>\n",
       "<tbody>\n",
       "\t<tr><td> 1.1754386 </td><td>-0.03508772</td></tr>\n",
       "\t<tr><td>-0.0877193 </td><td> 0.01754386</td></tr>\n",
       "</tbody>\n",
       "</table>\n"
      ],
      "text/latex": [
       "\\begin{tabular}{ll}\n",
       "\t  1.1754386  & -0.03508772\\\\\n",
       "\t -0.0877193  &  0.01754386\\\\\n",
       "\\end{tabular}\n"
      ],
      "text/markdown": [
       "\n",
       "|  1.1754386  | -0.03508772 |\n",
       "| -0.0877193  |  0.01754386 |\n",
       "\n"
      ],
      "text/plain": [
       "     [,1]       [,2]       \n",
       "[1,]  1.1754386 -0.03508772\n",
       "[2,] -0.0877193  0.01754386"
      ]
     },
     "metadata": {},
     "output_type": "display_data"
    }
   ],
   "source": [
    "x= rbind(1:2,c(5,67))\n",
    "solve(x)"
   ]
  },
  {
   "cell_type": "markdown",
   "id": "fuzzy-profession",
   "metadata": {},
   "source": [
    "# 基本绘图"
   ]
  },
  {
   "cell_type": "code",
   "execution_count": 1,
   "id": "genetic-accent",
   "metadata": {
    "collapsed": true
   },
   "outputs": [
    {
     "data": {
      "image/png": "[encoded data removed]",
      "text/plain": [
       "plot without title"
      ]
     },
     "metadata": {},
     "output_type": "display_data"
    }
   ],
   "source": [
    "foo <- c(1.1,2,3.5,3.9,4.2)\n",
    "bar <- c(2,2.2,-1.3,0,0.2)\n",
    "plot(foo,bar)"
   ]
  },
  {
   "cell_type": "markdown",
   "id": "micro-somerset",
   "metadata": {},
   "source": [
    "## 图形化参数"
   ]
  },
  {
   "cell_type": "markdown",
   "id": "mobile-notion",
   "metadata": {},
   "source": [
    "### 绘图类型\n",
    "\n",
    "+ 默认为p，只有点\n",
    "+ l： 只有线\n",
    "+ b： 点和线都有\n",
    "+ o：点和线都有，且无间隙\n",
    "+ n：没有点和线的图"
   ]
  },
  {
   "cell_type": "code",
   "execution_count": 4,
   "id": "possible-geology",
   "metadata": {
    "collapsed": true
   },
   "outputs": [
    {
     "data": {
      "image/png": "[encoded data removed]",
      "text/plain": [
       "plot without title"
      ]
     },
     "metadata": {},
     "output_type": "display_data"
    },
    {
     "data": {
      "image/png": "[encoded data removed]",
      "text/plain": [
       "plot without title"
      ]
     },
     "metadata": {},
     "output_type": "display_data"
    }
   ],
   "source": [
    "plot(foo,bar,type=\"l\")\n",
    "plot(foo,bar,type=\"o\")"
   ]
  },
  {
   "cell_type": "markdown",
   "id": "tamil-pricing",
   "metadata": {},
   "source": [
    "### 标题和坐标轴标签\n",
    "+ main：标题\n",
    "+ xlab：x坐标轴名"
   ]
  },
  {
   "cell_type": "code",
   "execution_count": 5,
   "id": "muslim-cherry",
   "metadata": {
    "collapsed": true
   },
   "outputs": [
    {
     "data": {
      "image/png": "[encoded data removed]",
      "text/plain": [
       "Plot with title \"My lovely plot\""
      ]
     },
     "metadata": {},
     "output_type": "display_data"
    },
    {
     "data": {
      "image/png": "[encoded data removed]",
      "text/plain": [
       "Plot with title \"My lovely plot\n",
       "title on two lines\""
      ]
     },
     "metadata": {},
     "output_type": "display_data"
    }
   ],
   "source": [
    "plot(foo,bar,type=\"b\",main=\"My lovely plot\",xlab=\"x axis label\",ylab=\"location y\")\n",
    "plot(foo,bar,type=\"b\",main=\"My lovely plot\\ntitle on two lines\",xlab=\"\",ylab=\"\")"
   ]
  },
  {
   "cell_type": "markdown",
   "id": "upper-possession",
   "metadata": {},
   "source": [
    "### 颜色col"
   ]
  },
  {
   "cell_type": "code",
   "execution_count": 6,
   "id": "after-marijuana",
   "metadata": {
    "collapsed": true
   },
   "outputs": [
    {
     "data": {
      "image/png": "[encoded data removed]",
      "text/plain": [
       "Plot with title \"My lovely plot\""
      ]
     },
     "metadata": {},
     "output_type": "display_data"
    },
    {
     "data": {
      "image/png": "[encoded data removed]",
      "text/plain": [
       "Plot with title \"My lovely plot\""
      ]
     },
     "metadata": {},
     "output_type": "display_data"
    }
   ],
   "source": [
    "plot(foo,bar,type=\"b\",main=\"My lovely plot\",xlab=\"\",ylab=\"\",col=2)\n",
    "plot(foo,bar,type=\"b\",main=\"My lovely plot\",xlab=\"\",ylab=\"\",col=\"seagreen4\")"
   ]
  },
  {
   "cell_type": "markdown",
   "id": "hungry-department",
   "metadata": {},
   "source": [
    "### 点和线的外观\n",
    "+ pch：控制点的类型，从1-25选\n",
    "+ lty：控制线的类型，从1-6选"
   ]
  },
  {
   "cell_type": "code",
   "execution_count": 7,
   "id": "ethical-stroke",
   "metadata": {
    "collapsed": true
   },
   "outputs": [
    {
     "data": {
      "image/png": "[encoded data removed]",
      "text/plain": [
       "Plot with title \"My lovely plot\""
      ]
     },
     "metadata": {},
     "output_type": "display_data"
    },
    {
     "data": {
      "image/png": "[encoded data removed]",
      "text/plain": [
       "Plot with title \"My lovely plot\""
      ]
     },
     "metadata": {},
     "output_type": "display_data"
    }
   ],
   "source": [
    "plot(foo,bar,type=\"b\",main=\"My lovely plot\",xlab=\"\",ylab=\"\",col=4,pch=8,lty=2,cex=2.3,lwd=3.3)\n",
    "plot(foo,bar,type=\"b\",main=\"My lovely plot\",xlab=\"\",ylab=\"\",col=6,pch=15,lty=3,cex=0.7,lwd=2)"
   ]
  },
  {
   "cell_type": "markdown",
   "id": "adaptive-sample",
   "metadata": {},
   "source": [
    "### 绘图区域\n",
    "+ xlim,ylim分别设置x,y轴的绘图区域"
   ]
  },
  {
   "cell_type": "code",
   "execution_count": 8,
   "id": "rough-forge",
   "metadata": {
    "collapsed": true
   },
   "outputs": [
    {
     "data": {
      "image/png": "[encoded data removed]",
      "text/plain": [
       "Plot with title \"My lovely plot\""
      ]
     },
     "metadata": {},
     "output_type": "display_data"
    },
    {
     "data": {
      "image/png": "[encoded data removed]",
      "text/plain": [
       "Plot with title \"My lovely plot\""
      ]
     },
     "metadata": {},
     "output_type": "display_data"
    }
   ],
   "source": [
    "plot(foo,bar,type=\"b\",main=\"My lovely plot\",xlab=\"\",ylab=\"\",col=4,pch=8,lty=2,cex=2.3,lwd=3.3,xlim=c(-10,5),ylim=c(-3,3))\n",
    "plot(foo,bar,type=\"b\",main=\"My lovely plot\",xlab=\"\",ylab=\"\",col=6,pch=15,lty=3,cex=0.7,lwd=2,xlim=c(3,5),ylim=c(-0.5,0.2))"
   ]
  },
  {
   "cell_type": "markdown",
   "id": "referenced-consultancy",
   "metadata": {},
   "source": [
    "## 在已有图中添加点，线和文本"
   ]
  },
  {
   "cell_type": "markdown",
   "id": "heavy-relief",
   "metadata": {},
   "source": [
    "abline添加线，h为水平线，v为横线"
   ]
  },
  {
   "cell_type": "code",
   "execution_count": 4,
   "id": "frozen-needle",
   "metadata": {
    "collapsed": true
   },
   "outputs": [
    {
     "data": {
      "image/png": "[encoded data removed]",
      "text/plain": [
       "Plot with title \"\""
      ]
     },
     "metadata": {},
     "output_type": "display_data"
    }
   ],
   "source": [
    "x <- 1:20\n",
    "y <- c(-1.49,3.37,2.59,-2.78,-3.94,-0.92,6.43,8.51,3.41,-8.23,-12.01,-6.58,2.87,14.12,9.63,-4.58,-14.78,-11.67,1.17,15.62)\n",
    "\n",
    "plot(x,y,type=\"n\",main=\"\")\n",
    "abline(h=c(-5,5),v = c(5,10),col=\"red\",lty=2,lwd=2)"
   ]
  },
  {
   "cell_type": "markdown",
   "id": "based-wrist",
   "metadata": {},
   "source": [
    "添加不是横跨整个图的线"
   ]
  },
  {
   "cell_type": "code",
   "execution_count": 6,
   "id": "turned-official",
   "metadata": {
    "collapsed": true
   },
   "outputs": [
    {
     "data": {
      "image/png": "[encoded data removed]",
      "text/plain": [
       "Plot with title \"\""
      ]
     },
     "metadata": {},
     "output_type": "display_data"
    }
   ],
   "source": [
    "plot(x,y,type=\"n\",main=\"\")\n",
    "segments(x0=c(5,15),y0=c(-5,-5),x1=c(5,15),y1=c(5,5),col=\"red\",lty=3,lwd=2)"
   ]
  },
  {
   "cell_type": "markdown",
   "id": "automatic-ivory",
   "metadata": {},
   "source": [
    "添加点"
   ]
  },
  {
   "cell_type": "code",
   "execution_count": 10,
   "id": "upper-norwegian",
   "metadata": {
    "collapsed": true
   },
   "outputs": [
    {
     "data": {
      "image/png": "[encoded data removed]",
      "text/plain": [
       "Plot with title \"\""
      ]
     },
     "metadata": {},
     "output_type": "display_data"
    }
   ],
   "source": [
    "plot(x,y,type=\"n\",main=\"\")\n",
    "points(x[y>=5],y[y>=5],pch=4,col=\"darkmagenta\",cex=5)  # cex是大小\n",
    "\n",
    "points(x[y<=-5],y[y<=-5],pch=3,col=\"darkgreen\",cex=2)"
   ]
  },
  {
   "cell_type": "markdown",
   "id": "independent-payday",
   "metadata": {},
   "source": [
    "添加线"
   ]
  },
  {
   "cell_type": "code",
   "execution_count": 11,
   "id": "ambient-hughes",
   "metadata": {},
   "outputs": [
    {
     "data": {
      "image/png": "[encoded data removed]",
      "text/plain": [
       "Plot with title \"\""
      ]
     },
     "metadata": {},
     "output_type": "display_data"
    }
   ],
   "source": [
    "plot(x,y,type=\"n\",main=\"\")\n",
    "lines(x,y,lty=4)"
   ]
  },
  {
   "cell_type": "markdown",
   "id": "unknown-israel",
   "metadata": {},
   "source": [
    "箭头"
   ]
  },
  {
   "cell_type": "code",
   "execution_count": 12,
   "id": "reflected-digest",
   "metadata": {
    "collapsed": true
   },
   "outputs": [
    {
     "data": {
      "image/png": "[encoded data removed]",
      "text/plain": [
       "Plot with title \"\""
      ]
     },
     "metadata": {},
     "output_type": "display_data"
    }
   ],
   "source": [
    "plot(x,y,type=\"n\",main=\"\")\n",
    "arrows(x0=8,y0=14,x1=11,y1=2.5)"
   ]
  },
  {
   "cell_type": "markdown",
   "id": "stone-tongue",
   "metadata": {},
   "source": [
    "文字"
   ]
  },
  {
   "cell_type": "code",
   "execution_count": 13,
   "id": "worse-jewelry",
   "metadata": {
    "collapsed": true
   },
   "outputs": [
    {
     "data": {
      "image/png": "[encoded data removed]",
      "text/plain": [
       "Plot with title \"\""
      ]
     },
     "metadata": {},
     "output_type": "display_data"
    }
   ],
   "source": [
    "plot(x,y,type=\"n\",main=\"\")\n",
    "text(x=8,y=15,label=\"sweet spot\")"
   ]
  },
  {
   "cell_type": "markdown",
   "id": "liable-hungarian",
   "metadata": {},
   "source": [
    "图例"
   ]
  },
  {
   "cell_type": "code",
   "execution_count": 14,
   "id": "preliminary-uzbekistan",
   "metadata": {
    "collapsed": true
   },
   "outputs": [
    {
     "data": {
      "image/png": "[encoded data removed]",
      "text/plain": [
       "Plot with title \"\""
      ]
     },
     "metadata": {},
     "output_type": "display_data"
    }
   ],
   "source": [
    "plot(x,y,type=\"n\",main=\"\")\n",
    "legend(\"bottomleft\",legend=c(\"overall process\",\"sweet\",\"standard\",\"too big\",\"too small\",\"sweet y range\",\"sweet x range\"),pch=c(NA,19,1,4,3,NA,NA),lty=c(4,NA,NA,NA,NA,2,3),col=c(\"black\",\"blue\",\"black\",\"darkmagenta\",\"darkgreen\",\"red\",\"red\"),lwd=c(1,NA,NA,NA,NA,2,2),pt.cex=c(NA,1,1,2,2,NA,NA))"
   ]
  },
  {
   "cell_type": "markdown",
   "id": "chubby-bermuda",
   "metadata": {},
   "source": [
    "## 保存图片"
   ]
  },
  {
   "cell_type": "code",
   "execution_count": 10,
   "id": "prepared-ebony",
   "metadata": {},
   "outputs": [
    {
     "data": {
      "text/html": [
       "<strong>png:</strong> 2"
      ],
      "text/latex": [
       "\\textbf{png:} 2"
      ],
      "text/markdown": [
       "**png:** 2"
      ],
      "text/plain": [
       "png \n",
       "  2 "
      ]
     },
     "metadata": {},
     "output_type": "display_data"
    }
   ],
   "source": [
    "x = c(1,2,3,4,5,6,67,87)\n",
    "setwd(\"d://\")     # 设置保存路径\n",
    "png(\"x.png\",units=\"in\", width=5, height=5,res=2000)   # 设置分辨率\n",
    "hist(x,xlim=c(min(x),max(x)),probability = T,col = 'green',main=\"整体\",border=\"white\")  # probability T代表频率，F代表频数\n",
    "lines(density(x,bw=2),col=\"red\",lwd=3)   # density是核密度图，bw=0.001：核密度曲线的平滑度。数越大，越平滑，border=‘white’：柱子边界白色\n",
    "dev.off()"
   ]
  },
  {
   "cell_type": "code",
   "execution_count": 13,
   "id": "sealed-brown",
   "metadata": {},
   "outputs": [
    {
     "data": {
      "text/html": [
       "<strong>png:</strong> 2"
      ],
      "text/latex": [
       "\\textbf{png:} 2"
      ],
      "text/markdown": [
       "**png:** 2"
      ],
      "text/plain": [
       "png \n",
       "  2 "
      ]
     },
     "metadata": {},
     "output_type": "display_data"
    }
   ],
   "source": [
    "s = c(1,2,3,4,5,6,67,87)\n",
    "setwd(\"d://\")\n",
    "jpeg(file = \"weibullTest_hist.jpg\")\n",
    "hist(s,xlim=c(min(s),max(s)),probability = T,col = 'green')  \n",
    "lines(density(s,bw=2),col=\"red\",lwd=3)\n",
    "dev.off()"
   ]
  }
 ],
 "metadata": {
  "kernelspec": {
   "display_name": "R",
   "language": "R",
   "name": "ir"
  },
  "language_info": {
   "codemirror_mode": "r",
   "file_extension": ".r",
   "mimetype": "text/x-r-source",
   "name": "R",
   "pygments_lexer": "r",
   "version": "3.6.1"
  },
  "latex_envs": {
   "LaTeX_envs_menu_present": true,
   "autoclose": true,
   "autocomplete": true,
   "bibliofile": "biblio.bib",
   "cite_by": "apalike",
   "current_citInitial": 1,
   "eqLabelWithNumbers": true,
   "eqNumInitial": 1,
   "hotkeys": {
    "equation": "Ctrl-E",
    "itemize": "Ctrl-I"
   },
   "labels_anchors": false,
   "latex_user_defs": false,
   "report_style_numbering": false,
   "user_envs_cfg": false
  },
  "toc": {
   "base_numbering": 1,
   "nav_menu": {},
   "number_sections": true,
   "sideBar": true,
   "skip_h1_title": false,
   "title_cell": "Table of Contents",
   "title_sidebar": "目录",
   "toc_cell": false,
   "toc_position": {
    "height": "804.007px",
    "left": "1497.44px",
    "top": "111.094px",
    "width": "276.833px"
   },
   "toc_section_display": true,
   "toc_window_display": true
  }
 },
 "nbformat": 4,
 "nbformat_minor": 5
}
