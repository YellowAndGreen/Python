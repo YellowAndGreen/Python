{
 "cells": [
  {
   "cell_type": "markdown",
   "id": "f8342c2a",
   "metadata": {},
   "source": [
    "## 算法"
   ]
  },
  {
   "cell_type": "markdown",
   "id": "minimal-boring",
   "metadata": {},
   "source": [
    "### 进制转换\n",
    "#### 普通循环"
   ]
  },
  {
   "cell_type": "markdown",
   "id": "impossible-chest",
   "metadata": {},
   "source": [
    "不能使用round，因为round是四舍五入，//地板除直接舍弃\n",
    "<br>join连接列表里的字符，前面的字符串作为间隔"
   ]
  },
  {
   "cell_type": "code",
   "execution_count": 58,
   "id": "south-mention",
   "metadata": {},
   "outputs": [],
   "source": [
    "from collections import deque\n",
    "def str_to_base(num,base):\n",
    "    ram_list=deque()\n",
    "    result = ''\n",
    "    while num//base!=0:\n",
    "        ram = num % base\n",
    "        ram_list.append(ram)\n",
    "        num = num//base\n",
    "    \n",
    "    ram_list.append(num)\n",
    "    print(ram_list)\n",
    "    while len(ram_list)>0:\n",
    "        print(len(ram_list))\n",
    "        result = ''.join([result,str(ram_list.pop())])\n",
    "    return result"
   ]
  },
  {
   "cell_type": "code",
   "execution_count": 61,
   "id": "worldwide-scientist",
   "metadata": {},
   "outputs": [
    {
     "name": "stdout",
     "output_type": "stream",
     "text": [
      "deque([0, 0, 1])\n",
      "3\n",
      "2\n",
      "1\n"
     ]
    },
    {
     "data": {
      "text/plain": [
       "'100'"
      ]
     },
     "execution_count": 61,
     "metadata": {},
     "output_type": "execute_result"
    }
   ],
   "source": [
    "str_to_base(9,3)"
   ]
  },
  {
   "cell_type": "markdown",
   "id": "great-relevance",
   "metadata": {},
   "source": [
    "#### 使用递归"
   ]
  },
  {
   "cell_type": "markdown",
   "id": "toxic-literacy",
   "metadata": {},
   "source": [
    "问题在于result没有赋值"
   ]
  },
  {
   "cell_type": "code",
   "execution_count": 106,
   "id": "secure-colony",
   "metadata": {},
   "outputs": [],
   "source": [
    "def str_to_base(num,base,result=''):\n",
    "    ram = num % base\n",
    "    if num//base==0:\n",
    "        return str(ram)\n",
    "    else:\n",
    "        result =  ''.join([str_to_base(num//base,base,result),str(ram)])\n",
    "        return result"
   ]
  },
  {
   "cell_type": "code",
   "execution_count": 107,
   "id": "twelve-entertainment",
   "metadata": {},
   "outputs": [
    {
     "data": {
      "text/plain": [
       "'102'"
      ]
     },
     "execution_count": 107,
     "metadata": {},
     "output_type": "execute_result"
    }
   ],
   "source": [
    "str_to_base(11,3)"
   ]
  },
  {
   "cell_type": "code",
   "execution_count": 80,
   "id": "ready-being",
   "metadata": {},
   "outputs": [
    {
     "data": {
      "text/plain": [
       "'0'"
      ]
     },
     "execution_count": 80,
     "metadata": {},
     "output_type": "execute_result"
    }
   ],
   "source": [
    "''.join(['0',''])"
   ]
  },
  {
   "cell_type": "code",
   "execution_count": 1,
   "id": "mechanical-calgary",
   "metadata": {},
   "outputs": [
    {
     "data": {
      "text/plain": [
       "1"
      ]
     },
     "execution_count": 1,
     "metadata": {},
     "output_type": "execute_result"
    }
   ],
   "source": [
    "10%3"
   ]
  },
  {
   "cell_type": "code",
   "execution_count": 28,
   "id": "equipped-progress",
   "metadata": {},
   "outputs": [
    {
     "data": {
      "text/plain": [
       "6"
      ]
     },
     "execution_count": 28,
     "metadata": {},
     "output_type": "execute_result"
    }
   ],
   "source": [
    "20//3"
   ]
  },
  {
   "cell_type": "markdown",
   "id": "eafe813c",
   "metadata": {},
   "source": [
    "### 搜索"
   ]
  },
  {
   "cell_type": "markdown",
   "id": "4a48c002",
   "metadata": {},
   "source": [
    "#### 无序列表的顺序搜索"
   ]
  },
  {
   "cell_type": "code",
   "execution_count": 1,
   "id": "5265d9e3",
   "metadata": {},
   "outputs": [],
   "source": [
    "a=[1,2,3,4,5]"
   ]
  },
  {
   "cell_type": "code",
   "execution_count": 3,
   "id": "5e80716c",
   "metadata": {},
   "outputs": [],
   "source": [
    "def seq_search(list_search,target):\n",
    "    found =False\n",
    "    for i in list_search:\n",
    "        found = True if i == target else False\n",
    "    return found"
   ]
  },
  {
   "cell_type": "code",
   "execution_count": 6,
   "id": "b3234641",
   "metadata": {},
   "outputs": [
    {
     "data": {
      "text/plain": [
       "False"
      ]
     },
     "execution_count": 6,
     "metadata": {},
     "output_type": "execute_result"
    }
   ],
   "source": [
    "seq_search(a,15)"
   ]
  },
  {
   "cell_type": "markdown",
   "id": "8d6ec544",
   "metadata": {},
   "source": [
    "#### 有序列表的顺序搜索"
   ]
  },
  {
   "cell_type": "code",
   "execution_count": 7,
   "id": "be04f6f8",
   "metadata": {},
   "outputs": [],
   "source": [
    "a=[1,2,3,4,5]"
   ]
  },
  {
   "cell_type": "code",
   "execution_count": 8,
   "id": "37831ae9",
   "metadata": {},
   "outputs": [],
   "source": [
    "def seq_search(list_search,target):\n",
    "    found =False\n",
    "    for i in list_search:\n",
    "        if i >target:\n",
    "            return False\n",
    "        found = True if i == target else False\n",
    "    return found"
   ]
  },
  {
   "cell_type": "markdown",
   "id": "d78232da",
   "metadata": {},
   "source": [
    "#### 有序列表的二分搜索"
   ]
  },
  {
   "cell_type": "markdown",
   "id": "3ce44f98",
   "metadata": {},
   "source": [
    "第一次： 2.5  [2:5] \n",
    "第二次     1.5  [3:5]"
   ]
  },
  {
   "cell_type": "code",
   "execution_count": 54,
   "id": "2a126831",
   "metadata": {},
   "outputs": [],
   "source": [
    "a=[1,2,3,4,5]\n",
    "def seq_search(list_search,target):\n",
    "    found =False\n",
    "    first = 0\n",
    "    # 这里为什么要-1？？？\n",
    "    # 防止index溢出，有可能取到len值\n",
    "    last = len(list_search)-1\n",
    "    while not found and first<=last:\n",
    "        # 是last+first，不是减号！！\n",
    "        # round因为是0.5所以可用，但是最好用//\n",
    "        temp_pos = round((last+first)/2)\n",
    "        if list_search[temp_pos] == target:\n",
    "            found = True\n",
    "        elif list_search[temp_pos] > target:\n",
    "            # 我所没做到的就在这个+1上\n",
    "            last = temp_pos-1\n",
    "        else:\n",
    "            first = temp_pos+1\n",
    "\n",
    "        print(temp_pos,first,last)\n",
    "    return found"
   ]
  },
  {
   "cell_type": "code",
   "execution_count": 52,
   "id": "48a42966",
   "metadata": {},
   "outputs": [
    {
     "name": "stdout",
     "output_type": "stream",
     "text": [
      "2 3 4\n",
      "4 5 4\n"
     ]
    },
    {
     "data": {
      "text/plain": [
       "False"
      ]
     },
     "execution_count": 52,
     "metadata": {},
     "output_type": "execute_result"
    }
   ],
   "source": [
    "seq_search(a,6)"
   ]
  },
  {
   "cell_type": "markdown",
   "id": "b2f108ac",
   "metadata": {},
   "source": [
    "#### 有序列表的二分搜索（递归）"
   ]
  },
  {
   "cell_type": "code",
   "execution_count": 88,
   "id": "aa94bc9a",
   "metadata": {},
   "outputs": [],
   "source": [
    "# 基准条件是相同或者first>last\n",
    "a=[1,2,3,4,5,12,32,2321,231321]\n",
    "def seq_search(list_search,target):\n",
    "    found =False\n",
    "    # 错误所在，每次first都会归零\n",
    "#     first = 0\n",
    "    last = len(list_search)-1\n",
    "    if last<0:\n",
    "        return False\n",
    "    mid_pos = len(list_search)//2\n",
    "    print(last,mid_pos,list_search,sep=',')\n",
    "    if list_search[mid_pos] == target:\n",
    "        return True\n",
    "\n",
    "    elif list_search[mid_pos] > target:\n",
    "        # 数组是不取最后一个的，所以mid_pos不能-1\n",
    "        found = seq_search(list_search[:mid_pos],target)\n",
    "    else:\n",
    "        found = seq_search(list_search[mid_pos+1:],target)\n",
    "    return found"
   ]
  },
  {
   "cell_type": "code",
   "execution_count": 90,
   "id": "27892b2f",
   "metadata": {},
   "outputs": [
    {
     "name": "stdout",
     "output_type": "stream",
     "text": [
      "8,4,[1, 2, 3, 4, 5, 12, 32, 2321, 231321]\n",
      "3,2,[12, 32, 2321, 231321]\n",
      "1,1,[12, 32]\n",
      "0,0,[12]\n"
     ]
    },
    {
     "data": {
      "text/plain": [
       "True"
      ]
     },
     "execution_count": 90,
     "metadata": {},
     "output_type": "execute_result"
    }
   ],
   "source": [
    "seq_search(a,12)"
   ]
  },
  {
   "cell_type": "code",
   "execution_count": 1,
   "id": "76e6a0f2",
   "metadata": {
    "scrolled": true
   },
   "outputs": [
    {
     "data": {
      "text/plain": [
       "99"
      ]
     },
     "execution_count": 1,
     "metadata": {},
     "output_type": "execute_result"
    }
   ],
   "source": [
    "ord('c')"
   ]
  },
  {
   "cell_type": "markdown",
   "id": "9add4b63",
   "metadata": {},
   "source": [
    "### 排序"
   ]
  },
  {
   "cell_type": "code",
   "execution_count": 22,
   "id": "366e36fe",
   "metadata": {},
   "outputs": [],
   "source": [
    "alist = [1,3,1,4,32,5,7,3,2,8,5,0]"
   ]
  },
  {
   "cell_type": "code",
   "execution_count": 4,
   "id": "8a0dd381",
   "metadata": {},
   "outputs": [
    {
     "data": {
      "text/plain": [
       "[0, 1, 1, 2, 3, 3, 4, 5, 5, 7, 8, 32]"
      ]
     },
     "execution_count": 4,
     "metadata": {},
     "output_type": "execute_result"
    }
   ],
   "source": [
    "sorted(alist)"
   ]
  },
  {
   "cell_type": "markdown",
   "id": "4a90ea6c",
   "metadata": {},
   "source": [
    "#### 冒泡排序"
   ]
  },
  {
   "cell_type": "code",
   "execution_count": 86,
   "id": "703deb18",
   "metadata": {},
   "outputs": [
    {
     "data": {
      "text/plain": [
       "[0, 1, 2, 3, 4]"
      ]
     },
     "execution_count": 86,
     "metadata": {},
     "output_type": "execute_result"
    }
   ],
   "source": [
    "list(range(5))"
   ]
  },
  {
   "cell_type": "code",
   "execution_count": 87,
   "id": "b52eeba2",
   "metadata": {},
   "outputs": [],
   "source": [
    "alist1 = [1,3,1,4,32,5,7,3,2,8,5,0]\n",
    "# 使用递归\n",
    "def bubbleSort(alist):\n",
    "    sorted_list = []\n",
    "    # 基准条件\n",
    "    if alist == []:\n",
    "        return []\n",
    "    for i in range(len(alist)-1):\n",
    "        if alist[i]>alist[i+1]:\n",
    "            alist[i],alist[i+1] = alist[i+1],alist[i]\n",
    "    # 此时最大值已经处于最右边，弹出即可，将其余值递归\n",
    "    sorted_list.append(alist.pop())\n",
    "    alist=bubbleSort(alist) + sorted_list\n",
    "    return alist"
   ]
  },
  {
   "cell_type": "code",
   "execution_count": 88,
   "id": "219fdd02",
   "metadata": {},
   "outputs": [
    {
     "data": {
      "text/plain": [
       "[0, 1, 1, 2, 3, 3, 4, 5, 5, 7, 8, 32]"
      ]
     },
     "execution_count": 88,
     "metadata": {},
     "output_type": "execute_result"
    }
   ],
   "source": [
    "bubbleSort(alist1)"
   ]
  },
  {
   "cell_type": "code",
   "execution_count": 34,
   "id": "6e97d65c",
   "metadata": {},
   "outputs": [
    {
     "data": {
      "text/plain": [
       "[10, 9, 8, 7, 6, 5, 4, 3, 2, 1]"
      ]
     },
     "execution_count": 34,
     "metadata": {},
     "output_type": "execute_result"
    }
   ],
   "source": [
    "list(range(10,0,-1))"
   ]
  },
  {
   "cell_type": "markdown",
   "id": "1077c9a2",
   "metadata": {},
   "source": [
    "#### 选择排序"
   ]
  },
  {
   "cell_type": "code",
   "execution_count": 55,
   "id": "a1013ec4",
   "metadata": {},
   "outputs": [],
   "source": [
    "alist1 = [1,3,1,4,32,5,7,3,2,8,5,0]\n",
    "# 使用递归\n",
    "def bubbleSort(alist):\n",
    "    sorted_list = []\n",
    "    pos = 0\n",
    "    # 基准条件\n",
    "    if alist == []:\n",
    "        return []\n",
    "    for i in range(len(alist)-1):\n",
    "        # 记录下最大值的位置\n",
    "        if alist[i]>alist[pos]:\n",
    "            pos = i\n",
    "    # 循环完成后调换位置\n",
    "    alist[pos],alist[-1] =  alist[-1],alist[pos]\n",
    "    # 此时最大值已经处于最右边，弹出即可，将其余值递归\n",
    "    sorted_list.append(alist.pop())\n",
    "    alist=bubbleSort(alist) + sorted_list\n",
    "    return alist"
   ]
  },
  {
   "cell_type": "code",
   "execution_count": 57,
   "id": "1699e7af",
   "metadata": {},
   "outputs": [
    {
     "data": {
      "text/plain": [
       "[0, 1, 1, 2, 3, 3, 4, 5, 5, 7, 8, 32]"
      ]
     },
     "execution_count": 57,
     "metadata": {},
     "output_type": "execute_result"
    }
   ],
   "source": [
    "bubbleSort(alist1)"
   ]
  },
  {
   "cell_type": "code",
   "execution_count": 54,
   "id": "32205a66",
   "metadata": {},
   "outputs": [
    {
     "data": {
      "text/plain": [
       "[]"
      ]
     },
     "execution_count": 54,
     "metadata": {},
     "output_type": "execute_result"
    }
   ],
   "source": [
    "[1][0:-1]"
   ]
  },
  {
   "cell_type": "markdown",
   "id": "e189d173",
   "metadata": {},
   "source": [
    "#### 插入排序"
   ]
  },
  {
   "cell_type": "code",
   "execution_count": 84,
   "id": "0e0b7b57",
   "metadata": {},
   "outputs": [],
   "source": [
    "alist1 = [1,3,1,4,32,5,7,3,2,8,5,0]\n",
    "def bubbleSort(alist):\n",
    "    ordered_list = []\n",
    "    while alist!=[]:\n",
    "        temp = alist.pop(0)\n",
    "        pos = 0\n",
    "        # 寻找该元素的合适位置\n",
    "        for j in range(len(ordered_list)):\n",
    "#             print(ordered_list[j],temp)\n",
    "            if ordered_list[j]<temp:\n",
    "                pos = j+1\n",
    "        ordered_list.insert(pos,temp)\n",
    "        print(temp,ordered_list,pos)\n",
    "    return ordered_list"
   ]
  },
  {
   "cell_type": "code",
   "execution_count": 85,
   "id": "2f15f14b",
   "metadata": {
    "collapsed": true
   },
   "outputs": [
    {
     "name": "stdout",
     "output_type": "stream",
     "text": [
      "1 [1] 0\n",
      "3 [1, 3] 1\n",
      "1 [1, 1, 3] 0\n",
      "4 [1, 1, 3, 4] 3\n",
      "32 [1, 1, 3, 4, 32] 4\n",
      "5 [1, 1, 3, 4, 5, 32] 4\n",
      "7 [1, 1, 3, 4, 5, 7, 32] 5\n",
      "3 [1, 1, 3, 3, 4, 5, 7, 32] 2\n",
      "2 [1, 1, 2, 3, 3, 4, 5, 7, 32] 2\n",
      "8 [1, 1, 2, 3, 3, 4, 5, 7, 8, 32] 8\n",
      "5 [1, 1, 2, 3, 3, 4, 5, 5, 7, 8, 32] 6\n",
      "0 [0, 1, 1, 2, 3, 3, 4, 5, 5, 7, 8, 32] 0\n"
     ]
    },
    {
     "data": {
      "text/plain": [
       "[0, 1, 1, 2, 3, 3, 4, 5, 5, 7, 8, 32]"
      ]
     },
     "execution_count": 85,
     "metadata": {},
     "output_type": "execute_result"
    }
   ],
   "source": [
    "bubbleSort(alist1)"
   ]
  },
  {
   "cell_type": "code",
   "execution_count": 93,
   "id": "d9b47067",
   "metadata": {},
   "outputs": [
    {
     "data": {
      "text/plain": [
       "True"
      ]
     },
     "execution_count": 93,
     "metadata": {},
     "output_type": "execute_result"
    }
   ],
   "source": [
    "fuhao = {'(':')','{':'}','[':']',}\n",
    "'('in fuhao.keys()"
   ]
  }
 ],
 "metadata": {
  "kernelspec": {
   "display_name": "Python 3",
   "language": "python",
   "name": "python3"
  },
  "language_info": {
   "codemirror_mode": {
    "name": "ipython",
    "version": 3
   },
   "file_extension": ".py",
   "mimetype": "text/x-python",
   "name": "python",
   "nbconvert_exporter": "python",
   "pygments_lexer": "ipython3",
   "version": "3.8.8"
  },
  "toc": {
   "base_numbering": 1,
   "nav_menu": {},
   "number_sections": true,
   "sideBar": true,
   "skip_h1_title": false,
   "title_cell": "Table of Contents",
   "title_sidebar": "Contents",
   "toc_cell": false,
   "toc_position": {},
   "toc_section_display": true,
   "toc_window_display": false
  }
 },
 "nbformat": 4,
 "nbformat_minor": 5
}
