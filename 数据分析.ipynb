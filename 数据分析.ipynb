{
 "cells": [
  {
   "cell_type": "markdown",
   "metadata": {
    "id": "_GtH1aMidIUg"
   },
   "source": [
    "### Numpy"
   ]
  },
  {
   "cell_type": "code",
   "execution_count": null,
   "metadata": {
    "colab": {
     "base_uri": "https://localhost:8080/"
    },
    "executionInfo": {
     "elapsed": 4613,
     "status": "ok",
     "timestamp": 1615375798353,
     "user": {
      "displayName": "黄不盈",
      "photoUrl": "",
      "userId": "09846410536788032197"
     },
     "user_tz": -480
    },
    "id": "jKVlKs7LdIUh",
    "outputId": "fa7bc125-9302-4185-c54f-a06a7a3aa42f"
   },
   "outputs": [
    {
     "name": "stdout",
     "output_type": "stream",
     "text": [
      "[[3 3 2 2]\n",
      " [3 3 2 2]\n",
      " [3 3 2 3]]\t[0. 1. 2. 3. 4. 5. 6. 7. 8. 9.]\t[1 2 3 4 5]\tint64\tfloat64\t(3, 4)\t2\n"
     ]
    }
   ],
   "source": [
    "import numpy as np\n",
    "\n",
    "#创建ndarray\n",
    "arr1= np.random.randint(1,high=5,size=(3,4))           #最小是1，最大是5，size是维度\n",
    "arr2= np.arange(10,dtype=\"float64\")                    #从0到9，指定类型是浮点数\n",
    "arr3= np.array([1,2,3,4,5])                            #通过数组创建\n",
    "\n",
    "#ndarray的基本属性\n",
    "print(arr1,arr2,arr3,arr1.dtype,arr2.dtype,arr1.shape,arr1.ndim,sep=\"\\t\")          "
   ]
  },
  {
   "cell_type": "code",
   "execution_count": null,
   "metadata": {
    "colab": {
     "base_uri": "https://localhost:8080/"
    },
    "executionInfo": {
     "elapsed": 5314,
     "status": "ok",
     "timestamp": 1615375799118,
     "user": {
      "displayName": "黄不盈",
      "photoUrl": "",
      "userId": "09846410536788032197"
     },
     "user_tz": -480
    },
    "id": "V3TZVZJidIUh",
    "outputId": "44009bfa-3a1c-49b3-d30b-0fe684ffc748"
   },
   "outputs": [
    {
     "name": "stdout",
     "output_type": "stream",
     "text": [
      "int32 float64\n"
     ]
    }
   ],
   "source": [
    "#类型转换，astype是生成一个新的array\n",
    "arr3= arr2.astype(\"int32\")\n",
    "print(arr3.dtype,arr2.dtype)"
   ]
  },
  {
   "cell_type": "code",
   "execution_count": null,
   "metadata": {
    "colab": {
     "base_uri": "https://localhost:8080/"
    },
    "executionInfo": {
     "elapsed": 5247,
     "status": "ok",
     "timestamp": 1615375799120,
     "user": {
      "displayName": "黄不盈",
      "photoUrl": "",
      "userId": "09846410536788032197"
     },
     "user_tz": -480
    },
    "id": "xgQhxYqFdIUh",
    "outputId": "9989a40c-07d0-4221-cdeb-fbb3e73737a0"
   },
   "outputs": [
    {
     "name": "stdout",
     "output_type": "stream",
     "text": [
      "[5. 6. 7.]\n",
      "[  0.   1.   2.   3.   4. 100.   6.   7.   8.   9.] [0. 1. 2. 3. 4. 5. 6. 7. 8. 9.]\n",
      "[[3 2 2]\n",
      " [3 2 2]\n",
      " [3 2 3]]\n"
     ]
    }
   ],
   "source": [
    "#数组切片\n",
    "arr4=arr2[5:8]                                 #取值左闭右开，修改arr4也会修改arr2\n",
    "print(arr4) \n",
    "arr5=arr2.copy()                               #通过arr2.copy复制而不影响\n",
    "arr4[0]=100\n",
    "print(arr2,arr5)\n",
    "\n",
    "#二维数组切片\n",
    "arr6 = arr1[:3,1:]                    #第一个是行切片，第二个是列切片\n",
    "print(arr6)"
   ]
  },
  {
   "cell_type": "code",
   "execution_count": null,
   "metadata": {
    "colab": {
     "base_uri": "https://localhost:8080/"
    },
    "executionInfo": {
     "elapsed": 5063,
     "status": "ok",
     "timestamp": 1615375799122,
     "user": {
      "displayName": "黄不盈",
      "photoUrl": "",
      "userId": "09846410536788032197"
     },
     "user_tz": -480
    },
    "id": "2AjMxNgjdIUh",
    "outputId": "f2bcdd60-9b33-4f90-8948-432d5318f972"
   },
   "outputs": [
    {
     "name": "stdout",
     "output_type": "stream",
     "text": [
      "[0 1 2 3 4 5 6 7] [False False False False False False False  True]\n"
     ]
    }
   ],
   "source": [
    "# 使用布尔数组进行查找比较，返回一个数组\n",
    "arr7 = np.arange(8)\n",
    "arr8 = arr7 == 7\n",
    "print(arr7,arr8)"
   ]
  },
  {
   "cell_type": "code",
   "execution_count": null,
   "metadata": {
    "colab": {
     "base_uri": "https://localhost:8080/"
    },
    "executionInfo": {
     "elapsed": 5002,
     "status": "ok",
     "timestamp": 1615375799124,
     "user": {
      "displayName": "黄不盈",
      "photoUrl": "",
      "userId": "09846410536788032197"
     },
     "user_tz": -480
    },
    "id": "CUevVgWIdIUi",
    "outputId": "56bd216d-ec0c-48a1-d76d-31d5c774a554"
   },
   "outputs": [
    {
     "name": "stdout",
     "output_type": "stream",
     "text": [
      "[[ 0  1  2  3  4]\n",
      " [ 5  6  7  8  9]\n",
      " [10 11 12 13 14]]\n",
      "[[ 0  5 10]\n",
      " [ 1  6 11]\n",
      " [ 2  7 12]\n",
      " [ 3  8 13]\n",
      " [ 4  9 14]]\n"
     ]
    }
   ],
   "source": [
    "# 二维数组转置，生成一个新的数组\n",
    "arr9 = np.arange(15).reshape(3,5)\n",
    "arr10 = arr9.T\n",
    "print(arr9,arr10,sep=\"\\n\")"
   ]
  },
  {
   "cell_type": "code",
   "execution_count": null,
   "metadata": {
    "colab": {
     "base_uri": "https://localhost:8080/"
    },
    "executionInfo": {
     "elapsed": 4902,
     "status": "ok",
     "timestamp": 1615375799126,
     "user": {
      "displayName": "黄不盈",
      "photoUrl": "",
      "userId": "09846410536788032197"
     },
     "user_tz": -480
    },
    "id": "TShSFuNOdIUi",
    "outputId": "c6f02b4e-8e58-4dc0-e3ed-5494ef20687d"
   },
   "outputs": [
    {
     "name": "stdout",
     "output_type": "stream",
     "text": [
      "[[ 9 -8 -4  7]\n",
      " [ 6  1  2  5]\n",
      " [-7  5 -7  8]\n",
      " [ 8  0 -2  0]]\n",
      "[[ 2 -2 -2  2]\n",
      " [ 2  2  2  2]\n",
      " [-2  2 -2  2]\n",
      " [ 2 -2 -2 -2]]\n"
     ]
    }
   ],
   "source": [
    "# 条件逻辑进行数组操作np.where\n",
    "arr11 = np.random.randint(-10,high=10,size=(4,4))\n",
    "print(arr11)\n",
    "print(np.where(arr11>0,2,-2))     #第一个参数是条件，对数组中每个元素进行比较，第二个是为真的值，第三个为假"
   ]
  },
  {
   "cell_type": "code",
   "execution_count": 9,
   "metadata": {
    "colab": {
     "base_uri": "https://localhost:8080/"
    },
    "executionInfo": {
     "elapsed": 4704,
     "status": "ok",
     "timestamp": 1615375799128,
     "user": {
      "displayName": "黄不盈",
      "photoUrl": "",
      "userId": "09846410536788032197"
     },
     "user_tz": -480
    },
    "id": "3dRIg8RSejuF",
    "outputId": "8a57f69e-cd00-4bb9-dd0c-db9593f39768"
   },
   "outputs": [
    {
     "name": "stdout",
     "output_type": "stream",
     "text": [
      "[1.   2.25 3.5  4.75 6.  ]\n",
      "[ 0.54030231 -0.62817362 -0.93645669  0.03760215  0.96017029]\n"
     ]
    }
   ],
   "source": [
    "import numpy as np\n",
    "t = np.linspace(1, 6,5)\n",
    "sin_t = np.sin(t)\n",
    "cos_t = np.cos(t)\n",
    "print(t)\n",
    "print(cos_t)"
   ]
  },
  {
   "cell_type": "markdown",
   "metadata": {},
   "source": [
    "#### 常用方法"
   ]
  },
  {
   "cell_type": "markdown",
   "metadata": {},
   "source": [
    "##### np.array.ravel：展平为一维向量"
   ]
  },
  {
   "cell_type": "code",
   "execution_count": 11,
   "metadata": {},
   "outputs": [
    {
     "data": {
      "text/plain": [
       "(array([[ -2,  -5,  -4,  -9],\n",
       "        [  4,   7,  -3,   8],\n",
       "        [ -8,  -4,   5,   8],\n",
       "        [ -8, -10,   4,  -3]]),\n",
       " array([ -2,  -5,  -4,  -9,   4,   7,  -3,   8,  -8,  -4,   5,   8,  -8,\n",
       "        -10,   4,  -3]))"
      ]
     },
     "execution_count": 11,
     "metadata": {},
     "output_type": "execute_result"
    }
   ],
   "source": [
    "arr11 = np.random.randint(-10,high=10,size=(4,4))\n",
    "arr11,arr11.ravel()"
   ]
  },
  {
   "cell_type": "markdown",
   "metadata": {},
   "source": [
    "##### 连接两个矩阵  np.array.c_         r_\n",
    "np.r_是按列连接两个矩阵，就是把两矩阵上下相加，要求列数相等。\n",
    "\n",
    "np.c_是按行连接两个矩阵，就是把两矩阵左右相加，要求行数相等。"
   ]
  },
  {
   "cell_type": "code",
   "execution_count": 13,
   "metadata": {},
   "outputs": [
    {
     "data": {
      "text/plain": [
       "array([[1, 2, 3],\n",
       "       [7, 8, 9],\n",
       "       [4, 5, 6],\n",
       "       [1, 2, 3]])"
      ]
     },
     "execution_count": 13,
     "metadata": {},
     "output_type": "execute_result"
    }
   ],
   "source": [
    "a = np.array([[1, 2, 3],[7,8,9]])\n",
    " \n",
    "b=np.array([[4,5,6],[1,2,3]])\n",
    "np.r_[a,b]"
   ]
  },
  {
   "cell_type": "markdown",
   "metadata": {},
   "source": [
    "##### 生成网格np.meshgrid\n",
    "输入两个向量，返回两个向量点组成的网格"
   ]
  },
  {
   "cell_type": "code",
   "execution_count": 14,
   "metadata": {},
   "outputs": [
    {
     "name": "stdout",
     "output_type": "stream",
     "text": [
      "(1, 4)\n",
      "(2, 4)\n",
      "(3, 4)\n",
      "(1, 5)\n",
      "(2, 5)\n",
      "(3, 5)\n",
      "(1, 6)\n",
      "(2, 6)\n",
      "(3, 6)\n"
     ]
    }
   ],
   "source": [
    "import numpy as np \n",
    "for i in zip(np.meshgrid(np.array([1,2,3]),np.array([4,5,6]),indexing='xy')[0].ravel(),np.meshgrid(np.array([1,2,3]),np.array([4,5,6]),indexing='xy')[1].ravel()):\n",
    "    print(i)"
   ]
  },
  {
   "cell_type": "markdown",
   "metadata": {},
   "source": [
    "##### 分区间计数"
   ]
  },
  {
   "cell_type": "markdown",
   "metadata": {},
   "source": [
    "二维分区间计数"
   ]
  },
  {
   "cell_type": "code",
   "execution_count": 8,
   "metadata": {},
   "outputs": [
    {
     "data": {
      "text/plain": [
       "(array([[ 8.,  5.,  8.,  3.],\n",
       "        [ 5.,  6.,  6.,  4.],\n",
       "        [ 6.,  7.,  7.,  7.],\n",
       "        [ 4., 13.,  4.,  7.]]),\n",
       " array([0., 1., 2., 3., 4.]),\n",
       " array([0., 1., 2., 3., 4.]))"
      ]
     },
     "execution_count": 8,
     "metadata": {},
     "output_type": "execute_result"
    }
   ],
   "source": [
    "import numpy as np\n",
    "x, y = np.random.rand(2, 100) * 4\n",
    "hist, xedges, yedges = np.histogram2d(x, y, bins=4, range=[[0, 4], [0, 4]])  # x,y为网格点,bin为一维分区数\n",
    "hist, xedges, yedges"
   ]
  },
  {
   "cell_type": "markdown",
   "metadata": {},
   "source": [
    "一维空间计数"
   ]
  },
  {
   "cell_type": "code",
   "execution_count": 15,
   "metadata": {},
   "outputs": [
    {
     "data": {
      "text/plain": [
       "(0.0587, 0.453]    12\n",
       "(0.453, 0.844]      9\n",
       "(0.844, 1.234]      5\n",
       "(1.234, 1.625]     12\n",
       "(1.625, 2.016]      8\n",
       "(2.016, 2.406]      9\n",
       "(2.406, 2.797]     13\n",
       "(2.797, 3.188]      9\n",
       "(3.188, 3.578]     10\n",
       "(3.578, 3.969]     13\n",
       "dtype: int64"
      ]
     },
     "execution_count": 15,
     "metadata": {},
     "output_type": "execute_result"
    }
   ],
   "source": [
    "import pandas as pd\n",
    "ret = pd.cut(x,10)\n",
    "ret.value_counts()"
   ]
  },
  {
   "cell_type": "markdown",
   "metadata": {},
   "source": [
    "#### 计算"
   ]
  },
  {
   "cell_type": "markdown",
   "metadata": {
    "id": "OJC7vW5KfnaO"
   },
   "source": [
    "#####  np.argmax"
   ]
  },
  {
   "cell_type": "markdown",
   "metadata": {
    "id": "3sEQlt2VfxFU"
   },
   "source": [
    "返回沿轴最大值的索引\n",
    "\n",
    "```\n",
    ">>> a = np.arange(6).reshape(2,3)\n",
    ">>> a\n",
    "array([[0, 1, 2],\n",
    "       [3, 4, 5]])\n",
    ">>> np.argmax(a)\n",
    "5\n",
    ">>> np.argmax(a, axis=0)#0代表列\n",
    "array([1, 1, 1])\n",
    ">>> np.argmax(a, axis=1)#1代表行\n",
    "array([2, 2])\n",
    ">>>\n",
    ">>> b = np.arange(6)\n",
    ">>> b[1] = 5\n",
    ">>> b\n",
    "array([0, 5, 2, 3, 4, 5])\n",
    ">>> np.argmax(b) # 只返回第一次出现的最大值的索引\n",
    "1\n",
    "```"
   ]
  },
  {
   "cell_type": "markdown",
   "metadata": {},
   "source": [
    "##### np.ceil, np.floor 返回大于（小于）这个值的最小（大）值"
   ]
  },
  {
   "cell_type": "code",
   "execution_count": 43,
   "metadata": {},
   "outputs": [
    {
     "data": {
      "text/plain": [
       "(array([-1., -1., -0.,  1.,  2.,  2.,  2.]),\n",
       " array([-2., -2., -1.,  0.,  1.,  1.,  2.]))"
      ]
     },
     "execution_count": 43,
     "metadata": {},
     "output_type": "execute_result"
    }
   ],
   "source": [
    "a = np.array([-1.7, -1.5, -0.2, 0.2, 1.5, 1.7, 2.0])\n",
    "np.ceil(a),np.floor(a)"
   ]
  },
  {
   "cell_type": "markdown",
   "metadata": {},
   "source": [
    "##### np.dot点积"
   ]
  },
  {
   "cell_type": "code",
   "execution_count": 7,
   "metadata": {},
   "outputs": [
    {
     "data": {
      "text/plain": [
       "(array([[7, 3, 2, 4],\n",
       "        [8, 0, 1, 1]]),\n",
       " array([[2, 7],\n",
       "        [1, 0],\n",
       "        [9, 4],\n",
       "        [9, 9]]),\n",
       " array([[71, 93],\n",
       "        [34, 69]]))"
      ]
     },
     "execution_count": 7,
     "metadata": {},
     "output_type": "execute_result"
    }
   ],
   "source": [
    "import numpy as np\n",
    "a = np.random.randint(low=0,high=10,size=(2,4))\n",
    "b = np.random.randint(low=0,high=10,size=(4,2))\n",
    "a,b,a.dot(b)"
   ]
  },
  {
   "cell_type": "markdown",
   "metadata": {
    "id": "V6rpkHcrTvxv"
   },
   "source": [
    "#### np.random"
   ]
  },
  {
   "cell_type": "markdown",
   "metadata": {
    "id": "wyRyMvgLUQYw"
   },
   "source": [
    "##### randint"
   ]
  },
  {
   "cell_type": "markdown",
   "metadata": {
    "id": "Lj6iYga6T86O"
   },
   "source": [
    "low、high、size三个参数。默认high是None,如果只有low，那范围就是[0,low)。如果有high，范围就是[low,high)。"
   ]
  },
  {
   "cell_type": "code",
   "execution_count": null,
   "metadata": {
    "colab": {
     "base_uri": "https://localhost:8080/"
    },
    "executionInfo": {
     "elapsed": 4612,
     "status": "ok",
     "timestamp": 1615375799130,
     "user": {
      "displayName": "黄不盈",
      "photoUrl": "",
      "userId": "09846410536788032197"
     },
     "user_tz": -480
    },
    "id": "gYnCsy56T5mP",
    "outputId": "90914f6e-e67a-4284-b7fa-b18f01218f7b"
   },
   "outputs": [
    {
     "data": {
      "text/plain": [
       "array([0, 1, 0, 0, 0, 0, 1, 1, 0, 0])"
      ]
     },
     "execution_count": 9,
     "metadata": {
      "tags": []
     },
     "output_type": "execute_result"
    }
   ],
   "source": [
    "np.random.randint(2, size=10)"
   ]
  },
  {
   "cell_type": "code",
   "execution_count": null,
   "metadata": {
    "colab": {
     "base_uri": "https://localhost:8080/"
    },
    "executionInfo": {
     "elapsed": 4529,
     "status": "ok",
     "timestamp": 1615375799133,
     "user": {
      "displayName": "黄不盈",
      "photoUrl": "",
      "userId": "09846410536788032197"
     },
     "user_tz": -480
    },
    "id": "hTYRlbigUJQy",
    "outputId": "8ba6c951-0df2-4fa9-f19b-76901cad3f87"
   },
   "outputs": [
    {
     "data": {
      "text/plain": [
       "array([3, 3, 2, 4, 2, 4, 2, 2, 2, 3])"
      ]
     },
     "execution_count": 10,
     "metadata": {
      "tags": []
     },
     "output_type": "execute_result"
    }
   ],
   "source": [
    "np.random.randint(2,5, size=10)"
   ]
  },
  {
   "cell_type": "code",
   "execution_count": null,
   "metadata": {
    "colab": {
     "base_uri": "https://localhost:8080/"
    },
    "executionInfo": {
     "elapsed": 4442,
     "status": "ok",
     "timestamp": 1615375799134,
     "user": {
      "displayName": "黄不盈",
      "photoUrl": "",
      "userId": "09846410536788032197"
     },
     "user_tz": -480
    },
    "id": "0HscxHrBUF2f",
    "outputId": "c5f6270f-a69f-4b3d-bab8-0c9d71eafe91"
   },
   "outputs": [
    {
     "data": {
      "text/plain": [
       "array([[0, 1, 1, 4],\n",
       "       [2, 4, 0, 1]])"
      ]
     },
     "execution_count": 11,
     "metadata": {
      "tags": []
     },
     "output_type": "execute_result"
    }
   ],
   "source": [
    "np.random.randint(5, size=(2, 4))"
   ]
  },
  {
   "cell_type": "markdown",
   "metadata": {
    "id": "SQCenX_kUwh1"
   },
   "source": [
    "##### rand"
   ]
  },
  {
   "cell_type": "markdown",
   "metadata": {
    "id": "9DLHS0yaU3ue"
   },
   "source": [
    "在数组中加入在[0,1]之间均匀分布的随机样本"
   ]
  },
  {
   "cell_type": "code",
   "execution_count": null,
   "metadata": {
    "colab": {
     "base_uri": "https://localhost:8080/"
    },
    "executionInfo": {
     "elapsed": 4354,
     "status": "ok",
     "timestamp": 1615375799135,
     "user": {
      "displayName": "黄不盈",
      "photoUrl": "",
      "userId": "09846410536788032197"
     },
     "user_tz": -480
    },
    "id": "xeQ5rxW8U4xd",
    "outputId": "770a9d13-c31e-46bd-edc3-37c204efcca6"
   },
   "outputs": [
    {
     "name": "stdout",
     "output_type": "stream",
     "text": [
      "[[0.31768722 0.03105408 0.68950881 0.80561352]\n",
      " [0.48887767 0.44147981 0.03017159 0.5542495 ]]\n"
     ]
    }
   ],
   "source": [
    "arr2 = np.random.rand(2,4)\n",
    "print(arr2)"
   ]
  },
  {
   "cell_type": "markdown",
   "metadata": {},
   "source": [
    "##### 随机数种子"
   ]
  },
  {
   "cell_type": "code",
   "execution_count": 17,
   "metadata": {},
   "outputs": [
    {
     "data": {
      "text/plain": [
       "array([2, 4, 1, 3])"
      ]
     },
     "execution_count": 17,
     "metadata": {},
     "output_type": "execute_result"
    }
   ],
   "source": [
    "np.random.seed(42)"
   ]
  },
  {
   "cell_type": "markdown",
   "metadata": {},
   "source": [
    "##### 随机打乱数组"
   ]
  },
  {
   "cell_type": "code",
   "execution_count": 18,
   "metadata": {},
   "outputs": [
    {
     "data": {
      "text/plain": [
       "array([2, 4, 1, 3])"
      ]
     },
     "execution_count": 18,
     "metadata": {},
     "output_type": "execute_result"
    }
   ],
   "source": [
    "np.random.permutation([1,2,3,4])"
   ]
  },
  {
   "cell_type": "markdown",
   "metadata": {},
   "source": [
    "若为二维数组，则以行（第一维）打乱"
   ]
  },
  {
   "cell_type": "code",
   "execution_count": 6,
   "metadata": {},
   "outputs": [
    {
     "name": "stdout",
     "output_type": "stream",
     "text": [
      "[[1 4 1 2 3]\n",
      " [4 4 3 1 1]\n",
      " [2 4 4 0 1]]\n",
      "[[2 4 4 0 1]\n",
      " [4 4 3 1 1]\n",
      " [1 4 1 2 3]]\n"
     ]
    }
   ],
   "source": [
    "import numpy as np\n",
    "a = np.random.randint(5,size = (3,5))\n",
    "print(a,np.random.permutation(a),sep='\\n')"
   ]
  },
  {
   "cell_type": "markdown",
   "metadata": {
    "id": "tsQU5doQdIUi"
   },
   "source": [
    "#### 数组统计方法"
   ]
  },
  {
   "cell_type": "code",
   "execution_count": null,
   "metadata": {
    "colab": {
     "base_uri": "https://localhost:8080/"
    },
    "executionInfo": {
     "elapsed": 4294,
     "status": "ok",
     "timestamp": 1615375799137,
     "user": {
      "displayName": "黄不盈",
      "photoUrl": "",
      "userId": "09846410536788032197"
     },
     "user_tz": -480
    },
    "id": "JCuseEpZdIUi",
    "outputId": "ffa73f51-088f-4ff8-8919-f9bad01bcbf9"
   },
   "outputs": [
    {
     "name": "stdout",
     "output_type": "stream",
     "text": [
      "[9 0 2 6 4 8 6 7 5 8]\t55\t5.5\t2.692582403567252\t7.25\n"
     ]
    }
   ],
   "source": [
    "#  13  \n",
    "arr12 = np.random.randint(10,size=10)\n",
    "print(arr12,arr12.sum(),arr12.mean(),arr12.std(),arr12.var(),sep=\"\\t\")\n",
    "# 分别为和，平均值，标准差，方差"
   ]
  },
  {
   "cell_type": "code",
   "execution_count": null,
   "metadata": {
    "colab": {
     "base_uri": "https://localhost:8080/"
    },
    "executionInfo": {
     "elapsed": 4242,
     "status": "ok",
     "timestamp": 1615375799138,
     "user": {
      "displayName": "黄不盈",
      "photoUrl": "",
      "userId": "09846410536788032197"
     },
     "user_tz": -480
    },
    "id": "VsurB6PedIUj",
    "outputId": "2368aabc-c565-483e-de26-d0c5bad1d1e5"
   },
   "outputs": [
    {
     "name": "stdout",
     "output_type": "stream",
     "text": [
      "[9 0 2 6 4 8 6 7 5 8]\n",
      "[0 2 4 5 6 6 7 8 8 9]\n"
     ]
    }
   ],
   "source": [
    "#数组排序\n",
    "print(arr12)\n",
    "arr12.sort()\n",
    "print(arr12)"
   ]
  },
  {
   "cell_type": "code",
   "execution_count": null,
   "metadata": {
    "id": "izbxmtspZqRm"
   },
   "outputs": [],
   "source": [
    "# 线性回归\n",
    "# fit = np.polyfit(Lnyi,Lnxi,1)    # 第一个是X,第二个是Y，第三个参数是方程的最高次方数"
   ]
  },
  {
   "cell_type": "markdown",
   "metadata": {
    "id": "8I7npIA5V42h"
   },
   "source": [
    "随机排列序列"
   ]
  },
  {
   "cell_type": "code",
   "execution_count": null,
   "metadata": {
    "id": "nPGgM4ALV2b0"
   },
   "outputs": [],
   "source": [
    "np.random.permutation(60000)"
   ]
  },
  {
   "cell_type": "markdown",
   "metadata": {
    "id": "lQq5yzQAdIUj"
   },
   "source": [
    "### Pandas"
   ]
  },
  {
   "cell_type": "markdown",
   "metadata": {},
   "source": [
    "#### 常用参数"
   ]
  },
  {
   "cell_type": "markdown",
   "metadata": {},
   "source": [
    "inplace = True：对原数组进行修改，不返回值，若为False则返回修改后的值"
   ]
  },
  {
   "cell_type": "markdown",
   "metadata": {
    "id": "dtbhZO8pXeON"
   },
   "source": [
    "#### 基本用法"
   ]
  },
  {
   "cell_type": "markdown",
   "metadata": {
    "id": "Y51C40J8zyLX"
   },
   "source": [
    "##### 创建"
   ]
  },
  {
   "cell_type": "code",
   "execution_count": 19,
   "metadata": {
    "colab": {
     "base_uri": "https://localhost:8080/"
    },
    "executionInfo": {
     "elapsed": 4171,
     "status": "ok",
     "timestamp": 1615375799140,
     "user": {
      "displayName": "黄不盈",
      "photoUrl": "",
      "userId": "09846410536788032197"
     },
     "user_tz": -480
    },
    "id": "9rbXvM74dIUj",
    "outputId": "83575eb7-65c4-4b77-9a6c-0cb89c092cf6"
   },
   "outputs": [
    {
     "name": "stdout",
     "output_type": "stream",
     "text": [
      "a    0\n",
      "b    1\n",
      "1    2\n",
      "2    3\n",
      "3    4\n",
      "4    5\n",
      "5    6\n",
      "6    7\n",
      "7    8\n",
      "8    9\n",
      "dtype: int32\tIndex(['a', 'b', 1, 2, 3, 4, 5, 6, 7, 8], dtype='object')\t[0 1 2 3 4 5 6 7 8 9]\tOhio     1\n",
      "Texas    2\n",
      "dtype: int64\n",
      "a    20\n",
      "b     1\n",
      "1     2\n",
      "2     3\n",
      "3     4\n",
      "4     5\n",
      "5     6\n",
      "6     7\n",
      "7     8\n",
      "8     9\n",
      "dtype: int32\n",
      "True\n"
     ]
    }
   ],
   "source": [
    "import pandas as pd\n",
    "import numpy as np\n",
    "#创建Series\n",
    "obj1= pd.Series(np.arange(10),index=[\"a\",\"b\",1,2,3,4,5,6,7,8])\n",
    "obj2= pd.Series({\"Ohio\":1,\"Texas\":2})\n",
    "print(obj1,obj1.index,obj1.values,obj2,sep=\"\\t\")\n",
    "\n",
    "#使用索引来修改值\n",
    "obj1[\"a\"]= 20           \n",
    "print(obj1)\n",
    "\n",
    "#判断标签是否在Series中\n",
    "obj3= \"Ohio\" in obj2\n",
    "print(obj3)"
   ]
  },
  {
   "cell_type": "markdown",
   "metadata": {
    "id": "mKDWTwxp4Q1Z"
   },
   "source": [
    "以字典创建DataFrame"
   ]
  },
  {
   "cell_type": "code",
   "execution_count": 21,
   "metadata": {
    "colab": {
     "base_uri": "https://localhost:8080/"
    },
    "executionInfo": {
     "elapsed": 4102,
     "status": "ok",
     "timestamp": 1615375799142,
     "user": {
      "displayName": "黄不盈",
      "photoUrl": "",
      "userId": "09846410536788032197"
     },
     "user_tz": -480
    },
    "id": "PcCdVj8QdIUj",
    "outputId": "380700df-272a-4272-c3ce-212ef78a79bf"
   },
   "outputs": [
    {
     "name": "stdout",
     "output_type": "stream",
     "text": [
      "    state  year  pop\n",
      "0    Ohio  2000  1.5\n",
      "1    Ohio  2001  1.7\n",
      "2    Ohio  2002  3.6\n",
      "3  Nevada  2001  2.4\n",
      "4  Nevada  2002  2.9\n",
      "5  Nevada  2003  3.2/n    state  year  pop\n",
      "0    Ohio  2000  1.5\n",
      "1    Ohio  2001  1.7\n",
      "2    Ohio  2002  3.6\n",
      "3  Nevada  2001  2.4\n",
      "4  Nevada  2002  2.9/n    state  year  pop\n",
      "1    Ohio  2001  1.7\n",
      "2    Ohio  2002  3.6\n",
      "3  Nevada  2001  2.4\n",
      "4  Nevada  2002  2.9\n",
      "5  Nevada  2003  3.2\n"
     ]
    }
   ],
   "source": [
    "# 创建DataFrame\n",
    "data = {'state': ['Ohio', 'Ohio', 'Ohio', 'Nevada', 'Nevada', 'Nevada'],\n",
    "        'year': [2000, 2001, 2002, 2001, 2002, 2003],\n",
    "        'pop': [1.5, 1.7, 3.6, 2.4, 2.9, 3.2]}\n",
    "frame = pd.DataFrame(data)                        #使用字典创建\n",
    "print(frame,frame.head(),frame.tail(),sep=\"/n\")   #head()显示前五行，tail()，显示后五行"
   ]
  },
  {
   "cell_type": "markdown",
   "metadata": {
    "id": "kjCAW28M4VMz"
   },
   "source": [
    "通过二维数组直接创建"
   ]
  },
  {
   "cell_type": "code",
   "execution_count": null,
   "metadata": {
    "colab": {
     "base_uri": "https://localhost:8080/"
    },
    "executionInfo": {
     "elapsed": 4071,
     "status": "ok",
     "timestamp": 1615375799143,
     "user": {
      "displayName": "黄不盈",
      "photoUrl": "",
      "userId": "09846410536788032197"
     },
     "user_tz": -480
    },
    "id": "urCzaML74Xe_",
    "outputId": "fcbe1d0a-6347-4ea0-fd3b-b5b412df436f"
   },
   "outputs": [
    {
     "name": "stdout",
     "output_type": "stream",
     "text": [
      "[[0.5871727  0.43807837 0.57929014]\n",
      " [0.79332659 0.5616759  0.49260503]\n",
      " [0.66868537 0.53290974 0.73552894]]\n",
      "          0         1         2\n",
      "0  0.587173  0.438078  0.579290\n",
      "1  0.793327  0.561676  0.492605\n",
      "2  0.668685  0.532910  0.735529\n",
      "        one       two     three\n",
      "a  0.587173  0.438078  0.579290\n",
      "b  0.793327  0.561676  0.492605\n",
      "c  0.668685  0.532910  0.735529\n"
     ]
    }
   ],
   "source": [
    "ar = np.random.rand(9).reshape(3,3)\n",
    "print(ar)\n",
    "df1 = pd.DataFrame(ar)\n",
    "df2 = pd.DataFrame(ar, index = ['a', 'b', 'c'],\n",
    "columns = ['one','two','three'])  # 可以尝试一下index或columns长度不等于已有数组的情况\n",
    "print(df1)\n",
    "print(df2)\n",
    "# 通过二维数组直接创建Dataframe，得到一样形状的结果数据，如果不指定index和columns，两者均返回默认数字格式\n",
    "# index和colunms指定长度与原数组保持一致"
   ]
  },
  {
   "cell_type": "code",
   "execution_count": 22,
   "metadata": {
    "colab": {
     "base_uri": "https://localhost:8080/"
    },
    "executionInfo": {
     "elapsed": 4022,
     "status": "ok",
     "timestamp": 1615375799144,
     "user": {
      "displayName": "黄不盈",
      "photoUrl": "",
      "userId": "09846410536788032197"
     },
     "user_tz": -480
    },
    "id": "5JVBi0qKdIUj",
    "outputId": "f766f037-5690-45bf-93b9-f4c251d76e13"
   },
   "outputs": [
    {
     "name": "stdout",
     "output_type": "stream",
     "text": [
      "       year   state  pop debt\n",
      "one    2000    Ohio  1.5  NaN\n",
      "two    2001    Ohio  1.7  NaN\n",
      "three  2002    Ohio  3.6  NaN\n",
      "four   2001  Nevada  2.4  NaN\n",
      "five   2002  Nevada  2.9  NaN\n",
      "six    2003  Nevada  3.2  NaN\n"
     ]
    },
    {
     "data": {
      "text/plain": [
       "Index(['year', 'state', 'pop', 'debt'], dtype='object')"
      ]
     },
     "execution_count": 22,
     "metadata": {},
     "output_type": "execute_result"
    }
   ],
   "source": [
    "#指定行标签和列标签\n",
    "frame2 = pd.DataFrame(data, columns=['year', 'state', 'pop', 'debt'],index=['one', 'two', 'three', 'four','five', 'six'])\n",
    "print(frame2)\n",
    "frame2.columns\n",
    "# 通过赋值的方式改变index\n",
    "# frame2.index = [1,2,3,4,5,6]\n",
    "# print(frame2)\n",
    "# 通过赋值的方式改变columns\n",
    "# frame2.columns = [1,23,3,4]\n",
    "# print(frame2)"
   ]
  },
  {
   "cell_type": "markdown",
   "metadata": {
    "id": "GEQ0e283z3nG"
   },
   "source": [
    "##### 基本信息"
   ]
  },
  {
   "cell_type": "code",
   "execution_count": null,
   "metadata": {
    "colab": {
     "base_uri": "https://localhost:8080/"
    },
    "executionInfo": {
     "elapsed": 5101,
     "status": "ok",
     "timestamp": 1615375800252,
     "user": {
      "displayName": "黄不盈",
      "photoUrl": "",
      "userId": "09846410536788032197"
     },
     "user_tz": -480
    },
    "id": "fut-7yhud39F",
    "outputId": "946a5796-9eb2-433f-a1ab-ca242bacd696"
   },
   "outputs": [
    {
     "name": "stdout",
     "output_type": "stream",
     "text": [
      "<class 'pandas.core.frame.DataFrame'>\n",
      "Index: 6 entries, one to six\n",
      "Data columns (total 4 columns):\n",
      " #   Column  Non-Null Count  Dtype  \n",
      "---  ------  --------------  -----  \n",
      " 0   year    6 non-null      int64  \n",
      " 1   state   6 non-null      object \n",
      " 2   pop     6 non-null      float64\n",
      " 3   debt    0 non-null      object \n",
      "dtypes: float64(1), int64(1), object(2)\n",
      "memory usage: 240.0+ bytes\n",
      "None\n"
     ]
    }
   ],
   "source": [
    "#获取dataframe的基本信息\n",
    "print(frame2.info())                         #基本统计数据"
   ]
  },
  {
   "cell_type": "code",
   "execution_count": null,
   "metadata": {
    "colab": {
     "base_uri": "https://localhost:8080/"
    },
    "executionInfo": {
     "elapsed": 5071,
     "status": "ok",
     "timestamp": 1615375800254,
     "user": {
      "displayName": "黄不盈",
      "photoUrl": "",
      "userId": "09846410536788032197"
     },
     "user_tz": -480
    },
    "id": "DL6CJLxE2RGL",
    "outputId": "e7a0d226-249c-4b27-e29f-68e58d421704"
   },
   "outputs": [
    {
     "name": "stdout",
     "output_type": "stream",
     "text": [
      "     year state  pop debt\n",
      "one  2000  Ohio  1.5  NaN\n",
      "two  2001  Ohio  1.7  NaN\n",
      "      year   state  pop debt\n",
      "five  2002  Nevada  2.9  NaN\n",
      "six   2003  Nevada  3.2  NaN\n"
     ]
    }
   ],
   "source": [
    "print(frame2.head(2))\n",
    "print(frame2.tail(2))"
   ]
  },
  {
   "cell_type": "code",
   "execution_count": null,
   "metadata": {
    "colab": {
     "base_uri": "https://localhost:8080/"
    },
    "executionInfo": {
     "elapsed": 5044,
     "status": "ok",
     "timestamp": 1615375800270,
     "user": {
      "displayName": "黄不盈",
      "photoUrl": "",
      "userId": "09846410536788032197"
     },
     "user_tz": -480
    },
    "id": "Jxqf1poN2W51",
    "outputId": "359d097c-40ee-41fa-8d60-8193d29223f9"
   },
   "outputs": [
    {
     "name": "stdout",
     "output_type": "stream",
     "text": [
      "Ohio      3\n",
      "Nevada    3\n",
      "Name: state, dtype: int64\n"
     ]
    }
   ],
   "source": [
    "#某一列中各个种类的数量\n",
    "print(frame2[\"state\"].value_counts())     "
   ]
  },
  {
   "cell_type": "code",
   "execution_count": null,
   "metadata": {
    "colab": {
     "base_uri": "https://localhost:8080/"
    },
    "executionInfo": {
     "elapsed": 5007,
     "status": "ok",
     "timestamp": 1615375800273,
     "user": {
      "displayName": "黄不盈",
      "photoUrl": "",
      "userId": "09846410536788032197"
     },
     "user_tz": -480
    },
    "id": "XuSVxi7t2br0",
    "outputId": "f4083c54-bd56-4a22-dcde-462f49a8abab"
   },
   "outputs": [
    {
     "name": "stdout",
     "output_type": "stream",
     "text": [
      "              year       pop\n",
      "count     6.000000  6.000000\n",
      "mean   2001.500000  2.550000\n",
      "std       1.048809  0.836062\n",
      "min    2000.000000  1.500000\n",
      "25%    2001.000000  1.875000\n",
      "50%    2001.500000  2.650000\n",
      "75%    2002.000000  3.125000\n",
      "max    2003.000000  3.600000\n"
     ]
    }
   ],
   "source": [
    "# 基本统计量\n",
    "print(frame2.describe())"
   ]
  },
  {
   "cell_type": "markdown",
   "metadata": {},
   "source": [
    "##### 添加一行"
   ]
  },
  {
   "cell_type": "code",
   "execution_count": null,
   "metadata": {},
   "outputs": [],
   "source": [
    "improved_data = pd.DataFrame(columns = ['油门','制动','转向'])\n",
    "improved_data.loc[0]=['cat', 3,1]\n",
    "improved_data.loc[-1]=['cat', 3,1]"
   ]
  },
  {
   "cell_type": "markdown",
   "metadata": {
    "id": "VfOylUS6FMcd"
   },
   "source": [
    "##### 删除某一列"
   ]
  },
  {
   "cell_type": "markdown",
   "metadata": {
    "id": "3h_i6cSjGBOc"
   },
   "source": [
    "返回一个新的dataframe"
   ]
  },
  {
   "cell_type": "code",
   "execution_count": null,
   "metadata": {
    "colab": {
     "base_uri": "https://localhost:8080/"
    },
    "executionInfo": {
     "elapsed": 4942,
     "status": "ok",
     "timestamp": 1615375800288,
     "user": {
      "displayName": "黄不盈",
      "photoUrl": "",
      "userId": "09846410536788032197"
     },
     "user_tz": -480
    },
    "id": "0CuvCJzvFRem",
    "outputId": "8954349c-dd02-4099-b922-bc6a256fc34e"
   },
   "outputs": [
    {
     "data": {
      "text/html": [
       "<div>\n",
       "<style scoped>\n",
       "    .dataframe tbody tr th:only-of-type {\n",
       "        vertical-align: middle;\n",
       "    }\n",
       "\n",
       "    .dataframe tbody tr th {\n",
       "        vertical-align: top;\n",
       "    }\n",
       "\n",
       "    .dataframe thead th {\n",
       "        text-align: right;\n",
       "    }\n",
       "</style>\n",
       "<table border=\"1\" class=\"dataframe\">\n",
       "  <thead>\n",
       "    <tr style=\"text-align: right;\">\n",
       "      <th></th>\n",
       "      <th>0</th>\n",
       "      <th>1</th>\n",
       "      <th>2</th>\n",
       "    </tr>\n",
       "  </thead>\n",
       "  <tbody>\n",
       "    <tr>\n",
       "      <th>0</th>\n",
       "      <td>1</td>\n",
       "      <td>3</td>\n",
       "      <td>2</td>\n",
       "    </tr>\n",
       "    <tr>\n",
       "      <th>1</th>\n",
       "      <td>5</td>\n",
       "      <td>7</td>\n",
       "      <td>8</td>\n",
       "    </tr>\n",
       "  </tbody>\n",
       "</table>\n",
       "</div>"
      ],
      "text/plain": [
       "   0  1  2\n",
       "0  1  3  2\n",
       "1  5  7  8"
      ]
     },
     "execution_count": 24,
     "metadata": {
      "tags": []
     },
     "output_type": "execute_result"
    }
   ],
   "source": [
    "frame5 = pd.DataFrame([[1,3,2],[5,7,8]])\n",
    "frame5 "
   ]
  },
  {
   "cell_type": "code",
   "execution_count": 57,
   "metadata": {
    "colab": {
     "base_uri": "https://localhost:8080/"
    },
    "executionInfo": {
     "elapsed": 4886,
     "status": "ok",
     "timestamp": 1615375800291,
     "user": {
      "displayName": "黄不盈",
      "photoUrl": "",
      "userId": "09846410536788032197"
     },
     "user_tz": -480
    },
    "id": "gtrLygWcFvct",
    "outputId": "7db77fb9-fef3-409b-e041-5f36b9a48293"
   },
   "outputs": [
    {
     "data": {
      "text/html": [
       "<div>\n",
       "<style scoped>\n",
       "    .dataframe tbody tr th:only-of-type {\n",
       "        vertical-align: middle;\n",
       "    }\n",
       "\n",
       "    .dataframe tbody tr th {\n",
       "        vertical-align: top;\n",
       "    }\n",
       "\n",
       "    .dataframe thead th {\n",
       "        text-align: right;\n",
       "    }\n",
       "</style>\n",
       "<table border=\"1\" class=\"dataframe\">\n",
       "  <thead>\n",
       "    <tr style=\"text-align: right;\">\n",
       "      <th></th>\n",
       "      <th>state</th>\n",
       "      <th>year</th>\n",
       "      <th>pop</th>\n",
       "    </tr>\n",
       "  </thead>\n",
       "  <tbody>\n",
       "    <tr>\n",
       "      <th>0</th>\n",
       "      <td>Ohio</td>\n",
       "      <td>2000</td>\n",
       "      <td>10.0</td>\n",
       "    </tr>\n",
       "    <tr>\n",
       "      <th>1</th>\n",
       "      <td>Ohio</td>\n",
       "      <td>2001</td>\n",
       "      <td>10.0</td>\n",
       "    </tr>\n",
       "    <tr>\n",
       "      <th>2</th>\n",
       "      <td>Ohio</td>\n",
       "      <td>2002</td>\n",
       "      <td>10.0</td>\n",
       "    </tr>\n",
       "    <tr>\n",
       "      <th>3</th>\n",
       "      <td>Nevada</td>\n",
       "      <td>2001</td>\n",
       "      <td>10.0</td>\n",
       "    </tr>\n",
       "    <tr>\n",
       "      <th>4</th>\n",
       "      <td>Nevada</td>\n",
       "      <td>2002</td>\n",
       "      <td>10.0</td>\n",
       "    </tr>\n",
       "    <tr>\n",
       "      <th>5</th>\n",
       "      <td>Nevada</td>\n",
       "      <td>2003</td>\n",
       "      <td>10.0</td>\n",
       "    </tr>\n",
       "  </tbody>\n",
       "</table>\n",
       "</div>"
      ],
      "text/plain": [
       "    state  year   pop\n",
       "0    Ohio  2000  10.0\n",
       "1    Ohio  2001  10.0\n",
       "2    Ohio  2002  10.0\n",
       "3  Nevada  2001  10.0\n",
       "4  Nevada  2002  10.0\n",
       "5  Nevada  2003  10.0"
      ]
     },
     "execution_count": 57,
     "metadata": {},
     "output_type": "execute_result"
    }
   ],
   "source": [
    "frame.drop('state',axis=1)   # axis 1为列，0为行，inplace表示对原dataframe修改\n",
    "frame"
   ]
  },
  {
   "cell_type": "code",
   "execution_count": 58,
   "metadata": {},
   "outputs": [
    {
     "data": {
      "text/html": [
       "<div>\n",
       "<style scoped>\n",
       "    .dataframe tbody tr th:only-of-type {\n",
       "        vertical-align: middle;\n",
       "    }\n",
       "\n",
       "    .dataframe tbody tr th {\n",
       "        vertical-align: top;\n",
       "    }\n",
       "\n",
       "    .dataframe thead th {\n",
       "        text-align: right;\n",
       "    }\n",
       "</style>\n",
       "<table border=\"1\" class=\"dataframe\">\n",
       "  <thead>\n",
       "    <tr style=\"text-align: right;\">\n",
       "      <th></th>\n",
       "      <th>year</th>\n",
       "      <th>pop</th>\n",
       "    </tr>\n",
       "  </thead>\n",
       "  <tbody>\n",
       "    <tr>\n",
       "      <th>0</th>\n",
       "      <td>2000</td>\n",
       "      <td>10.0</td>\n",
       "    </tr>\n",
       "    <tr>\n",
       "      <th>1</th>\n",
       "      <td>2001</td>\n",
       "      <td>10.0</td>\n",
       "    </tr>\n",
       "    <tr>\n",
       "      <th>2</th>\n",
       "      <td>2002</td>\n",
       "      <td>10.0</td>\n",
       "    </tr>\n",
       "    <tr>\n",
       "      <th>3</th>\n",
       "      <td>2001</td>\n",
       "      <td>10.0</td>\n",
       "    </tr>\n",
       "    <tr>\n",
       "      <th>4</th>\n",
       "      <td>2002</td>\n",
       "      <td>10.0</td>\n",
       "    </tr>\n",
       "    <tr>\n",
       "      <th>5</th>\n",
       "      <td>2003</td>\n",
       "      <td>10.0</td>\n",
       "    </tr>\n",
       "  </tbody>\n",
       "</table>\n",
       "</div>"
      ],
      "text/plain": [
       "   year   pop\n",
       "0  2000  10.0\n",
       "1  2001  10.0\n",
       "2  2002  10.0\n",
       "3  2001  10.0\n",
       "4  2002  10.0\n",
       "5  2003  10.0"
      ]
     },
     "execution_count": 58,
     "metadata": {},
     "output_type": "execute_result"
    }
   ],
   "source": [
    "frame.drop('state',axis=1,inplace=True)   # axis 1为列，0为行，inplace表示对原dataframe修改\n",
    "frame"
   ]
  },
  {
   "cell_type": "markdown",
   "metadata": {
    "id": "Ly7btF795Nr7"
   },
   "source": [
    "使用del删除"
   ]
  },
  {
   "cell_type": "code",
   "execution_count": null,
   "metadata": {
    "id": "FbHo8TcidIUk"
   },
   "outputs": [],
   "source": [
    "#移除某一列\n",
    "# del frame2[\"one\"]\n",
    "# print(frame2)"
   ]
  },
  {
   "cell_type": "markdown",
   "metadata": {
    "id": "kqOjTNwnz_gG"
   },
   "source": [
    "##### 获取行，列子集\n",
    "双[[]]得到的结果是一个DataFrame，单[]是一个Series"
   ]
  },
  {
   "cell_type": "markdown",
   "metadata": {
    "id": "eYKRjqac5Ti6"
   },
   "source": [
    "###### 获取列子集"
   ]
  },
  {
   "cell_type": "code",
   "execution_count": null,
   "metadata": {
    "colab": {
     "base_uri": "https://localhost:8080/"
    },
    "executionInfo": {
     "elapsed": 4811,
     "status": "ok",
     "timestamp": 1615375800298,
     "user": {
      "displayName": "黄不盈",
      "photoUrl": "",
      "userId": "09846410536788032197"
     },
     "user_tz": -480
    },
    "id": "WsorU9BZdIUk",
    "outputId": "8832b1a3-6fe1-4671-f235-8de7f54f9213"
   },
   "outputs": [
    {
     "name": "stdout",
     "output_type": "stream",
     "text": [
      "one      2000\n",
      "two      2001\n",
      "three    2002\n",
      "four     2001\n",
      "five     2002\n",
      "six      2003\n",
      "Name: year, dtype: int64\n",
      "year     2000\n",
      "state    Ohio\n",
      "pop       1.5\n",
      "debt      NaN\n",
      "Name: one, dtype: object\n"
     ]
    }
   ],
   "source": [
    "#找到DataFrame的一列并且转换为Series\n",
    "print(frame2[\"year\"])\n",
    "\n",
    "#对行index无效,只能通过loc来完成\n",
    "# print(frame2[\"one\"])\n",
    "print(frame2.loc[\"one\"])"
   ]
  },
  {
   "cell_type": "markdown",
   "metadata": {
    "id": "VYmNu_cs5YX0"
   },
   "source": [
    "获取行子集"
   ]
  },
  {
   "cell_type": "code",
   "execution_count": 29,
   "metadata": {
    "colab": {
     "base_uri": "https://localhost:8080/"
    },
    "executionInfo": {
     "elapsed": 4716,
     "status": "ok",
     "timestamp": 1615375800303,
     "user": {
      "displayName": "黄不盈",
      "photoUrl": "",
      "userId": "09846410536788032197"
     },
     "user_tz": -480
    },
    "id": "sBMu99LodIUk",
    "outputId": "90fa0a44-a942-4f1e-83ff-5429cd09670e",
    "scrolled": true
   },
   "outputs": [
    {
     "name": "stdout",
     "output_type": "stream",
     "text": [
      "       year   state  pop debt\n",
      "one      10    Ohio  1.5  NaN\n",
      "two      10    Ohio  1.7  NaN\n",
      "three    10    Ohio  3.6  NaN\n",
      "four     10  Nevada  2.4  NaN\n",
      "five     10  Nevada  2.9  NaN\n",
      "six      10  Nevada  3.2  NaN\n",
      "       year   state   pop debt\n",
      "one      10      10  10.0   10\n",
      "two      10    Ohio   1.7  NaN\n",
      "three    10    Ohio   3.6  NaN\n",
      "four     10  Nevada   2.4  NaN\n",
      "five     10  Nevada   2.9  NaN\n",
      "six      10  Nevada   3.2  NaN\n"
     ]
    },
    {
     "data": {
      "text/plain": [
       "year       10\n",
       "state      10\n",
       "pop      10.0\n",
       "debt       10\n",
       "Name: one, dtype: object"
      ]
     },
     "execution_count": 29,
     "metadata": {},
     "output_type": "execute_result"
    }
   ],
   "source": [
    "# 可以修改列的引用，但是行的引用同样只能通过loc和iloc修改\n",
    "frame2[\"year\"] = 10\n",
    "print(frame2)\n",
    "# frame[\"one\"] = 10\n",
    "frame2.loc[\"one\"] = 10\n",
    "print(frame2)\n",
    "# iloc只能只用标签数来获得行子集\n",
    "frame2.iloc[0]"
   ]
  },
  {
   "cell_type": "markdown",
   "metadata": {},
   "source": [
    "###### iloc只能只用标签数来获得行子集，支持切片，支持嵌套列表"
   ]
  },
  {
   "cell_type": "code",
   "execution_count": 36,
   "metadata": {
    "scrolled": true
   },
   "outputs": [
    {
     "data": {
      "text/html": [
       "<div>\n",
       "<style scoped>\n",
       "    .dataframe tbody tr th:only-of-type {\n",
       "        vertical-align: middle;\n",
       "    }\n",
       "\n",
       "    .dataframe tbody tr th {\n",
       "        vertical-align: top;\n",
       "    }\n",
       "\n",
       "    .dataframe thead th {\n",
       "        text-align: right;\n",
       "    }\n",
       "</style>\n",
       "<table border=\"1\" class=\"dataframe\">\n",
       "  <thead>\n",
       "    <tr style=\"text-align: right;\">\n",
       "      <th></th>\n",
       "      <th>year</th>\n",
       "      <th>state</th>\n",
       "      <th>pop</th>\n",
       "      <th>debt</th>\n",
       "    </tr>\n",
       "  </thead>\n",
       "  <tbody>\n",
       "    <tr>\n",
       "      <th>one</th>\n",
       "      <td>10</td>\n",
       "      <td>10</td>\n",
       "      <td>10.0</td>\n",
       "      <td>10</td>\n",
       "    </tr>\n",
       "    <tr>\n",
       "      <th>two</th>\n",
       "      <td>10</td>\n",
       "      <td>Ohio</td>\n",
       "      <td>1.7</td>\n",
       "      <td>NaN</td>\n",
       "    </tr>\n",
       "    <tr>\n",
       "      <th>three</th>\n",
       "      <td>10</td>\n",
       "      <td>Ohio</td>\n",
       "      <td>3.6</td>\n",
       "      <td>NaN</td>\n",
       "    </tr>\n",
       "    <tr>\n",
       "      <th>four</th>\n",
       "      <td>10</td>\n",
       "      <td>Nevada</td>\n",
       "      <td>2.4</td>\n",
       "      <td>NaN</td>\n",
       "    </tr>\n",
       "    <tr>\n",
       "      <th>five</th>\n",
       "      <td>10</td>\n",
       "      <td>Nevada</td>\n",
       "      <td>2.9</td>\n",
       "      <td>NaN</td>\n",
       "    </tr>\n",
       "    <tr>\n",
       "      <th>six</th>\n",
       "      <td>10</td>\n",
       "      <td>Nevada</td>\n",
       "      <td>3.2</td>\n",
       "      <td>NaN</td>\n",
       "    </tr>\n",
       "  </tbody>\n",
       "</table>\n",
       "</div>"
      ],
      "text/plain": [
       "       year   state   pop debt\n",
       "one      10      10  10.0   10\n",
       "two      10    Ohio   1.7  NaN\n",
       "three    10    Ohio   3.6  NaN\n",
       "four     10  Nevada   2.4  NaN\n",
       "five     10  Nevada   2.9  NaN\n",
       "six      10  Nevada   3.2  NaN"
      ]
     },
     "execution_count": 36,
     "metadata": {},
     "output_type": "execute_result"
    }
   ],
   "source": [
    "frame2.iloc[:]"
   ]
  },
  {
   "cell_type": "code",
   "execution_count": 37,
   "metadata": {},
   "outputs": [
    {
     "data": {
      "text/html": [
       "<div>\n",
       "<style scoped>\n",
       "    .dataframe tbody tr th:only-of-type {\n",
       "        vertical-align: middle;\n",
       "    }\n",
       "\n",
       "    .dataframe tbody tr th {\n",
       "        vertical-align: top;\n",
       "    }\n",
       "\n",
       "    .dataframe thead th {\n",
       "        text-align: right;\n",
       "    }\n",
       "</style>\n",
       "<table border=\"1\" class=\"dataframe\">\n",
       "  <thead>\n",
       "    <tr style=\"text-align: right;\">\n",
       "      <th></th>\n",
       "      <th>year</th>\n",
       "      <th>state</th>\n",
       "      <th>pop</th>\n",
       "      <th>debt</th>\n",
       "    </tr>\n",
       "  </thead>\n",
       "  <tbody>\n",
       "    <tr>\n",
       "      <th>two</th>\n",
       "      <td>10</td>\n",
       "      <td>Ohio</td>\n",
       "      <td>1.7</td>\n",
       "      <td>NaN</td>\n",
       "    </tr>\n",
       "    <tr>\n",
       "      <th>three</th>\n",
       "      <td>10</td>\n",
       "      <td>Ohio</td>\n",
       "      <td>3.6</td>\n",
       "      <td>NaN</td>\n",
       "    </tr>\n",
       "    <tr>\n",
       "      <th>five</th>\n",
       "      <td>10</td>\n",
       "      <td>Nevada</td>\n",
       "      <td>2.9</td>\n",
       "      <td>NaN</td>\n",
       "    </tr>\n",
       "  </tbody>\n",
       "</table>\n",
       "</div>"
      ],
      "text/plain": [
       "       year   state  pop debt\n",
       "two      10    Ohio  1.7  NaN\n",
       "three    10    Ohio  3.6  NaN\n",
       "five     10  Nevada  2.9  NaN"
      ]
     },
     "execution_count": 37,
     "metadata": {},
     "output_type": "execute_result"
    }
   ],
   "source": [
    "frame2.iloc[[1,2,4]]"
   ]
  },
  {
   "cell_type": "markdown",
   "metadata": {
    "id": "EWgT_iYa5a2P"
   },
   "source": [
    "获取列和行的子集"
   ]
  },
  {
   "cell_type": "code",
   "execution_count": null,
   "metadata": {
    "colab": {
     "base_uri": "https://localhost:8080/"
    },
    "executionInfo": {
     "elapsed": 4650,
     "status": "ok",
     "timestamp": 1615375800308,
     "user": {
      "displayName": "黄不盈",
      "photoUrl": "",
      "userId": "09846410536788032197"
     },
     "user_tz": -480
    },
    "id": "wnW-K_15zOEK",
    "outputId": "28556f1f-5c74-4572-d4db-94144599fd68"
   },
   "outputs": [
    {
     "data": {
      "text/html": [
       "<div>\n",
       "<style scoped>\n",
       "    .dataframe tbody tr th:only-of-type {\n",
       "        vertical-align: middle;\n",
       "    }\n",
       "\n",
       "    .dataframe tbody tr th {\n",
       "        vertical-align: top;\n",
       "    }\n",
       "\n",
       "    .dataframe thead th {\n",
       "        text-align: right;\n",
       "    }\n",
       "</style>\n",
       "<table border=\"1\" class=\"dataframe\">\n",
       "  <thead>\n",
       "    <tr style=\"text-align: right;\">\n",
       "      <th></th>\n",
       "      <th>year</th>\n",
       "      <th>pop</th>\n",
       "    </tr>\n",
       "  </thead>\n",
       "  <tbody>\n",
       "    <tr>\n",
       "      <th>one</th>\n",
       "      <td>10</td>\n",
       "      <td>10.0</td>\n",
       "    </tr>\n",
       "    <tr>\n",
       "      <th>two</th>\n",
       "      <td>10</td>\n",
       "      <td>1.7</td>\n",
       "    </tr>\n",
       "  </tbody>\n",
       "</table>\n",
       "</div>"
      ],
      "text/plain": [
       "     year   pop\n",
       "one    10  10.0\n",
       "two    10   1.7"
      ]
     },
     "execution_count": 29,
     "metadata": {
      "tags": []
     },
     "output_type": "execute_result"
    }
   ],
   "source": [
    "# 选择行和列的子集\n",
    "frame2.loc[[\"one\",\"two\"],[\"year\",\"pop\"]]"
   ]
  },
  {
   "cell_type": "markdown",
   "metadata": {
    "id": "BiXqF-Gd5fNb"
   },
   "source": [
    "指定多列"
   ]
  },
  {
   "cell_type": "code",
   "execution_count": null,
   "metadata": {
    "colab": {
     "base_uri": "https://localhost:8080/"
    },
    "executionInfo": {
     "elapsed": 4621,
     "status": "ok",
     "timestamp": 1615375800314,
     "user": {
      "displayName": "黄不盈",
      "photoUrl": "",
      "userId": "09846410536788032197"
     },
     "user_tz": -480
    },
    "id": "YvdDnklkx3v6",
    "outputId": "6f6e6563-2fc2-4a14-ad2a-acba3e65ff48"
   },
   "outputs": [
    {
     "data": {
      "text/html": [
       "<div>\n",
       "<style scoped>\n",
       "    .dataframe tbody tr th:only-of-type {\n",
       "        vertical-align: middle;\n",
       "    }\n",
       "\n",
       "    .dataframe tbody tr th {\n",
       "        vertical-align: top;\n",
       "    }\n",
       "\n",
       "    .dataframe thead th {\n",
       "        text-align: right;\n",
       "    }\n",
       "</style>\n",
       "<table border=\"1\" class=\"dataframe\">\n",
       "  <thead>\n",
       "    <tr style=\"text-align: right;\">\n",
       "      <th></th>\n",
       "      <th>year</th>\n",
       "      <th>pop</th>\n",
       "    </tr>\n",
       "  </thead>\n",
       "  <tbody>\n",
       "    <tr>\n",
       "      <th>0</th>\n",
       "      <td>2000</td>\n",
       "      <td>1.5</td>\n",
       "    </tr>\n",
       "    <tr>\n",
       "      <th>1</th>\n",
       "      <td>2001</td>\n",
       "      <td>1.7</td>\n",
       "    </tr>\n",
       "    <tr>\n",
       "      <th>2</th>\n",
       "      <td>2002</td>\n",
       "      <td>3.6</td>\n",
       "    </tr>\n",
       "    <tr>\n",
       "      <th>3</th>\n",
       "      <td>2001</td>\n",
       "      <td>2.4</td>\n",
       "    </tr>\n",
       "    <tr>\n",
       "      <th>4</th>\n",
       "      <td>2002</td>\n",
       "      <td>2.9</td>\n",
       "    </tr>\n",
       "    <tr>\n",
       "      <th>5</th>\n",
       "      <td>2003</td>\n",
       "      <td>3.2</td>\n",
       "    </tr>\n",
       "  </tbody>\n",
       "</table>\n",
       "</div>"
      ],
      "text/plain": [
       "   year  pop\n",
       "0  2000  1.5\n",
       "1  2001  1.7\n",
       "2  2002  3.6\n",
       "3  2001  2.4\n",
       "4  2002  2.9\n",
       "5  2003  3.2"
      ]
     },
     "execution_count": 30,
     "metadata": {
      "tags": []
     },
     "output_type": "execute_result"
    }
   ],
   "source": [
    "# 通过列名指定多列，名字放在一个列表里\n",
    "frame[[\"year\",\"pop\"]]"
   ]
  },
  {
   "cell_type": "markdown",
   "metadata": {
    "id": "249P-yvm1mOa"
   },
   "source": [
    "##### 分组和聚合运算"
   ]
  },
  {
   "cell_type": "code",
   "execution_count": null,
   "metadata": {
    "colab": {
     "base_uri": "https://localhost:8080/",
     "height": 233
    },
    "executionInfo": {
     "elapsed": 4583,
     "status": "ok",
     "timestamp": 1615375800317,
     "user": {
      "displayName": "黄不盈",
      "photoUrl": "",
      "userId": "09846410536788032197"
     },
     "user_tz": -480
    },
    "id": "3PHRApB31wrJ",
    "outputId": "30f8bc17-e418-475f-916a-82d02107f2bc"
   },
   "outputs": [
    {
     "data": {
      "text/html": [
       "<div>\n",
       "<style scoped>\n",
       "    .dataframe tbody tr th:only-of-type {\n",
       "        vertical-align: middle;\n",
       "    }\n",
       "\n",
       "    .dataframe tbody tr th {\n",
       "        vertical-align: top;\n",
       "    }\n",
       "\n",
       "    .dataframe thead th {\n",
       "        text-align: right;\n",
       "    }\n",
       "</style>\n",
       "<table border=\"1\" class=\"dataframe\">\n",
       "  <thead>\n",
       "    <tr style=\"text-align: right;\">\n",
       "      <th></th>\n",
       "      <th>year</th>\n",
       "      <th>state</th>\n",
       "      <th>pop</th>\n",
       "      <th>debt</th>\n",
       "    </tr>\n",
       "  </thead>\n",
       "  <tbody>\n",
       "    <tr>\n",
       "      <th>one</th>\n",
       "      <td>10</td>\n",
       "      <td>10</td>\n",
       "      <td>10.0</td>\n",
       "      <td>10</td>\n",
       "    </tr>\n",
       "    <tr>\n",
       "      <th>two</th>\n",
       "      <td>10</td>\n",
       "      <td>Ohio</td>\n",
       "      <td>1.7</td>\n",
       "      <td>NaN</td>\n",
       "    </tr>\n",
       "    <tr>\n",
       "      <th>three</th>\n",
       "      <td>10</td>\n",
       "      <td>Ohio</td>\n",
       "      <td>3.6</td>\n",
       "      <td>NaN</td>\n",
       "    </tr>\n",
       "    <tr>\n",
       "      <th>four</th>\n",
       "      <td>10</td>\n",
       "      <td>Nevada</td>\n",
       "      <td>2.4</td>\n",
       "      <td>NaN</td>\n",
       "    </tr>\n",
       "    <tr>\n",
       "      <th>five</th>\n",
       "      <td>10</td>\n",
       "      <td>Nevada</td>\n",
       "      <td>2.9</td>\n",
       "      <td>NaN</td>\n",
       "    </tr>\n",
       "    <tr>\n",
       "      <th>six</th>\n",
       "      <td>10</td>\n",
       "      <td>Nevada</td>\n",
       "      <td>3.2</td>\n",
       "      <td>NaN</td>\n",
       "    </tr>\n",
       "  </tbody>\n",
       "</table>\n",
       "</div>"
      ],
      "text/plain": [
       "       year   state   pop debt\n",
       "one      10      10  10.0   10\n",
       "two      10    Ohio   1.7  NaN\n",
       "three    10    Ohio   3.6  NaN\n",
       "four     10  Nevada   2.4  NaN\n",
       "five     10  Nevada   2.9  NaN\n",
       "six      10  Nevada   3.2  NaN"
      ]
     },
     "execution_count": 31,
     "metadata": {
      "tags": []
     },
     "output_type": "execute_result"
    }
   ],
   "source": [
    "frame2"
   ]
  },
  {
   "cell_type": "markdown",
   "metadata": {
    "id": "eO38K2pdPE8r"
   },
   "source": [
    "将frame2按照state分组"
   ]
  },
  {
   "cell_type": "code",
   "execution_count": null,
   "metadata": {
    "colab": {
     "base_uri": "https://localhost:8080/"
    },
    "executionInfo": {
     "elapsed": 4540,
     "status": "ok",
     "timestamp": 1615375800319,
     "user": {
      "displayName": "黄不盈",
      "photoUrl": "",
      "userId": "09846410536788032197"
     },
     "user_tz": -480
    },
    "id": "418zpp_y13C3",
    "outputId": "257f7d41-ac6a-4036-8cc5-4f0e5bdd72cb"
   },
   "outputs": [
    {
     "data": {
      "text/plain": [
       "<pandas.core.groupby.generic.DataFrameGroupBy object at 0x7f6d44757650>"
      ]
     },
     "execution_count": 32,
     "metadata": {
      "tags": []
     },
     "output_type": "execute_result"
    }
   ],
   "source": [
    "frame2.groupby(\"state\")"
   ]
  },
  {
   "cell_type": "markdown",
   "metadata": {
    "id": "JWrys-J8PH9y"
   },
   "source": [
    "是一个可迭代对象，生成list"
   ]
  },
  {
   "cell_type": "code",
   "execution_count": null,
   "metadata": {
    "colab": {
     "base_uri": "https://localhost:8080/"
    },
    "executionInfo": {
     "elapsed": 4506,
     "status": "ok",
     "timestamp": 1615375800322,
     "user": {
      "displayName": "黄不盈",
      "photoUrl": "",
      "userId": "09846410536788032197"
     },
     "user_tz": -480
    },
    "id": "acvhbzmyPOi-",
    "outputId": "7a71248b-25da-4af3-f2b0-95f7c26d056a"
   },
   "outputs": [
    {
     "data": {
      "text/plain": [
       "[(10,      year state   pop debt\n",
       "  one    10    10  10.0   10), ('Nevada',       year   state  pop debt\n",
       "  four    10  Nevada  2.4  NaN\n",
       "  five    10  Nevada  2.9  NaN\n",
       "  six     10  Nevada  3.2  NaN), ('Ohio',        year state  pop debt\n",
       "  two      10  Ohio  1.7  NaN\n",
       "  three    10  Ohio  3.6  NaN)]"
      ]
     },
     "execution_count": 33,
     "metadata": {
      "tags": []
     },
     "output_type": "execute_result"
    }
   ],
   "source": [
    "list(frame2.groupby(\"state\"))"
   ]
  },
  {
   "cell_type": "markdown",
   "metadata": {
    "id": "ar8h9pnYPsrv"
   },
   "source": [
    "提取分组"
   ]
  },
  {
   "cell_type": "code",
   "execution_count": null,
   "metadata": {
    "colab": {
     "base_uri": "https://localhost:8080/"
    },
    "executionInfo": {
     "elapsed": 4471,
     "status": "ok",
     "timestamp": 1615375800324,
     "user": {
      "displayName": "黄不盈",
      "photoUrl": "",
      "userId": "09846410536788032197"
     },
     "user_tz": -480
    },
    "id": "f7ErjH3kPupl",
    "outputId": "c36a9ee1-e282-46fe-b419-66876cbdb4fc"
   },
   "outputs": [
    {
     "data": {
      "text/plain": [
       "{10: ['one'], 'Nevada': ['four', 'five', 'six'], 'Ohio': ['two', 'three']}"
      ]
     },
     "execution_count": 34,
     "metadata": {
      "tags": []
     },
     "output_type": "execute_result"
    }
   ],
   "source": [
    "frame2.groupby(\"state\").groups"
   ]
  },
  {
   "cell_type": "markdown",
   "metadata": {
    "id": "sPNsoEXSP7iK"
   },
   "source": [
    "分组后的长度"
   ]
  },
  {
   "cell_type": "code",
   "execution_count": null,
   "metadata": {
    "colab": {
     "base_uri": "https://localhost:8080/"
    },
    "executionInfo": {
     "elapsed": 4442,
     "status": "ok",
     "timestamp": 1615375800328,
     "user": {
      "displayName": "黄不盈",
      "photoUrl": "",
      "userId": "09846410536788032197"
     },
     "user_tz": -480
    },
    "id": "0B1N0g3CP8_b",
    "outputId": "20bb6245-a43e-4125-9e6e-2a3c19ee4dd3"
   },
   "outputs": [
    {
     "data": {
      "text/plain": [
       "state\n",
       "10        1\n",
       "Nevada    3\n",
       "Ohio      2\n",
       "dtype: int64"
      ]
     },
     "execution_count": 35,
     "metadata": {
      "tags": []
     },
     "output_type": "execute_result"
    }
   ],
   "source": [
    "frame2.groupby(\"state\").size()"
   ]
  },
  {
   "cell_type": "markdown",
   "metadata": {
    "id": "SHsUAmioFs7I"
   },
   "source": [
    "每组的year列计算平均值"
   ]
  },
  {
   "cell_type": "code",
   "execution_count": null,
   "metadata": {
    "colab": {
     "base_uri": "https://localhost:8080/"
    },
    "executionInfo": {
     "elapsed": 4422,
     "status": "ok",
     "timestamp": 1615375800337,
     "user": {
      "displayName": "黄不盈",
      "photoUrl": "",
      "userId": "09846410536788032197"
     },
     "user_tz": -480
    },
    "id": "bxVvAH972V96",
    "outputId": "8650e89f-1dec-49c5-de7e-ad10d41cb46f"
   },
   "outputs": [
    {
     "data": {
      "text/plain": [
       "pop\n",
       "1.7     10\n",
       "2.4     10\n",
       "2.9     10\n",
       "3.2     10\n",
       "3.6     10\n",
       "10.0    10\n",
       "Name: year, dtype: int64"
      ]
     },
     "execution_count": 36,
     "metadata": {
      "tags": []
     },
     "output_type": "execute_result"
    }
   ],
   "source": [
    "frame2.groupby(\"pop\")[\"year\"].mean()"
   ]
  },
  {
   "cell_type": "markdown",
   "metadata": {
    "id": "pGosHvCTJalP"
   },
   "source": [
    "多层分组"
   ]
  },
  {
   "cell_type": "code",
   "execution_count": null,
   "metadata": {
    "id": "9HaMr9J2Jc0B"
   },
   "outputs": [],
   "source": [
    "frame2"
   ]
  },
  {
   "cell_type": "code",
   "execution_count": null,
   "metadata": {
    "colab": {
     "base_uri": "https://localhost:8080/"
    },
    "executionInfo": {
     "elapsed": 4404,
     "status": "ok",
     "timestamp": 1615375800340,
     "user": {
      "displayName": "黄不盈",
      "photoUrl": "",
      "userId": "09846410536788032197"
     },
     "user_tz": -480
    },
    "id": "LfZbjw5h24Cu",
    "outputId": "cae874f7-e90f-415a-bd2e-4ab3c0d78904"
   },
   "outputs": [
    {
     "data": {
      "text/plain": [
       "pop   state \n",
       "1.7   Ohio      10\n",
       "2.4   Nevada    10\n",
       "2.9   Nevada    10\n",
       "3.2   Nevada    10\n",
       "3.6   Ohio      10\n",
       "10.0  10        10\n",
       "Name: year, dtype: int64"
      ]
     },
     "execution_count": 37,
     "metadata": {
      "tags": []
     },
     "output_type": "execute_result"
    }
   ],
   "source": [
    "frame2.groupby([\"pop\",\"state\"])[\"year\"].mean()"
   ]
  },
  {
   "cell_type": "markdown",
   "metadata": {
    "id": "xhAnkjcVQdOI"
   },
   "source": [
    "###### 通过函数分组"
   ]
  },
  {
   "cell_type": "code",
   "execution_count": null,
   "metadata": {
    "colab": {
     "base_uri": "https://localhost:8080/"
    },
    "executionInfo": {
     "elapsed": 4385,
     "status": "ok",
     "timestamp": 1615375800342,
     "user": {
      "displayName": "黄不盈",
      "photoUrl": "",
      "userId": "09846410536788032197"
     },
     "user_tz": -480
    },
    "id": "lLSSq42YQfDO",
    "outputId": "d3b559ea-3fe3-4573-bda1-aed8ef0812dd"
   },
   "outputs": [
    {
     "name": "stdout",
     "output_type": "stream",
     "text": [
      "      a   b   c   d\n",
      "abc   0   1   2   3\n",
      "bcd   4   5   6   7\n",
      "aa    8   9  10  11\n",
      "b    12  13  14  15 \n",
      "\n",
      "    a   b   c   d\n",
      "1  12  13  14  15\n",
      "2   8   9  10  11\n",
      "3   4   6   8  10\n"
     ]
    }
   ],
   "source": [
    "# 通过函数分组\n",
    "df = pd.DataFrame(np.arange(16).reshape(4,4),\n",
    "                  columns = ['a','b','c','d'],\n",
    "                 index = ['abc','bcd','aa','b'])\n",
    "print(df,'\\n')\n",
    "print(df.groupby(len).sum())\n",
    "# 按照字母长度分组"
   ]
  },
  {
   "cell_type": "markdown",
   "metadata": {
    "id": "8lZhHYCLQpLH"
   },
   "source": [
    "###### 分组计算函数方法"
   ]
  },
  {
   "cell_type": "code",
   "execution_count": null,
   "metadata": {
    "id": "CEenInQcQl5k"
   },
   "outputs": [],
   "source": [
    "s = pd.Series([1, 2, 3, 10, 20, 30], index = [1, 2, 3, 1, 2, 3])\n",
    "grouped = s.groupby(level=0)  # 唯一索引用.groupby(level=0)，将同一个index的分为一组\n",
    "print(grouped)\n",
    "print(grouped.first(),'→ first：非NaN的第一个值\\n')\n",
    "print(grouped.last(),'→ last：非NaN的最后一个值\\n')\n",
    "print(grouped.sum(),'→ sum：非NaN的和\\n')\n",
    "print(grouped.mean(),'→ mean：非NaN的平均值\\n')\n",
    "print(grouped.median(),'→ median：非NaN的算术中位数\\n')\n",
    "print(grouped.count(),'→ count：非NaN的值\\n')\n",
    "print(grouped.min(),'→ min、max：非NaN的最小值、最大值\\n')\n",
    "print(grouped.std(),'→ std，var：非NaN的标准差和方差\\n')\n",
    "print(grouped.prod(),'→ prod：非NaN的积\\n')"
   ]
  },
  {
   "cell_type": "markdown",
   "metadata": {
    "id": "i273HM4-LpCb"
   },
   "source": [
    "###### 分组自定义计算函数"
   ]
  },
  {
   "cell_type": "markdown",
   "metadata": {
    "id": "XYJUyc1BMOTM"
   },
   "source": [
    "```\n",
    "def get_top1000(group):\n",
    "    return group.sort_values(by='births', ascending=False)[:1000]\n",
    "grouped = names.groupby(['year', 'sex'])\n",
    "top1000 = grouped.apply(get_top1000)\n",
    "```\n",
    "\n",
    "```\n",
    "def add_prop(group):\n",
    "    group['prop'] = group.births / group.births.sum()\n",
    "    return group\n",
    "names = names.groupby(['year', 'sex']).apply(add_prop)\n",
    "```"
   ]
  },
  {
   "cell_type": "markdown",
   "metadata": {},
   "source": [
    "#### 遍历DataFrame"
   ]
  },
  {
   "cell_type": "markdown",
   "metadata": {},
   "source": [
    "```\n",
    "for _, i in read_data.iterrows():\n",
    "for _, i in read_data.iteritems():\n",
    "for _, i in read_data.itertuple():\n",
    "```"
   ]
  },
  {
   "cell_type": "markdown",
   "metadata": {
    "id": "4pHKAvty5tph"
   },
   "source": [
    "#### Series和DataFrame常用方法"
   ]
  },
  {
   "cell_type": "markdown",
   "metadata": {
    "id": "5En6NFVD6LM4"
   },
   "source": [
    "+ corr 计算相关系数\n",
    "+ cov 计算协方差\n",
    "+ get_values 获取series的值\n",
    "+ sort_values 排序\n",
    "+ value_counts  对分类数据统计\n",
    "+ hist 绘制直方图\n",
    "+ isin 逐个检查Series中的值是否存在于传入的列表中\n",
    "+ min,max 返回最小最大值\n",
    "+ mean 返回算术平均值\n",
    "+ median 返回中位数\n",
    "+ mode 返回众数\n",
    "+ quantile 返回四分位数\n",
    "+ tranpose 返回转置矩阵\n",
    "+ unique 相当于转为set，返回的只有唯一值，没有重复值\n",
    "+ copy  返回新的指针，指向复制的数据\n",
    "+ cut  分区间计数（对于一维数据，二维数据可用np.histogram2d）"
   ]
  },
  {
   "cell_type": "markdown",
   "metadata": {
    "id": "rgvwHyH8AAYS"
   },
   "source": [
    "##### 使用逻辑判断"
   ]
  },
  {
   "cell_type": "markdown",
   "metadata": {
    "id": "OIk1ooZqAYmf"
   },
   "source": [
    "可通过对Series输入对应长度的布尔数组来获得为真的数据"
   ]
  },
  {
   "cell_type": "code",
   "execution_count": null,
   "metadata": {
    "colab": {
     "base_uri": "https://localhost:8080/"
    },
    "executionInfo": {
     "elapsed": 4357,
     "status": "ok",
     "timestamp": 1615375800360,
     "user": {
      "displayName": "黄不盈",
      "photoUrl": "",
      "userId": "09846410536788032197"
     },
     "user_tz": -480
    },
    "id": "_T6lxH1pADXZ",
    "outputId": "6b38e564-8461-4239-be6e-8d44c242fd1f"
   },
   "outputs": [
    {
     "data": {
      "text/plain": [
       "one      10\n",
       "two      10\n",
       "three    10\n",
       "four     10\n",
       "five     10\n",
       "six      10\n",
       "Name: year, dtype: int64"
      ]
     },
     "execution_count": 40,
     "metadata": {
      "tags": []
     },
     "output_type": "execute_result"
    }
   ],
   "source": [
    "frame2[\"year\"]"
   ]
  },
  {
   "cell_type": "code",
   "execution_count": null,
   "metadata": {
    "id": "QWsYRZmPApfI"
   },
   "outputs": [],
   "source": [
    "# 似乎只有在默认索引才能用\n",
    "# frame2[\"year\"][True,False,False,False,True,True]"
   ]
  },
  {
   "cell_type": "code",
   "execution_count": null,
   "metadata": {
    "colab": {
     "base_uri": "https://localhost:8080/"
    },
    "executionInfo": {
     "elapsed": 4303,
     "status": "ok",
     "timestamp": 1615375800363,
     "user": {
      "displayName": "黄不盈",
      "photoUrl": "",
      "userId": "09846410536788032197"
     },
     "user_tz": -480
    },
    "id": "cTLDFHvFBMcd",
    "outputId": "6737b744-d0c5-470a-8ff4-66a54eaba400"
   },
   "outputs": [
    {
     "data": {
      "text/plain": [
       "one      True\n",
       "two      True\n",
       "three    True\n",
       "four     True\n",
       "five     True\n",
       "six      True\n",
       "Name: year, dtype: bool"
      ]
     },
     "execution_count": 42,
     "metadata": {
      "tags": []
     },
     "output_type": "execute_result"
    }
   ],
   "source": [
    "# 返回一个列表\n",
    "frame2[\"year\"]>5"
   ]
  },
  {
   "cell_type": "code",
   "execution_count": null,
   "metadata": {
    "colab": {
     "base_uri": "https://localhost:8080/"
    },
    "executionInfo": {
     "elapsed": 4235,
     "status": "ok",
     "timestamp": 1615375800365,
     "user": {
      "displayName": "黄不盈",
      "photoUrl": "",
      "userId": "09846410536788032197"
     },
     "user_tz": -480
    },
    "id": "JbWJYfj_BSkg",
    "outputId": "72cfbf57-db46-4e07-b563-dd3e6fd23132"
   },
   "outputs": [
    {
     "data": {
      "text/plain": [
       "one      10\n",
       "two      10\n",
       "three    10\n",
       "four     10\n",
       "five     10\n",
       "six      10\n",
       "Name: year, dtype: int64"
      ]
     },
     "execution_count": 43,
     "metadata": {
      "tags": []
     },
     "output_type": "execute_result"
    }
   ],
   "source": [
    "frame2[\"year\"][frame2[\"year\"]>5]"
   ]
  },
  {
   "cell_type": "markdown",
   "metadata": {},
   "source": [
    "##### 使用where判断并替换"
   ]
  },
  {
   "cell_type": "markdown",
   "metadata": {},
   "source": [
    "+ 将不满足条件的替换\n",
    "+ inplace = True将直接替换frame中的内容"
   ]
  },
  {
   "cell_type": "code",
   "execution_count": 53,
   "metadata": {},
   "outputs": [],
   "source": [
    "frame['pop'].where(frame['pop']<2,10, inplace = True)"
   ]
  },
  {
   "cell_type": "markdown",
   "metadata": {
    "id": "2XfZ1AhN1hRo"
   },
   "source": [
    "##### 判断非空和空元素isnull和notnull"
   ]
  },
  {
   "cell_type": "code",
   "execution_count": null,
   "metadata": {
    "colab": {
     "base_uri": "https://localhost:8080/"
    },
    "executionInfo": {
     "elapsed": 4208,
     "status": "ok",
     "timestamp": 1615375800367,
     "user": {
      "displayName": "黄不盈",
      "photoUrl": "",
      "userId": "09846410536788032197"
     },
     "user_tz": -480
    },
    "id": "hLIqSvXD1nBc",
    "outputId": "a11eb880-8037-42aa-beb6-38169054a01f"
   },
   "outputs": [
    {
     "data": {
      "text/html": [
       "<div>\n",
       "<style scoped>\n",
       "    .dataframe tbody tr th:only-of-type {\n",
       "        vertical-align: middle;\n",
       "    }\n",
       "\n",
       "    .dataframe tbody tr th {\n",
       "        vertical-align: top;\n",
       "    }\n",
       "\n",
       "    .dataframe thead th {\n",
       "        text-align: right;\n",
       "    }\n",
       "</style>\n",
       "<table border=\"1\" class=\"dataframe\">\n",
       "  <thead>\n",
       "    <tr style=\"text-align: right;\">\n",
       "      <th></th>\n",
       "      <th>year</th>\n",
       "      <th>state</th>\n",
       "      <th>pop</th>\n",
       "      <th>debt</th>\n",
       "    </tr>\n",
       "  </thead>\n",
       "  <tbody>\n",
       "    <tr>\n",
       "      <th>one</th>\n",
       "      <td>10</td>\n",
       "      <td>10</td>\n",
       "      <td>10.0</td>\n",
       "      <td>10</td>\n",
       "    </tr>\n",
       "    <tr>\n",
       "      <th>two</th>\n",
       "      <td>10</td>\n",
       "      <td>Ohio</td>\n",
       "      <td>1.7</td>\n",
       "      <td>NaN</td>\n",
       "    </tr>\n",
       "    <tr>\n",
       "      <th>three</th>\n",
       "      <td>10</td>\n",
       "      <td>Ohio</td>\n",
       "      <td>3.6</td>\n",
       "      <td>NaN</td>\n",
       "    </tr>\n",
       "    <tr>\n",
       "      <th>four</th>\n",
       "      <td>10</td>\n",
       "      <td>Nevada</td>\n",
       "      <td>2.4</td>\n",
       "      <td>NaN</td>\n",
       "    </tr>\n",
       "    <tr>\n",
       "      <th>five</th>\n",
       "      <td>10</td>\n",
       "      <td>Nevada</td>\n",
       "      <td>2.9</td>\n",
       "      <td>NaN</td>\n",
       "    </tr>\n",
       "    <tr>\n",
       "      <th>six</th>\n",
       "      <td>10</td>\n",
       "      <td>Nevada</td>\n",
       "      <td>3.2</td>\n",
       "      <td>NaN</td>\n",
       "    </tr>\n",
       "  </tbody>\n",
       "</table>\n",
       "</div>"
      ],
      "text/plain": [
       "       year   state   pop debt\n",
       "one      10      10  10.0   10\n",
       "two      10    Ohio   1.7  NaN\n",
       "three    10    Ohio   3.6  NaN\n",
       "four     10  Nevada   2.4  NaN\n",
       "five     10  Nevada   2.9  NaN\n",
       "six      10  Nevada   3.2  NaN"
      ]
     },
     "execution_count": 44,
     "metadata": {
      "tags": []
     },
     "output_type": "execute_result"
    }
   ],
   "source": [
    "frame2"
   ]
  },
  {
   "cell_type": "code",
   "execution_count": null,
   "metadata": {
    "colab": {
     "base_uri": "https://localhost:8080/"
    },
    "executionInfo": {
     "elapsed": 4172,
     "status": "ok",
     "timestamp": 1615375800369,
     "user": {
      "displayName": "黄不盈",
      "photoUrl": "",
      "userId": "09846410536788032197"
     },
     "user_tz": -480
    },
    "id": "VLo-ZcCV1t9R",
    "outputId": "c0dfa6bd-4bb0-4ace-b87f-1f9c7b2bf75e"
   },
   "outputs": [
    {
     "data": {
      "text/plain": [
       "one      None\n",
       "two      None\n",
       "three    None\n",
       "four     None\n",
       "five     None\n",
       "six      None\n",
       "Name: 4, dtype: object"
      ]
     },
     "execution_count": 45,
     "metadata": {
      "tags": []
     },
     "output_type": "execute_result"
    }
   ],
   "source": [
    "frame2[4]=None\n",
    "frame2[4]"
   ]
  },
  {
   "cell_type": "code",
   "execution_count": null,
   "metadata": {
    "colab": {
     "base_uri": "https://localhost:8080/"
    },
    "executionInfo": {
     "elapsed": 4138,
     "status": "ok",
     "timestamp": 1615375800370,
     "user": {
      "displayName": "黄不盈",
      "photoUrl": "",
      "userId": "09846410536788032197"
     },
     "user_tz": -480
    },
    "id": "CQzdo5JL11kL",
    "outputId": "accbb8fc-e880-4a27-fa3e-1437151f7e97"
   },
   "outputs": [
    {
     "data": {
      "text/plain": [
       "one      True\n",
       "two      True\n",
       "three    True\n",
       "four     True\n",
       "five     True\n",
       "six      True\n",
       "Name: 4, dtype: bool"
      ]
     },
     "execution_count": 46,
     "metadata": {
      "tags": []
     },
     "output_type": "execute_result"
    }
   ],
   "source": [
    "frame2[4].isnull()"
   ]
  },
  {
   "cell_type": "code",
   "execution_count": null,
   "metadata": {
    "colab": {
     "base_uri": "https://localhost:8080/"
    },
    "executionInfo": {
     "elapsed": 4116,
     "status": "ok",
     "timestamp": 1615375800372,
     "user": {
      "displayName": "黄不盈",
      "photoUrl": "",
      "userId": "09846410536788032197"
     },
     "user_tz": -480
    },
    "id": "llUKdElU175B",
    "outputId": "76bf52a6-bcdd-47f0-b888-0315d041ee11"
   },
   "outputs": [
    {
     "data": {
      "text/plain": [
       "one      False\n",
       "two      False\n",
       "three    False\n",
       "four     False\n",
       "five     False\n",
       "six      False\n",
       "Name: 4, dtype: bool"
      ]
     },
     "execution_count": 47,
     "metadata": {
      "tags": []
     },
     "output_type": "execute_result"
    }
   ],
   "source": [
    "frame2[4].notnull()"
   ]
  },
  {
   "cell_type": "markdown",
   "metadata": {},
   "source": [
    "##### 使用any和all对一行（列）的逻辑判断（结合isnull）"
   ]
  },
  {
   "cell_type": "code",
   "execution_count": 3,
   "metadata": {},
   "outputs": [
    {
     "data": {
      "text/plain": [
       "True"
      ]
     },
     "execution_count": 3,
     "metadata": {},
     "output_type": "execute_result"
    }
   ],
   "source": [
    "import pandas as pd\n",
    "pd.Series([True, False]).any()"
   ]
  },
  {
   "cell_type": "code",
   "execution_count": 5,
   "metadata": {},
   "outputs": [
    {
     "data": {
      "text/plain": [
       "False"
      ]
     },
     "execution_count": 5,
     "metadata": {},
     "output_type": "execute_result"
    }
   ],
   "source": [
    "pd.Series([True, False]).all()"
   ]
  },
  {
   "cell_type": "markdown",
   "metadata": {},
   "source": [
    "对缺失数据查找"
   ]
  },
  {
   "cell_type": "code",
   "execution_count": null,
   "metadata": {},
   "outputs": [],
   "source": [
    "housing[housing.isnull().any(axis=1)]"
   ]
  },
  {
   "cell_type": "markdown",
   "metadata": {
    "id": "SCRS-RdSCWEb"
   },
   "source": [
    "##### 操作自动对齐和广播"
   ]
  },
  {
   "cell_type": "markdown",
   "metadata": {
    "id": "2GoMURm4C1Xf"
   },
   "source": [
    "若两个向量标签顺序不一致，则会自动对齐相同标签后运算\n",
    "```\n",
    "frame1+frame2\n",
    "```"
   ]
  },
  {
   "cell_type": "code",
   "execution_count": null,
   "metadata": {
    "colab": {
     "base_uri": "https://localhost:8080/"
    },
    "executionInfo": {
     "elapsed": 4091,
     "status": "ok",
     "timestamp": 1615375800374,
     "user": {
      "displayName": "黄不盈",
      "photoUrl": "",
      "userId": "09846410536788032197"
     },
     "user_tz": -480
    },
    "id": "Rl-2kDhd3hod",
    "outputId": "d40e8b8a-53d4-4c74-d334-c72896638394"
   },
   "outputs": [
    {
     "name": "stdout",
     "output_type": "stream",
     "text": [
      "Jack     0.597049\n",
      "Marry    0.020438\n",
      "Tom      0.863763\n",
      "dtype: float64\n",
      "Wang     0.157092\n",
      "Jack     0.865330\n",
      "Marry    0.454026\n",
      "dtype: float64\n",
      "Jack     1.462379\n",
      "Marry    0.474464\n",
      "Tom           NaN\n",
      "Wang          NaN\n",
      "dtype: float64\n"
     ]
    }
   ],
   "source": [
    "# Series对齐\n",
    "\n",
    "s1 = pd.Series(np.random.rand(3), index = ['Jack','Marry','Tom'])\n",
    "s2 = pd.Series(np.random.rand(3), index = ['Wang','Jack','Marry'])\n",
    "print(s1)\n",
    "print(s2)\n",
    "print(s1+s2)\n",
    "# Series 和 ndarray 之间的主要区别是，Series 上的操作会根据标签自动对齐\n",
    "# index顺序不会影响数值计算，以标签来计算\n",
    "# 空值和任何值计算结果扔为空值"
   ]
  },
  {
   "cell_type": "markdown",
   "metadata": {
    "id": "M3yVTYNg5p65"
   },
   "source": [
    "##### 调换行和列（numpy的语法）"
   ]
  },
  {
   "cell_type": "code",
   "execution_count": null,
   "metadata": {
    "colab": {
     "base_uri": "https://localhost:8080/"
    },
    "executionInfo": {
     "elapsed": 4030,
     "status": "ok",
     "timestamp": 1615375800375,
     "user": {
      "displayName": "黄不盈",
      "photoUrl": "",
      "userId": "09846410536788032197"
     },
     "user_tz": -480
    },
    "id": "d4y_VBLf5s0p",
    "outputId": "029f4a0a-b623-4d28-8f37-b6718068161f"
   },
   "outputs": [
    {
     "data": {
      "text/html": [
       "<div>\n",
       "<style scoped>\n",
       "    .dataframe tbody tr th:only-of-type {\n",
       "        vertical-align: middle;\n",
       "    }\n",
       "\n",
       "    .dataframe tbody tr th {\n",
       "        vertical-align: top;\n",
       "    }\n",
       "\n",
       "    .dataframe thead th {\n",
       "        text-align: right;\n",
       "    }\n",
       "</style>\n",
       "<table border=\"1\" class=\"dataframe\">\n",
       "  <thead>\n",
       "    <tr style=\"text-align: right;\">\n",
       "      <th></th>\n",
       "      <th>one</th>\n",
       "      <th>two</th>\n",
       "      <th>three</th>\n",
       "      <th>four</th>\n",
       "      <th>five</th>\n",
       "      <th>six</th>\n",
       "    </tr>\n",
       "  </thead>\n",
       "  <tbody>\n",
       "    <tr>\n",
       "      <th>year</th>\n",
       "      <td>10</td>\n",
       "      <td>10</td>\n",
       "      <td>10</td>\n",
       "      <td>10</td>\n",
       "      <td>10</td>\n",
       "      <td>10</td>\n",
       "    </tr>\n",
       "    <tr>\n",
       "      <th>state</th>\n",
       "      <td>10</td>\n",
       "      <td>Ohio</td>\n",
       "      <td>Ohio</td>\n",
       "      <td>Nevada</td>\n",
       "      <td>Nevada</td>\n",
       "      <td>Nevada</td>\n",
       "    </tr>\n",
       "    <tr>\n",
       "      <th>pop</th>\n",
       "      <td>10</td>\n",
       "      <td>1.7</td>\n",
       "      <td>3.6</td>\n",
       "      <td>2.4</td>\n",
       "      <td>2.9</td>\n",
       "      <td>3.2</td>\n",
       "    </tr>\n",
       "    <tr>\n",
       "      <th>debt</th>\n",
       "      <td>10</td>\n",
       "      <td>NaN</td>\n",
       "      <td>NaN</td>\n",
       "      <td>NaN</td>\n",
       "      <td>NaN</td>\n",
       "      <td>NaN</td>\n",
       "    </tr>\n",
       "    <tr>\n",
       "      <th>4</th>\n",
       "      <td>None</td>\n",
       "      <td>None</td>\n",
       "      <td>None</td>\n",
       "      <td>None</td>\n",
       "      <td>None</td>\n",
       "      <td>None</td>\n",
       "    </tr>\n",
       "  </tbody>\n",
       "</table>\n",
       "</div>"
      ],
      "text/plain": [
       "        one   two three    four    five     six\n",
       "year     10    10    10      10      10      10\n",
       "state    10  Ohio  Ohio  Nevada  Nevada  Nevada\n",
       "pop      10   1.7   3.6     2.4     2.9     3.2\n",
       "debt     10   NaN   NaN     NaN     NaN     NaN\n",
       "4      None  None  None    None    None    None"
      ]
     },
     "execution_count": 49,
     "metadata": {
      "tags": []
     },
     "output_type": "execute_result"
    }
   ],
   "source": [
    "frame3= frame2.T\n",
    "frame3"
   ]
  },
  {
   "cell_type": "markdown",
   "metadata": {
    "id": "8ohWPQuJHPti"
   },
   "source": [
    "##### 合并concat"
   ]
  },
  {
   "cell_type": "markdown",
   "metadata": {
    "id": "PXkTFgLBHVl4"
   },
   "source": [
    "```\n",
    "pd.concat(objs, axis=0, join='outer', join_axes=None, ignore_index=False,\n",
    "    keys=None, levels=None, names=None, verify_integrity=False)\n",
    "    ```\n",
    "+ objs: series，dataframe或者是panel构成的序列lsit \n",
    "+ axis： 需要合并链接的轴，0是行，1是列 \n",
    "+ join：连接的方式 inner，或者outer"
   ]
  },
  {
   "cell_type": "markdown",
   "metadata": {
    "id": "EnkLXMnsHs_3"
   },
   "source": [
    "相同字段的表首尾相接\n",
    "```\n",
    "frames = [df1, df2, df3]\n",
    "result = pd.concat(frames)\n",
    "```"
   ]
  },
  {
   "cell_type": "markdown",
   "metadata": {
    "id": "Slv3T8jRHvKe"
   },
   "source": [
    "![image.png](data:image/png;base64,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)"
   ]
  },
  {
   "cell_type": "markdown",
   "metadata": {
    "id": "wH2misYsIP3S"
   },
   "source": [
    "横向表拼接（行对齐）\n",
    "```\n",
    "result = pd.concat([df1, df4], axis=1)\n",
    "```"
   ]
  },
  {
   "cell_type": "markdown",
   "metadata": {
    "id": "cJXzU7iLIVts"
   },
   "source": [
    "![image.png](data:image/png;base64,iVBORw0KGgoAAAANSUhEUgAAAnYAAADICAYAAABlC6zVAAAgAElEQVR4Ae1dCbBVxZkOjlplRWNgZFIKohAIO0hkl2VYBTSAjICKBjFAEVEQMYhsAVkGkAKURYmoiLIFGWSqDCCBAFZYQ2ZghrVkkV1NOSwGWYSe+vrkP553Xp973z2v7+3znt+pevds7/b/9/d//fd3uvu89wPFjQgQASJABIgAESACRKBYIPCDYlELVoIIEAEiQASIABEgAkRAUdiRBESACBABIkAEiAARKCYIUNgVk0CyGkSACBABIkAEiAARoLAjB4gAESACRIAIEAEiUEwQoLArJoFkNYgAESACRIAIEAEiQGFHDhABIkAEiAARIAJEoJggQGFXTALJahABIkAEiAARIAJEgMKOHCACRIAIEAEiQASIQDFBgMKumASS1SACRIAIEAEiQASIAIXd94AD69evV61bt1aXL19Wbdu2VXXq1FGzZ89WK1euVPfcc4+6/vrr1YIFC74HSLCKthGI4pbY2bx5s/qnf/on8ksA4b5YIFCiRAmdR2vWrKkaN26sdu/ebb1e8+bNU71799bl/vd//7f6z//8T+s2WGDxRIDCrnjGNU+t0Pm2adNGbdmyRTVp0sS/d/DgQZ2QevbsyY7XR4UHmSAQ5FbTpk3zfBUPEs2aNVMPPvgg+ZUHGZ4UdQRuuOEGvwojRoxQ999/v39u6wDCrk+fPrq4d955xxd5tspnOcUXAQq7Yhrb999/X/3sZz9TdevWVYMGDVKtWrVSFStWVLfccot+0ty2bZtf8yeffJIdr48GD9IhUFBujR49WqFDIr/SIcr7RQ2BoLBbtWqVql69ul+FXbt2qZYtW+rci4ed//3f/9X3/uM//kPVqlVL59/atWuro0ePqiNHjui8LF9G20J7wSbC7vz586pcuXLqtttu09+dMWOG/Dr3RMCIAIWdEZaiffH06dPqjjvuUJ9//rmuyL/927/pEbsNGzbofbh27HjDiPA8CoGCcgudmYxikF9RaPJ6UUUgKOwGDBigMGqH7cqVK6phw4bq5MmT+nz79u2qQYMG+hiiDu0H28WLF9WlS5e0sKtUqZK+hg8Iu169eulzEXY4CR77v8wDIhCBAIVdBDBF+fKKFStU9+7d/SrgHFOxMm3m3/jHATveMCI8j0KgINy6du2aat68udq/f78uhvyKQpPXiyoCssYOD9BlypTxH6LxQCOzIli/jJ+7775bVxMCEDMnGHHDaB02jNhR2BVVFiTXbwq75MYmtmfofLt16+Z/n8LOh4IHhUSgINw6e/asKl26tCpfvrzu1G6++Wb1L//yL3patpDm+XUikAgEZMTu6tWreur04Ycf1n79z//8j54ujXISL0FMnjxZt41Nmzap48ePqwoVKvi/PnfuXI7Y+WjwIC4CFHZxkUvw9zDcX7ZsWf0UidGTrl27+iN2eDs2vGFEBVMA3IhAOgQy5RbK44hdOlR5v6ghgL8kINuZM2f0+je8GYupWKxlXrt2rdxW//Vf/6WPDxw44F/r27ev/ssE+P1SpUqpL774Qn377bf6RSPTVOyyZcvyzML4BfGACBgQoLAzgFIcLi1cuNB/eWLw4MHGNXZIPhCAGFH553/+Z3XnnXfqP4lSHOrPOmQPgYJwK2gdHRX/nE4QER4XdQRkxE7q8e///u+qR48e+hSjdi1atNDTsHipYuTIkfp6586dFf48CqZncXzu3Dl9/fXXX9ejdviLBc8++6xxxO7//u//VP369fnyhADOfUoEKOxSwsObRIAIEAEiQASIABEoOghQ2BWdWNFTIkAEiAARIAJEgAikRIDCLiU8vEkEiAARIAJEgAgQgaKDAIVd0YkVPSUCRIAIEAEiQASIQEoEKOxSwsObRIAIEAEiQASIABEoOghQ2BWdWNFTIkAEiAARIAJEgAikRIDCLiU8vEkEiAARIAJEgAgQgaKDAIVd0YkVPSUCRIAIxEYA/x3hX//1X53+/OxnP3NqH/WnDx4HXOPg2n5SuCD/tSR2wzZ8kcLOAAovEQEiQASKGwLoyH7/+987/fnpT3/q1D7qTx88DrjGwbX9pHAB7dL2RmFnG1GWRwSIABFIIAIUdskQNEkRFK6FlWv7SYkDhV0CkyVdIgJEgAgUBQQo7CjsIGbkx7Wwcm2fwq4oZC36SASIABEgApEIUNhR2ImoS4KoobDz+MgRu8iUxRtEgAgQASKQCoHCCLtWrVop/EP7oDCIcxy3M581a5b64Q9/qH3Aovv27dvH9iWuD6jvK6+8ourUqaP9qFy5surZs2csP+L6IDjUqFFDVapUSdWtW1dNnz7diQ/gQ2FiUZQxABckFsABP0888USsOFDYpcpavEcEiAARIAKRCMQVdgsXLvRFxOuvvx6r8xIRWJjOvFatWr7tmjVrqqlTp/rnUn5B9nF9mDdvnrrrrrvUzJkzfbsjRozwjwtiW34nrg8QE0Ecxo0bp31CjKTsgu5t+RA3Frbsu8AAGIdjUVDcw79HYReZsniDCBABIkAEUiEQV9i98MIL6tFHH1WDBw9Wjz32WMYCItiRFaYzh4BAWYsWLVIYLYsrMuP6MGDAANWlS5dC1V+wiOuDSUw0bdpUQdxI2QXdF8YHG7EojP2guEV9c40BbCIWgkNBMTf9HoVdqqzFe0SACBABIhCJQFxh16hRIy2iFixYoKpVq5axgAh2ZoXpzGUq9vbbb1eNGzeO7UdcH3r06KH69u0b264tHMKipnPnzur555/P2K+4OEDQ2IhFYey7xgCxDOKAqdgxY8ZkHAOUQ2EXmbJ4gwgQASJABFIhEEfYYfqxVKlSel3ZPffco0qXLq2mTJkSqwNDJ2arM+/QoYN67rnnYvkR1weM2D300EOxbAZFnU0cUFaTJk1yPmIXFFZxYxE3DqZRy1xjANxNfoTjXJBzCrtUWYv3iAARIAJEIBKBOMKuX79+6le/+pUvZkaNGqU6duzonxek4wr+TmE68+C0V9euXdVTTz0Vy4+4PiRljV0QhwkTJjhZYxf0IW4s4sYBgipo3wUG4HTYjyDPMzmmsItMWbxBBIgAESACqRCII+zQgc6YMcMXUFikX6ZMGf88kw4Mv1uYzvzmm2/Wbx9iOhhvg86fPz+WH3F9gP8YrcTIJabesM7vySefzKkPEBPAAW/F4o1U4JDrl0jEB2BQmFjEjYPYd4kBuAA/giOXmbYF+X0Ku1RZi/eIABEgAkQgEoE4wk46H1v7uJ25Lfsohz4k4+/5MQ78O3aRyYo3iAARIAJEID0CFHbJEDQUl4xD8EGFI3bpcxd/gwgQASJABAwIUNhRUAQFhesRM9f2kyKwKewMyYqXiAARIAJEID0CFHYUdhR2HgcEhySISwq79LmLv0EEiAARIAIGBCjsKOxE0CRhtCoJoioJPlDYGZIVLxEBIkAEiEB6BCjsKOwo7Dhilz5T8DeIABEgAkSgSCBAYUdhR2FHYVckkhWdJAJEgAgQgfQIUNhR2FHYUdilzxTfw994+OGH9f92Q5J08YM/SunCbtCmax9c2wcW4EESt+87P11zI4oXruMCzpYvX17/cV38gV1XP3fddZcz21Jn+uDF3zUOru2DD0nwAX8E3Pb2A9sFFvfykCCDTz25Pk7CYk/XPri2j5iDB0ncvu/8dM2NKF64jgs4i47M9fbzn//ctQuKPnghcI2Da/tAIQk+/OIXv7DeJijsMoTUdYJ23XGhg3Dtg2v7FHZ5pzOAh/y4jo1r+xR2qRNqEjpS+uDFyDUOru0DhST4QGGXOmfk5C6FHYUdhd13Qk4EnexdCyvX9insUqfhJHSk9MGLkWscXNsHCknwgcIudc7IyV0KOwo7CjsKOxGy4T2FXeo0nISOlD54MXKNg2v7QCEJPlDYpc4ZOblbGGHXqlUrVb16dX/aKtwpFOQ87ojErFmz1A9/+ENtHwvM27dvH9uPuD688sorqk6dOtqHypUrq549e8byIa59waBGjRqqUqVKqm7dumr69OmxfIjqwHNCwhRG4vJTsAE/C8OPOLER2zbiEsc+2p34gPrj54knnrDKi7hxKUhOkN95+umnFdpVlSpV1OTJk/P5b3uNXZ8+ffKsNV25cqVq1KiRaty4sVq9erWRpbY60iNHjqiSJUuqFi1aaJsDBgzQ9nLpAwzu3LlT51L4cd9996lp06apv/71r/oY5/PmzcsJDi1btlQNGzZUnTp1Uvv27dM2J0yYoP1Av/PZZ5/l8yOTWADvEiVKqBUrVvjlVKxY0T8OH9x9991q0KBB/mXw/8SJE/45DjKxj98vrj5Q2OWhhZuTuAl64cKFvph4/fXX8yVdSc7p9oXpuGrVquXbxZs4U6dO9c/T2Q3ej+MDEhzeQJo5c6Zvc8SIEf5xsPx0x3Hso0x03kEMxo0bp31CbNLZDN8HD5K4xeVnGJu4/IgTm7DtwsQljn0TN8LxLuh5FC/ixqWgdt955x391uvixYt1G4O4C3/XprC7fPmyatCggerYsaM6duyYunr1qm5b586dU2fOnFG1a9dW165dy9dEMu3M8xXwjwvo5Nu0aePfhnjZvXt3Tn04e/astnf48GHfDwhaCDoIKWCE+gKP8JYtHDZv3qx9guAUfDZu3KgeeeSRsAsZCSvgXbVqVS2ipSA8HEdtEH3169dXp0+f1r8C4WtD2BVHHyjsoliUw+txE/QLL7ygHn30UTV48GD12GOP5Uu64SQcdV6YjgudNcpdtGiRfrKPKzDj+IAn6i5dusSudxCPOPbx/bCAwLWmTZsqCIlg+QU5jurAc0hFo6m4/AQ2NvgRJzY24xLHvnBD6l+Q+Ef9ThQv4sYlyk74+vDhw1WHDh18HmPEJPzAYlPYLV++XGFEaNmyZWrixIlq//79qnPnzj4ncXzgwAH/XA5sCprWrVvrYq9cuaLFFARMLn0Avng4DW6XLl3SsxJy7bnnnlMff/yxnPp7mziIgJPCe/ToocaMGaNnI+QaBFF4y8QHCDvg3b9/f3/UDuJt/fr1qnnz5qpZs2Yae9QfG+4tXbpUof7YwH8bwq44+kBhpyni9iNugsYUBYTUggULVLVq1fwEHE7Q6c4L03HJVOztt9+up0vS2Yq6H8cHJJu+ffvGrnfQlzj28X2TgEBH8Pzzz2fsV1QH7padXgINYlXQY2Bjgx9xYmMzLnHsCzek/piKRcdYUOyCvxfFi7h5I1h2qmM8OHXr1s33GTnmd7/7nX+O79oUdrCFkbqLFy/qjh0jRb169fLpj2UWW7Zs8c/lIBMxId8x7SE0ZCoWSwe6d++uNm3alFMfJk2apObMmZPHvZMnT+rpYbn429/+VmEUNbzZxCEs7IYOHarGjh2r3n33Xd8spujDWyY+yAgpxBmmfLFBvF24cMEv9sUXX1TvvfeePpfRPIzanTp1ypqwQ12Lmw8Udj6F3B3ESdCYhixVqpR+kkNyLV26tJoyZUqepJsqaQfvFabjCk5D4ukeT1PBsgt6HMcHdDwPPfRQLHthv+LYRxkmAdGkSROO2BmwicuPOLGxGZc49qO4EeZdQc5dCbthw4blbMQOU5BlypTRa8vatWunMDqIqb9cjpaJ0JCeYODAgXrkEDlGtmyPGmLEDrgHNwjdoIB2NWKH0dRXX33Vdw1CP7zFEXYo45lnnlEYsYV427Ztm2rbtq0WbhgVhF1sIuw++OADhdjYmooVEVucfKCwCzPTwXkcYdevXz/1q1/9yhc1o0aN0mtTCtJRhH+nMB1XcKqpa9eu6qmnnvJ9CttJdR7Hh6SssQtigCSEdX/hKatUdZd7UR24A0rmMRmHn6gTxFUQm7j8iMONsO3CxCWOfVP9Jc6Z7qN4ETcuBbWPNXaoO0aHZs+erddDhb8bFBx5SJPhyVtvvaX5Il9bt26dwlITlH/+/HkF4YfjbK+xk6lY+DF69Gj12muv5dQHWWN36NAhgUKtWbNG4WERo5lYY1evXr2sr7EL4rB161a9vnHXrl3q/vvv1379+c9/1suAfCf/cZCpsBM7x48f1+srMWIH8Swjs0OGDFHjx4/XpeOebBi1g+izNRWLcouTDxR2whSH+zgJGh3mjBkzfBEFIYEn3nDiLch5YTqum2++Wb/xh6c3vBE6f/78nPqAUUokfEx1YWrgySefzKl9CAhggLcvMX0DDOK+QBLVgTukpjYdh5/gnWCD2BSGH3H4KbZtxCWOfal/cES7IG3R9DtRvIgbF5ONqGvBt2Kx7i38e7aEHV5UOHjwoE91rKtCxx18I3XVqlX+/eBBJmIi+L3wMUbsMAuCkSCs8cJLHBCVufQBPkFAYdRS3orFW/Y7duzI6VuxwAFvxWK5D3DYu3evhgtrh/EiB+4FX/AQLDOJRXiEFCNmGJXDgwTyBdZPYypehJ2M2MEWRu2uu+46K8JORuxQbnHxgcJOGOlwn4sEHU7IwfO4HVewjMIeu/bBtX3gF9WBO6SmNv1956drbkTxwnVcwFlbwq4wHM9ETBTGTqrv0gcPHdc4uLYPFJLgA4Vdqtaao3uuE7TrjgsdhGsfXNunsOMfKAYHTD8UdqkTcRI6Uvrgxcg1Dq7tA4Uk+EBhlzpn5OQuhR2FHYWdWdQAF9ei27V9CrvUaTgJHSl98GLkGgfX9oFCEnygsEudM3Jyl8KOnTeFHYWdabQuFS9c5w34xqnYZAiapAgK16LGtf2kxIHCLifSLbUR1wna9YgEOgjXPri2n6oDT82e7N/9vvPTNTeAv2lzHRcKu++iQkHhYeEaB9f2gUISfKCw+65tOjtynaBdd1wUdt5oVVQH7oyY/zD8feen6/YRxQvXcaGw+65lJqEzpw/JEFVJiAOF3Xdt09mR6wTtuuOisKOwAweiflzz07V9CrvUqTkJHSl98GLkGgfX9oFCEnygsEudM3Jyl8KOU7EQNVEdeE5ImMLI952fFHbRoptr7LyGk4TOnD4kQ1QlIQ7fe2H38MMP6w4VnZern/Lly+tFyEiSLn7wnxJc2A3adO2Da/vAAn90OryRn/fo/+QR5Equj11zw8QL8AR/EBui0+VPuXLl9AgFOjNXP/j3Y65si1364MXfNQ6u7YMPSfChdu3a4a6k0Oc/KHQJOSzA9WgERmrQUbncQEbXm2sfXNsH/qanLPLT/VO4a26YeAG+kBte1nIdH3hBH5IRC8bBi0NUzvDuxvuksEuxXsi0jojCzn1iTEJCMDVGdt7khokXSM3khtdBJaHt0odkxIJx8OIQlTO8u/E+Kewo7DJmjusG6do+ADM1RnbeFHYmXoAv5IaXZpLQdulDMmLBOHhxiMoZ3t14nxR2FHYZM8d1g3RtH4CZGiM7bwo7Ey/AF3LDSzNJaLv0IRmxYBy8OETlDO9uvE8Ku5Cwe/rpp1XlypVVlSpV1OTJk/P9WQebU7F9+vTRCV9Ct3LlStWoUSPVuHFjtXr1armcZ2+zMRw5ckSVLFlStWjRQtsdMGCAtpXOD5s+7Ny5U7Vv3177cN9996lp06apv/71rwrH+Jk3b16e+uPEln2pf8uWLVXDhg1Vp06d1L59+7S9CRMmaPutWrVSn332WT4fTI0x2503+AhuVqtWTb+8MXPmzKzxU7AJcuP48eOqefPmqlmzZqpJkyZqx44d+XCxERuxHY4L2gTiBJwfeOAB9dVXX2XFvhQqfgAD/IwdO1bXv2nTppH1N/EC5WWbG1g2gkXYP/rRj9QjjzySjxfZWB8czl9PPfWUuv322xWuR202+IGyg7FBzpTclUsf4IfkL8RX8tfIkSP1S0Rt2rSJgiHrOez8+fM6pyO/L1iwwOhHJrEA3iVKlFArVqzwy6pYsaJ/HD7ASwmDBg3yLwOfEydO+Oc4yMQ+fr+4+hCVM/KAleEJhV1A2L3zzjsKb70uXrxYodOEuAuvs7Ml7C5fvqwaNGigOnbsqI4dO6auXr2qatWqpc6dO6fOnDmjk/S1a9fyhTPTxpCvgMAFNJRg8oGI2b17d1o/bPlw9uxZbevw4cO+V+i8kSAhpoARbAGP4GbLfrj+mzdv1v4gWQsuGzdu1B1l0D6OTY0x2533m2++qebPn685+dJLL2mBlS1+hrEBN3bt2qW+/PJLDcWePXsUBE54sxGbsG2Jy9GjRzUnYHP27Nlq1KhRYfMZdxb5CghcCPuBtpmu/iZeoMhscwM8eOONN1T//v1zIuzC+Qt1PHnypNqwYUPOhJ20UdgGP8HJXPpgyl8ff/yxOn36tEJOC/oXoJU+tNFOUFCYo9JWEJ/PP/9cjRkzxpqwq1q1qhaLUpdKlSrJYb49RF/9+vU1FriJByMbwq44+hCVM/KBmsEFCruAsBs+fLjq0KGDL+bw1LFw4UL/3OZT7/LlyxVGhZYtW6YmTpyo9u/frzp37uyHDscHDhzwz+XAVkJAeUgKrVu31kVfuXJFCyoImXR+2PIB2I4YMUKqpveXLl1SderU8a8999xzCskyuNmyH06KsNGjRw+dDKdPn+6bRDIJb6bGmIvOW4QcRA2SpZzL3taDR5gbGEXGA4hsn376qcKIWnizERtTXB5//HG1adMm39xbb72lXn75Zf9cDmzYl7KCGMg12UfV38QLfCdX3MCMQy5G7ML5S3BZv359zoRdMHcF+ZkrH0z5S3AwcVjuYW+LpyY7wbYyevRoa8IOeOPBQUbtIN6AtYzio99A/saGe0uXLlXI39jAfxvCrjj6EJUzNHAxPyjsAsIOw/ndunXzO0tMef3ud7/zz20KO9hBR3nx4kXdMPCk1atXLz+MPXv2VFu2bPHP5cBWQkB5SAoyFYu/s9W9e3fdeabzw5YPkyZNUnPmzJGq6T2euCFYZPvtb3+rR1DlHHtb9k1JcejQoXrK7d133/VNYvozvJkaY646b4zaIV6YthZBJ3ubwi7MDcEAo8uYCl27dq1c8vc2YhMVF3QU2DAiAjsyeuYbt8gNlBlsH+AkHnqwpaq/iRf4Tq64kSthF85fGhildEef66lYyV259sGUv8QHE4flHvY22gnKMdlBDpO2YlPYYQQS4gzLIbBBvF24cEEf4+PFF19U7733nj6X0TyM2p06dcqasCuOPkTlDB/YGAcUdgFhN2zYsJyM2GEIv0yZMnptWbt27fQfScT0X7qRMsTXVkJAWeGkMHDgQD16+NBDD/lUMo0c2vIBT7zAPLhB6AbFiYsRO4ykvvrqq75bEPjhzdQYc9F5L1q0SHNgyJAh+USdzQcPEzeWLFmiYejdu7eeCg1jgnMb3AjbRrkYScWIHaZDMQW8fft2k3kr9qVgkx+4l6r+Jl7gO7ngBuKfC2Fnyl+YpseWq9GycGyQu4SfufLBlL80CIbcKtdlb6OdoKwwDrgmbQXHtoUdynzmmWcURmwh3rZt26batm2r+Y2ZDeRObCLsPvjgA4XY2JqKlent4uRDVM7QQMb8oLALCDusscNfhscaO6zhAVFlJET2QdERE3OFaaRZs2b5X1+3bp164YUXtKDBolckTtjJxRo7mc6AM0gCr732Wlo/bCUlWaNy6NAhH4s1a9bohekYzcQ6kXr16mV1jV2w/lu3btVrG9FJ3X///dqnP//5z+rRRx/1/ZMDU2PMdueNjgsLxfv165ePlzb5iTqiwwhiA25g3Sl4alrbJrjY4EbYtsQFfMFaqqgXi+CDDftSl7AfuD548OCU9TfxAt/LNjck/rkQdqb8hQcNbH/605+08NUnhg9b8QnHRviZSx+i8hd8wBq7YPsJQ5EtHKStIHdiAy7vv/9+2Lw+z8SHIN54iQrrwzFihwd/mVkCB8aPH6/Lxj3ZMGqHvtTWVCzKLU4+ROUMwS/OnsIuIOyQHJEY5a1YrH2ThCl7G8IOndPBgwf9eGFdAogffBt11apV/v3gQSaNMfg90zEaa6lSpfTTFNZJ4EUOCMt0ftj0ASIKo5Z4osNLE1jbhrctcYyfbL8Vi/pjrRgEE+q/d+9eDdW4ceO0fdwLvtwhOJoaY7Y77+eff17ddNNNqnr16voHbxMLL2Vvg5+oo4kbn3zyibrxxht1rFBXTMeFNxvcENvBuGBh/JQpU1Tp0qW1ffBFRgeCPtiwL+XBDxkhwLW//OUvaetv4gW+m21uIP7IK3feead+MxWdqXBC9ra4EZW/sEb53nvvVWXLltW4BafpBFNb8RGOgAfB3IU1u7nyAXWS/IX4Sv7CAxDeGr/ttts0DsEH12zhEGwrksPARQxU4N/c/frXvxbT/j6TWITbAkbMMCqHQRDMaHTp0kUvJRJhJyN2MIZRu+uuu86KsAu2x+LiQ1TO8AMV44DCLiTsJAlG7W0lxxix0l/JpDHGtZHue659cG0f+JgaYy467yheyvXvOz9dc8PEC/CF3PCyiuv4wAv6kIxYMA5eHKJyhnc33ieFHYVdxsxx3SBd2wdgpsbIztt9p+maGyZegC/khpdmXMcHXtCHZMSCcfDiEJUzvLvxPinsKOwyZo7rBunaPgAzNUZ23u47TdfcMPECfCE3vDTjOj7wgj4kIxaMgxeHqJzh3Y33SWFHYZcxc1w3SNf2AZipMbLzdt9puuaGiRfgC7nhpRnX8YEX9CEZsWAcvDhE5QzvbrxPCjsKu4yZ47pBurYPwEyNkZ23+07TNTdMvABfyA0vzbiOD7ygD8mIBePgxSEqZ3h3431S2FHYZcwc1w3StX0AZmqM7Lzdd5quuWHiBfhCbnhpxnV84AV9SEYsGAcvDlE5w7sb75PCjsIuY+a4bpCu7QMwU2Nk5+2+03TNDRMvwBdyw0szruMDL+hDMmLBOHhxiMoZ3t14nxR2FHYZM8d1g3RtH4CZGiM7b/edpmtumHgBvpAbXppxHR94QR+SEQvGwYtDVM7w7sb7LFLCDv8TEH9w0eVPuXLldGIAKV383H333U7sBuvq2gfX9oFF7dq187U48vPn+t/jBbmS62PX3DDxAkQhN7x86To+4CN9SEYsGAcvDlE5I18Hkzu7eT8AACAASURBVMGFIiXs+NTLp01wG8nZ9WZ6yiI/3cfGNTdMvABXyQ2vxbqOD7ygD8mIBePgxSEqZ3h3431S2HEqNmPmuG6Qru0DMFNjZOftvtN0zQ0TL8AXcsNLM67jAy/oQzJiwTh4cYjKGd7deJ8UdhR2GTPHdYN0bR+AmRojO2/3naZrbph4Ab6QG16acR0feEEfkhELxsGLQ1TO8O7G+6Swo7DLmDmuG6Rr+wDM1BjZebvvNF1zw8QL8IXc8NKM6/jAC/qQjFgwDl4conKGdzfeJ4VdSNhhIeOPfvQj9cgjjyj5x+rBvc1/st6nTx+d8CV0Tz31lLr99tsVrkdtNhvDkSNHVMmSJVWLFi1Uo0aN1IABA7TZdH7Y9GHnzp2qffv2Gof77rtPTZs2TY0cOVLdddddqk2bNkYYbNmX+rds2VI1bNhQderUSe3bt0+dP39e4wFsFixYYPTB1Biz3Xm/++67qnLlyqp69eqqUqVKatSoUfk4aoufgk2YG61bt9axqlevnlq0aFE+bGzERmyH43LgwAHVuHFjbb9JkyZq165dWbEvhYofwAA/U6ZMUenqb+IFyss2NyZPnqy5Ua1aNVWzZk01c+bMrHFD8Anmr+PHj6vmzZurZs2aKcRmx44d8mt59jb4gQKDsZHclWsf4Ec4f40fP17nLWAAv1auXJmn/nJiG4dwW1m9erXOaeDdAw88oL766isx7e9t+xDMFQWJhW37LjEQUIO8BB5jx47V7aJp06aR7SIqZ0iZcfYUdiFh98Ybb6j+/ftnXdhdvnxZNWjQQHXs2FEdO3ZMx+7kyZNqw4YNORV2QfHUqlUrtWfPHpXOD1sN8uzZs6pWrVrq8OHDPnc//vhjdfr0aX0t6Jv/CxafuNEIgzY2b96s/UFsPv/8czVmzJhECTs8YCxevFh32Oi48XZ48KEDxzaFXRAb4caVK1d0KM6dO6fKly8fDIs+tsGNVHERg+vWrVNdu3aVU39vw74UFvYD19PVPypJZ1vYvfnmm2r+/PmaDy+99JIWWNniBnAI5y/w4csvv9TQIYegIzNttuITjg34CaGfSx+i8tdnn32mq/63v/1Ni+1c4iA57OjRozpGsD179mz9EBj2w3UssmXfBQaCbZiXBWkXUTlDyoyzp7ALCTskw6effjrrwm758uVqwoQJatmyZWrixIl+7NavX59TYYcRCGzosDAaIiIzlR+2GuTChQvViBEj/LoHD8INJHjPln2Tjccff1xt2rRJmxs9enTihJ101hihwROqnMveprCL4gbAgfg3JSQbsUkXF9j/8MMP1bhx44K00Mc27Euh8EMwkGuyj6q/CRN8J9vCTuKPPUZyMVoQvIZjW9xAfaLyF+59+umnmpuCVXBvKz7B2IRzV658SJW/4MPXX3+tMIJq2mziEHwAg61gDsP5W2+9pV5++eV8btj0QdpJJrGwad81BgJukJdyTfZR7SIqZ8j34uwp7BwJu27dumkRdfHiRT1UK8FLJajwO7YaA8oCCWUqFn9nq3v37uKGSuWHLR8mTZqk5syZ49sMHsC3cGOV+7bsm2wMHTpULV26VJtKorDDiHKVKlXUrbfequBrtjrvKG5cvXpV87V06dJq7ty5EhJ/byM2qeKCKT5McZUtW1Zt27bNtysHNuxLWUEMIJQ2btyo0tU/KknnSthh1A5tGUsassUN4BOVv4APpv7Wrl0rMObZ24pPMDbh3JUrH1LlL1S6b9++at68eXnqLyc2cQjnyWAOw+wHbMlIptjH3qYPUf1IqljYtO8aA8E1yEvJGbiXCoeonCFlxtlT2DkQdhjCL1OmjF5b1q5dO/0HM2W9UCpBhQDbagwoK9yBDhw4UC1ZskTzKJUftnzAE++wYcOMvA37FvwlW/ZNNnr06FEkRuwwvQJxla3OO4xNkBuIBdbsVKhQQWGqIbjZiE3YNsoPxgXn27dvV/Xr1w+a1sc27EuhJj/kXlT9o5J0LoQd1jyi/kOGDMnHC5sjdqnyV+/evfXUn+AU3tuKTzg2QX7myodU+Qtrq37zm9+Eq++fZwsHGJC2graJKXG0FdOWLR8KGots2XeBgeAb5qVcT8XJqJwh342zp7BzIOwwND5r1iw/XlgvhGSM7U9/+pMCCaI2W40B5YOEMoSOc4xQYe0WtlR+2PJB1qgcOnRI28THmjVr9DHW3QV983/BorgN13/r1q36P0pg/RA24PH+++8HTfvHpsaY7c4bHYkIubffflu/YCLnsrc13RbGRriBJ09s33zzjX6JQ7ASYGxwI2xb4hIUkfv379fTjWJX9jbsS1lhPzDNlK7+Jl6gvGxzAw9kGMns16+fzxHhhOxtcSMqf73wwgvGtVyCJ/a24hOOjfAzlz5E5a8ZM2aonj17Bqud7zhbOEhbgW9Yd4iXKKK2bPlQ0Fhky74LDATjMC9xffDgwSnbRVTOkDLj7CnsQsIOjeHOO+/Ub6diRECSouxtJEfYOHjwoB+vS5cuqapVq6rhw4ere++9V08zYWj5woUL/u/Iga3GgPJAwlKlSukOEm+04UUOvBGKdW+p/LDpA0YqMWqJjg9vxU6fPl2LS7xVdtttt+np2KDwg9+27Ev9sVYNnSLqv3fvXg01GhteTsAbhr/+9a8Ffn9vaozZ7ryxFhM8qVGjht5n+63YMDewIBtvPQIvxAptIrzZiI0pLliQ/9FHH2n7mOKAD3gjMbzZsC9lwo/gFM+JEyfS1t/EC5SXbW48//zz6qabbtJiG29N401zyVmyt5G7UBdT/rr++uvVjTfeqHMJ6oqpWtNmKz7CEXBBctcnn3ySUx9Qv3D+wtpXYIGRMuAA/65du5YPCts4BHMY2gre4MaIPuzjB+u5w5ttHzKNhW37LjEQbMM54y9/+UtaTkblDCkzzp7CLiTsJAlG7W0lxzjBwndsNYa49pPgQxIwMDXGbHfeUZwMXv++89M1N0y8QJshN7yM4zo+Schf9IFc8BDwPqNyRvB3Mj2msKOwy5QzzsVlEjoHU2Nk5+3+wcM1N0y8QAMjN7w04zo+8II+JCMWjIMXh6ic4d2N90lhR2GXMXNcN0jX9gGYqTGy83bfabrmhokX4Au54aUZ1/GBF/QhGbFgHLw4ROUM7268Two7CruMmeO6Qbq2D8BMjZGdt/tO0zU3TLwAX8gNL824jg+8oA/JiAXj4MUhKmd4d+N9UthR2GXMHNcN0rV9AGZqjOy83Xearrlh4gX4Qm54acZ1fOAFfUhGLBgHLw5ROcO7G++Two7CLmPmuG6Qru0DMFNjZOftvtN0zQ0TL8AXcsNLM67jAy/oQzJiwTh4cYjKGd7deJ8UdhR2GTPHdYN0bR+AmRojO2/3naZrbph4Ab6QG16acR0feEEfkhELxsGLQ1TO8O7G+6Swo7DLmDmuG6Rr+wDM1BjZebvvNF1zw8QL8IXc8NKM6/jAC/qQjFgwDl4conKGdzfeZ5ESdvifgPijsS5/ypUrpxMDSOni5+6773ZiN1hX1z64tg8sateuna/FkZ8/1/8eL8iVXB+75oaJFyAKueHlS9fxAR/pQzJiwTh4cYjKGfk6mAwuFClhx6dePm2C20jOrjfTUxb56T42rrlh4gW4Sm54LdZ1fOAFfUhGLBgHLw5ROcO7G++Two5TsRkzx3WDdG0fgJkaIztv952ma26YeAG+kBtemnEdH3hBH5IRC8bBi0NUzvDuxvuksKOwy5g5rhuka/sAzNQY2Xm77zRdc8PEC/CF3PDSjOv4wAv6kIxYMA5eHKJyhnc33ieFHYVdxsxx3SBd2wdgpsbIztt9p+maGyZegC/khpdmXMcHXtCHZMSCcfDiEJUzvLvxPinsAsJu8uTJqnLlyqpatWqqZs2aaubMmSr4D9ZxbPOfrPfp00cnfITu+PHjqnnz5qpZs2aqSZMmaseOHcaI2mwMR44cUSVLllQtWrRQjRo1UgMGDCiQHzZ92Llzp2rfvr3G4b777lPjx49Xbdq00RjAp5UrV+bDwZZ9qX/Lli1Vw4YNVadOndS+ffvU6tWr9Tk64wceeEB99dVX+XwwNcZcdN4TJ07UL27UqFFD+5stfgo2QW4AhEOHDmlR26pVK9WzZ898uNiIjdgOxwXGEBvYxr1p06Zlxb4UKn4AA/xMmTIlbf1NvEB5ueDGu+++q/NX9erVVaVKldSoUaPy5C+buQt1CuYvnLdu3VrXs169emrRokUCY569DX6gwGBsJHfl2gfYC+evqVOnqieeeMLHwcRRfM82DuG2cuDAAdW4cWPtB/qTXbt2wWyezbYP4VyRjg+27bvEQIAN8lJyRjoconKGlBlnT2EXEHZvvvmmmj9/vk6GL730khZZ2eo4L1++rBo0aKA6duyojh07ps6dO6e+/PJLHcM9e/aopk2bGuNpqzGgcJAQIko2dJhIAOn8sOXD2bNnVa1atdThw4fFBfXxxx+rzz77TJ//7W9/0x2Vf/MfB7bsh+u/efNm7c/Ro0cV4oNt9uzZuoMM+2BqjNnuvBcuXKj9E46GuWnzwSOMDbixe/du1aFDB3X69OkwHP65jdiEbUtcPv/8c/Xggw+qK1eu+PbCBzbsS5lhP3A9Xf1NvMD3ss0N4cLixYt1/sJDKf56gFy3yQ3UJ5y/cE3iglxWvnx5XMq32YpPODbgJ/JmLn2Iyl/iw9WrV7XA/vrrr3OGg7QVyV8wvG7dOtW1a9ec+VDQWGSLCy4wEHDDvMR14UNUu4jKGVJmnD2FXUDYBZMgnnahuIPXbCbH5cuXqwkTJqhly5YpjMIEt08//VSPSASvybGtxoDyQEI8TWAD+fCEB5EpW5QftnyAUBkxYoSYy7dHQsToaXizZd/UCB9//HG1adMm3+Rbb72lXn75Zf9cDkyNMdud9+jRo1X9+vXVvffeq0eU4Ve2+BnmBkZTIXhRx27duuk9uBvebMTGFJcePXqoMWPGqF/+8peqXbt2epQXQjO82bAvZQYxwDU8cKSrv4kX+G62uRHmAWYfMIIRvG5zxC5V/jp58qRxqQJwsBWfYGxMuSsXPqTLX+fPn9f59dq1a0Ipf28Th+DDOQyEc9iHH36oxo0b59uWA5s+pOpHomJh075rDATTIC/lmuyjcIjKGfK9OHsKO4Oww4gI/u4UhtGDiRHHtpIjOkeIqIsXL+opWAkenvIw/bd27Vq5lGdvqzGgUJBQpmJR3+7du/u2Uvlhy4dJkyapOXPm+DbDB3379lXz5s0LX7baOYQTwtChQ9XSpUu1TYxMoa4yghl0xNQYs915Dxw4UP3kJz/Ro8pvvPGGKlOmTNb4aeIGnoR//OMfq1OnTukRZkwHnzlzJgiLldjAtikuEHYQmN9++62eAsNxeLPFTZQbxAAPeRs2bEhbfxMvUFa2uSF5CryoUqWKuvXWWxW4LNdt5i7Ux5S/kDOwnKR06dJq7ty54dDoc1vxCcYmmLty6UOq/IURMrRVPIyZNps4mNoKchiW82CaumzZsmrbtm353LDpg6kfSRcLm/ZdYyDgBnmJnLFx40aVDoeonCFlxtlT2IWEHdaGgHBDhgzJkxQlQdoQdhjCR6eMtWUYfcAfapQ1EL1799bTf1HBtNUYUH64A4VwWLJkiTadyg9bPuCJd9iwYcaqjh07Vv3mN78x3rNlP1x/GMPIEEbsMGyO6fDt27cbfTA1xmx33sOHD8+zPAAdODpQ4abNzjuMDbgBYRVcIoCRgTA+NmITti1xwQjlyJEj/XhgHVl4s2Ffygz7sX///rT1N/EC5WWbG0EO4BhLCCCwgtdt5C7UJVX+wn2sSa1QoYJuQ4Kl7G3FJxybYO7KlQ+p8hd8+Oabb1TdunXV3r17pfr+Pls4wIDkMDGGNoqR/vCWLR8KGots2XeBgWAb5qVcxz6qXUTljOB3Mz2msAsIO4gaPOH069cvT0K0nRwxvTdr1iw/VlgDASH5wgsvGNdz+b9ocSoDZYKEMoSOczxdYm1OOj9sNUhZo4IF+bKtWbNGzZgxw7gwX37Hlv1w/bdu3apfTIBfWCeChfpRm6kxZrvzxuglxAzWUWGh/B133KGFuG1+os5hbMCN1157TU8DY4oc01+YEv7iiy/yQGQjNmHbEhcsCMcaN2yYFsYi/fBmw76UGfYDT96oc6r6m3iB8rLNDXAAQkO48Pbbb6u77rrLP8d1W8LOlL8GDRqkRyZQVwgavMARXOclmNqKTzg2krsQo1z5EJW/pN7wBS/Dwdfwli0cpK3gwVQ2PJBg9Ci8ZcuHgsYiW/ZdYCDYhnmJPJmOk1E5Q8qMs6ewCwi7559/Xt100006KSExYURNEqXsbSRHiIaDBw/68bp06ZK6/vrr1Y033qgbIDoBTHWYNluNAWWDhKVKldI2MYWCFzk++eSTtH7Y9AEjlRi1RJ0xtYa1QcACI0O4hoQUXqNiy77UH2uRIOhRfyzAxtuPGO2AbfxgLWR4MzXGXHTezz77rJ5qg8AzjSrb4GcUN7Bm6I9//KN+YxlvEZum0W3ExhQXGfV45ZVXdGeJ9aDBtZASHxv2pSz4EZ7iwRIJvGUYVX8TL1BeLriBtbpVq1ZVmCLHPltvxZryF/iIHIL2gnaMfGnabMVHOAJ7krsg9iGk0J5z4QPqF85fyB2St+DDq6++aoLBypIFFCw4hHPYRx99pLEAPriHt3fDm+tY2LbvEgPBNpwzTpw4kZaTUTlDyoyzp7ALCDsRb6n2tjrOOMHCd2w1hrj2k+BDEjAwNcZcdN6puIl733d+uuaGiRdoM+SGl3FcxycJ+Ys+kAseAt5nVM4I/k6mxxR2FHaZcsa5uExC52BqjOy83T94uOaGiRdoYOSGl2Zcxwde0IdkxIJx8OIQlTO8u/E+Kewo7DJmjusG6do+ADM1Rnbe7jtN19ww8QJ8ITe8NOM6PvCCPiQjFoyDF4eonOHdjfdJYUdhlzFzXDdI1/YBmKkxsvN232m65oaJF+ALueGlGdfxgRf0IRmxYBy8OETlDO9uvE8KOwq7jJnjukG6tg/ATI2Rnbf7TtM1N0y8AF/IDS/NuI4PvKAPyYgF4+DFISpneHfjfVLYUdhlzBzXDdK1fQBmaozsvN13mq65YeIF+EJueGnGdXzgBX1IRiwYBy8OUTnDuxvvk8KOwi5j5rhukK7tAzBTY2Tn7b7TdM0NEy/AF3LDSzOu4wMv6EMyYsE4eHGIyhne3XifFHYUdhkzx3WDdG0fgJkaIztv952ma26YeAG+kBtemnEdH3hBH5IRC8bBi0NUzvDuxvssUsIO/xPwpz/9qdOfcuXK6cQAUrr4wb8fc2E3aNO1D67tA4vatWvna3Hk58/1v8cLciXXx665YeIFiEJuePnSdXzAR/qQjFgwDl4conJGvg4mgwtFStjxqZdPm+A2krPrzfSURX66j41rbph4Aa6SG16LdR0feEEfkhELxsGLQ1TO8O7G+6Sw41Rsxsxx3SBd2wdgpsbIztt9p+maGyZegC/khpdmXMcHXtCHZMSCcfDiEJUzvLvxPinsKOwyZo7rBunaPgAzNUZ23u47TdfcMPECfCE3vDTjOj7wgj4kIxaMgxeHqJzh3Y33SWFHYZcxc1w3SNf2AZipMbLzdt9puuaGiRfgC7nhpRnX8YEX9CEZsWAcvDhE5QzvbrxPCruAsHv33XdV5cqVVfXq1VWlSpXUqFGjVPifrtv8J+t9+vTRCV9C17p1a31er149tWjRIrmcZ2+zMRw5ckSVLFlStWjRQjVq1EgNGDBA20rnh00fdu7cqdq3b6/rfd9996mpU6eqJ554wsdh2rRpeeqPE1v2pf4tW7ZUDRs2VJ06dVL79u1TBw4cUI0bN9Y+NGnSRO3atSufD6bGmO3OG9iAm/jBYvxbbrkla/wUbILc+OqrrzQmuIa63nDDDerMmTN5sLERG7Edjsu6det8+3Xq1FF169bNY9smN1CW+IH64mfSpEm+/aj6m3iBsrLNDeSpiRMn6pd6atSooblcmNyFupcoUUKtWLHCx7hixYr+cfgAC+EHDRrkX0Z9T5w44Z/LQSb8oA8eaknAQeJn2gfbSbAfOXTokH4AbtWqlerZs2e+r2bChXxfDlwQ++F8gV9ZvXq1gn3cy2ZfIu6IL5IzpkyZotLhEJUzpMw4ewq7gLBDIly8eLHuLGfOnKnfvi1MckwVkMuXL6sGDRqojh07qmPHjulfvXLlit6fO3dOlS9f3vh1W40BhYOEbdq08e2gAezZs0el88OWD2fPnlW1atVShw8f9n34+OOPfftXr17VAvvrr7/27+PAlv1w/Tdv3qz9QWxkg5jo2rWrnPp7U2PMRectfEQn2rZt26wKOxM3BIBt27ZpQS7nsrcRm4LEZfLkyVpoiV3Z27AvZYX9kOvYR9XfxAv8fra5sXDhQs3d+fPn5+OEcCaTh1LUvWrVqvqBT+qNh92oDaKvfv366vTp0/pX0LHZEHb0wcvTrnGIijuuh9sJ+pHdu3erDh06+Hwwfd9WWw3blzz++eefqwcffNDvT7Lpg5Qd9gXX0+EQlTOkzDh7CruQsJMkiI4DKl/OZZ9JckwVkOXLl6sJEyaoZcuW6Sft4O+ePHnSONWH37HVGFAWSIjROWwQcxilEpGJa1F+2PIBndGIESO0fdPH+fPntX/Xrl3Lc9uWfVMjfPzxx9WmTZt8ex9++KEaN26cfy4HpsaY7c5bOIg9RqvGjh2bNX6m4wZGdxcsWCBw+HsbsSlIXNAOg1wVB2zYl7KCGMg12UfV38QLfCfb3Bg9erQWVvfee6+qWbOmevnllwvFDal7//79/VE7iLf169er5s2bq2bNmqnOnTurS5cuaUhwb+nSpeq5557T56ivDWGH/EQfvDztEgfhvWkvXME99COYeTl69KjmfLdu3fQe/Vx4s9VWTfmiR48easyYMeqXv/ylateunX4IhdgMb7Z8kHKDWODaZ599lhaHqJwhZcbZU9iFhN0bb7yhqlSpom699VY1dOjQQiXHVAEB4dExXbx4USdK/C5GqJA0S5curebOnWv8uk0igoQyFYupve7du2ub6fyw5QOmtubMmWOsJ0bJfvKTnyh0WOHNln1TQkDM0UHt2LFDj1aULVtWj86EfTA1xmx33iLs3n77bXXHHXfk4ybu23rwiOIGcPj2229VhQoV1N///vcwLFYePFLFBQYxNQ6sTZstbqDsIAYYgdq4caM2mar+Jl7gS9nmxsCBA3V7wYgdcliZMmXy8SMTbkgMIM6wTAEbxNuFCxf0MT5efPFF9d577+lzGc3DqN2pU6d0fW0IO4wa0wdvZsUlDn7QDQfBdiL9CEbNfvzjH2suYAYKywOysWwD7ghXg64hj0PYQWSivWLJD47Dm818Ib5In4qcsWHDhrQ4ROWMsK+ZnFPYhYSddJ6zZ8/WAkvOZZ9JcowKBKYgkXixtgxPE1ifElzHhbVM6DjRIMKbTSKGGwQ6hyVLlvgmo/yw5QNG7IYNG+bbCx988803emRq7969eW7Zsh+uP4zgSS84Yrd9+3Y9EpLHAccvT/Tu3Vt16dIlX8dtW9gFp2KD3PjDH/6gMLJp2mzEJl1chgwZkrMHnyAGUt9U9Y9K0tkWdsOHD9ejaJKn8HCKh0M5z5QbwRg888wzCjMMEG+YgsYSANQH04OYdcAmwu6DDz5Q4IqtqVjBnz54S2Zc4SDcN+2DXMF9xB+iqmnTpv6vI18glwY3G7kC5YXt4xryOEatR44c6ZsUjvoXLM+AmXzZv39/WhyickbQz0yPKewCwg5CQxIhRkXuuusu/1yu2xB2b731lpo1a5YfK6zjwpopjJRhg6DBAvngWi/5ZVuNAeWhQchULM4xOoa1hen8sOWDrLHD4lLZ1qxZ49cbfmDKB34GN1v2w/XfunWrXnweFNRomOikwpupMWa78xYO4gWf6dOn5+Nmpp13uE7B8zA2wg38zmOPPaZWrVoV/HX/2EZswrYlLmgPmJbHyBG4Y9ps2Jdyw37I9VT1N/EC38s2N+bNm6fFFdYI4yUwjOjiIU04kyk3gnU/fvy4Xg8M3DH9umXLFg0FBPb48eP1Me7JhlE7iD4bI3aSn+iDt2TGFQ4SW9M+yBXcR6547bXXFJYFYH00pmdx/MUXX+T5uq22GrYv+QIvwWF9GzZMDeOlxPBmywcpN+wL+rB0OETlDCkzzp7CLiDs8FYZEhKGjbHP1luxWFx68OBBP15Yp4KnCUzDQkRgyBiJ2LTZJCJIWKpUKW0TtvEiBxoAxBTWF0b5YdMHjFRi1BIdH+zhLSIcCw6vvvpqPhhs2Zf6o654mwv1x8sjH330kcYAPuAehvHDm6kxZrvzBieiXuqRDtzGgwfqKtgAA+EG1jwiUePf+on4D+NiIzZiOxwX2MJD0MMPPxw265/bsC+FwQ8ZMZJr6epv4gW+mwtuPPvss3oZCXIJRJdwQvaZcCNcd4wUoVwIx2rVqukR4169evnCLjgaglG76667zoqwC+JPHzwWusBB+G/aS3sN54o//vGPCn9VAFP5piU3ttqq2A/mC5nleeWVV3Qux/rx4EyM1MOWD1JeuN3g+tq1a1PiEJUzpMw4ewq7gLCTBJhqn0lyjBOQdN+xTcR09kz3Xfvg2j4wMTXGXHTeqbiJe993frrmhokX4Au54WUS1/GBF/QhGbFgHLw4ROUM7268Two7CruMmeO6Qbq2D8BMjZGdt/tO0zU3TLwAX8gNL824jg+8oA/JiAXj4MUhKmd4d+N9UthR2GXMHNcN0rV9AGZqjOy83Xearrlh4gX4Qm54acZ1fOAFfUhGLBgHLw5ROcO7G++Two7CLmPmuG6Qru0DMFNjZOftvtN0zQ0TL8AXcsNLM67jAy/oQzJiwTh4cYjKGd7deJ8UdhR2GTPHdYN0bR+AmRojO2/3naZrbph4Ab6QG16acR0feEEfkhELmVe1AwAACSRJREFUxsGLQ1TO8O7G+6Swo7DLmDmuG6Rr+wDM1BjZebvvNF1zw8QL8IXc8NKM6/jAC/qQjFgwDl4conKGdzfeJ4UdhV3GzHHdIF3bB2CmxsjO232n6ZobJl6AL+SGl2Zcxwde0IdkxIJx8OIQlTO8u/E+Kewo7DJmjusG6do+ADM1Rnbe7jtN19ww8QJ8ITe8NOM6PvCCPiQjFoyDF4eonOHdjfdZpIQd/jApEqTLH/yDbQTC1U/t2rWd2ZY6u/bBtX3gYPqXWuTnL/R/7hCeuNi75oaJF0jN+B+a+MPOLn/KlSunRQ06VFc/+PeJrmyLXfrgxd81Dq7tgw9J8AE5y/ZWpISd7cqzPCJABIhALhDgiJ2HMjpT1xt9SEYsGAcvDngAtr1R2NlGlOURASJABEIIUNh5gLAzJw7SNMgFDwkKO2EE90SACBCBIoQAhZ0XLHbmxEGaLbngIUFhJ4zgnggQASJQhBCgsPOCxc6cOEizJRc8JCjshBHcEwEiQASKEAK5EHZTp05V1atX1z94WeOWW25Rvw+89X/PPfcUGLEjR46oEiVKqBUrVvjfqVixon8cPsAi9EGDBvmXUd8TJ07453KQSWdOHzzUkoCDxM+0h38lS5ZULVq0UI0aNVIDBgxQX331lX7JEdfAhRtuuEGdOXMmz9cz4UKeL4ZOxH7Lli1Vw4YNVadOndS+ffvUunXrfB/q1Kmj6tatG/qm/TekxRfUGz+TJk3yfYjCgcIuX1h4gQgQASKQfARyIeyCIg4iq23btoUSdlWrVtUdtaBbqVIlOcy3h+irX7++On36tL6HTs2GsKMPSkEsuMYhX8ADF+BfmzZt/CutWrVSe/bs8c+3bdum2rdv75/LgU1hF7S/efNmVatWLXX58mUxpSZPnqxFln/hHwe2fJByw1jIdeyjcKCwC6LEYyJABIhAEUEg18IOoxNjx44tlLBr3bq16t+/vz9qB/G2fv161bx5c9WsWTPVuXNndenSJR0B3Fu6dKl67rnn9Dnqa0PY0QdP2LnGIVUzg5iBf9iuXLmiGjdurI4dO+Z/BSN4CxYs8M/lwJaoMokp/NmhTZs2iSmF0eqgT3LDlg9SXhALuSb7KBwo7AQh7okAESACRQiBXAq7t99+W91xxx15RB1G8zKdisUoCMQZprewQbxduHDBR/3FF19U7733nj6X0TyM2p06dUpPP9kQdvTBE3aucfCDbjiAmJGpWCwB6N69u/9b3377rapQoYL6+9//7l+TA1uiyiTshg4dqh80YGvXrl2aj2I3uLflg5QZxAKj1hs3btS3UuFAYSfocU8EiAARKEII5FLY9e7dW3Xp0sWKsAPEzzzzjFq+fLmCeMN0EqZ4UR9MD06YMEFHQYTdBx98oAYOHKjXF9kSdvThu6lOV7FI1dTCwgrxX7Jkif7KH/7wB+Mfc8dNW6IqbB9l9+jRwx+xGzJkiJo7d66xCrZ8kMJNvuBeKhwo7AQ97okAESACRQiBXAq7ypUrq+nTpxda2Mn02vHjx1WDBg30iB2mX7ds2aKRR4c5fvx4fYzRPNkwagfRZ0PY0YfvpmKBr6tYSGxNe4gZiRPujx49Ws2cOVP/6mOPPaZWrVpl+ppVYRe0v3XrVv0fcLDG7tq1a5q3Z8+ezaoPUngYC7meCgcKO0GJeyJABIhAEUIgV8IOHSr+bVnwRQo5jjMVKxBjpAijcosXL1bVqlXTI4K9evXyhZ2M2OH3MWp33XXXWRF2wUXx9MGLhgschAemPcRMqVKl9Cgt1l927NhRnT9/Xn399deai1evXjV9zaqwg328FYu3cmFfXt7Am7H4V49RWy5G7NLhQGEXFR1eJwJEgAgkGIFcCTsRcaZ9JsIuW1Da7kjj+EkfPNRc4+DaPlBIgg8UdnFaMb9DBIgAEXCMAIWdF4AkdKT0IRmxYBy8OFDYOU7ONE8EiAARiIMAhZ2HGjtz4iDth1zwkKCwE0ZwTwSIABEoQghQ2HnBYmdOHKTZkgseEhR2wgjuiQARIAJFCAEKOy9Y7MyJgzRbcsFDgsJOGME9ESACRKAIIUBh5wWLnTlxkGZLLnhIUNgJI7gnAkSACBQhBCjsvGCxMycO0mzJBQ8JCjthBPdEgAgQgSKEAIWdFyx25sRBmi254CFBYSeM4J4IEAEiUIQQwB9Jhbhz+VOzZk2FTsTlT+3atZ3aR93pg8cB1zi4tp8ULjz++OPWM9kPrJfIAokAESACRIAIEAEiQAScIEBh5wR2GiUCRIAIEAEiQASIgH0EKOzsY8oSiQARIAJEgAgQASLgBAEKOyew0ygRIAJEgAgQASJABOwjQGFnH1OWSASIABEgAkSACBABJwhQ2DmBnUaJABEgAkSACBABImAfAQo7+5iyRCJABIgAESACRIAIOEGAws4J7DRKBIgAESACRIAIEAH7CFDY2ceUJRIBIkAEiAARIAJEwAkCFHZOYKdRIkAEiAARIAJEgAjYR4DCzj6mLJEIEAEiQASIABEgAk4QoLBzAjuNEgEiQASIABEgAkTAPgIUdvYxZYlEgAgQASJABIgAEXCCAIWdE9hplAgQASJABIgAESAC9hGgsLOPKUskAkSACBABIkAEiIATBCjsnMBOo0SACBABIkAEiAARsI8AhZ19TFkiESACRIAIEAEiQAScIEBh5wR2GiUCRIAIEAEiQASIgH0EKOzsY8oSiQARIAJEgAgQASLgBAEKOyew0ygRIAJEgAgQASJABOwjQGFnH1OWSASIABEgAkSACBABJwhQ2DmBnUaJABEgAkSACBABImAfAQo7+5iyRCJABIgAESACRIAIOEGAws4J7DRKBIgAESACRIAIEAH7CFDY2ceUJRIBIkAEiAARIAJEwAkCFHZOYKdRIkAEiAARIAJEgAjYR4DCzj6mLJEIEAEiQASIABEgAk4QoLBzAjuNEgEiQASIABEgAkTAPgIUdvYxZYlEgAgQASJABIgAEXCCAIWdE9hplAgQASJABIgAESAC9hGgsLOPKUskAkSACBABIkAEiIATBCjsnMBOo0SACBABIkAEiAARsI8AhZ19TFkiESACRIAIEAEiQAScIEBh5wR2GiUCRIAIEAEiQASIgH0E/h9kESMOz/bm0QAAAABJRU5ErkJggg==)"
   ]
  },
  {
   "cell_type": "markdown",
   "metadata": {
    "id": "thWDTvjgImMi"
   },
   "source": [
    "join：加上join参数的属性，如果为'inner'得到的是两表的交集，如果是outer，得到的是两表的并集。\n",
    "```\n",
    " result = pd.concat([df1, df4], axis=1, join='inner')\n",
    "```"
   ]
  },
  {
   "cell_type": "markdown",
   "metadata": {
    "id": "x7d64Y0iIw0R"
   },
   "source": [
    "![image.png](data:image/png;base64,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)"
   ]
  },
  {
   "cell_type": "markdown",
   "metadata": {
    "id": "z6OMfG0NJIsa"
   },
   "source": [
    "join_axes：指定根据那个轴来对齐数据 \n",
    "```\n",
    "result = pd.concat([df1, df4], axis=1, join_axes=[df1.index])\n",
    "\n",
    "```"
   ]
  },
  {
   "cell_type": "markdown",
   "metadata": {
    "id": "09i9ooxBJPLX"
   },
   "source": [
    "![image.png](data:image/png;base64,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)"
   ]
  },
  {
   "cell_type": "markdown",
   "metadata": {
    "id": "rR0ZScOaJScz"
   },
   "source": [
    "[教程](https://www.jb51.net/article/164905.htm)"
   ]
  },
  {
   "cell_type": "code",
   "execution_count": null,
   "metadata": {
    "id": "qPqMPnHSIt5m"
   },
   "outputs": [],
   "source": []
  },
  {
   "cell_type": "code",
   "execution_count": null,
   "metadata": {
    "id": "htwQNmqaH6ym"
   },
   "outputs": [],
   "source": []
  },
  {
   "cell_type": "markdown",
   "metadata": {
    "id": "NTsuC84BD3CU"
   },
   "source": [
    "##### 合并merge"
   ]
  },
  {
   "cell_type": "markdown",
   "metadata": {
    "id": "aE5rcascD-WE"
   },
   "source": [
    "```pd.merge(left, right, how='inner', on=None, left_on=None, right_on=None,  \n",
    "         left_index=False, right_index=False, sort=True,  \n",
    "         suffixes=('_x', '_y'), copy=True, indicator=False)\n",
    "         ```"
   ]
  },
  {
   "cell_type": "code",
   "execution_count": null,
   "metadata": {
    "colab": {
     "base_uri": "https://localhost:8080/"
    },
    "executionInfo": {
     "elapsed": 4006,
     "status": "ok",
     "timestamp": 1615375800377,
     "user": {
      "displayName": "黄不盈",
      "photoUrl": "",
      "userId": "09846410536788032197"
     },
     "user_tz": -480
    },
    "id": "AvkqORtDD5sk",
    "outputId": "8ff3c49f-60ed-4181-9b73-de461169b6a4"
   },
   "outputs": [
    {
     "name": "stdout",
     "output_type": "stream",
     "text": [
      "  key   A   B   C   D\n",
      "0  K0  A0  B0  C0  D0\n",
      "1  K1  A1  B1  C1  D1\n",
      "2  K2  A2  B2  C2  D2\n",
      "3  K3  A3  B3  C3  D3\n"
     ]
    }
   ],
   "source": [
    "df1 = pd.DataFrame({'key': ['K0', 'K1', 'K2', 'K3'],\n",
    "                     'A': ['A0', 'A1', 'A2', 'A3'],\n",
    "                     'B': ['B0', 'B1', 'B2', 'B3']})\n",
    "df2 = pd.DataFrame({'key': ['K0', 'K1', 'K2', 'K3'],\n",
    "                      'C': ['C0', 'C1', 'C2', 'C3'],\n",
    "                      'D': ['D0', 'D1', 'D2', 'D3']})\n",
    "print(pd.merge(df1, df2, on='key')) # 按key的顺序连接"
   ]
  },
  {
   "cell_type": "markdown",
   "metadata": {
    "id": "zBuNGDaiNIJf"
   },
   "source": [
    "多个链接键"
   ]
  },
  {
   "cell_type": "code",
   "execution_count": null,
   "metadata": {
    "colab": {
     "base_uri": "https://localhost:8080/"
    },
    "executionInfo": {
     "elapsed": 3987,
     "status": "ok",
     "timestamp": 1615375800379,
     "user": {
      "displayName": "黄不盈",
      "photoUrl": "",
      "userId": "09846410536788032197"
     },
     "user_tz": -480
    },
    "id": "sIz__4O9NJus",
    "outputId": "1c5d844a-9835-44a3-abf6-da058a0001cf"
   },
   "outputs": [
    {
     "name": "stdout",
     "output_type": "stream",
     "text": [
      "  key1 key2   A   B   C   D\n",
      "0   K0   K0  A0  B0  C0  D0\n",
      "1   K1   K0  A2  B2  C1  D1\n",
      "2   K1   K0  A2  B2  C2  D2\n"
     ]
    }
   ],
   "source": [
    "df3 = pd.DataFrame({'key1': ['K0', 'K0', 'K1', 'K2'],\n",
    "                    'key2': ['K0', 'K1', 'K0', 'K1'],\n",
    "                    'A': ['A0', 'A1', 'A2', 'A3'],\n",
    "                    'B': ['B0', 'B1', 'B2', 'B3']})\n",
    "df4 = pd.DataFrame({'key1': ['K0', 'K1', 'K1', 'K2'],\n",
    "                    'key2': ['K0', 'K0', 'K0', 'K0'],\n",
    "                    'C': ['C0', 'C1', 'C2', 'C3'],\n",
    "                    'D': ['D0', 'D1', 'D2', 'D3']})\n",
    "print(pd.merge(df3, df4, on=['key1','key2']))"
   ]
  },
  {
   "cell_type": "markdown",
   "metadata": {
    "id": "Fqb65EE1Ni2z"
   },
   "source": [
    "合并方式：交集，并集"
   ]
  },
  {
   "cell_type": "code",
   "execution_count": null,
   "metadata": {
    "colab": {
     "base_uri": "https://localhost:8080/"
    },
    "executionInfo": {
     "elapsed": 4953,
     "status": "ok",
     "timestamp": 1615375801380,
     "user": {
      "displayName": "黄不盈",
      "photoUrl": "",
      "userId": "09846410536788032197"
     },
     "user_tz": -480
    },
    "id": "bVBx95dcNlbT",
    "outputId": "737f780c-6ee9-4441-89cb-ae0cf4bf4ccb"
   },
   "outputs": [
    {
     "name": "stdout",
     "output_type": "stream",
     "text": [
      "  key1 key2   A   B   C   D\n",
      "0   K0   K0  A0  B0  C0  D0\n",
      "1   K1   K0  A2  B2  C1  D1\n",
      "2   K1   K0  A2  B2  C2  D2\n",
      "------\n",
      "  key1 key2    A    B    C    D\n",
      "0   K0   K0   A0   B0   C0   D0\n",
      "1   K0   K1   A1   B1  NaN  NaN\n",
      "2   K1   K0   A2   B2   C1   D1\n",
      "3   K1   K0   A2   B2   C2   D2\n",
      "4   K2   K1   A3   B3  NaN  NaN\n",
      "5   K2   K0  NaN  NaN   C3   D3\n",
      "------\n",
      "  key1 key2   A   B    C    D\n",
      "0   K0   K0  A0  B0   C0   D0\n",
      "1   K0   K1  A1  B1  NaN  NaN\n",
      "2   K1   K0  A2  B2   C1   D1\n",
      "3   K1   K0  A2  B2   C2   D2\n",
      "4   K2   K1  A3  B3  NaN  NaN\n",
      "------\n",
      "  key1 key2    A    B   C   D\n",
      "0   K0   K0   A0   B0  C0  D0\n",
      "1   K1   K0   A2   B2  C1  D1\n",
      "2   K1   K0   A2   B2  C2  D2\n",
      "3   K2   K0  NaN  NaN  C3  D3\n"
     ]
    }
   ],
   "source": [
    "# 参数how → 合并方式\n",
    "\n",
    "print(pd.merge(df3, df4,on=['key1','key2'], how = 'inner'))  \n",
    "print('------')\n",
    "# inner：默认，取交集\n",
    "\n",
    "print(pd.merge(df3, df4, on=['key1','key2'], how = 'outer'))  \n",
    "print('------')\n",
    "# outer：取并集，数据缺失范围NaN\n",
    "\n",
    "print(pd.merge(df3, df4, on=['key1','key2'], how = 'left'))  \n",
    "print('------')\n",
    "# left：按照df3为参考合并，数据缺失范围NaN\n",
    "\n",
    "print(pd.merge(df3, df4, on=['key1','key2'], how = 'right'))  \n",
    "# right：按照df4为参考合并，数据缺失范围NaN"
   ]
  },
  {
   "cell_type": "markdown",
   "metadata": {
    "id": "i1t2zX37Nzes"
   },
   "source": [
    "##### 合并join"
   ]
  },
  {
   "cell_type": "code",
   "execution_count": null,
   "metadata": {
    "colab": {
     "base_uri": "https://localhost:8080/"
    },
    "executionInfo": {
     "elapsed": 4921,
     "status": "ok",
     "timestamp": 1615375801382,
     "user": {
      "displayName": "黄不盈",
      "photoUrl": "",
      "userId": "09846410536788032197"
     },
     "user_tz": -480
    },
    "id": "fI3eXfKCN1O0",
    "outputId": "c5d92df0-0649-43ed-9e4c-4cf74216c68b"
   },
   "outputs": [
    {
     "name": "stdout",
     "output_type": "stream",
     "text": [
      "     A   B\n",
      "K0  A0  B0\n",
      "K1  A1  B1\n",
      "K2  A2  B2\n",
      "     C   D\n",
      "K0  C0  D0\n",
      "K2  C2  D2\n",
      "K3  C3  D3\n",
      "     A   B    C    D\n",
      "K0  A0  B0   C0   D0\n",
      "K1  A1  B1  NaN  NaN\n",
      "K2  A2  B2   C2   D2\n",
      "      A    B    C    D\n",
      "K0   A0   B0   C0   D0\n",
      "K1   A1   B1  NaN  NaN\n",
      "K2   A2   B2   C2   D2\n",
      "K3  NaN  NaN   C3   D3\n",
      "-----\n",
      "  key  data1\n",
      "0   b      1\n",
      "1   b      3\n",
      "2   a      2\n",
      "3   c      4\n",
      "4   a      5\n",
      "5   a      9\n",
      "6   b      7\n",
      "  key  date2\n",
      "0   a     11\n",
      "1   b      2\n",
      "2   d     33\n",
      "  key_1  data1 key_2  date2\n",
      "0     b      1     a     11\n",
      "1     b      3     b      2\n",
      "2     a      2     d     33\n",
      "  key  data1  date2\n",
      "0   b      1   11.0\n",
      "1   b      3    2.0\n",
      "2   a      2   33.0\n",
      "3   c      4    NaN\n",
      "4   a      5    NaN\n",
      "5   a      9    NaN\n",
      "6   b      7    NaN\n",
      "-----\n",
      "    A   B key\n",
      "0  A0  B0  K0\n",
      "1  A1  B1  K1\n",
      "2  A2  B2  K0\n",
      "3  A3  B3  K1\n",
      "     C   D\n",
      "K0  C0  D0\n",
      "K1  C1  D1\n",
      "    A   B key   C   D\n",
      "0  A0  B0  K0  C0  D0\n",
      "1  A1  B1  K1  C1  D1\n",
      "2  A2  B2  K0  C0  D0\n",
      "3  A3  B3  K1  C1  D1\n"
     ]
    }
   ],
   "source": [
    "# pd.join() → 直接通过索引链接\n",
    "\n",
    "left = pd.DataFrame({'A': ['A0', 'A1', 'A2'],\n",
    "                     'B': ['B0', 'B1', 'B2']},\n",
    "                    index=['K0', 'K1', 'K2'])\n",
    "right = pd.DataFrame({'C': ['C0', 'C2', 'C3'],\n",
    "                      'D': ['D0', 'D2', 'D3']},\n",
    "                     index=['K0', 'K2', 'K3'])\n",
    "print(left)\n",
    "print(right)\n",
    "print(left.join(right))\n",
    "print(left.join(right, how='outer'))  \n",
    "print('-----')\n",
    "# 等价于：pd.merge(left, right, left_index=True, right_index=True, how='outer')\n",
    "\n",
    "df1 = pd.DataFrame({'key':list('bbacaab'),\n",
    "                   'data1':[1,3,2,4,5,9,7]})\n",
    "df2 = pd.DataFrame({'key':list('abd'),\n",
    "                   'date2':[11,2,33]})\n",
    "print(df1)\n",
    "print(df2)\n",
    "print(pd.merge(df1, df2, left_index=True, right_index=True, suffixes=('_1', '_2')))  \n",
    "print(df1.join(df2['date2']))\n",
    "print('-----')\n",
    "# suffixes=('_x', '_y')默认\n",
    "\n",
    "left = pd.DataFrame({'A': ['A0', 'A1', 'A2', 'A3'],\n",
    "                     'B': ['B0', 'B1', 'B2', 'B3'],\n",
    "                     'key': ['K0', 'K1', 'K0', 'K1']})\n",
    "right = pd.DataFrame({'C': ['C0', 'C1'],\n",
    "                      'D': ['D0', 'D1']},\n",
    "                     index=['K0', 'K1'])\n",
    "print(left)\n",
    "print(right)\n",
    "print(left.join(right, on = 'key'))\n",
    "# 等价于pd.merge(left, right, left_on='key', right_index=True, how='left', sort=False);\n",
    "# left的‘key’和right的index"
   ]
  },
  {
   "cell_type": "markdown",
   "metadata": {
    "id": "ep8aCzmkM5bM"
   },
   "source": [
    "##### 重置索引 reset_index()"
   ]
  },
  {
   "cell_type": "code",
   "execution_count": null,
   "metadata": {
    "colab": {
     "base_uri": "https://localhost:8080/",
     "height": 197
    },
    "executionInfo": {
     "elapsed": 1697,
     "status": "ok",
     "timestamp": 1615548881428,
     "user": {
      "displayName": "黄不盈",
      "photoUrl": "",
      "userId": "09846410536788032197"
     },
     "user_tz": -480
    },
    "id": "uS-Eo71FM795",
    "outputId": "c2863941-2b50-4f27-86bd-96127342f895"
   },
   "outputs": [
    {
     "data": {
      "text/html": [
       "<div>\n",
       "<style scoped>\n",
       "    .dataframe tbody tr th:only-of-type {\n",
       "        vertical-align: middle;\n",
       "    }\n",
       "\n",
       "    .dataframe tbody tr th {\n",
       "        vertical-align: top;\n",
       "    }\n",
       "\n",
       "    .dataframe thead th {\n",
       "        text-align: right;\n",
       "    }\n",
       "</style>\n",
       "<table border=\"1\" class=\"dataframe\">\n",
       "  <thead>\n",
       "    <tr style=\"text-align: right;\">\n",
       "      <th></th>\n",
       "      <th>0</th>\n",
       "      <th>1</th>\n",
       "      <th>2</th>\n",
       "      <th>3</th>\n",
       "    </tr>\n",
       "  </thead>\n",
       "  <tbody>\n",
       "    <tr>\n",
       "      <th>1</th>\n",
       "      <td>0</td>\n",
       "      <td>1</td>\n",
       "      <td>2</td>\n",
       "      <td>3</td>\n",
       "    </tr>\n",
       "    <tr>\n",
       "      <th>3</th>\n",
       "      <td>4</td>\n",
       "      <td>5</td>\n",
       "      <td>6</td>\n",
       "      <td>7</td>\n",
       "    </tr>\n",
       "    <tr>\n",
       "      <th>4</th>\n",
       "      <td>8</td>\n",
       "      <td>9</td>\n",
       "      <td>10</td>\n",
       "      <td>11</td>\n",
       "    </tr>\n",
       "    <tr>\n",
       "      <th>6</th>\n",
       "      <td>12</td>\n",
       "      <td>13</td>\n",
       "      <td>14</td>\n",
       "      <td>15</td>\n",
       "    </tr>\n",
       "    <tr>\n",
       "      <th>8</th>\n",
       "      <td>16</td>\n",
       "      <td>17</td>\n",
       "      <td>18</td>\n",
       "      <td>19</td>\n",
       "    </tr>\n",
       "  </tbody>\n",
       "</table>\n",
       "</div>"
      ],
      "text/plain": [
       "    0   1   2   3\n",
       "1   0   1   2   3\n",
       "3   4   5   6   7\n",
       "4   8   9  10  11\n",
       "6  12  13  14  15\n",
       "8  16  17  18  19"
      ]
     },
     "execution_count": 13,
     "metadata": {
      "tags": []
     },
     "output_type": "execute_result"
    }
   ],
   "source": [
    "import pandas as pd\n",
    "import numpy as np\n",
    "df = pd.DataFrame(np.arange(20).reshape(5,4),index=[1,3,4,6,8])\n",
    "df"
   ]
  },
  {
   "cell_type": "markdown",
   "metadata": {
    "id": "7Aj_dm8qNDj8"
   },
   "source": [
    "在获得新的index，原来的index变成数据列，保留下来。"
   ]
  },
  {
   "cell_type": "code",
   "execution_count": null,
   "metadata": {
    "colab": {
     "base_uri": "https://localhost:8080/",
     "height": 197
    },
    "executionInfo": {
     "elapsed": 1171,
     "status": "ok",
     "timestamp": 1615548691297,
     "user": {
      "displayName": "黄不盈",
      "photoUrl": "",
      "userId": "09846410536788032197"
     },
     "user_tz": -480
    },
    "id": "RMMlsTebNKaO",
    "outputId": "ffb97a45-1aae-4882-eaa5-249300402238"
   },
   "outputs": [
    {
     "data": {
      "text/html": [
       "<div>\n",
       "<style scoped>\n",
       "    .dataframe tbody tr th:only-of-type {\n",
       "        vertical-align: middle;\n",
       "    }\n",
       "\n",
       "    .dataframe tbody tr th {\n",
       "        vertical-align: top;\n",
       "    }\n",
       "\n",
       "    .dataframe thead th {\n",
       "        text-align: right;\n",
       "    }\n",
       "</style>\n",
       "<table border=\"1\" class=\"dataframe\">\n",
       "  <thead>\n",
       "    <tr style=\"text-align: right;\">\n",
       "      <th></th>\n",
       "      <th>index</th>\n",
       "      <th>0</th>\n",
       "      <th>1</th>\n",
       "      <th>2</th>\n",
       "      <th>3</th>\n",
       "    </tr>\n",
       "  </thead>\n",
       "  <tbody>\n",
       "    <tr>\n",
       "      <th>0</th>\n",
       "      <td>1</td>\n",
       "      <td>0</td>\n",
       "      <td>1</td>\n",
       "      <td>2</td>\n",
       "      <td>3</td>\n",
       "    </tr>\n",
       "    <tr>\n",
       "      <th>1</th>\n",
       "      <td>3</td>\n",
       "      <td>4</td>\n",
       "      <td>5</td>\n",
       "      <td>6</td>\n",
       "      <td>7</td>\n",
       "    </tr>\n",
       "    <tr>\n",
       "      <th>2</th>\n",
       "      <td>4</td>\n",
       "      <td>8</td>\n",
       "      <td>9</td>\n",
       "      <td>10</td>\n",
       "      <td>11</td>\n",
       "    </tr>\n",
       "    <tr>\n",
       "      <th>3</th>\n",
       "      <td>6</td>\n",
       "      <td>12</td>\n",
       "      <td>13</td>\n",
       "      <td>14</td>\n",
       "      <td>15</td>\n",
       "    </tr>\n",
       "    <tr>\n",
       "      <th>4</th>\n",
       "      <td>8</td>\n",
       "      <td>16</td>\n",
       "      <td>17</td>\n",
       "      <td>18</td>\n",
       "      <td>19</td>\n",
       "    </tr>\n",
       "  </tbody>\n",
       "</table>\n",
       "</div>"
      ],
      "text/plain": [
       "   index   0   1   2   3\n",
       "0      1   0   1   2   3\n",
       "1      3   4   5   6   7\n",
       "2      4   8   9  10  11\n",
       "3      6  12  13  14  15\n",
       "4      8  16  17  18  19"
      ]
     },
     "execution_count": 7,
     "metadata": {
      "tags": []
     },
     "output_type": "execute_result"
    }
   ],
   "source": [
    "df.reset_index()"
   ]
  },
  {
   "cell_type": "markdown",
   "metadata": {
    "id": "0KuHqXgRNQCA"
   },
   "source": [
    "不想保留原来的index，使用参数 drop=True，默认 False。"
   ]
  },
  {
   "cell_type": "code",
   "execution_count": null,
   "metadata": {
    "colab": {
     "base_uri": "https://localhost:8080/",
     "height": 197
    },
    "executionInfo": {
     "elapsed": 1246,
     "status": "ok",
     "timestamp": 1615548857384,
     "user": {
      "displayName": "黄不盈",
      "photoUrl": "",
      "userId": "09846410536788032197"
     },
     "user_tz": -480
    },
    "id": "BRn8T0hPNO7w",
    "outputId": "c4a940d2-42f8-4151-f804-1777e1951290"
   },
   "outputs": [
    {
     "data": {
      "text/html": [
       "<div>\n",
       "<style scoped>\n",
       "    .dataframe tbody tr th:only-of-type {\n",
       "        vertical-align: middle;\n",
       "    }\n",
       "\n",
       "    .dataframe tbody tr th {\n",
       "        vertical-align: top;\n",
       "    }\n",
       "\n",
       "    .dataframe thead th {\n",
       "        text-align: right;\n",
       "    }\n",
       "</style>\n",
       "<table border=\"1\" class=\"dataframe\">\n",
       "  <thead>\n",
       "    <tr style=\"text-align: right;\">\n",
       "      <th></th>\n",
       "      <th>0</th>\n",
       "      <th>1</th>\n",
       "      <th>2</th>\n",
       "      <th>3</th>\n",
       "    </tr>\n",
       "  </thead>\n",
       "  <tbody>\n",
       "    <tr>\n",
       "      <th>0</th>\n",
       "      <td>0</td>\n",
       "      <td>1</td>\n",
       "      <td>2</td>\n",
       "      <td>3</td>\n",
       "    </tr>\n",
       "    <tr>\n",
       "      <th>1</th>\n",
       "      <td>4</td>\n",
       "      <td>5</td>\n",
       "      <td>6</td>\n",
       "      <td>7</td>\n",
       "    </tr>\n",
       "    <tr>\n",
       "      <th>2</th>\n",
       "      <td>8</td>\n",
       "      <td>9</td>\n",
       "      <td>10</td>\n",
       "      <td>11</td>\n",
       "    </tr>\n",
       "    <tr>\n",
       "      <th>3</th>\n",
       "      <td>12</td>\n",
       "      <td>13</td>\n",
       "      <td>14</td>\n",
       "      <td>15</td>\n",
       "    </tr>\n",
       "    <tr>\n",
       "      <th>4</th>\n",
       "      <td>16</td>\n",
       "      <td>17</td>\n",
       "      <td>18</td>\n",
       "      <td>19</td>\n",
       "    </tr>\n",
       "  </tbody>\n",
       "</table>\n",
       "</div>"
      ],
      "text/plain": [
       "    0   1   2   3\n",
       "0   0   1   2   3\n",
       "1   4   5   6   7\n",
       "2   8   9  10  11\n",
       "3  12  13  14  15\n",
       "4  16  17  18  19"
      ]
     },
     "execution_count": 12,
     "metadata": {
      "tags": []
     },
     "output_type": "execute_result"
    }
   ],
   "source": [
    "df.reset_index(drop=True,)"
   ]
  },
  {
   "cell_type": "markdown",
   "metadata": {
    "id": "30BE4bfVNi1F"
   },
   "source": [
    "inplace=True：不创建新的对象，直接对原始对象进行修改；\n",
    "<br>inplace=False：对数据进行修改，创建并返回新的对象承载其修改结果。"
   ]
  },
  {
   "cell_type": "code",
   "execution_count": null,
   "metadata": {
    "colab": {
     "base_uri": "https://localhost:8080/",
     "height": 197
    },
    "executionInfo": {
     "elapsed": 1068,
     "status": "ok",
     "timestamp": 1615548884237,
     "user": {
      "displayName": "黄不盈",
      "photoUrl": "",
      "userId": "09846410536788032197"
     },
     "user_tz": -480
    },
    "id": "rFHKX9vSNmjE",
    "outputId": "3283b518-79e7-4249-e55c-0737bc3e451e"
   },
   "outputs": [
    {
     "data": {
      "text/html": [
       "<div>\n",
       "<style scoped>\n",
       "    .dataframe tbody tr th:only-of-type {\n",
       "        vertical-align: middle;\n",
       "    }\n",
       "\n",
       "    .dataframe tbody tr th {\n",
       "        vertical-align: top;\n",
       "    }\n",
       "\n",
       "    .dataframe thead th {\n",
       "        text-align: right;\n",
       "    }\n",
       "</style>\n",
       "<table border=\"1\" class=\"dataframe\">\n",
       "  <thead>\n",
       "    <tr style=\"text-align: right;\">\n",
       "      <th></th>\n",
       "      <th>0</th>\n",
       "      <th>1</th>\n",
       "      <th>2</th>\n",
       "      <th>3</th>\n",
       "    </tr>\n",
       "  </thead>\n",
       "  <tbody>\n",
       "    <tr>\n",
       "      <th>0</th>\n",
       "      <td>0</td>\n",
       "      <td>1</td>\n",
       "      <td>2</td>\n",
       "      <td>3</td>\n",
       "    </tr>\n",
       "    <tr>\n",
       "      <th>1</th>\n",
       "      <td>4</td>\n",
       "      <td>5</td>\n",
       "      <td>6</td>\n",
       "      <td>7</td>\n",
       "    </tr>\n",
       "    <tr>\n",
       "      <th>2</th>\n",
       "      <td>8</td>\n",
       "      <td>9</td>\n",
       "      <td>10</td>\n",
       "      <td>11</td>\n",
       "    </tr>\n",
       "    <tr>\n",
       "      <th>3</th>\n",
       "      <td>12</td>\n",
       "      <td>13</td>\n",
       "      <td>14</td>\n",
       "      <td>15</td>\n",
       "    </tr>\n",
       "    <tr>\n",
       "      <th>4</th>\n",
       "      <td>16</td>\n",
       "      <td>17</td>\n",
       "      <td>18</td>\n",
       "      <td>19</td>\n",
       "    </tr>\n",
       "  </tbody>\n",
       "</table>\n",
       "</div>"
      ],
      "text/plain": [
       "    0   1   2   3\n",
       "0   0   1   2   3\n",
       "1   4   5   6   7\n",
       "2   8   9  10  11\n",
       "3  12  13  14  15\n",
       "4  16  17  18  19"
      ]
     },
     "execution_count": 14,
     "metadata": {
      "tags": []
     },
     "output_type": "execute_result"
    }
   ],
   "source": [
    "df.reset_index(drop=True,inplace=False)"
   ]
  },
  {
   "cell_type": "code",
   "execution_count": null,
   "metadata": {
    "colab": {
     "base_uri": "https://localhost:8080/",
     "height": 197
    },
    "executionInfo": {
     "elapsed": 1373,
     "status": "ok",
     "timestamp": 1615548890513,
     "user": {
      "displayName": "黄不盈",
      "photoUrl": "",
      "userId": "09846410536788032197"
     },
     "user_tz": -480
    },
    "id": "sSUeImexN6wG",
    "outputId": "8411b8e0-c747-4745-e8b8-feba0c88fbaa"
   },
   "outputs": [
    {
     "data": {
      "text/html": [
       "<div>\n",
       "<style scoped>\n",
       "    .dataframe tbody tr th:only-of-type {\n",
       "        vertical-align: middle;\n",
       "    }\n",
       "\n",
       "    .dataframe tbody tr th {\n",
       "        vertical-align: top;\n",
       "    }\n",
       "\n",
       "    .dataframe thead th {\n",
       "        text-align: right;\n",
       "    }\n",
       "</style>\n",
       "<table border=\"1\" class=\"dataframe\">\n",
       "  <thead>\n",
       "    <tr style=\"text-align: right;\">\n",
       "      <th></th>\n",
       "      <th>0</th>\n",
       "      <th>1</th>\n",
       "      <th>2</th>\n",
       "      <th>3</th>\n",
       "    </tr>\n",
       "  </thead>\n",
       "  <tbody>\n",
       "    <tr>\n",
       "      <th>1</th>\n",
       "      <td>0</td>\n",
       "      <td>1</td>\n",
       "      <td>2</td>\n",
       "      <td>3</td>\n",
       "    </tr>\n",
       "    <tr>\n",
       "      <th>3</th>\n",
       "      <td>4</td>\n",
       "      <td>5</td>\n",
       "      <td>6</td>\n",
       "      <td>7</td>\n",
       "    </tr>\n",
       "    <tr>\n",
       "      <th>4</th>\n",
       "      <td>8</td>\n",
       "      <td>9</td>\n",
       "      <td>10</td>\n",
       "      <td>11</td>\n",
       "    </tr>\n",
       "    <tr>\n",
       "      <th>6</th>\n",
       "      <td>12</td>\n",
       "      <td>13</td>\n",
       "      <td>14</td>\n",
       "      <td>15</td>\n",
       "    </tr>\n",
       "    <tr>\n",
       "      <th>8</th>\n",
       "      <td>16</td>\n",
       "      <td>17</td>\n",
       "      <td>18</td>\n",
       "      <td>19</td>\n",
       "    </tr>\n",
       "  </tbody>\n",
       "</table>\n",
       "</div>"
      ],
      "text/plain": [
       "    0   1   2   3\n",
       "1   0   1   2   3\n",
       "3   4   5   6   7\n",
       "4   8   9  10  11\n",
       "6  12  13  14  15\n",
       "8  16  17  18  19"
      ]
     },
     "execution_count": 15,
     "metadata": {
      "tags": []
     },
     "output_type": "execute_result"
    }
   ],
   "source": [
    "df"
   ]
  },
  {
   "cell_type": "markdown",
   "metadata": {
    "id": "FwoZeFpOYOZ_"
   },
   "source": [
    "##### 删除重复列"
   ]
  },
  {
   "cell_type": "code",
   "execution_count": null,
   "metadata": {
    "colab": {
     "base_uri": "https://localhost:8080/",
     "height": 287
    },
    "executionInfo": {
     "elapsed": 634,
     "status": "ok",
     "timestamp": 1615601954575,
     "user": {
      "displayName": "黄不盈",
      "photoUrl": "",
      "userId": "09846410536788032197"
     },
     "user_tz": -480
    },
    "id": "JP1sgTkPYL7A",
    "outputId": "d11c971d-75dd-4e12-a8d1-04c79edac79c"
   },
   "outputs": [
    {
     "data": {
      "text/html": [
       "<div>\n",
       "<style scoped>\n",
       "    .dataframe tbody tr th:only-of-type {\n",
       "        vertical-align: middle;\n",
       "    }\n",
       "\n",
       "    .dataframe tbody tr th {\n",
       "        vertical-align: top;\n",
       "    }\n",
       "\n",
       "    .dataframe thead th {\n",
       "        text-align: right;\n",
       "    }\n",
       "</style>\n",
       "<table border=\"1\" class=\"dataframe\">\n",
       "  <thead>\n",
       "    <tr style=\"text-align: right;\">\n",
       "      <th></th>\n",
       "      <th>state</th>\n",
       "      <th>pop</th>\n",
       "    </tr>\n",
       "  </thead>\n",
       "  <tbody>\n",
       "    <tr>\n",
       "      <th>0</th>\n",
       "      <td>1</td>\n",
       "      <td>a</td>\n",
       "    </tr>\n",
       "    <tr>\n",
       "      <th>1</th>\n",
       "      <td>1</td>\n",
       "      <td>b</td>\n",
       "    </tr>\n",
       "    <tr>\n",
       "      <th>2</th>\n",
       "      <td>2</td>\n",
       "      <td>c</td>\n",
       "    </tr>\n",
       "    <tr>\n",
       "      <th>3</th>\n",
       "      <td>2</td>\n",
       "      <td>d</td>\n",
       "    </tr>\n",
       "    <tr>\n",
       "      <th>4</th>\n",
       "      <td>1</td>\n",
       "      <td>b</td>\n",
       "    </tr>\n",
       "    <tr>\n",
       "      <th>5</th>\n",
       "      <td>2</td>\n",
       "      <td>c</td>\n",
       "    </tr>\n",
       "    <tr>\n",
       "      <th>6</th>\n",
       "      <td>2</td>\n",
       "      <td>d</td>\n",
       "    </tr>\n",
       "    <tr>\n",
       "      <th>7</th>\n",
       "      <td>2</td>\n",
       "      <td>d</td>\n",
       "    </tr>\n",
       "  </tbody>\n",
       "</table>\n",
       "</div>"
      ],
      "text/plain": [
       "   state pop\n",
       "0      1   a\n",
       "1      1   b\n",
       "2      2   c\n",
       "3      2   d\n",
       "4      1   b\n",
       "5      2   c\n",
       "6      2   d\n",
       "7      2   d"
      ]
     },
     "execution_count": 1,
     "metadata": {
      "tags": []
     },
     "output_type": "execute_result"
    }
   ],
   "source": [
    "import pandas as pd\n",
    "data={'state':[1,1,2,2,1,2,2,2],'pop':['a','b','c','d','b','c','d','d']}\n",
    "frame=pd.DataFrame(data)  \n",
    "frame"
   ]
  },
  {
   "cell_type": "markdown",
   "metadata": {
    "id": "q2hfMzXaYkbj"
   },
   "source": [
    "查重，返回一个布尔数组"
   ]
  },
  {
   "cell_type": "code",
   "execution_count": null,
   "metadata": {
    "colab": {
     "base_uri": "https://localhost:8080/"
    },
    "executionInfo": {
     "elapsed": 1043,
     "status": "ok",
     "timestamp": 1615602006146,
     "user": {
      "displayName": "黄不盈",
      "photoUrl": "",
      "userId": "09846410536788032197"
     },
     "user_tz": -480
    },
    "id": "iyRBpcjmYbKR",
    "outputId": "cfef792d-aea1-4bf8-ff0c-51b2669a8ac2"
   },
   "outputs": [
    {
     "data": {
      "text/plain": [
       "0    False\n",
       "1    False\n",
       "2    False\n",
       "3    False\n",
       "4     True\n",
       "5     True\n",
       "6     True\n",
       "7     True\n",
       "dtype: bool"
      ]
     },
     "execution_count": 3,
     "metadata": {
      "tags": []
     },
     "output_type": "execute_result"
    }
   ],
   "source": [
    "frame.duplicated()"
   ]
  },
  {
   "cell_type": "code",
   "execution_count": null,
   "metadata": {
    "colab": {
     "base_uri": "https://localhost:8080/"
    },
    "executionInfo": {
     "elapsed": 1050,
     "status": "ok",
     "timestamp": 1615602031224,
     "user": {
      "displayName": "黄不盈",
      "photoUrl": "",
      "userId": "09846410536788032197"
     },
     "user_tz": -480
    },
    "id": "yHC9wDEzYnmG",
    "outputId": "75122845-80ae-444d-980e-e955b429def8"
   },
   "outputs": [
    {
     "data": {
      "text/plain": [
       "4"
      ]
     },
     "execution_count": 4,
     "metadata": {
      "tags": []
     },
     "output_type": "execute_result"
    }
   ],
   "source": [
    "frame.duplicated().sum()"
   ]
  },
  {
   "cell_type": "markdown",
   "metadata": {
    "id": "3ErBl82eYv-S"
   },
   "source": [
    "直接去除重复列（不改变原数组）"
   ]
  },
  {
   "cell_type": "code",
   "execution_count": null,
   "metadata": {
    "colab": {
     "base_uri": "https://localhost:8080/",
     "height": 167
    },
    "executionInfo": {
     "elapsed": 1146,
     "status": "ok",
     "timestamp": 1615602078666,
     "user": {
      "displayName": "黄不盈",
      "photoUrl": "",
      "userId": "09846410536788032197"
     },
     "user_tz": -480
    },
    "id": "dgATDE-UYyZR",
    "outputId": "2fd8bdd7-46e6-4d96-e090-909489b9a047"
   },
   "outputs": [
    {
     "data": {
      "text/html": [
       "<div>\n",
       "<style scoped>\n",
       "    .dataframe tbody tr th:only-of-type {\n",
       "        vertical-align: middle;\n",
       "    }\n",
       "\n",
       "    .dataframe tbody tr th {\n",
       "        vertical-align: top;\n",
       "    }\n",
       "\n",
       "    .dataframe thead th {\n",
       "        text-align: right;\n",
       "    }\n",
       "</style>\n",
       "<table border=\"1\" class=\"dataframe\">\n",
       "  <thead>\n",
       "    <tr style=\"text-align: right;\">\n",
       "      <th></th>\n",
       "      <th>state</th>\n",
       "      <th>pop</th>\n",
       "    </tr>\n",
       "  </thead>\n",
       "  <tbody>\n",
       "    <tr>\n",
       "      <th>0</th>\n",
       "      <td>1</td>\n",
       "      <td>a</td>\n",
       "    </tr>\n",
       "    <tr>\n",
       "      <th>1</th>\n",
       "      <td>1</td>\n",
       "      <td>b</td>\n",
       "    </tr>\n",
       "    <tr>\n",
       "      <th>2</th>\n",
       "      <td>2</td>\n",
       "      <td>c</td>\n",
       "    </tr>\n",
       "    <tr>\n",
       "      <th>3</th>\n",
       "      <td>2</td>\n",
       "      <td>d</td>\n",
       "    </tr>\n",
       "  </tbody>\n",
       "</table>\n",
       "</div>"
      ],
      "text/plain": [
       "   state pop\n",
       "0      1   a\n",
       "1      1   b\n",
       "2      2   c\n",
       "3      2   d"
      ]
     },
     "execution_count": 5,
     "metadata": {
      "tags": []
     },
     "output_type": "execute_result"
    }
   ],
   "source": [
    "frame.drop_duplicates()"
   ]
  },
  {
   "cell_type": "code",
   "execution_count": null,
   "metadata": {
    "colab": {
     "base_uri": "https://localhost:8080/",
     "height": 287
    },
    "executionInfo": {
     "elapsed": 1063,
     "status": "ok",
     "timestamp": 1615602090972,
     "user": {
      "displayName": "黄不盈",
      "photoUrl": "",
      "userId": "09846410536788032197"
     },
     "user_tz": -480
    },
    "id": "xkMPFpTsY2TG",
    "outputId": "070d071b-1d67-4989-af66-7c523b9817df"
   },
   "outputs": [
    {
     "data": {
      "text/html": [
       "<div>\n",
       "<style scoped>\n",
       "    .dataframe tbody tr th:only-of-type {\n",
       "        vertical-align: middle;\n",
       "    }\n",
       "\n",
       "    .dataframe tbody tr th {\n",
       "        vertical-align: top;\n",
       "    }\n",
       "\n",
       "    .dataframe thead th {\n",
       "        text-align: right;\n",
       "    }\n",
       "</style>\n",
       "<table border=\"1\" class=\"dataframe\">\n",
       "  <thead>\n",
       "    <tr style=\"text-align: right;\">\n",
       "      <th></th>\n",
       "      <th>state</th>\n",
       "      <th>pop</th>\n",
       "    </tr>\n",
       "  </thead>\n",
       "  <tbody>\n",
       "    <tr>\n",
       "      <th>0</th>\n",
       "      <td>1</td>\n",
       "      <td>a</td>\n",
       "    </tr>\n",
       "    <tr>\n",
       "      <th>1</th>\n",
       "      <td>1</td>\n",
       "      <td>b</td>\n",
       "    </tr>\n",
       "    <tr>\n",
       "      <th>2</th>\n",
       "      <td>2</td>\n",
       "      <td>c</td>\n",
       "    </tr>\n",
       "    <tr>\n",
       "      <th>3</th>\n",
       "      <td>2</td>\n",
       "      <td>d</td>\n",
       "    </tr>\n",
       "    <tr>\n",
       "      <th>4</th>\n",
       "      <td>1</td>\n",
       "      <td>b</td>\n",
       "    </tr>\n",
       "    <tr>\n",
       "      <th>5</th>\n",
       "      <td>2</td>\n",
       "      <td>c</td>\n",
       "    </tr>\n",
       "    <tr>\n",
       "      <th>6</th>\n",
       "      <td>2</td>\n",
       "      <td>d</td>\n",
       "    </tr>\n",
       "    <tr>\n",
       "      <th>7</th>\n",
       "      <td>2</td>\n",
       "      <td>d</td>\n",
       "    </tr>\n",
       "  </tbody>\n",
       "</table>\n",
       "</div>"
      ],
      "text/plain": [
       "   state pop\n",
       "0      1   a\n",
       "1      1   b\n",
       "2      2   c\n",
       "3      2   d\n",
       "4      1   b\n",
       "5      2   c\n",
       "6      2   d\n",
       "7      2   d"
      ]
     },
     "execution_count": 7,
     "metadata": {
      "tags": []
     },
     "output_type": "execute_result"
    }
   ],
   "source": [
    "frame"
   ]
  },
  {
   "cell_type": "markdown",
   "metadata": {
    "id": "IWq_nTRDd94O"
   },
   "source": [
    "选出唯一值"
   ]
  },
  {
   "cell_type": "code",
   "execution_count": null,
   "metadata": {
    "colab": {
     "base_uri": "https://localhost:8080/",
     "height": 287
    },
    "executionInfo": {
     "elapsed": 618,
     "status": "ok",
     "timestamp": 1615603454136,
     "user": {
      "displayName": "黄不盈",
      "photoUrl": "",
      "userId": "09846410536788032197"
     },
     "user_tz": -480
    },
    "id": "ThqWoL09d_3U",
    "outputId": "af209b4a-35f1-4d68-e198-8f67cb70f7e9"
   },
   "outputs": [
    {
     "data": {
      "text/html": [
       "<div>\n",
       "<style scoped>\n",
       "    .dataframe tbody tr th:only-of-type {\n",
       "        vertical-align: middle;\n",
       "    }\n",
       "\n",
       "    .dataframe tbody tr th {\n",
       "        vertical-align: top;\n",
       "    }\n",
       "\n",
       "    .dataframe thead th {\n",
       "        text-align: right;\n",
       "    }\n",
       "</style>\n",
       "<table border=\"1\" class=\"dataframe\">\n",
       "  <thead>\n",
       "    <tr style=\"text-align: right;\">\n",
       "      <th></th>\n",
       "      <th>state</th>\n",
       "      <th>pop</th>\n",
       "    </tr>\n",
       "  </thead>\n",
       "  <tbody>\n",
       "    <tr>\n",
       "      <th>0</th>\n",
       "      <td>1</td>\n",
       "      <td>a</td>\n",
       "    </tr>\n",
       "    <tr>\n",
       "      <th>1</th>\n",
       "      <td>1</td>\n",
       "      <td>b</td>\n",
       "    </tr>\n",
       "    <tr>\n",
       "      <th>2</th>\n",
       "      <td>2</td>\n",
       "      <td>c</td>\n",
       "    </tr>\n",
       "    <tr>\n",
       "      <th>3</th>\n",
       "      <td>2</td>\n",
       "      <td>d</td>\n",
       "    </tr>\n",
       "    <tr>\n",
       "      <th>4</th>\n",
       "      <td>1</td>\n",
       "      <td>b</td>\n",
       "    </tr>\n",
       "    <tr>\n",
       "      <th>5</th>\n",
       "      <td>2</td>\n",
       "      <td>c</td>\n",
       "    </tr>\n",
       "    <tr>\n",
       "      <th>6</th>\n",
       "      <td>2</td>\n",
       "      <td>d</td>\n",
       "    </tr>\n",
       "    <tr>\n",
       "      <th>7</th>\n",
       "      <td>2</td>\n",
       "      <td>d</td>\n",
       "    </tr>\n",
       "  </tbody>\n",
       "</table>\n",
       "</div>"
      ],
      "text/plain": [
       "   state pop\n",
       "0      1   a\n",
       "1      1   b\n",
       "2      2   c\n",
       "3      2   d\n",
       "4      1   b\n",
       "5      2   c\n",
       "6      2   d\n",
       "7      2   d"
      ]
     },
     "execution_count": 8,
     "metadata": {
      "tags": []
     },
     "output_type": "execute_result"
    }
   ],
   "source": [
    "data={'state':[1,1,2,2,1,2,2,2],'pop':['a','b','c','d','b','c','d','d']}\n",
    "frame=pd.DataFrame(data)  \n",
    "frame"
   ]
  },
  {
   "cell_type": "code",
   "execution_count": null,
   "metadata": {
    "colab": {
     "base_uri": "https://localhost:8080/"
    },
    "executionInfo": {
     "elapsed": 1010,
     "status": "ok",
     "timestamp": 1615603476674,
     "user": {
      "displayName": "黄不盈",
      "photoUrl": "",
      "userId": "09846410536788032197"
     },
     "user_tz": -480
    },
    "id": "bWqIwhAYeGsb",
    "outputId": "adb71cc5-f9c9-4a4e-e93b-6d020a8e6d2a"
   },
   "outputs": [
    {
     "data": {
      "text/plain": [
       "array([1, 2])"
      ]
     },
     "execution_count": 9,
     "metadata": {
      "tags": []
     },
     "output_type": "execute_result"
    }
   ],
   "source": [
    "frame[\"state\"].unique()"
   ]
  },
  {
   "cell_type": "markdown",
   "metadata": {
    "id": "6KGN3RbgfFh9"
   },
   "source": [
    "##### apply(func)"
   ]
  },
  {
   "cell_type": "code",
   "execution_count": null,
   "metadata": {
    "id": "mlC5CyqsfUCm"
   },
   "outputs": [],
   "source": [
    "import numpy as np\n",
    "import pandas as pd\n",
    "# 生成一个随机数据库\n",
    "boolean=[True,False]\n",
    "gender=[\"男\",\"女\"]\n",
    "color=[\"white\",\"black\",\"yellow\"]\n",
    "data=pd.DataFrame({\n",
    "    \"height\":np.random.randint(150,190,100),\n",
    "    \"weight\":np.random.randint(40,90,100),\n",
    "    \"smoker\":[boolean[x] for x in np.random.randint(0,2,100)],\n",
    "    \"gender\":[gender[x] for x in np.random.randint(0,2,100)],\n",
    "    \"age\":np.random.randint(15,90,100),\n",
    "    \"color\":[color[x] for x in np.random.randint(0,len(color),100) ]\n",
    "}\n",
    ")"
   ]
  },
  {
   "cell_type": "code",
   "execution_count": null,
   "metadata": {
    "colab": {
     "base_uri": "https://localhost:8080/",
     "height": 407
    },
    "executionInfo": {
     "elapsed": 1229,
     "status": "ok",
     "timestamp": 1615603960803,
     "user": {
      "displayName": "黄不盈",
      "photoUrl": "",
      "userId": "09846410536788032197"
     },
     "user_tz": -480
    },
    "id": "qDuWUmJeflnY",
    "outputId": "b2426be6-2be0-4e6c-ebf8-905a77dc9aea"
   },
   "outputs": [
    {
     "data": {
      "text/html": [
       "<div>\n",
       "<style scoped>\n",
       "    .dataframe tbody tr th:only-of-type {\n",
       "        vertical-align: middle;\n",
       "    }\n",
       "\n",
       "    .dataframe tbody tr th {\n",
       "        vertical-align: top;\n",
       "    }\n",
       "\n",
       "    .dataframe thead th {\n",
       "        text-align: right;\n",
       "    }\n",
       "</style>\n",
       "<table border=\"1\" class=\"dataframe\">\n",
       "  <thead>\n",
       "    <tr style=\"text-align: right;\">\n",
       "      <th></th>\n",
       "      <th>height</th>\n",
       "      <th>weight</th>\n",
       "      <th>smoker</th>\n",
       "      <th>gender</th>\n",
       "      <th>age</th>\n",
       "      <th>color</th>\n",
       "    </tr>\n",
       "  </thead>\n",
       "  <tbody>\n",
       "    <tr>\n",
       "      <th>0</th>\n",
       "      <td>166</td>\n",
       "      <td>65</td>\n",
       "      <td>False</td>\n",
       "      <td>0</td>\n",
       "      <td>84</td>\n",
       "      <td>black</td>\n",
       "    </tr>\n",
       "    <tr>\n",
       "      <th>1</th>\n",
       "      <td>186</td>\n",
       "      <td>44</td>\n",
       "      <td>False</td>\n",
       "      <td>1</td>\n",
       "      <td>80</td>\n",
       "      <td>black</td>\n",
       "    </tr>\n",
       "    <tr>\n",
       "      <th>2</th>\n",
       "      <td>173</td>\n",
       "      <td>43</td>\n",
       "      <td>False</td>\n",
       "      <td>0</td>\n",
       "      <td>76</td>\n",
       "      <td>black</td>\n",
       "    </tr>\n",
       "    <tr>\n",
       "      <th>3</th>\n",
       "      <td>153</td>\n",
       "      <td>63</td>\n",
       "      <td>True</td>\n",
       "      <td>1</td>\n",
       "      <td>39</td>\n",
       "      <td>yellow</td>\n",
       "    </tr>\n",
       "    <tr>\n",
       "      <th>4</th>\n",
       "      <td>171</td>\n",
       "      <td>79</td>\n",
       "      <td>True</td>\n",
       "      <td>1</td>\n",
       "      <td>39</td>\n",
       "      <td>yellow</td>\n",
       "    </tr>\n",
       "    <tr>\n",
       "      <th>...</th>\n",
       "      <td>...</td>\n",
       "      <td>...</td>\n",
       "      <td>...</td>\n",
       "      <td>...</td>\n",
       "      <td>...</td>\n",
       "      <td>...</td>\n",
       "    </tr>\n",
       "    <tr>\n",
       "      <th>95</th>\n",
       "      <td>160</td>\n",
       "      <td>78</td>\n",
       "      <td>False</td>\n",
       "      <td>0</td>\n",
       "      <td>67</td>\n",
       "      <td>white</td>\n",
       "    </tr>\n",
       "    <tr>\n",
       "      <th>96</th>\n",
       "      <td>169</td>\n",
       "      <td>72</td>\n",
       "      <td>True</td>\n",
       "      <td>1</td>\n",
       "      <td>70</td>\n",
       "      <td>yellow</td>\n",
       "    </tr>\n",
       "    <tr>\n",
       "      <th>97</th>\n",
       "      <td>187</td>\n",
       "      <td>61</td>\n",
       "      <td>False</td>\n",
       "      <td>1</td>\n",
       "      <td>49</td>\n",
       "      <td>white</td>\n",
       "    </tr>\n",
       "    <tr>\n",
       "      <th>98</th>\n",
       "      <td>158</td>\n",
       "      <td>51</td>\n",
       "      <td>False</td>\n",
       "      <td>0</td>\n",
       "      <td>56</td>\n",
       "      <td>yellow</td>\n",
       "    </tr>\n",
       "    <tr>\n",
       "      <th>99</th>\n",
       "      <td>160</td>\n",
       "      <td>75</td>\n",
       "      <td>True</td>\n",
       "      <td>1</td>\n",
       "      <td>82</td>\n",
       "      <td>yellow</td>\n",
       "    </tr>\n",
       "  </tbody>\n",
       "</table>\n",
       "<p>100 rows × 6 columns</p>\n",
       "</div>"
      ],
      "text/plain": [
       "    height  weight  smoker  gender  age   color\n",
       "0      166      65   False       0   84   black\n",
       "1      186      44   False       1   80   black\n",
       "2      173      43   False       0   76   black\n",
       "3      153      63    True       1   39  yellow\n",
       "4      171      79    True       1   39  yellow\n",
       "..     ...     ...     ...     ...  ...     ...\n",
       "95     160      78   False       0   67   white\n",
       "96     169      72    True       1   70  yellow\n",
       "97     187      61   False       1   49   white\n",
       "98     158      51   False       0   56  yellow\n",
       "99     160      75    True       1   82  yellow\n",
       "\n",
       "[100 rows x 6 columns]"
      ]
     },
     "execution_count": 18,
     "metadata": {
      "tags": []
     },
     "output_type": "execute_result"
    }
   ],
   "source": [
    "# 使用函数\n",
    "def gender_map(x):\n",
    "    gender = 1 if x == \"男\" else 0\n",
    "    return gender\n",
    "#注意这里传入的是函数名，不带括号\n",
    "data[\"gender\"] = data[\"gender\"].map(gender_map)\n",
    "data"
   ]
  },
  {
   "cell_type": "markdown",
   "metadata": {
    "id": "yVGjuW2RgTWo"
   },
   "source": [
    "有参数"
   ]
  },
  {
   "cell_type": "code",
   "execution_count": null,
   "metadata": {
    "colab": {
     "base_uri": "https://localhost:8080/",
     "height": 407
    },
    "executionInfo": {
     "elapsed": 1150,
     "status": "ok",
     "timestamp": 1615604121020,
     "user": {
      "displayName": "黄不盈",
      "photoUrl": "",
      "userId": "09846410536788032197"
     },
     "user_tz": -480
    },
    "id": "9kx9jjvugVNg",
    "outputId": "9a47dba3-e4ca-45af-df1d-57f32b6c02a1"
   },
   "outputs": [
    {
     "data": {
      "text/html": [
       "<div>\n",
       "<style scoped>\n",
       "    .dataframe tbody tr th:only-of-type {\n",
       "        vertical-align: middle;\n",
       "    }\n",
       "\n",
       "    .dataframe tbody tr th {\n",
       "        vertical-align: top;\n",
       "    }\n",
       "\n",
       "    .dataframe thead th {\n",
       "        text-align: right;\n",
       "    }\n",
       "</style>\n",
       "<table border=\"1\" class=\"dataframe\">\n",
       "  <thead>\n",
       "    <tr style=\"text-align: right;\">\n",
       "      <th></th>\n",
       "      <th>height</th>\n",
       "      <th>weight</th>\n",
       "      <th>smoker</th>\n",
       "      <th>gender</th>\n",
       "      <th>age</th>\n",
       "      <th>color</th>\n",
       "    </tr>\n",
       "  </thead>\n",
       "  <tbody>\n",
       "    <tr>\n",
       "      <th>0</th>\n",
       "      <td>178</td>\n",
       "      <td>53</td>\n",
       "      <td>True</td>\n",
       "      <td>男</td>\n",
       "      <td>68</td>\n",
       "      <td>white</td>\n",
       "    </tr>\n",
       "    <tr>\n",
       "      <th>1</th>\n",
       "      <td>176</td>\n",
       "      <td>71</td>\n",
       "      <td>False</td>\n",
       "      <td>女</td>\n",
       "      <td>74</td>\n",
       "      <td>white</td>\n",
       "    </tr>\n",
       "    <tr>\n",
       "      <th>2</th>\n",
       "      <td>185</td>\n",
       "      <td>51</td>\n",
       "      <td>True</td>\n",
       "      <td>女</td>\n",
       "      <td>63</td>\n",
       "      <td>white</td>\n",
       "    </tr>\n",
       "    <tr>\n",
       "      <th>3</th>\n",
       "      <td>159</td>\n",
       "      <td>59</td>\n",
       "      <td>True</td>\n",
       "      <td>女</td>\n",
       "      <td>30</td>\n",
       "      <td>black</td>\n",
       "    </tr>\n",
       "    <tr>\n",
       "      <th>4</th>\n",
       "      <td>184</td>\n",
       "      <td>46</td>\n",
       "      <td>False</td>\n",
       "      <td>女</td>\n",
       "      <td>39</td>\n",
       "      <td>white</td>\n",
       "    </tr>\n",
       "    <tr>\n",
       "      <th>...</th>\n",
       "      <td>...</td>\n",
       "      <td>...</td>\n",
       "      <td>...</td>\n",
       "      <td>...</td>\n",
       "      <td>...</td>\n",
       "      <td>...</td>\n",
       "    </tr>\n",
       "    <tr>\n",
       "      <th>95</th>\n",
       "      <td>180</td>\n",
       "      <td>81</td>\n",
       "      <td>True</td>\n",
       "      <td>男</td>\n",
       "      <td>37</td>\n",
       "      <td>yellow</td>\n",
       "    </tr>\n",
       "    <tr>\n",
       "      <th>96</th>\n",
       "      <td>157</td>\n",
       "      <td>45</td>\n",
       "      <td>False</td>\n",
       "      <td>男</td>\n",
       "      <td>61</td>\n",
       "      <td>white</td>\n",
       "    </tr>\n",
       "    <tr>\n",
       "      <th>97</th>\n",
       "      <td>178</td>\n",
       "      <td>86</td>\n",
       "      <td>False</td>\n",
       "      <td>女</td>\n",
       "      <td>33</td>\n",
       "      <td>black</td>\n",
       "    </tr>\n",
       "    <tr>\n",
       "      <th>98</th>\n",
       "      <td>159</td>\n",
       "      <td>40</td>\n",
       "      <td>False</td>\n",
       "      <td>男</td>\n",
       "      <td>9</td>\n",
       "      <td>black</td>\n",
       "    </tr>\n",
       "    <tr>\n",
       "      <th>99</th>\n",
       "      <td>186</td>\n",
       "      <td>51</td>\n",
       "      <td>False</td>\n",
       "      <td>男</td>\n",
       "      <td>47</td>\n",
       "      <td>black</td>\n",
       "    </tr>\n",
       "  </tbody>\n",
       "</table>\n",
       "<p>100 rows × 6 columns</p>\n",
       "</div>"
      ],
      "text/plain": [
       "    height  weight  smoker gender  age   color\n",
       "0      178      53    True      男   68   white\n",
       "1      176      71   False      女   74   white\n",
       "2      185      51    True      女   63   white\n",
       "3      159      59    True      女   30   black\n",
       "4      184      46   False      女   39   white\n",
       "..     ...     ...     ...    ...  ...     ...\n",
       "95     180      81    True      男   37  yellow\n",
       "96     157      45   False      男   61   white\n",
       "97     178      86   False      女   33   black\n",
       "98     159      40   False      男    9   black\n",
       "99     186      51   False      男   47   black\n",
       "\n",
       "[100 rows x 6 columns]"
      ]
     },
     "execution_count": 28,
     "metadata": {
      "tags": []
     },
     "output_type": "execute_result"
    }
   ],
   "source": [
    "def apply_age(x,bias):\n",
    "    return x+bias\n",
    "\n",
    "#以元组的方式传入额外的参数\n",
    "data[\"age\"] = data[\"age\"].apply(apply_age,args=(-3,))   # 逗号不能删掉，第一个参数是age已经传入\n",
    "data"
   ]
  },
  {
   "cell_type": "markdown",
   "metadata": {
    "id": "Fe1fsUaDfLjJ"
   },
   "source": [
    "##### map映射"
   ]
  },
  {
   "cell_type": "code",
   "execution_count": null,
   "metadata": {
    "colab": {
     "base_uri": "https://localhost:8080/",
     "height": 407
    },
    "executionInfo": {
     "elapsed": 1267,
     "status": "ok",
     "timestamp": 1615603967685,
     "user": {
      "displayName": "黄不盈",
      "photoUrl": "",
      "userId": "09846410536788032197"
     },
     "user_tz": -480
    },
    "id": "oimm1zd5fOpZ",
    "outputId": "20664cfa-d41f-4cd9-c203-6e24cfbd42fb"
   },
   "outputs": [
    {
     "data": {
      "text/html": [
       "<div>\n",
       "<style scoped>\n",
       "    .dataframe tbody tr th:only-of-type {\n",
       "        vertical-align: middle;\n",
       "    }\n",
       "\n",
       "    .dataframe tbody tr th {\n",
       "        vertical-align: top;\n",
       "    }\n",
       "\n",
       "    .dataframe thead th {\n",
       "        text-align: right;\n",
       "    }\n",
       "</style>\n",
       "<table border=\"1\" class=\"dataframe\">\n",
       "  <thead>\n",
       "    <tr style=\"text-align: right;\">\n",
       "      <th></th>\n",
       "      <th>height</th>\n",
       "      <th>weight</th>\n",
       "      <th>smoker</th>\n",
       "      <th>gender</th>\n",
       "      <th>age</th>\n",
       "      <th>color</th>\n",
       "    </tr>\n",
       "  </thead>\n",
       "  <tbody>\n",
       "    <tr>\n",
       "      <th>0</th>\n",
       "      <td>187</td>\n",
       "      <td>75</td>\n",
       "      <td>False</td>\n",
       "      <td>0</td>\n",
       "      <td>60</td>\n",
       "      <td>white</td>\n",
       "    </tr>\n",
       "    <tr>\n",
       "      <th>1</th>\n",
       "      <td>163</td>\n",
       "      <td>50</td>\n",
       "      <td>True</td>\n",
       "      <td>0</td>\n",
       "      <td>18</td>\n",
       "      <td>white</td>\n",
       "    </tr>\n",
       "    <tr>\n",
       "      <th>2</th>\n",
       "      <td>158</td>\n",
       "      <td>55</td>\n",
       "      <td>False</td>\n",
       "      <td>0</td>\n",
       "      <td>58</td>\n",
       "      <td>yellow</td>\n",
       "    </tr>\n",
       "    <tr>\n",
       "      <th>3</th>\n",
       "      <td>175</td>\n",
       "      <td>69</td>\n",
       "      <td>True</td>\n",
       "      <td>0</td>\n",
       "      <td>48</td>\n",
       "      <td>white</td>\n",
       "    </tr>\n",
       "    <tr>\n",
       "      <th>4</th>\n",
       "      <td>158</td>\n",
       "      <td>73</td>\n",
       "      <td>True</td>\n",
       "      <td>2</td>\n",
       "      <td>23</td>\n",
       "      <td>yellow</td>\n",
       "    </tr>\n",
       "    <tr>\n",
       "      <th>...</th>\n",
       "      <td>...</td>\n",
       "      <td>...</td>\n",
       "      <td>...</td>\n",
       "      <td>...</td>\n",
       "      <td>...</td>\n",
       "      <td>...</td>\n",
       "    </tr>\n",
       "    <tr>\n",
       "      <th>95</th>\n",
       "      <td>150</td>\n",
       "      <td>43</td>\n",
       "      <td>True</td>\n",
       "      <td>0</td>\n",
       "      <td>72</td>\n",
       "      <td>yellow</td>\n",
       "    </tr>\n",
       "    <tr>\n",
       "      <th>96</th>\n",
       "      <td>170</td>\n",
       "      <td>56</td>\n",
       "      <td>True</td>\n",
       "      <td>2</td>\n",
       "      <td>89</td>\n",
       "      <td>yellow</td>\n",
       "    </tr>\n",
       "    <tr>\n",
       "      <th>97</th>\n",
       "      <td>183</td>\n",
       "      <td>86</td>\n",
       "      <td>False</td>\n",
       "      <td>0</td>\n",
       "      <td>50</td>\n",
       "      <td>yellow</td>\n",
       "    </tr>\n",
       "    <tr>\n",
       "      <th>98</th>\n",
       "      <td>160</td>\n",
       "      <td>46</td>\n",
       "      <td>True</td>\n",
       "      <td>2</td>\n",
       "      <td>38</td>\n",
       "      <td>white</td>\n",
       "    </tr>\n",
       "    <tr>\n",
       "      <th>99</th>\n",
       "      <td>186</td>\n",
       "      <td>55</td>\n",
       "      <td>True</td>\n",
       "      <td>0</td>\n",
       "      <td>87</td>\n",
       "      <td>white</td>\n",
       "    </tr>\n",
       "  </tbody>\n",
       "</table>\n",
       "<p>100 rows × 6 columns</p>\n",
       "</div>"
      ],
      "text/plain": [
       "    height  weight  smoker  gender  age   color\n",
       "0      187      75   False       0   60   white\n",
       "1      163      50    True       0   18   white\n",
       "2      158      55   False       0   58  yellow\n",
       "3      175      69    True       0   48   white\n",
       "4      158      73    True       2   23  yellow\n",
       "..     ...     ...     ...     ...  ...     ...\n",
       "95     150      43    True       0   72  yellow\n",
       "96     170      56    True       2   89  yellow\n",
       "97     183      86   False       0   50  yellow\n",
       "98     160      46    True       2   38   white\n",
       "99     186      55    True       0   87   white\n",
       "\n",
       "[100 rows x 6 columns]"
      ]
     },
     "execution_count": 20,
     "metadata": {
      "tags": []
     },
     "output_type": "execute_result"
    }
   ],
   "source": [
    "# 使用字典进行映射\n",
    "data[\"gender\"] = data[\"gender\"].map({\"男\":2, \"女\":0})\n",
    "data"
   ]
  },
  {
   "cell_type": "markdown",
   "metadata": {
    "id": "t1c6cL9H5Wy4"
   },
   "source": [
    "#### 透视表"
   ]
  },
  {
   "cell_type": "markdown",
   "metadata": {
    "id": "DyQIPbmqKGAS"
   },
   "source": [
    "```\n",
    "pd.pivot_table(data, values=None, index=None, columns=None, aggfunc='mean', fill_value=None, margins=False, dropna=True, margins_name='All')\n",
    "```"
   ]
  },
  {
   "cell_type": "code",
   "execution_count": null,
   "metadata": {
    "colab": {
     "base_uri": "https://localhost:8080/",
     "height": 317
    },
    "executionInfo": {
     "elapsed": 3822,
     "status": "ok",
     "timestamp": 1615546773642,
     "user": {
      "displayName": "黄不盈",
      "photoUrl": "",
      "userId": "09846410536788032197"
     },
     "user_tz": -480
    },
    "id": "Vz8cBnR45arb",
    "outputId": "651da8a0-22ce-42a9-abfe-aa8b0f284d9c"
   },
   "outputs": [
    {
     "data": {
      "text/html": [
       "<div>\n",
       "<style scoped>\n",
       "    .dataframe tbody tr th:only-of-type {\n",
       "        vertical-align: middle;\n",
       "    }\n",
       "\n",
       "    .dataframe tbody tr th {\n",
       "        vertical-align: top;\n",
       "    }\n",
       "\n",
       "    .dataframe thead th {\n",
       "        text-align: right;\n",
       "    }\n",
       "</style>\n",
       "<table border=\"1\" class=\"dataframe\">\n",
       "  <thead>\n",
       "    <tr style=\"text-align: right;\">\n",
       "      <th></th>\n",
       "      <th>date</th>\n",
       "      <th>key</th>\n",
       "      <th>values</th>\n",
       "    </tr>\n",
       "  </thead>\n",
       "  <tbody>\n",
       "    <tr>\n",
       "      <th>0</th>\n",
       "      <td>2017-05-01</td>\n",
       "      <td>a</td>\n",
       "      <td>9.929601</td>\n",
       "    </tr>\n",
       "    <tr>\n",
       "      <th>1</th>\n",
       "      <td>2017-05-02</td>\n",
       "      <td>b</td>\n",
       "      <td>0.865173</td>\n",
       "    </tr>\n",
       "    <tr>\n",
       "      <th>2</th>\n",
       "      <td>2017-05-03</td>\n",
       "      <td>c</td>\n",
       "      <td>8.834450</td>\n",
       "    </tr>\n",
       "    <tr>\n",
       "      <th>3</th>\n",
       "      <td>2017-05-01</td>\n",
       "      <td>d</td>\n",
       "      <td>5.674563</td>\n",
       "    </tr>\n",
       "    <tr>\n",
       "      <th>4</th>\n",
       "      <td>2017-05-02</td>\n",
       "      <td>a</td>\n",
       "      <td>5.647339</td>\n",
       "    </tr>\n",
       "    <tr>\n",
       "      <th>5</th>\n",
       "      <td>2017-05-03</td>\n",
       "      <td>b</td>\n",
       "      <td>5.319943</td>\n",
       "    </tr>\n",
       "    <tr>\n",
       "      <th>6</th>\n",
       "      <td>2017-05-01</td>\n",
       "      <td>c</td>\n",
       "      <td>8.107147</td>\n",
       "    </tr>\n",
       "    <tr>\n",
       "      <th>7</th>\n",
       "      <td>2017-05-02</td>\n",
       "      <td>d</td>\n",
       "      <td>6.472578</td>\n",
       "    </tr>\n",
       "    <tr>\n",
       "      <th>8</th>\n",
       "      <td>2017-05-03</td>\n",
       "      <td>a</td>\n",
       "      <td>8.963887</td>\n",
       "    </tr>\n",
       "  </tbody>\n",
       "</table>\n",
       "</div>"
      ],
      "text/plain": [
       "        date key    values\n",
       "0 2017-05-01   a  9.929601\n",
       "1 2017-05-02   b  0.865173\n",
       "2 2017-05-03   c  8.834450\n",
       "3 2017-05-01   d  5.674563\n",
       "4 2017-05-02   a  5.647339\n",
       "5 2017-05-03   b  5.319943\n",
       "6 2017-05-01   c  8.107147\n",
       "7 2017-05-02   d  6.472578\n",
       "8 2017-05-03   a  8.963887"
      ]
     },
     "execution_count": 2,
     "metadata": {
      "tags": []
     },
     "output_type": "execute_result"
    }
   ],
   "source": [
    "import pandas as pd\n",
    "import numpy as np\n",
    "date = ['2017-5-1','2017-5-2','2017-5-3']*3\n",
    "rng = pd.to_datetime(date)\n",
    "df = pd.DataFrame({'date':rng,'key':list('abcdabcda'),'values':np.random.rand(9)*10})\n",
    "df"
   ]
  },
  {
   "cell_type": "markdown",
   "metadata": {
    "id": "7n6qFlQhGWGP"
   },
   "source": [
    "以下两种写法相同"
   ]
  },
  {
   "cell_type": "code",
   "execution_count": null,
   "metadata": {
    "colab": {
     "base_uri": "https://localhost:8080/",
     "height": 167
    },
    "executionInfo": {
     "elapsed": 1906,
     "status": "ok",
     "timestamp": 1615546804515,
     "user": {
      "displayName": "黄不盈",
      "photoUrl": "",
      "userId": "09846410536788032197"
     },
     "user_tz": -480
    },
    "id": "ag374Ymr5e-r",
    "outputId": "8fa199e2-09e2-47a4-b12d-02cf9f0b2a33"
   },
   "outputs": [
    {
     "data": {
      "text/html": [
       "<div>\n",
       "<style scoped>\n",
       "    .dataframe tbody tr th:only-of-type {\n",
       "        vertical-align: middle;\n",
       "    }\n",
       "\n",
       "    .dataframe tbody tr th {\n",
       "        vertical-align: top;\n",
       "    }\n",
       "\n",
       "    .dataframe thead th {\n",
       "        text-align: right;\n",
       "    }\n",
       "</style>\n",
       "<table border=\"1\" class=\"dataframe\">\n",
       "  <thead>\n",
       "    <tr style=\"text-align: right;\">\n",
       "      <th>key</th>\n",
       "      <th>a</th>\n",
       "      <th>b</th>\n",
       "      <th>c</th>\n",
       "      <th>d</th>\n",
       "    </tr>\n",
       "    <tr>\n",
       "      <th>date</th>\n",
       "      <th></th>\n",
       "      <th></th>\n",
       "      <th></th>\n",
       "      <th></th>\n",
       "    </tr>\n",
       "  </thead>\n",
       "  <tbody>\n",
       "    <tr>\n",
       "      <th>2017-05-01</th>\n",
       "      <td>9.929601</td>\n",
       "      <td>NaN</td>\n",
       "      <td>8.107147</td>\n",
       "      <td>5.674563</td>\n",
       "    </tr>\n",
       "    <tr>\n",
       "      <th>2017-05-02</th>\n",
       "      <td>5.647339</td>\n",
       "      <td>0.865173</td>\n",
       "      <td>NaN</td>\n",
       "      <td>6.472578</td>\n",
       "    </tr>\n",
       "    <tr>\n",
       "      <th>2017-05-03</th>\n",
       "      <td>8.963887</td>\n",
       "      <td>5.319943</td>\n",
       "      <td>8.834450</td>\n",
       "      <td>NaN</td>\n",
       "    </tr>\n",
       "  </tbody>\n",
       "</table>\n",
       "</div>"
      ],
      "text/plain": [
       "key                a         b         c         d\n",
       "date                                              \n",
       "2017-05-01  9.929601       NaN  8.107147  5.674563\n",
       "2017-05-02  5.647339  0.865173       NaN  6.472578\n",
       "2017-05-03  8.963887  5.319943  8.834450       NaN"
      ]
     },
     "execution_count": 3,
     "metadata": {
      "tags": []
     },
     "output_type": "execute_result"
    }
   ],
   "source": [
    "pd.pivot_table(df, values = 'values', index = 'date', columns = 'key', aggfunc=np.sum)  # 也可以写 aggfunc='sum'"
   ]
  },
  {
   "cell_type": "code",
   "execution_count": null,
   "metadata": {
    "colab": {
     "base_uri": "https://localhost:8080/",
     "height": 167
    },
    "executionInfo": {
     "elapsed": 1177,
     "status": "ok",
     "timestamp": 1615546885507,
     "user": {
      "displayName": "黄不盈",
      "photoUrl": "",
      "userId": "09846410536788032197"
     },
     "user_tz": -480
    },
    "id": "x9_1ODysGPC5",
    "outputId": "5e6c6f03-88e3-44d5-889c-c74f18864f32"
   },
   "outputs": [
    {
     "data": {
      "text/html": [
       "<div>\n",
       "<style scoped>\n",
       "    .dataframe tbody tr th:only-of-type {\n",
       "        vertical-align: middle;\n",
       "    }\n",
       "\n",
       "    .dataframe tbody tr th {\n",
       "        vertical-align: top;\n",
       "    }\n",
       "\n",
       "    .dataframe thead th {\n",
       "        text-align: right;\n",
       "    }\n",
       "</style>\n",
       "<table border=\"1\" class=\"dataframe\">\n",
       "  <thead>\n",
       "    <tr style=\"text-align: right;\">\n",
       "      <th>key</th>\n",
       "      <th>a</th>\n",
       "      <th>b</th>\n",
       "      <th>c</th>\n",
       "      <th>d</th>\n",
       "    </tr>\n",
       "    <tr>\n",
       "      <th>date</th>\n",
       "      <th></th>\n",
       "      <th></th>\n",
       "      <th></th>\n",
       "      <th></th>\n",
       "    </tr>\n",
       "  </thead>\n",
       "  <tbody>\n",
       "    <tr>\n",
       "      <th>2017-05-01</th>\n",
       "      <td>9.929601</td>\n",
       "      <td>NaN</td>\n",
       "      <td>8.107147</td>\n",
       "      <td>5.674563</td>\n",
       "    </tr>\n",
       "    <tr>\n",
       "      <th>2017-05-02</th>\n",
       "      <td>5.647339</td>\n",
       "      <td>0.865173</td>\n",
       "      <td>NaN</td>\n",
       "      <td>6.472578</td>\n",
       "    </tr>\n",
       "    <tr>\n",
       "      <th>2017-05-03</th>\n",
       "      <td>8.963887</td>\n",
       "      <td>5.319943</td>\n",
       "      <td>8.834450</td>\n",
       "      <td>NaN</td>\n",
       "    </tr>\n",
       "  </tbody>\n",
       "</table>\n",
       "</div>"
      ],
      "text/plain": [
       "key                a         b         c         d\n",
       "date                                              \n",
       "2017-05-01  9.929601       NaN  8.107147  5.674563\n",
       "2017-05-02  5.647339  0.865173       NaN  6.472578\n",
       "2017-05-03  8.963887  5.319943  8.834450       NaN"
      ]
     },
     "execution_count": 4,
     "metadata": {
      "tags": []
     },
     "output_type": "execute_result"
    }
   ],
   "source": [
    "df.pivot_table(values = 'values', index = 'date', columns = 'key', aggfunc=np.sum)  # 也可以写 aggfunc='sum'"
   ]
  },
  {
   "cell_type": "code",
   "execution_count": null,
   "metadata": {
    "colab": {
     "base_uri": "https://localhost:8080/"
    },
    "executionInfo": {
     "elapsed": 1411,
     "status": "ok",
     "timestamp": 1615375984822,
     "user": {
      "displayName": "黄不盈",
      "photoUrl": "",
      "userId": "09846410536788032197"
     },
     "user_tz": -480
    },
    "id": "M-h9XdjO5-cA",
    "outputId": "c11089f9-5571-458e-8585-db870e85ea7a"
   },
   "outputs": [
    {
     "name": "stdout",
     "output_type": "stream",
     "text": [
      "                values\n",
      "date       key        \n",
      "2017-05-01 a       1.0\n",
      "           c       1.0\n",
      "           d       1.0\n",
      "2017-05-02 a       1.0\n",
      "           b       1.0\n",
      "           d       1.0\n",
      "2017-05-03 a       1.0\n",
      "           b       1.0\n",
      "           c       1.0\n"
     ]
    }
   ],
   "source": [
    "# data：DataFrame对象\n",
    "# values：要聚合的列或列的列表\n",
    "# index：数据透视表的index，从原数据的列中筛选\n",
    "# columns：数据透视表的columns，从原数据的列中筛选\n",
    "# aggfunc：用于聚合的函数，默认为numpy.mean，支持numpy计算方法\n",
    "\n",
    "print(pd.pivot_table(df, values = 'values', index = ['date','key'], aggfunc=len))\n",
    "# 这里就分别以date、key共同做数据透视，值为values：统计不同（date，key）情况下values的平均值\n",
    "# aggfunc=len(或者count)：计数"
   ]
  },
  {
   "cell_type": "markdown",
   "metadata": {
    "id": "uYIIk9zHAJV9"
   },
   "source": [
    "#### 时间模块(datetime)"
   ]
  },
  {
   "cell_type": "code",
   "execution_count": null,
   "metadata": {
    "colab": {
     "base_uri": "https://localhost:8080/"
    },
    "executionInfo": {
     "elapsed": 4866,
     "status": "ok",
     "timestamp": 1615375801388,
     "user": {
      "displayName": "黄不盈",
      "photoUrl": "",
      "userId": "09846410536788032197"
     },
     "user_tz": -480
    },
    "id": "hpTEoAVQAd17",
    "outputId": "6f87172b-2e7a-4117-a9d2-25882ee798bc"
   },
   "outputs": [
    {
     "data": {
      "text/plain": [
       "datetime.date(2021, 3, 10)"
      ]
     },
     "execution_count": 56,
     "metadata": {
      "tags": []
     },
     "output_type": "execute_result"
    }
   ],
   "source": [
    "from datetime import date\n",
    "date.today()"
   ]
  },
  {
   "cell_type": "code",
   "execution_count": null,
   "metadata": {
    "colab": {
     "base_uri": "https://localhost:8080/"
    },
    "executionInfo": {
     "elapsed": 4844,
     "status": "ok",
     "timestamp": 1615375801389,
     "user": {
      "displayName": "黄不盈",
      "photoUrl": "",
      "userId": "09846410536788032197"
     },
     "user_tz": -480
    },
    "id": "MSqMXXo0As3G",
    "outputId": "cde6b795-7ed6-4007-da93-da67a1f3421d"
   },
   "outputs": [
    {
     "data": {
      "text/plain": [
       "datetime.date(2017, 6, 1)"
      ]
     },
     "execution_count": 57,
     "metadata": {
      "tags": []
     },
     "output_type": "execute_result"
    }
   ],
   "source": [
    "date(2017,6,1)"
   ]
  },
  {
   "cell_type": "markdown",
   "metadata": {
    "id": "Te72LyiZBIo9"
   },
   "source": [
    "将字符串转换为datetime"
   ]
  },
  {
   "cell_type": "code",
   "execution_count": null,
   "metadata": {
    "colab": {
     "base_uri": "https://localhost:8080/"
    },
    "executionInfo": {
     "elapsed": 4821,
     "status": "ok",
     "timestamp": 1615375801391,
     "user": {
      "displayName": "黄不盈",
      "photoUrl": "",
      "userId": "09846410536788032197"
     },
     "user_tz": -480
    },
    "id": "6aPyX0M0BRHO",
    "outputId": "11616750-5935-4f3c-acd3-ff5c30e6c4ec"
   },
   "outputs": [
    {
     "name": "stdout",
     "output_type": "stream",
     "text": [
      "2017-12-21 00:00:00 <class 'datetime.datetime'>\n"
     ]
    }
   ],
   "source": [
    "from dateutil.parser import parse\n",
    "# 直接将str转化成datetime.datetime\n",
    "date = '12-21-2017'\n",
    "t = parse(date)\n",
    "print(t,type(t))"
   ]
  },
  {
   "cell_type": "code",
   "execution_count": null,
   "metadata": {
    "id": "QAjKtmt-BHnQ"
   },
   "outputs": [],
   "source": []
  },
  {
   "cell_type": "code",
   "execution_count": null,
   "metadata": {
    "id": "ntWAFZDJAykl"
   },
   "outputs": [],
   "source": []
  },
  {
   "cell_type": "markdown",
   "metadata": {
    "id": "BmNgMaieX2Y_"
   },
   "source": [
    "#### 统计"
   ]
  },
  {
   "cell_type": "markdown",
   "metadata": {
    "id": "MC99zEPNCGfn"
   },
   "source": [
    "##### 统计量计算"
   ]
  },
  {
   "cell_type": "markdown",
   "metadata": {
    "id": "IZP6ShJCCRh2"
   },
   "source": [
    "主要数学计算方法，可用于Series和DataFrame（1）"
   ]
  },
  {
   "cell_type": "code",
   "execution_count": null,
   "metadata": {
    "colab": {
     "base_uri": "https://localhost:8080/"
    },
    "collapsed": true,
    "executionInfo": {
     "elapsed": 4786,
     "status": "ok",
     "timestamp": 1615375801396,
     "user": {
      "displayName": "黄不盈",
      "photoUrl": "",
      "userId": "09846410536788032197"
     },
     "user_tz": -480
    },
    "id": "DYrIykMZCKM7",
    "outputId": "2f5ddce3-a155-4e12-dee6-66e1fb271c2f"
   },
   "outputs": [
    {
     "name": "stdout",
     "output_type": "stream",
     "text": [
      "   key1      key2\n",
      "0     0  1.810542\n",
      "1     1  3.862983\n",
      "2     2  8.321969\n",
      "3     3  8.492416\n",
      "4     4  2.930916\n",
      "5     5  1.087319\n",
      "6     6  0.102702\n",
      "7     7  7.422679\n",
      "8     8  9.503780\n",
      "9     9  1.403249\n",
      "-----\n",
      "key1    10\n",
      "key2    10\n",
      "dtype: int64 → count统计非Na值的数量\n",
      "\n",
      "key1    0.000000\n",
      "key2    0.102702\n",
      "dtype: float64 → min统计最小值\n",
      " 9.503779983624357 → max统计最大值\n",
      "\n",
      "key1    6.750000\n",
      "key2    8.097147\n",
      "Name: 0.75, dtype: float64 → quantile统计分位数，参数q确定位置\n",
      "\n",
      "key1    45.000000\n",
      "key2    44.938556\n",
      "dtype: float64 → sum求和\n",
      "\n",
      "key1    4.500000\n",
      "key2    4.493856\n",
      "dtype: float64 → mean求平均值\n",
      "\n",
      "key1    4.500000\n",
      "key2    3.396949\n",
      "dtype: float64 → median求算数中位数，50%分位数\n",
      "\n",
      "key1    3.027650\n",
      "key2    3.571489\n",
      "dtype: float64 \n",
      " key1     9.166667\n",
      "key2    12.755534\n",
      "dtype: float64 → std,var分别求标准差，方差\n",
      "\n",
      "key1    0.00000\n",
      "key2    0.28593\n",
      "dtype: float64 → skew样本的偏度\n",
      "\n",
      "key1   -1.200000\n",
      "key2   -1.884999\n",
      "dtype: float64 → kurt样本的峰度\n",
      "\n"
     ]
    }
   ],
   "source": [
    "df = pd.DataFrame({'key1':np.arange(10),\n",
    "  'key2':np.random.rand(10)*10})\n",
    "print(df)\n",
    "print('-----')\n",
    "# mean(axis=0) 以行来计算\n",
    "# 只统计数字列\n",
    "print(df.count(),'→ count统计非Na值的数量\\n')\n",
    "print(df.min(),'→ min统计最小值\\n',df['key2'].max(),'→ max统计最大值\\n')\n",
    "print(df.quantile(q=0.75),'→ quantile统计分位数，参数q确定位置\\n')\n",
    "print(df.sum(),'→ sum求和\\n')\n",
    "print(df.mean(),'→ mean求平均值\\n')\n",
    "print(df.median(),'→ median求算数中位数，50%分位数\\n')\n",
    "print(df.std(),'\\n',df.var(),'→ std,var分别求标准差，方差\\n')\n",
    "print(df.skew(),'→ skew样本的偏度\\n')\n",
    "print(df.kurt(),'→ kurt样本的峰度\\n')"
   ]
  },
  {
   "cell_type": "markdown",
   "metadata": {
    "id": "Yq_ceGIgCV8n"
   },
   "source": [
    "主要数学计算方法，可用于Series和DataFrame（2）"
   ]
  },
  {
   "cell_type": "code",
   "execution_count": null,
   "metadata": {
    "colab": {
     "base_uri": "https://localhost:8080/"
    },
    "collapsed": true,
    "executionInfo": {
     "elapsed": 4767,
     "status": "ok",
     "timestamp": 1615375801398,
     "user": {
      "displayName": "黄不盈",
      "photoUrl": "",
      "userId": "09846410536788032197"
     },
     "user_tz": -480
    },
    "id": "w6pbtCMYCZK7",
    "outputId": "b3ad56de-82af-4082-e2fb-6a73cb905613"
   },
   "outputs": [
    {
     "name": "stdout",
     "output_type": "stream",
     "text": [
      "   key1      key2  key1_s     key2_s\n",
      "0     0  1.810542       0   1.810542\n",
      "1     1  3.862983       1   5.673525\n",
      "2     2  8.321969       3  13.995494\n",
      "3     3  8.492416       6  22.487910\n",
      "4     4  2.930916      10  25.418826\n",
      "5     5  1.087319      15  26.506145\n",
      "6     6  0.102702      21  26.608847\n",
      "7     7  7.422679      28  34.031526\n",
      "8     8  9.503780      36  43.535306\n",
      "9     9  1.403249      45  44.938556 → cumsum样本的累计和\n",
      "\n",
      "   key1      key2  key1_s     key2_s  key1_p        key2_p\n",
      "0     0  1.810542       0   1.810542       0      1.810542\n",
      "1     1  3.862983       1   5.673525       0      6.994094\n",
      "2     2  8.321969       3  13.995494       0     58.204638\n",
      "3     3  8.492416       6  22.487910       0    494.297984\n",
      "4     4  2.930916      10  25.418826       0   1448.745799\n",
      "5     5  1.087319      15  26.506145       0   1575.249369\n",
      "6     6  0.102702      21  26.608847       0    161.780532\n",
      "7     7  7.422679      28  34.031526       0   1200.845012\n",
      "8     8  9.503780      36  43.535306       0  11412.566792\n",
      "9     9  1.403249      45  44.938556       0  16014.678557 → cumprod样本的累计积\n",
      "\n",
      "   key1      key2  key1_s     key2_s  key1_p        key2_p\n",
      "0     0  1.810542       0   1.810542       0      1.810542\n",
      "1     1  3.862983       1   5.673525       0      6.994094\n",
      "2     2  8.321969       3  13.995494       0     58.204638\n",
      "3     3  8.492416       6  22.487910       0    494.297984\n",
      "4     4  8.492416      10  25.418826       0   1448.745799\n",
      "5     5  8.492416      15  26.506145       0   1575.249369\n",
      "6     6  8.492416      21  26.608847       0   1575.249369\n",
      "7     7  8.492416      28  34.031526       0   1575.249369\n",
      "8     8  9.503780      36  43.535306       0  11412.566792\n",
      "9     9  9.503780      45  44.938556       0  16014.678557 \n",
      "    key1      key2  key1_s    key2_s  key1_p    key2_p\n",
      "0     0  1.810542       0  1.810542       0  1.810542\n",
      "1     0  1.810542       0  1.810542       0  1.810542\n",
      "2     0  1.810542       0  1.810542       0  1.810542\n",
      "3     0  1.810542       0  1.810542       0  1.810542\n",
      "4     0  1.810542       0  1.810542       0  1.810542\n",
      "5     0  1.087319       0  1.810542       0  1.810542\n",
      "6     0  0.102702       0  1.810542       0  1.810542\n",
      "7     0  0.102702       0  1.810542       0  1.810542\n",
      "8     0  0.102702       0  1.810542       0  1.810542\n",
      "9     0  0.102702       0  1.810542       0  1.810542 → cummax,cummin分别求累计最大值，累计最小值\n",
      "\n"
     ]
    }
   ],
   "source": [
    "df['key1_s'] = df['key1'].cumsum()\n",
    "df['key2_s'] = df['key2'].cumsum()\n",
    "print(df,'→ cumsum样本的累计和\\n')\n",
    "\n",
    "df['key1_p'] = df['key1'].cumprod()\n",
    "df['key2_p'] = df['key2'].cumprod()\n",
    "print(df,'→ cumprod样本的累计积\\n')\n",
    "\n",
    "print(df.cummax(),'\\n',df.cummin(),'→ cummax,cummin分别求累计最大值，累计最小值\\n')\n",
    "# 会填充key1，和key2的值"
   ]
  },
  {
   "cell_type": "markdown",
   "metadata": {
    "id": "XFvNOPfSDDTv"
   },
   "source": []
  },
  {
   "cell_type": "markdown",
   "metadata": {
    "id": "x75s4J5VudXz"
   },
   "source": [
    "##### 排序&皮尔逊系数"
   ]
  },
  {
   "cell_type": "markdown",
   "metadata": {
    "id": "bImUTbFs7tkP"
   },
   "source": [
    "将一列按值单列排序的两种方式（不改变原数组）"
   ]
  },
  {
   "cell_type": "code",
   "execution_count": null,
   "metadata": {
    "colab": {
     "base_uri": "https://localhost:8080/"
    },
    "executionInfo": {
     "elapsed": 4747,
     "status": "ok",
     "timestamp": 1615375801400,
     "user": {
      "displayName": "黄不盈",
      "photoUrl": "",
      "userId": "09846410536788032197"
     },
     "user_tz": -480
    },
    "id": "gczfbGMiudX0",
    "outputId": "6471d9dd-a2d0-4689-8a38-8c591d2dcb82",
    "scrolled": true
   },
   "outputs": [
    {
     "data": {
      "text/plain": [
       "3    34\n",
       "1    23\n",
       "4    12\n",
       "2     4\n",
       "0     1\n",
       "Name: 0, dtype: int64"
      ]
     },
     "execution_count": 61,
     "metadata": {
      "tags": []
     },
     "output_type": "execute_result"
    }
   ],
   "source": [
    "frame = pd.DataFrame([1,23,4,34,12])\n",
    "frame[1]=[21,43,13,12,34]\n",
    "frame[0].sort_values(ascending=False)"
   ]
  },
  {
   "cell_type": "markdown",
   "metadata": {
    "id": "vQ0tMcPM8BD1"
   },
   "source": [
    "将DataFrame按值排序（不改变原数组）"
   ]
  },
  {
   "cell_type": "code",
   "execution_count": null,
   "metadata": {
    "colab": {
     "base_uri": "https://localhost:8080/"
    },
    "executionInfo": {
     "elapsed": 4726,
     "status": "ok",
     "timestamp": 1615375801401,
     "user": {
      "displayName": "黄不盈",
      "photoUrl": "",
      "userId": "09846410536788032197"
     },
     "user_tz": -480
    },
    "id": "4dyBW4rW74rt",
    "outputId": "f21f3fba-2718-4216-98d6-f3549fe7c97d"
   },
   "outputs": [
    {
     "name": "stdout",
     "output_type": "stream",
     "text": [
      "           a          b          c          d\n",
      "0  41.340581  12.138586  12.872545  37.660353\n",
      "1  99.627629   0.056142  33.552385  90.759080\n",
      "2  57.379974  82.056705  26.964067  37.813078\n",
      "3   2.620149  18.030605  87.859388  87.511978\n",
      "           a          b          c          d\n",
      "3   2.620149  18.030605  87.859388  87.511978\n",
      "0  41.340581  12.138586  12.872545  37.660353\n",
      "2  57.379974  82.056705  26.964067  37.813078\n",
      "1  99.627629   0.056142  33.552385  90.759080\n"
     ]
    }
   ],
   "source": [
    "df1 = pd.DataFrame(np.random.rand(16).reshape(4,4)*100,\n",
    "                   columns = ['a','b','c','d'])\n",
    "print(df1)\n",
    "print(df1.sort_values(['a'], ascending = True))  # 升序\n",
    "# 或者df1.sort_values(by=\"a\", ascending = True)"
   ]
  },
  {
   "cell_type": "markdown",
   "metadata": {
    "id": "sTlrzDHr8Yza"
   },
   "source": [
    "将一列按索引大小排序"
   ]
  },
  {
   "cell_type": "code",
   "execution_count": null,
   "metadata": {
    "colab": {
     "base_uri": "https://localhost:8080/"
    },
    "executionInfo": {
     "elapsed": 4706,
     "status": "ok",
     "timestamp": 1615375801403,
     "user": {
      "displayName": "黄不盈",
      "photoUrl": "",
      "userId": "09846410536788032197"
     },
     "user_tz": -480
    },
    "id": "wrLLW0jl8bw-",
    "outputId": "addd05d6-2a3e-4585-907f-54d27446a518"
   },
   "outputs": [
    {
     "name": "stdout",
     "output_type": "stream",
     "text": [
      "           a          b          c          d\n",
      "5  81.558886   7.387909  92.251115  27.461980\n",
      "4  18.911603  11.418206  74.812883  53.209303\n",
      "3  65.862582  48.439419  67.214952   1.882823\n",
      "2  61.780122  84.967089  17.427417  89.381201\n",
      "           a          b          c          d\n",
      "2  61.780122  84.967089  17.427417  89.381201\n",
      "3  65.862582  48.439419  67.214952   1.882823\n",
      "4  18.911603  11.418206  74.812883  53.209303\n",
      "5  81.558886   7.387909  92.251115  27.461980\n"
     ]
    }
   ],
   "source": [
    "df1 = pd.DataFrame(np.random.rand(16).reshape(4,4)*100,\n",
    "                  index = [5,4,3,2],\n",
    "                   columns = ['a','b','c','d'])\n",
    "\n",
    "print(df1)\n",
    "print(df1.sort_index())"
   ]
  },
  {
   "cell_type": "markdown",
   "metadata": {
    "id": "EnLGkRKi7wHR"
   },
   "source": [
    "将一列按索引输入列表排序"
   ]
  },
  {
   "cell_type": "code",
   "execution_count": null,
   "metadata": {
    "colab": {
     "base_uri": "https://localhost:8080/",
     "height": 202
    },
    "executionInfo": {
     "elapsed": 4690,
     "status": "ok",
     "timestamp": 1615375801409,
     "user": {
      "displayName": "黄不盈",
      "photoUrl": "",
      "userId": "09846410536788032197"
     },
     "user_tz": -480
    },
    "id": "u66Gd5Om23bc",
    "outputId": "114ca63f-6737-468b-a71d-e01a97386fdc"
   },
   "outputs": [
    {
     "data": {
      "text/html": [
       "<div>\n",
       "<style scoped>\n",
       "    .dataframe tbody tr th:only-of-type {\n",
       "        vertical-align: middle;\n",
       "    }\n",
       "\n",
       "    .dataframe tbody tr th {\n",
       "        vertical-align: top;\n",
       "    }\n",
       "\n",
       "    .dataframe thead th {\n",
       "        text-align: right;\n",
       "    }\n",
       "</style>\n",
       "<table border=\"1\" class=\"dataframe\">\n",
       "  <thead>\n",
       "    <tr style=\"text-align: right;\">\n",
       "      <th></th>\n",
       "      <th>year</th>\n",
       "      <th>state</th>\n",
       "      <th>pop</th>\n",
       "      <th>debt</th>\n",
       "      <th>4</th>\n",
       "    </tr>\n",
       "  </thead>\n",
       "  <tbody>\n",
       "    <tr>\n",
       "      <th>one</th>\n",
       "      <td>10</td>\n",
       "      <td>10</td>\n",
       "      <td>10.0</td>\n",
       "      <td>10</td>\n",
       "      <td>None</td>\n",
       "    </tr>\n",
       "    <tr>\n",
       "      <th>three</th>\n",
       "      <td>10</td>\n",
       "      <td>Ohio</td>\n",
       "      <td>3.6</td>\n",
       "      <td>NaN</td>\n",
       "      <td>None</td>\n",
       "    </tr>\n",
       "    <tr>\n",
       "      <th>1</th>\n",
       "      <td>0</td>\n",
       "      <td>0</td>\n",
       "      <td>0.0</td>\n",
       "      <td>0</td>\n",
       "      <td>0</td>\n",
       "    </tr>\n",
       "    <tr>\n",
       "      <th>4</th>\n",
       "      <td>0</td>\n",
       "      <td>0</td>\n",
       "      <td>0.0</td>\n",
       "      <td>0</td>\n",
       "      <td>0</td>\n",
       "    </tr>\n",
       "    <tr>\n",
       "      <th>3</th>\n",
       "      <td>0</td>\n",
       "      <td>0</td>\n",
       "      <td>0.0</td>\n",
       "      <td>0</td>\n",
       "      <td>0</td>\n",
       "    </tr>\n",
       "  </tbody>\n",
       "</table>\n",
       "</div>"
      ],
      "text/plain": [
       "       year state   pop debt     4\n",
       "one      10    10  10.0   10  None\n",
       "three    10  Ohio   3.6  NaN  None\n",
       "1         0     0   0.0    0     0\n",
       "4         0     0   0.0    0     0\n",
       "3         0     0   0.0    0     0"
      ]
     },
     "execution_count": 64,
     "metadata": {
      "tags": []
     },
     "output_type": "execute_result"
    }
   ],
   "source": [
    "frame2.reindex([\"one\",\"three\",1,4,3],fill_value=0)"
   ]
  },
  {
   "cell_type": "markdown",
   "metadata": {
    "heading_collapsed": true,
    "id": "oZnQXhTAudX1"
   },
   "source": [
    "##### 对一组数据分组并计算组内元素个数"
   ]
  },
  {
   "cell_type": "code",
   "execution_count": 1,
   "metadata": {
    "colab": {
     "base_uri": "https://localhost:8080/"
    },
    "executionInfo": {
     "elapsed": 4670,
     "status": "ok",
     "timestamp": 1615375801411,
     "user": {
      "displayName": "黄不盈",
      "photoUrl": "",
      "userId": "09846410536788032197"
     },
     "user_tz": -480
    },
    "hidden": true,
    "id": "VwckqWmAXuJ6",
    "outputId": "6961ab9a-eddc-46a3-8435-1ffa4af4f379"
   },
   "outputs": [
    {
     "ename": "NameError",
     "evalue": "name 'pd' is not defined",
     "output_type": "error",
     "traceback": [
      "\u001b[1;31m---------------------------------------------------------------------------\u001b[0m",
      "\u001b[1;31mNameError\u001b[0m                                 Traceback (most recent call last)",
      "\u001b[1;32m<ipython-input-1-cb269361f9be>\u001b[0m in \u001b[0;36m<module>\u001b[1;34m\u001b[0m\n\u001b[0;32m      1\u001b[0m \u001b[0mdata\u001b[0m\u001b[1;33m=\u001b[0m\u001b[1;33m[\u001b[0m\u001b[1;36m1\u001b[0m\u001b[1;33m,\u001b[0m\u001b[1;36m2\u001b[0m\u001b[1;33m,\u001b[0m\u001b[1;36m2\u001b[0m\u001b[1;33m,\u001b[0m\u001b[1;36m3\u001b[0m\u001b[1;33m,\u001b[0m\u001b[1;36m4\u001b[0m\u001b[1;33m,\u001b[0m\u001b[1;36m5\u001b[0m\u001b[1;33m,\u001b[0m\u001b[1;36m6\u001b[0m\u001b[1;33m,\u001b[0m\u001b[1;36m7\u001b[0m\u001b[1;33m,\u001b[0m\u001b[1;36m6\u001b[0m\u001b[1;33m,\u001b[0m\u001b[1;36m8\u001b[0m\u001b[1;33m,\u001b[0m\u001b[1;36m6\u001b[0m\u001b[1;33m,\u001b[0m\u001b[1;36m3\u001b[0m\u001b[1;33m,\u001b[0m\u001b[1;36m5\u001b[0m\u001b[1;33m,\u001b[0m\u001b[1;36m6\u001b[0m\u001b[1;33m]\u001b[0m\u001b[1;33m\u001b[0m\u001b[1;33m\u001b[0m\u001b[0m\n\u001b[1;32m----> 2\u001b[1;33m \u001b[0mdata_cut\u001b[0m \u001b[1;33m=\u001b[0m \u001b[0mpd\u001b[0m\u001b[1;33m.\u001b[0m\u001b[0mcut\u001b[0m\u001b[1;33m(\u001b[0m\u001b[0mdata\u001b[0m\u001b[1;33m,\u001b[0m\u001b[0mnp\u001b[0m\u001b[1;33m.\u001b[0m\u001b[0marange\u001b[0m\u001b[1;33m(\u001b[0m\u001b[1;36m0\u001b[0m\u001b[1;33m,\u001b[0m\u001b[1;36m9\u001b[0m\u001b[1;33m,\u001b[0m\u001b[1;36m1\u001b[0m\u001b[1;33m)\u001b[0m\u001b[1;33m)\u001b[0m\u001b[1;33m\u001b[0m\u001b[1;33m\u001b[0m\u001b[0m\n\u001b[0m\u001b[0;32m      3\u001b[0m \u001b[0mdata_cut\u001b[0m\u001b[1;33m.\u001b[0m\u001b[0mvalue_counts\u001b[0m\u001b[1;33m(\u001b[0m\u001b[1;33m)\u001b[0m\u001b[1;33m\u001b[0m\u001b[1;33m\u001b[0m\u001b[0m\n",
      "\u001b[1;31mNameError\u001b[0m: name 'pd' is not defined"
     ]
    }
   ],
   "source": [
    "data=[1,2,2,3,4,5,6,7,6,8,6,3,5,6]\n",
    "data_cut = pd.cut(data,np.arange(0,9,1))\n",
    "data_cut.value_counts()"
   ]
  },
  {
   "cell_type": "code",
   "execution_count": null,
   "metadata": {
    "colab": {
     "base_uri": "https://localhost:8080/"
    },
    "executionInfo": {
     "elapsed": 4652,
     "status": "ok",
     "timestamp": 1615375801413,
     "user": {
      "displayName": "黄不盈",
      "photoUrl": "",
      "userId": "09846410536788032197"
     },
     "user_tz": -480
    },
    "hidden": true,
    "id": "QXYHM5nFYoCk",
    "outputId": "cfdf24a4-c966-47f0-f3d0-73b91659ab72"
   },
   "outputs": [
    {
     "data": {
      "text/plain": [
       "array([[<matplotlib.axes._subplots.AxesSubplot object at 0x7f6d433a1bd0>]],\n",
       "      dtype=object)"
      ]
     },
     "execution_count": 66,
     "metadata": {
      "tags": []
     },
     "output_type": "execute_result"
    },
    {
     "data": {
      "image/png": "[encoded data removed]",
      "text/plain": [
       "<Figure size 432x288 with 1 Axes>"
      ]
     },
     "metadata": {
      "needs_background": "light",
      "tags": []
     },
     "output_type": "display_data"
    }
   ],
   "source": [
    "pd.DataFrame(data_cut.value_counts()).hist()"
   ]
  },
  {
   "cell_type": "markdown",
   "metadata": {
    "id": "ER-Nt6UidjTI"
   },
   "source": [
    "#### 读取文件"
   ]
  },
  {
   "cell_type": "markdown",
   "metadata": {
    "id": "aYbNnew7RGso"
   },
   "source": [
    "读取excel\n",
    "```\n",
    "data3 = pd.read_excel('地市级.xlsx',sheetname='中国人民',header=0)\n",
    "```"
   ]
  },
  {
   "cell_type": "markdown",
   "metadata": {
    "id": "tnYnSDsDRTbP"
   },
   "source": [
    "读取csv\n",
    "```\n",
    "data2 = pd.read_csv('data2.csv',engine = 'python')\n",
    "print(data2.head())\n",
    "# engine：使用的分析引擎。可以选择C或者是python。C引擎快但是Python引擎功能更加完备。\n",
    "# encoding：指定字符集类型，即编码，通常指定为'utf-8'\n",
    "```"
   ]
  },
  {
   "cell_type": "markdown",
   "metadata": {
    "id": "7Pn4ZvgzTQQU"
   },
   "source": [
    "打开json文件\n",
    "```\n",
    "db = json.load(open('datasets/usda_food/database.json'))\n",
    "```"
   ]
  },
  {
   "cell_type": "markdown",
   "metadata": {
    "id": "nVKuGd0AudX5"
   },
   "source": [
    "#### 绘图"
   ]
  },
  {
   "cell_type": "markdown",
   "metadata": {
    "id": "8DEmvYbdN0sQ"
   },
   "source": [
    "默认为折线图\n",
    "```\n",
    "df.plot.line() # 折线的全写方式\n",
    "df.plot.bar() # 柱状图\n",
    "df.plot.barh() # 横向柱状图 （条形图）\n",
    "df.plot.hist() # 直方图\n",
    "df.plot.box() # 箱形图\n",
    "df.plot.kde() # 核密度估计图\n",
    "df.plot.density() # 同 df.plot.kde()\n",
    "df.plot.area() # 面积图\n",
    "df.plot.pie() # 饼图\n",
    "df.plot.scatter() # 散点图\n",
    "df.plot.hexbin() # 六边形箱体图，或简称六边形图\n",
    "```\n",
    "也可以在plot中指定\n",
    "```\n",
    "housing.plot(kind=\"scatter\", x=\"longitude\", y=\"latitude\", alpha=0.2)\n",
    "# alpha设置透明度，点重叠的地方会更不透明\n",
    "```"
   ]
  },
  {
   "cell_type": "code",
   "execution_count": null,
   "metadata": {
    "id": "vNVbU6iQudX6"
   },
   "outputs": [],
   "source": [
    "import pandas as pd\n",
    "import numpy as np\n",
    "import matplotlib.pyplot as plt"
   ]
  },
  {
   "cell_type": "markdown",
   "metadata": {
    "id": "rhbite5yN-gQ"
   },
   "source": [
    "##### Series"
   ]
  },
  {
   "cell_type": "code",
   "execution_count": 59,
   "metadata": {
    "colab": {
     "base_uri": "https://localhost:8080/",
     "height": 307
    },
    "executionInfo": {
     "elapsed": 1482,
     "status": "ok",
     "timestamp": 1615431451787,
     "user": {
      "displayName": "黄不盈",
      "photoUrl": "",
      "userId": "09846410536788032197"
     },
     "user_tz": -480
    },
    "id": "PoSS0UEXNCO3",
    "outputId": "ee7e12e6-2945-419c-d820-f720cb7d028e"
   },
   "outputs": [
    {
     "data": {
      "text/plain": [
       "<AxesSubplot:>"
      ]
     },
     "execution_count": 59,
     "metadata": {},
     "output_type": "execute_result"
    },
    {
     "data": {
      "image/png": "[encoded data removed]",
      "text/plain": [
       "<Figure size 432x288 with 1 Axes>"
      ]
     },
     "metadata": {
      "needs_background": "light"
     },
     "output_type": "display_data"
    }
   ],
   "source": [
    "%matplotlib inline\n",
    "ts = pd.Series(np.random.randn(20),index=pd.date_range('1/1/2000', periods=20))\n",
    "ts.plot()"
   ]
  },
  {
   "cell_type": "markdown",
   "metadata": {
    "id": "T2ANCLyiOC2j"
   },
   "source": [
    "##### DataFrame：为多重列表时，x轴是竖向的"
   ]
  },
  {
   "cell_type": "code",
   "execution_count": null,
   "metadata": {
    "colab": {
     "base_uri": "https://localhost:8080/",
     "height": 307
    },
    "executionInfo": {
     "elapsed": 1746,
     "status": "ok",
     "timestamp": 1615431517594,
     "user": {
      "displayName": "黄不盈",
      "photoUrl": "",
      "userId": "09846410536788032197"
     },
     "user_tz": -480
    },
    "id": "wkIZGx8RNTq-",
    "outputId": "005cc9b0-84b9-43d7-a3ee-d917d02d30ab"
   },
   "outputs": [
    {
     "data": {
      "text/plain": [
       "<matplotlib.axes._subplots.AxesSubplot at 0x7f5aa1dd0250>"
      ]
     },
     "execution_count": 10,
     "metadata": {
      "tags": []
     },
     "output_type": "execute_result"
    },
    {
     "data": {
      "image/png": "[encoded data removed]",
      "text/plain": [
       "<Figure size 432x288 with 1 Axes>"
      ]
     },
     "metadata": {
      "needs_background": "light",
      "tags": []
     },
     "output_type": "display_data"
    }
   ],
   "source": [
    "df = pd.DataFrame(np.random.randn(6, 4),index=pd.date_range('1/1/2000', periods=6),columns=list('ABCD'))\n",
    "df.plot()"
   ]
  },
  {
   "cell_type": "markdown",
   "metadata": {
    "id": "-tGzqFMeO7RH"
   },
   "source": [
    "##### DataFrame 在绘图时可以指定 x 和 y 轴的列"
   ]
  },
  {
   "cell_type": "code",
   "execution_count": null,
   "metadata": {
    "colab": {
     "base_uri": "https://localhost:8080/",
     "height": 297
    },
    "executionInfo": {
     "elapsed": 1767,
     "status": "ok",
     "timestamp": 1615431726778,
     "user": {
      "displayName": "黄不盈",
      "photoUrl": "",
      "userId": "09846410536788032197"
     },
     "user_tz": -480
    },
    "id": "QeVOS-NYO-ED",
    "outputId": "c04c4cea-8f1e-407f-d0e3-00739dca3746"
   },
   "outputs": [
    {
     "data": {
      "text/plain": [
       "<matplotlib.axes._subplots.AxesSubplot at 0x7f5aa1d5bd50>"
      ]
     },
     "execution_count": 12,
     "metadata": {
      "tags": []
     },
     "output_type": "execute_result"
    },
    {
     "data": {
      "image/png": "[encoded data removed]",
      "text/plain": [
       "<Figure size 432x288 with 1 Axes>"
      ]
     },
     "metadata": {
      "needs_background": "light",
      "tags": []
     },
     "output_type": "display_data"
    }
   ],
   "source": [
    "df3 = pd.DataFrame(np.random.randn(1000, 2), columns=['B', 'C']).cumsum()\n",
    "df3['A'] = pd.Series(list(range(len(df))))\n",
    "df3.plot(x='A', y='B') # 指定 x 和 y 轴内容"
   ]
  },
  {
   "cell_type": "markdown",
   "metadata": {
    "id": "p50rOa-DPGqz"
   },
   "source": [
    "如果 y 轴需要多个值，可以传入列表："
   ]
  },
  {
   "cell_type": "code",
   "execution_count": null,
   "metadata": {
    "colab": {
     "base_uri": "https://localhost:8080/",
     "height": 297
    },
    "executionInfo": {
     "elapsed": 1897,
     "status": "ok",
     "timestamp": 1615431802706,
     "user": {
      "displayName": "黄不盈",
      "photoUrl": "",
      "userId": "09846410536788032197"
     },
     "user_tz": -480
    },
    "id": "tA8gRJYcPCj4",
    "outputId": "915dc586-7017-4dfe-85d4-e4bb7a0ff96c",
    "scrolled": true
   },
   "outputs": [
    {
     "data": {
      "text/plain": [
       "<matplotlib.axes._subplots.AxesSubplot at 0x7f5aa1c44c10>"
      ]
     },
     "execution_count": 14,
     "metadata": {
      "tags": []
     },
     "output_type": "execute_result"
    },
    {
     "data": {
      "image/png": "[encoded data removed]",
      "text/plain": [
       "<Figure size 432x288 with 1 Axes>"
      ]
     },
     "metadata": {
      "needs_background": "light",
      "tags": []
     },
     "output_type": "display_data"
    }
   ],
   "source": [
    "df3.plot(x='B', y=['A','C'])"
   ]
  },
  {
   "cell_type": "markdown",
   "metadata": {
    "id": "NapXyPGaTmHi"
   },
   "source": [
    "### SymPy"
   ]
  },
  {
   "cell_type": "markdown",
   "metadata": {
    "id": "KahwRBJOTmHi"
   },
   "source": [
    "SymPy objects是常量，不会因求值，替换等而改变。"
   ]
  },
  {
   "cell_type": "markdown",
   "metadata": {
    "heading_collapsed": true,
    "id": "cYNiqhe1TmHj"
   },
   "source": [
    "#### Rational值"
   ]
  },
  {
   "cell_type": "markdown",
   "metadata": {
    "hidden": true,
    "id": "W3BZCNv7TmHj"
   },
   "source": [
    "该表达形式为符号形式。 我们使用evalf()方法对其进行求值。<br>\n",
    "注意，当不使用有理数时，输出中会有一个小错误。"
   ]
  },
  {
   "cell_type": "code",
   "execution_count": null,
   "metadata": {
    "hidden": true,
    "id": "g_YYG8HxTmHk",
    "outputId": "40bbb9b8-4b27-42d8-a9eb-ad4e46141fea"
   },
   "outputs": [
    {
     "name": "stdout",
     "output_type": "stream",
     "text": [
      "0.900000000000000\n",
      "0.9000000000000001\n"
     ]
    }
   ],
   "source": [
    "from sympy import Rational\n",
    "\n",
    "r1 = Rational(1/10)\n",
    "r2 = Rational(1/10)\n",
    "r3 = Rational(1/10)\n",
    "\n",
    "val = (r1 + r2 + r3) * 3\n",
    "print(val.evalf())\n",
    "\n",
    "val2 = (1/10 + 1/10 + 1/10) * 3\n",
    "print(val2)"
   ]
  },
  {
   "cell_type": "markdown",
   "metadata": {
    "id": "NpnOvsgGTmHk"
   },
   "source": [
    "#### pprint"
   ]
  },
  {
   "cell_type": "markdown",
   "metadata": {
    "id": "QeFpqHojTmHk"
   },
   "source": [
    "pprint()用于在控制台上漂亮地打印输出。 LaTeX 可以达到最佳效果，例如 在 Jupyter 笔记本中。"
   ]
  },
  {
   "cell_type": "code",
   "execution_count": null,
   "metadata": {
    "id": "qv4Cqb4XTmHk",
    "outputId": "2efa0863-1d64-46b6-a5e4-ccac54dd5442",
    "scrolled": true
   },
   "outputs": [
    {
     "name": "stdout",
     "output_type": "stream",
     "text": [
      "√2\n",
      "sqrt(2)\n",
      "------------------------\n",
      " 2⋅x\n",
      "ℯ   \n",
      "────\n",
      " 2  \n",
      "exp(2*x)/2\n"
     ]
    }
   ],
   "source": [
    "from sympy import pprint, Symbol, exp, sqrt\n",
    "from sympy import init_printing\n",
    "\n",
    "init_printing(use_unicode=True)   # 对于某些字符，我们需要启用 unicode 支持。\n",
    "\n",
    "x = Symbol('x')\n",
    "\n",
    "a = sqrt(2)\n",
    "pprint(a)\n",
    "print(a)\n",
    "\n",
    "print(\"------------------------\")\n",
    "\n",
    "c = (exp(x) ** 2)/2\n",
    "pprint(c)\n",
    "print(c)"
   ]
  },
  {
   "cell_type": "markdown",
   "metadata": {
    "heading_collapsed": true,
    "id": "FPDwlrHdTmHl"
   },
   "source": [
    "#### 平方根"
   ]
  },
  {
   "cell_type": "code",
   "execution_count": 16,
   "metadata": {
    "colab": {
     "base_uri": "https://localhost:8080/",
     "height": 91
    },
    "executionInfo": {
     "elapsed": 1035,
     "status": "ok",
     "timestamp": 1615775203496,
     "user": {
      "displayName": "黄不盈",
      "photoUrl": "",
      "userId": "09846410536788032197"
     },
     "user_tz": -480
    },
    "hidden": true,
    "id": "wf9BHNaSTmHl",
    "outputId": "187719d6-2479-4f04-b811-b42168e8e9c9"
   },
   "outputs": [
    {
     "name": "stdout",
     "output_type": "stream",
     "text": [
      "√2⋅√2\n",
      "equals to \n",
      "2\n"
     ]
    },
    {
     "data": {
      "text/latex": [
       "$\\displaystyle \\sqrt{2} \\sqrt{2}$"
      ],
      "text/plain": [
       "sqrt(2)*sqrt(2)"
      ]
     },
     "execution_count": 16,
     "metadata": {
      "tags": []
     },
     "output_type": "execute_result"
    }
   ],
   "source": [
    "from sympy import sqrt, pprint, Mul\n",
    "\n",
    "x = sqrt(2)\n",
    "y = sqrt(2)\n",
    "\n",
    "pprint(Mul(x,  y, evaluate=False))   # 使用evaluate属性推迟对乘法表达式的求值。\n",
    "print('equals to ')\n",
    "print(x * y)\n",
    "Mul(x,  y, evaluate=False)"
   ]
  },
  {
   "cell_type": "markdown",
   "metadata": {
    "heading_collapsed": true,
    "id": "WhbQrgskTmHl"
   },
   "source": [
    "#### SymPy 符号"
   ]
  },
  {
   "cell_type": "markdown",
   "metadata": {
    "hidden": true,
    "id": "AFf08Pk2TmHl"
   },
   "source": [
    "三种在 SymPy 中定义符号的方法"
   ]
  },
  {
   "cell_type": "markdown",
   "metadata": {
    "hidden": true,
    "id": "oBHv1aoRTmHl"
   },
   "source": [
    "从sympy.abc模块导入符号"
   ]
  },
  {
   "cell_type": "code",
   "execution_count": null,
   "metadata": {
    "hidden": true,
    "id": "x0bQY-bnTmHl",
    "outputId": "f74f247a-7277-4c14-c640-af6546aa368d",
    "scrolled": true
   },
   "outputs": [
    {
     "name": "stdout",
     "output_type": "stream",
     "text": [
      "2*x + 5*y\n"
     ]
    }
   ],
   "source": [
    "from sympy import Symbol, symbols\n",
    "from sympy.abc import x, y\n",
    "\n",
    "expr = 2*x + 5*y\n",
    "print(expr)"
   ]
  },
  {
   "cell_type": "markdown",
   "metadata": {
    "hidden": true,
    "id": "q3Q8QWyZTmHo"
   },
   "source": [
    "定义单个符号"
   ]
  },
  {
   "cell_type": "code",
   "execution_count": null,
   "metadata": {
    "hidden": true,
    "id": "S8ZZjCwGTmHo",
    "outputId": "c18235a9-00cb-4902-b5fb-8c80706f4e1d"
   },
   "outputs": [
    {
     "name": "stdout",
     "output_type": "stream",
     "text": [
      "a*b + a - b\n"
     ]
    }
   ],
   "source": [
    "a = Symbol('a')\n",
    "b = Symbol('b')\n",
    "\n",
    "expr2 = a*b + a - b\n",
    "print(expr2)"
   ]
  },
  {
   "cell_type": "markdown",
   "metadata": {
    "hidden": true,
    "id": "eVQfSLb0TmHo"
   },
   "source": [
    "定义多个符号"
   ]
  },
  {
   "cell_type": "code",
   "execution_count": null,
   "metadata": {
    "hidden": true,
    "id": "UHieQpWoTmHq",
    "outputId": "c6fb5d7d-f2e7-40d7-fef0-3dd82f5e5a94"
   },
   "outputs": [
    {
     "name": "stdout",
     "output_type": "stream",
     "text": [
      "3*i*j\n"
     ]
    }
   ],
   "source": [
    "i, j = symbols('i j')\n",
    "expr3 = 2*i*j + i*j\n",
    "print(expr3) "
   ]
  },
  {
   "cell_type": "markdown",
   "metadata": {
    "heading_collapsed": true,
    "id": "aCN5fmKmTmHq"
   },
   "source": [
    "#### SymPy 规范表达形式"
   ]
  },
  {
   "cell_type": "markdown",
   "metadata": {
    "hidden": true,
    "id": "1eCdzLmkTmHq"
   },
   "source": [
    "SymPy 会自动将表达式转换为规范形式"
   ]
  },
  {
   "cell_type": "code",
   "execution_count": null,
   "metadata": {
    "hidden": true,
    "id": "KPGzhTPGTmHq",
    "outputId": "f5cbe118-a3a7-4df4-d9bb-aa8f9440af08"
   },
   "outputs": [
    {
     "name": "stdout",
     "output_type": "stream",
     "text": [
      "2*a*b + 3*a + 4*b\n",
      "2⋅a⋅b + 3⋅a + 4⋅b\n"
     ]
    }
   ],
   "source": [
    "from sympy.abc import a, b\n",
    "\n",
    "expr = b*a + -4*a + b + a*b + 4*a + (a + b)*3\n",
    "\n",
    "print(expr)\n",
    "pprint(expr)"
   ]
  },
  {
   "cell_type": "markdown",
   "metadata": {
    "id": "aTeCKJ7fUEj3"
   },
   "source": [
    "####  扩展代数表达式expand()"
   ]
  },
  {
   "cell_type": "markdown",
   "metadata": {
    "id": "9q056m17Ui6y"
   },
   "source": [
    "分开成多项式"
   ]
  },
  {
   "cell_type": "code",
   "execution_count": null,
   "metadata": {
    "colab": {
     "base_uri": "https://localhost:8080/"
    },
    "executionInfo": {
     "elapsed": 2060,
     "status": "ok",
     "timestamp": 1615768703171,
     "user": {
      "displayName": "黄不盈",
      "photoUrl": "",
      "userId": "09846410536788032197"
     },
     "user_tz": -480
    },
    "id": "PKdDU9LpUaSC",
    "outputId": "d302c6b6-9e62-4c51-f172-874f8e8f42eb"
   },
   "outputs": [
    {
     "name": "stdout",
     "output_type": "stream",
     "text": [
      "       2\n",
      "(x + 1) \n",
      "-----------------------\n",
      "-----------------------\n",
      " 2          \n",
      "x  + 2⋅x + 1\n"
     ]
    }
   ],
   "source": [
    "from sympy import expand, pprint\n",
    "from sympy.abc import x\n",
    "\n",
    "expr = (x + 1) ** 2\n",
    "\n",
    "pprint(expr)\n",
    "\n",
    "print('-----------------------')\n",
    "print('-----------------------')\n",
    "\n",
    "expr = expand(expr)\n",
    "pprint(expr)"
   ]
  },
  {
   "cell_type": "markdown",
   "metadata": {
    "id": "LaWAQMB5UmYT"
   },
   "source": [
    "#### 简化表达式simplify()"
   ]
  },
  {
   "cell_type": "code",
   "execution_count": null,
   "metadata": {
    "colab": {
     "base_uri": "https://localhost:8080/"
    },
    "executionInfo": {
     "elapsed": 930,
     "status": "ok",
     "timestamp": 1615768805075,
     "user": {
      "displayName": "黄不盈",
      "photoUrl": "",
      "userId": "09846410536788032197"
     },
     "user_tz": -480
    },
    "id": "xhDjlYmhU1Tn",
    "outputId": "d716fe5a-3ca8-46be-c78c-0d2c59a4282d"
   },
   "outputs": [
    {
     "name": "stdout",
     "output_type": "stream",
     "text": [
      "sin(x)\n",
      "──────\n",
      "cos(x)\n",
      "-----------------------\n",
      "tan(x)\n"
     ]
    }
   ],
   "source": [
    "from sympy import sin, cos, simplify, pprint\n",
    "from sympy.abc import x\n",
    "\n",
    "expr = sin(x) / cos(x)\n",
    "\n",
    "pprint(expr)\n",
    "\n",
    "print('-----------------------')\n",
    "\n",
    "expr = simplify(expr)\n",
    "pprint(expr)"
   ]
  },
  {
   "cell_type": "markdown",
   "metadata": {
    "id": "7W6HtXrnU6xT"
   },
   "source": [
    "#### 比较表达式equals()"
   ]
  },
  {
   "cell_type": "markdown",
   "metadata": {
    "id": "3MgB0OExV-UO"
   },
   "source": [
    "在应用该方法之前，SymPy 尝试简化表达式。"
   ]
  },
  {
   "cell_type": "code",
   "execution_count": null,
   "metadata": {
    "colab": {
     "base_uri": "https://localhost:8080/"
    },
    "executionInfo": {
     "elapsed": 853,
     "status": "ok",
     "timestamp": 1615768860420,
     "user": {
      "displayName": "黄不盈",
      "photoUrl": "",
      "userId": "09846410536788032197"
     },
     "user_tz": -480
    },
    "id": "czcGvzsTVAFA",
    "outputId": "3c719855-22c5-4940-fda4-e93cf1afcedb"
   },
   "outputs": [
    {
     "name": "stdout",
     "output_type": "stream",
     "text": [
      "True\n",
      "False\n"
     ]
    }
   ],
   "source": [
    "from sympy import pprint, Symbol, sin, cos\n",
    "\n",
    "x = Symbol('x')\n",
    "\n",
    "a = cos(x)**2 - sin(x)**2\n",
    "b = cos(2*x)\n",
    "\n",
    "print(a.equals(b))\n",
    "\n",
    "# we cannot use == operator\n",
    "print(a == b)"
   ]
  },
  {
   "cell_type": "markdown",
   "metadata": {
    "id": "KjaieX8UWLB8"
   },
   "source": [
    "#### 求值表达式evalf()，替换subs()"
   ]
  },
  {
   "cell_type": "code",
   "execution_count": null,
   "metadata": {
    "colab": {
     "base_uri": "https://localhost:8080/"
    },
    "executionInfo": {
     "elapsed": 1586,
     "status": "ok",
     "timestamp": 1615769180463,
     "user": {
      "displayName": "黄不盈",
      "photoUrl": "",
      "userId": "09846410536788032197"
     },
     "user_tz": -480
    },
    "id": "5mvFa_LMWP0B",
    "outputId": "ab55539f-99a8-4748-a50f-f01dc317365e"
   },
   "outputs": [
    {
     "name": "stdout",
     "output_type": "stream",
     "text": [
      "3.14159265358979323846264338328\n"
     ]
    }
   ],
   "source": [
    "from sympy import pi\n",
    "\n",
    "print(pi.evalf(30)) # 30位小数"
   ]
  },
  {
   "cell_type": "code",
   "execution_count": null,
   "metadata": {
    "colab": {
     "base_uri": "https://localhost:8080/"
    },
    "executionInfo": {
     "elapsed": 931,
     "status": "ok",
     "timestamp": 1615769732235,
     "user": {
      "displayName": "黄不盈",
      "photoUrl": "",
      "userId": "09846410536788032197"
     },
     "user_tz": -480
    },
    "id": "Aktn58MoYXrN",
    "outputId": "514e4678-1739-4328-f01f-80b468a6ad6f"
   },
   "outputs": [
    {
     "name": "stdout",
     "output_type": "stream",
     "text": [
      "29\n"
     ]
    }
   ],
   "source": [
    "from sympy.abc import a, b\n",
    "from sympy import pprint\n",
    "\n",
    "expr = b*a + -4*a + b + a*b + 4*a + (a + b)*3\n",
    "\n",
    "print(expr.subs([(a, 3), (b, 2)]))"
   ]
  },
  {
   "cell_type": "markdown",
   "metadata": {
    "id": "OIlm606ntya9"
   },
   "source": [
    "先赋值再求值"
   ]
  },
  {
   "cell_type": "code",
   "execution_count": 31,
   "metadata": {
    "colab": {
     "base_uri": "https://localhost:8080/",
     "height": 37
    },
    "executionInfo": {
     "elapsed": 987,
     "status": "ok",
     "timestamp": 1615775725124,
     "user": {
      "displayName": "黄不盈",
      "photoUrl": "",
      "userId": "09846410536788032197"
     },
     "user_tz": -480
    },
    "id": "cFqJ7nFGtw5E",
    "outputId": "772738a5-6cbf-406b-c30b-132db3106d12"
   },
   "outputs": [
    {
     "data": {
      "text/latex": [
       "$\\displaystyle -0.951363128125847$"
      ],
      "text/plain": [
       "-0.951363128125847"
      ]
     },
     "execution_count": 31,
     "metadata": {
      "tags": []
     },
     "output_type": "execute_result"
    }
   ],
   "source": [
    "# ！！这个好像有点问题\n",
    "expr = cos(2*x)\n",
    "expr.evalf(subs={x: 2.4},chop=True)    # chop解决小数问题\n"
   ]
  },
  {
   "cell_type": "code",
   "execution_count": 21,
   "metadata": {
    "colab": {
     "base_uri": "https://localhost:8080/",
     "height": 37
    },
    "executionInfo": {
     "elapsed": 946,
     "status": "ok",
     "timestamp": 1615775467679,
     "user": {
      "displayName": "黄不盈",
      "photoUrl": "",
      "userId": "09846410536788032197"
     },
     "user_tz": -480
    },
    "id": "sFhMJtFCuJhi",
    "outputId": "0f02f696-7903-425d-93f7-4430e8ee1ea7"
   },
   "outputs": [
    {
     "data": {
      "text/latex": [
       "$\\displaystyle 0.0874989834394464$"
      ],
      "text/plain": [
       "0.0874989834394464"
      ]
     },
     "execution_count": 21,
     "metadata": {
      "tags": []
     },
     "output_type": "execute_result"
    }
   ],
   "source": [
    "expr = cos(2*x)\n",
    "expr.subs(x,2.4)"
   ]
  },
  {
   "cell_type": "markdown",
   "metadata": {
    "id": "_OGu-o-nns0_"
   },
   "source": [
    "替换subs()"
   ]
  },
  {
   "cell_type": "code",
   "execution_count": 13,
   "metadata": {
    "colab": {
     "base_uri": "https://localhost:8080/",
     "height": 38
    },
    "executionInfo": {
     "elapsed": 1243,
     "status": "ok",
     "timestamp": 1615773816981,
     "user": {
      "displayName": "黄不盈",
      "photoUrl": "",
      "userId": "09846410536788032197"
     },
     "user_tz": -480
    },
    "id": "iyxqBwo7n0Gs",
    "outputId": "e2655407-5660-4f5f-c170-cd5ace73fc17"
   },
   "outputs": [
    {
     "data": {
      "text/latex": [
       "$\\displaystyle x^{x^{y}}$"
      ],
      "text/plain": [
       "x**(x**y)"
      ]
     },
     "execution_count": 13,
     "metadata": {
      "tags": []
     },
     "output_type": "execute_result"
    }
   ],
   "source": [
    "from sympy import *\n",
    "\n",
    "x, y, z = symbols(\"x y z\")\n",
    "\n",
    "expr = x**y\n",
    "\n",
    "expr = expr.subs(y, x**y)\n",
    "expr\n"
   ]
  },
  {
   "cell_type": "markdown",
   "metadata": {
    "id": "Xd8i7PN3sRWO"
   },
   "source": [
    "多变量替换"
   ]
  },
  {
   "cell_type": "code",
   "execution_count": 14,
   "metadata": {
    "colab": {
     "base_uri": "https://localhost:8080/",
     "height": 37
    },
    "executionInfo": {
     "elapsed": 1129,
     "status": "ok",
     "timestamp": 1615774959471,
     "user": {
      "displayName": "黄不盈",
      "photoUrl": "",
      "userId": "09846410536788032197"
     },
     "user_tz": -480
    },
    "id": "Qq4EuL-tsT3W",
    "outputId": "f51a19e2-94dc-4c83-e6b0-d0f120eca36a"
   },
   "outputs": [
    {
     "data": {
      "text/latex": [
       "$\\displaystyle 40$"
      ],
      "text/plain": [
       "40"
      ]
     },
     "execution_count": 14,
     "metadata": {
      "tags": []
     },
     "output_type": "execute_result"
    }
   ],
   "source": [
    "expr = x**3 + 4*x*y - z\n",
    "expr.subs([(x, 2), (y, 4), (z, 0)])"
   ]
  },
  {
   "cell_type": "code",
   "execution_count": 15,
   "metadata": {
    "colab": {
     "base_uri": "https://localhost:8080/",
     "height": 38
    },
    "executionInfo": {
     "elapsed": 1036,
     "status": "ok",
     "timestamp": 1615775163711,
     "user": {
      "displayName": "黄不盈",
      "photoUrl": "",
      "userId": "09846410536788032197"
     },
     "user_tz": -480
    },
    "id": "smU47ECUtDqj",
    "outputId": "783cdb83-585b-4bef-eeee-8d55584d4fcf"
   },
   "outputs": [
    {
     "data": {
      "text/latex": [
       "$\\displaystyle 2 \\sqrt{2}$"
      ],
      "text/plain": [
       "2*sqrt(2)"
      ]
     },
     "execution_count": 15,
     "metadata": {
      "tags": []
     },
     "output_type": "execute_result"
    }
   ],
   "source": []
  },
  {
   "cell_type": "markdown",
   "metadata": {
    "id": "DKkiGl0KYlRQ"
   },
   "source": [
    "#### 求解方程solve()，solveset()"
   ]
  },
  {
   "cell_type": "markdown",
   "metadata": {
    "id": "dMjjegLCY85F"
   },
   "source": [
    "solve()第一个参数是要计算的方程$x^2-x=0$，第二个参数是要求值的符号"
   ]
  },
  {
   "cell_type": "code",
   "execution_count": null,
   "metadata": {
    "colab": {
     "base_uri": "https://localhost:8080/"
    },
    "executionInfo": {
     "elapsed": 1007,
     "status": "ok",
     "timestamp": 1615769809441,
     "user": {
      "displayName": "黄不盈",
      "photoUrl": "",
      "userId": "09846410536788032197"
     },
     "user_tz": -480
    },
    "id": "S1hgMVM5YpMu",
    "outputId": "d12ab81a-5477-4550-c959-752283403557"
   },
   "outputs": [
    {
     "name": "stdout",
     "output_type": "stream",
     "text": [
      "[0, 1]\n"
     ]
    }
   ],
   "source": [
    "from sympy import Symbol, solve\n",
    "\n",
    "x = Symbol('x')\n",
    "\n",
    "sol = solve(x**2 - x, x)\n",
    "\n",
    "print(sol)"
   ]
  },
  {
   "cell_type": "markdown",
   "metadata": {
    "id": "8xy_w1koZcnm"
   },
   "source": [
    "直接写公式Eq(a,b)，带入solve()"
   ]
  },
  {
   "cell_type": "code",
   "execution_count": null,
   "metadata": {
    "colab": {
     "base_uri": "https://localhost:8080/"
    },
    "executionInfo": {
     "elapsed": 970,
     "status": "ok",
     "timestamp": 1615770007599,
     "user": {
      "displayName": "黄不盈",
      "photoUrl": "",
      "userId": "09846410536788032197"
     },
     "user_tz": -480
    },
    "id": "Xw36xw2gZakh",
    "outputId": "b0e01552-656d-4f7c-b834-c70aa55a660d"
   },
   "outputs": [
    {
     "name": "stdout",
     "output_type": "stream",
     "text": [
      "x + 1 = 4\n",
      "[3]\n"
     ]
    }
   ],
   "source": [
    "from sympy import pprint, Symbol, Eq, solve\n",
    "\n",
    "x = Symbol('x')\n",
    "\n",
    "eq1 = Eq(x + 1, 4)\n",
    "pprint(eq1)\n",
    "\n",
    "sol = solve(eq1, x)\n",
    "print(sol)"
   ]
  },
  {
   "cell_type": "markdown",
   "metadata": {
    "id": "dKtbzBcDZtIT"
   },
   "source": [
    "solveset()设置定义域"
   ]
  },
  {
   "cell_type": "code",
   "execution_count": null,
   "metadata": {
    "colab": {
     "base_uri": "https://localhost:8080/"
    },
    "executionInfo": {
     "elapsed": 917,
     "status": "ok",
     "timestamp": 1615770093318,
     "user": {
      "displayName": "黄不盈",
      "photoUrl": "",
      "userId": "09846410536788032197"
     },
     "user_tz": -480
    },
    "id": "rIxoT2nKZvr9",
    "outputId": "852a6f88-11ac-4252-9530-92c68b4559d9"
   },
   "outputs": [
    {
     "name": "stdout",
     "output_type": "stream",
     "text": [
      "FiniteSet(1)\n"
     ]
    }
   ],
   "source": [
    "from sympy.solvers import solveset\n",
    "from sympy import Symbol, Interval, pprint\n",
    "\n",
    "x = Symbol('x')\n",
    "\n",
    "sol = solveset(x**2 - 1, x, Interval(0, 100))\n",
    "print(sol)"
   ]
  },
  {
   "cell_type": "markdown",
   "metadata": {
    "id": "nQ9u6rHlZ6fB"
   },
   "source": [
    "#### SymPy 序列"
   ]
  },
  {
   "cell_type": "markdown",
   "metadata": {
    "id": "ONjQ40FbaIe7"
   },
   "source": [
    "序列是其中允许重复的对象的枚举集合。 序列可以是有限的或无限的。 元素的数量称为序列的长度。 与集合不同，同一元素可以在序列中的不同位置出现多次。 元素的顺序很重要。"
   ]
  },
  {
   "cell_type": "code",
   "execution_count": null,
   "metadata": {
    "colab": {
     "base_uri": "https://localhost:8080/"
    },
    "executionInfo": {
     "elapsed": 1169,
     "status": "ok",
     "timestamp": 1615770190659,
     "user": {
      "displayName": "黄不盈",
      "photoUrl": "",
      "userId": "09846410536788032197"
     },
     "user_tz": -480
    },
    "id": "J8a4UATkaHbz",
    "outputId": "f9c60602-27b4-47fd-f04d-18d28ed0e493"
   },
   "outputs": [
    {
     "name": "stdout",
     "output_type": "stream",
     "text": [
      "SeqFormula(x, (x, 1, 10))\n",
      "[1, 2, 3, 4, …]\n",
      "[1, 2, 3, 4, 5, 6, 7, 8, 9, 10]\n",
      "10\n",
      "55\n"
     ]
    }
   ],
   "source": [
    "from sympy import summation, sequence, pprint\n",
    "from sympy.abc import x\n",
    "\n",
    "s = sequence(x, (x, 1, 10))\n",
    "print(s)\n",
    "pprint(s)\n",
    "print(list(s))\n",
    "\n",
    "print(s.length)\n",
    "\n",
    "print(summation(s.formula, (x, s.start, s.stop)))\n",
    "# print(sum(list(s)))"
   ]
  },
  {
   "cell_type": "markdown",
   "metadata": {
    "id": "Bh8y8RpJaNMf"
   },
   "source": [
    "#### 极限\n"
   ]
  },
  {
   "cell_type": "code",
   "execution_count": null,
   "metadata": {
    "colab": {
     "base_uri": "https://localhost:8080/"
    },
    "executionInfo": {
     "elapsed": 947,
     "status": "ok",
     "timestamp": 1615770222084,
     "user": {
      "displayName": "黄不盈",
      "photoUrl": "",
      "userId": "09846410536788032197"
     },
     "user_tz": -480
    },
    "id": "NOPOXx-paOG1",
    "outputId": "34e6d03a-c15f-43fe-a279-9275b98c64d8"
   },
   "outputs": [
    {
     "name": "stdout",
     "output_type": "stream",
     "text": [
      "0\n",
      "oo\n"
     ]
    }
   ],
   "source": [
    "from sympy import sin, limit, oo\n",
    "from sympy.abc import x\n",
    "\n",
    "l1 = limit(1/x, x, oo)\n",
    "print(l1)\n",
    "\n",
    "l2 = limit(1/x, x, 0)\n",
    "print(l2)"
   ]
  },
  {
   "cell_type": "markdown",
   "metadata": {
    "id": "saDFA8fiwB1A"
   },
   "source": [
    "#### 微分"
   ]
  },
  {
   "cell_type": "code",
   "execution_count": 32,
   "metadata": {
    "executionInfo": {
     "elapsed": 986,
     "status": "ok",
     "timestamp": 1615775948826,
     "user": {
      "displayName": "黄不盈",
      "photoUrl": "",
      "userId": "09846410536788032197"
     },
     "user_tz": -480
    },
    "id": "QwrDChzxwDwT"
   },
   "outputs": [],
   "source": [
    "from sympy import *\n",
    "x, y, z = symbols('x y z')\n",
    "init_printing(use_unicode=True)"
   ]
  },
  {
   "cell_type": "markdown",
   "metadata": {
    "id": "CXj2mymYwVR2"
   },
   "source": [
    "##### 求导diff()"
   ]
  },
  {
   "cell_type": "code",
   "execution_count": 33,
   "metadata": {
    "colab": {
     "base_uri": "https://localhost:8080/",
     "height": 38
    },
    "executionInfo": {
     "elapsed": 1028,
     "status": "ok",
     "timestamp": 1615775969545,
     "user": {
      "displayName": "黄不盈",
      "photoUrl": "",
      "userId": "09846410536788032197"
     },
     "user_tz": -480
    },
    "id": "AB-lw55LwHoh",
    "outputId": "da33e804-f666-4795-a16e-7e769194e5a1"
   },
   "outputs": [
    {
     "data": {
      "image/png": "[encoded data removed]",
      "text/latex": [
       "$\\displaystyle - \\sin{\\left(x \\right)}$"
      ],
      "text/plain": [
       "-sin(x)"
      ]
     },
     "execution_count": 33,
     "metadata": {
      "tags": []
     },
     "output_type": "execute_result"
    }
   ],
   "source": [
    "diff(cos(x), x)"
   ]
  },
  {
   "cell_type": "code",
   "execution_count": 35,
   "metadata": {
    "colab": {
     "base_uri": "https://localhost:8080/",
     "height": 41
    },
    "executionInfo": {
     "elapsed": 931,
     "status": "ok",
     "timestamp": 1615776044776,
     "user": {
      "displayName": "黄不盈",
      "photoUrl": "",
      "userId": "09846410536788032197"
     },
     "user_tz": -480
    },
    "id": "rR3zH3BLwMgJ",
    "outputId": "b2ca6e89-647d-4165-eca7-7fe5cfcd7372"
   },
   "outputs": [
    {
     "data": {
      "image/png": "[encoded data removed]",
      "text/latex": [
       "$\\displaystyle 2 x e^{x^{2}}$"
      ],
      "text/plain": [
       "     ⎛ 2⎞\n",
       "     ⎝x ⎠\n",
       "2⋅x⋅ℯ    "
      ]
     },
     "execution_count": 35,
     "metadata": {
      "tags": []
     },
     "output_type": "execute_result"
    }
   ],
   "source": [
    "diff(exp(x**2), x)"
   ]
  },
  {
   "cell_type": "markdown",
   "metadata": {
    "id": "w6WVlSWJyHFj"
   },
   "source": [
    "**也可以调用方法**"
   ]
  },
  {
   "cell_type": "code",
   "execution_count": 46,
   "metadata": {
    "colab": {
     "base_uri": "https://localhost:8080/",
     "height": 38
    },
    "executionInfo": {
     "elapsed": 934,
     "status": "ok",
     "timestamp": 1615776547678,
     "user": {
      "displayName": "黄不盈",
      "photoUrl": "",
      "userId": "09846410536788032197"
     },
     "user_tz": -480
    },
    "id": "9eO0CZUFyJQE",
    "outputId": "c8ff8501-01ab-44bf-d66c-152b514360eb"
   },
   "outputs": [
    {
     "data": {
      "image/png": "[encoded data removed]",
      "text/latex": [
       "$\\displaystyle 960 x^{3} z$"
      ],
      "text/plain": [
       "     3  \n",
       "960⋅x ⋅z"
      ]
     },
     "execution_count": 46,
     "metadata": {
      "tags": []
     },
     "output_type": "execute_result"
    }
   ],
   "source": [
    "expr = (x**4)*(y**2)*z**5\n",
    "expr.diff(x, y, y, z, 4)"
   ]
  },
  {
   "cell_type": "markdown",
   "metadata": {
    "id": "6YbTPeT_wpnL"
   },
   "source": [
    "**多重求导**"
   ]
  },
  {
   "cell_type": "code",
   "execution_count": 36,
   "metadata": {
    "colab": {
     "base_uri": "https://localhost:8080/",
     "height": 38
    },
    "executionInfo": {
     "elapsed": 1164,
     "status": "ok",
     "timestamp": 1615776125026,
     "user": {
      "displayName": "黄不盈",
      "photoUrl": "",
      "userId": "09846410536788032197"
     },
     "user_tz": -480
    },
    "id": "G0-5anhAwvj2",
    "outputId": "33dbacf0-95be-4ead-ecbd-b83ba60a2267"
   },
   "outputs": [
    {
     "data": {
      "image/png": "[encoded data removed]",
      "text/latex": [
       "$\\displaystyle 24 x$"
      ],
      "text/plain": [
       "24⋅x"
      ]
     },
     "execution_count": 36,
     "metadata": {
      "tags": []
     },
     "output_type": "execute_result"
    }
   ],
   "source": [
    "diff(x**4, x, x, x)"
   ]
  },
  {
   "cell_type": "code",
   "execution_count": 37,
   "metadata": {
    "colab": {
     "base_uri": "https://localhost:8080/",
     "height": 38
    },
    "executionInfo": {
     "elapsed": 1202,
     "status": "ok",
     "timestamp": 1615776125599,
     "user": {
      "displayName": "黄不盈",
      "photoUrl": "",
      "userId": "09846410536788032197"
     },
     "user_tz": -480
    },
    "id": "fIXsfLh4wtY_",
    "outputId": "a7c8ce3f-f524-4ba0-b860-833daeee81cf"
   },
   "outputs": [
    {
     "data": {
      "image/png": "[encoded data removed]",
      "text/latex": [
       "$\\displaystyle 24 x$"
      ],
      "text/plain": [
       "24⋅x"
      ]
     },
     "execution_count": 37,
     "metadata": {
      "tags": []
     },
     "output_type": "execute_result"
    }
   ],
   "source": [
    "diff(x**4, x, 3)"
   ]
  },
  {
   "cell_type": "code",
   "execution_count": 43,
   "metadata": {
    "colab": {
     "base_uri": "https://localhost:8080/",
     "height": 38
    },
    "executionInfo": {
     "elapsed": 935,
     "status": "ok",
     "timestamp": 1615776410386,
     "user": {
      "displayName": "黄不盈",
      "photoUrl": "",
      "userId": "09846410536788032197"
     },
     "user_tz": -480
    },
    "id": "iKQWwJbgxf7_",
    "outputId": "bcc5f9aa-2f03-4412-d2a6-f912a00b747b"
   },
   "outputs": [
    {
     "data": {
      "image/png": "[encoded data removed]",
      "text/latex": [
       "$\\displaystyle 2 x$"
      ],
      "text/plain": [
       "2⋅x"
      ]
     },
     "execution_count": 43,
     "metadata": {
      "tags": []
     },
     "output_type": "execute_result"
    }
   ],
   "source": [
    "expr = x*x*y\n",
    "diff(expr, x,1,y)"
   ]
  },
  {
   "cell_type": "code",
   "execution_count": 44,
   "metadata": {
    "colab": {
     "base_uri": "https://localhost:8080/",
     "height": 37
    },
    "executionInfo": {
     "elapsed": 973,
     "status": "ok",
     "timestamp": 1615776419952,
     "user": {
      "displayName": "黄不盈",
      "photoUrl": "",
      "userId": "09846410536788032197"
     },
     "user_tz": -480
    },
    "id": "QYqHNneex3bg",
    "outputId": "7e0a8463-27b5-472f-97a3-25c559bde9b4"
   },
   "outputs": [
    {
     "data": {
      "image/png": "[encoded data removed]",
      "text/latex": [
       "$\\displaystyle 2$"
      ],
      "text/plain": [
       "2"
      ]
     },
     "execution_count": 44,
     "metadata": {
      "tags": []
     },
     "output_type": "execute_result"
    }
   ],
   "source": [
    "expr = x*x*y\n",
    "diff(expr, x,2,y)"
   ]
  },
  {
   "cell_type": "markdown",
   "metadata": {
    "id": "kC5FsP5Iy23E"
   },
   "source": [
    "##### 不求出微分值，仅使用表达式"
   ]
  },
  {
   "cell_type": "code",
   "execution_count": 47,
   "metadata": {
    "colab": {
     "base_uri": "https://localhost:8080/",
     "height": 57
    },
    "executionInfo": {
     "elapsed": 939,
     "status": "ok",
     "timestamp": 1615776750907,
     "user": {
      "displayName": "黄不盈",
      "photoUrl": "",
      "userId": "09846410536788032197"
     },
     "user_tz": -480
    },
    "id": "n65JnISGzETR",
    "outputId": "d1a1008a-6183-4646-e620-6e3c5d65ec40"
   },
   "outputs": [
    {
     "data": {
      "image/png": "[encoded data removed]",
      "text/latex": [
       "$\\displaystyle \\frac{\\partial^{7}}{\\partial z^{4}\\partial y^{2}\\partial x} e^{x y z}$"
      ],
      "text/plain": [
       "     7            \n",
       "    ∂     ⎛ x⋅y⋅z⎞\n",
       "──────────⎝ℯ     ⎠\n",
       "  4   2           \n",
       "∂z  ∂y  ∂x        "
      ]
     },
     "execution_count": 47,
     "metadata": {
      "tags": []
     },
     "output_type": "execute_result"
    }
   ],
   "source": [
    "expr = exp(x*y*z)\n",
    "deriv = Derivative(expr, x, y, y, z, 4)\n",
    "deriv"
   ]
  },
  {
   "cell_type": "markdown",
   "metadata": {
    "id": "IO3ouqiz0syZ"
   },
   "source": [
    "求积分次数也是参数"
   ]
  },
  {
   "cell_type": "code",
   "execution_count": 55,
   "metadata": {
    "colab": {
     "base_uri": "https://localhost:8080/",
     "height": 52
    },
    "executionInfo": {
     "elapsed": 953,
     "status": "ok",
     "timestamp": 1615777184985,
     "user": {
      "displayName": "黄不盈",
      "photoUrl": "",
      "userId": "09846410536788032197"
     },
     "user_tz": -480
    },
    "id": "ekDatOV40wN8",
    "outputId": "8d426792-342d-46ae-c52a-ed580ee012fc"
   },
   "outputs": [
    {
     "data": {
      "image/png": "[encoded data removed]",
      "text/latex": [
       "$\\displaystyle \\frac{\\partial^{n}}{\\partial x^{n}} \\left(a x + b\\right)^{m}$"
      ],
      "text/plain": [
       "  n            \n",
       " ∂ ⎛         m⎞\n",
       "───⎝(a⋅x + b) ⎠\n",
       "  n            \n",
       "∂x             "
      ]
     },
     "execution_count": 55,
     "metadata": {
      "tags": []
     },
     "output_type": "execute_result"
    }
   ],
   "source": [
    "m, n, a, b = symbols('m n a b')\n",
    "expr = (a*x + b)**m\n",
    "expr.diff((x, n))"
   ]
  },
  {
   "cell_type": "code",
   "execution_count": 62,
   "metadata": {
    "colab": {
     "base_uri": "https://localhost:8080/",
     "height": 54
    },
    "executionInfo": {
     "elapsed": 1076,
     "status": "ok",
     "timestamp": 1615777433541,
     "user": {
      "displayName": "黄不盈",
      "photoUrl": "",
      "userId": "09846410536788032197"
     },
     "user_tz": -480
    },
    "id": "5hjzQchS01v2",
    "outputId": "de93eb2f-15a8-40e1-96fe-1eed90c66a17"
   },
   "outputs": [
    {
     "data": {
      "image/png": "[encoded data removed]",
      "text/latex": [
       "$\\displaystyle \\frac{\\partial^{2}}{\\partial x^{2}} \\left(a x + b\\right)^{3}$"
      ],
      "text/plain": [
       "  2            \n",
       " ∂ ⎛         3⎞\n",
       "───⎝(a⋅x + b) ⎠\n",
       "  2            \n",
       "∂x             "
      ]
     },
     "execution_count": 62,
     "metadata": {
      "tags": []
     },
     "output_type": "execute_result"
    }
   ],
   "source": [
    "expr.diff((x, n)).subs([(m,3),(n,2)])"
   ]
  },
  {
   "cell_type": "code",
   "execution_count": 61,
   "metadata": {
    "colab": {
     "base_uri": "https://localhost:8080/",
     "height": 38
    },
    "executionInfo": {
     "elapsed": 958,
     "status": "ok",
     "timestamp": 1615777427399,
     "user": {
      "displayName": "黄不盈",
      "photoUrl": "",
      "userId": "09846410536788032197"
     },
     "user_tz": -480
    },
    "id": "XSGJXicr1uiB",
    "outputId": "edeb60a5-7a95-4b32-93b9-4d82ce0a3597"
   },
   "outputs": [
    {
     "data": {
      "image/png": "[encoded data removed]",
      "text/latex": [
       "$\\displaystyle 6 a^{2} \\left(a x + b\\right)$"
      ],
      "text/plain": [
       "   2          \n",
       "6⋅a ⋅(a⋅x + b)"
      ]
     },
     "execution_count": 61,
     "metadata": {
      "tags": []
     },
     "output_type": "execute_result"
    }
   ],
   "source": [
    "expr.diff((x, n)).subs([(m,3),(n,2)]).doit()"
   ]
  },
  {
   "cell_type": "markdown",
   "metadata": {
    "id": "nzKka7G_zXWD"
   },
   "source": [
    "##### 计算"
   ]
  },
  {
   "cell_type": "code",
   "execution_count": 52,
   "metadata": {
    "colab": {
     "base_uri": "https://localhost:8080/",
     "height": 38
    },
    "executionInfo": {
     "elapsed": 1620,
     "status": "ok",
     "timestamp": 1615776902013,
     "user": {
      "displayName": "黄不盈",
      "photoUrl": "",
      "userId": "09846410536788032197"
     },
     "user_tz": -480
    },
    "id": "Zb8O7DEjzY_S",
    "outputId": "9ce783c1-65e1-401f-cd78-66d0d97d2023"
   },
   "outputs": [
    {
     "data": {
      "image/png": "[encoded data removed]",
      "text/latex": [
       "$\\displaystyle x^{3} y^{2} \\left(x^{3} y^{3} z^{3} + 14 x^{2} y^{2} z^{2} + 52 x y z + 48\\right) e^{x y z}$"
      ],
      "text/plain": [
       " 3  2 ⎛ 3  3  3       2  2  2                ⎞  x⋅y⋅z\n",
       "x ⋅y ⋅⎝x ⋅y ⋅z  + 14⋅x ⋅y ⋅z  + 52⋅x⋅y⋅z + 48⎠⋅ℯ     "
      ]
     },
     "execution_count": 52,
     "metadata": {
      "tags": []
     },
     "output_type": "execute_result"
    }
   ],
   "source": [
    "deriv.doit()"
   ]
  },
  {
   "cell_type": "code",
   "execution_count": 54,
   "metadata": {
    "colab": {
     "base_uri": "https://localhost:8080/",
     "height": 38
    },
    "executionInfo": {
     "elapsed": 1189,
     "status": "ok",
     "timestamp": 1615776917117,
     "user": {
      "displayName": "黄不盈",
      "photoUrl": "",
      "userId": "09846410536788032197"
     },
     "user_tz": -480
    },
    "id": "GgG5y_j0zf8M",
    "outputId": "55d87beb-78d6-4759-bdad-bca1abe6c259"
   },
   "outputs": [
    {
     "data": {
      "image/png": "[encoded data removed]",
      "text/latex": [
       "$\\displaystyle x^{3} y^{2} \\left(x^{3} y^{3} z^{3} + 14 x^{2} y^{2} z^{2} + 52 x y z + 48\\right) e^{x y z}$"
      ],
      "text/plain": [
       " 3  2 ⎛ 3  3  3       2  2  2                ⎞  x⋅y⋅z\n",
       "x ⋅y ⋅⎝x ⋅y ⋅z  + 14⋅x ⋅y ⋅z  + 52⋅x⋅y⋅z + 48⎠⋅ℯ     "
      ]
     },
     "execution_count": 54,
     "metadata": {
      "tags": []
     },
     "output_type": "execute_result"
    }
   ],
   "source": [
    "deriv.simplify()"
   ]
  },
  {
   "cell_type": "code",
   "execution_count": 50,
   "metadata": {
    "colab": {
     "base_uri": "https://localhost:8080/",
     "height": 57
    },
    "executionInfo": {
     "elapsed": 932,
     "status": "ok",
     "timestamp": 1615776871750,
     "user": {
      "displayName": "黄不盈",
      "photoUrl": "",
      "userId": "09846410536788032197"
     },
     "user_tz": -480
    },
    "id": "KWp1GH8hzk5t",
    "outputId": "a77bfdf1-879e-4ede-ca8d-87f5466897c7"
   },
   "outputs": [
    {
     "data": {
      "image/png": "[encoded data removed]",
      "text/latex": [
       "$\\displaystyle \\frac{\\partial^{7}}{\\partial z^{4}\\partial y^{2}\\partial x} e^{x y z}$"
      ],
      "text/plain": [
       "     7            \n",
       "    ∂     ⎛ x⋅y⋅z⎞\n",
       "──────────⎝ℯ     ⎠\n",
       "  4   2           \n",
       "∂z  ∂y  ∂x        "
      ]
     },
     "execution_count": 50,
     "metadata": {
      "tags": []
     },
     "output_type": "execute_result"
    }
   ],
   "source": [
    "deriv.evalf()  # 没用"
   ]
  },
  {
   "cell_type": "markdown",
   "metadata": {
    "id": "AOauCAAo164O"
   },
   "source": [
    "#### 积分"
   ]
  },
  {
   "cell_type": "markdown",
   "metadata": {
    "id": "eyl5NgMk2dKz"
   },
   "source": [
    "##### 积分integrete()"
   ]
  },
  {
   "cell_type": "code",
   "execution_count": 63,
   "metadata": {
    "colab": {
     "base_uri": "https://localhost:8080/",
     "height": 38
    },
    "executionInfo": {
     "elapsed": 1587,
     "status": "ok",
     "timestamp": 1615777498824,
     "user": {
      "displayName": "黄不盈",
      "photoUrl": "",
      "userId": "09846410536788032197"
     },
     "user_tz": -480
    },
    "id": "dAK-l_5i18jI",
    "outputId": "2fa76613-aa43-4aca-b0d6-04dbc6f21665"
   },
   "outputs": [
    {
     "data": {
      "image/png": "[encoded data removed]",
      "text/latex": [
       "$\\displaystyle \\sin{\\left(x \\right)}$"
      ],
      "text/plain": [
       "sin(x)"
      ]
     },
     "execution_count": 63,
     "metadata": {
      "tags": []
     },
     "output_type": "execute_result"
    }
   ],
   "source": [
    "integrate(cos(x), x)"
   ]
  },
  {
   "cell_type": "code",
   "execution_count": 64,
   "metadata": {
    "colab": {
     "base_uri": "https://localhost:8080/",
     "height": 37
    },
    "executionInfo": {
     "elapsed": 1546,
     "status": "ok",
     "timestamp": 1615777557148,
     "user": {
      "displayName": "黄不盈",
      "photoUrl": "",
      "userId": "09846410536788032197"
     },
     "user_tz": -480
    },
    "id": "T_aGgAIW2NyB",
    "outputId": "d5b449bb-4be8-480d-f8c5-747c5843472f"
   },
   "outputs": [
    {
     "data": {
      "image/png": "[encoded data removed]",
      "text/latex": [
       "$\\displaystyle 1$"
      ],
      "text/plain": [
       "1"
      ]
     },
     "execution_count": 64,
     "metadata": {
      "tags": []
     },
     "output_type": "execute_result"
    }
   ],
   "source": [
    "integrate(exp(-x), (x, 0, oo))"
   ]
  },
  {
   "cell_type": "code",
   "execution_count": 65,
   "metadata": {
    "colab": {
     "base_uri": "https://localhost:8080/",
     "height": 38
    },
    "executionInfo": {
     "elapsed": 1592,
     "status": "ok",
     "timestamp": 1615777583342,
     "user": {
      "displayName": "黄不盈",
      "photoUrl": "",
      "userId": "09846410536788032197"
     },
     "user_tz": -480
    },
    "id": "EdESWtSw2Uc5",
    "outputId": "98642211-0316-415e-bec3-6fc3718b4a13"
   },
   "outputs": [
    {
     "data": {
      "image/png": "[encoded data removed]",
      "text/latex": [
       "$\\displaystyle \\pi$"
      ],
      "text/plain": [
       "π"
      ]
     },
     "execution_count": 65,
     "metadata": {
      "tags": []
     },
     "output_type": "execute_result"
    }
   ],
   "source": [
    "integrate(exp(-x**2 - y**2), (x, -oo, oo), (y, -oo, oo))"
   ]
  },
  {
   "cell_type": "markdown",
   "metadata": {
    "id": "c0_gqTNT2iHX"
   },
   "source": [
    "##### 不计算，只使用表达式Integral()"
   ]
  },
  {
   "cell_type": "code",
   "execution_count": 68,
   "metadata": {
    "colab": {
     "base_uri": "https://localhost:8080/",
     "height": 78
    },
    "executionInfo": {
     "elapsed": 886,
     "status": "ok",
     "timestamp": 1615777709026,
     "user": {
      "displayName": "黄不盈",
      "photoUrl": "",
      "userId": "09846410536788032197"
     },
     "user_tz": -480
    },
    "id": "tA5u14xM2lX1",
    "outputId": "90db3cc5-7a41-4e6e-fd96-1be9faeaaef5"
   },
   "outputs": [
    {
     "data": {
      "image/png": "[encoded data removed]",
      "text/latex": [
       "$\\displaystyle \\int\\limits_{-\\infty}^{\\infty}\\int\\limits_{-\\infty}^{\\infty} e^{- x^{2} - y^{2}}\\, dx\\, dy$"
      ],
      "text/plain": [
       "∞  ∞                  \n",
       "⌠  ⌠                  \n",
       "⎮  ⎮      2    2      \n",
       "⎮  ⎮   - x  - y       \n",
       "⎮  ⎮  ℯ          dx dy\n",
       "⌡  ⌡                  \n",
       "-∞ -∞                 "
      ]
     },
     "execution_count": 68,
     "metadata": {
      "tags": []
     },
     "output_type": "execute_result"
    }
   ],
   "source": [
    "Integral(exp(-x**2 - y**2), (x, -oo, oo), (y, -oo, oo))"
   ]
  },
  {
   "cell_type": "markdown",
   "metadata": {
    "id": "eGt6l4_M3fHM"
   },
   "source": [
    "#### 极限"
   ]
  },
  {
   "cell_type": "markdown",
   "metadata": {
    "id": "0HvGFZjA3jQ8"
   },
   "source": [
    "##### 极限limit()"
   ]
  },
  {
   "cell_type": "code",
   "execution_count": 69,
   "metadata": {
    "colab": {
     "base_uri": "https://localhost:8080/",
     "height": 37
    },
    "executionInfo": {
     "elapsed": 950,
     "status": "ok",
     "timestamp": 1615777894121,
     "user": {
      "displayName": "黄不盈",
      "photoUrl": "",
      "userId": "09846410536788032197"
     },
     "user_tz": -480
    },
    "id": "Nop58SL03gfJ",
    "outputId": "22f55586-57b0-424c-8bda-791203d825e8"
   },
   "outputs": [
    {
     "data": {
      "image/png": "[encoded data removed]",
      "text/latex": [
       "$\\displaystyle 1$"
      ],
      "text/plain": [
       "1"
      ]
     },
     "execution_count": 69,
     "metadata": {
      "tags": []
     },
     "output_type": "execute_result"
    }
   ],
   "source": [
    "limit(sin(x)/x, x, 0)"
   ]
  },
  {
   "cell_type": "markdown",
   "metadata": {
    "id": "Pysr4EbX3oCF"
   },
   "source": [
    "##### 不计算，只使用表达式Limit()"
   ]
  },
  {
   "cell_type": "code",
   "execution_count": 70,
   "metadata": {
    "colab": {
     "base_uri": "https://localhost:8080/",
     "height": 58
    },
    "executionInfo": {
     "elapsed": 911,
     "status": "ok",
     "timestamp": 1615777966482,
     "user": {
      "displayName": "黄不盈",
      "photoUrl": "",
      "userId": "09846410536788032197"
     },
     "user_tz": -480
    },
    "id": "2wmlc84K3wzi",
    "outputId": "e217f8e8-b3f6-4dea-caba-46e0e9cffc07"
   },
   "outputs": [
    {
     "data": {
      "image/png": "[encoded data removed]",
      "text/latex": [
       "$\\displaystyle \\lim_{x \\to 0^+}\\left(\\frac{\\sin{\\left(x \\right)}}{x}\\right)$"
      ],
      "text/plain": [
       "     ⎛sin(x)⎞\n",
       " lim ⎜──────⎟\n",
       "x─→0⁺⎝  x   ⎠"
      ]
     },
     "execution_count": 70,
     "metadata": {
      "tags": []
     },
     "output_type": "execute_result"
    }
   ],
   "source": [
    "Limit(sin(x)/x, x, 0)"
   ]
  },
  {
   "cell_type": "code",
   "execution_count": 77,
   "metadata": {
    "colab": {
     "base_uri": "https://localhost:8080/",
     "height": 52
    },
    "executionInfo": {
     "elapsed": 847,
     "status": "ok",
     "timestamp": 1615778096605,
     "user": {
      "displayName": "黄不盈",
      "photoUrl": "",
      "userId": "09846410536788032197"
     },
     "user_tz": -480
    },
    "id": "D53OZoOo4KAn",
    "outputId": "68625f81-4eec-4cfe-ee5a-309b967124d3"
   },
   "outputs": [
    {
     "data": {
      "image/png": "[encoded data removed]",
      "text/latex": [
       "$\\displaystyle \\lim_{x \\to 0^-} \\frac{1}{x}$"
      ],
      "text/plain": [
       "     1\n",
       " lim ─\n",
       "x─→0⁻x"
      ]
     },
     "execution_count": 77,
     "metadata": {
      "tags": []
     },
     "output_type": "execute_result"
    }
   ],
   "source": [
    "Limit(1/x, x, 0, '-')"
   ]
  },
  {
   "cell_type": "markdown",
   "metadata": {
    "id": "6dmY-21948-i"
   },
   "source": [
    "#### 展开式"
   ]
  },
  {
   "cell_type": "code",
   "execution_count": 79,
   "metadata": {
    "colab": {
     "base_uri": "https://localhost:8080/",
     "height": 54
    },
    "executionInfo": {
     "elapsed": 907,
     "status": "ok",
     "timestamp": 1615778285061,
     "user": {
      "displayName": "黄不盈",
      "photoUrl": "",
      "userId": "09846410536788032197"
     },
     "user_tz": -480
    },
    "id": "wBAhSaPh4-SG",
    "outputId": "fc4c091e-2e42-4c96-9570-62543d0eb92f"
   },
   "outputs": [
    {
     "data": {
      "image/png": "[encoded data removed]",
      "text/latex": [
       "$\\displaystyle 1 + x + \\frac{x^{2}}{2} + O\\left(x^{4}\\right)$"
      ],
      "text/plain": [
       "         2        \n",
       "        x     ⎛ 4⎞\n",
       "1 + x + ── + O⎝x ⎠\n",
       "        2         "
      ]
     },
     "execution_count": 79,
     "metadata": {
      "tags": []
     },
     "output_type": "execute_result"
    }
   ],
   "source": [
    "expr = exp(sin(x))\n",
    "expr.series(x, 0, 4)"
   ]
  },
  {
   "cell_type": "markdown",
   "metadata": {
    "id": "CokQ65MhdIUl"
   },
   "source": [
    "### Jupyter Notebook使用"
   ]
  },
  {
   "cell_type": "markdown",
   "metadata": {
    "id": "FH4o42UodIUl"
   },
   "source": [
    "+ shift+enter执行代码\n",
    "+ A和B向上向下添加代码块\n",
    "+ enter进入编辑模式，esc退出编辑模式\n",
    "+ M转为Markdown,Y转入代码\n",
    "+ 代码自动补全：在插件中打开hinterland，按住tab自动补全\n",
    "+ 使用?显示函数的字符串，??显示源代码。例:add_numbers?\n",
    "+ 使用%run运行python文件。例：%run ipython.py\n",
    "+ shift+tab获取文档帮助"
   ]
  },
  {
   "cell_type": "markdown",
   "metadata": {
    "id": "mDr4G5D8dIUl"
   },
   "source": [
    "### Matplotlib\n",
    "+ 显示新窗口而不是在notebook内：%matplotlib tk"
   ]
  },
  {
   "cell_type": "markdown",
   "metadata": {
    "id": "1B9Yz7JVdIUl"
   },
   "source": [
    "#### 基础\n",
    "+ 绘制折线：plt.plot(x,y,str)  str可以表示线的颜色和类型，例如'-r'表示实线红色\n",
    "+ 点的类型：marker='<'\n",
    "+ 点的边缘颜色：edgecolor='b'，好像只有散点图有用\n",
    "+ 画边距：plt.fill_between(x_fit, y_1 - 0.6, y_1 + 0.6, edgecolor='none', color='#AAAAAA', alpha=0.4)\n",
    "+ 绘制平面：plt.plot_surface(x_1, y_1, z, alpha=0.3)，例在三维散点图\n",
    "+ 绘制轮廓：plt.contour(x_1, y_1, P, colors='k', levels=[-1, 0, 0.9], alpha=0.5,linestyles=['--', '-', '--'])"
   ]
  },
  {
   "cell_type": "code",
   "execution_count": 5,
   "metadata": {
    "colab": {
     "base_uri": "https://localhost:8080/"
    },
    "executionInfo": {
     "elapsed": 6261,
     "status": "ok",
     "timestamp": 1615375803053,
     "user": {
      "displayName": "黄不盈",
      "photoUrl": "",
      "userId": "09846410536788032197"
     },
     "user_tz": -480
    },
    "id": "iB_rF4M5dIUl",
    "outputId": "a24a4c91-8012-4de5-b8a3-16239a2b5211"
   },
   "outputs": [
    {
     "data": {
      "image/png": "[encoded data removed]",
      "text/plain": [
       "<Figure size 432x288 with 2 Axes>"
      ]
     },
     "metadata": {
      "needs_background": "light"
     },
     "output_type": "display_data"
    }
   ],
   "source": [
    "import matplotlib.pyplot as plt\n",
    "import numpy as np\n",
    "# 创建figure对象\n",
    "fig = plt.figure()\n",
    "\n",
    "# 创建子图，绘制的图片在最后一个图上，因此应该绘制完成第一个图再创建第二个图\n",
    "ax1 = fig.add_subplot(4,4,1)\n",
    "plt.plot([1,2,3,10],[1,2,3,4],marker='<')\n",
    "plt.fill_between([1,2,3,10], np.array([1,2,3,4]) - 0.6, np.array([1,2,3,4]) + 0.6, edgecolor='none'\n",
    "                 , color='#AAAAAA', alpha=0.4)\n",
    "ax2 = fig.add_subplot(2,2,2)   #前两个参数是长和宽，第三个参数是子图的序号\n",
    "plt.plot([1,4,8,10])\n",
    "\n",
    "plt.subplots_adjust(wspace=0,hspace=0)  #调整子图之间的间距，为0则互相挨着"
   ]
  },
  {
   "cell_type": "code",
   "execution_count": 1,
   "metadata": {
    "colab": {
     "base_uri": "https://localhost:8080/"
    },
    "executionInfo": {
     "elapsed": 6238,
     "status": "ok",
     "timestamp": 1615375803056,
     "user": {
      "displayName": "黄不盈",
      "photoUrl": "",
      "userId": "09846410536788032197"
     },
     "user_tz": -480
    },
    "id": "nECJwdSgdIUm",
    "outputId": "b888e3b3-5f2f-4afe-c71c-ab272b66f8cc"
   },
   "outputs": [
    {
     "data": {
      "text/plain": [
       "<matplotlib.legend.Legend at 0x1e6d99f9430>"
      ]
     },
     "execution_count": 1,
     "metadata": {},
     "output_type": "execute_result"
    },
    {
     "data": {
      "image/png": "[encoded data removed]",
      "text/plain": [
       "<Figure size 432x288 with 1 Axes>"
      ]
     },
     "metadata": {
      "needs_background": "light"
     },
     "output_type": "display_data"
    }
   ],
   "source": [
    "import matplotlib.pyplot as plt\n",
    "fig = plt.figure()\n",
    "ax1 = fig.add_subplot(2,2,1)\n",
    "\n",
    "#设置中文，似乎现在不需要指定了\n",
    "plt.rcParams['font.sans-serif']=['SimHei'] #用来正常显示中文标签\n",
    "plt.rcParams['axes.unicode_minus']=False #用来正常显示负号\n",
    "# 可以直接使用子图绘图，linestyle是线的类型，color指定颜色，marker显示坐标系上的每一个点\n",
    "# linestyle有不指定（实线），--（虚线），\".\"（点线）\n",
    "# label是图例名称，但不知道为什么我的没显示\n",
    "ax1.plot([1,2,3,4],[2,3,4,5],linestyle=\"--\",color=\"g\",marker=\"o\",label = \"one\")\n",
    "ax1.plot([4,3,2,1],[2,3,4,5],label=\"two\")\n",
    "# 设置坐标轴的刻度和刻度的名称\n",
    "ticksx = ax1.set_xticks([0,1,2,3,10])\n",
    "ticksy = ax1.set_yticks([2,3,4,5,6])\n",
    "labels = ax1.set_xticklabels([\"one\",\"two\",\"three\",\"go\",\"dadsa\"],rotation=30,fontsize=\"small\")\n",
    "\n",
    "# 设置x轴标签\n",
    "ax1.set_xlabel(\"stafe\")\n",
    "\n",
    "# 设置标题\n",
    "ax1.set_title(\"所以\")\n",
    "\n",
    "# 展示图例，loc设置位置(upper,lower,right,left,cener)\n",
    "# 也可以通过bbox_to_anchor设置，第一个数是x轴坐标，第二个是y轴坐标\n",
    "ax1.legend(loc=\"upper center\",bbox_to_anchor=(1.2,1))                             "
   ]
  },
  {
   "cell_type": "markdown",
   "metadata": {},
   "source": [
    "##### 坐标轴名和名字"
   ]
  },
  {
   "cell_type": "markdown",
   "metadata": {},
   "source": [
    "+ 设置坐标轴范围 ：plt.xlim((-5, 5)) \n",
    "+ 另一种设置坐标轴范围：plt.axis([0, 2, 0, 15])\n",
    "+ 设置x,y轴名字： plt.ylabel(\"$y$\", rotation=0, fontsize=18)\n",
    "+ 设置图例：plt.legend(loc=\"upper left\", fontsize=14)\n",
    "+ 标题：plt.title(\"model\",fontsize=16)"
   ]
  },
  {
   "cell_type": "markdown",
   "metadata": {
    "id": "9WLQgHQvdIUm"
   },
   "source": [
    "#### 柱状图"
   ]
  },
  {
   "cell_type": "code",
   "execution_count": 10,
   "metadata": {
    "colab": {
     "base_uri": "https://localhost:8080/"
    },
    "executionInfo": {
     "elapsed": 6220,
     "status": "ok",
     "timestamp": 1615375803058,
     "user": {
      "displayName": "黄不盈",
      "photoUrl": "",
      "userId": "09846410536788032197"
     },
     "user_tz": -480
    },
    "id": "oH5Xb3JGdIUm",
    "outputId": "ba248fc6-9ad0-4bfa-f019-8ac86d311a30"
   },
   "outputs": [
    {
     "data": {
      "image/png": "[encoded data removed]",
      "text/plain": [
       "<Figure size 432x288 with 1 Axes>"
      ]
     },
     "metadata": {
      "needs_background": "light"
     },
     "output_type": "display_data"
    }
   ],
   "source": [
    "import matplotlib.pyplot as plt\n",
    "x =  [5,8,10]            #第一组x和y是第一组数据的名字和数量\n",
    "y =  [12,16,6] \n",
    "x2 =  [6,9,11]           \n",
    "y2 =  [6,15,7] \n",
    "plt.bar(x, y, ) \n",
    "plt.bar(x2, y2, color =  'g', align =  'center') \n",
    "plt.title('Bar graph') \n",
    "plt.ylabel('Y axis') \n",
    "plt.xlabel('X axis') \n",
    "plt.show()"
   ]
  },
  {
   "cell_type": "markdown",
   "metadata": {
    "id": "LfenoiyadIUm"
   },
   "source": [
    "#### 散点图"
   ]
  },
  {
   "cell_type": "code",
   "execution_count": 6,
   "metadata": {
    "colab": {
     "base_uri": "https://localhost:8080/"
    },
    "executionInfo": {
     "elapsed": 6199,
     "status": "ok",
     "timestamp": 1615375803061,
     "user": {
      "displayName": "黄不盈",
      "photoUrl": "",
      "userId": "09846410536788032197"
     },
     "user_tz": -480
    },
    "id": "1xNUaskDdIUm",
    "outputId": "87591360-f02e-4420-ba01-832268879b0a"
   },
   "outputs": [
    {
     "data": {
      "image/png": "[encoded data removed]",
      "text/plain": [
       "<Figure size 432x288 with 2 Axes>"
      ]
     },
     "metadata": {
      "needs_background": "light"
     },
     "output_type": "display_data"
    }
   ],
   "source": [
    "import numpy as np\n",
    "import matplotlib.pyplot as plt\n",
    "\n",
    "# 彩色映射散点图\n",
    "x = np.random.randn(1000)\n",
    "y = np.random.rand(1000)\n",
    "size = np.random.rand(1000) * 30\n",
    "colour = np.random.rand(1000)\n",
    "plt.scatter(x, y, size, colour,edgecolor='b')    # size是所有点的大小列表，color是颜色值列表\n",
    "plt.colorbar()              # 生成右边的颜色条\n",
    "plt.show()"
   ]
  },
  {
   "cell_type": "markdown",
   "metadata": {},
   "source": [
    "#### 三维散点图"
   ]
  },
  {
   "cell_type": "code",
   "execution_count": 10,
   "metadata": {},
   "outputs": [],
   "source": [
    "%matplotlib tk\n",
    "import matplotlib.pyplot as plt\n",
    "\n",
    "x = np.random.randn(100)\n",
    "y = np.random.rand(100)\n",
    "z = np.random.rand(100)\n",
    "\n",
    "ax = plt.subplot(111,projection='3d')\n",
    "colour = 0.1\n",
    "\n",
    "ax.scatter3D(x,y,z)\n",
    "\n",
    "plt.xlim((-1.1, 1.1))\n",
    "plt.ylim((-1.1, 1.1))\n",
    "x_1, y_1 = np.meshgrid(np.linspace(-1, 1), np.linspace(-1, 1))\n",
    "z =  0.01*x_1 + 0.01*y_1 + 0.5\n",
    "ax.plot_surface(x_1, y_1, z, alpha=0.3)\n",
    "plt.show()"
   ]
  },
  {
   "cell_type": "markdown",
   "metadata": {
    "heading_collapsed": true,
    "id": "DOq9g-D4dIUn"
   },
   "source": [
    "#### 直方图"
   ]
  },
  {
   "cell_type": "code",
   "execution_count": null,
   "metadata": {
    "colab": {
     "base_uri": "https://localhost:8080/",
     "height": 265
    },
    "executionInfo": {
     "elapsed": 6172,
     "status": "ok",
     "timestamp": 1615375803063,
     "user": {
      "displayName": "黄不盈",
      "photoUrl": "",
      "userId": "09846410536788032197"
     },
     "user_tz": -480
    },
    "hidden": true,
    "id": "zbgFtLdxdIUn",
    "outputId": "35d51e4e-ef99-4814-fffd-99e77180db8c"
   },
   "outputs": [
    {
     "data": {
      "image/png": "[encoded data removed]",
      "text/plain": [
       "<Figure size 432x288 with 1 Axes>"
      ]
     },
     "metadata": {
      "needs_background": "light",
      "tags": []
     },
     "output_type": "display_data"
    }
   ],
   "source": [
    "import numpy as np\n",
    "import matplotlib.pyplot as plt\n",
    "x = np.random.randn(1000)\n",
    "plt.hist(x, 50)             # x是一个数组，200表示分组的多少，数值越大，分组越多，y轴表示在某一组内的个数\n",
    "plt.show()"
   ]
  },
  {
   "cell_type": "markdown",
   "metadata": {},
   "source": [
    "#### 颜色图  plt.get_cmap(\"jet\")"
   ]
  },
  {
   "cell_type": "code",
   "execution_count": 7,
   "metadata": {
    "scrolled": false
   },
   "outputs": [
    {
     "data": {
      "image/png": "[encoded data removed]",
      "text/plain": [
       "<Figure size 432x288 with 2 Axes>"
      ]
     },
     "metadata": {
      "needs_background": "light"
     },
     "output_type": "display_data"
    }
   ],
   "source": [
    "import numpy as np\n",
    "import matplotlib.pyplot as plt\n",
    "\n",
    "# 彩色映射散点图\n",
    "x = np.random.randn(1000)\n",
    "y = np.random.rand(1000)*2\n",
    "size = np.random.rand(1000) * 30\n",
    "colour = np.random.rand(1000)\n",
    "plt.scatter(x, y, size, c=y,cmap=plt.get_cmap(\"jet\"))    # size是所有点的大小列表，color是颜色值列表\n",
    "plt.colorbar()              # 生成右边的颜色条\n",
    "plt.show()"
   ]
  },
  {
   "cell_type": "code",
   "execution_count": 6,
   "metadata": {},
   "outputs": [
    {
     "data": {
      "text/plain": [
       "1000"
      ]
     },
     "execution_count": 6,
     "metadata": {},
     "output_type": "execute_result"
    }
   ],
   "source": [
    "len(y)"
   ]
  },
  {
   "cell_type": "code",
   "execution_count": null,
   "metadata": {},
   "outputs": [],
   "source": [
    "# 文档 https://pandas.pydata.org/pandas-docs/stable/reference/api/pandas.DataFrame.plot.html?highlight=plot#pandas.DataFrame.plot\n",
    "housing.plot(kind=\"scatter\", x=\"longitude\", y=\"latitude\", alpha=0.4,\n",
    "             s=housing[\"population\"]/100, label=\"population\", figsize=(10,7),       # s是点的大小\n",
    "             c=\"median_house_value\", cmap=plt.get_cmap(\"jet\"), colorbar=True,  # c是按照数量来区分颜色深度\n",
    "             sharex=False)    # 若为True则会隐藏标签"
   ]
  },
  {
   "cell_type": "markdown",
   "metadata": {},
   "source": [
    "#### 三维直方图"
   ]
  },
  {
   "cell_type": "code",
   "execution_count": 16,
   "metadata": {},
   "outputs": [
    {
     "data": {
      "image/png": "[encoded data removed]",
      "text/plain": [
       "<Figure size 432x288 with 1 Axes>"
      ]
     },
     "metadata": {
      "needs_background": "light"
     },
     "output_type": "display_data"
    }
   ],
   "source": [
    "import matplotlib.pyplot as plt\n",
    "import numpy as np\n",
    "\n",
    "# Fixing random state for reproducibility\n",
    "np.random.seed(19680801)\n",
    "\n",
    "\n",
    "fig = plt.figure()\n",
    "ax = fig.add_subplot(111, projection='3d')\n",
    "x, y = np.random.rand(2, 100) * 4\n",
    "hist, xedges, yedges = np.histogram2d(x, y, bins=4, range=[[0, 4], [0, 4]])\n",
    "\n",
    "# 生成网格坐标点，实质为柱子中心点，加0.5是为了柱状图绘制在中间而不是点上\n",
    "xpos, ypos = np.meshgrid(xedges[:-1] + 0.25, yedges[:-1] + 0.25, indexing=\"ij\")\n",
    "xpos = xpos.ravel()\n",
    "ypos = ypos.ravel()\n",
    "zpos = 0\n",
    "\n",
    "# dx,dy控制柱子大小，dz控制高度（这里是数量）\n",
    "dx = dy = 0.5 * np.ones_like(zpos)\n",
    "dz = hist.ravel()\n",
    "\n",
    "ax.bar3d(xpos, ypos, zpos, dx, dy, dz, zsort='average')\n",
    "\n",
    "plt.show()"
   ]
  },
  {
   "cell_type": "markdown",
   "metadata": {
    "heading_collapsed": true,
    "id": "OzybSwhedIUn"
   },
   "source": [
    "### [Bokeh](https://docs.bokeh.org/en/latest/docs/user_guide/quickstart.html#userguide-quickstart)"
   ]
  },
  {
   "cell_type": "markdown",
   "metadata": {
    "hidden": true,
    "id": "1TSMM9cYdIUn"
   },
   "source": [
    "#### 基础"
   ]
  },
  {
   "cell_type": "markdown",
   "metadata": {
    "heading_collapsed": true,
    "hidden": true,
    "id": "fr6qNMludIUn"
   },
   "source": [
    "#### 扇形图"
   ]
  },
  {
   "cell_type": "code",
   "execution_count": null,
   "metadata": {
    "hidden": true,
    "id": "ho-eSqAudIUn"
   },
   "outputs": [],
   "source": [
    "from math import pi\n",
    "\n",
    "import pandas as pd\n",
    "\n",
    "from bokeh.io import output_file, show\n",
    "from bokeh.palettes import Category20c\n",
    "from bokeh.plotting import figure\n",
    "from bokeh.transform import cumsum\n",
    "\n",
    "output_file(\"pie.html\")\n",
    "\n",
    "x = {\n",
    "    'United States': 157,\n",
    "    'United Kingdom': 93,\n",
    "    'Japan': 89,\n",
    "    'China': 63,\n",
    "    'Germany': 44,\n",
    "    'India': 42,\n",
    "    'Italy': 40,\n",
    "    'Australia': 35,\n",
    "    'Brazil': 32,\n",
    "    'France': 31,\n",
    "    'Taiwan': 31,\n",
    "    'Spain': 29\n",
    "}\n",
    "\n",
    "data = pd.Series(x).reset_index(name='value').rename(columns={'index':'country'})\n",
    "data['angle'] = data['value']/data['value'].sum() * 2*pi\n",
    "data['color'] = Category20c[len(x)]\n",
    "\n",
    "p = figure(plot_height=350, title=\"Pie Chart\", toolbar_location=None,\n",
    "           tools=\"hover\", tooltips=\"@country: @value\", x_range=(-0.5, 1.0))\n",
    "\n",
    "p.wedge(x=0, y=1, radius=0.4,\n",
    "        start_angle=cumsum('angle', include_zero=True), end_angle=cumsum('angle'),\n",
    "        line_color=\"white\", fill_color='color', legend_field='country', source=data)\n",
    "\n",
    "p.axis.axis_label=None\n",
    "p.axis.visible=False\n",
    "p.grid.grid_line_color = None\n",
    "\n",
    "show(p)"
   ]
  },
  {
   "cell_type": "markdown",
   "metadata": {
    "heading_collapsed": true,
    "hidden": true,
    "id": "umh3f6J6dIUo"
   },
   "source": [
    "#### 蜡烛图"
   ]
  },
  {
   "cell_type": "code",
   "execution_count": null,
   "metadata": {
    "colab": {
     "base_uri": "https://localhost:8080/"
    },
    "executionInfo": {
     "elapsed": 6834,
     "status": "ok",
     "timestamp": 1615375803759,
     "user": {
      "displayName": "黄不盈",
      "photoUrl": "",
      "userId": "09846410536788032197"
     },
     "user_tz": -480
    },
    "hidden": true,
    "id": "rFUIlMn9dIUo",
    "outputId": "be41a411-dc7d-405f-830e-0ab6ec5ba398"
   },
   "outputs": [
    {
     "data": {
      "application/vnd.google.colaboratory.intrinsic+json": {
       "type": "string"
      },
      "text/plain": [
       "'\\nfrom math import pi\\n\\nimport pandas as pd\\n\\nfrom bokeh.plotting import figure, output_file, show\\nimport bokeh\\n\\nfrom bokeh.sampledata.stocks import MSFT\\n\\ndf = pd.DataFrame(MSFT)[:50]\\ndf[\"date\"] = pd.to_datetime(df[\"date\"])\\n\\ninc = df.close > df.open\\ndec = df.open > df.close\\nw = 12*60*60*1000 # half day in ms\\nprint(df)\\nTOOLS = \"pan,wheel_zoom,box_zoom,reset,save\"\\n\\np = figure(x_axis_type=\"datetime\", tools=TOOLS, plot_width=1000, title = \"MSFT Candlestick\")\\np.xaxis.major_label_orientation = pi/4\\np.grid.grid_line_alpha=0.3\\n\\np.segment(df.date, df.high, df.date, df.low, color=\"black\")\\np.vbar(df.date[inc], w, df.open[inc], df.close[inc], fill_color=\"#D5E1DD\", line_color=\"black\")\\np.vbar(df.date[dec], w, df.open[dec], df.close[dec], fill_color=\"#F2583E\", line_color=\"black\")\\n\\noutput_file(\"candlestick.html\", title=\"candlestick.py example\")\\n\\nshow(p)  # open a browser\\n'"
      ]
     },
     "execution_count": 74,
     "metadata": {
      "tags": []
     },
     "output_type": "execute_result"
    }
   ],
   "source": [
    "'''\n",
    "from math import pi\n",
    "\n",
    "import pandas as pd\n",
    "\n",
    "from bokeh.plotting import figure, output_file, show\n",
    "import bokeh\n",
    "\n",
    "from bokeh.sampledata.stocks import MSFT\n",
    "\n",
    "df = pd.DataFrame(MSFT)[:50]\n",
    "df[\"date\"] = pd.to_datetime(df[\"date\"])\n",
    "\n",
    "inc = df.close > df.open\n",
    "dec = df.open > df.close\n",
    "w = 12*60*60*1000 # half day in ms\n",
    "print(df)\n",
    "TOOLS = \"pan,wheel_zoom,box_zoom,reset,save\"\n",
    "\n",
    "p = figure(x_axis_type=\"datetime\", tools=TOOLS, plot_width=1000, title = \"MSFT Candlestick\")\n",
    "p.xaxis.major_label_orientation = pi/4\n",
    "p.grid.grid_line_alpha=0.3\n",
    "\n",
    "p.segment(df.date, df.high, df.date, df.low, color=\"black\")\n",
    "p.vbar(df.date[inc], w, df.open[inc], df.close[inc], fill_color=\"#D5E1DD\", line_color=\"black\")\n",
    "p.vbar(df.date[dec], w, df.open[dec], df.close[dec], fill_color=\"#F2583E\", line_color=\"black\")\n",
    "\n",
    "output_file(\"candlestick.html\", title=\"candlestick.py example\")\n",
    "\n",
    "show(p)  # open a browser\n",
    "'''"
   ]
  },
  {
   "cell_type": "markdown",
   "metadata": {
    "heading_collapsed": true,
    "hidden": true,
    "id": "Mz7NbT7OdIUo"
   },
   "source": [
    "#### 柱状图"
   ]
  },
  {
   "cell_type": "code",
   "execution_count": 1,
   "metadata": {
    "hidden": true,
    "id": "bfHUBIswdIUo"
   },
   "outputs": [],
   "source": [
    "from bokeh.io import output_file, show\n",
    "from bokeh.models import ColumnDataSource\n",
    "from bokeh.palettes import Spectral6\n",
    "from bokeh.plotting import figure\n",
    "\n",
    "output_file(\"bar_colors.html\")\n",
    "\n",
    "fruits = ['Apples', 'Pears', 'Nectarines', 'Plums', 'Grapes', 'Strawberries']\n",
    "counts = [5, 3, 4, 2, 4, 6]\n",
    "\n",
    "source = ColumnDataSource(data=dict(fruits=fruits, counts=counts, color=Spectral6))\n",
    "\n",
    "p = figure(x_range=fruits, y_range=(0,9), plot_height=350, title=\"Fruit Counts\",\n",
    "           toolbar_location=None, tools=\"\")\n",
    "\n",
    "p.vbar(x='fruits', top='counts', width=0.9, color='color', legend_field=\"fruits\", source=source)\n",
    "\n",
    "p.xgrid.grid_line_color = None\n",
    "p.legend.orientation = \"horizontal\"\n",
    "p.legend.location = \"top_center\"\n",
    "\n",
    "show(p)"
   ]
  },
  {
   "cell_type": "markdown",
   "metadata": {
    "id": "qKLWMn2HdIUo"
   },
   "source": [
    "### SkLearn"
   ]
  },
  {
   "cell_type": "markdown",
   "metadata": {},
   "source": [
    "#### 载入数据集"
   ]
  },
  {
   "cell_type": "code",
   "execution_count": 3,
   "metadata": {},
   "outputs": [
    {
     "name": "stdout",
     "output_type": "stream",
     "text": [
      "dict_keys(['data', 'target', 'frame', 'target_names', 'DESCR', 'feature_names', 'filename'])\n"
     ]
    }
   ],
   "source": [
    "import numpy as np\n",
    "# 加载莺尾花数据集\n",
    "from sklearn import datasets\n",
    "print(datasets.load_iris(return_X_y=False).keys())\n",
    "# 若为True，则返回一个只有X，y的元组，若不是，则返回一个字典\n",
    "X, y = datasets.load_iris(return_X_y=True)"
   ]
  },
  {
   "cell_type": "markdown",
   "metadata": {
    "id": "aDj5QfrAH3Tu"
   },
   "source": [
    "#### 数据预处理"
   ]
  },
  {
   "cell_type": "markdown",
   "metadata": {},
   "source": [
    "##### 分割测试集和实验集"
   ]
  },
  {
   "cell_type": "code",
   "execution_count": 40,
   "metadata": {},
   "outputs": [
    {
     "data": {
      "text/plain": [
       "([5, 0, 7, 2, 9, 4, 3, 6], [8, 1])"
      ]
     },
     "execution_count": 40,
     "metadata": {},
     "output_type": "execute_result"
    }
   ],
   "source": [
    "from sklearn.model_selection import train_test_split\n",
    "import numpy as np\n",
    "housing = range(10)\n",
    "# 也可以用train_set,train_target_set,test_set,test_target_set来赋值\n",
    "# 输入数据同样也可以分开输入\n",
    "train_set,test_set = train_test_split(housing,test_size=0.2,random_state=42)   # 随机种子为42\n",
    "train_set,test_set"
   ]
  },
  {
   "cell_type": "markdown",
   "metadata": {},
   "source": [
    "#####  分层分割测试集和实验集"
   ]
  },
  {
   "cell_type": "code",
   "execution_count": null,
   "metadata": {},
   "outputs": [],
   "source": [
    "from sklearn.model_selection import StratifiedShuffleSplit\n",
    "\n",
    "split = StratifiedShuffleSplit(n_splits=1, test_size=0.2, random_state=42)\n",
    "# n_splits是将训练数据分成train/test对的组数，默认为10\n",
    "# test_size和train_size是用来设置train/test对中train和test所占的比例\n",
    "\n",
    "# 根据类别数据集进行分层取样\n",
    "for train_index, test_index in split.split(housing, housing[\"income_cat\"]):\n",
    "# 第一个是训练数据集，第二个是类别数据集         \n",
    "    strat_train_set = housing.loc[train_index]  # train_index是一个列表\n",
    "    strat_test_set = housing.loc[test_index]\n",
    "\n",
    "strat_test_set[\"income_cat\"].value_counts() \n",
    "len(strat_test_set)\n",
    "len(strat_train_set)"
   ]
  },
  {
   "cell_type": "markdown",
   "metadata": {},
   "source": [
    "##### 数据清洗\n",
    "+ fit是拟合（估计）数据，transform是fit后转换数据集，fit_transform是两者的结合体"
   ]
  },
  {
   "cell_type": "code",
   "execution_count": null,
   "metadata": {},
   "outputs": [],
   "source": [
    "# 数据清洗：处理缺失数据\n",
    "\n",
    "# 以中位数填补空缺数据，因此首先计算中位数\n",
    "from sklearn.impute import SimpleImputer\n",
    "imputer = SimpleImputer(strategy=\"median\")  \n",
    "\n",
    "# 计算中位数\n",
    "imputer.fit(housing_num)\n",
    "\n",
    "# 得到的中位数，返回一个中位数array\n",
    "imputer.statistics_\n",
    "\n",
    "# 将中位数应用于训练集上，返回一个array\n",
    "X = imputer.transform(housing_num)\n",
    "# 有fit_transform函数，不需要调用fit和transform\n",
    "# 即X = imputer.fit_transform(housing_num)\n",
    "# 将返回的array放回到dataframe\n",
    "housing_tr = pd.DataFrame(X, columns=housing_num.columns,index=housing.index)"
   ]
  },
  {
   "cell_type": "markdown",
   "metadata": {},
   "source": [
    "##### 将种类数据编码"
   ]
  },
  {
   "cell_type": "code",
   "execution_count": 7,
   "metadata": {
    "collapsed": true
   },
   "outputs": [
    {
     "ename": "NameError",
     "evalue": "name 'housing' is not defined",
     "output_type": "error",
     "traceback": [
      "\u001b[1;31m---------------------------------------------------------------------------\u001b[0m",
      "\u001b[1;31mNameError\u001b[0m                                 Traceback (most recent call last)",
      "\u001b[1;32m<ipython-input-7-0388863759f8>\u001b[0m in \u001b[0;36m<module>\u001b[1;34m\u001b[0m\n\u001b[1;32m----> 1\u001b[1;33m \u001b[0mhousing_cat\u001b[0m \u001b[1;33m=\u001b[0m \u001b[0mhousing\u001b[0m\u001b[1;33m[\u001b[0m\u001b[1;33m[\u001b[0m\u001b[1;34m\"ocean_proximity\"\u001b[0m\u001b[1;33m]\u001b[0m\u001b[1;33m]\u001b[0m\u001b[1;33m\u001b[0m\u001b[1;33m\u001b[0m\u001b[0m\n\u001b[0m\u001b[0;32m      2\u001b[0m \u001b[0mhousing_cat\u001b[0m\u001b[1;33m.\u001b[0m\u001b[0mhead\u001b[0m\u001b[1;33m(\u001b[0m\u001b[1;36m10\u001b[0m\u001b[1;33m)\u001b[0m\u001b[1;33m\u001b[0m\u001b[1;33m\u001b[0m\u001b[0m\n\u001b[0;32m      3\u001b[0m \u001b[1;31m# 双[[]]得到的结果是一个DataFrame，单[]是一个Series\u001b[0m\u001b[1;33m\u001b[0m\u001b[1;33m\u001b[0m\u001b[1;33m\u001b[0m\u001b[0m\n\u001b[0;32m      4\u001b[0m \u001b[1;31m# type(housing_cat)\u001b[0m\u001b[1;33m\u001b[0m\u001b[1;33m\u001b[0m\u001b[1;33m\u001b[0m\u001b[0m\n",
      "\u001b[1;31mNameError\u001b[0m: name 'housing' is not defined"
     ]
    }
   ],
   "source": [
    "housing_cat = housing[[\"ocean_proximity\"]]\n",
    "housing_cat.head(10)\n",
    "# 双[[]]得到的结果是一个DataFrame，单[]是一个Series\n",
    "# type(housing_cat)"
   ]
  },
  {
   "cell_type": "code",
   "execution_count": null,
   "metadata": {},
   "outputs": [],
   "source": [
    "# 将文字种类转换为数字种类\n",
    "from sklearn.preprocessing import OrdinalEncoder\n",
    "ordinal_encoder = OrdinalEncoder()\n",
    "# 返回转换后的数字array，只能输入DataFrame（二维）\n",
    "housing_cat_encoded = ordinal_encoder.fit_transform(housing_cat)\n",
    "housing_cat_encoded[:10]"
   ]
  },
  {
   "cell_type": "code",
   "execution_count": null,
   "metadata": {},
   "outputs": [],
   "source": [
    "# 种类编码\n",
    "ordinal_encoder.categories_"
   ]
  },
  {
   "cell_type": "markdown",
   "metadata": {},
   "source": [
    "独热编码"
   ]
  },
  {
   "cell_type": "code",
   "execution_count": 6,
   "metadata": {
    "collapsed": true
   },
   "outputs": [
    {
     "ename": "NameError",
     "evalue": "name 'housing_cat' is not defined",
     "output_type": "error",
     "traceback": [
      "\u001b[1;31m---------------------------------------------------------------------------\u001b[0m",
      "\u001b[1;31mNameError\u001b[0m                                 Traceback (most recent call last)",
      "\u001b[1;32m<ipython-input-6-facbbfb3a9ac>\u001b[0m in \u001b[0;36m<module>\u001b[1;34m\u001b[0m\n\u001b[0;32m      3\u001b[0m \u001b[1;33m\u001b[0m\u001b[0m\n\u001b[0;32m      4\u001b[0m \u001b[0mcat_encoder\u001b[0m \u001b[1;33m=\u001b[0m \u001b[0mOneHotEncoder\u001b[0m\u001b[1;33m(\u001b[0m\u001b[1;33m)\u001b[0m\u001b[1;33m\u001b[0m\u001b[1;33m\u001b[0m\u001b[0m\n\u001b[1;32m----> 5\u001b[1;33m \u001b[0mhousing_cat_1hot\u001b[0m \u001b[1;33m=\u001b[0m \u001b[0mcat_encoder\u001b[0m\u001b[1;33m.\u001b[0m\u001b[0mfit_transform\u001b[0m\u001b[1;33m(\u001b[0m\u001b[0mhousing_cat\u001b[0m\u001b[1;33m)\u001b[0m\u001b[1;33m\u001b[0m\u001b[1;33m\u001b[0m\u001b[0m\n\u001b[0m\u001b[0;32m      6\u001b[0m \u001b[0mhousing_cat_1hot\u001b[0m\u001b[1;33m.\u001b[0m\u001b[0mtoarray\u001b[0m\u001b[1;33m(\u001b[0m\u001b[1;33m)\u001b[0m\u001b[1;33m\u001b[0m\u001b[1;33m\u001b[0m\u001b[0m\n\u001b[0;32m      7\u001b[0m \u001b[0mcat_encoder\u001b[0m\u001b[1;33m.\u001b[0m\u001b[0mcategories_\u001b[0m\u001b[1;33m\u001b[0m\u001b[1;33m\u001b[0m\u001b[0m\n",
      "\u001b[1;31mNameError\u001b[0m: name 'housing_cat' is not defined"
     ]
    }
   ],
   "source": [
    "# one-hot encoding\n",
    "from sklearn.preprocessing import OneHotEncoder\n",
    "\n",
    "cat_encoder = OneHotEncoder()\n",
    "housing_cat_1hot = cat_encoder.fit_transform(housing_cat)\n",
    "housing_cat_1hot.toarray()\n",
    "cat_encoder.categories_"
   ]
  },
  {
   "cell_type": "markdown",
   "metadata": {},
   "source": [
    "##### 特征缩放\n",
    "两种方法：线性函数归一化（Min-Max scaling）和标准化（standardization）\n",
    "\n",
    "> 线性函数归一化:（normalization））：值被转变、重新缩放，直到范围变成 0 到 1。通过减去最小值，然后再除以最大值与最小值的差值，来进行归一化。Scikit-Learn 提供了一个转换器MinMaxScaler来实现这个功能。它有一个超参数feature_range，可以让你改变范围，如果不希望范围是 0 到 1。\n",
    "\n",
    "> 标准化就很不同：首先减去平均值（所以标准化值的平均值总是 0），然后除以方差，使得到的分布具有单位方差。与归一化不同，标准化不会限定值到某个特定的范围，这对某些算法可能构成问题（比如，神经网络常需要输入值得范围是 0 到 1）。但是，标准化受到异常值的影响很小。例如，假设一个街区的收入中位数由于某种错误变成了100，归一化会将其它范围是 0 到 15 的值变为 0-0.15，但是标准化不会受什么影响。Scikit-Learn 提供了一个转换器StandardScaler来进行标准化。"
   ]
  },
  {
   "cell_type": "markdown",
   "metadata": {},
   "source": [
    "##### 转换流水线\n",
    "Pipeline构造器需要一个定义步骤顺序的名字/估计器对的列表。除了最后一个估计器，其余都要是转换器（即，它们都要有fit_transform()方法）。名字可以随意起。\n",
    "\n",
    "当你调用流水线的fit()方法，就会对所有转换器顺序调用fit_transform()方法，将每次调用的输出作为参数传递给下一个调用，一直到最后一个估计器，它只执行fit()方法。"
   ]
  },
  {
   "cell_type": "code",
   "execution_count": null,
   "metadata": {},
   "outputs": [],
   "source": [
    "from sklearn.pipeline import Pipeline\n",
    "from sklearn.preprocessing import StandardScaler\n",
    "\n",
    "# 只处理数字的流水线\n",
    "num_pipeline = Pipeline([\n",
    "        ('imputer', SimpleImputer(strategy=\"median\")),\n",
    "        ('attribs_adder', CombinedAttributesAdder()),  # 这个是上面自定义的转换器\n",
    "        ('std_scaler', StandardScaler()),\n",
    "    ])\n",
    "\n",
    "housing_num_tr = num_pipeline.fit_transform(housing_num)  \n",
    "housing_num_tr[0]"
   ]
  },
  {
   "cell_type": "code",
   "execution_count": null,
   "metadata": {},
   "outputs": [],
   "source": [
    "from sklearn.compose import ColumnTransformer\n",
    "\n",
    "num_attribs = list(housing_num)\n",
    "cat_attribs = [\"ocean_proximity\"]\n",
    "\n",
    "full_pipeline = ColumnTransformer([\n",
    "        (\"num\", num_pipeline, num_attribs),     # 数字用上面定义的流水线转换\n",
    "        (\"cat\", OneHotEncoder(), cat_attribs),     # 分类用独热即可\n",
    "    ])\n",
    "\n",
    "housing_prepared = full_pipeline.fit_transform(housing)"
   ]
  },
  {
   "cell_type": "markdown",
   "metadata": {},
   "source": [
    "#### 模型"
   ]
  },
  {
   "cell_type": "markdown",
   "metadata": {},
   "source": [
    "通用参数\n",
    "+ coef_和intercept_分别代表w和b，例：svc.coef_,svc.intercept_\n",
    "+ 训练：model.fit(X,Y)   \n",
    "+ 获取目标值（分类或回归）：model.predict(X)\n",
    "+ predict_proba:  模型预测输入样本属于每种类别的概率\n",
    "+ decision_function:  意思就是使用样本到分隔超平面的有符号距离来度量预测结果的置信度"
   ]
  },
  {
   "cell_type": "markdown",
   "metadata": {},
   "source": [
    "##### 线性模型"
   ]
  },
  {
   "cell_type": "markdown",
   "metadata": {},
   "source": [
    "线性回归"
   ]
  },
  {
   "cell_type": "code",
   "execution_count": null,
   "metadata": {},
   "outputs": [],
   "source": [
    "from sklearn.linear_model import LinearRegression\n",
    "\n",
    "lin_reg = LinearRegression()\n",
    "lin_reg.fit(housing_prepared, housing_labels)   # 第一个参数是经过处理的房子参数，第二个参数是房价，此处已经进行了线性回归"
   ]
  },
  {
   "cell_type": "markdown",
   "metadata": {},
   "source": [
    "逻辑回归"
   ]
  },
  {
   "cell_type": "code",
   "execution_count": null,
   "metadata": {},
   "outputs": [],
   "source": [
    "from sklearn.linear_model import LogisticRegression"
   ]
  },
  {
   "cell_type": "markdown",
   "metadata": {},
   "source": [
    "##### 决策树模型DecisionTreeRegressor"
   ]
  },
  {
   "cell_type": "code",
   "execution_count": null,
   "metadata": {},
   "outputs": [],
   "source": [
    "from sklearn.tree import DecisionTreeRegressor\n",
    "\n",
    "tree_reg = DecisionTreeRegressor(random_state=42)\n",
    "tree_reg.fit(housing_prepared, housing_labels)"
   ]
  },
  {
   "cell_type": "markdown",
   "metadata": {},
   "source": [
    "#### 梯度下降"
   ]
  },
  {
   "cell_type": "markdown",
   "metadata": {},
   "source": [
    "##### 随机梯度下降"
   ]
  },
  {
   "cell_type": "code",
   "execution_count": 16,
   "metadata": {},
   "outputs": [
    {
     "data": {
      "text/plain": [
       "(array([3.84962795]), array([3.21853168]))"
      ]
     },
     "execution_count": 16,
     "metadata": {},
     "output_type": "execute_result"
    }
   ],
   "source": [
    "import numpy as np\n",
    "\n",
    "X = 2 * np.random.rand(100, 1) # 一列100行\n",
    "y = 4 + 3 * X + np.random.randn(100, 1)\n",
    "from sklearn.linear_model import SGDRegressor\n",
    "sgd_reg = SGDRegressor(max_iter=500, tol=-np.infty, penalty=None, eta0=0.1, random_state=42)\n",
    "sgd_reg.fit(X, y.ravel())\n",
    "sgd_reg.intercept_, sgd_reg.coef_"
   ]
  },
  {
   "cell_type": "markdown",
   "metadata": {},
   "source": [
    "#### 预测和误差计算\n",
    "RMSE和MSE"
   ]
  },
  {
   "cell_type": "code",
   "execution_count": null,
   "metadata": {},
   "outputs": [],
   "source": [
    "# let's try the full preprocessing pipeline on a few training instances\n",
    "some_data = housing.iloc[:5]\n",
    "some_labels = housing_labels.iloc[:5]\n",
    "some_data_prepared = full_pipeline.transform(some_data)\n",
    "\n",
    "print(\"Predictions:\", lin_reg.predict(some_data_prepared))\n",
    "print(\"Labels:\", list(some_labels))"
   ]
  },
  {
   "cell_type": "code",
   "execution_count": null,
   "metadata": {},
   "outputs": [],
   "source": [
    "from sklearn.metrics import mean_squared_error\n",
    "# 均方根误差\n",
    "housing_predictions = lin_reg.predict(housing_prepared)\n",
    "lin_mse = mean_squared_error(housing_labels, housing_predictions) # 直接计算mse\n",
    "lin_rmse = np.sqrt(lin_mse)                    # 开根号"
   ]
  },
  {
   "cell_type": "markdown",
   "metadata": {},
   "source": [
    "平均绝对误差"
   ]
  },
  {
   "cell_type": "code",
   "execution_count": null,
   "metadata": {},
   "outputs": [],
   "source": [
    "from sklearn.metrics import mean_absolute_error\n",
    "# 平均绝对误差\n",
    "lin_mae = mean_absolute_error(housing_labels, housing_predictions)\n",
    "lin_mae"
   ]
  }
 ],
 "metadata": {
  "colab": {
   "collapsed_sections": [
    "SQCenX_kUwh1",
    "Y51C40J8zyLX",
    "GEQ0e283z3nG",
    "2XfZ1AhN1hRo",
    "SCRS-RdSCWEb",
    "oZnQXhTAudX1",
    "CokQ65MhdIUl",
    "1B9Yz7JVdIUl",
    "9WLQgHQvdIUm",
    "LfenoiyadIUm",
    "OzybSwhedIUn",
    "fr6qNMludIUn",
    "umh3f6J6dIUo"
   ],
   "name": "数据分析1.ipynb",
   "provenance": [],
   "toc_visible": true
  },
  "kernelspec": {
   "display_name": "Python 3",
   "language": "python",
   "name": "python3"
  },
  "language_info": {
   "codemirror_mode": {
    "name": "ipython",
    "version": 3
   },
   "file_extension": ".py",
   "mimetype": "text/x-python",
   "name": "python",
   "nbconvert_exporter": "python",
   "pygments_lexer": "ipython3",
   "version": "3.8.5"
  },
  "toc": {
   "base_numbering": 1,
   "nav_menu": {},
   "number_sections": true,
   "sideBar": true,
   "skip_h1_title": false,
   "title_cell": "目录",
   "title_sidebar": "Contents",
   "toc_cell": false,
   "toc_position": {
    "height": "calc(100% - 180px)",
    "left": "10px",
    "top": "150px",
    "width": "281.964px"
   },
   "toc_section_display": true,
   "toc_window_display": true
  }
 },
 "nbformat": 4,
 "nbformat_minor": 1
}
