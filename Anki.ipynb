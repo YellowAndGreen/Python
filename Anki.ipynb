{
 "cells": [
  {
   "cell_type": "markdown",
   "id": "educated-crisis",
   "metadata": {
    "heading_collapsed": true
   },
   "source": [
    "### 清洗"
   ]
  },
  {
   "cell_type": "code",
   "execution_count": 5,
   "id": "mounted-easter",
   "metadata": {
    "hidden": true,
    "scrolled": true
   },
   "outputs": [
    {
     "data": {
      "text/plain": [
       "'辨析-第一组\\tin favor of<div>endorse</div><div>enlist</div>\\tv.&nbsp;赞同\\t\\t\\t\\t\\t\\n'"
      ]
     },
     "execution_count": 5,
     "metadata": {},
     "output_type": "execute_result"
    }
   ],
   "source": [
    "read_data[1]"
   ]
  },
  {
   "cell_type": "code",
   "execution_count": 18,
   "id": "expected-desperate",
   "metadata": {
    "hidden": true
   },
   "outputs": [
    {
     "data": {
      "text/plain": [
       "['词汇-第七十六组',\n",
       " 'begrudge [sound:youdao-551391dc-807c6374-802f3304-db361c06-43b6db76.mp3]',\n",
       " 'v.&nbsp;嫉妒，对（某人所享有的）感到不满<div>v.&nbsp;勉强做，不乐意地做（或付出）</div>',\n",
       " \"<div>You surely don't <b>begrudge</b> him his happiness.</div>\",\n",
       " '你肯定不是嫉妒他的幸福吧。',\n",
       " '',\n",
       " '',\n",
       " '\\n']"
      ]
     },
     "execution_count": 18,
     "metadata": {},
     "output_type": "execute_result"
    }
   ],
   "source": [
    "read_data[5081].split('\\t')"
   ]
  },
  {
   "cell_type": "markdown",
   "id": "incorrect-blackjack",
   "metadata": {
    "hidden": true
   },
   "source": [
    "清洗单词列表"
   ]
  },
  {
   "cell_type": "code",
   "execution_count": 1,
   "id": "herbal-agreement",
   "metadata": {
    "hidden": true
   },
   "outputs": [
    {
     "name": "stdout",
     "output_type": "stream",
     "text": [
      "6132\n",
      "humanity\n"
     ]
    }
   ],
   "source": [
    "import re\n",
    "with open(\"E:\\\\vocabulary.txt\", 'r',encoding=\"utf-8\") as f:\n",
    "    read_data = f.readlines()\n",
    "voc_list=[]\n",
    "for line in read_data:\n",
    "    voc1 = re.search('词汇.*?sound.', line)\n",
    "    if type(voc1) == re.Match:       #只有在匹配有结果的时候才将结果放入voc_list\n",
    "        voc2list = re.split(\"\\<\\!\\-\\-anki\\-\\-\\>|;|\\<b\\>|\\<div\\>|\\[sound\\:|\\</b\\>|&nbsp|\\(|\\)\",voc1.group().split(\"\\t\")[1].split(\" \")[0])\n",
    "        for voc2 in voc2list:\n",
    "            if voc2 != \"\" and voc2 !=\" \" :\n",
    "                voc_list.append(voc2)\n",
    "print(len(voc_list))\n",
    "print(voc_list[2])"
   ]
  },
  {
   "cell_type": "code",
   "execution_count": 8,
   "id": "departmental-blake",
   "metadata": {
    "hidden": true
   },
   "outputs": [
    {
     "data": {
      "text/plain": [
       "'词汇-第三组\\tdart [sound:'"
      ]
     },
     "execution_count": 8,
     "metadata": {},
     "output_type": "execute_result"
    }
   ],
   "source": [
    "re.search('词汇.*?sound.', read_data[123]).group()"
   ]
  },
  {
   "cell_type": "code",
   "execution_count": 9,
   "id": "disabled-criterion",
   "metadata": {
    "hidden": true
   },
   "outputs": [
    {
     "data": {
      "text/plain": [
       "<re.Match object; span=(0, 19), match='词汇-第三组\\tdart [sound:'>"
      ]
     },
     "execution_count": 9,
     "metadata": {},
     "output_type": "execute_result"
    }
   ],
   "source": [
    "re.search('词汇.*?sound.', read_data[123])"
   ]
  },
  {
   "cell_type": "code",
   "execution_count": null,
   "id": "compressed-module",
   "metadata": {
    "hidden": true
   },
   "outputs": [],
   "source": [
    "voc1 = re.search('词汇.*?sound.', line)\n",
    "if type(voc1) == re.Match:       #只有在匹配有结果的时候才将结果放入voc_list\n",
    "    voc2list = re.split(\"\\<\\!\\-\\-anki\\-\\-\\>|;|\\<b\\>|\\<div\\>|\\[sound\\:|\\</b\\>|&nbsp|\\(|\\)\",voc1.group().split(\"\\t\")[1].split(\" \")[0])\n",
    "    for voc2 in voc2list:\n",
    "        if voc2 != \"\" and voc2 !=\" \" :\n",
    "            voc_list.append(voc2)"
   ]
  },
  {
   "cell_type": "markdown",
   "id": "modified-keyboard",
   "metadata": {},
   "source": [
    "### 导入"
   ]
  },
  {
   "cell_type": "code",
   "execution_count": 1,
   "id": "double-norfolk",
   "metadata": {},
   "outputs": [],
   "source": [
    "import pandas as pd\n",
    "import re"
   ]
  },
  {
   "cell_type": "code",
   "execution_count": 2,
   "id": "varied-familiar",
   "metadata": {},
   "outputs": [],
   "source": [
    "data = pd.read_excel('C:\\\\Users\\\\Administrator\\\\Desktop\\\\Anki\\\\utils\\\\资源\\\\ank2.xlsx',header=0)"
   ]
  },
  {
   "cell_type": "code",
   "execution_count": 20,
   "id": "collect-manual",
   "metadata": {},
   "outputs": [
    {
     "data": {
      "text/plain": [
       "'词汇-第十二组                       work [anki:play:a:0]    v. 带来，引起，产生                                 You will be amazed at how nature works wonders.                            你将会惊奇于大自然怎样制造奇迹。'"
      ]
     },
     "execution_count": 20,
     "metadata": {},
     "output_type": "execute_result"
    }
   ],
   "source": [
    "data['答案'][100]"
   ]
  },
  {
   "cell_type": "code",
   "execution_count": 14,
   "id": "surprising-specialist",
   "metadata": {},
   "outputs": [
    {
     "data": {
      "text/plain": [
       "Timestamp('2033-09-12 00:00:00')"
      ]
     },
     "execution_count": 14,
     "metadata": {},
     "output_type": "execute_result"
    }
   ],
   "source": [
    "data['到期'][7775]"
   ]
  },
  {
   "cell_type": "code",
   "execution_count": 7,
   "id": "electric-princeton",
   "metadata": {},
   "outputs": [
    {
     "name": "stdout",
     "output_type": "stream",
     "text": [
      "200\n",
      "230\n",
      "200\n",
      "335\n",
      "200\n",
      "200\n",
      "200\n",
      "200\n",
      "200\n",
      "200\n"
     ]
    }
   ],
   "source": [
    "for i in data['简易度'][0:10]:\n",
    "    print(i[0:-1])"
   ]
  },
  {
   "cell_type": "code",
   "execution_count": 40,
   "id": "short-malaysia",
   "metadata": {},
   "outputs": [
    {
     "data": {
      "text/plain": [
       "str"
      ]
     },
     "execution_count": 40,
     "metadata": {},
     "output_type": "execute_result"
    }
   ],
   "source": [
    "type()"
   ]
  },
  {
   "cell_type": "code",
   "execution_count": 44,
   "id": "super-hypothesis",
   "metadata": {},
   "outputs": [
    {
     "data": {
      "text/plain": [
       "Timestamp('2030-12-28 00:00:00')"
      ]
     },
     "execution_count": 44,
     "metadata": {},
     "output_type": "execute_result"
    }
   ],
   "source": [
    "data['到期'][10]"
   ]
  },
  {
   "cell_type": "code",
   "execution_count": 27,
   "id": "juvenile-reform",
   "metadata": {},
   "outputs": [
    {
     "data": {
      "text/plain": [
       "['辨析-第一组', '达到顶峰 | 高潮', '1. reach a climax 2. reach a peak 3. peak']"
      ]
     },
     "execution_count": 27,
     "metadata": {},
     "output_type": "execute_result"
    }
   ],
   "source": [
    "re.split(r\"[ ]{3,}\",data['答案'][3])"
   ]
  },
  {
   "cell_type": "markdown",
   "id": "hindu-friendly",
   "metadata": {},
   "source": [
    "#### 分割并处理"
   ]
  },
  {
   "cell_type": "code",
   "execution_count": 54,
   "id": "black-hudson",
   "metadata": {},
   "outputs": [],
   "source": [
    "list1 = re.split(r\"[ ]{3,}\",data['问题'][90])"
   ]
  },
  {
   "cell_type": "code",
   "execution_count": 55,
   "id": "pleased-elephant",
   "metadata": {},
   "outputs": [],
   "source": [
    "del list1[-1] \n",
    "del list1[0]"
   ]
  },
  {
   "cell_type": "code",
   "execution_count": 58,
   "id": "pressing-rendering",
   "metadata": {},
   "outputs": [
    {
     "data": {
      "text/plain": [
       "['goods [anki:play:q:0]',\n",
       " 'n. 商品',\n",
       " 'The company dumped goods on the market.',\n",
       " '这家公司向市场投放商品。']"
      ]
     },
     "execution_count": 58,
     "metadata": {},
     "output_type": "execute_result"
    }
   ],
   "source": [
    "list1"
   ]
  },
  {
   "cell_type": "code",
   "execution_count": 57,
   "id": "unsigned-partner",
   "metadata": {},
   "outputs": [],
   "source": [
    "if list1[2] == 'CLICK IT!':\n",
    "    del list1[2]"
   ]
  },
  {
   "cell_type": "code",
   "execution_count": 66,
   "id": "creative-saudi",
   "metadata": {
    "collapsed": true
   },
   "outputs": [
    {
     "data": {
      "text/html": [
       "<div>\n",
       "<style scoped>\n",
       "    .dataframe tbody tr th:only-of-type {\n",
       "        vertical-align: middle;\n",
       "    }\n",
       "\n",
       "    .dataframe tbody tr th {\n",
       "        vertical-align: top;\n",
       "    }\n",
       "\n",
       "    .dataframe thead th {\n",
       "        text-align: right;\n",
       "    }\n",
       "</style>\n",
       "<table border=\"1\" class=\"dataframe\">\n",
       "  <thead>\n",
       "    <tr style=\"text-align: right;\">\n",
       "      <th></th>\n",
       "      <th>排序字段</th>\n",
       "      <th>到期</th>\n",
       "      <th>问题</th>\n",
       "      <th>答案</th>\n",
       "      <th>标签</th>\n",
       "    </tr>\n",
       "  </thead>\n",
       "  <tbody>\n",
       "    <tr>\n",
       "      <th>0</th>\n",
       "      <td>&lt;div&gt;be quite the opposite of…&lt;/div&gt;</td>\n",
       "      <td>2023-10-31</td>\n",
       "      <td>Question                        be quite the o...</td>\n",
       "      <td>NaN</td>\n",
       "      <td>写作</td>\n",
       "    </tr>\n",
       "    <tr>\n",
       "      <th>1</th>\n",
       "      <td>in favor of&lt;div&gt;endorse&lt;/div&gt;&lt;div&gt;enlist&lt;/div&gt;</td>\n",
       "      <td>2026-07-24</td>\n",
       "      <td>Question                       in favor of end...</td>\n",
       "      <td>NaN</td>\n",
       "      <td>NaN</td>\n",
       "    </tr>\n",
       "    <tr>\n",
       "      <th>2</th>\n",
       "      <td>at the cost of&lt;div&gt;&lt;div&gt;at the price of&lt;/div&gt;&lt;...</td>\n",
       "      <td>2028-04-17</td>\n",
       "      <td>Question                       at the cost of ...</td>\n",
       "      <td>NaN</td>\n",
       "      <td>NaN</td>\n",
       "    </tr>\n",
       "    <tr>\n",
       "      <th>3</th>\n",
       "      <td>bring out&amp;nbsp;&lt;div&gt;manifest&lt;/div&gt;&lt;div&gt;exhibit...</td>\n",
       "      <td>2031-10-11</td>\n",
       "      <td>Question                       bring out  mani...</td>\n",
       "      <td>NaN</td>\n",
       "      <td>NaN</td>\n",
       "    </tr>\n",
       "    <tr>\n",
       "      <th>4</th>\n",
       "      <td>Convert … to…&lt;div&gt;The subsequent shift from …t...</td>\n",
       "      <td>2027-10-31</td>\n",
       "      <td>Question                       Convert … to… T...</td>\n",
       "      <td>NaN</td>\n",
       "      <td>NaN</td>\n",
       "    </tr>\n",
       "    <tr>\n",
       "      <th>...</th>\n",
       "      <td>...</td>\n",
       "      <td>...</td>\n",
       "      <td>...</td>\n",
       "      <td>...</td>\n",
       "      <td>...</td>\n",
       "    </tr>\n",
       "    <tr>\n",
       "      <th>7728</th>\n",
       "      <td>lean on</td>\n",
       "      <td>2022-07-31</td>\n",
       "      <td>Question                       lean on    v.  ...</td>\n",
       "      <td>NaN</td>\n",
       "      <td>leech</td>\n",
       "    </tr>\n",
       "    <tr>\n",
       "      <th>7729</th>\n",
       "      <td>stuffy [sound:youdao-0e2742aa-e859e0ba-15277c2...</td>\n",
       "      <td>2022-11-01</td>\n",
       "      <td>Question                       stuffy [anki:pl...</td>\n",
       "      <td>Question                       stuffy [anki:pl...</td>\n",
       "      <td>leech</td>\n",
       "    </tr>\n",
       "    <tr>\n",
       "      <th>7730</th>\n",
       "      <td>fraught [sound:youdao-4ed75718-ff3aac0b-fac77a...</td>\n",
       "      <td>2022-02-24</td>\n",
       "      <td>Question                       fraught [anki:p...</td>\n",
       "      <td>Question                       fraught [anki:p...</td>\n",
       "      <td>leech</td>\n",
       "    </tr>\n",
       "    <tr>\n",
       "      <th>7731</th>\n",
       "      <td>provision</td>\n",
       "      <td>2022-04-14</td>\n",
       "      <td>Question                       provision    n....</td>\n",
       "      <td>NaN</td>\n",
       "      <td>leech</td>\n",
       "    </tr>\n",
       "    <tr>\n",
       "      <th>7732</th>\n",
       "      <td>condolence [sound:youdao-a9f39fc5-30f3a05f-962...</td>\n",
       "      <td>2022-08-25</td>\n",
       "      <td>Question                       condolence [ank...</td>\n",
       "      <td>Question                       condolence [ank...</td>\n",
       "      <td>leech</td>\n",
       "    </tr>\n",
       "  </tbody>\n",
       "</table>\n",
       "<p>7733 rows × 5 columns</p>\n",
       "</div>"
      ],
      "text/plain": [
       "                                                   排序字段         到期  \\\n",
       "0                  <div>be quite the opposite of…</div> 2023-10-31   \n",
       "1        in favor of<div>endorse</div><div>enlist</div> 2026-07-24   \n",
       "2     at the cost of<div><div>at the price of</div><... 2028-04-17   \n",
       "3     bring out&nbsp;<div>manifest</div><div>exhibit... 2031-10-11   \n",
       "4     Convert … to…<div>The subsequent shift from …t... 2027-10-31   \n",
       "...                                                 ...        ...   \n",
       "7728                                            lean on 2022-07-31   \n",
       "7729  stuffy [sound:youdao-0e2742aa-e859e0ba-15277c2... 2022-11-01   \n",
       "7730  fraught [sound:youdao-4ed75718-ff3aac0b-fac77a... 2022-02-24   \n",
       "7731                                          provision 2022-04-14   \n",
       "7732  condolence [sound:youdao-a9f39fc5-30f3a05f-962... 2022-08-25   \n",
       "\n",
       "                                                     问题  \\\n",
       "0     Question                        be quite the o...   \n",
       "1     Question                       in favor of end...   \n",
       "2     Question                       at the cost of ...   \n",
       "3     Question                       bring out  mani...   \n",
       "4     Question                       Convert … to… T...   \n",
       "...                                                 ...   \n",
       "7728  Question                       lean on    v.  ...   \n",
       "7729  Question                       stuffy [anki:pl...   \n",
       "7730  Question                       fraught [anki:p...   \n",
       "7731  Question                       provision    n....   \n",
       "7732  Question                       condolence [ank...   \n",
       "\n",
       "                                                     答案     标签  \n",
       "0                                                   NaN     写作  \n",
       "1                                                   NaN    NaN  \n",
       "2                                                   NaN    NaN  \n",
       "3                                                   NaN    NaN  \n",
       "4                                                   NaN    NaN  \n",
       "...                                                 ...    ...  \n",
       "7728                                                NaN  leech  \n",
       "7729  Question                       stuffy [anki:pl...  leech  \n",
       "7730  Question                       fraught [anki:p...  leech  \n",
       "7731                                                NaN  leech  \n",
       "7732  Question                       condolence [ank...  leech  \n",
       "\n",
       "[7733 rows x 5 columns]"
      ]
     },
     "execution_count": 66,
     "metadata": {},
     "output_type": "execute_result"
    }
   ],
   "source": [
    "data"
   ]
  },
  {
   "cell_type": "code",
   "execution_count": 70,
   "id": "native-causing",
   "metadata": {},
   "outputs": [],
   "source": [
    "question = data['排序字段'][1000]"
   ]
  },
  {
   "cell_type": "code",
   "execution_count": 81,
   "id": "abandoned-truck",
   "metadata": {
    "scrolled": true
   },
   "outputs": [
    {
     "data": {
      "text/plain": [
       "'<!--anki-->toxic [sound:youdao-bd5945d5-d4b33ebc-4c703ce2-5f0d588a-aee5d9e3.mp3]'"
      ]
     },
     "execution_count": 81,
     "metadata": {},
     "output_type": "execute_result"
    }
   ],
   "source": [
    "question"
   ]
  },
  {
   "cell_type": "code",
   "execution_count": 79,
   "id": "incorporate-imagination",
   "metadata": {},
   "outputs": [
    {
     "data": {
      "text/plain": [
       "'toxic '"
      ]
     },
     "execution_count": 79,
     "metadata": {},
     "output_type": "execute_result"
    }
   ],
   "source": [
    "re.sub(r\"(<.*?>|\\[.*?\\])\",\"\", question) "
   ]
  },
  {
   "cell_type": "code",
   "execution_count": 82,
   "id": "ceramic-mining",
   "metadata": {},
   "outputs": [
    {
     "data": {
      "text/plain": [
       "'lead to \\n'"
      ]
     },
     "execution_count": 82,
     "metadata": {},
     "output_type": "execute_result"
    }
   ],
   "source": [
    " "
   ]
  },
  {
   "cell_type": "markdown",
   "id": "interesting-outreach",
   "metadata": {},
   "source": [
    "#### 整合"
   ]
  },
  {
   "cell_type": "code",
   "execution_count": 54,
   "id": "north-marijuana",
   "metadata": {
    "collapsed": true
   },
   "outputs": [
    {
     "name": "stdout",
     "output_type": "stream",
     "text": [
      "['写作']\n",
      "['写作']\n",
      "['leech']\n",
      "['leech']\n",
      "['写作']\n",
      "['写作']\n",
      "['写作']\n",
      "['写作']\n",
      "['写作']\n",
      "['写作']\n",
      "['leech']\n",
      "['leech']\n",
      "['写作']\n",
      "['leech']\n",
      "['写作']\n",
      "['leech']\n",
      "['写作']\n",
      "['leech']\n",
      "['写作']\n",
      "['写作']\n",
      "['写作']\n",
      "['写作']\n",
      "['写作']\n",
      "['写作']\n",
      "['leech']\n",
      "['leech']\n",
      "['写作']\n",
      "['写作']\n",
      "['写作']\n",
      "['写作']\n",
      "['写作']\n",
      "['写作']\n",
      "['写作']\n",
      "['leech']\n",
      "['写作']\n",
      "['leech']\n",
      "['写作']\n",
      "['写作']\n",
      "['写作']\n",
      "['写作']\n",
      "['leech']\n",
      "['leech']\n",
      "['leech']\n",
      "['写作']\n",
      "['leech']\n",
      "['写作']\n",
      "['leech']\n",
      "['leech']\n",
      "['leech']\n",
      "['写作']\n",
      "['写作']\n",
      "['写作']\n",
      "['写作']\n",
      "['leech']\n",
      "['写作']\n",
      "['写作']\n",
      "['leech']\n",
      "['func1']\n",
      "['写作']\n",
      "['leech']\n",
      "['leech']\n",
      "['写作']\n",
      "['写作']\n",
      "['leech']\n",
      "['leech']\n",
      "['写作']\n",
      "['写作']\n",
      "['写作']\n",
      "['写作']\n",
      "['leech']\n",
      "['func1']\n",
      "['写作']\n",
      "['写作']\n",
      "['leech']\n",
      "['leech']\n",
      "['写作']\n",
      "['func1']\n",
      "['写作']\n",
      "['写作']\n",
      "['leech']\n",
      "['写作']\n",
      "['leech']\n",
      "['写作']\n",
      "['写作']\n",
      "['写作']\n",
      "['func1']\n",
      "['写作']\n",
      "['func1']\n",
      "['func1']\n",
      "['leech']\n",
      "['写作']\n",
      "['leech']\n",
      "['leech']\n",
      "['leech']\n",
      "['leech']\n",
      "['leech']\n",
      "['func1']\n",
      "['leech']\n",
      "['leech']\n",
      "['写作']\n",
      "['写作']\n",
      "['写作']\n",
      "['func1']\n",
      "['写作']\n",
      "['写作']\n",
      "['写作']\n",
      "['写作']\n",
      "['leech']\n",
      "['leech']\n",
      "['leech']\n",
      "['leech']\n",
      "['leech']\n",
      "['leech']\n",
      "['写作']\n",
      "['leech']\n",
      "['leech']\n",
      "['写作']\n",
      "['写作']\n",
      "['写作']\n",
      "['leech']\n",
      "['写作']\n",
      "['func1']\n",
      "['leech']\n",
      "['写作']\n",
      "['leech']\n",
      "['leech']\n",
      "['写作']\n",
      "['leech']\n",
      "['写作']\n",
      "['leech']\n",
      "['leech']\n",
      "['leech']\n",
      "['写作']\n",
      "['写作']\n",
      "['leech']\n",
      "['leech']\n",
      "['leech']\n",
      "['写作']\n",
      "['写作']\n",
      "['写作']\n",
      "['leech']\n",
      "['leech']\n",
      "['写作']\n",
      "['写作']\n",
      "['leech']\n",
      "['leech']\n",
      "['leech']\n",
      "['leech']\n",
      "['func1']\n",
      "['func1', 'leech']\n",
      "['写作']\n",
      "['写作']\n",
      "['写作']\n",
      "['写作']\n",
      "['leech']\n",
      "['leech']\n",
      "['func1', 'leech']\n",
      "['leech']\n",
      "['写作']\n",
      "['leech']\n",
      "['leech']\n",
      "['写作']\n",
      "['写作']\n",
      "['func1']\n",
      "['leech']\n",
      "['leech']\n",
      "['leech']\n",
      "['写作']\n",
      "['leech']\n",
      "['写作']\n",
      "['写作']\n",
      "['leech']\n",
      "['写作']\n",
      "['写作']\n",
      "['func1']\n",
      "['写作']\n",
      "['leech']\n",
      "['leech']\n",
      "['写作']\n",
      "['写作']\n",
      "['写作']\n",
      "['写作']\n",
      "['写作']\n",
      "['leech']\n",
      "['写作']\n",
      "['leech']\n",
      "['写作']\n",
      "['写作']\n",
      "['leech']\n",
      "['写作']\n",
      "['写作']\n",
      "['写作']\n",
      "['写作']\n",
      "['写作']\n",
      "['leech']\n",
      "['leech']\n",
      "['写作']\n",
      "['写作']\n",
      "['leech']\n",
      "['leech']\n",
      "['写作']\n",
      "['写作']\n",
      "['leech']\n",
      "['leech']\n",
      "['写作']\n",
      "['写作']\n",
      "['写作']\n",
      "['写作']\n",
      "['leech']\n",
      "['写作']\n",
      "['leech']\n",
      "['写作']\n",
      "['写作']\n",
      "['写作']\n",
      "['写作']\n",
      "['leech']\n",
      "['leech']\n",
      "['写作']\n",
      "['写作']\n",
      "['写作']\n",
      "['leech']\n",
      "['leech']\n",
      "['写作']\n",
      "['leech']\n",
      "['leech']\n",
      "['leech']\n",
      "['写作']\n",
      "['写作']\n",
      "['写作']\n",
      "['写作']\n",
      "['写作']\n",
      "['写作']\n",
      "['leech']\n",
      "['写作']\n",
      "['leech']\n",
      "['写作']\n",
      "['写作']\n",
      "['leech']\n",
      "['写作']\n",
      "['写作']\n",
      "['leech']\n",
      "['写作']\n",
      "['leech']\n",
      "['写作']\n",
      "['写作']\n",
      "['leech']\n",
      "['leech']\n",
      "['写作']\n",
      "['写作']\n",
      "['leech']\n",
      "['写作']\n",
      "['写作']\n",
      "['leech']\n",
      "['写作']\n",
      "['leech', '写作']\n",
      "['leech']\n",
      "['leech']\n",
      "['leech']\n",
      "['写作']\n",
      "['写作']\n",
      "['leech']\n",
      "['leech']\n",
      "['写作']\n",
      "['写作']\n",
      "['leech']\n",
      "['leech']\n",
      "['写作']\n",
      "['写作']\n",
      "['leech']\n",
      "['leech']\n",
      "['写作']\n",
      "['写作']\n",
      "['leech']\n",
      "['leech']\n",
      "['leech']\n",
      "['写作']\n",
      "['写作']\n",
      "['leech']\n",
      "['leech']\n",
      "['leech']\n",
      "['leech']\n",
      "['leech']\n",
      "['写作']\n",
      "['写作']\n",
      "['leech']\n",
      "['写作']\n",
      "['写作']\n",
      "['leech']\n",
      "['leech']\n",
      "['leech']\n",
      "['写作']\n",
      "['leech']\n",
      "['写作']\n",
      "['写作']\n",
      "['leech']\n",
      "['leech']\n",
      "['leech']\n",
      "['写作']\n",
      "['写作']\n",
      "['leech']\n",
      "['写作']\n",
      "['写作']\n",
      "['写作']\n",
      "['写作']\n",
      "['写作']\n",
      "['写作']\n",
      "['写作']\n",
      "['leech']\n",
      "['leech']\n",
      "['leech']\n",
      "['leech']\n",
      "['写作']\n",
      "['leech']\n",
      "['写作']\n",
      "['leech']\n",
      "['写作']\n",
      "['leech']\n",
      "['leech']\n",
      "['leech']\n",
      "['写作']\n",
      "['leech']\n",
      "['写作']\n",
      "['写作']\n",
      "['leech']\n",
      "['leech']\n",
      "['写作']\n",
      "['写作']\n",
      "['写作']\n",
      "['写作']\n",
      "['写作']\n",
      "['leech']\n",
      "['写作']\n",
      "['写作']\n",
      "['写作']\n",
      "['写作']\n",
      "['写作']\n",
      "['写作']\n",
      "['leech']\n",
      "['写作']\n",
      "['写作']\n",
      "['写作']\n",
      "['leech']\n",
      "['leech']\n",
      "['leech']\n",
      "['leech']\n",
      "['leech']\n",
      "['leech']\n",
      "['写作']\n",
      "['写作']\n",
      "['leech']\n",
      "['leech']\n",
      "['leech']\n",
      "['写作']\n",
      "['写作']\n",
      "['leech']\n",
      "['写作']\n",
      "['leech']\n",
      "['leech']\n",
      "['写作']\n",
      "['写作']\n",
      "['写作']\n",
      "['写作']\n",
      "['leech']\n",
      "['leech']\n",
      "['leech']\n",
      "['leech']\n",
      "['写作']\n",
      "['leech']\n",
      "['leech']\n",
      "['leech']\n",
      "['leech']\n",
      "['写作']\n",
      "['leech']\n",
      "['leech']\n",
      "['leech']\n",
      "['leech']\n",
      "['写作']\n",
      "['leech']\n",
      "['leech']\n",
      "['写作']\n",
      "['写作']\n",
      "['写作']\n",
      "['leech']\n",
      "['写作']\n",
      "['leech']\n",
      "['leech']\n",
      "['leech']\n",
      "['leech']\n",
      "['写作']\n",
      "['写作']\n",
      "['写作']\n",
      "['leech']\n",
      "['写作']\n",
      "['写作']\n",
      "['写作']\n",
      "['写作']\n",
      "['leech', '写作']\n",
      "['写作']\n",
      "['leech']\n",
      "['写作']\n",
      "['写作']\n",
      "['写作']\n",
      "['写作']\n",
      "['写作']\n",
      "['leech']\n",
      "['leech']\n",
      "['leech']\n",
      "['leech']\n",
      "['写作']\n",
      "['写作']\n",
      "['写作']\n",
      "['leech']\n",
      "['写作']\n",
      "['leech', '写作']\n",
      "['写作']\n",
      "['写作']\n",
      "['写作']\n",
      "['写作']\n",
      "['leech']\n",
      "['leech']\n",
      "['写作']\n",
      "['写作']\n",
      "['leech']\n",
      "['写作']\n",
      "['写作']\n",
      "['写作']\n",
      "['写作']\n",
      "['leech']\n",
      "['写作']\n",
      "['写作']\n",
      "['写作']\n",
      "['写作']\n",
      "['leech']\n",
      "['写作']\n",
      "['写作']\n",
      "['leech']\n",
      "['leech']\n",
      "['leech']\n",
      "['写作']\n",
      "['leech']\n",
      "['写作']\n",
      "['写作']\n",
      "['写作']\n",
      "['写作']\n",
      "['写作']\n",
      "['写作']\n",
      "['写作']\n"
     ]
    }
   ],
   "source": [
    "for i in range(data.shape[0]):\n",
    "\n",
    "    # question\n",
    "    val_list = re.split(r\"[ ]{3,}\",data['答案'][i])\n",
    "#     print(re.sub(r\"(<.*?>|\\[.*?\\]|&nbsp;)\",\"\", re.sub(r\"<div>\",\"\\n\", val_list[1]) ))\n",
    "    # group \n",
    "#     print(val_list[0])\n",
    "    # answer\n",
    "#     if len(val_list) == 4:\n",
    "#         print(val_list[-1])\n",
    "    # due\n",
    "    # tab\n",
    "    if type(data['标签'][i])==str:\n",
    "        print(re.split(r\"[ ]{1,}\", data['标签'][i]))"
   ]
  },
  {
   "cell_type": "code",
   "execution_count": 52,
   "id": "independent-folder",
   "metadata": {},
   "outputs": [
    {
     "data": {
      "text/plain": [
       "True"
      ]
     },
     "execution_count": 52,
     "metadata": {},
     "output_type": "execute_result"
    }
   ],
   "source": [
    "type(data['标签'][34])==str"
   ]
  },
  {
   "cell_type": "code",
   "execution_count": 90,
   "id": "prompt-sustainability",
   "metadata": {
    "scrolled": true
   },
   "outputs": [
    {
     "name": "stdout",
     "output_type": "stream",
     "text": [
      "1\n",
      "1\n"
     ]
    }
   ],
   "source": [
    "print('1\\n1')"
   ]
  },
  {
   "cell_type": "code",
   "execution_count": 91,
   "id": "complicated-writer",
   "metadata": {},
   "outputs": [],
   "source": [
    "with open(\"E:\\\\vocabulary.txt\", 'r', encoding=\"utf-8\") as f:\n",
    "    read_data = f.readlines()"
   ]
  },
  {
   "cell_type": "code",
   "execution_count": 101,
   "id": "abroad-oasis",
   "metadata": {
    "scrolled": true
   },
   "outputs": [
    {
     "data": {
      "text/plain": [
       "['辨析-第一组',\n",
       " 'refuse | reject',\n",
       " 'refuse 表示“拒绝”，强调态度的肯定和坚决；而 reject 则强调摈弃、不采用或不使用。',\n",
       " '<b>refuse</b> his invitation<br /><b>reject</b> her every suggestions',\n",
       " '拒绝了他的邀请<div>拒绝接受她的建议</div>',\n",
       " '',\n",
       " '',\n",
       " '\\n']"
      ]
     },
     "execution_count": 101,
     "metadata": {},
     "output_type": "execute_result"
    }
   ],
   "source": [
    "read_data[1324].split('\\t')"
   ]
  }
 ],
 "metadata": {
  "kernelspec": {
   "display_name": "Python 3",
   "language": "python",
   "name": "python3"
  },
  "language_info": {
   "codemirror_mode": {
    "name": "ipython",
    "version": 3
   },
   "file_extension": ".py",
   "mimetype": "text/x-python",
   "name": "python",
   "nbconvert_exporter": "python",
   "pygments_lexer": "ipython3",
   "version": "3.8.5"
  },
  "toc": {
   "base_numbering": 1,
   "nav_menu": {},
   "number_sections": true,
   "sideBar": true,
   "skip_h1_title": false,
   "title_cell": "Table of Contents",
   "title_sidebar": "Contents",
   "toc_cell": false,
   "toc_position": {},
   "toc_section_display": true,
   "toc_window_display": false
  }
 },
 "nbformat": 4,
 "nbformat_minor": 5
}
