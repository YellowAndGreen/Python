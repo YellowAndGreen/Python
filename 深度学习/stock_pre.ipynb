{
 "cells": [
  {
   "cell_type": "markdown",
   "id": "8e4186ca",
   "metadata": {},
   "source": [
    "## 标记震荡区间"
   ]
  },
  {
   "cell_type": "markdown",
   "id": "6ce650bd",
   "metadata": {},
   "source": [
    "### 根据历史数据计算出震荡区间范围（20%）"
   ]
  }
 ],
 "metadata": {
  "kernelspec": {
   "display_name": "Python 3",
   "language": "python",
   "name": "python3"
  },
  "language_info": {
   "codemirror_mode": {
    "name": "ipython",
    "version": 3
   },
   "file_extension": ".py",
   "mimetype": "text/x-python",
   "name": "python",
   "nbconvert_exporter": "python",
   "pygments_lexer": "ipython3",
   "version": "3.6.13"
  },
  "toc": {
   "base_numbering": 1,
   "nav_menu": {},
   "number_sections": true,
   "sideBar": true,
   "skip_h1_title": false,
   "title_cell": "Table of Contents",
   "title_sidebar": "Contents",
   "toc_cell": false,
   "toc_position": {},
   "toc_section_display": true,
   "toc_window_display": false
  }
 },
 "nbformat": 4,
 "nbformat_minor": 5
}
