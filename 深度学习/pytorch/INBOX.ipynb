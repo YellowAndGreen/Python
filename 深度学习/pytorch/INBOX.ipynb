{
 "cells": [
  {
   "cell_type": "markdown",
   "id": "12936e25",
   "metadata": {},
   "source": [
    "## COCO数据载入"
   ]
  },
  {
   "cell_type": "code",
   "execution_count": 1,
   "id": "f10905d6",
   "metadata": {},
   "outputs": [],
   "source": [
    "import os\n",
    "import numpy as np\n",
    "\n",
    "import torch\n",
    "from torch.utils.data import Dataset\n",
    "import cv2\n",
    "from pycocotools.coco import COCO"
   ]
  },
  {
   "cell_type": "code",
   "execution_count": 10,
   "id": "f6e65a4f",
   "metadata": {},
   "outputs": [],
   "source": [
    "coco_root = \"F://data//COCO//\"\n",
    "json_file='instances_train2017.json'\n",
    "name='train2017'"
   ]
  },
  {
   "cell_type": "code",
   "execution_count": 4,
   "id": "1d51955c",
   "metadata": {},
   "outputs": [
    {
     "name": "stdout",
     "output_type": "stream",
     "text": [
      "loading annotations into memory...\n",
      "Done (t=14.70s)\n",
      "creating index...\n",
      "index created!\n"
     ]
    }
   ],
   "source": [
    "coco = COCO(coco_root + 'annotations/' + json_file)"
   ]
  },
  {
   "cell_type": "code",
   "execution_count": 8,
   "id": "64bc108c",
   "metadata": {},
   "outputs": [
    {
     "data": {
      "text/plain": [
       "[391895, 522418, 184613, 318219]"
      ]
     },
     "execution_count": 8,
     "metadata": {},
     "output_type": "execute_result"
    }
   ],
   "source": [
    "ids = coco.getImgIds()\n",
    "ids[0:4]"
   ]
  },
  {
   "cell_type": "markdown",
   "id": "60752cb4",
   "metadata": {},
   "source": [
    "根据索引获取image"
   ]
  },
  {
   "cell_type": "code",
   "execution_count": 24,
   "id": "d74aed36",
   "metadata": {},
   "outputs": [
    {
     "data": {
      "text/plain": [
       "(640, 556, 3)"
      ]
     },
     "execution_count": 24,
     "metadata": {},
     "output_type": "execute_result"
    }
   ],
   "source": [
    "id_ = ids[3]\n",
    "img_file = os.path.join(coco_root, name,'{:012}'.format(id_) + '.jpg')\n",
    "img = cv2.imread(img_file)\n",
    "img.shape"
   ]
  },
  {
   "cell_type": "markdown",
   "id": "410b07bd",
   "metadata": {},
   "source": [
    "获取annotation并生成targets"
   ]
  },
  {
   "cell_type": "code",
   "execution_count": 22,
   "id": "3a660085",
   "metadata": {},
   "outputs": [
    {
     "name": "stdout",
     "output_type": "stream",
     "text": [
      "dict_keys(['segmentation', 'area', 'iscrowd', 'image_id', 'bbox', 'category_id', 'id'])\n",
      "[339.88, 22.16, 153.88, 300.73]\n",
      "12190.44565\n",
      "4\n"
     ]
    }
   ],
   "source": [
    "id_ = ids[0]\n",
    "anno_ids = coco.getAnnIds(imgIds=[int(id_)], iscrowd=None)\n",
    "annotations = coco.loadAnns(anno_ids)\n",
    "print(annotations[0].keys(),annotations[1]['bbox'],annotations[0]['area'],annotations[0]['category_id'],sep=\"\\n\")"
   ]
  },
  {
   "cell_type": "code",
   "execution_count": null,
   "id": "a25183e1",
   "metadata": {},
   "outputs": [],
   "source": [
    "def pull_anno(self, index):\n",
    "    id_ = self.ids[index]\n",
    "\n",
    "    anno_ids = self.coco.getAnnIds(imgIds=[int(id_)], iscrowd=None)\n",
    "    annotations = self.coco.loadAnns(anno_ids)\n",
    "\n",
    "    target = []\n",
    "    for anno in annotations:\n",
    "        if 'bbox' in anno:\n",
    "            xmin = np.max((0, anno['bbox'][0]))\n",
    "            ymin = np.max((0, anno['bbox'][1]))\n",
    "            xmax = xmin + anno['bbox'][2]\n",
    "            ymax = ymin + anno['bbox'][3]\n",
    "\n",
    "            if anno['area'] > 0 and xmax >= xmin and ymax >= ymin:\n",
    "                label_ind = anno['category_id']\n",
    "                cls_id = self.class_ids.index(label_ind)\n",
    "\n",
    "                target.append([xmin, ymin, xmax, ymax, cls_id])  # [xmin, ymin, xmax, ymax, label_ind]\n",
    "        else:\n",
    "            print('No bbox !!')\n",
    "    return target"
   ]
  }
 ],
 "metadata": {
  "kernelspec": {
   "display_name": "Python 3",
   "language": "python",
   "name": "python3"
  },
  "language_info": {
   "codemirror_mode": {
    "name": "ipython",
    "version": 3
   },
   "file_extension": ".py",
   "mimetype": "text/x-python",
   "name": "python",
   "nbconvert_exporter": "python",
   "pygments_lexer": "ipython3",
   "version": "3.6.13"
  },
  "toc": {
   "base_numbering": 1,
   "nav_menu": {},
   "number_sections": true,
   "sideBar": true,
   "skip_h1_title": false,
   "title_cell": "Table of Contents",
   "title_sidebar": "Contents",
   "toc_cell": false,
   "toc_position": {},
   "toc_section_display": true,
   "toc_window_display": false
  }
 },
 "nbformat": 4,
 "nbformat_minor": 5
}
