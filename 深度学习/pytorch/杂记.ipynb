{
 "cells": [
  {
   "cell_type": "markdown",
   "id": "22d533f3",
   "metadata": {},
   "source": [
    "# pytorch"
   ]
  },
  {
   "cell_type": "markdown",
   "id": "a962147c",
   "metadata": {},
   "source": [
    "清楚变量梯度"
   ]
  },
  {
   "cell_type": "code",
   "execution_count": null,
   "id": "61a44b2d",
   "metadata": {},
   "outputs": [],
   "source": [
    "x.grad.data.zero_()"
   ]
  },
  {
   "cell_type": "markdown",
   "id": "3ea0dfa4",
   "metadata": {},
   "source": [
    "清空所有被优化过的Variable的梯度"
   ]
  },
  {
   "cell_type": "code",
   "execution_count": null,
   "id": "3f6579ba",
   "metadata": {},
   "outputs": [],
   "source": [
    "trainer.zero_grad()  # train是优化器       "
   ]
  },
  {
   "cell_type": "markdown",
   "id": "4aefeb1e",
   "metadata": {},
   "source": [
    "返回模型的参数"
   ]
  },
  {
   "cell_type": "code",
   "execution_count": null,
   "id": "b4915ffc",
   "metadata": {},
   "outputs": [],
   "source": [
    "net[2].state_dict()"
   ]
  },
  {
   "cell_type": "markdown",
   "id": "a4d7d4b5",
   "metadata": {},
   "source": [
    "返回模型的参数的另一种方式"
   ]
  },
  {
   "cell_type": "code",
   "execution_count": null,
   "id": "33eb3e7e",
   "metadata": {},
   "outputs": [],
   "source": [
    "print(*[(name, param.shape) for name, param in net[0].named_parameters()])"
   ]
  },
  {
   "cell_type": "markdown",
   "id": "exotic-motorcycle",
   "metadata": {},
   "source": [
    "设置模块参数，会自动的被加到 Module的 参数列表中"
   ]
  },
  {
   "cell_type": "code",
   "execution_count": 1,
   "id": "incorrect-mobility",
   "metadata": {
    "collapsed": true
   },
   "outputs": [
    {
     "ename": "NameError",
     "evalue": "name 'nn' is not defined",
     "output_type": "error",
     "traceback": [
      "\u001b[1;31m---------------------------------------------------------------------------\u001b[0m",
      "\u001b[1;31mNameError\u001b[0m                                 Traceback (most recent call last)",
      "\u001b[1;32m<ipython-input-1-d8925df8525a>\u001b[0m in \u001b[0;36m<module>\u001b[1;34m\u001b[0m\n\u001b[1;32m----> 1\u001b[1;33m \u001b[0mnn\u001b[0m\u001b[1;33m.\u001b[0m\u001b[0mparameter\u001b[0m\u001b[1;33m\u001b[0m\u001b[1;33m\u001b[0m\u001b[0m\n\u001b[0m",
      "\u001b[1;31mNameError\u001b[0m: name 'nn' is not defined"
     ]
    }
   ],
   "source": [
    "nn.parameter"
   ]
  },
  {
   "cell_type": "markdown",
   "id": "27469167",
   "metadata": {},
   "source": [
    "卷积核一般取为奇数，填充一般取卷积核减一以抵消，步幅一般取一（除非计算量太大）"
   ]
  },
  {
   "cell_type": "code",
   "execution_count": null,
   "id": "91f76d01",
   "metadata": {},
   "outputs": [],
   "source": [
    "conv2d = nn.Conv2d(1, 1, kernel_size=(3, 5), padding=(0, 1), stride=(3, 4))"
   ]
  },
  {
   "cell_type": "markdown",
   "id": "6e3a1a46",
   "metadata": {},
   "source": [
    "dedtach():返回一个新的Variable，从当前计算图中分离下来的，但是仍指向原变量的存放位置,不同之处只是requires_grad为false，得到的这个Variable永远不需要计算其梯度，不具有grad。\n",
    "detach_()直接将该计算图从此分离出去，后面全部无法计算梯度"
   ]
  },
  {
   "cell_type": "code",
   "execution_count": null,
   "id": "32afb020",
   "metadata": {},
   "outputs": [],
   "source": [
    "x.detach()"
   ]
  },
  {
   "cell_type": "markdown",
   "id": "7bdd6acc",
   "metadata": {},
   "source": [
    "将数据放入gpu中训练"
   ]
  },
  {
   "cell_type": "code",
   "execution_count": null,
   "id": "f7153b32",
   "metadata": {},
   "outputs": [],
   "source": [
    "X = torch.ones(2, 3, device=torch.device(\"cuda:0\" if torch.cuda.is_available() else \"cpu\"))"
   ]
  },
  {
   "cell_type": "code",
   "execution_count": null,
   "id": "fd93ad66",
   "metadata": {},
   "outputs": [],
   "source": [
    "# 万金油方法\n",
    "device = torch.device(\"cuda:0\" if torch.cuda.is_available() else \"cpu\")"
   ]
  },
  {
   "cell_type": "markdown",
   "id": "87e4a6fb",
   "metadata": {},
   "source": [
    "*号加在实参数上，代表将输入迭代器拆成一个个元素"
   ]
  },
  {
   "cell_type": "code",
   "execution_count": null,
   "id": "cace91c3",
   "metadata": {},
   "outputs": [],
   "source": [
    "b2 = nn.Sequential(*resnet_block(64, 64, 2, first_block=True)) "
   ]
  },
  {
   "cell_type": "markdown",
   "id": "4d033d70",
   "metadata": {},
   "source": [
    "torch.stack：增加向量的维度"
   ]
  },
  {
   "cell_type": "code",
   "execution_count": null,
   "id": "8815764e",
   "metadata": {},
   "outputs": [],
   "source": [
    "torch.stack((t1,t2)),torch.stack((t1,t2)).shape"
   ]
  },
  {
   "cell_type": "markdown",
   "id": "ce60c2f9",
   "metadata": {},
   "source": [
    "net.eval()和net.train()：分别设置为评估和训练模式，在eval模式下不会计算梯度"
   ]
  },
  {
   "cell_type": "markdown",
   "id": "f38230ba",
   "metadata": {},
   "source": [
    "# python知识"
   ]
  },
  {
   "cell_type": "markdown",
   "id": "17992c5e",
   "metadata": {},
   "source": [
    "collection.Counter：对列表中元素计算频率"
   ]
  },
  {
   "cell_type": "markdown",
   "id": "91b60aa9",
   "metadata": {},
   "source": [
    "sorted的key关键字"
   ]
  },
  {
   "cell_type": "code",
   "execution_count": 8,
   "id": "6da9748c",
   "metadata": {},
   "outputs": [
    {
     "data": {
      "text/plain": [
       "dict_items([('a', 1), ('b', 2)])"
      ]
     },
     "execution_count": 8,
     "metadata": {},
     "output_type": "execute_result"
    }
   ],
   "source": [
    "import collections\n",
    "a = [\"a\",\"b\",\"b\"]\n",
    "counter = collections.Counter(a)\n",
    "counter.items()"
   ]
  },
  {
   "cell_type": "code",
   "execution_count": 4,
   "id": "32565ebf",
   "metadata": {},
   "outputs": [
    {
     "data": {
      "text/plain": [
       "[('b', 2), ('a', 1)]"
      ]
     },
     "execution_count": 4,
     "metadata": {},
     "output_type": "execute_result"
    }
   ],
   "source": [
    "sorted(counter.items(), key=lambda x: x[1],\n",
    "                                  reverse=True)"
   ]
  },
  {
   "cell_type": "code",
   "execution_count": 5,
   "id": "6ca756bb",
   "metadata": {},
   "outputs": [
    {
     "data": {
      "text/plain": [
       "[('b', 2), ('a', 1)]"
      ]
     },
     "execution_count": 5,
     "metadata": {},
     "output_type": "execute_result"
    }
   ],
   "source": [
    "sorted(counter.items(), reverse=True)"
   ]
  },
  {
   "cell_type": "markdown",
   "id": "e9afff2d",
   "metadata": {},
   "source": [
    "lambda匿名函数"
   ]
  },
  {
   "cell_type": "code",
   "execution_count": 3,
   "id": "76b9db40",
   "metadata": {},
   "outputs": [
    {
     "data": {
      "text/plain": [
       "3"
      ]
     },
     "execution_count": 3,
     "metadata": {},
     "output_type": "execute_result"
    }
   ],
   "source": [
    "g = lambda x:x+1\n",
    "g(2)"
   ]
  },
  {
   "cell_type": "markdown",
   "id": "4046a287",
   "metadata": {},
   "source": [
    "isinstance"
   ]
  },
  {
   "cell_type": "code",
   "execution_count": null,
   "id": "b821db84",
   "metadata": {},
   "outputs": [],
   "source": [
    "isinstance(tokens, (list, tuple)):               # 是元组中的一个则返回True"
   ]
  },
  {
   "cell_type": "markdown",
   "id": "7b45fef3",
   "metadata": {},
   "source": [
    "assert：断言一个表达式符合某个条件，若不符合则报错"
   ]
  },
  {
   "cell_type": "code",
   "execution_count": null,
   "id": "30d7af5f",
   "metadata": {},
   "outputs": [],
   "source": [
    "assert 后面也可以紧跟参数:\n",
    "\n",
    "assert expression [, arguments]\n",
    "等价于：\n",
    "\n",
    "if not expression:\n",
    "    raise AssertionError(arguments)"
   ]
  }
 ],
 "metadata": {
  "kernelspec": {
   "display_name": "Python 3",
   "language": "python",
   "name": "python3"
  },
  "language_info": {
   "codemirror_mode": {
    "name": "ipython",
    "version": 3
   },
   "file_extension": ".py",
   "mimetype": "text/x-python",
   "name": "python",
   "nbconvert_exporter": "python",
   "pygments_lexer": "ipython3",
   "version": "3.6.13"
  },
  "toc": {
   "base_numbering": 1,
   "nav_menu": {},
   "number_sections": true,
   "sideBar": true,
   "skip_h1_title": false,
   "title_cell": "Table of Contents",
   "title_sidebar": "Contents",
   "toc_cell": false,
   "toc_position": {},
   "toc_section_display": true,
   "toc_window_display": false
  }
 },
 "nbformat": 4,
 "nbformat_minor": 5
}
