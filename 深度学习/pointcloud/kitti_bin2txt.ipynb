{
 "cells": [
  {
   "cell_type": "code",
   "execution_count": 18,
   "id": "d0d7a31f",
   "metadata": {
    "scrolled": true
   },
   "outputs": [],
   "source": [
    "import numpy as np\n",
    "import open3d as o3d\n",
    "import os"
   ]
  },
  {
   "cell_type": "code",
   "execution_count": 2,
   "id": "8ebec190",
   "metadata": {},
   "outputs": [],
   "source": [
    "scan = np.fromfile(\"E:\\\\All Files\\\\Programmaing\\\\Python\\\\深度学习\\\\data\\\\data_object_velodyne\\\\training\\\\velodyne\\\\000005.bin\", dtype=np.float32)\n",
    "scan = scan.reshape((-1, 4))\n",
    "points = scan[:,:3]"
   ]
  },
  {
   "cell_type": "code",
   "execution_count": 42,
   "id": "b39768a3",
   "metadata": {},
   "outputs": [
    {
     "data": {
      "text/plain": [
       "array([-5.1810002e+00, -6.9276357e-10,  2.5663826e-24, -1.2644479e+11,\n",
       "       -5.0250284e-02, -6.9276357e-10,  5.3665094e+00,  9.6468002e+01,\n",
       "        3.6212114e-35, -2.3983894e-27], dtype=float32)"
      ]
     },
     "execution_count": 42,
     "metadata": {},
     "output_type": "execute_result"
    }
   ],
   "source": [
    "scan = np.fromfile(\"E:\\\\All Files\\\\Programmaing\\\\Python\\\\深度学习\\\\data\\\\data_object_velodyne\\\\training\\\\velodyne\\\\003905.bin\", dtype=np.float32)\n",
    "# scan = scan.reshape((-1, 4))\n",
    "scan[-10:]"
   ]
  },
  {
   "cell_type": "code",
   "execution_count": 3,
   "id": "da0946be",
   "metadata": {},
   "outputs": [
    {
     "data": {
      "text/plain": [
       "array([[51.814, 11.094,  2.001],\n",
       "       [51.814, 11.265,  2.002],\n",
       "       [51.567, 11.381,  1.995],\n",
       "       [51.66 , 11.572,  1.999],\n",
       "       [51.829, 11.695,  2.006],\n",
       "       [52.084, 11.925,  2.016],\n",
       "       [50.047, 11.623,  1.946],\n",
       "       [50.001, 11.778,  1.946],\n",
       "       [49.792, 11.894,  1.94 ],\n",
       "       [49.473, 11.982,  1.93 ]], dtype=float32)"
      ]
     },
     "execution_count": 3,
     "metadata": {},
     "output_type": "execute_result"
    }
   ],
   "source": [
    "points[0:10]"
   ]
  },
  {
   "cell_type": "code",
   "execution_count": 15,
   "id": "9c916766",
   "metadata": {},
   "outputs": [
    {
     "data": {
      "text/plain": [
       "'51.814'"
      ]
     },
     "execution_count": 15,
     "metadata": {},
     "output_type": "execute_result"
    }
   ],
   "source": [
    "str(points[0][0])"
   ]
  },
  {
   "cell_type": "code",
   "execution_count": 17,
   "id": "e9534894",
   "metadata": {},
   "outputs": [],
   "source": [
    "# 写入文件\n",
    "with open(\"C:/Users/Administrator/Desktop/out.txt\",\"w\") as f:\n",
    "    for i in range(points.shape[0]):\n",
    "        f.write(str(points[i][0])+\" \"+str(points[i][1])+\" \"+str(points[i][2])+\"\\n\")"
   ]
  },
  {
   "cell_type": "code",
   "execution_count": 22,
   "id": "f427cf0c",
   "metadata": {},
   "outputs": [],
   "source": [
    "path = \"E:\\\\All Files\\\\Programmaing\\\\Python\\\\深度学习\\\\data\\\\data_object_velodyne\\\\training\\\\velodyne\"\n",
    "files = os.listdir(path)"
   ]
  },
  {
   "cell_type": "code",
   "execution_count": 27,
   "id": "d77ea750",
   "metadata": {},
   "outputs": [],
   "source": [
    "# 转换单个bin文件\n",
    "def convert_bin(binpath,des):\n",
    "    scan = np.fromfile(binpath, dtype=np.float32)\n",
    "    scan = scan.reshape((-1, 4))\n",
    "    points = scan[:,:3]\n",
    "    # 写入文件\n",
    "    with open(des,\"w\") as f:\n",
    "        for i in range(points.shape[0]):\n",
    "            f.write(str(points[i][0])+\" \"+str(points[i][1])+\" \"+str(points[i][2])+\"\\n\")"
   ]
  },
  {
   "cell_type": "code",
   "execution_count": 36,
   "id": "f5dad50b",
   "metadata": {},
   "outputs": [],
   "source": [
    "def convert():\n",
    "    path = \"E:\\\\All Files\\\\Programmaing\\\\Python\\\\深度学习\\\\data\\\\data_object_velodyne\\\\training\\\\velodyne\"\n",
    "    files = os.listdir(path)\n",
    "    # 创建一个子文件夹\n",
    "    os.mkdir(path+\"\\\\out\")\n",
    "    # 存储文件夹\n",
    "    des = path + \"\\\\out\"\n",
    "    # 对单文件转换\n",
    "    for file in files:\n",
    "        convert_bin(path+\"\\\\\"+file,des+\"\\\\\"+file.replace(\"bin\",\"xyz\"))"
   ]
  },
  {
   "cell_type": "markdown",
   "id": "6490f52a",
   "metadata": {},
   "source": [
    "输入数据一般都是4个坐标为一个点，但是003905的文件不是4的整数，待解决"
   ]
  },
  {
   "cell_type": "code",
   "execution_count": 37,
   "id": "6b24a517",
   "metadata": {
    "scrolled": true
   },
   "outputs": [
    {
     "ename": "ValueError",
     "evalue": "cannot reshape array of size 354415 into shape (4)",
     "output_type": "error",
     "traceback": [
      "\u001b[1;31m---------------------------------------------------------------------------\u001b[0m",
      "\u001b[1;31mValueError\u001b[0m                                Traceback (most recent call last)",
      "\u001b[1;32m<ipython-input-37-e3148ddcdbf6>\u001b[0m in \u001b[0;36m<module>\u001b[1;34m()\u001b[0m\n\u001b[1;32m----> 1\u001b[1;33m \u001b[0mconvert\u001b[0m\u001b[1;33m(\u001b[0m\u001b[1;33m)\u001b[0m\u001b[1;33m\u001b[0m\u001b[1;33m\u001b[0m\u001b[0m\n\u001b[0m",
      "\u001b[1;32m<ipython-input-36-795ece816cbf>\u001b[0m in \u001b[0;36mconvert\u001b[1;34m()\u001b[0m\n\u001b[0;32m      8\u001b[0m     \u001b[1;31m# 对单文件转换\u001b[0m\u001b[1;33m\u001b[0m\u001b[1;33m\u001b[0m\u001b[1;33m\u001b[0m\u001b[0m\n\u001b[0;32m      9\u001b[0m     \u001b[1;32mfor\u001b[0m \u001b[0mfile\u001b[0m \u001b[1;32min\u001b[0m \u001b[0mfiles\u001b[0m\u001b[1;33m:\u001b[0m\u001b[1;33m\u001b[0m\u001b[1;33m\u001b[0m\u001b[0m\n\u001b[1;32m---> 10\u001b[1;33m         \u001b[0mconvert_bin\u001b[0m\u001b[1;33m(\u001b[0m\u001b[0mpath\u001b[0m\u001b[1;33m+\u001b[0m\u001b[1;34m\"\\\\\"\u001b[0m\u001b[1;33m+\u001b[0m\u001b[0mfile\u001b[0m\u001b[1;33m,\u001b[0m\u001b[0mdes\u001b[0m\u001b[1;33m+\u001b[0m\u001b[1;34m\"\\\\\"\u001b[0m\u001b[1;33m+\u001b[0m\u001b[0mfile\u001b[0m\u001b[1;33m.\u001b[0m\u001b[0mreplace\u001b[0m\u001b[1;33m(\u001b[0m\u001b[1;34m\"bin\"\u001b[0m\u001b[1;33m,\u001b[0m\u001b[1;34m\"xyz\"\u001b[0m\u001b[1;33m)\u001b[0m\u001b[1;33m)\u001b[0m\u001b[1;33m\u001b[0m\u001b[1;33m\u001b[0m\u001b[0m\n\u001b[0m",
      "\u001b[1;32m<ipython-input-27-148c7c319151>\u001b[0m in \u001b[0;36mconvert_bin\u001b[1;34m(binpath, des)\u001b[0m\n\u001b[0;32m      2\u001b[0m \u001b[1;32mdef\u001b[0m \u001b[0mconvert_bin\u001b[0m\u001b[1;33m(\u001b[0m\u001b[0mbinpath\u001b[0m\u001b[1;33m,\u001b[0m\u001b[0mdes\u001b[0m\u001b[1;33m)\u001b[0m\u001b[1;33m:\u001b[0m\u001b[1;33m\u001b[0m\u001b[1;33m\u001b[0m\u001b[0m\n\u001b[0;32m      3\u001b[0m     \u001b[0mscan\u001b[0m \u001b[1;33m=\u001b[0m \u001b[0mnp\u001b[0m\u001b[1;33m.\u001b[0m\u001b[0mfromfile\u001b[0m\u001b[1;33m(\u001b[0m\u001b[0mbinpath\u001b[0m\u001b[1;33m,\u001b[0m \u001b[0mdtype\u001b[0m\u001b[1;33m=\u001b[0m\u001b[0mnp\u001b[0m\u001b[1;33m.\u001b[0m\u001b[0mfloat32\u001b[0m\u001b[1;33m)\u001b[0m\u001b[1;33m\u001b[0m\u001b[1;33m\u001b[0m\u001b[0m\n\u001b[1;32m----> 4\u001b[1;33m     \u001b[0mscan\u001b[0m \u001b[1;33m=\u001b[0m \u001b[0mscan\u001b[0m\u001b[1;33m.\u001b[0m\u001b[0mreshape\u001b[0m\u001b[1;33m(\u001b[0m\u001b[1;33m(\u001b[0m\u001b[1;33m-\u001b[0m\u001b[1;36m1\u001b[0m\u001b[1;33m,\u001b[0m \u001b[1;36m4\u001b[0m\u001b[1;33m)\u001b[0m\u001b[1;33m)\u001b[0m\u001b[1;33m\u001b[0m\u001b[1;33m\u001b[0m\u001b[0m\n\u001b[0m\u001b[0;32m      5\u001b[0m     \u001b[0mpoints\u001b[0m \u001b[1;33m=\u001b[0m \u001b[0mscan\u001b[0m\u001b[1;33m[\u001b[0m\u001b[1;33m:\u001b[0m\u001b[1;33m,\u001b[0m\u001b[1;33m:\u001b[0m\u001b[1;36m3\u001b[0m\u001b[1;33m]\u001b[0m\u001b[1;33m\u001b[0m\u001b[1;33m\u001b[0m\u001b[0m\n\u001b[0;32m      6\u001b[0m     \u001b[1;31m# 写入文件\u001b[0m\u001b[1;33m\u001b[0m\u001b[1;33m\u001b[0m\u001b[1;33m\u001b[0m\u001b[0m\n",
      "\u001b[1;31mValueError\u001b[0m: cannot reshape array of size 354415 into shape (4)"
     ]
    }
   ],
   "source": [
    "convert()"
   ]
  },
  {
   "cell_type": "code",
   "execution_count": 33,
   "id": "0fd7204c",
   "metadata": {},
   "outputs": [
    {
     "data": {
      "text/plain": [
       "'xxx.xyz'"
      ]
     },
     "execution_count": 33,
     "metadata": {},
     "output_type": "execute_result"
    }
   ],
   "source": [
    "\"xxx.bin\".replace(\"bin\",\"xyz\")"
   ]
  }
 ],
 "metadata": {
  "kernelspec": {
   "display_name": "Python 3",
   "language": "python",
   "name": "python3"
  },
  "language_info": {
   "codemirror_mode": {
    "name": "ipython",
    "version": 3
   },
   "file_extension": ".py",
   "mimetype": "text/x-python",
   "name": "python",
   "nbconvert_exporter": "python",
   "pygments_lexer": "ipython3",
   "version": "3.6.13"
  },
  "toc": {
   "base_numbering": 1,
   "nav_menu": {},
   "number_sections": true,
   "sideBar": true,
   "skip_h1_title": false,
   "title_cell": "Table of Contents",
   "title_sidebar": "Contents",
   "toc_cell": false,
   "toc_position": {},
   "toc_section_display": true,
   "toc_window_display": false
  }
 },
 "nbformat": 4,
 "nbformat_minor": 5
}
