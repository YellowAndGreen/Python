{
 "cells": [
  {
   "cell_type": "code",
   "execution_count": 19,
   "id": "34aceedc",
   "metadata": {
    "collapsed": true
   },
   "outputs": [
    {
     "name": "stdout",
     "output_type": "stream",
     "text": [
      "Collecting open3d\n",
      "  Downloading open3d-0.15.1-cp36-cp36m-win_amd64.whl (116.7 MB)\n",
      "Requirement already satisfied: numpy>=1.18.0 in e:\\anaconda\\envs\\pytorch_gpu\\lib\\site-packages (from open3d) (1.19.2)\n",
      "Collecting jupyter-packaging~=0.10\n",
      "  Downloading jupyter_packaging-0.10.6-py2.py3-none-any.whl (14 kB)\n",
      "Requirement already satisfied: pygments>=2.7.4 in e:\\anaconda\\envs\\pytorch_gpu\\lib\\site-packages (from open3d) (2.8.1)\n",
      "Requirement already satisfied: wheel>=0.36.0 in e:\\anaconda\\envs\\pytorch_gpu\\lib\\site-packages (from open3d) (0.36.2)\n",
      "Requirement already satisfied: setuptools>=40.8.0 in e:\\anaconda\\envs\\pytorch_gpu\\lib\\site-packages (from open3d) (52.0.0.post20210125)\n",
      "Requirement already satisfied: jupyterlab==3.*,>=3.0.0 in e:\\anaconda\\envs\\pytorch_gpu\\lib\\site-packages (from open3d) (3.0.11)\n",
      "Requirement already satisfied: ipywidgets>=7.6.0 in e:\\anaconda\\envs\\pytorch_gpu\\lib\\site-packages (from open3d) (7.6.3)\n",
      "Requirement already satisfied: nbclassic~=0.2 in e:\\anaconda\\envs\\pytorch_gpu\\lib\\site-packages (from jupyterlab==3.*,>=3.0.0->open3d) (0.2.6)\n",
      "Requirement already satisfied: tornado>=6.1.0 in e:\\anaconda\\envs\\pytorch_gpu\\lib\\site-packages (from jupyterlab==3.*,>=3.0.0->open3d) (6.1)\n",
      "Requirement already satisfied: packaging in e:\\anaconda\\envs\\pytorch_gpu\\lib\\site-packages (from jupyterlab==3.*,>=3.0.0->open3d) (20.9)\n",
      "Requirement already satisfied: jupyter-core in e:\\anaconda\\envs\\pytorch_gpu\\lib\\site-packages (from jupyterlab==3.*,>=3.0.0->open3d) (4.7.1)\n",
      "Requirement already satisfied: jupyterlab-server~=2.3 in e:\\anaconda\\envs\\pytorch_gpu\\lib\\site-packages (from jupyterlab==3.*,>=3.0.0->open3d) (2.4.0)\n",
      "Requirement already satisfied: jupyter-server~=1.4 in e:\\anaconda\\envs\\pytorch_gpu\\lib\\site-packages (from jupyterlab==3.*,>=3.0.0->open3d) (1.4.1)\n",
      "Requirement already satisfied: jinja2>=2.10 in e:\\anaconda\\envs\\pytorch_gpu\\lib\\site-packages (from jupyterlab==3.*,>=3.0.0->open3d) (2.11.3)\n",
      "Requirement already satisfied: ipython in e:\\anaconda\\envs\\pytorch_gpu\\lib\\site-packages (from jupyterlab==3.*,>=3.0.0->open3d) (6.1.0)\n",
      "Collecting jupyterlab==3.*,>=3.0.0\n",
      "  Downloading jupyterlab-3.2.9-py3-none-any.whl (8.5 MB)\n",
      "Requirement already satisfied: nbformat>=4.2.0 in e:\\anaconda\\envs\\pytorch_gpu\\lib\\site-packages (from ipywidgets>=7.6.0->open3d) (5.1.3)\n",
      "Requirement already satisfied: widgetsnbextension~=3.5.0 in e:\\anaconda\\envs\\pytorch_gpu\\lib\\site-packages (from ipywidgets>=7.6.0->open3d) (3.5.1)\n",
      "Requirement already satisfied: traitlets>=4.3.1 in e:\\anaconda\\envs\\pytorch_gpu\\lib\\site-packages (from ipywidgets>=7.6.0->open3d) (4.3.3)\n",
      "Requirement already satisfied: jupyterlab-widgets>=1.0.0 in e:\\anaconda\\envs\\pytorch_gpu\\lib\\site-packages (from ipywidgets>=7.6.0->open3d) (1.0.0)\n",
      "Requirement already satisfied: ipykernel>=4.5.1 in e:\\anaconda\\envs\\pytorch_gpu\\lib\\site-packages (from ipywidgets>=7.6.0->open3d) (5.3.4)\n",
      "Requirement already satisfied: jupyter-client in e:\\anaconda\\envs\\pytorch_gpu\\lib\\site-packages (from ipykernel>=4.5.1->ipywidgets>=7.6.0->open3d) (6.1.12)\n",
      "Requirement already satisfied: MarkupSafe>=0.23 in e:\\anaconda\\envs\\pytorch_gpu\\lib\\site-packages (from jinja2>=2.10->jupyterlab==3.*,>=3.0.0->open3d) (1.1.1)\n",
      "Collecting deprecation\n",
      "  Downloading deprecation-2.1.0-py2.py3-none-any.whl (11 kB)\n",
      "Collecting tomlkit\n",
      "  Downloading tomlkit-0.10.2-py3-none-any.whl (34 kB)\n",
      "Requirement already satisfied: terminado>=0.8.3 in e:\\anaconda\\envs\\pytorch_gpu\\lib\\site-packages (from jupyter-server~=1.4->jupyterlab==3.*,>=3.0.0->open3d) (0.9.4)\n",
      "Requirement already satisfied: ipython-genutils in e:\\anaconda\\envs\\pytorch_gpu\\lib\\site-packages (from jupyter-server~=1.4->jupyterlab==3.*,>=3.0.0->open3d) (0.2.0)\n",
      "Requirement already satisfied: anyio>=2.0.2 in e:\\anaconda\\envs\\pytorch_gpu\\lib\\site-packages (from jupyter-server~=1.4->jupyterlab==3.*,>=3.0.0->open3d) (2.2.0)\n",
      "Requirement already satisfied: pyzmq>=17 in e:\\anaconda\\envs\\pytorch_gpu\\lib\\site-packages (from jupyter-server~=1.4->jupyterlab==3.*,>=3.0.0->open3d) (20.0.0)\n",
      "Requirement already satisfied: nbconvert in e:\\anaconda\\envs\\pytorch_gpu\\lib\\site-packages (from jupyter-server~=1.4->jupyterlab==3.*,>=3.0.0->open3d) (5.6.1)\n",
      "Requirement already satisfied: prometheus-client in e:\\anaconda\\envs\\pytorch_gpu\\lib\\site-packages (from jupyter-server~=1.4->jupyterlab==3.*,>=3.0.0->open3d) (0.10.0)\n",
      "Requirement already satisfied: pywin32>=1.0 in e:\\anaconda\\envs\\pytorch_gpu\\lib\\site-packages (from jupyter-server~=1.4->jupyterlab==3.*,>=3.0.0->open3d) (227)\n",
      "Requirement already satisfied: Send2Trash in e:\\anaconda\\envs\\pytorch_gpu\\lib\\site-packages (from jupyter-server~=1.4->jupyterlab==3.*,>=3.0.0->open3d) (1.5.0)\n",
      "Requirement already satisfied: idna>=2.8 in e:\\anaconda\\envs\\pytorch_gpu\\lib\\site-packages (from anyio>=2.0.2->jupyter-server~=1.4->jupyterlab==3.*,>=3.0.0->open3d) (2.10)\n",
      "Requirement already satisfied: dataclasses in e:\\anaconda\\envs\\pytorch_gpu\\lib\\site-packages (from anyio>=2.0.2->jupyter-server~=1.4->jupyterlab==3.*,>=3.0.0->open3d) (0.8)\n",
      "Requirement already satisfied: async-generator in e:\\anaconda\\envs\\pytorch_gpu\\lib\\site-packages (from anyio>=2.0.2->jupyter-server~=1.4->jupyterlab==3.*,>=3.0.0->open3d) (1.10)\n",
      "Requirement already satisfied: sniffio>=1.1 in e:\\anaconda\\envs\\pytorch_gpu\\lib\\site-packages (from anyio>=2.0.2->jupyter-server~=1.4->jupyterlab==3.*,>=3.0.0->open3d) (1.2.0)\n",
      "Requirement already satisfied: typing-extensions in e:\\anaconda\\envs\\pytorch_gpu\\lib\\site-packages (from anyio>=2.0.2->jupyter-server~=1.4->jupyterlab==3.*,>=3.0.0->open3d) (3.7.4.3)\n",
      "Requirement already satisfied: python-dateutil>=2.1 in e:\\anaconda\\envs\\pytorch_gpu\\lib\\site-packages (from jupyter-client->ipykernel>=4.5.1->ipywidgets>=7.6.0->open3d) (2.8.1)\n",
      "Requirement already satisfied: json5 in e:\\anaconda\\envs\\pytorch_gpu\\lib\\site-packages (from jupyterlab-server~=2.3->jupyterlab==3.*,>=3.0.0->open3d) (0.9.5)\n",
      "Requirement already satisfied: jsonschema>=3.0.1 in e:\\anaconda\\envs\\pytorch_gpu\\lib\\site-packages (from jupyterlab-server~=2.3->jupyterlab==3.*,>=3.0.0->open3d) (3.2.0)\n",
      "Requirement already satisfied: requests in e:\\anaconda\\envs\\pytorch_gpu\\lib\\site-packages (from jupyterlab-server~=2.3->jupyterlab==3.*,>=3.0.0->open3d) (2.25.1)\n",
      "Requirement already satisfied: babel in e:\\anaconda\\envs\\pytorch_gpu\\lib\\site-packages (from jupyterlab-server~=2.3->jupyterlab==3.*,>=3.0.0->open3d) (2.9.0)\n",
      "Requirement already satisfied: six>=1.11.0 in e:\\anaconda\\envs\\pytorch_gpu\\lib\\site-packages (from jsonschema>=3.0.1->jupyterlab-server~=2.3->jupyterlab==3.*,>=3.0.0->open3d) (1.15.0)\n",
      "Requirement already satisfied: pyrsistent>=0.14.0 in e:\\anaconda\\envs\\pytorch_gpu\\lib\\site-packages (from jsonschema>=3.0.1->jupyterlab-server~=2.3->jupyterlab==3.*,>=3.0.0->open3d) (0.17.3)\n",
      "Requirement already satisfied: attrs>=17.4.0 in e:\\anaconda\\envs\\pytorch_gpu\\lib\\site-packages (from jsonschema>=3.0.1->jupyterlab-server~=2.3->jupyterlab==3.*,>=3.0.0->open3d) (20.3.0)\n",
      "Requirement already satisfied: importlib-metadata in e:\\anaconda\\envs\\pytorch_gpu\\lib\\site-packages (from jsonschema>=3.0.1->jupyterlab-server~=2.3->jupyterlab==3.*,>=3.0.0->open3d) (3.7.3)\n",
      "Requirement already satisfied: notebook<7 in e:\\anaconda\\envs\\pytorch_gpu\\lib\\site-packages (from nbclassic~=0.2->jupyterlab==3.*,>=3.0.0->open3d) (6.3.0)\n",
      "Requirement already satisfied: argon2-cffi in e:\\anaconda\\envs\\pytorch_gpu\\lib\\site-packages (from notebook<7->nbclassic~=0.2->jupyterlab==3.*,>=3.0.0->open3d) (20.1.0)\n",
      "Requirement already satisfied: contextvars>=2.1 in e:\\anaconda\\envs\\pytorch_gpu\\lib\\site-packages (from sniffio>=1.1->anyio>=2.0.2->jupyter-server~=1.4->jupyterlab==3.*,>=3.0.0->open3d) (2.4)\n",
      "Requirement already satisfied: immutables>=0.9 in e:\\anaconda\\envs\\pytorch_gpu\\lib\\site-packages (from contextvars>=2.1->sniffio>=1.1->anyio>=2.0.2->jupyter-server~=1.4->jupyterlab==3.*,>=3.0.0->open3d) (0.15)\n",
      "Requirement already satisfied: pywinpty>=0.5 in e:\\anaconda\\envs\\pytorch_gpu\\lib\\site-packages (from terminado>=0.8.3->jupyter-server~=1.4->jupyterlab==3.*,>=3.0.0->open3d) (0.5.7)\n",
      "Requirement already satisfied: decorator in e:\\anaconda\\envs\\pytorch_gpu\\lib\\site-packages (from traitlets>=4.3.1->ipywidgets>=7.6.0->open3d) (5.0.5)\n",
      "Requirement already satisfied: cffi>=1.0.0 in e:\\anaconda\\envs\\pytorch_gpu\\lib\\site-packages (from argon2-cffi->notebook<7->nbclassic~=0.2->jupyterlab==3.*,>=3.0.0->open3d) (1.14.5)\n",
      "Requirement already satisfied: pycparser in e:\\anaconda\\envs\\pytorch_gpu\\lib\\site-packages (from cffi>=1.0.0->argon2-cffi->notebook<7->nbclassic~=0.2->jupyterlab==3.*,>=3.0.0->open3d) (2.20)\n",
      "Requirement already satisfied: pytz>=2015.7 in e:\\anaconda\\envs\\pytorch_gpu\\lib\\site-packages (from babel->jupyterlab-server~=2.3->jupyterlab==3.*,>=3.0.0->open3d) (2021.1)\n",
      "Requirement already satisfied: zipp>=0.5 in e:\\anaconda\\envs\\pytorch_gpu\\lib\\site-packages (from importlib-metadata->jsonschema>=3.0.1->jupyterlab-server~=2.3->jupyterlab==3.*,>=3.0.0->open3d) (3.4.1)\n",
      "Requirement already satisfied: pandocfilters>=1.4.1 in e:\\anaconda\\envs\\pytorch_gpu\\lib\\site-packages (from nbconvert->jupyter-server~=1.4->jupyterlab==3.*,>=3.0.0->open3d) (1.4.3)\n",
      "Requirement already satisfied: entrypoints>=0.2.2 in e:\\anaconda\\envs\\pytorch_gpu\\lib\\site-packages (from nbconvert->jupyter-server~=1.4->jupyterlab==3.*,>=3.0.0->open3d) (0.3)\n",
      "Requirement already satisfied: bleach in e:\\anaconda\\envs\\pytorch_gpu\\lib\\site-packages (from nbconvert->jupyter-server~=1.4->jupyterlab==3.*,>=3.0.0->open3d) (3.3.0)\n",
      "Requirement already satisfied: testpath in e:\\anaconda\\envs\\pytorch_gpu\\lib\\site-packages (from nbconvert->jupyter-server~=1.4->jupyterlab==3.*,>=3.0.0->open3d) (0.4.4)\n",
      "Requirement already satisfied: defusedxml in e:\\anaconda\\envs\\pytorch_gpu\\lib\\site-packages (from nbconvert->jupyter-server~=1.4->jupyterlab==3.*,>=3.0.0->open3d) (0.7.1)\n",
      "Requirement already satisfied: mistune<2,>=0.8.1 in e:\\anaconda\\envs\\pytorch_gpu\\lib\\site-packages (from nbconvert->jupyter-server~=1.4->jupyterlab==3.*,>=3.0.0->open3d) (0.8.4)\n",
      "Requirement already satisfied: webencodings in e:\\anaconda\\envs\\pytorch_gpu\\lib\\site-packages (from bleach->nbconvert->jupyter-server~=1.4->jupyterlab==3.*,>=3.0.0->open3d) (0.5.1)\n",
      "Requirement already satisfied: pyparsing>=2.0.2 in e:\\anaconda\\envs\\pytorch_gpu\\lib\\site-packages (from packaging->jupyterlab==3.*,>=3.0.0->open3d) (2.4.7)\n",
      "Requirement already satisfied: urllib3<1.27,>=1.21.1 in e:\\anaconda\\envs\\pytorch_gpu\\lib\\site-packages (from requests->jupyterlab-server~=2.3->jupyterlab==3.*,>=3.0.0->open3d) (1.26.4)\n",
      "Requirement already satisfied: chardet<5,>=3.0.2 in e:\\anaconda\\envs\\pytorch_gpu\\lib\\site-packages (from requests->jupyterlab-server~=2.3->jupyterlab==3.*,>=3.0.0->open3d) (4.0.0)\n",
      "Requirement already satisfied: certifi>=2017.4.17 in e:\\anaconda\\envs\\pytorch_gpu\\lib\\site-packages (from requests->jupyterlab-server~=2.3->jupyterlab==3.*,>=3.0.0->open3d) (2020.12.5)\n",
      "Installing collected packages: tomlkit, deprecation, jupyterlab, jupyter-packaging, open3d\n",
      "  Attempting uninstall: jupyterlab\n",
      "    Found existing installation: jupyterlab 3.0.11\n",
      "    Uninstalling jupyterlab-3.0.11:\n",
      "      Successfully uninstalled jupyterlab-3.0.11\n",
      "  Attempting uninstall: jupyter-packaging\n",
      "    Found existing installation: jupyter-packaging 0.7.12\n",
      "    Uninstalling jupyter-packaging-0.7.12:\n",
      "      Successfully uninstalled jupyter-packaging-0.7.12\n",
      "Successfully installed deprecation-2.1.0 jupyter-packaging-0.10.6 jupyterlab-3.2.9 open3d-0.15.1 tomlkit-0.10.2\n"
     ]
    }
   ],
   "source": [
    "!pip install open3d"
   ]
  },
  {
   "cell_type": "code",
   "execution_count": 1,
   "id": "5fcf53d9",
   "metadata": {},
   "outputs": [
    {
     "name": "stdout",
     "output_type": "stream",
     "text": [
      "Jupyter environment detected. Enabling Open3D WebVisualizer.\n",
      "[Open3D INFO] WebRTC GUI backend enabled.\n",
      "[Open3D INFO] WebRTCWindowSystem: HTTP handshake server disabled.\n"
     ]
    }
   ],
   "source": [
    "import numpy as np\n",
    "import open3d as o3d"
   ]
  },
  {
   "cell_type": "code",
   "execution_count": 2,
   "id": "d8b0d45d",
   "metadata": {},
   "outputs": [],
   "source": [
    "ls = []\n",
    "with open(\"E://All Files//Programmaing//Python//深度学习//pointcloud//score-denoise//data//box_push_denoised.xyz\", 'r') as f:\n",
    "    ls = [float(j) for i in f.readlines() for j in i.strip().split(' ') ]"
   ]
  },
  {
   "cell_type": "code",
   "execution_count": 3,
   "id": "2e600afe",
   "metadata": {},
   "outputs": [],
   "source": [
    "data = np.array(ls)"
   ]
  },
  {
   "cell_type": "code",
   "execution_count": 4,
   "id": "e0ae653d",
   "metadata": {},
   "outputs": [],
   "source": [
    "data = data.reshape(-1,3)"
   ]
  },
  {
   "cell_type": "markdown",
   "id": "86c14580",
   "metadata": {},
   "source": [
    "只能打开一次，后续会内存泄漏"
   ]
  },
  {
   "cell_type": "code",
   "execution_count": 5,
   "id": "f1da5e8d",
   "metadata": {},
   "outputs": [],
   "source": [
    "#创建窗口对象\n",
    "vis = o3d.visualization.Visualizer()\n",
    "#设置窗口标题\n",
    "vis.create_window(window_name=\"kitti\")\n",
    "#设置点云大小\n",
    "vis.get_render_option().point_size = 1\n",
    "#设置颜色背景为黑色\n",
    "opt = vis.get_render_option()\n",
    "opt.background_color = np.asarray([0, 0, 0])\n",
    "\n",
    "#创建点云对象\n",
    "pcd=o3d.open3d.geometry.PointCloud()\n",
    "#将点云数据转换为Open3d可以直接使用的数据类型\n",
    "pcd.points= o3d.open3d.utility.Vector3dVector(data)\n",
    "#设置点的颜色为白色\n",
    "pcd.paint_uniform_color([1,1,1])\n",
    "#将点云加入到窗口中\n",
    "vis.add_geometry(pcd)\n",
    "\n",
    "vis.run()\n",
    "vis.destroy_window()"
   ]
  },
  {
   "cell_type": "code",
   "execution_count": null,
   "id": "75cf28ee",
   "metadata": {},
   "outputs": [],
   "source": []
  }
 ],
 "metadata": {
  "kernelspec": {
   "display_name": "Python 3",
   "language": "python",
   "name": "python3"
  },
  "language_info": {
   "codemirror_mode": {
    "name": "ipython",
    "version": 3
   },
   "file_extension": ".py",
   "mimetype": "text/x-python",
   "name": "python",
   "nbconvert_exporter": "python",
   "pygments_lexer": "ipython3",
   "version": "3.6.13"
  },
  "toc": {
   "base_numbering": 1,
   "nav_menu": {},
   "number_sections": true,
   "sideBar": true,
   "skip_h1_title": false,
   "title_cell": "Table of Contents",
   "title_sidebar": "Contents",
   "toc_cell": false,
   "toc_position": {},
   "toc_section_display": true,
   "toc_window_display": false
  }
 },
 "nbformat": 4,
 "nbformat_minor": 5
}
