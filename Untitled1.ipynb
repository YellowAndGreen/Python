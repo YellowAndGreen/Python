{
 "cells": [
  {
   "cell_type": "markdown",
   "id": "sporting-cartoon",
   "metadata": {},
   "source": [
    "# 处理元数据"
   ]
  },
  {
   "cell_type": "markdown",
   "id": "opened-calcium",
   "metadata": {},
   "source": [
    "根据每行分组并只留下时间和角度及其种类"
   ]
  },
  {
   "cell_type": "code",
   "execution_count": 13,
   "id": "geographic-pavilion",
   "metadata": {
    "scrolled": false
   },
   "outputs": [
    {
     "data": {
      "text/plain": [
       "['         2 19:17:45.781.7   1  Rx    Steering             Steering_angle_current=46 degree\\n',\n",
       " '         3 19:17:45.782.0   1  Rx    Break                Break_peadl_Displacement1=41 % Break_pedal_Displacement=42 %\\n',\n",
       " '         4 19:17:45.782.3   1  Rx    Throttle             Throttle_opening=0 %\\n',\n",
       " '         7 19:17:45.801.7   1  Rx    Steering             Steering_angle_current=46 degree\\n',\n",
       " '         8 19:17:45.802.0   1  Rx    Break                Break_peadl_Displacement1=40 % Break_pedal_Displacement=41 %\\n']"
      ]
     },
     "execution_count": 13,
     "metadata": {},
     "output_type": "execute_result"
    }
   ],
   "source": [
    "rawdata = []\n",
    "data = []\n",
    "for line in open(\"C:/Users/Administrator/Desktop/毕业论文/转向油门制动数据/20210408.log\",\"r\"): #设置文件对象并读取每一行文件\n",
    "    rawdata.append(line)               #将每一行文件加入到list中\n",
    "rawdata[0:5]"
   ]
  },
  {
   "cell_type": "code",
   "execution_count": 14,
   "id": "piano-engagement",
   "metadata": {},
   "outputs": [],
   "source": [
    "data = []\n",
    "for i in rawdata:\n",
    "    data.append([i.split()[1],i.split()[4],i.split()[-2]])"
   ]
  },
  {
   "cell_type": "markdown",
   "id": "mediterranean-river",
   "metadata": {},
   "source": [
    "根据第一列的时间分组：\n",
    "1. 每三个分一组\n",
    "2. 以每组的第一个作为时间"
   ]
  },
  {
   "cell_type": "code",
   "execution_count": 15,
   "id": "sapphire-complexity",
   "metadata": {},
   "outputs": [
    {
     "data": {
      "text/plain": [
       "['19:17:45.781.7', 'Steering', 'Steering_angle_current=46']"
      ]
     },
     "execution_count": 15,
     "metadata": {},
     "output_type": "execute_result"
    }
   ],
   "source": [
    "data[0]"
   ]
  },
  {
   "cell_type": "markdown",
   "id": "elegant-bulgaria",
   "metadata": {},
   "source": [
    "每三个分一组"
   ]
  },
  {
   "cell_type": "code",
   "execution_count": 16,
   "id": "suspected-worse",
   "metadata": {},
   "outputs": [
    {
     "name": "stdout",
     "output_type": "stream",
     "text": [
      "[['19:17:45.781.7', 'Steering', 'Steering_angle_current=46']]\n",
      "[['19:17:45.781.7', 'Steering', 'Steering_angle_current=46'], ['19:17:45.782.0', 'Break', 'Break_pedal_Displacement=42']]\n",
      "[['19:17:45.781.7', 'Steering', 'Steering_angle_current=46'], ['19:17:45.782.0', 'Break', 'Break_pedal_Displacement=42'], ['19:17:45.782.3', 'Throttle', 'Throttle_opening=0']]\n",
      "index3被执行了\n",
      "[['19:17:45.801.7', 'Steering', 'Steering_angle_current=46']]\n",
      "[['19:17:45.801.7', 'Steering', 'Steering_angle_current=46'], ['19:17:45.802.0', 'Break', 'Break_pedal_Displacement=41']]\n",
      "[['19:17:45.801.7', 'Steering', 'Steering_angle_current=46'], ['19:17:45.802.0', 'Break', 'Break_pedal_Displacement=41'], ['19:17:45.802.3', 'Throttle', 'Throttle_opening=0']]\n",
      "index6被执行了\n",
      "[['19:17:45.821.7', 'Steering', 'Steering_angle_current=46']]\n",
      "[['19:17:45.821.7', 'Steering', 'Steering_angle_current=46'], ['19:17:45.822.0', 'Break', 'Break_pedal_Displacement=41']]\n",
      "[['19:17:45.821.7', 'Steering', 'Steering_angle_current=46'], ['19:17:45.822.0', 'Break', 'Break_pedal_Displacement=41'], ['19:17:45.822.3', 'Throttle', 'Throttle_opening=0']]\n",
      "index9被执行了\n",
      "[['19:17:45.841.7', 'Steering', 'Steering_angle_current=46']]\n",
      "[['19:17:45.841.7', 'Steering', 'Steering_angle_current=46'], ['19:17:45.842.0', 'Break', 'Break_pedal_Displacement=40']]\n",
      "[['19:17:45.841.7', 'Steering', 'Steering_angle_current=46'], ['19:17:45.842.0', 'Break', 'Break_pedal_Displacement=40'], ['19:17:45.842.3', 'Throttle', 'Throttle_opening=0']]\n",
      "index12被执行了\n",
      "[['19:17:45.861.7', 'Steering', 'Steering_angle_current=46']]\n",
      "[['19:17:45.861.7', 'Steering', 'Steering_angle_current=46'], ['19:17:45.862.0', 'Break', 'Break_pedal_Displacement=40']]\n",
      "[['19:17:45.861.7', 'Steering', 'Steering_angle_current=46'], ['19:17:45.862.0', 'Break', 'Break_pedal_Displacement=40'], ['19:17:45.862.3', 'Throttle', 'Throttle_opening=0']]\n",
      "index15被执行了\n",
      "[['19:17:45.881.7', 'Steering', 'Steering_angle_current=46']]\n",
      "[['19:17:45.881.7', 'Steering', 'Steering_angle_current=46'], ['19:17:45.882.0', 'Break', 'Break_pedal_Displacement=40']]\n",
      "[['19:17:45.881.7', 'Steering', 'Steering_angle_current=46'], ['19:17:45.882.0', 'Break', 'Break_pedal_Displacement=40'], ['19:17:45.882.3', 'Throttle', 'Throttle_opening=0']]\n",
      "index18被执行了\n",
      "[['19:17:45.901.7', 'Steering', 'Steering_angle_current=46']]\n"
     ]
    }
   ],
   "source": [
    "grouped_data=[]\n",
    "index = 0\n",
    "temp_list=[]\n",
    "for i in data:\n",
    "    if index%3==0 and index!=0:\n",
    "        if index <20:\n",
    "            print(\"index\"+str(index)+\"被执行了\")\n",
    "        grouped_data.append(temp_list)\n",
    "        temp_list=[]\n",
    "    temp_list.append(i)\n",
    "    index=index+1\n",
    "    if index < 20:\n",
    "        print(temp_list)"
   ]
  },
  {
   "cell_type": "code",
   "execution_count": 17,
   "id": "extensive-momentum",
   "metadata": {},
   "outputs": [
    {
     "data": {
      "text/plain": [
       "'0'"
      ]
     },
     "execution_count": 17,
     "metadata": {},
     "output_type": "execute_result"
    }
   ],
   "source": [
    "grouped_data[0][2][2].split(\"=\")[1]"
   ]
  },
  {
   "cell_type": "markdown",
   "id": "creative-committee",
   "metadata": {},
   "source": [
    "将三个一组的进行处理"
   ]
  },
  {
   "cell_type": "code",
   "execution_count": 18,
   "id": "intended-accessory",
   "metadata": {},
   "outputs": [],
   "source": [
    "result_data = []\n",
    "for i in grouped_data:\n",
    "    result_data.append([i[0][0][0:-2],i[0][2].split(\"=\")[1],i[1][2].split(\"=\")[1],i[2][2].split(\"=\")[1]])"
   ]
  },
  {
   "cell_type": "code",
   "execution_count": 19,
   "id": "enabling-sleep",
   "metadata": {
    "scrolled": false
   },
   "outputs": [
    {
     "data": {
      "text/plain": [
       "[['19:17:45.781', '46', '42', '0'],\n",
       " ['19:17:45.801', '46', '41', '0'],\n",
       " ['19:17:45.821', '46', '41', '0'],\n",
       " ['19:17:45.841', '46', '40', '0'],\n",
       " ['19:17:45.861', '46', '40', '0'],\n",
       " ['19:17:45.881', '46', '40', '0'],\n",
       " ['19:17:45.901', '46', '40', '0'],\n",
       " ['19:17:45.921', '46', '40', '0'],\n",
       " ['19:17:45.941', '46', '40', '0'],\n",
       " ['19:17:45.961', '46', '39', '1']]"
      ]
     },
     "execution_count": 19,
     "metadata": {},
     "output_type": "execute_result"
    }
   ],
   "source": [
    "result_data[0:10]"
   ]
  },
  {
   "cell_type": "markdown",
   "id": "numerical-rating",
   "metadata": {},
   "source": [
    "写入excel"
   ]
  },
  {
   "cell_type": "code",
   "execution_count": 20,
   "id": "multiple-compact",
   "metadata": {
    "scrolled": true
   },
   "outputs": [
    {
     "data": {
      "text/html": [
       "<div>\n",
       "<style scoped>\n",
       "    .dataframe tbody tr th:only-of-type {\n",
       "        vertical-align: middle;\n",
       "    }\n",
       "\n",
       "    .dataframe tbody tr th {\n",
       "        vertical-align: top;\n",
       "    }\n",
       "\n",
       "    .dataframe thead th {\n",
       "        text-align: right;\n",
       "    }\n",
       "</style>\n",
       "<table border=\"1\" class=\"dataframe\">\n",
       "  <thead>\n",
       "    <tr style=\"text-align: right;\">\n",
       "      <th></th>\n",
       "      <th>时间</th>\n",
       "      <th>Steering</th>\n",
       "      <th>Break</th>\n",
       "      <th>Throttle</th>\n",
       "    </tr>\n",
       "  </thead>\n",
       "  <tbody>\n",
       "    <tr>\n",
       "      <th>0</th>\n",
       "      <td>19:17:45.781</td>\n",
       "      <td>46</td>\n",
       "      <td>42</td>\n",
       "      <td>0</td>\n",
       "    </tr>\n",
       "    <tr>\n",
       "      <th>1</th>\n",
       "      <td>19:17:45.801</td>\n",
       "      <td>46</td>\n",
       "      <td>41</td>\n",
       "      <td>0</td>\n",
       "    </tr>\n",
       "    <tr>\n",
       "      <th>2</th>\n",
       "      <td>19:17:45.821</td>\n",
       "      <td>46</td>\n",
       "      <td>41</td>\n",
       "      <td>0</td>\n",
       "    </tr>\n",
       "    <tr>\n",
       "      <th>3</th>\n",
       "      <td>19:17:45.841</td>\n",
       "      <td>46</td>\n",
       "      <td>40</td>\n",
       "      <td>0</td>\n",
       "    </tr>\n",
       "    <tr>\n",
       "      <th>4</th>\n",
       "      <td>19:17:45.861</td>\n",
       "      <td>46</td>\n",
       "      <td>40</td>\n",
       "      <td>0</td>\n",
       "    </tr>\n",
       "    <tr>\n",
       "      <th>...</th>\n",
       "      <td>...</td>\n",
       "      <td>...</td>\n",
       "      <td>...</td>\n",
       "      <td>...</td>\n",
       "    </tr>\n",
       "    <tr>\n",
       "      <th>231936</th>\n",
       "      <td>19:42:42.053</td>\n",
       "      <td>-30</td>\n",
       "      <td>0</td>\n",
       "      <td>0</td>\n",
       "    </tr>\n",
       "    <tr>\n",
       "      <th>231937</th>\n",
       "      <td>19:42:42.073</td>\n",
       "      <td>-30</td>\n",
       "      <td>0</td>\n",
       "      <td>0</td>\n",
       "    </tr>\n",
       "    <tr>\n",
       "      <th>231938</th>\n",
       "      <td>19:42:42.093</td>\n",
       "      <td>-30</td>\n",
       "      <td>0</td>\n",
       "      <td>0</td>\n",
       "    </tr>\n",
       "    <tr>\n",
       "      <th>231939</th>\n",
       "      <td>19:42:42.113</td>\n",
       "      <td>-30</td>\n",
       "      <td>0</td>\n",
       "      <td>0</td>\n",
       "    </tr>\n",
       "    <tr>\n",
       "      <th>231940</th>\n",
       "      <td>19:42:42.133</td>\n",
       "      <td>-30</td>\n",
       "      <td>0</td>\n",
       "      <td>0</td>\n",
       "    </tr>\n",
       "  </tbody>\n",
       "</table>\n",
       "<p>231941 rows × 4 columns</p>\n",
       "</div>"
      ],
      "text/plain": [
       "                  时间 Steering Break Throttle\n",
       "0       19:17:45.781       46    42        0\n",
       "1       19:17:45.801       46    41        0\n",
       "2       19:17:45.821       46    41        0\n",
       "3       19:17:45.841       46    40        0\n",
       "4       19:17:45.861       46    40        0\n",
       "...              ...      ...   ...      ...\n",
       "231936  19:42:42.053      -30     0        0\n",
       "231937  19:42:42.073      -30     0        0\n",
       "231938  19:42:42.093      -30     0        0\n",
       "231939  19:42:42.113      -30     0        0\n",
       "231940  19:42:42.133      -30     0        0\n",
       "\n",
       "[231941 rows x 4 columns]"
      ]
     },
     "execution_count": 20,
     "metadata": {},
     "output_type": "execute_result"
    }
   ],
   "source": [
    "import pandas as pd\n",
    "\n",
    "result = pd.DataFrame(result_data,columns=[\"时间\",\"Steering\",\"Break\",\"Throttle\"])\n",
    "result"
   ]
  },
  {
   "cell_type": "code",
   "execution_count": 21,
   "id": "defensive-diary",
   "metadata": {},
   "outputs": [],
   "source": [
    "result.to_excel(\"E://驾驶意图//20210408.xlsx\")"
   ]
  },
  {
   "cell_type": "code",
   "execution_count": null,
   "id": "attempted-israel",
   "metadata": {},
   "outputs": [],
   "source": []
  }
 ],
 "metadata": {
  "kernelspec": {
   "display_name": "Python 3",
   "language": "python",
   "name": "python3"
  },
  "language_info": {
   "codemirror_mode": {
    "name": "ipython",
    "version": 3
   },
   "file_extension": ".py",
   "mimetype": "text/x-python",
   "name": "python",
   "nbconvert_exporter": "python",
   "pygments_lexer": "ipython3",
   "version": "3.8.5"
  },
  "toc": {
   "base_numbering": 1,
   "nav_menu": {},
   "number_sections": true,
   "sideBar": true,
   "skip_h1_title": false,
   "title_cell": "Table of Contents",
   "title_sidebar": "Contents",
   "toc_cell": false,
   "toc_position": {},
   "toc_section_display": true,
   "toc_window_display": false
  }
 },
 "nbformat": 4,
 "nbformat_minor": 5
}
