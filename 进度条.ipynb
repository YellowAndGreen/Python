{
 "cells": [
  {
   "cell_type": "code",
   "execution_count": 1,
   "id": "recent-harmony",
   "metadata": {
    "colab": {
     "base_uri": "https://localhost:8080/"
    },
    "collapsed": true,
    "executionInfo": {
     "elapsed": 5487,
     "status": "ok",
     "timestamp": 1615425046563,
     "user": {
      "displayName": "黄不盈",
      "photoUrl": "",
      "userId": "09846410536788032197"
     },
     "user_tz": -480
    },
    "id": "recent-harmony",
    "outputId": "991f1e1d-8da1-4186-a496-b36a6415a3a8"
   },
   "outputs": [
    {
     "name": "stdout",
     "output_type": "stream",
     "text": [
      "Collecting rich\n",
      "  Downloading rich-10.12.0-py3-none-any.whl (212 kB)\n",
      "Requirement already satisfied: pygments<3.0.0,>=2.6.0 in e:\\anaconda\\lib\\site-packages (from rich) (2.8.1)\n",
      "Collecting commonmark<0.10.0,>=0.9.0\n",
      "  Downloading commonmark-0.9.1-py2.py3-none-any.whl (51 kB)\n",
      "Requirement already satisfied: colorama<0.5.0,>=0.4.0 in e:\\anaconda\\lib\\site-packages (from rich) (0.4.4)\n",
      "Installing collected packages: commonmark, rich\n",
      "Successfully installed commonmark-0.9.1 rich-10.12.0\n"
     ]
    }
   ],
   "source": [
    "!pip install rich"
   ]
  },
  {
   "cell_type": "code",
   "execution_count": 2,
   "id": "hired-monaco",
   "metadata": {
    "colab": {
     "base_uri": "https://localhost:8080/",
     "height": 33
    },
    "collapsed": true,
    "executionInfo": {
     "elapsed": 995,
     "status": "ok",
     "timestamp": 1615425124387,
     "user": {
      "displayName": "黄不盈",
      "photoUrl": "",
      "userId": "09846410536788032197"
     },
     "user_tz": -480
    },
    "id": "hired-monaco",
    "outputId": "bd978df3-5be5-42e8-9770-af830af9152a"
   },
   "outputs": [
    {
     "data": {
      "text/html": [
       "<pre style=\"white-space:pre;overflow-x:auto;line-height:normal;font-family:Menlo,'DejaVu Sans Mono',consolas,'Courier New',monospace\"><span style=\"color: #800000; text-decoration-color: #800000; font-style: italic\">Hello</span> World!\n",
       "</pre>\n"
      ],
      "text/plain": [
       "\u001b[3;31mHello\u001b[0m World!\n"
      ]
     },
     "metadata": {},
     "output_type": "display_data"
    }
   ],
   "source": [
    "from rich import print as rprint\n",
    "\n",
    "rprint(\"[italic red]Hello[/italic red] World!\")"
   ]
  },
  {
   "cell_type": "code",
   "execution_count": 5,
   "id": "G4J7kyo614R9",
   "metadata": {
    "collapsed": true,
    "id": "G4J7kyo614R9"
   },
   "outputs": [
    {
     "data": {
      "application/vnd.jupyter.widget-view+json": {
       "model_id": "872712867d194e909b9ef0233d4d6d8b",
       "version_major": 2,
       "version_minor": 0
      },
      "text/plain": [
       "Output()"
      ]
     },
     "metadata": {},
     "output_type": "display_data"
    },
    {
     "name": "stdout",
     "output_type": "stream",
     "text": [
      "0\n",
      "1\n",
      "2\n",
      "3\n",
      "4\n",
      "5\n",
      "6\n",
      "7\n",
      "10\n",
      "11\n",
      "12\n",
      "13\n",
      "14\n",
      "15\n",
      "16\n",
      "17\n",
      "1819\n",
      "20\n",
      "21\n",
      "22\n",
      "23\n",
      "24\n",
      "25\n",
      "26\n",
      "27\n",
      "28\n",
      "29\n"
     ]
    }
   ],
   "source": [
    "from rich.progress import track\n",
    "import  time\n",
    "\n",
    "for step in track(range(30)):\n",
    "    print(step)\n",
    "    time.sleep(0.5)"
   ]
  },
  {
   "cell_type": "code",
   "execution_count": 3,
   "id": "gtEiqj1p3foj",
   "metadata": {
    "colab": {
     "base_uri": "https://localhost:8080/"
    },
    "executionInfo": {
     "elapsed": 1004,
     "status": "ok",
     "timestamp": 1615425591103,
     "user": {
      "displayName": "黄不盈",
      "photoUrl": "",
      "userId": "09846410536788032197"
     },
     "user_tz": -480
    },
    "id": "gtEiqj1p3foj",
    "outputId": "0132dc37-a377-45df-aae0-5ce5f0a5a93b",
    "scrolled": true
   },
   "outputs": [
    {
     "name": "stdout",
     "output_type": "stream",
     "text": [
      "0\n",
      "1\n",
      "2\n",
      "3\n",
      "4\n",
      "5\n",
      "6\n",
      "7\n",
      "8\n",
      "9\n"
     ]
    }
   ],
   "source": [
    "num = range()\n",
    "track(ran)\n",
    "for i in range(10):\n",
    "    num-=num\n",
    "    print(i)\n",
    "    track(num)\n",
    "    time.sleep(0.5)"
   ]
  }
 ],
 "metadata": {
  "colab": {
   "collapsed_sections": [],
   "name": "进度条.ipynb",
   "provenance": []
  },
  "kernelspec": {
   "display_name": "Python 3",
   "language": "python",
   "name": "python3"
  },
  "language_info": {
   "codemirror_mode": {
    "name": "ipython",
    "version": 3
   },
   "file_extension": ".py",
   "mimetype": "text/x-python",
   "name": "python",
   "nbconvert_exporter": "python",
   "pygments_lexer": "ipython3",
   "version": "3.8.5"
  },
  "toc": {
   "base_numbering": 1,
   "nav_menu": {},
   "number_sections": true,
   "sideBar": true,
   "skip_h1_title": false,
   "title_cell": "Table of Contents",
   "title_sidebar": "Contents",
   "toc_cell": false,
   "toc_position": {},
   "toc_section_display": true,
   "toc_window_display": false
  }
 },
 "nbformat": 4,
 "nbformat_minor": 5
}
