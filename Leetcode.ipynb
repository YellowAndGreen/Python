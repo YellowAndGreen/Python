{
 "cells": [
  {
   "cell_type": "markdown",
   "id": "1b71e5fe",
   "metadata": {},
   "source": [
    "## LeetCode"
   ]
  },
  {
   "cell_type": "markdown",
   "id": "economic-ministry",
   "metadata": {},
   "source": [
    "### 未分类"
   ]
  },
  {
   "cell_type": "markdown",
   "id": "reflected-shoulder",
   "metadata": {},
   "source": [
    "#### 回文数"
   ]
  },
  {
   "cell_type": "code",
   "execution_count": 108,
   "id": "alpha-debut",
   "metadata": {},
   "outputs": [],
   "source": [
    "def isPalindrome(x: int) -> bool:\n",
    "    x = list(str(x))\n",
    "    isPal = True\n",
    "    while len(x)>1 and isPal:\n",
    "        if x.pop()!=x.pop(0):\n",
    "            return False\n",
    "    return isPal"
   ]
  },
  {
   "cell_type": "code",
   "execution_count": 110,
   "id": "forty-theory",
   "metadata": {},
   "outputs": [
    {
     "data": {
      "text/plain": [
       "True"
      ]
     },
     "execution_count": 110,
     "metadata": {},
     "output_type": "execute_result"
    }
   ],
   "source": [
    "isPalindrome(12321)"
   ]
  },
  {
   "cell_type": "code",
   "execution_count": 107,
   "id": "voluntary-still",
   "metadata": {
    "scrolled": true
   },
   "outputs": [
    {
     "data": {
      "text/plain": [
       "'1'"
      ]
     },
     "execution_count": 107,
     "metadata": {},
     "output_type": "execute_result"
    }
   ],
   "source": [
    "list(str(1234)).pop(0)"
   ]
  },
  {
   "cell_type": "markdown",
   "id": "passive-choir",
   "metadata": {},
   "source": [
    "#### 罗马数字转换"
   ]
  },
  {
   "cell_type": "code",
   "execution_count": 123,
   "id": "arranged-rouge",
   "metadata": {},
   "outputs": [],
   "source": [
    "class Solution:\n",
    "    def __init__(self):\n",
    "        self.rodict = {'I':1,'V':5,'X':10,'L':50,'C':100,'D':500,'M':1000}\n",
    "    def romanToInt(self, s: str) -> int:\n",
    "        # 从右至左，从个位数开始\n",
    "        roman = list(s)\n",
    "        intval = 0\n",
    "        last_add = 0\n",
    "        while len(roman)>0:\n",
    "            temp = roman.pop()\n",
    "            # 先看是否特殊情况（根据特殊情况的左部分检查），再加起来\n",
    "            if temp in self.rodict:\n",
    "                add_val =self.rodict[temp]\n",
    "                if (add_val == 1 and (last_add ==5 or last_add ==10)) or add_val == 10 and (last_add ==50 or last_add ==100) or  (add_val == 100 and (last_add ==500 or last_add ==1000)):\n",
    "                    intval -= add_val\n",
    "                else:\n",
    "                    # 若均不是则正常加起来\n",
    "                    intval += add_val\n",
    "                    last_add = add_val\n",
    "        return intval"
   ]
  },
  {
   "cell_type": "code",
   "execution_count": 122,
   "id": "wanted-centre",
   "metadata": {},
   "outputs": [
    {
     "data": {
      "text/plain": [
       "414"
      ]
     },
     "execution_count": 122,
     "metadata": {},
     "output_type": "execute_result"
    }
   ],
   "source": [
    "sol = Solution()\n",
    "sol.romanToInt('CDXIV')"
   ]
  },
  {
   "cell_type": "markdown",
   "id": "billion-schedule",
   "metadata": {},
   "source": [
    "别人的答案\n",
    "+ 第一个优点是发现只要比这个小，就减一\n",
    "+ 第二是很清晰，从左到右进行，i<len-1是怕index超出"
   ]
  },
  {
   "cell_type": "code",
   "execution_count": 124,
   "id": "radio-praise",
   "metadata": {},
   "outputs": [],
   "source": [
    "class Solution:\n",
    "    def romanToInt(self, s):\n",
    "        \"\"\"\n",
    "        :type s: str\n",
    "        :rtype: int\n",
    "        \"\"\"\n",
    "        a = {'I':1, 'V':5, 'X':10, 'L':50, 'C':100, 'D':500, 'M':1000}        \n",
    "        ans=0        \n",
    "        for i in range(len(s)):            \n",
    "            if i<len(s)-1 and a[s[i]]<a[s[i+1]]:                \n",
    "                ans-=a[s[i]]\n",
    "            else:\n",
    "                ans+=a[s[i]]\n",
    "        return ans"
   ]
  },
  {
   "cell_type": "markdown",
   "id": "simple-charger",
   "metadata": {},
   "source": [
    "#### 最长公共前缀"
   ]
  },
  {
   "cell_type": "markdown",
   "id": "controlling-question",
   "metadata": {},
   "source": [
    "若只有一个元素，则直接返回\n",
    "这次还是一个数组切片的问题，`    while not foundlongest and pos<=min_len:`最后不能-1，因为数组切片已经忽略最后一个元素了"
   ]
  },
  {
   "cell_type": "code",
   "execution_count": 41,
   "id": "senior-ground",
   "metadata": {},
   "outputs": [],
   "source": [
    "def longestCommonPrefix(strs):\n",
    "    pos = 1\n",
    "    prefix = ''\n",
    "    foundlongest = False\n",
    "    if len(strs) ==1:\n",
    "        return strs[0]\n",
    "    min_len = min([len(i) for i in strs])\n",
    "    while not foundlongest and pos<=min_len:\n",
    "        for i in range(len(strs)):\n",
    "            # 若前后两个值不等，则退出循环，并设置为True\n",
    "            if i!=len(strs)-1:\n",
    "                print(strs[i][:pos],strs[i+1][:pos])\n",
    "            if i!=len(strs)-1 and strs[i][:pos]!=strs[i+1][:pos]:\n",
    "                foundlongest = True\n",
    "                break\n",
    "        # 若循环结束均相等，则更新前缀，并pos+1\n",
    "        if not foundlongest:\n",
    "            prefix = strs[0][:pos]\n",
    "            pos+=1\n",
    "    return prefix"
   ]
  },
  {
   "cell_type": "code",
   "execution_count": 42,
   "id": "rural-james",
   "metadata": {},
   "outputs": [
    {
     "name": "stdout",
     "output_type": "stream",
     "text": [
      "a a\n"
     ]
    },
    {
     "data": {
      "text/plain": [
       "'a'"
      ]
     },
     "execution_count": 42,
     "metadata": {},
     "output_type": "execute_result"
    }
   ],
   "source": [
    "longestCommonPrefix(strs =[\"ab\", \"a\"])"
   ]
  },
  {
   "cell_type": "markdown",
   "id": "yellow-flesh",
   "metadata": {},
   "source": [
    "网友答案：利用python的zip函数，把str看成list然后把输入看成二维数组，左对齐纵向压缩，然后把每项利用集合去重，之后遍历list中找到元素长度大于1之前的就是公共前缀"
   ]
  },
  {
   "cell_type": "code",
   "execution_count": 5,
   "id": "forbidden-diving",
   "metadata": {
    "scrolled": true
   },
   "outputs": [
    {
     "data": {
      "text/plain": [
       "[('a', 'a', 'a', 'd')]"
      ]
     },
     "execution_count": 5,
     "metadata": {},
     "output_type": "execute_result"
    }
   ],
   "source": [
    "list(zip(\"ab\", \"a\",'abc','da'))"
   ]
  },
  {
   "cell_type": "code",
   "execution_count": 8,
   "id": "informational-challenge",
   "metadata": {},
   "outputs": [
    {
     "data": {
      "text/plain": [
       "[('a', 'c', 'a', 'd'), ('b', 'd', 'b', 'a')]"
      ]
     },
     "execution_count": 8,
     "metadata": {},
     "output_type": "execute_result"
    }
   ],
   "source": [
    "list(zip(*['ab','cd','abc','da']))"
   ]
  },
  {
   "cell_type": "code",
   "execution_count": 55,
   "id": "derived-destination",
   "metadata": {},
   "outputs": [
    {
     "data": {
      "text/plain": [
       "[{'a'}]"
      ]
     },
     "execution_count": 55,
     "metadata": {},
     "output_type": "execute_result"
    }
   ],
   "source": [
    "list(map(set, zip(*[\"ab\", \"a\",'abc','ada'])))"
   ]
  },
  {
   "cell_type": "code",
   "execution_count": 12,
   "id": "fourth-somerset",
   "metadata": {},
   "outputs": [],
   "source": [
    "def longestCommonPrefix(strs):\n",
    "    if not strs: return \"\"\n",
    "    ss = list(map(set, zip(*strs)))\n",
    "    res = \"\"\n",
    "    for x in ss:\n",
    "        x = list(x)\n",
    "        if len(x) > 1:\n",
    "            break\n",
    "        res = res + x[0]\n",
    "    return res"
   ]
  },
  {
   "cell_type": "code",
   "execution_count": 14,
   "id": "important-shirt",
   "metadata": {},
   "outputs": [
    {
     "data": {
      "text/plain": [
       "'ad'"
      ]
     },
     "execution_count": 14,
     "metadata": {},
     "output_type": "execute_result"
    }
   ],
   "source": [
    "longestCommonPrefix([\"adb\", \"ad\",'adbc','ada'])"
   ]
  },
  {
   "cell_type": "markdown",
   "id": "frank-breakdown",
   "metadata": {},
   "source": [
    "#### 有效的括号"
   ]
  },
  {
   "cell_type": "code",
   "execution_count": 100,
   "id": "integrated-sugar",
   "metadata": {},
   "outputs": [],
   "source": [
    "def isValid(s: str) -> bool:\n",
    "    valid = True\n",
    "    alist = []\n",
    "    fuhao = {'(':')','{':'}','[':']',}\n",
    "    for i in s:\n",
    "        if i in fuhao.keys():\n",
    "            alist.append(i)\n",
    "            print(alist)\n",
    "        elif i in fuhao.values():\n",
    "            if alist == [] or fuhao[alist.pop()]!=i:\n",
    "                valid = False\n",
    "                break\n",
    "            # 若alist还有值，则失败\n",
    "    if alist!=[]:\n",
    "        valid = False\n",
    "    return valid"
   ]
  },
  {
   "cell_type": "code",
   "execution_count": 102,
   "id": "hindu-absence",
   "metadata": {},
   "outputs": [
    {
     "name": "stdout",
     "output_type": "stream",
     "text": [
      "['(']\n"
     ]
    },
    {
     "data": {
      "text/plain": [
       "False"
      ]
     },
     "execution_count": 102,
     "metadata": {},
     "output_type": "execute_result"
    }
   ],
   "source": [
    "isValid(\"(\")"
   ]
  },
  {
   "cell_type": "markdown",
   "id": "inside-green",
   "metadata": {},
   "source": [
    "#### 搜索插入位置"
   ]
  },
  {
   "cell_type": "code",
   "execution_count": 108,
   "id": "muslim-french",
   "metadata": {},
   "outputs": [],
   "source": [
    "a=[1,2,3,4,5]\n",
    "def seq_search(list_search,target):\n",
    "    index = 0\n",
    "    found = False\n",
    "    first = 0\n",
    "    # 这里为什么要-1？？？\n",
    "    # 防止index溢出，有可能取到len值\n",
    "    last = len(list_search)-1\n",
    "    while not found:\n",
    "        # 是last+first，不是减号！！\n",
    "        # round因为是0.5所以可用，但是最好用//\n",
    "        temp_pos = round((last+first)/2)\n",
    "        if list_search[temp_pos] == target:\n",
    "            index = temp_pos\n",
    "            return index\n",
    "        elif list_search[temp_pos] > target:\n",
    "            # 我所没做到的就在这个+1上\n",
    "            last = temp_pos-1\n",
    "        else:\n",
    "            first = temp_pos+1\n",
    "        if first>last:\n",
    "            if list_search[temp_pos] > target:\n",
    "                index= temp_pos\n",
    "            else:\n",
    "                index= temp_pos+1\n",
    "            return index\n",
    "        print(temp_pos,first,last)\n",
    "    return index"
   ]
  },
  {
   "cell_type": "code",
   "execution_count": 111,
   "id": "designing-loading",
   "metadata": {
    "scrolled": true
   },
   "outputs": [
    {
     "name": "stdout",
     "output_type": "stream",
     "text": [
      "2 0 1\n"
     ]
    },
    {
     "data": {
      "text/plain": [
       "0"
      ]
     },
     "execution_count": 111,
     "metadata": {},
     "output_type": "execute_result"
    }
   ],
   "source": [
    "seq_search(a,0)"
   ]
  },
  {
   "cell_type": "markdown",
   "id": "collective-height",
   "metadata": {},
   "source": [
    "#### 两数相加  ——出现问题，通过不了"
   ]
  },
  {
   "cell_type": "code",
   "execution_count": 13,
   "id": "pleased-jungle",
   "metadata": {},
   "outputs": [],
   "source": [
    "# Definition for singly-linked list.\n",
    "class ListNode:\n",
    "    def __init__(self, val=0, next=None):\n",
    "        self.val = val\n",
    "        self.next = next\n",
    "    \n",
    "    def hasnext():\n",
    "        if self.next!=None:\n",
    "            return True\n",
    "        else:\n",
    "            return False\n",
    "\n",
    "def addTwoNumbers(l1: ListNode, l2: ListNode) -> ListNode:\n",
    "    add_val = 0\n",
    "    base = 1\n",
    "    while l1!=None and l2!=None:\n",
    "        add_val = add_val+base*(l1.val+l2.val)\n",
    "        l1,l2=[l1.next,l2.next]\n",
    "        base*=10\n",
    "    while l1!=None:\n",
    "        l1 = l1.next\n",
    "        add_val = add_val+l1.val\n",
    "        base*=10\n",
    "    while l2!=None:\n",
    "        l2 = l2.next\n",
    "        add_val = add_val+l2.val\n",
    "        base*=10\n",
    "    # 转化为字符串并反转\n",
    "    str_val = str(add_val)[::-1]\n",
    "    ini_node = ListNode()\n",
    "    tempnode = ini_node\n",
    "    # 创建新的Node\n",
    "    for i in range(len(str_val)):\n",
    "        tempnode.next = ListNode(int(str_val[i]))\n",
    "        tempnode = tempnode.next\n",
    "    return ini_node"
   ]
  },
  {
   "cell_type": "code",
   "execution_count": 16,
   "id": "developing-convert",
   "metadata": {},
   "outputs": [
    {
     "data": {
      "text/plain": [
       "0"
      ]
     },
     "execution_count": 16,
     "metadata": {},
     "output_type": "execute_result"
    }
   ],
   "source": [
    "l1 = ListNode(2,ListNode(4,ListNode(3)))\n",
    "l2 = ListNode(5,ListNode(6,ListNode(4)))\n",
    "addTwoNumbers(l1,l2).next.next.val"
   ]
  },
  {
   "cell_type": "markdown",
   "id": "lucky-trail",
   "metadata": {},
   "source": [
    "#### 3. 无重复字符的最长子串"
   ]
  },
  {
   "cell_type": "markdown",
   "id": "round-harris",
   "metadata": {},
   "source": [
    "首先判断有无重复字符"
   ]
  },
  {
   "cell_type": "code",
   "execution_count": 19,
   "id": "applied-shuttle",
   "metadata": {},
   "outputs": [
    {
     "data": {
      "text/plain": [
       "True"
      ]
     },
     "execution_count": 19,
     "metadata": {},
     "output_type": "execute_result"
    }
   ],
   "source": [
    "a = 'ab'\n",
    "def no_dup(s):\n",
    "    if len(set(a))!=len(a):\n",
    "        return False\n",
    "    else:\n",
    "        return True\n",
    "no_dup(a)"
   ]
  },
  {
   "cell_type": "code",
   "execution_count": 21,
   "id": "intensive-arcade",
   "metadata": {},
   "outputs": [
    {
     "data": {
      "text/plain": [
       "[0]"
      ]
     },
     "execution_count": 21,
     "metadata": {},
     "output_type": "execute_result"
    }
   ],
   "source": [
    "list(range(1))"
   ]
  },
  {
   "cell_type": "markdown",
   "id": "regulated-problem",
   "metadata": {},
   "source": [
    "此方法字符串不能过长，否则出现问题"
   ]
  },
  {
   "cell_type": "code",
   "execution_count": 56,
   "id": "animal-feature",
   "metadata": {},
   "outputs": [
    {
     "data": {
      "text/plain": [
       "2"
      ]
     },
     "execution_count": 56,
     "metadata": {},
     "output_type": "execute_result"
    }
   ],
   "source": [
    "def lengthOfLongestSubstring(s: str) -> int:\n",
    "#     if len(s)<=1:\n",
    "#         return len(s)\n",
    "    # 判断有无重复字符\n",
    "    def no_dup(st):\n",
    "        if len(set(st))!=len(st):\n",
    "            return False\n",
    "        else:\n",
    "            return True\n",
    "    found = False\n",
    "    len_slice = len(s)\n",
    "    while not found:\n",
    "        for i in range(len(s)-len_slice+1):\n",
    "#             print(s[i:i+len_slice])\n",
    "            if no_dup(s[i:i+len_slice]):\n",
    "                return len_slice\n",
    "        len_slice-=1\n",
    "lengthOfLongestSubstring(' a')"
   ]
  },
  {
   "cell_type": "markdown",
   "id": "drawn-thesis",
   "metadata": {},
   "source": [
    "网友方法\n",
    "+ 解决我的困惑点是，在遇到重复后，切片刀之前重复点+1的地方，这样保留了之前不重复的长度"
   ]
  },
  {
   "cell_type": "code",
   "execution_count": null,
   "id": "coated-vampire",
   "metadata": {},
   "outputs": [],
   "source": [
    "class Solution:\n",
    "    def lengthOfLongestSubstring(self, s: str) -> int:\n",
    "        a = []\n",
    "        res = 0\n",
    "        for i in s:\n",
    "            if i in a:\n",
    "                a = a[a.index(i)+1:]\n",
    "            a.append(i)\n",
    "            res = res if len(a) < res else len(a)\n",
    "        return res"
   ]
  },
  {
   "cell_type": "code",
   "execution_count": 60,
   "id": "affected-woman",
   "metadata": {},
   "outputs": [
    {
     "data": {
      "text/plain": [
       "'a'"
      ]
     },
     "execution_count": 60,
     "metadata": {},
     "output_type": "execute_result"
    }
   ],
   "source": [
    "list('sssa').pop()"
   ]
  },
  {
   "cell_type": "code",
   "execution_count": 65,
   "id": "separate-metadata",
   "metadata": {},
   "outputs": [
    {
     "data": {
      "text/plain": [
       "True"
      ]
     },
     "execution_count": 65,
     "metadata": {},
     "output_type": "execute_result"
    }
   ],
   "source": [
    "def is_sym(s):\n",
    "    ls = list(s)\n",
    "    while len(ls)>1:\n",
    "        if ls.pop(0)!=ls.pop():\n",
    "            return False\n",
    "    return True\n",
    "is_sym('abba')"
   ]
  },
  {
   "cell_type": "code",
   "execution_count": null,
   "id": "appropriate-strategy",
   "metadata": {},
   "outputs": [],
   "source": [
    "    def longestPalindrome(self, s: str) -> str:\n",
    "        def is_sym(s):\n",
    "            ls = list(s)\n",
    "            while len(ls)>1:\n",
    "                if ls.pop(0)!=ls.pop():\n",
    "                    return False\n",
    "            return True\n",
    "        found = False\n",
    "        len_slice = len(s)\n",
    "        while not found:\n",
    "            for i in range(len(s)-len_slice+1):\n",
    "                if is_sym(s[i:i+len_slice]):\n",
    "                    return s[i:i+len_slice]\n",
    "            len_slice-=1"
   ]
  },
  {
   "cell_type": "markdown",
   "id": "direct-treatment",
   "metadata": {},
   "source": [
    "#### 26. 删除有序数组中的重复项"
   ]
  },
  {
   "cell_type": "code",
   "execution_count": 5,
   "id": "architectural-spain",
   "metadata": {},
   "outputs": [
    {
     "name": "stdout",
     "output_type": "stream",
     "text": [
      "[1, 2, 4, 5]\n"
     ]
    },
    {
     "data": {
      "text/plain": [
       "4"
      ]
     },
     "execution_count": 5,
     "metadata": {},
     "output_type": "execute_result"
    }
   ],
   "source": [
    "def removeDuplicates(nums) -> int:\n",
    "    del_nums = 0\n",
    "    for i in range(len(nums)-1):\n",
    "        if nums[i]==nums[i+1]:\n",
    "            # 若相等，则把i换到前面delnum个的位置，最后删除\n",
    "            nums.insert(del_nums,nums.pop(i))\n",
    "            del_nums+=1\n",
    "    nums = nums[del_nums:]\n",
    "    print(nums)\n",
    "    return len(nums)\n",
    "removeDuplicates([1,1,2,2,4,4,5])"
   ]
  },
  {
   "cell_type": "markdown",
   "id": "inner-privilege",
   "metadata": {},
   "source": [
    "#### 27. 移除元素"
   ]
  },
  {
   "cell_type": "code",
   "execution_count": null,
   "id": "elect-archive",
   "metadata": {},
   "outputs": [],
   "source": [
    "class Solution:def removeElement(self, nums: List[int], val: int) -> int:\n",
    "    pos = 0\n",
    "    for i in range(len(nums)):\n",
    "        if nums[i]!=val:\n",
    "            nums[pos] = nums[i]\n",
    "            pos+=1\n",
    "    print(nums)\n",
    "    return pos"
   ]
  },
  {
   "cell_type": "markdown",
   "id": "enhanced-rotation",
   "metadata": {},
   "source": [
    "#### 35. 搜索插入位置"
   ]
  },
  {
   "cell_type": "markdown",
   "id": "swedish-attribute",
   "metadata": {},
   "source": [
    "``` javascript\n",
    "nums = [1,3,5,6], target = 7\n",
    "var searchInsert = function(nums, target) {\n",
    "    for(let i in nums){\n",
    "    if(nums[i]>=target){\n",
    "        return i\n",
    "    }\n",
    "}\n",
    "    return nums.length\n",
    "};\n",
    "```"
   ]
  },
  {
   "cell_type": "markdown",
   "id": "fundamental-circular",
   "metadata": {},
   "source": [
    "#### 28. 实现 strStr()\n",
    "实现 strStr() 函数。\n",
    "\n",
    "给你两个字符串 haystack 和 needle ，请你在 haystack 字符串中找出 needle 字符串出现的第一个位置（下标从 0 开始）。如果不存在，则返回  -1 。\n",
    "\n",
    " \n",
    "\n",
    "说明：\n",
    "\n",
    "当 needle 是空字符串时，我们应当返回什么值呢？这是一个在面试中很好的问题。\n",
    "\n",
    "对于本题而言，当 needle 是空字符串时我们应当返回 0 。这与 C 语言的 strstr() 以及 Java 的 indexOf() 定义相符。\n",
    "\n",
    "```go\n",
    "package main\n",
    "\n",
    "import \"fmt\"\n",
    "\n",
    "func main() {\n",
    "\thaystack := \"aaa\"\n",
    "\tneedle := \"aaaa\"\n",
    "\tfmt.Print(strStr(haystack, needle))\n",
    "}\n",
    "\n",
    "func strStr(haystack string, needle string) int {\n",
    "\tfor i := 0; i < len(haystack); i++ {\n",
    "\t\t// 临时指针，指向原字符串的比较位置\n",
    "\t\ttmp := i\n",
    "\t\tfor j := 0; j < len(needle); j++ {\n",
    "\t\t\tif haystack[tmp] == needle[j] {\n",
    "\t\t\t\tif j == len(needle)-1 {\n",
    "\t\t\t\t\treturn i\n",
    "\t\t\t\t}\n",
    "\t\t\t\ttmp++\n",
    "\t\t\t\tif tmp == len(haystack) {\n",
    "\t\t\t\t\tbreak\n",
    "\t\t\t\t}\n",
    "\t\t\t\tcontinue\n",
    "\t\t\t}\n",
    "\t\t\tbreak\n",
    "\t\t}\n",
    "\t}\n",
    "\treturn -1\n",
    "}\n",
    "\n",
    "```"
   ]
  },
  {
   "cell_type": "markdown",
   "id": "corresponding-logging",
   "metadata": {},
   "source": [
    "#### 824. 山羊拉丁文\n",
    "给你一个由若干单词组成的句子 sentence ，单词间由空格分隔。每个单词仅由大写和小写英文字母组成。\n",
    "\n",
    "请你将句子转换为 “山羊拉丁文（Goat Latin）”（一种类似于 猪拉丁文 - Pig Latin 的虚构语言）。山羊拉丁文的规则如下：\n",
    "\n",
    "如果单词以元音开头（'a', 'e', 'i', 'o', 'u'），在单词后添加\"ma\"。\n",
    "例如，单词 \"apple\" 变为 \"applema\" 。\n",
    "如果单词以辅音字母开头（即，非元音字母），移除第一个字符并将它放到末尾，之后再添加\"ma\"。\n",
    "例如，单词 \"goat\" 变为 \"oatgma\" 。\n",
    "根据单词在句子中的索引，在单词最后添加与索引相同数量的字母'a'，索引从 1 开始。\n",
    "例如，在第一个单词后添加 \"a\" ，在第二个单词后添加 \"aa\" ，以此类推。\n",
    "返回将 sentence 转换为山羊拉丁文后的句子。"
   ]
  },
  {
   "cell_type": "code",
   "execution_count": 7,
   "id": "measured-precipitation",
   "metadata": {},
   "outputs": [
    {
     "data": {
      "text/plain": [
       "'12312'"
      ]
     },
     "execution_count": 7,
     "metadata": {},
     "output_type": "execute_result"
    }
   ],
   "source": [
    "    def toGoatLatin(self, sentence: str) -> str:\n",
    "        # 首先分割单词\n",
    "        words = sentence.split()\n",
    "        for i in range(len(words)):\n",
    "            if words[i][0] in ['a','e','i','o','u','A','E','I','O','U']:\n",
    "                words[i]+=\"ma\"\n",
    "            else:\n",
    "                words[i]=(words[i][1:]+words[i][0]+\"ma\")\n",
    "            # 添加索引数量的a\n",
    "            words[i]+=\"a\"*(i+1)\n",
    "\n",
    "        return \" \".join(words)\n"
   ]
  },
  {
   "cell_type": "markdown",
   "id": "south-requirement",
   "metadata": {},
   "source": [
    "### 贪心算法"
   ]
  },
  {
   "cell_type": "markdown",
   "id": "tropical-contemporary",
   "metadata": {},
   "source": [
    "#### 455. 分发饼干\n",
    "假设你是一位很棒的家长，想要给你的孩子们一些小饼干。但是，每个孩子最多只能给一块饼干。\n",
    "\n",
    "对每个孩子 i，都有一个胃口值 g[i]，这是能让孩子们满足胃口的饼干的最小尺寸；并且每块饼干 j，都有一个尺寸 s[j] 。如果 s[j] >= g[i]，我们可以将这个饼干 j 分配给孩子 i ，这个孩子会得到满足。你的目标是尽可能满足越多数量的孩子，并输出这个最大数值。\n",
    "```c++\n",
    "class Solution {\n",
    "public:\n",
    "    int findContentChildren(vector<int>& g, vector<int>& s) {\n",
    "        // 对两个数组进行排序\n",
    "        sort(g.begin(), g.end());\n",
    "        sort(s.begin(), s.end());\n",
    "        int human=0,food=0;\n",
    "        while(s.size()>0&&g.size()>0){\n",
    "            // 首先满足最小胃口，一个人只能吃一块饼干\n",
    "            while(food<s.size()&&human<g.size()){\n",
    "                if(g[human]<=s[food]){\n",
    "                    human++;\n",
    "                    food++;\n",
    "                    // 进入到下一轮\n",
    "                    continue;\n",
    "                }\n",
    "                food++;\n",
    "            }\n",
    "            // 若一个周期都没有找到，则直接结束\n",
    "            break;\n",
    "        }\n",
    "        return human;\n",
    "    }\n",
    "};\n",
    "```"
   ]
  },
  {
   "cell_type": "markdown",
   "id": "great-aviation",
   "metadata": {},
   "source": [
    "#### 135. 分发糖果\n",
    "n 个孩子站成一排。给你一个整数数组 ratings 表示每个孩子的评分。\n",
    "\n",
    "你需要按照以下要求，给这些孩子分发糖果：\n",
    "\n",
    "每个孩子至少分配到 1 个糖果。\n",
    "相邻两个孩子评分更高的孩子会获得更多的糖果。\n",
    "请你给每个孩子分发糖果，计算并返回需要准备的 最少糖果数目 。"
   ]
  },
  {
   "cell_type": "markdown",
   "id": "unlimited-calendar",
   "metadata": {},
   "source": [
    "自己写的，超出时间限制\n",
    "```c++\n",
    "class Solution {\n",
    "public:\n",
    "    int candy( vector<int>& ratings) {\n",
    "        // [7,8,9,1,3,4,1]  1,2,3,1,2,3,1\n",
    "        // 5，3，7，3\n",
    "        // 最小值一定是1，确定最小值min后将其分为左右区间，左区间的右边与min的关系清楚，以此求解左区间(找左区间最小值)\n",
    "        // 左，右区间边界大于某值确定且为该区间最小值，即可确定左区间值\n",
    "        // 若相邻节点的值相等，则不需要在意那一边的边界条件（1）\n",
    "        const int s = ratings.size();\n",
    "        vector<int> candies(s,0);\n",
    "        calzone(0,s-1,1,1,candies,ratings);\n",
    "        int nums = 0;\n",
    "        for(auto el:candies){\n",
    "            nums+=el;\n",
    "        }\n",
    "        return nums;\n",
    "    }\n",
    "    void calzone(int l,int r,int lv,int rv,vector<int>& candies,vector<int>& ratings){\n",
    "        // 退出条件\n",
    "        if(l>r||r>ratings.size()-1){\n",
    "            return;\n",
    "        }\n",
    "        // 判断是否只有一个点，若是则只需要赋值给左右最大的值即可\n",
    "        if(l==r){\n",
    "            candies[l] = max(lv,rv);\n",
    "            return;\n",
    "        }\n",
    "        // 找到最小值\n",
    "        int minIndex=l;\n",
    "        for(int i=0;i<r-l+1;i++){\n",
    "            if(ratings[i+l]<ratings[minIndex]){\n",
    "                minIndex = i+l;\n",
    "            }\n",
    "        }\n",
    "        // 判断是否为左右边界，若是则根据边界条件赋值\n",
    "        if(minIndex==l){\n",
    "            candies[l]=lv;\n",
    "            // 继续下一个区间计算\n",
    "            // 若下个值评分与当前值相等，则不需要+1\n",
    "            if(ratings[l]==ratings[l+1]){\n",
    "                calzone(l+1,r,1,rv,candies,ratings);\n",
    "            }\n",
    "            else{\n",
    "                calzone(l+1,r,lv+1,rv,candies,ratings);\n",
    "            }\n",
    "            return;\n",
    "        }\n",
    "        if(minIndex==r){\n",
    "            candies[r]=rv;\n",
    "            // 继续下一个区间计算\n",
    "            if(ratings[r]==ratings[r-1]){\n",
    "                calzone(l,r-1,lv,1,candies,ratings);\n",
    "            }\n",
    "            else{\n",
    "                calzone(l,r-1,lv,rv+1,candies,ratings);\n",
    "            }\n",
    "            return;\n",
    "        }\n",
    "        // 若处于区间中，则将其赋值为1并计算其左右两个区间\n",
    "        candies[minIndex] = 1;\n",
    "        // 左区间\n",
    "        if(ratings[minIndex-1]==ratings[minIndex]){\n",
    "            calzone(l,minIndex-1,lv,1,candies,ratings);\n",
    "        }\n",
    "        else{\n",
    "            calzone(l,minIndex-1,lv,2,candies,ratings);\n",
    "        }\n",
    "        // 右区间\n",
    "        if(ratings[minIndex+1]==ratings[minIndex]){\n",
    "            calzone(minIndex+1,r,1,rv,candies,ratings);\n",
    "        }\n",
    "        else{\n",
    "            calzone(minIndex+1,r,2,rv,candies,ratings);\n",
    "        }\n",
    "    }\n",
    "};\n",
    "```"
   ]
  },
  {
   "cell_type": "markdown",
   "id": "characteristic-reproduction",
   "metadata": {},
   "source": [
    "书上代码：\n",
    "```c++\n",
    "class Solution {\n",
    "public:\n",
    "    int candy(vector<int>& ratings) {\n",
    "        int size = ratings.size();\n",
    "        if (size < 2) {\n",
    "            return size;\n",
    "        }\n",
    "        vector<int> num(size, 1);\n",
    "        for (int i = 1; i < size; ++i) {\n",
    "            if (ratings[i] > ratings[i-1]) {\n",
    "                num[i] = num[i-1] + 1;\n",
    "            }\n",
    "        }\n",
    "        for (int i = size - 1; i > 0; --i) {\n",
    "            if (ratings[i] < ratings[i-1]) {\n",
    "                num[i-1] = max(num[i-1], num[i] + 1);\n",
    "            }\n",
    "        }\n",
    "        return accumulate(num.begin(), num.end(), 0); // std::accumulate 可以很方便地求和\n",
    "    }\n",
    "};\n",
    "```"
   ]
  },
  {
   "cell_type": "markdown",
   "id": "needed-puzzle",
   "metadata": {},
   "source": [
    "### 排序"
   ]
  },
  {
   "cell_type": "markdown",
   "id": "opponent-limitation",
   "metadata": {},
   "source": [
    "#### 347. 前 K 个高频元素\n",
    "给你一个整数数组 nums 和一个整数 k ，请你返回其中出现频率前 k 高的元素。你可以按 任意顺序 返回答案。\n",
    "```c++\n",
    "class Solution {\n",
    "public:\n",
    "    vector<int> topKFrequent(vector<int>& nums, int k) {\n",
    "        unordered_map<int,int> m;\n",
    "        for(auto el:nums){\n",
    "            m[el]+=1;\n",
    "        }\n",
    "        int max=0,min=0,count=0;\n",
    "        vector<int> v;\n",
    "        // 循环k次，每次找最大值即可\n",
    "        for(int i=0;i<k;i++){\n",
    "            int temp_max=0;\n",
    "            int temp=0;\n",
    "            for(auto el:m){\n",
    "                if(el.second>temp_max){\n",
    "                    temp_max = el.second;\n",
    "                    temp = el.first;\n",
    "                }\n",
    "            }\n",
    "            v.push_back(temp);\n",
    "            // 将已经最大的设置为0\n",
    "            m[temp]=0;\n",
    "        }\n",
    "        return v;\n",
    "    }\n",
    "};\n",
    "```"
   ]
  },
  {
   "cell_type": "markdown",
   "id": "bronze-factor",
   "metadata": {},
   "source": [
    "### 位运算"
   ]
  },
  {
   "cell_type": "code",
   "execution_count": 8,
   "id": "saving-bumper",
   "metadata": {},
   "outputs": [
    {
     "data": {
      "text/plain": [
       "44"
      ]
     },
     "execution_count": 8,
     "metadata": {},
     "output_type": "execute_result"
    }
   ],
   "source": [
    "12^32"
   ]
  },
  {
   "attachments": {
    "image.png": {
     "image/png": "[encoded data removed]"
    }
   },
   "cell_type": "markdown",
   "id": "prescription-animation",
   "metadata": {},
   "source": [
    "![image.png](attachment:image.png)"
   ]
  },
  {
   "cell_type": "markdown",
   "id": "northern-brush",
   "metadata": {},
   "source": [
    "#### 136. 只出现一次的数字\n",
    "给定一个非空整数数组，除了某个元素只出现一次以外，其余每个元素均出现两次。找出那个只出现了一次的元素。\n",
    "\n",
    "说明：\n",
    "\n",
    "你的算法应该具有线性时间复杂度。 你可以不使用额外空间来实现吗"
   ]
  },
  {
   "cell_type": "markdown",
   "id": "refined-argument",
   "metadata": {},
   "source": [
    "使用异或运算 $\\oplus⊕$。异或运算有以下三个性质。\n",
    "\n",
    "1. 任何数和 00 做异或运算，结果仍然是原来的数，即 $a \\oplus 0=aa⊕0=a$。\n",
    "1. 任何数和其自身做异或运算，结果是 00，即 $a \\oplus a=0a⊕a=0$。\n",
    "1. 异或运算满足交换律和结合律，即$a \\oplus b \\oplus a=b \\oplus a \\oplus a=b \\oplus (a \\oplus a)=b \\oplus0=ba⊕b⊕a=b⊕a⊕a=b⊕(a⊕a)=b⊕0=b$。\n",
    "\n",
    "```go\n",
    "\n",
    "func singleNumber(nums []int) int {\n",
    "    single := 0\n",
    "    for _, num := range nums {\n",
    "        single ^= num\n",
    "    }\n",
    "    return single\n",
    "}\n",
    "```\n"
   ]
  },
  {
   "cell_type": "markdown",
   "id": "living-freight",
   "metadata": {},
   "source": [
    "#### 461. 汉明距离\n",
    "两个整数之间的 汉明距离 指的是这两个数字对应二进制位不同的位置的数目。\n",
    "\n",
    "给你两个整数 x 和 y，计算并返回它们之间的汉明距离。"
   ]
  },
  {
   "cell_type": "markdown",
   "id": "coral-louisville",
   "metadata": {},
   "source": [
    "思路：x和y进行异或操作，遍历操作后的二进制结果有多少个1"
   ]
  },
  {
   "cell_type": "code",
   "execution_count": 16,
   "id": "lightweight-vermont",
   "metadata": {},
   "outputs": [],
   "source": [
    "def hammingDistance(x: int, y: int) -> int:\n",
    "    temp = y^x\n",
    "    ret = 0\n",
    "    while(temp):\n",
    "        ret += temp & 1  # 只将最后一位与1比对，也就是二进制表示下最右边的一位，同样也是十进制转二进制时的余数\n",
    "        temp = temp >>1\n",
    "    return ret"
   ]
  },
  {
   "cell_type": "code",
   "execution_count": 12,
   "id": "numerical-comparison",
   "metadata": {},
   "outputs": [
    {
     "data": {
      "text/plain": [
       "2"
      ]
     },
     "execution_count": 12,
     "metadata": {},
     "output_type": "execute_result"
    }
   ],
   "source": [
    "hammingDistance(1,4)"
   ]
  },
  {
   "cell_type": "markdown",
   "id": "thousand-passenger",
   "metadata": {},
   "source": [
    "#### 190. 颠倒二进制位\n",
    "颠倒给定的 32 位无符号整数的二进制位。返回十进制数。"
   ]
  },
  {
   "cell_type": "markdown",
   "id": "representative-array",
   "metadata": {},
   "source": [
    "思路：一开始是放在左边的，现在直接放在右边即可"
   ]
  },
  {
   "cell_type": "code",
   "execution_count": 22,
   "id": "magnetic-imagination",
   "metadata": {},
   "outputs": [],
   "source": [
    "def reverseBits(n: int) -> int:\n",
    "    temp = 0\n",
    "    ret = 0\n",
    "    num_weishu = 32\n",
    "    while(n):\n",
    "        num_weishu -=1\n",
    "        temp = n&1\n",
    "        ret = 2**num_weishu+ret if temp ==1 else ret\n",
    "        n=n>>1\n",
    "    return ret"
   ]
  },
  {
   "cell_type": "code",
   "execution_count": 23,
   "id": "dependent-debate",
   "metadata": {},
   "outputs": [
    {
     "data": {
      "text/plain": [
       "43261596"
      ]
     },
     "execution_count": 23,
     "metadata": {},
     "output_type": "execute_result"
    }
   ],
   "source": [
    "reverseBits(964176192)"
   ]
  },
  {
   "cell_type": "markdown",
   "id": "linear-desert",
   "metadata": {},
   "source": [
    "#### 342. 4的幂\n",
    "给定一个整数，写一个函数来判断它是否是 4 的幂次方。如果是，返回 true ；否则，返回 false 。\n",
    "\n",
    "整数 n 是 4 的幂次方需满足：存在整数 x 使得 n == 4"
   ]
  },
  {
   "cell_type": "markdown",
   "id": "seasonal-threat",
   "metadata": {},
   "source": [
    "思路：\n",
    "1. 是2的次方：只有一个1\n",
    "2. 是4的次方：1右边有偶数个0"
   ]
  },
  {
   "cell_type": "code",
   "execution_count": 41,
   "id": "everyday-hudson",
   "metadata": {},
   "outputs": [],
   "source": [
    "def isPowerOfFour(n: int) -> bool:\n",
    "    if n ==0:\n",
    "        return False\n",
    "    num_one = 0\n",
    "    num_zero = 0\n",
    "    while n:\n",
    "        if n&1:\n",
    "            num_one+=1\n",
    "        else:\n",
    "            num_zero+=1\n",
    "        n = n>>1\n",
    "        if num_one > 1:\n",
    "            return False\n",
    "    if num_zero/2 == int(num_zero/2):\n",
    "        return True\n",
    "    return False"
   ]
  },
  {
   "cell_type": "code",
   "execution_count": 40,
   "id": "municipal-implement",
   "metadata": {},
   "outputs": [
    {
     "data": {
      "text/plain": [
       "False"
      ]
     },
     "execution_count": 40,
     "metadata": {},
     "output_type": "execute_result"
    }
   ],
   "source": [
    "isPowerOfFour(2)"
   ]
  },
  {
   "cell_type": "markdown",
   "id": "roman-swiss",
   "metadata": {},
   "source": [
    "#### 318. 最大单词长度乘积\n",
    "给你一个字符串数组 words ，找出并返回 length(words[i]) * length(words[j]) 的最大值，并且这两个单词不含有公共字母。如果不存在这样的两个单词，返回 0 。"
   ]
  },
  {
   "cell_type": "code",
   "execution_count": 19,
   "id": "chinese-effort",
   "metadata": {},
   "outputs": [
    {
     "data": {
      "text/plain": [
       "[0, 1, 2, 3, 4, 5, 6, 7, 8, 9]"
      ]
     },
     "execution_count": 19,
     "metadata": {},
     "output_type": "execute_result"
    }
   ],
   "source": [
    "list(range(0,10))"
   ]
  },
  {
   "cell_type": "code",
   "execution_count": 26,
   "id": "constant-corporation",
   "metadata": {},
   "outputs": [],
   "source": [
    "def maxProduct(words) -> int:\n",
    "    max_length = 0\n",
    "    # 遍历到倒数第二个数即可\n",
    "    for i in range(0,len(words)-1):\n",
    "        # 使用set的原因是可能自身有重复值\n",
    "        len_i = len(set(words[i]))\n",
    "        # 遍历从这个点之后的最大值\n",
    "        for j in range(i+1,len(words)):\n",
    "            print(f\"{words[i]},{words[j]}\")\n",
    "            len_j = len(set(words[j]))\n",
    "            # 不含公共字母才计算最大长度\n",
    "            if len_i +len_j == len(set(words[i]+words[j])):\n",
    "                max_length = max(max_length,len(words[i])*len(words[j]))\n",
    "    return max_length"
   ]
  },
  {
   "cell_type": "code",
   "execution_count": 27,
   "id": "auburn-princeton",
   "metadata": {},
   "outputs": [
    {
     "name": "stdout",
     "output_type": "stream",
     "text": [
      "fcf,ce\n",
      "fcf,cefde\n",
      "fcf,dabae\n",
      "ce,cefde\n",
      "ce,dabae\n",
      "cefde,dabae\n"
     ]
    },
    {
     "data": {
      "text/plain": [
       "15"
      ]
     },
     "execution_count": 27,
     "metadata": {},
     "output_type": "execute_result"
    }
   ],
   "source": [
    "maxProduct([\"fcf\",\"ce\",\"cefde\",\"dabae\"])"
   ]
  },
  {
   "cell_type": "markdown",
   "id": "basic-medicaid",
   "metadata": {},
   "source": [
    "#### 338. 比特位计数\n",
    "给你一个整数 n ，对于 0 <= i <= n 中的每个 i ，计算其二进制表示中 1 的个数 ，返回一个长度为 n + 1 的数组 ans 作为答案。"
   ]
  },
  {
   "cell_type": "code",
   "execution_count": 33,
   "id": "comparative-homework",
   "metadata": {},
   "outputs": [
    {
     "data": {
      "text/plain": [
       "[0, 1, 1, 2, 1, 2, 2, 3, 1, 2, 2]"
      ]
     },
     "execution_count": 33,
     "metadata": {},
     "output_type": "execute_result"
    }
   ],
   "source": [
    "# 动态规划\n",
    "def countBits(n: int):\n",
    "    dp = (n+1)*[0]\n",
    "    for i in range(1,n+1):\n",
    "        # 最后一位若是0则与位运算右移一位相同，若是1则是上一个的+1\n",
    "        dp[i] = dp[i>>1] if i&1==0 else dp[i-1]+1\n",
    "    return dp\n",
    "countBits(10)"
   ]
  },
  {
   "cell_type": "code",
   "execution_count": 32,
   "id": "iraqi-psychiatry",
   "metadata": {},
   "outputs": [
    {
     "data": {
      "text/plain": [
       "[0, 0, 0, 0, 0]"
      ]
     },
     "execution_count": 32,
     "metadata": {},
     "output_type": "execute_result"
    }
   ],
   "source": [
    "5*[0]"
   ]
  },
  {
   "cell_type": "markdown",
   "id": "outside-forty",
   "metadata": {},
   "source": [
    "### 二分查找"
   ]
  },
  {
   "cell_type": "markdown",
   "id": "departmental-adult",
   "metadata": {},
   "source": [
    "#### 34. 在排序数组中查找元素的第一个和最后一个位置\n",
    "给定一个按照升序排列的整数数组 nums，和一个目标值 target。找出给定目标值在数组中的开始位置和结束位置。\n",
    "\n",
    "如果数组中不存在目标值 target，返回 [-1, -1]"
   ]
  },
  {
   "cell_type": "markdown",
   "id": "established-queensland",
   "metadata": {},
   "source": [
    "思路：从上下两个区间分别找即可，因为是递增数组所以有第三个条件满足时再判断左边（右）是否也是目标\n",
    "```go\n",
    "package main\n",
    "\n",
    "import (\n",
    "\t\"fmt\"\n",
    ")\n",
    "\n",
    "func main() {\n",
    "\t//fmt.Print(searchRange([]int{5, 7, 7, 8, 8, 10}, 8))\n",
    "\tfmt.Println(findhigh([]int{2, 2}, 2))\n",
    "}\n",
    "\n",
    "func searchRange(nums []int, target int) []int {\n",
    "\tif len(nums) == 0 {\n",
    "\t\treturn []int{-1, -1}\n",
    "\t}\n",
    "\treturn []int{findlow(nums, target), findhigh(nums, target)}\n",
    "}\n",
    "\n",
    "func findlow(nums []int, target int) int {\n",
    "\tl := 0\n",
    "\tr := len(nums) - 1\n",
    "\tfor l <= r {\n",
    "\t\tmid := (l + r) >> 1\n",
    "\n",
    "\t\tif nums[mid] < target {\n",
    "\t\t\tl = mid + 1\n",
    "\t\t} else if nums[mid] > target {\n",
    "\t\t\tr = mid - 1\n",
    "\t\t} else if mid == 0 || nums[mid-1] != target {\n",
    "\t\t\treturn mid\n",
    "\t\t} else {\n",
    "\t\t\tr = mid - 1\n",
    "\t\t}\n",
    "\n",
    "\t}\n",
    "\treturn -1\n",
    "}\n",
    "\n",
    "func findhigh(nums []int, target int) int {\n",
    "\tl := 0\n",
    "\tr := len(nums) - 1\n",
    "\tfor l <= r {\n",
    "\t\tmid := (l + r) >> 1\n",
    "\n",
    "\t\tif nums[mid] < target {\n",
    "\t\t\tl = mid + 1\n",
    "\t\t} else if nums[mid] > target {\n",
    "\t\t\tr = mid - 1\n",
    "\t\t} else if mid == len(nums)-1 || nums[mid+1] != target {\n",
    "\t\t\treturn mid\n",
    "\t\t} else {\n",
    "\t\t\tl = mid + 1\n",
    "\t\t}\n",
    "\n",
    "\t}\n",
    "\treturn -1\n",
    "}\n",
    "\n",
    "```"
   ]
  },
  {
   "cell_type": "markdown",
   "id": "comparable-screen",
   "metadata": {},
   "source": [
    "### 动态规划"
   ]
  },
  {
   "cell_type": "markdown",
   "id": "altered-airline",
   "metadata": {},
   "source": [
    "#### 22. 括号生成"
   ]
  },
  {
   "cell_type": "markdown",
   "id": "limited-collins",
   "metadata": {},
   "source": [
    "首先写一个栈检查器，然后遍历，若符合则存入该结构，在遍历之前首先检查结构中有无此类结构，若有则删除"
   ]
  },
  {
   "cell_type": "code",
   "execution_count": 6,
   "id": "proprietary-carry",
   "metadata": {},
   "outputs": [],
   "source": [
    "def brace_checker(braces):\n",
    "    num = 0\n",
    "    for i in braces:\n",
    "        if i == '(':\n",
    "            num+=1\n",
    "        else:\n",
    "            if num !=0:\n",
    "                num -=1\n",
    "            else:\n",
    "                return '错误'\n",
    "    if num !=0:\n",
    "        return '错误'\n",
    "    return '正确'"
   ]
  },
  {
   "cell_type": "code",
   "execution_count": 11,
   "id": "descending-morris",
   "metadata": {},
   "outputs": [
    {
     "data": {
      "text/plain": [
       "'错误'"
      ]
     },
     "execution_count": 11,
     "metadata": {},
     "output_type": "execute_result"
    }
   ],
   "source": [
    "brace_checker('()())')"
   ]
  },
  {
   "cell_type": "markdown",
   "id": "enhanced-happening",
   "metadata": {},
   "source": [
    "从左边添加(，左边的括号一定是(，因此剩下的n-1可以看做p+q=n-1，即'( + p + ) + q'\n",
    "\n",
    "因此遍历p即可"
   ]
  },
  {
   "cell_type": "code",
   "execution_count": 16,
   "id": "green-batman",
   "metadata": {},
   "outputs": [
    {
     "data": {
      "text/plain": [
       "[[None],\n",
       " ['()'],\n",
       " ['()()', '(())'],\n",
       " ['()()()', '()(())', '(())()', '(()())', '((()))'],\n",
       " ['()()()()',\n",
       "  '()()(())',\n",
       "  '()(())()',\n",
       "  '()(()())',\n",
       "  '()((()))',\n",
       "  '(())()()',\n",
       "  '(())(())',\n",
       "  '(()())()',\n",
       "  '((()))()',\n",
       "  '(()()())',\n",
       "  '(()(()))',\n",
       "  '((())())',\n",
       "  '((()()))',\n",
       "  '(((())))']]"
      ]
     },
     "execution_count": 16,
     "metadata": {},
     "output_type": "execute_result"
    }
   ],
   "source": [
    "n=4\n",
    "\n",
    "total_l = []\n",
    "total_l.append([None])    # 0组括号时记为None\n",
    "total_l.append([\"()\"])    # 1组括号只有一种情况\n",
    "\n",
    "for i in range(2,n+1):\n",
    "    # 当前数量的可用括号\n",
    "    cur_list = []\n",
    "     # 从0到n-1遍历所有可能的结构，p的个数是j，q的个数是n-1-j\n",
    "    for j in range(i):  # 能取到i-1\n",
    "        # 两个循环检查所有p和q\n",
    "        for p in total_l[j]:\n",
    "            for q in total_l[i-1-j]:\n",
    "                if p == None:\n",
    "                    p = ''\n",
    "                if q == None:\n",
    "                    q  = ''\n",
    "                cur_list.append('('+p+')'+q)\n",
    "    total_l.append(cur_list)\n",
    "total_l"
   ]
  },
  {
   "cell_type": "code",
   "execution_count": null,
   "id": "wanted-blind",
   "metadata": {},
   "outputs": [],
   "source": [
    "class Solution:\n",
    "    def generateParenthesis(self, n: int) -> List[str]:\n",
    "        if n == 0:\n",
    "            return []\n",
    "        total_l = []\n",
    "        total_l.append([None])    # 0组括号时记为None\n",
    "        total_l.append([\"()\"])    # 1组括号只有一种情况\n",
    "        for i in range(2,n+1):    # 开始计算i组括号时的括号组合\n",
    "            l = []        \n",
    "            for j in range(i):    # 开始遍历 p q ，其中p+q=i-1 , j 作为索引\n",
    "                now_list1 = total_l[j]    # p = j 时的括号组合情况\n",
    "                now_list2 = total_l[i-1-j]    # q = (i-1) - j 时的括号组合情况\n",
    "                for k1 in now_list1:  \n",
    "                    for k2 in now_list2:\n",
    "                        if k1 == None:\n",
    "                            k1 = \"\"\n",
    "                        if k2 == None:\n",
    "                            k2 = \"\"\n",
    "                        el = \"(\" + k1 + \")\" + k2\n",
    "                        l.append(el)    # 把所有可能的情况添加到 l 中\n",
    "            total_l.append(l)    # l这个list就是i组括号的所有情况，添加到total_l中，继续求解i=i+1的情况\n",
    "        return total_l[n]"
   ]
  },
  {
   "cell_type": "markdown",
   "id": "early-serbia",
   "metadata": {},
   "source": [
    "#### 最大递增子序列（不需要连续）"
   ]
  },
  {
   "cell_type": "markdown",
   "id": "driving-education",
   "metadata": {},
   "source": [
    "递归方式"
   ]
  },
  {
   "cell_type": "code",
   "execution_count": 44,
   "id": "moral-tomorrow",
   "metadata": {},
   "outputs": [
    {
     "data": {
      "text/plain": [
       "6"
      ]
     },
     "execution_count": 44,
     "metadata": {},
     "output_type": "execute_result"
    }
   ],
   "source": [
    "nums = [1,5,2,21,4,32,231,12,21,2112]\n",
    "memo = {}\n",
    "# 返回nums数组中从i开始最大递增子序列\n",
    "def max_incre(i,nums):\n",
    "    if i in memo:\n",
    "        return memo[i]\n",
    "    max_len = 1\n",
    "    # 若只有一个数，则返回1\n",
    "    if i == len(nums)-1:\n",
    "        memo[i]=1\n",
    "        return 1\n",
    "    for j in range(i,len(nums)):\n",
    "        if nums[i]<nums[j]:\n",
    "            max_len = max(max_len,1+max_incre(j,nums))\n",
    "    memo[i]=max_len\n",
    "    return max_len\n",
    "max_incre(0,nums)"
   ]
  },
  {
   "attachments": {
    "image.png": {
     "image/png": "[encoded data removed]"
    }
   },
   "cell_type": "markdown",
   "id": "charming-exhibition",
   "metadata": {},
   "source": [
    "非递归方式（开销更小）\n",
    "![image.png](attachment:image.png)"
   ]
  },
  {
   "cell_type": "code",
   "execution_count": 49,
   "id": "tribal-defensive",
   "metadata": {},
   "outputs": [
    {
     "name": "stdout",
     "output_type": "stream",
     "text": [
      "[6, 5, 5, 4, 4, 3, 2, 3, 2, 1]\n"
     ]
    }
   ],
   "source": [
    "nums = [1,5,2,21,4,32,231,12,21,2112]\n",
    "# 储存每个位置出发最大的递增子序列长度\n",
    "L = [1]*len(nums)\n",
    "# 返回nums数组中从i开始最大递增子序列\n",
    "def max_incre(nums):\n",
    "    # 从最右开始计算L(i)=max(L(i+2),L(i+3))+1\n",
    "    for i in reversed(range(0,len(nums))):\n",
    "        max_len = 1\n",
    "        # 循环与之后的数进行对比\n",
    "        for j in range(i+1,len(nums)):\n",
    "            if nums[i]<nums[j]:\n",
    "                max_len = max(max_len,L[j]+1)\n",
    "        L[i] = max_len\n",
    "    print(L)\n",
    "max_incre(nums)"
   ]
  },
  {
   "cell_type": "markdown",
   "id": "continent-danger",
   "metadata": {},
   "source": [
    "#### 70. 爬楼梯\n",
    "假设你正在爬楼梯。需要 n 阶你才能到达楼顶。\n",
    "每次你可以爬 1 或 2 个台阶。你有多少种不同的方法可以爬到楼顶呢？"
   ]
  },
  {
   "cell_type": "markdown",
   "id": "referenced-cylinder",
   "metadata": {},
   "source": [
    "直觉思路：下一个阶段与当前阶段可分为1和n-1阶或2和n-2阶，录入之前的有效阶数，循环查找即可"
   ]
  },
  {
   "cell_type": "code",
   "execution_count": 21,
   "id": "marine-graphics",
   "metadata": {},
   "outputs": [
    {
     "data": {
      "text/plain": [
       "[0, 1, 1, 2, 3, 5, 8, 13, 21, 34, 55]"
      ]
     },
     "execution_count": 21,
     "metadata": {},
     "output_type": "execute_result"
    }
   ],
   "source": [
    "def climb(n):\n",
    "    mem = [0,1,1]  # 0层无，1层只有一种，2层有两种\n",
    "    # 遍历mem数组3到n-1的下标\n",
    "    for i in range(3,n+1):\n",
    "        num = 0\n",
    "        # 次数等于两种情况之和，即i-1和i-2时情况之和\n",
    "        mem.append(mem[i-1]+mem[i-2])\n",
    "    return mem\n",
    "climb(10)"
   ]
  },
  {
   "cell_type": "markdown",
   "id": "funky-agenda",
   "metadata": {},
   "source": [
    "#### 118. 杨辉三角\n",
    "给定一个非负整数 numRows，生成「杨辉三角」的前 numRows 行。\n",
    "\n",
    "在「杨辉三角」中，每个数是它左上方和右上方的数的和。"
   ]
  },
  {
   "cell_type": "markdown",
   "id": "labeled-privacy",
   "metadata": {},
   "source": [
    "直觉思路：当前数组下标的数是上一个数组的下标数+下标数-1"
   ]
  },
  {
   "cell_type": "code",
   "execution_count": 19,
   "id": "adequate-diploma",
   "metadata": {},
   "outputs": [
    {
     "data": {
      "text/plain": [
       "[[None],\n",
       " [1],\n",
       " [1, 1],\n",
       " [1, 2, 1],\n",
       " [1, 3, 3, 1],\n",
       " [1, 4, 6, 4, 1],\n",
       " [1, 5, 10, 10, 5, 1],\n",
       " [1, 6, 15, 20, 15, 6, 1],\n",
       " [1, 7, 21, 35, 35, 21, 7, 1],\n",
       " [1, 8, 28, 56, 70, 56, 28, 8, 1],\n",
       " [1, 9, 36, 84, 126, 126, 84, 36, 9, 1]]"
      ]
     },
     "execution_count": 19,
     "metadata": {},
     "output_type": "execute_result"
    }
   ],
   "source": [
    "def trian(n):\n",
    "    mem = [[None],[1]]\n",
    "    # 从第二行开始遍历\n",
    "    for i in range(2,n+1):\n",
    "        temp = []\n",
    "        # 遍历这一行的中间元素\n",
    "        for j in range(1,i-1):\n",
    "            temp.append(mem[i-1][j]+mem[i-1][j-1])\n",
    "        # 最后添加最左右两边的元素（也就是1）\n",
    "        temp.append(1)\n",
    "        temp.insert(0,1)\n",
    "        mem.append(temp)\n",
    "    return mem\n",
    "trian(10)"
   ]
  },
  {
   "cell_type": "markdown",
   "id": "underlying-greensboro",
   "metadata": {},
   "source": [
    "#### 1137. 第 N 个泰波那契数\n",
    "泰波那契序列 Tn 定义如下： \n",
    "\n",
    "T0 = 0, T1 = 1, T2 = 1, 且在 n >= 0 的条件下 Tn+3 = Tn + Tn+1 + Tn+2\n",
    "\n",
    "给你整数 n，请返回第 n 个泰波那契数 Tn 的值。\n"
   ]
  },
  {
   "cell_type": "code",
   "execution_count": 22,
   "id": "alleged-hughes",
   "metadata": {},
   "outputs": [
    {
     "data": {
      "text/plain": [
       "[0, 1, 1, 2, 4, 7, 13, 24, 44, 81, 149]"
      ]
     },
     "execution_count": 22,
     "metadata": {},
     "output_type": "execute_result"
    }
   ],
   "source": [
    "def taibo(n):\n",
    "    mem = [0,1,1]  # 0层无，1层只有一种，2层有两种\n",
    "    # 遍历mem数组3到n-1的下标\n",
    "    for i in range(3,n+1):\n",
    "        num = 0\n",
    "        # 次数等于两种情况之和，即i-1和i-2时情况之和\n",
    "        mem.append(mem[i-1]+mem[i-2]+mem[i-3])\n",
    "    return mem\n",
    "taibo(10)"
   ]
  },
  {
   "cell_type": "markdown",
   "id": "played-transition",
   "metadata": {},
   "source": [
    "#### 746. 使用最小花费爬楼梯\n",
    "给你一个整数数组 cost ，其中 cost[i] 是从楼梯第 i 个台阶向上爬需要支付的费用。一旦你支付此费用，即可选择向上爬一个或者两个台阶。\n",
    "\n",
    "你可以选择从下标为 0 或下标为 1 的台阶开始爬楼梯。\n",
    "\n",
    "请你计算并返回达到楼梯顶部的最低花费。"
   ]
  },
  {
   "cell_type": "markdown",
   "id": "second-removal",
   "metadata": {},
   "source": [
    "直觉思路： 第n步时，只能选择从2+（n-2）和1+（n-1）里选择最小值并保存即可"
   ]
  },
  {
   "cell_type": "code",
   "execution_count": 28,
   "id": "reflected-hearts",
   "metadata": {},
   "outputs": [
    {
     "data": {
      "text/plain": [
       "[0, 0, 10, 15]"
      ]
     },
     "execution_count": 28,
     "metadata": {},
     "output_type": "execute_result"
    }
   ],
   "source": [
    "def climb(cost):\n",
    "    # 层数\n",
    "    n = len(cost)\n",
    "    mem = [0,0]   # 前两层不需要花钱\n",
    "    # 遍历cost数组2到n-1的下标 \n",
    "    for i in range(2,n+1):   # 这里n+1是因为要到顶部（最后一级台阶不算顶部）\n",
    "        num = 0\n",
    "        # 花费等于之前层跳到当前层花费+到之前层的花费\n",
    "        mem.append(min(cost[i-1]+mem[i-1],cost[i-2]+mem[i-2]))\n",
    "    return mem\n",
    "climb([10,15,20])"
   ]
  },
  {
   "cell_type": "markdown",
   "id": "understood-determination",
   "metadata": {},
   "source": [
    "#### !!!53. 最大子数组和"
   ]
  },
  {
   "cell_type": "markdown",
   "id": "dea646f5",
   "metadata": {},
   "source": [
    "网友答案解析：\n",
    "+ pre的最大函数隐含了一个规则：若num[i]<=0，则另起炉灶选择num[i]\n",
    "+ 另一个问题是，若之前的数组比当前的数大，但是这个数以及以后的数加起来更大，会怎样？\n",
    "+ 表示以 nums[i] 结尾 的 连续 子数组的最大和\n",
    "+ 解决问题的方法就是遍历所有数结尾的最大和，且在过程中保存最大值"
   ]
  },
  {
   "cell_type": "code",
   "execution_count": 2,
   "id": "b8824ebd",
   "metadata": {},
   "outputs": [
    {
     "name": "stdout",
     "output_type": "stream",
     "text": [
      "nums[i]为2，pre为0\n",
      "结果为2\n",
      "nums[i]为1，pre为2\n",
      "结果为3\n",
      "nums[i]为-1，pre为3\n",
      "结果为2\n",
      "nums[i]为1，pre为2\n",
      "结果为3\n",
      "nums[i]为-1，pre为3\n",
      "结果为2\n",
      "nums[i]为3，pre为2\n",
      "结果为5\n",
      "nums[i]为1，pre为5\n",
      "结果为6\n",
      "nums[i]为-5，pre为6\n",
      "结果为1\n",
      "nums[i]为4，pre为1\n",
      "结果为5\n"
     ]
    },
    {
     "data": {
      "text/plain": [
       "6"
      ]
     },
     "execution_count": 2,
     "metadata": {},
     "output_type": "execute_result"
    }
   ],
   "source": [
    "nums = [-2,1,-3,1,-1,2,1,-5,4]\n",
    "def maxSubArray(nums) -> int:\n",
    "    size = len(nums)\n",
    "    pre = 0\n",
    "    res = nums[0]\n",
    "    for i in range(size):\n",
    "        print(f'nums[i]为{nums[i]}，pre为{pre}')\n",
    "        pre = max(nums[i], pre + nums[i])\n",
    "        print(f'结果为{pre}')\n",
    "        res = max(res, pre)\n",
    "    return res\n",
    "maxSubArray( [2,1,-1,1,-1,3,1,-5,4])"
   ]
  },
  {
   "cell_type": "markdown",
   "id": "64f42934",
   "metadata": {},
   "source": [
    "分治法\n",
    "对于一个区间 [l,r][l,r]，我们可以维护四个量：\n",
    "\n",
    "$\\textit{lSum}$ 表示 [l,r] 内以 l为左端点的最大子段和 <br>\n",
    "$\\textit{rSum}$ 表示 [l,r] 内以 r 为右端点的最大子段和<br>\n",
    "$\\textit{mSum}$ 表示 [l,r]内的最大子段和<br>\n",
    "$\\textit{iSum}$ 表示 [l,r] 的区间和<br>\n"
   ]
  },
  {
   "cell_type": "markdown",
   "id": "236f2f10",
   "metadata": {},
   "source": [
    "```javascript\n",
    "function Status(l, r, m, i) {\n",
    "    this.lSum = l;\n",
    "    this.rSum = r;\n",
    "    this.mSum = m;\n",
    "    this.iSum = i;\n",
    "}\n",
    "\n",
    "const pushUp = (l, r) => {\n",
    "    const iSum = l.iSum + r.iSum;      //区间和等于两个区间相加\n",
    "    const lSum = Math.max(l.lSum, l.iSum + r.lSum);      //最大字段和因为是从左开始的，因此求最大即可\n",
    "    const rSum = Math.max(r.rSum, r.iSum + l.rSum);\n",
    "    //最大字段和要么是左，右，要么是左右中间（即左区间的右端点最大和+左...右端点最大和）\n",
    "    const mSum = Math.max(Math.max(l.mSum, r.mSum), l.rSum + r.lSum);\n",
    "    return new Status(lSum, rSum, mSum, iSum);\n",
    "}\n",
    "\n",
    "const getInfo = (a, l, r) => {\n",
    "    if (l === r) {   //若区间只有一个点，则返回这个点\n",
    "        return new Status(a[l], a[l], a[l], a[l]);\n",
    "    }\n",
    "    const m = (l + r) >> 1;\n",
    "    const lSub = getInfo(a, l, m);\n",
    "    const rSub = getInfo(a, m + 1, r);\n",
    "    return pushUp(lSub, rSub);\n",
    "}\n",
    "\n",
    "var maxSubArray = function(nums) {\n",
    "    return getInfo(nums, 0, nums.length - 1).mSum;\n",
    "};\n",
    "\n",
    "\n",
    "```"
   ]
  },
  {
   "cell_type": "markdown",
   "id": "thirty-electron",
   "metadata": {},
   "source": [
    "#### 121. 买卖股票的最佳时机\n",
    "给定一个数组 prices ，它的第 i 个元素 prices[i] 表示一支给定股票第 i 天的价格。\n",
    "\n",
    "你只能选择 某一天 买入这只股票，并选择在 未来的某一个不同的日子 卖出该股票。设计一个算法来计算你所能获取的最大利润。\n",
    "\n",
    "返回你可以从这笔交易中获取的最大利润。如果你不能获取任何利润，返回 0 。\n",
    "\n"
   ]
  },
  {
   "cell_type": "markdown",
   "id": "attractive-detection",
   "metadata": {},
   "source": [
    "思路：从右往左遍历，每一遍历放入买入价格，在下一次遍历时计算最大卖出值  \n",
    "**超出时间限制**"
   ]
  },
  {
   "cell_type": "code",
   "execution_count": 10,
   "id": "handed-engine",
   "metadata": {},
   "outputs": [
    {
     "name": "stdout",
     "output_type": "stream",
     "text": [
      "[0, 5, 1, 3, 0, 0]\n"
     ]
    }
   ],
   "source": [
    "def stock(prices):\n",
    "    profits = [0]*len(prices)\n",
    "    for i in range(1,len(prices)):\n",
    "        # 计算当天卖出的价格\n",
    "        for j in range(0,i):\n",
    "            profits[j] = max(profits[j],prices[i]-prices[j])\n",
    "    print(profits)\n",
    "stock([7,1,5,3,6,4])"
   ]
  },
  {
   "cell_type": "markdown",
   "id": "educational-quality",
   "metadata": {},
   "source": [
    "**超出时间限制**思路：已遍历的买入值肯定只会取最小值，用这个值跟当前值相减"
   ]
  },
  {
   "cell_type": "code",
   "execution_count": 12,
   "id": "extensive-hebrew",
   "metadata": {},
   "outputs": [
    {
     "name": "stdout",
     "output_type": "stream",
     "text": [
      "5\n"
     ]
    }
   ],
   "source": [
    "def stock(prices):\n",
    "    profits = 0\n",
    "    min_buy = prices[0]\n",
    "    for i in range(1,len(prices)):\n",
    "        # 计算当天卖出的价格\n",
    "        profits = max(profits,prices[i]-min_buy)\n",
    "        # 检查是不是最小值\n",
    "        min_buy = min(min_buy,prices[i])\n",
    "    print(profits)\n",
    "stock([7,1,5,3,6,4])"
   ]
  },
  {
   "cell_type": "markdown",
   "id": "settled-peripheral",
   "metadata": {},
   "source": [
    "#### ！（不想做）338. 比特位计数\n",
    "给你一个整数 n ，对于 0 <= i <= n 中的每个 i ，计算其二进制表示中 1 的个数 ，返回一个长度为 n + 1 的数组 ans 作为答案。"
   ]
  },
  {
   "cell_type": "markdown",
   "id": "dated-sheep",
   "metadata": {},
   "source": [
    "思路：首先转为二进制看有多少位，通过规律生成"
   ]
  },
  {
   "cell_type": "markdown",
   "id": "human-pocket",
   "metadata": {},
   "source": [
    "#### 392. 判断子序列\n",
    "给定字符串 s 和 t ，判断 s 是否为 t 的子序列。\n",
    "\n",
    "字符串的一个子序列是原始字符串删除一些（也可以不删除）字符而不改变剩余字符相对位置形成的新字符串。（例如，\"ace\"是\"abcde\"的一个子序列，而\"aec\"不是）。\n",
    "\n",
    "进阶：\n",
    "\n",
    "如果有大量输入的 S，称作 S1, S2, ... , Sk 其中 k >= 10亿，你需要依次检查它们是否为 T 的子序列。在这种情况下，你会怎样改变代码？\n"
   ]
  },
  {
   "cell_type": "markdown",
   "id": "spoken-daughter",
   "metadata": {},
   "source": [
    "从前往后扫，若找到字符，则计录，找下一个字符"
   ]
  },
  {
   "cell_type": "code",
   "execution_count": 30,
   "id": "incorrect-starter",
   "metadata": {},
   "outputs": [
    {
     "name": "stdout",
     "output_type": "stream",
     "text": [
      "1\n",
      "1\n",
      "2\n",
      "2\n",
      "2\n",
      "3\n"
     ]
    },
    {
     "data": {
      "text/plain": [
       "False"
      ]
     },
     "execution_count": 30,
     "metadata": {},
     "output_type": "execute_result"
    }
   ],
   "source": [
    "s = \"abc\"\n",
    "t = \"ahbgdc\"\n",
    "def isSubsequence(s: str, t: str) -> bool:\n",
    "    if len(s)==0:\n",
    "        return True\n",
    "    re = False\n",
    "    index = 0\n",
    "    for i in t:\n",
    "        if i == s[index]:\n",
    "            index+=1\n",
    "        print(index)\n",
    "        if index == len(s):\n",
    "            re = True\n",
    "            break\n",
    "    return re\n",
    "isSubsequence(s,t)"
   ]
  },
  {
   "cell_type": "markdown",
   "id": "accepted-equivalent",
   "metadata": {},
   "source": [
    "#### 1646. 获取生成数组中的最大值\n",
    "给你一个整数 n 。按下述规则生成一个长度为 n + 1 的数组 nums ：\n",
    "\n",
    "nums[0] = 0<br>\n",
    "nums[1] = 1<br>\n",
    "当 2 <= 2 * i <= n 时，nums[2 * i] = nums[i]<br>\n",
    "当 2 <= 2 * i + 1 <= n 时，nums[2 * i + 1] = nums[i] + nums[i + 1]<br>\n",
    "返回生成数组 nums 中的 最大 值。<br>"
   ]
  },
  {
   "cell_type": "code",
   "execution_count": 53,
   "id": "silent-prospect",
   "metadata": {},
   "outputs": [
    {
     "data": {
      "text/plain": [
       "[0, 1, 0]"
      ]
     },
     "execution_count": 53,
     "metadata": {},
     "output_type": "execute_result"
    }
   ],
   "source": [
    "def getMaximumGenerated(n: int) -> int:\n",
    "    if n == 0:\n",
    "        return 0\n",
    "    nums = [0,1]\n",
    "    n = n+1\n",
    "    for i in range(1,int(n/2)):\n",
    "        nums.append(nums[i])\n",
    "        nums.append(nums[i]+nums[i+1])\n",
    "    # 判断是不是偶数，若是则最后再加一次和\n",
    "    if n%2!=0:\n",
    "        nums.append(nums[int(n/2)])\n",
    "    return nums\n",
    "getMaximumGenerated(0)"
   ]
  },
  {
   "cell_type": "code",
   "execution_count": 40,
   "id": "hearing-curve",
   "metadata": {},
   "outputs": [
    {
     "data": {
      "text/plain": [
       "5"
      ]
     },
     "execution_count": 40,
     "metadata": {},
     "output_type": "execute_result"
    }
   ],
   "source": [
    "int(11/2)"
   ]
  },
  {
   "cell_type": "markdown",
   "id": "amino-italy",
   "metadata": {},
   "source": [
    "#### 1025. 除数博弈\n",
    "爱丽丝和鲍勃一起玩游戏，他们轮流行动。爱丽丝先手开局。\n",
    "\n",
    "最初，黑板上有一个数字 n 。在每个玩家的回合，玩家需要执行以下操作：\n",
    "\n",
    "选出任一 x，满足 0 < x < n 且 n % x == 0 。\n",
    "用 n - x 替换黑板上的数字 n 。\n",
    "如果玩家无法执行这些操作，就会输掉游戏。\n",
    "\n",
    "只有在爱丽丝在游戏中取得胜利时才返回 true 。假设两个玩家都以最佳状态参与游戏。\n",
    "\n"
   ]
  },
  {
   "cell_type": "markdown",
   "id": "whole-atlas",
   "metadata": {},
   "source": [
    "思路：从0开始计算无法操作的数并存入，"
   ]
  },
  {
   "cell_type": "markdown",
   "id": "e075f3e0",
   "metadata": {},
   "source": [
    "#### 5. 最长回文子串\n",
    "给你一个字符串 s，找到 s 中最长的回文子串。\n",
    "输入：s = \"babad\"\n",
    "输出：\"bab\""
   ]
  },
  {
   "cell_type": "markdown",
   "id": "b6d4730a",
   "metadata": {},
   "source": [
    "思路：若一个字符串是回文数，那么他去除左右两边的子串也是回文数，由此遍历所有子串即可\n",
    "\n",
    "状态转移方程$P(i,j)=P(i+1,j−1)∧(S i\n",
    "​\n",
    " ==S \n",
    "j\n",
    "​\n",
    " )$\n",
    " \n",
    " 边界条件：\n",
    " 1. 若为单个字符则是\n",
    " 2. 若为两个字符且左右相等也是\n",
    " 3. 左边界r不能大于等于右边界"
   ]
  },
  {
   "cell_type": "code",
   "execution_count": 33,
   "id": "216be6a4",
   "metadata": {},
   "outputs": [
    {
     "name": "stdout",
     "output_type": "stream",
     "text": [
      "0 1\n",
      "1 2\n",
      "2 3\n",
      "0 2\n",
      "1 3\n",
      "0 3\n",
      "[[True, False, False, False], [False, True, False, False], [False, False, True, False], [False, False, False, True]]\n"
     ]
    },
    {
     "data": {
      "text/plain": [
       "'c'"
      ]
     },
     "execution_count": 33,
     "metadata": {},
     "output_type": "execute_result"
    }
   ],
   "source": [
    "def longestPalindrome(s):\n",
    "    n = len(s)\n",
    "    max_len = 1\n",
    "    begin = 0\n",
    "    # 生成一个n*n的数组存放是否为回文串\n",
    "    is_huiwen = [[False]*n for i in range(n)]\n",
    "    # 对角线为True\n",
    "    for i in range(0,n):\n",
    "        is_huiwen[i][i] = True\n",
    "    # 从短长度逐渐增加遍历（2到n）\n",
    "    for L in range(2,n+1):\n",
    "        # 左边界：从0到n-L\n",
    "        # 比如n=4，L为2，则从0到2\n",
    "        for left in range(0,n-L+1):\n",
    "            # 右边界r即为 left+L-1\n",
    "            right = left+L-1\n",
    "            # 首先判断左右两边是否相等\n",
    "            if s[right] != s[left]:\n",
    "                is_huiwen[left][right] = False\n",
    "            # 判断是否只有两个数，若是则不需要进一步判断子串\n",
    "            elif right-left==2:\n",
    "                is_huiwen[left][right] = True\n",
    "            else:\n",
    "                is_huiwen[left][right] = is_huiwen[left+1][right-1]\n",
    "            print(left,right)\n",
    "            if is_huiwen[left][right] and right-left+1>max_len:\n",
    "                begin = left\n",
    "                max_len = right-left+1\n",
    "    print(is_huiwen)\n",
    "    return s[begin:begin+max_len]\n",
    "longestPalindrome(\"cbba\")"
   ]
  },
  {
   "cell_type": "code",
   "execution_count": 44,
   "id": "028793f8",
   "metadata": {},
   "outputs": [
    {
     "data": {
      "text/plain": [
       "'a'"
      ]
     },
     "execution_count": 44,
     "metadata": {},
     "output_type": "execute_result"
    }
   ],
   "source": [
    "def longestPalindrome(s: str) -> str:\n",
    "    n = len(s)\n",
    "    max_len = 1\n",
    "    begin = 0\n",
    "    # 生成一个n*n的数组存放是否为回文串\n",
    "    is_huiwen = [[False]*n for i in range(n)]\n",
    "    # 对角线为True\n",
    "    for i in range(0,n):\n",
    "        is_huiwen[i][i] = True\n",
    "    # 从短长度逐渐增加遍历（2到n）\n",
    "    for L in range(2,n+1):\n",
    "        # 左边界：从0到n-L\n",
    "        # 比如n=4，L为2，则从0到2\n",
    "        for left in range(0,n-L+1):\n",
    "            # 右边界r即为 left+L-1\n",
    "            right = left+L-1\n",
    "            # 首先判断左右两边是否相等\n",
    "            if s[right] != s[left]:\n",
    "                is_huiwen[left][right] = False\n",
    "            # 判断是否只有两个数，若是则不需要进一步判断子串\n",
    "            elif right-left==1:\n",
    "                is_huiwen[left][right] = True\n",
    "            else:\n",
    "                is_huiwen[left][right] = is_huiwen[left+1][right-1]\n",
    "            if is_huiwen[left][right]==True and right-left+1>max_len:\n",
    "                begin = left\n",
    "                max_len = right-left+1\n",
    "    return s[begin:begin+max_len]\n",
    "longestPalindrome(\"a\")"
   ]
  },
  {
   "cell_type": "markdown",
   "id": "d850b4bd",
   "metadata": {},
   "source": [
    "#### 55. 跳跃游戏\n",
    "给定一个非负整数数组 nums ，你最初位于数组的 第一个下标 。\n",
    "\n",
    "数组中的每个元素代表你在该位置可以跳跃的最大长度。\n",
    "\n",
    "判断你是否能够到达最后一个下标。\n",
    "\n",
    "输入：nums = [2,3,1,1,4]\n",
    "输出：true\n",
    "解释：可以先跳 1 步，从下标 0 到达下标 1, 然后再从下标 1 跳 3 步到达最后一个下标。"
   ]
  },
  {
   "cell_type": "markdown",
   "id": "2171f6eb",
   "metadata": {},
   "source": [
    "**思路**：从左到右遍历，维护一个n的数组，将是否能调到第i个数存入数组即可"
   ]
  },
  {
   "cell_type": "markdown",
   "id": "9803531d",
   "metadata": {},
   "source": [
    "**超出时间限制**"
   ]
  },
  {
   "cell_type": "code",
   "execution_count": 51,
   "id": "2cc1ca27",
   "metadata": {},
   "outputs": [
    {
     "name": "stdout",
     "output_type": "stream",
     "text": [
      "[True, True, True, True, False]\n"
     ]
    }
   ],
   "source": [
    "def canJump(nums) -> bool:\n",
    "    # 初始位于第一个下标\n",
    "    ret = [True]+[False]*(len(nums)-1)\n",
    "    # 从第一个开始遍历\n",
    "    for i in range(len(nums)):\n",
    "        # 判断该点能不能走到，如果走不到则跳过\n",
    "        if ret[i]==False:\n",
    "            continue\n",
    "        # 写入能走到的点\n",
    "        for step in range(1,nums[i]+1):\n",
    "            if i+step<len(nums):\n",
    "                ret[i+step] = True\n",
    "    print(ret)\n",
    "canJump([3,2,1,0,4] )"
   ]
  },
  {
   "cell_type": "markdown",
   "id": "fa02e46b",
   "metadata": {},
   "source": [
    "修改：维护可以达到的最远位置即可（一个点若能到达当前点，那么之前的点也一定能到达）"
   ]
  },
  {
   "cell_type": "code",
   "execution_count": null,
   "id": "bdfc0798",
   "metadata": {},
   "outputs": [],
   "source": [
    "def canJump(nums) -> bool:\n",
    "    # 初始位于第一个下标\n",
    "    ret = [True]+[False]*(len(nums)-1)\n",
    "    # 从第一个开始遍历\n",
    "    for i in range(len(nums)):\n",
    "        # 判断该点能不能走到，如果走不到则跳过\n",
    "        if ret[i]==False:\n",
    "            continue\n",
    "        # 写入能走到的点\n",
    "        for step in range(1,nums[i]+1):\n",
    "            if i+step<len(nums):\n",
    "                ret[i+step] = True\n",
    "    print(ret)\n",
    "canJump([3,2,1,0,4] )"
   ]
  },
  {
   "cell_type": "markdown",
   "id": "bb6a06ce",
   "metadata": {},
   "source": [
    "#### 62. 不同路径\n",
    "一个机器人位于一个 m x n 网格的左上角 （起始点在下图中标记为 “Start” ）。\n",
    "\n",
    "机器人每次只能向下或者向右移动一步。机器人试图达到网格的右下角（在下图中标记为 “Finish” ）。\n",
    "\n",
    "问总共有多少条不同的路径？"
   ]
  },
  {
   "cell_type": "markdown",
   "id": "d6ab3731",
   "metadata": {},
   "source": [
    "思路：一个点只有从他的上方和左方能出发到达，因此到这个点的路径数等于前两个点的路径数之和\n",
    "\n",
    "维护每个点的路径数，从行-列开始遍历"
   ]
  },
  {
   "cell_type": "code",
   "execution_count": 6,
   "id": "fd23af58",
   "metadata": {},
   "outputs": [
    {
     "name": "stdout",
     "output_type": "stream",
     "text": [
      "6\n"
     ]
    }
   ],
   "source": [
    "def uniquePaths(m: int, n: int) -> int:\n",
    "    routes = [[0]*n for i in range(m)]\n",
    "    # 第一个点初始化为1\n",
    "    routes[0][0] = 1\n",
    "    for row in range(m):\n",
    "        for col in range(n):\n",
    "            # 不能超出边界，\n",
    "            if row-1>=0 and col-1>=0:\n",
    "                routes[row][col] = routes[row-1][col] + routes[row][col-1]\n",
    "            elif row-1>=0 and col-1<0:\n",
    "                routes[row][col] = routes[row-1][col]\n",
    "            elif row-1<0 and col-1>=0:\n",
    "                routes[row][col] = routes[row][col-1]\n",
    "    print(routes[-1][-1])\n",
    "uniquePaths(m = 3, n = 3)"
   ]
  },
  {
   "cell_type": "markdown",
   "id": "d243fbe4",
   "metadata": {},
   "source": [
    "**Go版本**\n",
    "```go\n",
    "package main\n",
    "\n",
    "func uniquePaths(m int, n int) int {\n",
    "\t//初始化m*n的数组的一行\n",
    "\tdp := make([][]int, m)\n",
    "\t//为每行填入列\n",
    "\tfor i := 0; i < m; i++ {\n",
    "\t\tdp[i] = make([]int, n)\n",
    "\t}\n",
    "\t//初始化数据，第一行都只有一种走法\n",
    "\tfor i := 0; i < n; i++ {\n",
    "\t\tdp[0][i] = 1\n",
    "\t}\n",
    "\t//初始化数据，第一列都只有一种走法\n",
    "\tfor i := 0; i < m; i++ {\n",
    "\t\tdp[i][0] = 1\n",
    "\t}\n",
    "\t//开始遍历，从第二行开始第二列\n",
    "\tfor i := 1; i < m; i++ {\n",
    "\t\tfor j := 1; j < n; j++ {\n",
    "\t\t\tdp[i][j] = dp[i-1][j] + dp[i][j-1]\n",
    "\t\t}\n",
    "\t}\n",
    "\treturn dp[m][n]\n",
    "}\n",
    "func main() {\n",
    "\tuniquePaths(3, 7)\n",
    "}\n",
    "```"
   ]
  },
  {
   "attachments": {
    "image.png": {
     "image/png": "[encoded data removed]"
    }
   },
   "cell_type": "markdown",
   "id": "c65f22fd",
   "metadata": {},
   "source": [
    "#### 63. 不同路径 II\n",
    "一个机器人位于一个 m x n 网格的左上角 （起始点在下图中标记为 “Start” ）。\n",
    "\n",
    "机器人每次只能向下或者向右移动一步。机器人试图达到网格的右下角（在下图中标记为 “Finish”）。\n",
    "\n",
    "现在考虑网格中有障碍物。那么从左上角到右下角将会有多少条不同的路径？\n",
    "\n",
    "网格中的障碍物和空位置分别用 1 和 0 来表示。\n",
    "![image.png](attachment:image.png)"
   ]
  },
  {
   "cell_type": "markdown",
   "id": "6e89b154",
   "metadata": {},
   "source": [
    "思路：同上面类似，有两点不同：\n",
    "1. 列和行初始化如果有1则之后均为0\n",
    "2. 在遍历过程中若有1则直接设置为0"
   ]
  },
  {
   "cell_type": "markdown",
   "id": "e1f70431",
   "metadata": {},
   "source": [
    "```go\n",
    "package main\n",
    "\n",
    "import \"fmt\"\n",
    "\n",
    "func uniquePathsWithObstacles(obstacleGrid [][]int) int {\n",
    "\t//if obstacleGrid[0][0] == 1 {\n",
    "\t//\treturn 0\n",
    "\t//}\n",
    "\tm := len(obstacleGrid)\n",
    "\tn := len(obstacleGrid[0])\n",
    "\t//初始化m*n的数组的一行\n",
    "\tdp := make([][]int, m)\n",
    "\t//为每行填入列\n",
    "\tfor i := 0; i < m; i++ {\n",
    "\t\tdp[i] = make([]int, n)\n",
    "\t}\n",
    "\t//初始化数据，第一行都只有一种走法，若有1则之后均为0\n",
    "\tfor i := 0; i < n; i++ {\n",
    "\t\tif obstacleGrid[0][i] == 1 {\n",
    "\n",
    "\t\t\tfor j := i; j < n; j++ {\n",
    "\t\t\t\tdp[0][j] = 0\n",
    "\t\t\t}\n",
    "\t\t\tbreak\n",
    "\t\t}\n",
    "\t\tdp[0][i] = 1\n",
    "\t}\n",
    "\t//初始化数据，第一列都只有一种走法，若有1则退出\n",
    "\tfor i := 0; i < m; i++ {\n",
    "\t\tif obstacleGrid[i][0] == 1 {\n",
    "\t\t\tfor j := i; j < m; j++ {\n",
    "\t\t\t\tdp[j][0] = 0\n",
    "\t\t\t}\n",
    "\t\t\tbreak\n",
    "\t\t}\n",
    "\t\tdp[i][0] = 1\n",
    "\t}\n",
    "\t//开始遍历，从第二行开始第二列若有1则直接赋值为0\n",
    "\tfor i := 1; i < m; i++ {\n",
    "\t\tfor j := 1; j < n; j++ {\n",
    "\t\t\tif obstacleGrid[i][j] == 1 {\n",
    "\t\t\t\tdp[i][j] = 0\n",
    "\t\t\t\tcontinue\n",
    "\t\t\t}\n",
    "\t\t\tdp[i][j] = dp[i-1][j] + dp[i][j-1]\n",
    "\t\t}\n",
    "\t}\n",
    "\treturn dp[m-1][n-1]\n",
    "}\n",
    "func main() {\n",
    "\tfmt.Println(uniquePathsWithObstacles([][]int{{0, 0}, {1, 1}, {0, 0}}))\n",
    "}\n",
    "\n",
    "```"
   ]
  },
  {
   "cell_type": "markdown",
   "id": "3b1a4367",
   "metadata": {},
   "source": [
    "#### 45. 跳跃游戏 II\n",
    "给你一个非负整数数组 nums ，你最初位于数组的第一个位置。\n",
    "\n",
    "数组中的每个元素代表你在该位置可以跳跃的最大长度。\n",
    "\n",
    "你的目标是使用最少的跳跃次数到达数组的最后一个位置。\n",
    "\n",
    "假设你总是可以到达数组的最后一个位置。"
   ]
  },
  {
   "cell_type": "markdown",
   "id": "5983cac4",
   "metadata": {},
   "source": [
    "思路：\n",
    "1. 维护一个数组存放每个点的最少次数\n",
    "2. 一个位置的最少次数等于之前点的次数+1的最小值"
   ]
  },
  {
   "cell_type": "code",
   "execution_count": 32,
   "id": "72bdd25b",
   "metadata": {},
   "outputs": [
    {
     "name": "stdout",
     "output_type": "stream",
     "text": [
      "[0, 1, 2, 2]\n"
     ]
    }
   ],
   "source": [
    "def jump(nums) -> int:\n",
    "    dp = [0]+[None]*(len(nums)-1)\n",
    "    # 遍历每个数\n",
    "    for i in range(0,len(nums)):\n",
    "        # 遍历每个步长\n",
    "        for j in range(1,nums[i]+1):\n",
    "#             print(i,j,dp)\n",
    "            # 不能越过左边界\n",
    "            if i+j > len(nums)-1:\n",
    "                break\n",
    "            if dp[i+j]!=None:\n",
    "                dp[i+j] = min(dp[i+j],dp[i]+1)\n",
    "            else:\n",
    "                dp[i+j] = dp[i]+1\n",
    "    print(dp)\n",
    "jump([1,2,1,1]) "
   ]
  },
  {
   "cell_type": "markdown",
   "id": "0cb6e8b7",
   "metadata": {},
   "source": [
    "优化思路：每次在上次能跳到的范围（end）内选择一个能跳的最远的位置（也就是能跳到max_far位置的点）作为下次的起跳点 ！例如：(0,i)最多能跳到j，则下次遍历范围是(i,j)"
   ]
  },
  {
   "cell_type": "code",
   "execution_count": 33,
   "id": "7b941fab",
   "metadata": {},
   "outputs": [
    {
     "data": {
      "text/plain": [
       "2"
      ]
     },
     "execution_count": 33,
     "metadata": {},
     "output_type": "execute_result"
    }
   ],
   "source": [
    "def jump(nums) -> int:\n",
    "    n = len(nums)\n",
    "    # 目前能跳到的最远位置，上次跳跃可达范围右边界（下次的最右起跳点），跳跃次数\n",
    "    maxPos, end, step = 0, 0, 0  \n",
    "    for i in range(n - 1):\n",
    "        if maxPos >= i:\n",
    "            maxPos = max(maxPos, i + nums[i])\n",
    "            # 到达上次跳跃能到达的右边界了\n",
    "            if i == end:\n",
    "                end = maxPos  # 目前能跳到的最远位置变成了下次起跳位置的右边界\n",
    "                step += 1\n",
    "    return step\n",
    "jump([1,2,1,1]) "
   ]
  },
  {
   "cell_type": "markdown",
   "id": "prompt-fourth",
   "metadata": {},
   "source": [
    "#### 64. 最小路径和\n",
    "给定一个包含非负整数的 m x n 网格 grid ，请找出一条从左上角到右下角的路径，使得路径上的数字总和为最小。\n",
    "\n",
    "说明：每次只能向下或者向右移动一步。"
   ]
  },
  {
   "cell_type": "markdown",
   "id": "south-productivity",
   "metadata": {},
   "source": [
    "思路：遍历即可，保存到每个点的最短长度\n",
    "```go\n",
    "package main\n",
    "\n",
    "import (\n",
    "\t\"fmt\"\n",
    "\t\"math\"\n",
    ")\n",
    "\n",
    "func main() {\n",
    "\n",
    "\tfmt.Print(minPathSum([][]int{{1, 2, 3}, {4, 5, 6}}))\n",
    "\n",
    "}\n",
    "\n",
    "func minPathSum(grid [][]int) [][]int {\n",
    "\tm := len(grid)\n",
    "\tn := len(grid[0])\n",
    "\t//生成二维切片\n",
    "\tdp := make([][]int, m)\n",
    "\tfor i, _ := range dp {\n",
    "\t\tdp[i] = make([]int, n)\n",
    "\t}\n",
    "\tdp[0][0] = grid[0][0]\n",
    "\t//对最上和最右生成值（只有一条路）\n",
    "\tfor i := 1; i < m; i++ {\n",
    "\t\t//等于当前值加上个点的值\n",
    "\t\tdp[i][0] = dp[i-1][0] + grid[i][0]\n",
    "\t}\n",
    "\tfor j := 1; j < n; j++ {\n",
    "\t\t//等于当前值加上个点的值\n",
    "\t\tdp[0][j] = grid[0][j] + dp[0][j-1]\n",
    "\t}\n",
    "\t//遍历grid，外层为行\n",
    "\t//计算到当前点的最小值（左边或上边最小值加上当前点的值）\n",
    "\tfor i := 1; i < m; i++ {\n",
    "\t\tfor j := 1; j < n; j++ {\n",
    "\t\t\tdp[i][j] = int(math.Min(float64(dp[i-1][j]), float64(dp[i][j-1]))) + grid[i][j]\n",
    "\t\t}\n",
    "\t}\n",
    "\treturn dp\n",
    "}\n",
    "\n",
    "```"
   ]
  },
  {
   "cell_type": "markdown",
   "id": "medium-realtor",
   "metadata": {},
   "source": [
    "#### 97. 交错字符串\n",
    "给定三个字符串 s1、s2、s3，请你帮忙验证 s3 是否是由 s1 和 s2 交错 组成的。\n",
    "\n",
    "两个字符串 s 和 t 交错 的定义与过程如下，其中每个字符串都会被分割成若干 非空 子字符串：\n",
    "\n",
    "s = s1 + s2 + ... + sn\n",
    "t = t1 + t2 + ... + tm\n",
    "|n - m| <= 1\n",
    "交错 是 s1 + t1 + s2 + t2 + s3 + t3 + ... 或者 t1 + s1 + t2 + s2 + t3 + s3 + ...\n",
    "注意：a + b 意味着字符串 a 和 b 连接。\n"
   ]
  },
  {
   "cell_type": "markdown",
   "id": "creative-income",
   "metadata": {},
   "source": [
    "思路：$f(i,j)=[f(i−1,j)ands \n",
    "1\n",
    "​\n",
    " (i−1)=s \n",
    "3\n",
    "​\n",
    " (p)]or[f(i,j−1)ands \n",
    "2\n",
    "​\n",
    " (j−1)=s \n",
    "3\n",
    "​\n",
    " (p)]$\n",
    "\n",
    "```go\n",
    "package main\n",
    "\n",
    "import \"fmt\"\n",
    "\n",
    "func main() {\n",
    "\tfmt.Print(isInterleave(\"aabcc\", \"dbbca\", \"aadbbcbcac\"))\n",
    "}\n",
    "\n",
    "func isInterleave(s1 string, s2 string, s3 string) bool {\n",
    "\tn, m, t := len(s1), len(s2), len(s3)\n",
    "\t//两个长度加起来必须等于s3\n",
    "\tif (n + m) != t {\n",
    "\t\treturn false\n",
    "\t}\n",
    "\t//创建一个m+1*n+1的切片\n",
    "\tf := make([][]bool, n+1)\n",
    "\tfor i := 0; i <= n; i++ {\n",
    "\t\tf[i] = make([]bool, m+1)\n",
    "\t}\n",
    "\t//f[i][j]表示s1的前i个元素和s2的前j个元素与s3的前i+j个元素能否交错构成\n",
    "\tf[0][0] = true\n",
    "\tfor i := 0; i <= n; i++ {\n",
    "\t\tfor j := 0; j <= m; j++ {\n",
    "\t\t\tp := i + j - 1\n",
    "\t\t\t//这里分两边只是为了应对边界条件\n",
    "\t\t\tif i > 0 {\n",
    "\t\t\t\t//f[i-1][j]且s1第i个元素与s3[p]相等\n",
    "\t\t\t\tf[i][j] = f[i][j] || (f[i-1][j] && s1[i-1] == s3[p])\n",
    "\t\t\t}\n",
    "\t\t\tif j > 0 {\n",
    "\t\t\t\tf[i][j] = f[i][j] || (f[i][j-1] && s2[j-1] == s3[p])\n",
    "\t\t\t}\n",
    "\t\t}\n",
    "\t}\n",
    "\treturn f[n][m]\n",
    "}\n",
    "```"
   ]
  },
  {
   "cell_type": "markdown",
   "id": "korean-length",
   "metadata": {},
   "source": [
    "#### 152. 乘积最大子数组\n",
    "给你一个整数数组 nums ，请你找出数组中乘积最大的非空连续子数组（该子数组中至少包含一个数字），并返回该子数组所对应的乘积。\n",
    "\n",
    "测试用例的答案是一个 32-位 整数。\n",
    "\n",
    "子数组 是数组的连续子序列。"
   ]
  },
  {
   "cell_type": "markdown",
   "id": "adopted-hampton",
   "metadata": {},
   "source": [
    "思路：以二维数组存储第i位乘到第j位  ***内存不够！***\n",
    "```go\n",
    "package main\n",
    "\n",
    "import (\n",
    "\t\"fmt\"\n",
    ")\n",
    "\n",
    "func main() {\n",
    "\tfmt.Print(maxProduct([]int{2, 3, -2, 4}))\n",
    "}\n",
    "\n",
    "func maxProduct(nums []int) int {\n",
    "\tif len(nums) == 1 {\n",
    "\t\treturn nums[0]\n",
    "\t}\n",
    "\t//生成二维切片，表示第i位乘到第j位\n",
    "\tdp := make([][]int, len(nums))\n",
    "\tfor i, _ := range dp {\n",
    "\t\tdp[i] = make([]int, len(nums))\n",
    "\t}\n",
    "\t//初始化\n",
    "\tfor i, _ := range dp {\n",
    "\t\tdp[i][i] = nums[i]\n",
    "\t}\n",
    "\t//边界条件：i<j，i不需要遍历到最后一个（已经初始化）\n",
    "\tfor i := 0; i < len(nums)-1; i++ {\n",
    "\t\tfor j := i + 1; j < len(nums); j++ {\n",
    "\t\t\tdp[i][j] = dp[i][j-1] * nums[j]\n",
    "\t\t}\n",
    "\t}\n",
    "\tvar ret int = 0\n",
    "\tfor _, ls := range dp {\n",
    "\t\tfor _, val := range ls {\n",
    "\t\t\tif val > ret {\n",
    "\t\t\t\tret = val\n",
    "\t\t\t}\n",
    "\t\t}\n",
    "\t}\n",
    "\treturn ret\n",
    "}\n",
    "```"
   ]
  },
  {
   "cell_type": "markdown",
   "id": "intense-constitution",
   "metadata": {},
   "source": [
    "优化1：\n",
    "```go\n",
    "package main\n",
    "\n",
    "import (\n",
    "\t\"fmt\"\n",
    ")\n",
    "\n",
    "func main() {\n",
    "\tfmt.Print(maxProduct([]int{0, 2}))\n",
    "}\n",
    "\n",
    "func maxProduct(nums []int) int {\n",
    "\tif len(nums) == 1 {\n",
    "\t\treturn nums[0]\n",
    "\t}\n",
    "\tvar dp int\n",
    "\tvar ret int = nums[len(nums)-1]\n",
    "\t//边界条件：i<j，i不需要遍历到最后一个（已经初始化）\n",
    "\tfor i := 0; i < len(nums)-1; i++ {\n",
    "\t\t//初始化dp\n",
    "\t\tdp = nums[i]\n",
    "\t\tif dp > ret {\n",
    "\t\t\tret = dp\n",
    "\t\t}\n",
    "\t\tfor j := i + 1; j < len(nums); j++ {\n",
    "\t\t\t//滚动记数即可\n",
    "\t\t\tdp = dp * nums[j]\n",
    "\t\t\tif dp > ret {\n",
    "\t\t\t\tret = dp\n",
    "\t\t\t}\n",
    "\t\t}\n",
    "\t}\n",
    "\n",
    "\treturn ret\n",
    "}\n",
    "\n",
    "\n",
    "```"
   ]
  },
  {
   "cell_type": "markdown",
   "id": "precious-meditation",
   "metadata": {},
   "source": [
    "#### ！！！！！174. 地下城游戏\n",
    "一些恶魔抓住了公主（P）并将她关在了地下城的右下角。地下城是由 M x N 个房间组成的二维网格。我们英勇的骑士（K）最初被安置在左上角的房间里，他必须穿过地下城并通过对抗恶魔来拯救公主。\n",
    "\n",
    "骑士的初始健康点数为一个正整数。如果他的健康点数在某一时刻降至 0 或以下，他会立即死亡。\n",
    "\n",
    "有些房间由恶魔守卫，因此骑士在进入这些房间时会失去健康点数（若房间里的值为负整数，则表示骑士将损失健康点数）；其他房间要么是空的（房间里的值为 0），要么包含增加骑士健康点数的魔法球（若房间里的值为正整数，则表示骑士将增加健康点数）。\n",
    "\n",
    "为了尽快到达公主，骑士决定每次只向右或向下移动一步。\n",
    "\n",
    " \n",
    "\n",
    "编写一个函数来计算确保骑士能够拯救到公主所需的最低初始健康点数。"
   ]
  },
  {
   "cell_type": "markdown",
   "id": "dying-lotus",
   "metadata": {},
   "source": [
    "思路：\n",
    "1. 状态转移方程：\n",
    "为下两个点最低健康点数的小者，减去当前点的值为当前点的最低健康点数，但是不能小于1\n",
    "$\\textit{dp}[i][j] = \\max(\\min(\\textit{dp}[i+1][j], \\textit{dp}[i][j + 1]) - \\textit{dungeon}(i, j), 1)\n",
    "$\n",
    "\n",
    "2. 边界条件为，当 i=n−1 或者 j=m−1 时，$\\textit{dp}[i][j]dp[i][j]$ 转移需要用到的 $\\textit{dp}[i][j+1]dp[i][j+1]$ 和 $\\textit{dp}[i+1][j]dp[i+1][j]$ 中有无效值，因此代码实现中给无效值赋值为极大值。特别地，$\\textit{dp}[n-1][m-1]dp[n−1][m−1]$ 转移需要用到的 $\\textit{dp}[n-1][m]dp[n−1][m]$ 和 $\\textit{dp}[n][m-1]dp[n][m−1]$ 均为无效值，因此给这两个值赋值为 1。\n",
    "\n",
    "```go\n",
    "package main\n",
    "\n",
    "import (\n",
    "\t\"fmt\"\n",
    "\t\"math\"\n",
    ")\n",
    "\n",
    "func main() {\n",
    "\t//fmt.Print(searchRange([]int{5, 7, 7, 8, 8, 10}, 8))\n",
    "\tfmt.Println(calculateMinimumHP([][]int{{-2, -3, 3}, {-5, -10, 1}}))\n",
    "\n",
    "}\n",
    "\n",
    "func calculateMinimumHP(dungeon [][]int) [][]int {\n",
    "\tn, m := len(dungeon), len(dungeon[0])\n",
    "\tdp := make([][]int, n+1)\n",
    "\tfor i := 0; i < len(dp); i++ {\n",
    "\t\tdp[i] = make([]int, m+1)\n",
    "\t\tfor j := 0; j < len(dp[i]); j++ {\n",
    "\t\t\tdp[i][j] = math.MaxInt32\n",
    "\t\t}\n",
    "\t}\n",
    "\tdp[n][m-1], dp[n-1][m] = 1, 1\n",
    "\tfor i := n - 1; i >= 0; i-- {\n",
    "\t\tfor j := m - 1; j >= 0; j-- {\n",
    "\t\t\tminn := min(dp[i+1][j], dp[i][j+1])\n",
    "\t\t\tdp[i][j] = max(minn-dungeon[i][j], 1)\n",
    "\t\t}\n",
    "\t}\n",
    "\treturn dp\n",
    "}\n",
    "\n",
    "func min(x, y int) int {\n",
    "\tif x < y {\n",
    "\t\treturn x\n",
    "\t}\n",
    "\treturn y\n",
    "}\n",
    "\n",
    "func max(x, y int) int {\n",
    "\tif x > y {\n",
    "\t\treturn x\n",
    "\t}\n",
    "\treturn y\n",
    "}\n",
    "```"
   ]
  },
  {
   "cell_type": "markdown",
   "id": "individual-chassis",
   "metadata": {},
   "source": [
    "### 链表"
   ]
  },
  {
   "cell_type": "markdown",
   "id": "quality-ordering",
   "metadata": {},
   "source": [
    "#### 206. 反转链表\n",
    "给你单链表的头节点 head ，请你反转链表，并返回反转后的链表。"
   ]
  },
  {
   "cell_type": "markdown",
   "id": "conditional-pierre",
   "metadata": {},
   "source": [
    "python：\n",
    "```python\n",
    "class Solution:\n",
    "    def reverseList(self, head: ListNode) -> ListNode:\n",
    "        if head is None:\n",
    "            return None\n",
    "        # 从尾到头加入即可\n",
    "        ln = ListNode(head.val) # 最后一个的指针是None\n",
    "        # 遍历到head.next=None即可\n",
    "        while head.next != None:\n",
    "            head = head.next\n",
    "            ln = ListNode(head.val,ln)\n",
    "        return ln\n",
    "```"
   ]
  },
  {
   "cell_type": "markdown",
   "id": "matched-sauce",
   "metadata": {},
   "source": [
    "C++:\n",
    "非递归形式：\n",
    "```c++\n",
    "class Solution {\n",
    "public:\n",
    "    ListNode* reverseList(ListNode* head) {\n",
    "        // 非递归\n",
    "        // 使用prev存储输出列表的头结点\n",
    "        // 尽量处理当前节点的下一个节点\n",
    "        ListNode *prev = nullptr,*next;\n",
    "        // 遍历head链表，知道head.next == nullptr\n",
    "        while(head!=nullptr){\n",
    "            // 将head.next值赋给next，修改当前节点的next为prev\n",
    "            next = head->next;\n",
    "            head->next = prev;\n",
    "            // 将当前节点赋值给prev\n",
    "            prev = head;\n",
    "            // head指向下一个节点\n",
    "            head = next;\n",
    "        }\n",
    "        return prev;\n",
    "    }\n",
    "};\n",
    "```\n",
    "递归形式：\n",
    "```c++\n",
    "class Solution {\n",
    "public:\n",
    "    ListNode* reverseList(ListNode* head,ListNode* prev=nullptr) {\n",
    "        // 递归\n",
    "        // 若为空指针，则返回prev\n",
    "        if(head==nullptr){\n",
    "            return prev;\n",
    "        }\n",
    "        // 最好操作next节点避免内存问题\n",
    "        ListNode* next = head->next;\n",
    "        // 修改当前节点的next\n",
    "        head->next = prev;\n",
    "        return reverseList(next,head);\n",
    "    }\n",
    "};\n",
    "```"
   ]
  },
  {
   "cell_type": "markdown",
   "id": "f74f94eb",
   "metadata": {},
   "source": [
    "#### 21. 合并两个有序链表\n",
    "将两个升序链表合并为一个新的 升序 链表并返回。新链表是通过拼接给定的两个链表的所有节点组成的。 "
   ]
  },
  {
   "cell_type": "markdown",
   "id": "a9e951ed",
   "metadata": {},
   "source": [
    "思路：比较两个列表的第一个元素，将大的放入新链表中，知道其中一个链表为空指针，把不为空的链表加到新链表即可\n",
    "\n",
    "第一次提交\n",
    "```c++\n",
    "class Solution {\n",
    "public:\n",
    "    ListNode* mergeTwoLists(ListNode* list1, ListNode* list2) {\n",
    "        // 比较两个列表的第一个元素，将大的放入新链表中，\n",
    "        // 知道其中一个链表为空指针，把不为空的链表加到新链表即可\n",
    "        // 非递归\n",
    "        ListNode* newls=new ListNode(); // 当前位置的指针\n",
    "        // 保存头部指针\n",
    "        ListNode* head = newls;\n",
    "\n",
    "        while(list1!=nullptr||list2!=nullptr){\n",
    " \n",
    "            if(list2==nullptr){\n",
    "                newls->next=list1;\n",
    "                break;\n",
    "            }\n",
    "            if(list1==nullptr){\n",
    "                newls->next=list2;\n",
    "                break;\n",
    "            }\n",
    "            // 比较两个值\n",
    "            if (list1->val <= list2->val){\n",
    "                newls->next = list1;\n",
    "                newls = newls->next;\n",
    "                // 将其转为下一个值\n",
    "                list1 = list1->next;\n",
    "            }\n",
    "            else{\n",
    "                newls->next = list2;\n",
    "                newls = newls->next;\n",
    "                list2 = list2->next;\n",
    "            }\n",
    "\n",
    "        }\n",
    "        return head->next;\n",
    "    }\n",
    "};\n",
    "```\n",
    "\n",
    "递归形式：\n",
    "```c++\n",
    "class Solution {\n",
    "public:\n",
    "    ListNode* mergeTwoLists(ListNode* list1, ListNode* list2) {\n",
    "        // std::cout << list1->val<<\" \"<<list2->val<<\"\\n\";\n",
    "        // 递归写法\n",
    "        if(list2==nullptr){\n",
    "            return list1;\n",
    "        }\n",
    "        if(list1==nullptr){\n",
    "            return list2;\n",
    "        }\n",
    "        ListNode* head = nullptr;\n",
    "        // 比较大小\n",
    "        if(list1->val > list2->val){\n",
    "            head = list2;\n",
    "            list2=list2->next;\n",
    "        }\n",
    "        else{\n",
    "            head = list1;\n",
    "            list1=list1->next;\n",
    "        }\n",
    "        head->next = mergeTwoLists(list1,list2);\n",
    "        return head;\n",
    "}\n",
    "};\n",
    "```"
   ]
  },
  {
   "cell_type": "markdown",
   "id": "hydraulic-interface",
   "metadata": {},
   "source": [
    "#### 24. 两两交换链表中的节点\n",
    "给你一个链表，两两交换其中相邻的节点，并返回交换后链表的头节点。你必须在不修改节点内部的值的情况下完成本题（即，只能进行节点交换）。"
   ]
  },
  {
   "cell_type": "markdown",
   "id": "appropriate-surname",
   "metadata": {},
   "source": [
    "直觉写法\n",
    "```c++\n",
    "\n",
    "class Solution {\n",
    "public:\n",
    "    ListNode* swapPairs(ListNode* head) {\n",
    "        if(!head){return nullptr;}\n",
    "        // 保留头结点的指针，即开头的第二个节点\n",
    "        ListNode* dummy = head->next;\n",
    "        if(!dummy){return head;}\n",
    "        // 一组节点的第二个节点\n",
    "        ListNode* next;\n",
    "        ListNode* next_group;\n",
    "        // 两两进行指针交换，当前节点和下一个节点必需存在\n",
    "        while (head&&head->next){\n",
    "            next = head->next;\n",
    "            next_group = next->next;\n",
    "            std::cout << head->val <<\"+\"<<next->val<<\"\\n\";\n",
    "            // 当前节点的指针指向下一个节点的next的next（若为空则指向next）\n",
    "            if(next->next&&next->next->next){\n",
    "                head->next=next->next->next;\n",
    "            }\n",
    "            else{\n",
    "                head->next=next->next;\n",
    "            }\n",
    "            // 下一个节点的next指向当前节点\n",
    "            next->next=head;\n",
    "            // 当前节点跳到下下个指针\n",
    "            head = next_group;\n",
    "        }\n",
    "        return dummy;\n",
    "    }\n",
    "};\n",
    "```\n",
    "\n",
    "书上的改进：\n",
    "```c++\n",
    "ListNode *swapPairs(ListNode *head) {\n",
    "    ListNode *p = head, *s;\n",
    "    if (p && p->next) {\n",
    "        // 一组的下一个节点\n",
    "        s = p->next;\n",
    "        // 第一个节点的下一个换为下一个节点的next\n",
    "        p->next = s->next;\n",
    "        // 第二个的next是当前节点\n",
    "        s->next = p;\n",
    "        // 指向链表中的第二个节点，用于返回\n",
    "        head = s;\n",
    "        while (p->next && p->next->next) {\n",
    "            s = p->next->next;\n",
    "            p->next->next = s->next;\n",
    "            s->next = p->next;\n",
    "            p->next = s;\n",
    "            p = s->next;\n",
    "        }\n",
    "    }\n",
    "    return head;\n",
    "}\n",
    "```"
   ]
  },
  {
   "cell_type": "markdown",
   "id": "convinced-clear",
   "metadata": {},
   "source": [
    "#### 160. 相交链表\n",
    "给你两个单链表的头节点 headA 和 headB ，请你找出并返回两个单链表相交的起始节点。如果两个链表不存在相交节点，返回 null 。"
   ]
  },
  {
   "cell_type": "markdown",
   "id": "grateful-brush",
   "metadata": {},
   "source": [
    "```c++\n",
    "class Solution {\n",
    "public:\n",
    "    ListNode *getIntersectionNode(ListNode *headA, ListNode *headB) {\n",
    "        // 两个链表同时走一步，最终会到相同节点\n",
    "        if(headA&&headB){\n",
    "            ListNode *l1=headA, *l2= headB;\n",
    "            while(l1!=l2){\n",
    "                // 走一步\n",
    "                // 若到达最后节点，则转到另一个链表的开始\n",
    "                if(!l1){    //不能写l1.next，因为可能没有相交点，则两个同时输出空指针\n",
    "                    l1=headB;\n",
    "                }\n",
    "                else{\n",
    "                    l1=l1->next;\n",
    "                }\n",
    "                if(!l2){\n",
    "                    l2=headA;\n",
    "                }\n",
    "                else{\n",
    "                    l2=l2->next;\n",
    "                }\n",
    "            }\n",
    "            return l2;\n",
    "        }\n",
    "        return nullptr;\n",
    "    }\n",
    "};\n",
    "```"
   ]
  },
  {
   "cell_type": "markdown",
   "id": "varying-hearing",
   "metadata": {},
   "source": [
    "#### 234. 回文链表\n",
    "给你一个单链表的头节点 head ，请你判断该链表是否为回文链表。如果是，返回 true ；否则，返回 false"
   ]
  },
  {
   "cell_type": "markdown",
   "id": "cutting-candle",
   "metadata": {},
   "source": [
    "### 树"
   ]
  },
  {
   "cell_type": "markdown",
   "id": "apart-occurrence",
   "metadata": {},
   "source": [
    "#### 104. 二叉树的最大深度\n",
    "给定一个二叉树，找出其最大深度。\n",
    "\n",
    "二叉树的深度为根节点到最远叶子节点的最长路径上的节点数。\n",
    "\n",
    "说明: 叶子节点是指没有子节点的节点。\n",
    "\n",
    "示例：\n",
    "给定二叉树 [3,9,20,null,null,15,7]，"
   ]
  },
  {
   "cell_type": "markdown",
   "id": "forbidden-timing",
   "metadata": {},
   "source": [
    "```c++\n",
    "/**\n",
    " * Definition for a binary tree node.\n",
    " * struct TreeNode {\n",
    " *     int val;\n",
    " *     TreeNode *left;\n",
    " *     TreeNode *right;\n",
    " *     TreeNode() : val(0), left(nullptr), right(nullptr) {}\n",
    " *     TreeNode(int x) : val(x), left(nullptr), right(nullptr) {}\n",
    " *     TreeNode(int x, TreeNode *left, TreeNode *right) : val(x), left(left), right(right) {}\n",
    " * };\n",
    " */\n",
    "class Solution {\n",
    "public:\n",
    "    int maxDepth(TreeNode* root) {\n",
    "        // 遍历到最后一层返回1，其它层将返回值+1\n",
    "        // 最大深度为左右子树的深度最大值+1\n",
    "        // 注意这里若为空指针则不在树的结构了，因此为0\n",
    "        return root?max(maxDepth(root->left),maxDepth(root->right))+1:0;\n",
    "    }\n",
    "};\n",
    "```"
   ]
  },
  {
   "cell_type": "markdown",
   "id": "embedded-antique",
   "metadata": {},
   "source": [
    "#### 110. 平衡二叉树\n",
    "给定一个二叉树，判断它是否是高度平衡的二叉树。\n",
    "\n",
    "本题中，一棵高度平衡二叉树定义为：\n",
    "\n",
    "一个二叉树每个节点 的左右两个子树的高度差的绝对值不超过 1 。"
   ]
  },
  {
   "cell_type": "markdown",
   "id": "overall-local",
   "metadata": {},
   "source": [
    "自己的代码：\n",
    "```c++\n",
    "class Solution {\n",
    "public:\n",
    "    bool isBalanced(TreeNode* root) {\n",
    "        return checkDepth(root) !=-1;\n",
    "    }\n",
    "    // 计算当前节点深度并比较左右子树的深度，若相差大于1则返回-1\n",
    "    int checkDepth(TreeNode* root){\n",
    "        // 若为空则返回0\n",
    "        if(root==nullptr){\n",
    "            return 0;\n",
    "        }\n",
    "        // 初始化两个变量\n",
    "        int left,right;\n",
    "        // 递归返回当前节点左右子树的深度，并判断\n",
    "        left = checkDepth(root->left);\n",
    "        right = checkDepth(root->right);\n",
    "        // 不满足则返回-1，避免后续计算\n",
    "        if(left==-1||right==-1||abs(left-right)>1){\n",
    "            return -1;\n",
    "        }\n",
    "        return max(left,right)+1;\n",
    "    }\n",
    "};\n",
    "```"
   ]
  },
  {
   "cell_type": "markdown",
   "id": "tutorial-shape",
   "metadata": {},
   "source": [
    "#### 543. 二叉树的直径\n",
    "给定一棵二叉树，你需要计算它的直径长度。一棵二叉树的直径长度是任意两个结点路径长度中的最大值。这条路径可能穿过也可能不穿过根结点。\n",
    "\n",
    "**一个节点直径只能是两个子树深度之和**"
   ]
  },
  {
   "cell_type": "markdown",
   "id": "together-pickup",
   "metadata": {},
   "source": [
    "```c++\n",
    "class Solution {\n",
    "public:\n",
    "    int diameterOfBinaryTree(TreeNode* root) {\n",
    "        int diameter=0;\n",
    "        getMaxDiameterBydepth(root,diameter);\n",
    "        return diameter;\n",
    "    }\n",
    "    int getMaxDiameterBydepth(TreeNode* root,int& diameter) {\n",
    "        // 后续遍历，返回最大深度并比较左右子树之和是否超过最大值，若超过则更新\n",
    "        // 判断是否为空指针\n",
    "        if(!root){\n",
    "            return 0;\n",
    "        }\n",
    "        // 分别计算两个子树的最大深度\n",
    "        int l = getMaxDiameterBydepth(root->left,diameter);\n",
    "        int r = getMaxDiameterBydepth(root->right,diameter);\n",
    "        // 求和并判断\n",
    "        diameter = max(l+r,diameter);\n",
    "        // 返回最大深度=子树最大深度+1\n",
    "        return max(l,r)+1;\n",
    "    }\n",
    "};\n",
    "```"
   ]
  },
  {
   "cell_type": "markdown",
   "id": "disciplinary-program",
   "metadata": {},
   "source": [
    "#### 437. 路径总和 III\n",
    "给定一个二叉树的根节点 root ，和一个整数 targetSum ，求该二叉树里节点值之和等于 targetSum 的 路径 的数目。\n",
    "\n",
    "路径 不需要从根节点开始，也不需要在叶子节点结束，但是路径方向必须是向下的（只能从父节点到子节点）。"
   ]
  },
  {
   "cell_type": "markdown",
   "id": "plain-check",
   "metadata": {},
   "source": [
    "```c++\n",
    "class Solution {\n",
    "public:\n",
    "    // 主函数\n",
    "    unsigned  long long pathSum(TreeNode* root, int sum) {\n",
    "        return root? pathSumStartWithRoot(root, sum) +\n",
    "                    pathSum(root->left, sum) + pathSum(root->right, sum): 0;\n",
    "    }\n",
    "    // 辅函数\n",
    "    unsigned long long pathSumStartWithRoot(TreeNode* root, int sum) {\n",
    "        if (!root) {\n",
    "            return 0;\n",
    "        }\n",
    "        unsigned long long count = root->val == sum? 1: 0;\n",
    "        count += pathSumStartWithRoot(root->left, sum - root->val);\n",
    "        count += pathSumStartWithRoot(root->right, sum - root->val);\n",
    "        return count;\n",
    "    }\n",
    "};\n",
    "```"
   ]
  },
  {
   "cell_type": "markdown",
   "id": "crazy-leave",
   "metadata": {},
   "source": [
    "#### 101. 对称二叉树\n",
    "给你一个二叉树的根节点 root ， 检查它是否轴对称。"
   ]
  },
  {
   "cell_type": "markdown",
   "id": "unavailable-phenomenon",
   "metadata": {},
   "source": [
    "一开始的错误思路（没有考虑到左右子节点相等）：\n",
    "```c++\n",
    "class Solution {\n",
    "public:\n",
    "    bool isSymmetric(TreeNode* root) {\n",
    "        // 满足轴对称的条件：1. 要么没有子树，要么左右节点均存在  2. 左右子树的最大深度相等  3. 左右节点的值相等\n",
    "        return countDepth(root)!=-1;\n",
    "    }\n",
    "    // 若不满足返回-1\n",
    "    int countDepth(TreeNode* root){\n",
    "        // 判断当前节点是否为空\n",
    "        if(!root){\n",
    "            return 0;\n",
    "        }\n",
    "        // 后序遍历\n",
    "        int left = countDepth(root->left);\n",
    "        int right = countDepth(root->right);\n",
    "        // 若左右节点只有一个存在，则返回-1\n",
    "        if((left==0&&right!=0)||(right==0&&left!=0)){\n",
    "            return -1;\n",
    "        }\n",
    "        // 若left，right为-1或左右节点的最大深度不相等，返回-1\n",
    "        if(left==-1||right==-1||right!=left){\n",
    "            return -1;\n",
    "        }\n",
    "        // 使用队列来判断两边的值是否相等\n",
    "        // 返回最大深度\n",
    "        return 1+max(left,right);\n",
    "    }\n",
    "};\n",
    "```"
   ]
  },
  {
   "cell_type": "markdown",
   "id": "rural-square",
   "metadata": {},
   "source": [
    "正确思路：左右两边分开判断值是否相等\n",
    "```c++\n",
    "class Solution {\n",
    "public:\n",
    "    bool isSymmetric(TreeNode* root) {\n",
    "        // 满足轴对称的条件：1. 要么没有子树，要么左右节点均存在  2. 左右子树的最大深度相等  3. 左右节点的值相等\n",
    "        // 若根节点是空则返回true\n",
    "        return root?isSymmetric(root->right,root->left):true;\n",
    "    }\n",
    "    // 若不满足返回-1\n",
    "    bool isSymmetric(TreeNode* right,TreeNode* left){\n",
    "        // 两个节点均为空则平衡\n",
    "        if(!right&&!left){\n",
    "            return true;\n",
    "        }\n",
    "        // 判断左右节点是否存在不平衡\n",
    "        if((right&&!left)||(left&&!right)){\n",
    "            return false;\n",
    "        }\n",
    "        // 判断值是否相等\n",
    "        if(right->val!=left->val){\n",
    "            return false;\n",
    "        }\n",
    "\n",
    "        return isSymmetric(right->right,left->left)&&isSymmetric(right->left,left->right);\n",
    "    }\n",
    "};\n",
    "```"
   ]
  },
  {
   "cell_type": "markdown",
   "id": "thirty-anaheim",
   "metadata": {},
   "source": [
    "#### 1110. 删点成林\n",
    "给出二叉树的根节点 root，树上每个节点都有一个不同的值。\n",
    "\n",
    "如果节点值在 to_delete 中出现，我们就把该节点从树上删去，最后得到一个森林（一些不相交的树构成的集合）。"
   ]
  },
  {
   "cell_type": "markdown",
   "id": "pacific-poverty",
   "metadata": {},
   "source": [
    "自己写的：\n",
    "问题在于把要删除的节点指针设置为nullptr似乎不管用\n",
    "```c++\n",
    "class Solution {\n",
    "public:\n",
    "    vector<TreeNode*> delNodes(TreeNode* root, vector<int>& to_delete) {\n",
    "        // 若待删除的节点为叶子节点且父节点存在，则不需要关注\n",
    "        // 若待删除的节点为父节点，则其子节点成为子树的根节点(子节点不能被删除)\n",
    "\n",
    "        // 转为哈希表便于查找\n",
    "        std::unordered_set<int> dict(to_delete.begin(),to_delete.end());\n",
    "        // 一个存储根节点的数组\n",
    "        std::vector<TreeNode*> ret;\n",
    "        // 根节点若不被删除，则加入数组\n",
    "        if(!dict.count(root->val)){\n",
    "            ret.push_back(root);\n",
    "        }\n",
    "        else{\n",
    "            checkNodeIfDel(root->left,dict,ret);\n",
    "            checkNodeIfDel(root->right,dict,ret);\n",
    "            *root =  NULL;  \n",
    "        }\n",
    "        // 检查根节点左右子节点\n",
    "        checkNode(root->left,dict,ret);\n",
    "        checkNode(root->right,dict,ret);\n",
    "        return ret;\n",
    "    }\n",
    "    void checkNode(TreeNode* node,std::unordered_set<int>& dict,std::vector<TreeNode*>& ret){\n",
    "        // 判断节点是否为空\n",
    "        if(!node){\n",
    "            return;\n",
    "        }\n",
    "        // 若当前节点将被删除，首先将赋值为空指针，然后递归查询其子节点\n",
    "        if(dict.count(node->val)){\n",
    "            checkNodeIfDel(node->left,dict,ret);\n",
    "            checkNodeIfDel(node->right,dict,ret);\n",
    "            *node =  NULL;  \n",
    "        }\n",
    "        else{\n",
    "            // 若不被删除，继续检查子节点\n",
    "            checkNode(node->left,dict,ret);\n",
    "            checkNode(node->right,dict,ret);\n",
    "        }\n",
    "    }\n",
    "    // 若父节点被删除的函数\n",
    "    void checkNodeIfDel(TreeNode* node,std::unordered_set<int>& dict,std::vector<TreeNode*>& ret){\n",
    "        // 判断节点是否为空\n",
    "        if(!node){\n",
    "            return;\n",
    "        }\n",
    "        // 若当前节点将被删除，则递归查询其子节点\n",
    "        if(dict.count(node->val)){\n",
    "            checkNodeIfDel(node->left,dict,ret);\n",
    "            checkNodeIfDel(node->right,dict,ret);\n",
    "            *node =  NULL;  \n",
    "        }\n",
    "        // 若不被删除则将其加入数组\n",
    "        else{\n",
    "            ret.push_back(node);\n",
    "        }\n",
    "    }\n",
    "};\n",
    "```"
   ]
  },
  {
   "cell_type": "markdown",
   "id": "certain-parish",
   "metadata": {},
   "source": [
    "解决方法：添加父节点，判断是左右哪个节点，从父节点删除\n",
    "```c++\n",
    "class Solution {\n",
    "public:\n",
    "    vector<TreeNode*> delNodes(TreeNode* root, vector<int>& to_delete) {\n",
    "        // 若待删除的节点为叶子节点且父节点存在，则不需要关注\n",
    "        // 若待删除的节点为父节点，则其子节点成为子树的根节点(子节点不能被删除)\n",
    "\n",
    "        // 转为哈希表便于查找\n",
    "        std::unordered_set<int> dict(to_delete.begin(),to_delete.end());\n",
    "        // 一个存储根节点的数组\n",
    "        std::vector<TreeNode*> ret;\n",
    "        // 根节点若不被删除，则加入数组\n",
    "        if(!dict.count(root->val)){\n",
    "            ret.push_back(root);\n",
    "        }\n",
    "        else{\n",
    "            checkNodeIfDel(root,root->left,dict,ret);\n",
    "            checkNodeIfDel(root,root->right,dict,ret);\n",
    "            // 根节点不需要删除\n",
    "        }\n",
    "        // 检查根节点左右子节点\n",
    "        checkNode(root,root->left,dict,ret);\n",
    "        checkNode(root,root->right,dict,ret);\n",
    "        return ret;\n",
    "    }\n",
    "    void checkNode(TreeNode* fathernode, TreeNode* node,std::unordered_set<int>& dict,std::vector<TreeNode*>& ret){\n",
    "        // 判断节点是否为空\n",
    "        if(!node){\n",
    "            return;\n",
    "        }\n",
    "        // 若当前节点将被删除，首先将赋值为空指针，然后递归查询其子节点\n",
    "        if(dict.count(node->val)){\n",
    "            checkNodeIfDel(node,node->left,dict,ret);\n",
    "            checkNodeIfDel(node,node->right,dict,ret);\n",
    "            // 判断左右节点后删除\n",
    "            if(fathernode->left==node){\n",
    "                fathernode->left=nullptr;\n",
    "            }\n",
    "            else{\n",
    "                fathernode->right=nullptr;\n",
    "            }\n",
    "        }\n",
    "        else{\n",
    "            // 若不被删除，继续检查子节点\n",
    "            checkNode(node,node->left,dict,ret);\n",
    "            checkNode(node,node->right,dict,ret);\n",
    "        }\n",
    "    }\n",
    "    // 若父节点被删除的函数\n",
    "    void checkNodeIfDel(TreeNode* fathernode,TreeNode* node,std::unordered_set<int>& dict,std::vector<TreeNode*>& ret){\n",
    "        // 判断节点是否为空\n",
    "        if(!node){\n",
    "            return;\n",
    "        }\n",
    "        // 若当前节点将被删除，则递归查询其子节点\n",
    "        if(dict.count(node->val)){\n",
    "            checkNodeIfDel(node,node->left,dict,ret);\n",
    "            checkNodeIfDel(node,node->right,dict,ret);\n",
    "            // 判断左右节点后删除\n",
    "            if(fathernode->left==node){\n",
    "                fathernode->left=nullptr;\n",
    "            }\n",
    "            else{\n",
    "                fathernode->right=nullptr;\n",
    "            }\n",
    "        }\n",
    "        // 若不被删除则将其加入数组\n",
    "        else{\n",
    "            ret.push_back(node);\n",
    "            // 继续检查子节点\n",
    "            checkNode(node,node->left,dict,ret);\n",
    "            checkNode(node,node->right,dict,ret);\n",
    "        }\n",
    "    }\n",
    "};\n",
    "```"
   ]
  },
  {
   "cell_type": "markdown",
   "id": "clear-aquatic",
   "metadata": {},
   "source": [
    "#### 637. 二叉树的层平均值\n",
    "给定一个非空二叉树的根节点 root , 以数组的形式返回每一层节点的平均值。"
   ]
  },
  {
   "cell_type": "markdown",
   "id": "authentic-directory",
   "metadata": {},
   "source": [
    "直觉思路\n",
    "```c++\n",
    "class Solution {\n",
    "public:\n",
    "    vector<double> averageOfLevels(TreeNode* root) {\n",
    "        std::vector<double> ret;\n",
    "        std::vector<TreeNode*> nodes = {root};\n",
    "        helper(nodes,ret);\n",
    "        return ret;\n",
    "    }\n",
    "    void helper(std::vector<TreeNode*> nodes,std::vector<double>& ret){\n",
    "        // 若为空则结束\n",
    "        if(nodes.size()==0){\n",
    "            return;\n",
    "        }\n",
    "        double avg_val=0;\n",
    "        std::vector<TreeNode*> next_nodes;\n",
    "        // 层次遍历\n",
    "        for(auto node:nodes){\n",
    "            // 计算平均值\n",
    "            avg_val += node->val;\n",
    "            // 若存在节点，则将其加入下一次遍历的列表中\n",
    "            if(node->left){\n",
    "                next_nodes.push_back(node->left);\n",
    "            }\n",
    "            if(node->right){\n",
    "                next_nodes.push_back(node->right);\n",
    "            }\n",
    "        }\n",
    "        ret.push_back(avg_val/nodes.size());\n",
    "        // 执行下一层的遍历\n",
    "        helper(next_nodes,ret);\n",
    "    }\n",
    "};\n",
    "```"
   ]
  },
  {
   "cell_type": "markdown",
   "id": "alpha-vocabulary",
   "metadata": {},
   "source": [
    "使用队列进行层次遍历：\n",
    "```c++\n",
    "class Solution {\n",
    "public:\n",
    "    vector<double> averageOfLevels(TreeNode* root) {\n",
    "        std::vector<double> ret;\n",
    "        std::queue<TreeNode*> q;\n",
    "        q.push(root);\n",
    "        while(!q.empty()){\n",
    "            double sum=0;\n",
    "            int size = q.size();\n",
    "            // 遍历求平均值，删除当前节点后加入新的节点\n",
    "            for(int i=0;i<size;i++){\n",
    "                TreeNode* node = q.front();\n",
    "                sum+=node->val;\n",
    "                q.pop();\n",
    "                if(node->left){\n",
    "                    q.push(node->left);\n",
    "                }\n",
    "                if(node->right){\n",
    "                    q.push(node->right);\n",
    "                }\n",
    "            }\n",
    "            ret.push_back(sum/size);\n",
    "        }\n",
    "        return ret;\n",
    "    }\n",
    "};\n",
    "```"
   ]
  },
  {
   "cell_type": "markdown",
   "id": "olympic-october",
   "metadata": {},
   "source": [
    "#### ！！！105. 从前序与中序遍历序列构造二叉树\n",
    "给定两个整数数组 preorder 和 inorder ，其中 preorder 是二叉树的先序遍历， inorder 是同一棵树的中序遍历，请构造二叉树并返回其根节点。\n",
    "\n",
    "**思路**：\n",
    "1. 首先确定左子树在两个遍历数组的位置：首先在前序遍历中找到根节点，然后在中序找到根节点位置，根节点位置的左边即为左子树位置。\n",
    "2. 根据中序中确定的左子树确定左子树节点数，根据左子树节点数确定前序遍历中右子树起始位置。\n",
    "3. 前序中根节点右边第一个即为左子树起始位置。\n",
    "3. 将左右右子树起始位置作为根节点遍历。"
   ]
  },
  {
   "cell_type": "markdown",
   "id": "pharmaceutical-fruit",
   "metadata": {},
   "source": [
    "书上的题解：\n",
    "```c++\n",
    "class Solution {\n",
    "public:\n",
    "    // 主函数\n",
    "    TreeNode *buildTree(vector<int> &preorder, vector<int> &inorder) {\n",
    "        if (preorder.empty()) {\n",
    "            return nullptr;\n",
    "        }\n",
    "        // 将中序遍历列表改为哈希表便于查找\n",
    "        unordered_map<int, int> hash;\n",
    "        for (int i = 0; i < preorder.size(); ++i) {\n",
    "            hash[inorder[i]] = i;\n",
    "        }\n",
    "        return buildTreeHelper(hash, preorder, 0, preorder.size() - 1, 0);\n",
    "    }\n",
    "\n",
    "    // 辅函数\n",
    "    TreeNode *buildTreeHelper(unordered_map<int, int> &hash, vector<int> &preorder, int s0, int e0, int s1) {\n",
    "        if (s0 > e0) {\n",
    "            return nullptr;\n",
    "        }\n",
    "        // s1是当前根节点索引，mid是根节点值，leftLen表示左子树的子节点数\n",
    "        // s0表示当前根节点在中序遍历列表中的索引\n",
    "        // e0表示当前子树在中序遍历中的开始位置\n",
    "        int mid = preorder[s1], index = hash[mid], leftLen = index - s0 - 1;\n",
    "        TreeNode *node = new TreeNode(mid);\n",
    "        node->left = buildTreeHelper(hash, preorder, s0, index - 1, s1 + 1);\n",
    "        node->right = buildTreeHelper(hash, preorder, index + 1, e0, s1 + 2 +leftLen);\n",
    "        return node;\n",
    "    }\n",
    "};\n",
    "```"
   ]
  },
  {
   "cell_type": "markdown",
   "id": "turkish-effectiveness",
   "metadata": {},
   "source": [
    "#### 144. 二叉树的前序遍历\n",
    "给你二叉树的根节点 root ，返回它节点值的 前序 遍历。"
   ]
  },
  {
   "cell_type": "markdown",
   "id": "absent-savage",
   "metadata": {},
   "source": [
    "使用递归\n",
    "```c++\n",
    "class Solution {\n",
    "public:\n",
    "    vector<int> preorderTraversal(TreeNode* root) {\n",
    "        vector<int> ls;\n",
    "        helper(root,ls);\n",
    "        return ls;\n",
    "    }\n",
    "    void helper(TreeNode* node,vector<int>& ls){\n",
    "        // 前序遍历，先放入子节点然后遍历左右节点\n",
    "        if(!node){\n",
    "            return;\n",
    "        }\n",
    "        ls.push_back(node->val);\n",
    "        helper(node->left,ls);\n",
    "        helper(node->right,ls);\n",
    "    }\n",
    "};\n",
    "```\n",
    "不使用递归\n",
    "```c++\n",
    "class Solution {\n",
    "public:\n",
    "    vector<int> preorderTraversal(TreeNode* root) {\n",
    "        vector<int> ls;\n",
    "        // 使用栈进行前序遍历\n",
    "        stack<TreeNode*> ts;\n",
    "        if(root){\n",
    "            ts.push(root);\n",
    "        }\n",
    "\n",
    "        // 当栈不为空时调用\n",
    "        while(!ts.empty()){\n",
    "            TreeNode* node = ts.top();\n",
    "            ts.pop();\n",
    "            // 将根节点值加入列表并将左右节点入栈\n",
    "            ls.push_back(node->val);\n",
    "            if(node->right){\n",
    "                ts.push(node->right);       \n",
    "            }\n",
    "            if(node->left){\n",
    "                ts.push(node->left);       \n",
    "            }\n",
    "        }\n",
    "        return ls;\n",
    "    }\n",
    "\n",
    "};\n",
    "```"
   ]
  },
  {
   "cell_type": "markdown",
   "id": "bronze-funds",
   "metadata": {},
   "source": [
    "#### 99. 恢复二叉搜索树\n",
    "给你二叉搜索树的根节点 root ，该树中的 恰好 两个节点的值被错误地交换。请在不改变其结构的情况下，恢复这棵树 。"
   ]
  },
  {
   "cell_type": "markdown",
   "id": "intelligent-constitutional",
   "metadata": {},
   "source": [
    "自己写的\n",
    "```c++\n",
    "class Solution {\n",
    "public:\n",
    "    void recoverTree(TreeNode* root) {\n",
    "        // 使用中序遍历，若只有一对相邻节点出错，则交换即可\n",
    "        // 若有四个节点出错，则按遍历顺序排序，原本应该是从小到大，分两种情况，最大值在最右边（最小值在最左边）和中间两个值需要相互交换的情况\n",
    "        vector<TreeNode*> ls;\n",
    "        TreeNode* prev=nullptr;\n",
    "        // 使用prev记录前一个节点以进行比较\n",
    "        helper(root,ls,prev);\n",
    "        for(auto el:ls){\n",
    "            cout<<el->val;\n",
    "        }\n",
    "        // 检查长度\n",
    "        if(ls.size()==4){\n",
    "            TreeNode* t = findMax(ls);\n",
    "            if(ls[3]!=t){\n",
    "                int temp = ls[3]->val;\n",
    "                ls[3]->val = t->val;\n",
    "                t->val = temp;\n",
    "            }\n",
    "            \n",
    "            else if(ls[0]!=findMin(ls)){\n",
    "                t = findMin(ls);\n",
    "                int temp = ls[0]->val;\n",
    "                ls[0]->val = t->val;\n",
    "                t->val = temp;\n",
    "            }\n",
    "            else{\n",
    "                // 交换中间两个节点\n",
    "                int temp = ls[1]->val;\n",
    "                ls[1]->val = ls[2]->val;\n",
    "                ls[2]->val = temp;\n",
    "            }\n",
    "        }\n",
    "        else{\n",
    "            // 交换中间两个节点\n",
    "            int temp = ls[0]->val;\n",
    "            ls[0]->val = ls[1]->val;\n",
    "            ls[1]->val = temp;\n",
    "        }\n",
    "    }\n",
    "    TreeNode* findMax(vector<TreeNode*>& ls){\n",
    "        TreeNode* temp=nullptr;\n",
    "        for(auto el:ls){\n",
    "            if(!temp||temp->val<el->val){\n",
    "                temp=el;\n",
    "            }\n",
    "        }\n",
    "        return temp;\n",
    "    }\n",
    "    TreeNode* findMin(vector<TreeNode*>& ls){\n",
    "        TreeNode* temp=nullptr;\n",
    "        for(auto el:ls){\n",
    "            if(!temp||temp->val>=el->val){\n",
    "                temp=el;\n",
    "            }\n",
    "        }\n",
    "        return temp;\n",
    "    }\n",
    "\n",
    "    void helper(TreeNode* node,vector<TreeNode*>& ls,TreeNode*& prev){\n",
    "        if(!node){\n",
    "            return;\n",
    "        }\n",
    "        \n",
    "        // 先检查左节点\n",
    "        helper(node->left,ls,prev);\n",
    "        // 检查当前节点与上一个节点的值大小，若不同则将其加入列表\n",
    "        if(prev&&prev->val>=node->val){\n",
    "            ls.push_back(prev);\n",
    "            ls.push_back(node);\n",
    "        }\n",
    "        // 检查完当前节点后将其设为prev\n",
    "        prev = node;\n",
    "\n",
    "        helper(node->right,ls,prev);\n",
    "    }\n",
    "};\n",
    "```"
   ]
  },
  {
   "cell_type": "markdown",
   "id": "generous-bench",
   "metadata": {},
   "source": [
    "#### !!!!669. 修剪二叉搜索树\n",
    "给你二叉搜索树的根节点 root ，同时给定最小边界low 和最大边界 high。通过修剪二叉搜索树，使得所有节点的值在[low, high]中。修剪树 不应该 改变保留在树中的元素的相对结构 (即，如果没有被移除，原有的父代子代关系都应当保留)。 可以证明，存在 唯一的答案 。\n",
    "\n",
    "所以结果应当返回修剪好的二叉搜索树的新的根节点。注意，根节点可能会根据给定的边界发生改变。"
   ]
  },
  {
   "cell_type": "markdown",
   "id": "loved-michigan",
   "metadata": {},
   "source": [
    "```c++\n",
    "class Solution {\n",
    "public:\n",
    "    TreeNode *trimBST(TreeNode *root, int L, int R) {\n",
    "        // 小于阈值：若某节点值小于阈值，则将此节点及其左子树删掉，将其右子树的节点拼接到其父节点上去，大于同理\n",
    "        // 首先找到在范围内的根节点，若不满足则取其左右子树根节点\n",
    "        if (!root) {\n",
    "            return root;\n",
    "        }\n",
    "        if (root->val > R) {\n",
    "            return trimBST(root->left, L, R);\n",
    "        }\n",
    "        if (root->val < L) {\n",
    "            return trimBST(root->right, L, R);\n",
    "        }\n",
    "        root->left = trimBST(root->left, L, R);\n",
    "        root->right = trimBST(root->right, L, R);\n",
    "        return root;\n",
    "    }\n",
    "};\n",
    "```"
   ]
  },
  {
   "cell_type": "markdown",
   "id": "infinite-shuttle",
   "metadata": {},
   "source": [
    "#### !!!208. 实现 Trie (前缀树)\n",
    "Trie（发音类似 \"try\"）或者说 前缀树 是一种树形数据结构，用于高效地存储和检索字符串数据集中的键。这一数据结构有相当多的应用情景，例如自动补完和拼写检查。\n",
    "\n",
    "请你实现 Trie 类：\n",
    "\n",
    "1. Trie() 初始化前缀树对象。\n",
    "2. void insert(String word) 向前缀树中插入字符串 word 。\n",
    "3. boolean search(String word) 如果字符串 word 在前缀树中，返回 true（即，在检索之前已经插入）；否则，返回 false 。\n",
    "4. boolean startsWith(String prefix) 如果之前已经插入的字符串 word 的前缀之一为 prefix ，返回 true ；否则，返回 false 。\n",
    "\n",
    "根据书上所写：\n",
    "```c++\n",
    "class TrieNode{\n",
    "    public:\n",
    "        bool isVal;\n",
    "        TrieNode* childNode[26];\n",
    "        TrieNode():isVal{false}{\n",
    "            for(int i=0;i<26;i++){\n",
    "                childNode[i] = nullptr;\n",
    "            }\n",
    "        }\n",
    "};\n",
    "\n",
    "class Trie {\n",
    "public:\n",
    "    TrieNode* root;\n",
    "    Trie(): root(new TrieNode()) {}\n",
    "    void insert(string word) {\n",
    "        TrieNode* node = root;\n",
    "        // 循环查看当前节点是否有，若无则创建一个子节点\n",
    "        for(int i =0;i<word.size();i++){\n",
    "            if(!node->childNode[word[i]-'a']){\n",
    "                node->childNode[word[i]-'a'] = new TrieNode();\n",
    "            }\n",
    "            node = node->childNode[word[i]-'a'];\n",
    "        }\n",
    "        node->isVal = true;\n",
    "    }\n",
    "    \n",
    "    bool search(string word) {\n",
    "        TrieNode* node = root;\n",
    "        // 循环检查\n",
    "        for(int i =0;i<word.size();i++){\n",
    "            if(!node->childNode[word[i]-'a']){\n",
    "                return false;\n",
    "            }\n",
    "            else{\n",
    "                node = node->childNode[word[i]-'a'];\n",
    "            }\n",
    "        }\n",
    "        // 根据最后一个节点的isval判断是否有该字符串\n",
    "        if(!node->isVal){\n",
    "            return false;\n",
    "        }\n",
    "        return true;\n",
    "    }\n",
    "    \n",
    "    bool startsWith(string word) {\n",
    "        TrieNode* node = root;\n",
    "        // 循环检查\n",
    "        for(int i =0;i<word.size();i++){\n",
    "            if(!node->childNode[word[i]-'a']){\n",
    "                return false;\n",
    "            }\n",
    "            else{\n",
    "                node = node->childNode[word[i]-'a'];\n",
    "            }\n",
    "        }\n",
    "        return true;\n",
    "    }\n",
    "};\n",
    "```"
   ]
  },
  {
   "cell_type": "markdown",
   "id": "contrary-zealand",
   "metadata": {},
   "source": [
    "### 图"
   ]
  },
  {
   "cell_type": "markdown",
   "id": "prompt-style",
   "metadata": {},
   "source": [
    "#### 785. 判断二分图\n",
    "存在一个 无向图 ，图中有 n 个节点。其中每个节点都有一个介于 0 到 n - 1 之间的唯一编号。给你一个二维数组 graph ，其中 graph[u] 是一个节点数组，由节点 u 的邻接节点组成。形式上，对于 graph[u] 中的每个 v ，都存在一条位于节点 u 和节点 v 之间的无向边。该无向图同时具有以下属性：\n",
    "不存在自环（graph[u] 不包含 u）。\n",
    "不存在平行边（graph[u] 不包含重复值）。\n",
    "如果 v 在 graph[u] 内，那么 u 也应该在 graph[v] 内（该图是无向图）\n",
    "这个图可能不是连通图，也就是说两个节点 u 和 v 之间可能不存在一条连通彼此的路径。\n",
    "二分图 定义：如果能将一个图的节点集合分割成两个独立的子集 A 和 B ，并使图中的每一条边的两个节点一个来自 A 集合，一个来自 B 集合，就将这个图称为 二分图 。\n",
    "\n",
    "如果图是二分图，返回 true ；否则，返回 false 。\n",
    "> 直觉做法\n",
    "```c++\n",
    "class Solution {\n",
    "public:\n",
    "    bool isBipartite(vector<vector<int>>& graph) {\n",
    "        // 广度优先遍历，对当前节点的相邻节点赋予和当前节点的邻接点不同的颜色，若邻接点有颜色且与当前点一样，则直接返回\n",
    "        // 记录每个节点颜色值的map，无颜色0，颜色有1和2两种\n",
    "        map<int,int> m;\n",
    "        map<int,int> colors={{1,2},{2,1}};\n",
    "        queue<int> q;\n",
    "        // 记录第一个节点的颜色，并将其放入队列\n",
    "        m[0]=1;\n",
    "        q.push(0);\n",
    "        // 必须要每个节点均染上色才能结束循环\n",
    "        int s = graph.size();\n",
    "        // 循环遍历\n",
    "        while(!q.empty()||m.size()!=s){\n",
    "            int code =0;\n",
    "            // 若q为空，则遍历找到第一个未染色的节点，以此为code\n",
    "            if(q.empty()){\n",
    "                for(int i=0;i<s;i++){\n",
    "                    auto re = m.find(i);\n",
    "                    if (re != m.end()){\n",
    "                        continue;\n",
    "                    }\n",
    "                    else{\n",
    "                        code = i;\n",
    "                        // 当前点没有颜色，需要赋值\n",
    "                        m[code] = 1;\n",
    "                        break;\n",
    "                    }\n",
    "                }\n",
    "            }\n",
    "            else{\n",
    "                code = q.front();\n",
    "                q.pop();        \n",
    "            }\n",
    "            vector<int> neibor = graph[code];\n",
    "            // 查看当前颜色并找到需要赋值的颜色\n",
    "            int color = colors[m[code]];\n",
    "            // 若没有邻居点，则上色并中断\n",
    "            if(neibor.empty()){\n",
    "                m[code]=1;\n",
    "                continue;\n",
    "            }\n",
    "            // 比对邻居点的颜色，若无则赋值\n",
    "            for(auto el:neibor){\n",
    "                auto re = m.find(el);\n",
    "                if (re != m.end()){\n",
    "                    if(re->second==m[code]){\n",
    "                        return false;\n",
    "                    }  \n",
    "                }\n",
    "                else{\n",
    "                    m[el] = color;\n",
    "                    // 将未染色邻居点置入队列\n",
    "                    q.push(el);\n",
    "                }\n",
    "            }\n",
    "        }\n",
    "        return true;\n",
    "    }\n",
    "};\n",
    "\n",
    "```"
   ]
  },
  {
   "cell_type": "markdown",
   "id": "tamil-museum",
   "metadata": {},
   "source": [
    "按书上代码所写的：\n",
    "```c++\n",
    "class Solution {\n",
    "public:\n",
    "    bool isBipartite(vector<vector<int>>& graph) {\n",
    "        // 广度优先遍历，对当前节点的相邻节点赋予和当前节点的邻接点不同的颜色，若邻接点有颜色且与当前点一样，则直接返回\n",
    "        // 记录每个节点颜色值的map，无颜色0，颜色有1和2两种\n",
    "        // 只将未染色的节点纳入队列检查，因为染色之后可能与邻居点发生冲突\n",
    "        vector<int> colors(graph.size(),0);\n",
    "        queue<int> q;\n",
    "        if(graph.size()==0){\n",
    "            return true;\n",
    "        }\n",
    "        // 循环遍历每个节点以确保孤立节点被访问到\n",
    "        for(int i=0;i<graph.size();i++){\n",
    "            // 检查当前节点是否染色\n",
    "            if(colors[i]==0){\n",
    "                colors[i]=1;\n",
    "                // 将此节点置入队列检查与其邻居点的情况\n",
    "                q.push(i);\n",
    "            }\n",
    "\n",
    "            // 当前队列只有当前节点的邻居点\n",
    "            // 当q非空时，循环检查其是否颜色不同\n",
    "            while(!q.empty()){\n",
    "                auto node = q.front();\n",
    "                q.pop();\n",
    "                for(auto el:graph[node]){\n",
    "                    if(colors[el]==0){\n",
    "                        colors[el]=colors[node]==1?2:1;\n",
    "                        q.push(el);\n",
    "                    }\n",
    "                    if(colors[node]==colors[el]){\n",
    "                        return false;\n",
    "                    }\n",
    "                }\n",
    "            }\n",
    "        }\n",
    "        return true;\n",
    "    }\n",
    "};\n",
    "```"
   ]
  },
  {
   "cell_type": "markdown",
   "id": "silent-familiar",
   "metadata": {},
   "source": [
    "#### 210. 课程表 II\n",
    "现在你总共有 numCourses 门课需要选，记为 0 到 numCourses - 1。给你一个数组 prerequisites ，其中 prerequisites[i] = [ai, bi] ，表示在选修课程 ai 前 必须 先选修 bi 。\n",
    "\n",
    "例如，想要学习课程 0 ，你需要先完成课程 1 ，我们用一个匹配来表示：[0,1] 。\n",
    "返回你为了学完所有课程所安排的学习顺序。可能会有多个正确的顺序，你只要返回 任意一种 就可以了。如果不可能完成所有课程，返回 一个空数组 。"
   ]
  },
  {
   "cell_type": "markdown",
   "id": "configured-naples",
   "metadata": {},
   "source": [
    "```c++\n",
    "class Solution {\n",
    "public:\n",
    "    vector<int> findOrder(int numCourses, vector<vector<int>>& prerequisites) {\n",
    "        // 遍历找到不需要先修的课程，将其置入数组并在课程中设置为-1\n",
    "\n",
    "        // 创建一个矩阵方便遍历\n",
    "        vector<vector<int>> graph(numCourses,vector<int>());\n",
    "        // 保存每个课程所需要先修的课程数\n",
    "        vector<int> requirenum(numCourses,0);\n",
    "        // 选课顺序\n",
    "        vector<int> res;\n",
    "        // 遍历需求列表，填入需求矩阵并计入需求课程数\n",
    "        for(auto el:prerequisites){\n",
    "            graph[el[1]].push_back(el[0]);\n",
    "            requirenum[el[0]]+=1;\n",
    "        }\n",
    "        queue<int> q;\n",
    "        // 循环遍历，将不需要先修的课程置入队列\n",
    "        for(int i=0;i<requirenum.size();i++){\n",
    "            if(requirenum[i]==0){\n",
    "                q.push(i);\n",
    "            }\n",
    "        }\n",
    "        while(!q.empty()){\n",
    "            // 不需要先修的课\n",
    "            int noreq = q.front();\n",
    "            q.pop();\n",
    "            // 放入顺序结果列表\n",
    "            res.push_back(noreq);\n",
    "            // 将需要此课程作为先修的课程需求-1\n",
    "            for(auto el:graph[noreq]){\n",
    "                requirenum[el]-=1;\n",
    "                // 若-1后为0，则将其置入队列\n",
    "                if(requirenum[el]==0){\n",
    "                    q.push(el);\n",
    "                }\n",
    "            }\n",
    "        }\n",
    "        // 循环遍历，若还存在不为0的课程则表示无法完成\n",
    "        for(int i=0;i<requirenum.size();i++){\n",
    "            if(requirenum[i]!=0){\n",
    "                return vector<int>();\n",
    "            }\n",
    "        }\n",
    "        return res;\n",
    "    }\n",
    "};\n",
    "```"
   ]
  },
  {
   "cell_type": "markdown",
   "id": "cordless-lithuania",
   "metadata": {},
   "source": [
    "### 数据结构"
   ]
  },
  {
   "cell_type": "markdown",
   "id": "numerical-wonder",
   "metadata": {},
   "source": [
    "#### 448. 找到所有数组中消失的数字\n",
    "给你一个含 n 个整数的数组 nums ，其中 nums[i] 在区间 [1, n] 内。请你找出所有在 [1, n] 范围内但没有出现在 nums 中的数字，并以数组的形式返回结果。\n",
    "```c++\n",
    "class Solution {\n",
    "public:\n",
    "    vector<int> findDisappearedNumbers(vector<int>& nums) {\n",
    "        // 法1：用一个列表存储\n",
    "        vector<int> v;\n",
    "        for(int i=0;i<nums.size();i++){\n",
    "            v.push_back(1);\n",
    "        }\n",
    "        vector<int> ret;\n",
    "        for(auto el:nums){\n",
    "            v[el-1]=0;\n",
    "        }\n",
    "        for(int i=0;i<nums.size();i++){\n",
    "            if(v[i]){\n",
    "                ret.push_back(i+1);\n",
    "            }\n",
    "        }\n",
    "        return ret;\n",
    "    }\n",
    "};\n",
    "```"
   ]
  },
  {
   "cell_type": "markdown",
   "id": "considerable-ancient",
   "metadata": {},
   "source": [
    "### 58. 最后一个单词的长度"
   ]
  },
  {
   "cell_type": "markdown",
   "id": "great-answer",
   "metadata": {},
   "source": [
    "```javascript\n",
    "var lengthOfLastWord = function(s) {\n",
    "    temp = ''\n",
    "    re = ''\n",
    "    for(let char in s){\n",
    "        if(char!=' '){\n",
    "            temp=temp+char\n",
    "        }\n",
    "        else{\n",
    "            re = temp\n",
    "            temp = ''\n",
    "        }\n",
    "    }\n",
    "    return re.length\n",
    "};\n",
    "```"
   ]
  },
  {
   "cell_type": "markdown",
   "id": "d0ab57cc",
   "metadata": {},
   "source": [
    "### 66. 加一"
   ]
  },
  {
   "cell_type": "code",
   "execution_count": 32,
   "id": "6833b383",
   "metadata": {},
   "outputs": [
    {
     "data": {
      "text/plain": [
       "[1, 0, 0]"
      ]
     },
     "execution_count": 32,
     "metadata": {},
     "output_type": "execute_result"
    }
   ],
   "source": [
    "digits = [9,9]\n",
    "digits.insert(0,0)\n",
    "# 从末尾遍历，若+1>10则继续循环\n",
    "\n",
    "for i in range(1,len(digits)+1):\n",
    "    if digits[-i]+1==10:\n",
    "        digits[-i] = 0\n",
    "    else:\n",
    "        digits[-i]+=1\n",
    "        break\n",
    "if digits[0]==0:\n",
    "    del digits[0]\n",
    "digits"
   ]
  },
  {
   "cell_type": "markdown",
   "id": "polyphonic-management",
   "metadata": {},
   "source": [
    "### 67. 二进制求和"
   ]
  },
  {
   "cell_type": "markdown",
   "id": "handled-theta",
   "metadata": {},
   "source": [
    "```javascript\n",
    "/**\n",
    " * @param {string} a\n",
    " * @param {string} b\n",
    " * @return {string}\n",
    " */\n",
    "/**\n",
    " * @param {string} a\n",
    " * @param {string} b\n",
    " * @return {string}\n",
    " */\n",
    "var addBinary = function(a, b) {\n",
    "    end = false\n",
    "    num = 0\n",
    "    base = 1\n",
    "    a = a.split('').map(val=>parseInt(val))\n",
    "    b = b.split('').map(val=>parseInt(val))\n",
    "    while(!end){\n",
    "        a_last = a.pop()\n",
    "        b_last = b.pop()\n",
    "        if(a_last !== undefined && b_last !==undefined){\n",
    "            num = num + (a_last+b_last)*base\n",
    "        }\n",
    "        else if(b_last !==undefined){\n",
    "            num = num + (b_last)*base\n",
    "        }\n",
    "        else if(a_last !== undefined){\n",
    "            num = num + (a_last)*base\n",
    "        }\n",
    "        else{\n",
    "            end = true\n",
    "        }\n",
    "        base = base*2\n",
    "    }\n",
    "    re = ''\n",
    "\n",
    "    while(Math.floor(num/2)!=0){\n",
    "        re = String(num%2)+re\n",
    "        num = Math.floor(num/2)\n",
    "    }\n",
    "    if(num===1||num===0){\n",
    "        re = String(num%2)+re\n",
    "    }\n",
    "    return re\n",
    "};\n",
    "```"
   ]
  },
  {
   "cell_type": "markdown",
   "id": "dc43706e",
   "metadata": {},
   "source": [
    "### 69. x 的平方根 \n",
    "给你一个非负整数 x ，计算并返回 x 的 算术平方根 。\n",
    "\n",
    "由于返回类型是整数，结果只保留 整数部分 ，小数部分将被 舍去 。\n",
    "\n",
    "注意：不允许使用任何内置指数函数和算符，例如 pow(x, 0.5) 或者 x ** 0.5 。"
   ]
  },
  {
   "cell_type": "markdown",
   "id": "57c520de",
   "metadata": {},
   "source": [
    "思路：二分查找，在(0,i/2)中找，若大若小则...直到可以确定整数部分（即左右边界的平方值均大于或小于某值）"
   ]
  },
  {
   "cell_type": "code",
   "execution_count": 42,
   "id": "8eaebdb0",
   "metadata": {},
   "outputs": [
    {
     "name": "stdout",
     "output_type": "stream",
     "text": [
      "2.0\n",
      "3.0\n",
      "2.5\n",
      "2.75\n",
      "2.875\n",
      "2.8125\n",
      "2.84375\n",
      "2.828125\n",
      "2.8359375\n",
      "2.83203125\n"
     ]
    }
   ],
   "source": [
    "def mySqrt(x: int) -> int:\n",
    "    left = 0\n",
    "    right = x\n",
    "    mid = (left+right)/2\n",
    "    epoch = 10\n",
    "    while epoch>0:\n",
    "        # 若大于x则处于左边\n",
    "        if mid*mid>x:\n",
    "            right = mid\n",
    "            mid = (left+right)/2\n",
    "        else:\n",
    "             left = mid\n",
    "        mid = (left+right)/2\n",
    "        epoch-=1\n",
    "        print(mid)\n",
    "mySqrt(8)"
   ]
  },
  {
   "cell_type": "code",
   "execution_count": null,
   "id": "79adddc8",
   "metadata": {},
   "outputs": [],
   "source": [
    "def mySqrt(self, x: int) -> int:\n",
    "    l, r, ans = 0, x, -1\n",
    "    while l <= r:\n",
    "        mid = (l + r) // 2\n",
    "        if mid * mid <= x:\n",
    "            ans = mid\n",
    "            l = mid + 1\n",
    "        else:\n",
    "            r = mid - 1\n",
    "    return ans"
   ]
  }
 ],
 "metadata": {
  "kernelspec": {
   "display_name": "Python 3",
   "language": "python",
   "name": "python3"
  },
  "language_info": {
   "codemirror_mode": {
    "name": "ipython",
    "version": 3
   },
   "file_extension": ".py",
   "mimetype": "text/x-python",
   "name": "python",
   "nbconvert_exporter": "python",
   "pygments_lexer": "ipython3",
   "version": "3.8.5"
  },
  "toc": {
   "base_numbering": 1,
   "nav_menu": {},
   "number_sections": true,
   "sideBar": true,
   "skip_h1_title": false,
   "title_cell": "Table of Contents",
   "title_sidebar": "Contents",
   "toc_cell": false,
   "toc_position": {
    "height": "calc(100% - 180px)",
    "left": "10px",
    "top": "150px",
    "width": "293.829px"
   },
   "toc_section_display": true,
   "toc_window_display": true
  }
 },
 "nbformat": 4,
 "nbformat_minor": 5
}
