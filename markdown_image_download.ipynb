{
 "cells": [
  {
   "cell_type": "markdown",
   "id": "dynamic-lebanon",
   "metadata": {},
   "source": [
    "1. 导入md文件\n",
    "2. 使用re模块拆分出图片url\n",
    "3. 排序并批量下载图片，导出\n",
    "4. 修改md文件中的引用"
   ]
  },
  {
   "cell_type": "code",
   "execution_count": 2,
   "id": "persistent-girlfriend",
   "metadata": {},
   "outputs": [],
   "source": [
    "with open('C://Users/Administrator/Desktop/README.md', 'r',encoding=\"utf-8\") as f:\n",
    "    md = f.read()"
   ]
  },
  {
   "cell_type": "code",
   "execution_count": 6,
   "id": "exposed-study",
   "metadata": {
    "collapsed": true
   },
   "outputs": [
    {
     "data": {
      "text/plain": [
       "'> 笔记来源：[尚硅谷 Web 前端 HTML5&CSS3 初学者零基础入门全套完整版](https://www.bilibili.com/video/BV1XJ411X7Ud)\\n\\n[toc]\\n\\n# '"
      ]
     },
     "execution_count": 6,
     "metadata": {},
     "output_type": "execute_result"
    }
   ],
   "source": [
    "md[:100]"
   ]
  },
  {
   "cell_type": "markdown",
   "id": "dominant-blade",
   "metadata": {},
   "source": [
    "findall：返回所有匹配的字符串\n",
    ".\\*表示任意字符串，!\\[.*\\)表示!和)之间的任意组合"
   ]
  },
  {
   "cell_type": "code",
   "execution_count": 53,
   "id": "floating-pound",
   "metadata": {},
   "outputs": [
    {
     "data": {
      "text/plain": [
       "(['https://img-blog.csdnimg.cn/img_convert/3373666820269df4830e7827c7b9623b.png',\n",
       "  'https://img-blog.csdnimg.cn/img_convert/afda6908ddd6c7e9cab45751aabbcb5c.gif'],\n",
       " ['.png', '.gif'])"
      ]
     },
     "execution_count": 53,
     "metadata": {},
     "output_type": "execute_result"
    }
   ],
   "source": [
    "import re\n",
    "raw_link_list = re.findall(\"!\\[.*\\)\",md)\n",
    "# 去除多余信息，仅留下链接\n",
    "link_list = [raw_link.split('(')[1].split(')')[0] for raw_link in raw_link_list]\n",
    "ext_list = [re.findall(\"\\.[a-zA-Z]*\",raw_ext)[-1] for raw_ext in link_list]\n",
    "link_list[:2],ext_list[:2]"
   ]
  },
  {
   "cell_type": "code",
   "execution_count": 28,
   "id": "civil-mumbai",
   "metadata": {},
   "outputs": [
    {
     "data": {
      "text/plain": [
       "'https://img-blog.csdnimg.cn/img_convert/3373666820269df4830e7827c7b9623b.png'"
      ]
     },
     "execution_count": 28,
     "metadata": {},
     "output_type": "execute_result"
    }
   ],
   "source": [
    "a[0].split('(')[1].split(')')[0]"
   ]
  },
  {
   "cell_type": "markdown",
   "id": "silent-bubble",
   "metadata": {},
   "source": [
    "图片下载模块"
   ]
  },
  {
   "cell_type": "code",
   "execution_count": 54,
   "id": "compact-treat",
   "metadata": {},
   "outputs": [],
   "source": [
    "import requests\n",
    "\n",
    "def download_img(link,ext):\n",
    "    r = requests.get(link)\n",
    "    print(r.status_code) # 返回状态码\n",
    "    if r.status_code == 200:\n",
    "        open('C://Users//Administrator//Desktop//img//'+ext, 'wb').write(r.content) # 将内容写入图片\n",
    "        print(\"done\")\n",
    "    del r"
   ]
  },
  {
   "cell_type": "code",
   "execution_count": 47,
   "id": "located-superintendent",
   "metadata": {},
   "outputs": [
    {
     "name": "stdout",
     "output_type": "stream",
     "text": [
      "200\n",
      "done\n"
     ]
    }
   ],
   "source": [
    "download_img(link_list[1])"
   ]
  },
  {
   "cell_type": "markdown",
   "id": "upset-salad",
   "metadata": {},
   "source": [
    "单md文件下载图片"
   ]
  },
  {
   "cell_type": "code",
   "execution_count": 58,
   "id": "statistical-salon",
   "metadata": {},
   "outputs": [],
   "source": [
    "def md_img_download(link_list,ext_list):\n",
    "    num = 0\n",
    "    for link,ext in zip(link_list,ext_list):\n",
    "        num+=1\n",
    "        download_img(link,str(num)+ext)"
   ]
  },
  {
   "cell_type": "code",
   "execution_count": 59,
   "id": "narrative-shannon",
   "metadata": {
    "scrolled": true
   },
   "outputs": [
    {
     "name": "stdout",
     "output_type": "stream",
     "text": [
      "200\n",
      "done\n",
      "200\n",
      "done\n",
      "200\n",
      "done\n",
      "200\n",
      "done\n"
     ]
    }
   ],
   "source": [
    "md_img_download(link_list,ext_list)"
   ]
  },
  {
   "cell_type": "code",
   "execution_count": 68,
   "id": "placed-athletics",
   "metadata": {
    "collapsed": true
   },
   "outputs": [
    {
     "name": "stdout",
     "output_type": "stream",
     "text": [
      "root:C://Users//Administrator//Desktop/WEB/笔记/Html5/\n",
      "['01-前端简介', '02-前端开发准备', '03-字符实体与语义标签', '04-CSS语法与选择器', '05-样式继承与其他概念', '06-盒模型', '07-实战练习', '08-盒模型补充及田径场实战', '09-浮动', '10-高度塌陷与BFC', '11-定位', '12-字体', '13-背景', '14-雪碧图与渐变', '15-表格', '16-过渡与动画', '17-变形：平移、旋转与缩放', '18-less简介', '19-弹性盒简介', '20-像素与视口', '21-媒体查询', 'demo', '实战练习', '资料']\n",
      "['.gitignore', 'README.md']\n",
      "root:C://Users//Administrator//Desktop/WEB/笔记/Html5/01-前端简介\n",
      "[]\n",
      "['README.md']\n",
      "root:C://Users//Administrator//Desktop/WEB/笔记/Html5/02-前端开发准备\n",
      "[]\n",
      "['README.md']\n",
      "root:C://Users//Administrator//Desktop/WEB/笔记/Html5/03-字符实体与语义标签\n",
      "[]\n",
      "['README.md']\n",
      "root:C://Users//Administrator//Desktop/WEB/笔记/Html5/04-CSS语法与选择器\n",
      "[]\n",
      "['README.md']\n",
      "root:C://Users//Administrator//Desktop/WEB/笔记/Html5/05-样式继承与其他概念\n",
      "[]\n",
      "['README.md']\n",
      "root:C://Users//Administrator//Desktop/WEB/笔记/Html5/06-盒模型\n",
      "[]\n",
      "['README.md']\n",
      "root:C://Users//Administrator//Desktop/WEB/笔记/Html5/07-实战练习\n",
      "[]\n",
      "['README.md']\n",
      "root:C://Users//Administrator//Desktop/WEB/笔记/Html5/08-盒模型补充及田径场实战\n",
      "[]\n",
      "['README.md']\n",
      "root:C://Users//Administrator//Desktop/WEB/笔记/Html5/09-浮动\n",
      "[]\n",
      "['README.md']\n",
      "root:C://Users//Administrator//Desktop/WEB/笔记/Html5/10-高度塌陷与BFC\n",
      "[]\n",
      "['README.md']\n",
      "root:C://Users//Administrator//Desktop/WEB/笔记/Html5/11-定位\n",
      "[]\n",
      "['README.md']\n",
      "root:C://Users//Administrator//Desktop/WEB/笔记/Html5/12-字体\n",
      "[]\n",
      "['README.md']\n",
      "root:C://Users//Administrator//Desktop/WEB/笔记/Html5/13-背景\n",
      "[]\n",
      "['README.md']\n",
      "root:C://Users//Administrator//Desktop/WEB/笔记/Html5/14-雪碧图与渐变\n",
      "[]\n",
      "['README.md']\n",
      "root:C://Users//Administrator//Desktop/WEB/笔记/Html5/15-表格\n",
      "[]\n",
      "['README.md']\n",
      "root:C://Users//Administrator//Desktop/WEB/笔记/Html5/16-过渡与动画\n",
      "[]\n",
      "['README.md']\n",
      "root:C://Users//Administrator//Desktop/WEB/笔记/Html5/17-变形：平移、旋转与缩放\n",
      "[]\n",
      "['README.md']\n",
      "root:C://Users//Administrator//Desktop/WEB/笔记/Html5/18-less简介\n",
      "[]\n",
      "['README.md']\n",
      "root:C://Users//Administrator//Desktop/WEB/笔记/Html5/19-弹性盒简介\n",
      "[]\n",
      "['README.md']\n",
      "root:C://Users//Administrator//Desktop/WEB/笔记/Html5/20-像素与视口\n",
      "[]\n",
      "['README.md']\n",
      "root:C://Users//Administrator//Desktop/WEB/笔记/Html5/21-媒体查询\n",
      "[]\n",
      "['README.md']\n",
      "root:C://Users//Administrator//Desktop/WEB/笔记/Html5/demo\n",
      "['assets', 'css', 'font']\n",
      "['demo01-简单布局.html', 'demo02-1-高度塌陷与BFC.html', 'demo02-2-高度塌陷与BFC.html', 'demo03-clear.html', 'demo04-after.html', 'demo05-clearfix.html', 'demo06-相对定位.html', 'demo07-1-绝对定位.html', 'demo07-2-绝对定位.html', 'demo08-固定定位.html', 'demo09-粘滞定位.html', 'demo10-层级.html', 'demo11-font.html', 'demo12-1-fontawesome.html', 'demo12-2-fontawesome.html', 'demo12-3-iconfont.html', 'demo13-line-height.html', 'demo14-font简写属性.html', 'demo15-文本水平对齐.html', 'demo16-文本垂直对齐.html', 'demo17-1-背景.html', 'demo17-2-背景.html', 'demo17-3-背景.html', 'demo18-1-雪碧图.html', 'demo18-2-雪碧图.html', 'demo19-线性渐变.html', 'demo20-径向渐变.html', 'demo21-表格.html', 'demo22-长表格.html', 'demo23-1-表格的样式.html', 'demo23-2-表格的样式.html', 'demo24-表单.html', 'demo25-表单补充.html', 'demo26-三角形.html', 'demo27-过渡.html', 'demo28-动画.html', 'demo29-1-变形平移.html', 'demo29-2-变形平移.html', 'demo30-Z轴平移.html', 'demo31-旋转.html', 'demo32-缩放.html', 'demo33-less.html', 'demo34-1-flex.html', 'demo34-2-flex.html', 'demo34-3-flex.html']\n",
      "root:C://Users//Administrator//Desktop/WEB/笔记/Html5/demo\\assets\n",
      "['旋转', '背景']\n",
      "[]\n",
      "root:C://Users//Administrator//Desktop/WEB/笔记/Html5/demo\\assets\\旋转\n",
      "[]\n",
      "['an.png']\n",
      "root:C://Users//Administrator//Desktop/WEB/笔记/Html5/demo\\assets\\背景\n",
      "['练习1-背景', '练习2-背景', '练习3-雪碧图']\n",
      "['dlam.png', '背景.png', '背景2.jpg']\n",
      "root:C://Users//Administrator//Desktop/WEB/笔记/Html5/demo\\assets\\背景\\练习1-背景\n",
      "[]\n",
      "['练习1-背景.png']\n",
      "root:C://Users//Administrator//Desktop/WEB/笔记/Html5/demo\\assets\\背景\\练习2-背景\n",
      "[]\n",
      "['active.png', 'hover.png', 'link.png']\n",
      "root:C://Users//Administrator//Desktop/WEB/笔记/Html5/demo\\assets\\背景\\练习3-雪碧图\n",
      "[]\n",
      "['amazon-sprite_.png', 'btn.png']\n",
      "root:C://Users//Administrator//Desktop/WEB/笔记/Html5/demo\\css\n",
      "[]\n",
      "['all.css', 'all.css.map', 'all.less', 'normaliz.css', 'reset.css', 'style.css', 'style.less', 'syntax.css', 'syntax.less']\n",
      "root:C://Users//Administrator//Desktop/WEB/笔记/Html5/demo\\font\n",
      "['fontawesome', 'iconfont']\n",
      "['ZCOOLKuaiLe-Regular.ttf', 'ZCOOLQingKeHuangYou-Regular.ttf', 'ZCOOLXiaoWei-Regular.ttf']\n",
      "root:C://Users//Administrator//Desktop/WEB/笔记/Html5/demo\\font\\fontawesome\n",
      "['css', 'webfonts']\n",
      "[]\n",
      "root:C://Users//Administrator//Desktop/WEB/笔记/Html5/demo\\font\\fontawesome\\css\n",
      "[]\n",
      "['all.css', 'all.min.css', 'brands.css', 'brands.min.css', 'fontawesome.css', 'fontawesome.min.css', 'regular.css', 'regular.min.css', 'solid.css', 'solid.min.css', 'svg-with-js.css', 'svg-with-js.min.css', 'v4-shims.css', 'v4-shims.min.css']\n",
      "root:C://Users//Administrator//Desktop/WEB/笔记/Html5/demo\\font\\fontawesome\\webfonts\n",
      "[]\n",
      "['fa-brands-400.eot', 'fa-brands-400.svg', 'fa-brands-400.ttf', 'fa-brands-400.woff', 'fa-brands-400.woff2', 'fa-regular-400.eot', 'fa-regular-400.svg', 'fa-regular-400.ttf', 'fa-regular-400.woff', 'fa-regular-400.woff2', 'fa-solid-900.eot', 'fa-solid-900.svg', 'fa-solid-900.ttf', 'fa-solid-900.woff', 'fa-solid-900.woff2']\n",
      "root:C://Users//Administrator//Desktop/WEB/笔记/Html5/demo\\font\\iconfont\n",
      "[]\n",
      "['demo.css', 'demo_index.html', 'iconfont.css', 'iconfont.js', 'iconfont.json', 'iconfont.ttf', 'iconfont.woff', 'iconfont.woff2']\n",
      "root:C://Users//Administrator//Desktop/WEB/笔记/Html5/实战练习\n",
      "['10-小米商城', 'assets', 'css', 'font']\n",
      "['01-京东图片列表.html', '02-京东左侧导航条.html', '03-网易新闻列表.html', '04-田径场.html', '05-w3school顶部导航栏.html', '06-京东轮播图.html', '07-京东顶部导航条.html', '08-背景按钮.html', '09-电影卡片.html', '11-米兔.html', '12-奔跑的少年.html', '13-弹力球.html', '14-酷炫球.html', '15-奔跑的川普.html', '16-鸭子表.html', '17-复仇者联盟.html', '18-w3school弹性导航栏.html', '19-淘宝导航.html']\n",
      "root:C://Users//Administrator//Desktop/WEB/笔记/Html5/实战练习\\10-小米商城\n",
      "['css', 'font', 'img']\n",
      "['index.html', '小米商城爬虫.py']\n",
      "root:C://Users//Administrator//Desktop/WEB/笔记/Html5/实战练习\\10-小米商城\\css\n",
      "['common', 'part']\n",
      "['index.css', 'index.min.css']\n",
      "root:C://Users//Administrator//Desktop/WEB/笔记/Html5/实战练习\\10-小米商城\\css\\common\n",
      "[]\n",
      "['base.css', 'reset.css']\n",
      "root:C://Users//Administrator//Desktop/WEB/笔记/Html5/实战练习\\10-小米商城\\css\\part\n",
      "[]\n",
      "['bottom-wrapper.css', 'head-expand.css', 'head-wrapper.css', 'main-wrapper.css', 'nav-expand.css', 'tools-wrapper.css', 'topbar-wrapper.css']\n",
      "root:C://Users//Administrator//Desktop/WEB/笔记/Html5/实战练习\\10-小米商城\\font\n",
      "['fontawesome']\n",
      "[]\n",
      "root:C://Users//Administrator//Desktop/WEB/笔记/Html5/实战练习\\10-小米商城\\font\\fontawesome\n",
      "['css', 'webfonts']\n",
      "[]\n",
      "root:C://Users//Administrator//Desktop/WEB/笔记/Html5/实战练习\\10-小米商城\\font\\fontawesome\\css\n",
      "[]\n",
      "['all.min.css']\n",
      "root:C://Users//Administrator//Desktop/WEB/笔记/Html5/实战练习\\10-小米商城\\font\\fontawesome\\webfonts\n",
      "[]\n",
      "['fa-brands-400.eot', 'fa-brands-400.svg', 'fa-brands-400.ttf', 'fa-brands-400.woff', 'fa-brands-400.woff2', 'fa-regular-400.eot', 'fa-regular-400.svg', 'fa-regular-400.ttf', 'fa-regular-400.woff', 'fa-regular-400.woff2', 'fa-solid-900.eot', 'fa-solid-900.svg', 'fa-solid-900.ttf', 'fa-solid-900.woff', 'fa-solid-900.woff2']\n",
      "root:C://Users//Administrator//Desktop/WEB/笔记/Html5/实战练习\\10-小米商城\\img\n",
      "['右侧工具栏', '右侧轮播图', '头部导航栏img', '左侧展开导航栏icon', '底部促销', '底部渠道']\n",
      "['download.png', 'favicon.ico', 'logo-mi2.png']\n",
      "root:C://Users//Administrator//Desktop/WEB/笔记/Html5/实战练习\\10-小米商城\\img\\右侧工具栏\n",
      "[]\n",
      "['个人中心.png', '个人中心hover.png', '人工客服.png', '人工客服hover.png', '售后服务.png', '售后服务hover.png', '手机APP.png', '手机APPhover.png', '购物车.png', '购物车hover.png']\n",
      "root:C://Users//Administrator//Desktop/WEB/笔记/Html5/实战练习\\10-小米商城\\img\\右侧轮播图\n",
      "[]\n",
      "['icon-slides.png', 'MIX FLOD.jpg', 'Note 10 Pro.jpg', '小米618.jpeg']\n",
      "root:C://Users//Administrator//Desktop/WEB/笔记/Html5/实战练习\\10-小米商城\\img\\头部导航栏img\n",
      "['Redmi 红米', '家电', '小米手机', '智能硬件', '电视', '笔记本', '路由器']\n",
      "[]\n",
      "root:C://Users//Administrator//Desktop/WEB/笔记/Html5/实战练习\\10-小米商城\\img\\头部导航栏img\\Redmi 红米\n",
      "[]\n",
      "['K40 Pro 系列.png', 'K40 游戏增强版.png', 'Note 10 5G.png', 'Note 10 Pro.png', 'Redmi K40.png', 'Redmi Note 9 系列.png']\n",
      "root:C://Users//Administrator//Desktop/WEB/笔记/Html5/实战练习\\10-小米商城\\img\\头部导航栏img\\家电\n",
      "[]\n",
      "['Redmi全自动波轮洗衣机1A 8kg.jpg', '小米净水器S1 800G.png', '米家互联网洗烘一体机10kg.png', '米家扫拖机器人1T.png', '米家空气净化器3\\xa0 高效除菌.png', '米家风冷对开门冰箱 483L.jpg']\n",
      "root:C://Users//Administrator//Desktop/WEB/笔记/Html5/实战练习\\10-小米商城\\img\\头部导航栏img\\小米手机\n",
      "[]\n",
      "['小米10S.png', '小米11 Pro.png', '小米11 Ultra.png', '小米11 青春版.png', '小米11.png', '小米MIX FOLD.png']\n",
      "root:C://Users//Administrator//Desktop/WEB/笔记/Html5/实战练习\\10-小米商城\\img\\头部导航栏img\\智能硬件\n",
      "[]\n",
      "['Redmi小爱触屏音箱Pro8.png', 'Redmi小爱音箱 Play.png', '小米全自动智能门锁.png', '小米小爱触屏音箱.jpg', '查看全部智能硬件.png']\n",
      "root:C://Users//Administrator//Desktop/WEB/笔记/Html5/实战练习\\10-小米商城\\img\\头部导航栏img\\电视\n",
      "[]\n",
      "['Redmi MAX 86” 超大屏电视.png', \"Redmi 智能电视 MAX 98''.jpg\", '小米电视 大师 65英寸OLED.png', '小米电视大师 82英寸.png', '小米电视大师 82英寸至尊纪念版.png', '小米透明电视.jpg']\n",
      "root:C://Users//Administrator//Desktop/WEB/笔记/Html5/实战练习\\10-小米商城\\img\\头部导航栏img\\笔记本\n",
      "[]\n",
      "['Redmibook Pro 14 锐龙版.png', 'RedmiBook Pro 14.png', 'Redmibook Pro 15 锐龙版.png', '小米笔记本 Pro 15 锐龙版.png', '小米笔记本Pro 14.png', '小米笔记本Pro 15.png']\n",
      "root:C://Users//Administrator//Desktop/WEB/笔记/Html5/实战练习\\10-小米商城\\img\\头部导航栏img\\路由器\n",
      "[]\n",
      "['Redmi路由器 AX6.png', 'Redmi路由器AC2100.png', '小米AIoT路由器AX3600.png', '小米路由器 AX1800.png', '小米路由器AX6000.png', '小米路由器AX9000.png']\n",
      "root:C://Users//Administrator//Desktop/WEB/笔记/Html5/实战练习\\10-小米商城\\img\\左侧展开导航栏icon\n",
      "['健康 儿童', '出行 穿戴', '家电 插线板', '手机 电话卡', '智能 路由器', '生活 箱包', '电源 配件', '电视 盒子', '笔记本 显示器', '耳机 音箱']\n",
      "[]\n",
      "root:C://Users//Administrator//Desktop/WEB/笔记/Html5/实战练习\\10-小米商城\\img\\左侧展开导航栏icon\\健康 儿童\n",
      "[]\n",
      "['体脂秤.jpg', '体重秤.png', '修剪器.jpg', '儿童手表.jpg', '儿童滑板车.jpg', '剃须刀.jpg', '吹风机.jpg', '婴儿推车.jpg', '早教启智.jpg', '智能遥控车.png', '洗手机.jpg', '牙刷.jpg', '益智积木.png', '走步机.jpg']\n",
      "root:C://Users//Administrator//Desktop/WEB/笔记/Html5/实战练习\\10-小米商城\\img\\左侧展开导航栏icon\\出行 穿戴\n",
      "[]\n",
      "['Redmi 手表.png', '充气宝.jpg', '小米手环5.png', '小米手环5NFC.png', '小米手环6 NFC版.png', '小米手环6 标准版.png', '小米手表.png', '平衡车.jpg', '无线车充.jpg', '智能后视镜.jpg', '智能记录仪.jpg', '滑板车.jpg', '石英表.jpg', '自行车.png', '车载充电器.jpg']\n",
      "root:C://Users//Administrator//Desktop/WEB/笔记/Html5/实战练习\\10-小米商城\\img\\左侧展开导航栏icon\\家电 插线板\n",
      "[]\n",
      "['Redmi全自动波轮洗衣机.jpg', '冰箱.jpg', '净水器.jpg', '吸尘器.jpg', '壁挂空调.png', '微波炉.jpg', '扫地机器人.jpg', '投影仪.png', '插线板.jpg', '料理机.jpg', '新风机.jpg', '滚筒洗衣机.png', '滤水壶.jpg', '灯具.jpg', '电压力锅.jpg', '电暖器.jpg', '电水壶.jpg', '电烤箱.jpg', '电磁炉.jpg', '电饭煲.jpg', '空气净化器.jpg', '立式空调.png', '落地风扇.png']\n",
      "root:C://Users//Administrator//Desktop/WEB/笔记/Html5/实战练习\\10-小米商城\\img\\左侧展开导航栏icon\\手机 电话卡\n",
      "[]\n",
      "['K40 Pro 系列.png', 'K40 游戏增强版.png', 'Note 10 5G.png', 'Note 10 Pro.png', 'Redmi 10X 5G.png', 'Redmi 9.png', 'Redmi K30 至尊纪念版.jpg', 'Redmi K30S 至尊纪念版.png', 'Redmi K40.png', 'Redmi Note 8 Pro.png', 'Redmi Note 9  4G.png', 'Redmi Note 9 5G.png', 'Redmi Note 9 Pro.png', '小米10.png', '小米10S.png', '小米11 Pro.png', '小米11 Ultra.png', '小米11 青春.png', '小米11.png', '小米MIX FOLD.png', '小米云服务.jpg', '手机上门维修.png', '黑鲨4 Pro.png', '黑鲨4.png']\n",
      "root:C://Users//Administrator//Desktop/WEB/笔记/Html5/实战练习\\10-小米商城\\img\\左侧展开导航栏icon\\智能 路由器\n",
      "[]\n",
      "['Redmi路由器.png', '云服务空间年卡.png', '云服务空间月卡.png', '喷墨打印机.png', '喷墨打印机墨水.png', '对讲机.jpg', '小爱老师.png', '小爱音箱.jpg', '小米路由器.png', '打印机.jpg', '摄像机.jpg', '智能家庭.jpg', '智能门锁.jpg', '照相机.jpg', '视频门铃.jpg']\n",
      "root:C://Users//Administrator//Desktop/WEB/笔记/Html5/实战练习\\10-小米商城\\img\\左侧展开导航栏icon\\生活 箱包\n",
      "[]\n",
      "['保温杯.jpg', '双肩包.jpg', '小背包.jpg', '床垫.jpg', '旅行箱.jpg', '枕头.png', '毛巾 浴巾.jpg', '眼镜.jpg', '笔.jpg', '米兔.png', '胸包.jpg', '螺丝刀.jpg', '运动鞋.jpg', '驱蚊器.jpg']\n",
      "root:C://Users//Administrator//Desktop/WEB/笔记/Html5/实战练习\\10-小米商城\\img\\左侧展开导航栏icon\\电源 配件\n",
      "[]\n",
      "['充电器.png', '其他配件.jpg', '平板配件.jpg', '手机壳.jpg', '手机贴膜.jpg', '数据线.jpg', '无线充电器.png', '电池.jpg', '移动电源.png', '自拍杆.jpg', '车充.jpg', '黑鲨配件.jpg']\n",
      "root:C://Users//Administrator//Desktop/WEB/笔记/Html5/实战练习\\10-小米商城\\img\\左侧展开导航栏icon\\电视 盒子\n",
      "[]\n",
      "['Redmi MAX 86” 超大屏电视.png', 'Redmi 智能电视 A系列.png', 'Redmi 智能电视 MAX 98.jpg', 'Redmi 智能电视 X55.png', 'Redmi 智能电视 X系列.png', '大师电视 65英寸 OLED.png', '小米全面屏电视.jpg', '小米全面屏电视E43K.png', '小米壁画电视.jpg', '小米电视4A 60英寸.png', '小米电视4A 70英寸.png', '小米电视4S 75英寸.png', '小米电视5 55英寸.png', '小米电视5 65英寸.png', '小米电视5 75英寸.png', '小米电视5 Pro 55英寸.png', '小米电视5 Pro 65英寸.png', '小米电视5 Pro 75英寸.png', '小米电视大师 82英寸.png', '小米盒子.jpg', '小米透明电视.png', '电视音箱.png', '量子点电视.png', '金属全面屏电视.png']\n",
      "root:C://Users//Administrator//Desktop/WEB/笔记/Html5/实战练习\\10-小米商城\\img\\左侧展开导航栏icon\\笔记本 显示器\n",
      "[]\n",
      "['Redmi G 游戏本.png', 'RedmiBook 13.jpg', 'RedmiBook 16.png', 'RedmiBook Air 13.png', 'RedmiBook Pro 14 锐龙版.png', 'RedmiBook Pro 14.png', 'RedmiBook Pro 15 锐龙版.png', 'RedmiBook Pro 15.png', '小米 Redmi 显示器.png', '小米笔记本 Pro 15 锐龙版.png', '小米笔记本Pro 14.jpg', '小米笔记本Pro 15.6.png', '小米笔记本Pro 15.png', '键鼠套装.png', '鼠标.png']\n",
      "root:C://Users//Administrator//Desktop/WEB/笔记/Html5/实战练习\\10-小米商城\\img\\左侧展开导航栏icon\\耳机 音箱\n",
      "[]\n",
      "['k歌耳机.jpg', 'Redmi AirDots 3.png', 'Redmi小爱触屏音箱 8.png', 'Redmi音箱.png', '品牌耳机.jpg', '头戴耳机.jpg', '小爱触屏音箱Pro 8.png', '小爱音箱 Art 电池版.png', '小爱音箱 Pro.png', '小米AI音箱.jpg', '小米小爱触屏音箱.jpg', '小米小爱音箱 Play.jpg', '小米小爱音箱.png', '小米小爱音箱HD.jpg', '线控耳机.jpg', '蓝牙耳机.png', '蓝牙音箱.png']\n",
      "root:C://Users//Administrator//Desktop/WEB/笔记/Html5/实战练习\\10-小米商城\\img\\底部促销\n",
      "[]\n",
      "['Redmi 9A.jpg', '小米11.jpg', '小米降噪耳机.png']\n",
      "root:C://Users//Administrator//Desktop/WEB/笔记/Html5/实战练习\\10-小米商城\\img\\底部渠道\n",
      "[]\n",
      "['F码通道.png', '以旧换新.png', '企业团购.png', '小米秒杀.png', '米粉卡.png', '话费充值.png']\n",
      "root:C://Users//Administrator//Desktop/WEB/笔记/Html5/实战练习\\assets\n",
      "['京东图片列表', '京东轮播图', '复仇者联盟', '奔跑的少年', '奔跑的川普', '淘宝导航', '电影卡片', '移动端页面', '米兔', '网易新闻列表', '背景', '鸭子表']\n",
      "[]\n",
      "root:C://Users//Administrator//Desktop/WEB/笔记/Html5/实战练习\\assets\\京东图片列表\n",
      "[]\n",
      "['1.jpg', '2.jpg', '3.jpg']\n",
      "root:C://Users//Administrator//Desktop/WEB/笔记/Html5/实战练习\\assets\\京东轮播图\n",
      "[]\n",
      "['1.jpg', '2.jpg', '3.jpg', '4.jpg', '5.jpg', '6.jpg', '7.jpg', '8.jpg']\n",
      "root:C://Users//Administrator//Desktop/WEB/笔记/Html5/实战练习\\assets\\复仇者联盟\n",
      "[]\n",
      "['1.jpg', '2.jpg', '3.jpg', '4.jpg', '5.jpg', '6.jpg']\n",
      "root:C://Users//Administrator//Desktop/WEB/笔记/Html5/实战练习\\assets\\奔跑的少年\n",
      "[]\n",
      "['bg2.png']\n",
      "root:C://Users//Administrator//Desktop/WEB/笔记/Html5/实战练习\\assets\\奔跑的川普\n",
      "[]\n",
      "['trump_run.png']\n",
      "root:C://Users//Administrator//Desktop/WEB/笔记/Html5/实战练习\\assets\\淘宝导航\n",
      "[]\n",
      "['1.png', '10.png', '11.png', '12.png', '13.png', '14.png', '15.png', '16.png', '17.png', '18.png', '2.png', '3.png', '4.png', '5.png', '6.png', '7.png', '8.png', '9.png']\n",
      "root:C://Users//Administrator//Desktop/WEB/笔记/Html5/实战练习\\assets\\电影卡片\n",
      "[]\n",
      "['1.jpg', '1.psd']\n",
      "root:C://Users//Administrator//Desktop/WEB/笔记/Html5/实战练习\\assets\\移动端页面\n",
      "[]\n",
      "['avatar.png', 'banner.png', 'cover.png', 'psd.png']\n",
      "root:C://Users//Administrator//Desktop/WEB/笔记/Html5/实战练习\\assets\\米兔\n",
      "[]\n",
      "['bigtap-mitu-queue-big.png']\n",
      "root:C://Users//Administrator//Desktop/WEB/笔记/Html5/实战练习\\assets\\网易新闻列表\n",
      "[]\n",
      "['news.png']\n",
      "root:C://Users//Administrator//Desktop/WEB/笔记/Html5/实战练习\\assets\\背景\n",
      "['练习1-背景', '练习2-背景', '练习3-雪碧图']\n",
      "['dlam.png', '背景.png', '背景2.jpg']\n",
      "root:C://Users//Administrator//Desktop/WEB/笔记/Html5/实战练习\\assets\\背景\\练习1-背景\n",
      "[]\n",
      "['练习1-背景.png']\n",
      "root:C://Users//Administrator//Desktop/WEB/笔记/Html5/实战练习\\assets\\背景\\练习2-背景\n",
      "[]\n",
      "['active.png', 'hover.png', 'link.png']\n",
      "root:C://Users//Administrator//Desktop/WEB/笔记/Html5/实战练习\\assets\\背景\\练习3-雪碧图\n",
      "[]\n",
      "['amazon-sprite_.png', 'btn.png']\n",
      "root:C://Users//Administrator//Desktop/WEB/笔记/Html5/实战练习\\assets\\鸭子表\n",
      "[]\n",
      "['clock.png', 'clock_duck.jpg']\n",
      "root:C://Users//Administrator//Desktop/WEB/笔记/Html5/实战练习\\css\n",
      "[]\n",
      "['reset.css', 'style.css', 'style.css.map', 'style.less']\n",
      "root:C://Users//Administrator//Desktop/WEB/笔记/Html5/实战练习\\font\n",
      "['fontawesome']\n",
      "[]\n",
      "root:C://Users//Administrator//Desktop/WEB/笔记/Html5/实战练习\\font\\fontawesome\n",
      "['css', 'webfonts']\n",
      "[]\n",
      "root:C://Users//Administrator//Desktop/WEB/笔记/Html5/实战练习\\font\\fontawesome\\css\n",
      "[]\n",
      "['all.min.css']\n",
      "root:C://Users//Administrator//Desktop/WEB/笔记/Html5/实战练习\\font\\fontawesome\\webfonts\n",
      "[]\n",
      "['fa-brands-400.eot', 'fa-brands-400.svg', 'fa-brands-400.ttf', 'fa-brands-400.woff', 'fa-brands-400.woff2', 'fa-regular-400.eot', 'fa-regular-400.svg', 'fa-regular-400.ttf', 'fa-regular-400.woff', 'fa-regular-400.woff2', 'fa-solid-900.eot', 'fa-solid-900.svg', 'fa-solid-900.ttf', 'fa-solid-900.woff', 'fa-solid-900.woff2']\n",
      "root:C://Users//Administrator//Desktop/WEB/笔记/Html5/资料\n",
      "['img', 'psd', 'soft', '动画', '图片', '字体', '淘宝', '重置样式表', '音视频', '餐厅练习']\n",
      "[]\n",
      "root:C://Users//Administrator//Desktop/WEB/笔记/Html5/资料\\img\n",
      "['gif', 'img', 'jpg', 'png', 'webp', '动图']\n",
      "['base64.txt']\n",
      "root:C://Users//Administrator//Desktop/WEB/笔记/Html5/资料\\img\\gif\n",
      "[]\n",
      "['WWF.gif', 'WWF.jpg', 'WWF.png']\n",
      "root:C://Users//Administrator//Desktop/WEB/笔记/Html5/资料\\img\\img\n",
      "[]\n",
      "['1.gif', '2.gif']\n",
      "root:C://Users//Administrator//Desktop/WEB/笔记/Html5/资料\\img\\jpg\n",
      "[]\n",
      "['an.gif', 'an.jpg', 'an.png']\n",
      "root:C://Users//Administrator//Desktop/WEB/笔记/Html5/资料\\img\\png\n",
      "[]\n",
      "['w.gif', 'w.jpg', 'w.png']\n",
      "root:C://Users//Administrator//Desktop/WEB/笔记/Html5/资料\\img\\webp\n",
      "[]\n",
      "['an.webp', 'w.webp', 'WWF.webp']\n",
      "root:C://Users//Administrator//Desktop/WEB/笔记/Html5/资料\\img\\动图\n",
      "[]\n",
      "['1.gif', '1.webp', '2.gif', '2.webp']\n",
      "root:C://Users//Administrator//Desktop/WEB/笔记/Html5/资料\\psd\n",
      "[]\n",
      "['1.psd', '2.psd']\n",
      "root:C://Users//Administrator//Desktop/WEB/笔记/Html5/资料\\soft\n",
      "[]\n",
      "['notepad++软件自行百度下载.txt', 'ps软件自行百度下载.txt', 'VSCode软件自行百度下载 .txt', 'zeal软件自行百度下载.txt']\n",
      "root:C://Users//Administrator//Desktop/WEB/笔记/Html5/资料\\动画\n",
      "['复仇者']\n",
      "['1024px-Analogue_clock_face.svg.png', 'bg2.png', 'bg3.jpg', 'bigtap-mitu-queue-big.png', 'trump_run.png']\n",
      "root:C://Users//Administrator//Desktop/WEB/笔记/Html5/资料\\动画\\复仇者\n",
      "[]\n",
      "['1.jpg', '2.jpg', '3.jpg', '4.jpg', '5.jpg', '6.jpg']\n",
      "root:C://Users//Administrator//Desktop/WEB/笔记/Html5/资料\\图片\n",
      "['大黄猫', '按钮']\n",
      "['amazon-sprite_.png', 'free-monthly-calendares-smartsheete-psd-download-word-html-event-bootstrap.png', 'New design ui Screen.psd', 'Pinball - Grid Style Blog PSD - cssauthor.com.psd', 'ui_login.psd', 'verycd.png', '小米首屏.png']\n",
      "root:C://Users//Administrator//Desktop/WEB/笔记/Html5/资料\\图片\\大黄猫\n",
      "[]\n",
      "['dahuangmao-01.png', 'dahuangmao-02.png', 'dahuangmao-03.png', 'dahuangmao-04.png', 'dahuangmao-05.png', 'dahuangmao-06.png', 'dahuangmao-07.png', 'dahuangmao-08.png', 'dahuangmao-09.png', 'dahuangmao-10.png', 'dahuangmao-11.png', 'dahuangmao-12.png', 'dahuangmao-13.png', 'dahuangmao-14.png', 'dahuangmao-15.png', 'dahuangmao-16.png', 'dahuangmao-17.png', 'dahuangmao-18.png', 'dahuangmao-19.png']\n",
      "root:C://Users//Administrator//Desktop/WEB/笔记/Html5/资料\\图片\\按钮\n",
      "[]\n",
      "['active.png', 'btn.png', 'hover.png', 'link.png']\n",
      "root:C://Users//Administrator//Desktop/WEB/笔记/Html5/资料\\字体\n",
      "[]\n",
      "['fontawesome-free-5.10.2-web.zip', 'font_1407860_2y84u0r8ova.zip', 'ZCOOLKuaiLe-Regular.ttf', 'ZCOOLQingKeHuangYou-Regular.ttf', 'ZCOOLXiaoWei-Regular.ttf']\n",
      "root:C://Users//Administrator//Desktop/WEB/笔记/Html5/资料\\淘宝\n",
      "[]\n",
      "['1.png', '10.png', '2.png', '3.png', '4.png', '5.png', '6.png', '7.png', '8.png', '9.png']\n",
      "root:C://Users//Administrator//Desktop/WEB/笔记/Html5/资料\\重置样式表\n",
      "[]\n",
      "['normalize.css', 'reset.css']\n",
      "root:C://Users//Administrator//Desktop/WEB/笔记/Html5/资料\\音视频\n",
      "[]\n",
      "['audio.mp3', 'audio.ogg', 'flower.mp4', 'flower.webm']\n",
      "root:C://Users//Administrator//Desktop/WEB/笔记/Html5/资料\\餐厅练习\n",
      "[]\n",
      "['.gitignore', 'favicon.png', 'index.html', 'jquery.js', 'levels.js', 'LICENSE', 'README.md', 'restaurant.js', 'style.css', 'todo.txt']\n"
     ]
    }
   ],
   "source": [
    "import os\n",
    "path = 'C://Users//Administrator//Desktop/WEB/笔记/Html5/'\n",
    "# os.listdir(path)\n",
    "for root,dirs,files in os.walk(path):\n",
    "    print('root:'+root)\n",
    "    print(dirs)\n",
    "    print(files)"
   ]
  },
  {
   "cell_type": "code",
   "execution_count": 72,
   "id": "compressed-drunk",
   "metadata": {
    "collapsed": true
   },
   "outputs": [
    {
     "data": {
      "text/plain": [
       "['C://Users//Administrator//Desktop/WEB/笔记/Html5//README.md',\n",
       " 'C://Users//Administrator//Desktop/WEB/笔记/Html5/01-前端简介/README.md',\n",
       " 'C://Users//Administrator//Desktop/WEB/笔记/Html5/02-前端开发准备/README.md',\n",
       " 'C://Users//Administrator//Desktop/WEB/笔记/Html5/03-字符实体与语义标签/README.md',\n",
       " 'C://Users//Administrator//Desktop/WEB/笔记/Html5/04-CSS语法与选择器/README.md',\n",
       " 'C://Users//Administrator//Desktop/WEB/笔记/Html5/05-样式继承与其他概念/README.md',\n",
       " 'C://Users//Administrator//Desktop/WEB/笔记/Html5/06-盒模型/README.md',\n",
       " 'C://Users//Administrator//Desktop/WEB/笔记/Html5/07-实战练习/README.md',\n",
       " 'C://Users//Administrator//Desktop/WEB/笔记/Html5/08-盒模型补充及田径场实战/README.md',\n",
       " 'C://Users//Administrator//Desktop/WEB/笔记/Html5/09-浮动/README.md',\n",
       " 'C://Users//Administrator//Desktop/WEB/笔记/Html5/10-高度塌陷与BFC/README.md',\n",
       " 'C://Users//Administrator//Desktop/WEB/笔记/Html5/11-定位/README.md',\n",
       " 'C://Users//Administrator//Desktop/WEB/笔记/Html5/12-字体/README.md',\n",
       " 'C://Users//Administrator//Desktop/WEB/笔记/Html5/13-背景/README.md',\n",
       " 'C://Users//Administrator//Desktop/WEB/笔记/Html5/14-雪碧图与渐变/README.md',\n",
       " 'C://Users//Administrator//Desktop/WEB/笔记/Html5/15-表格/README.md',\n",
       " 'C://Users//Administrator//Desktop/WEB/笔记/Html5/16-过渡与动画/README.md',\n",
       " 'C://Users//Administrator//Desktop/WEB/笔记/Html5/17-变形：平移、旋转与缩放/README.md',\n",
       " 'C://Users//Administrator//Desktop/WEB/笔记/Html5/18-less简介/README.md',\n",
       " 'C://Users//Administrator//Desktop/WEB/笔记/Html5/19-弹性盒简介/README.md',\n",
       " 'C://Users//Administrator//Desktop/WEB/笔记/Html5/20-像素与视口/README.md',\n",
       " 'C://Users//Administrator//Desktop/WEB/笔记/Html5/21-媒体查询/README.md',\n",
       " 'C://Users//Administrator//Desktop/WEB/笔记/Html5/资料\\\\餐厅练习/README.md']"
      ]
     },
     "execution_count": 72,
     "metadata": {},
     "output_type": "execute_result"
    }
   ],
   "source": [
    "import os\n",
    "path = 'C://Users//Administrator//Desktop/WEB/笔记/Html5/'\n",
    "# os.listdir(path)\n",
    "md_link = []\n",
    "for root,dirs,files in os.walk(path):\n",
    "    if files == []:\n",
    "        continue\n",
    "    for file in files:\n",
    "        if re.findall('.md',file):\n",
    "            md_link.append(root+'/'+file)\n",
    "md_link"
   ]
  },
  {
   "cell_type": "code",
   "execution_count": 79,
   "id": "rocky-patient",
   "metadata": {
    "collapsed": true
   },
   "outputs": [
    {
     "name": "stdout",
     "output_type": "stream",
     "text": [
      "200\n",
      "done\n",
      "200\n",
      "done\n",
      "200\n",
      "done\n",
      "200\n",
      "done\n",
      "200\n",
      "done\n",
      "200\n",
      "done\n",
      "200\n",
      "done\n"
     ]
    },
    {
     "ename": "KeyboardInterrupt",
     "evalue": "",
     "output_type": "error",
     "traceback": [
      "\u001b[1;31m---------------------------------------------------------------------------\u001b[0m",
      "\u001b[1;31mKeyboardInterrupt\u001b[0m                         Traceback (most recent call last)",
      "\u001b[1;32m<ipython-input-79-736e43142ca1>\u001b[0m in \u001b[0;36m<module>\u001b[1;34m\u001b[0m\n\u001b[0;32m      1\u001b[0m \u001b[1;32mfrom\u001b[0m \u001b[0mrich\u001b[0m\u001b[1;33m.\u001b[0m\u001b[0mprogress\u001b[0m \u001b[1;32mimport\u001b[0m \u001b[0mtrack\u001b[0m\u001b[1;33m\u001b[0m\u001b[1;33m\u001b[0m\u001b[0m\n\u001b[0;32m      2\u001b[0m \u001b[1;32mfor\u001b[0m \u001b[0mlink\u001b[0m \u001b[1;32min\u001b[0m \u001b[0mmd_link\u001b[0m\u001b[1;33m:\u001b[0m\u001b[1;33m\u001b[0m\u001b[1;33m\u001b[0m\u001b[0m\n\u001b[1;32m----> 3\u001b[1;33m     \u001b[0mmd_img_download\u001b[0m\u001b[1;33m(\u001b[0m\u001b[0mfind_image_url\u001b[0m\u001b[1;33m(\u001b[0m\u001b[0mlink\u001b[0m\u001b[1;33m)\u001b[0m\u001b[1;33m)\u001b[0m\u001b[1;33m\u001b[0m\u001b[1;33m\u001b[0m\u001b[0m\n\u001b[0m",
      "\u001b[1;32m<ipython-input-62-0363bc1bf7b2>\u001b[0m in \u001b[0;36mmd_img_download\u001b[1;34m(link_ext)\u001b[0m\n\u001b[0;32m     24\u001b[0m     \u001b[1;32mfor\u001b[0m \u001b[0mlink\u001b[0m\u001b[1;33m,\u001b[0m\u001b[0mext\u001b[0m \u001b[1;32min\u001b[0m \u001b[0mzip\u001b[0m\u001b[1;33m(\u001b[0m\u001b[0mlink_ext\u001b[0m\u001b[1;33m[\u001b[0m\u001b[1;36m0\u001b[0m\u001b[1;33m]\u001b[0m\u001b[1;33m,\u001b[0m\u001b[0mlink_ext\u001b[0m\u001b[1;33m[\u001b[0m\u001b[1;36m1\u001b[0m\u001b[1;33m]\u001b[0m\u001b[1;33m)\u001b[0m\u001b[1;33m:\u001b[0m\u001b[1;33m\u001b[0m\u001b[1;33m\u001b[0m\u001b[0m\n\u001b[0;32m     25\u001b[0m         \u001b[0mnum\u001b[0m\u001b[1;33m+=\u001b[0m\u001b[1;36m1\u001b[0m\u001b[1;33m\u001b[0m\u001b[1;33m\u001b[0m\u001b[0m\n\u001b[1;32m---> 26\u001b[1;33m         \u001b[0mdownload_img\u001b[0m\u001b[1;33m(\u001b[0m\u001b[0mlink\u001b[0m\u001b[1;33m,\u001b[0m\u001b[0mstr\u001b[0m\u001b[1;33m(\u001b[0m\u001b[0mnum\u001b[0m\u001b[1;33m)\u001b[0m\u001b[1;33m+\u001b[0m\u001b[0mext\u001b[0m\u001b[1;33m)\u001b[0m\u001b[1;33m\u001b[0m\u001b[1;33m\u001b[0m\u001b[0m\n\u001b[0m",
      "\u001b[1;32m<ipython-input-62-0363bc1bf7b2>\u001b[0m in \u001b[0;36mdownload_img\u001b[1;34m(link, ext)\u001b[0m\n\u001b[0;32m     13\u001b[0m \u001b[1;33m\u001b[0m\u001b[0m\n\u001b[0;32m     14\u001b[0m \u001b[1;32mdef\u001b[0m \u001b[0mdownload_img\u001b[0m\u001b[1;33m(\u001b[0m\u001b[0mlink\u001b[0m\u001b[1;33m,\u001b[0m\u001b[0mext\u001b[0m\u001b[1;33m)\u001b[0m\u001b[1;33m:\u001b[0m\u001b[1;33m\u001b[0m\u001b[1;33m\u001b[0m\u001b[0m\n\u001b[1;32m---> 15\u001b[1;33m     \u001b[0mr\u001b[0m \u001b[1;33m=\u001b[0m \u001b[0mrequests\u001b[0m\u001b[1;33m.\u001b[0m\u001b[0mget\u001b[0m\u001b[1;33m(\u001b[0m\u001b[0mlink\u001b[0m\u001b[1;33m)\u001b[0m\u001b[1;33m\u001b[0m\u001b[1;33m\u001b[0m\u001b[0m\n\u001b[0m\u001b[0;32m     16\u001b[0m     \u001b[0mprint\u001b[0m\u001b[1;33m(\u001b[0m\u001b[0mr\u001b[0m\u001b[1;33m.\u001b[0m\u001b[0mstatus_code\u001b[0m\u001b[1;33m)\u001b[0m \u001b[1;31m# 返回状态码\u001b[0m\u001b[1;33m\u001b[0m\u001b[1;33m\u001b[0m\u001b[0m\n\u001b[0;32m     17\u001b[0m     \u001b[1;32mif\u001b[0m \u001b[0mr\u001b[0m\u001b[1;33m.\u001b[0m\u001b[0mstatus_code\u001b[0m \u001b[1;33m==\u001b[0m \u001b[1;36m200\u001b[0m\u001b[1;33m:\u001b[0m\u001b[1;33m\u001b[0m\u001b[1;33m\u001b[0m\u001b[0m\n",
      "\u001b[1;32mE:\\ANACONDA\\lib\\site-packages\\requests\\api.py\u001b[0m in \u001b[0;36mget\u001b[1;34m(url, params, **kwargs)\u001b[0m\n\u001b[0;32m     74\u001b[0m \u001b[1;33m\u001b[0m\u001b[0m\n\u001b[0;32m     75\u001b[0m     \u001b[0mkwargs\u001b[0m\u001b[1;33m.\u001b[0m\u001b[0msetdefault\u001b[0m\u001b[1;33m(\u001b[0m\u001b[1;34m'allow_redirects'\u001b[0m\u001b[1;33m,\u001b[0m \u001b[1;32mTrue\u001b[0m\u001b[1;33m)\u001b[0m\u001b[1;33m\u001b[0m\u001b[1;33m\u001b[0m\u001b[0m\n\u001b[1;32m---> 76\u001b[1;33m     \u001b[1;32mreturn\u001b[0m \u001b[0mrequest\u001b[0m\u001b[1;33m(\u001b[0m\u001b[1;34m'get'\u001b[0m\u001b[1;33m,\u001b[0m \u001b[0murl\u001b[0m\u001b[1;33m,\u001b[0m \u001b[0mparams\u001b[0m\u001b[1;33m=\u001b[0m\u001b[0mparams\u001b[0m\u001b[1;33m,\u001b[0m \u001b[1;33m**\u001b[0m\u001b[0mkwargs\u001b[0m\u001b[1;33m)\u001b[0m\u001b[1;33m\u001b[0m\u001b[1;33m\u001b[0m\u001b[0m\n\u001b[0m\u001b[0;32m     77\u001b[0m \u001b[1;33m\u001b[0m\u001b[0m\n\u001b[0;32m     78\u001b[0m \u001b[1;33m\u001b[0m\u001b[0m\n",
      "\u001b[1;32mE:\\ANACONDA\\lib\\site-packages\\requests\\api.py\u001b[0m in \u001b[0;36mrequest\u001b[1;34m(method, url, **kwargs)\u001b[0m\n\u001b[0;32m     59\u001b[0m     \u001b[1;31m# cases, and look like a memory leak in others.\u001b[0m\u001b[1;33m\u001b[0m\u001b[1;33m\u001b[0m\u001b[1;33m\u001b[0m\u001b[0m\n\u001b[0;32m     60\u001b[0m     \u001b[1;32mwith\u001b[0m \u001b[0msessions\u001b[0m\u001b[1;33m.\u001b[0m\u001b[0mSession\u001b[0m\u001b[1;33m(\u001b[0m\u001b[1;33m)\u001b[0m \u001b[1;32mas\u001b[0m \u001b[0msession\u001b[0m\u001b[1;33m:\u001b[0m\u001b[1;33m\u001b[0m\u001b[1;33m\u001b[0m\u001b[0m\n\u001b[1;32m---> 61\u001b[1;33m         \u001b[1;32mreturn\u001b[0m \u001b[0msession\u001b[0m\u001b[1;33m.\u001b[0m\u001b[0mrequest\u001b[0m\u001b[1;33m(\u001b[0m\u001b[0mmethod\u001b[0m\u001b[1;33m=\u001b[0m\u001b[0mmethod\u001b[0m\u001b[1;33m,\u001b[0m \u001b[0murl\u001b[0m\u001b[1;33m=\u001b[0m\u001b[0murl\u001b[0m\u001b[1;33m,\u001b[0m \u001b[1;33m**\u001b[0m\u001b[0mkwargs\u001b[0m\u001b[1;33m)\u001b[0m\u001b[1;33m\u001b[0m\u001b[1;33m\u001b[0m\u001b[0m\n\u001b[0m\u001b[0;32m     62\u001b[0m \u001b[1;33m\u001b[0m\u001b[0m\n\u001b[0;32m     63\u001b[0m \u001b[1;33m\u001b[0m\u001b[0m\n",
      "\u001b[1;32mE:\\ANACONDA\\lib\\site-packages\\requests\\sessions.py\u001b[0m in \u001b[0;36mrequest\u001b[1;34m(self, method, url, params, data, headers, cookies, files, auth, timeout, allow_redirects, proxies, hooks, stream, verify, cert, json)\u001b[0m\n\u001b[0;32m    540\u001b[0m         }\n\u001b[0;32m    541\u001b[0m         \u001b[0msend_kwargs\u001b[0m\u001b[1;33m.\u001b[0m\u001b[0mupdate\u001b[0m\u001b[1;33m(\u001b[0m\u001b[0msettings\u001b[0m\u001b[1;33m)\u001b[0m\u001b[1;33m\u001b[0m\u001b[1;33m\u001b[0m\u001b[0m\n\u001b[1;32m--> 542\u001b[1;33m         \u001b[0mresp\u001b[0m \u001b[1;33m=\u001b[0m \u001b[0mself\u001b[0m\u001b[1;33m.\u001b[0m\u001b[0msend\u001b[0m\u001b[1;33m(\u001b[0m\u001b[0mprep\u001b[0m\u001b[1;33m,\u001b[0m \u001b[1;33m**\u001b[0m\u001b[0msend_kwargs\u001b[0m\u001b[1;33m)\u001b[0m\u001b[1;33m\u001b[0m\u001b[1;33m\u001b[0m\u001b[0m\n\u001b[0m\u001b[0;32m    543\u001b[0m \u001b[1;33m\u001b[0m\u001b[0m\n\u001b[0;32m    544\u001b[0m         \u001b[1;32mreturn\u001b[0m \u001b[0mresp\u001b[0m\u001b[1;33m\u001b[0m\u001b[1;33m\u001b[0m\u001b[0m\n",
      "\u001b[1;32mE:\\ANACONDA\\lib\\site-packages\\requests\\sessions.py\u001b[0m in \u001b[0;36msend\u001b[1;34m(self, request, **kwargs)\u001b[0m\n\u001b[0;32m    653\u001b[0m \u001b[1;33m\u001b[0m\u001b[0m\n\u001b[0;32m    654\u001b[0m         \u001b[1;31m# Send the request\u001b[0m\u001b[1;33m\u001b[0m\u001b[1;33m\u001b[0m\u001b[1;33m\u001b[0m\u001b[0m\n\u001b[1;32m--> 655\u001b[1;33m         \u001b[0mr\u001b[0m \u001b[1;33m=\u001b[0m \u001b[0madapter\u001b[0m\u001b[1;33m.\u001b[0m\u001b[0msend\u001b[0m\u001b[1;33m(\u001b[0m\u001b[0mrequest\u001b[0m\u001b[1;33m,\u001b[0m \u001b[1;33m**\u001b[0m\u001b[0mkwargs\u001b[0m\u001b[1;33m)\u001b[0m\u001b[1;33m\u001b[0m\u001b[1;33m\u001b[0m\u001b[0m\n\u001b[0m\u001b[0;32m    656\u001b[0m \u001b[1;33m\u001b[0m\u001b[0m\n\u001b[0;32m    657\u001b[0m         \u001b[1;31m# Total elapsed time of the request (approximately)\u001b[0m\u001b[1;33m\u001b[0m\u001b[1;33m\u001b[0m\u001b[1;33m\u001b[0m\u001b[0m\n",
      "\u001b[1;32mE:\\ANACONDA\\lib\\site-packages\\requests\\adapters.py\u001b[0m in \u001b[0;36msend\u001b[1;34m(self, request, stream, timeout, verify, cert, proxies)\u001b[0m\n\u001b[0;32m    437\u001b[0m         \u001b[1;32mtry\u001b[0m\u001b[1;33m:\u001b[0m\u001b[1;33m\u001b[0m\u001b[1;33m\u001b[0m\u001b[0m\n\u001b[0;32m    438\u001b[0m             \u001b[1;32mif\u001b[0m \u001b[1;32mnot\u001b[0m \u001b[0mchunked\u001b[0m\u001b[1;33m:\u001b[0m\u001b[1;33m\u001b[0m\u001b[1;33m\u001b[0m\u001b[0m\n\u001b[1;32m--> 439\u001b[1;33m                 resp = conn.urlopen(\n\u001b[0m\u001b[0;32m    440\u001b[0m                     \u001b[0mmethod\u001b[0m\u001b[1;33m=\u001b[0m\u001b[0mrequest\u001b[0m\u001b[1;33m.\u001b[0m\u001b[0mmethod\u001b[0m\u001b[1;33m,\u001b[0m\u001b[1;33m\u001b[0m\u001b[1;33m\u001b[0m\u001b[0m\n\u001b[0;32m    441\u001b[0m                     \u001b[0murl\u001b[0m\u001b[1;33m=\u001b[0m\u001b[0murl\u001b[0m\u001b[1;33m,\u001b[0m\u001b[1;33m\u001b[0m\u001b[1;33m\u001b[0m\u001b[0m\n",
      "\u001b[1;32mE:\\ANACONDA\\lib\\site-packages\\urllib3\\connectionpool.py\u001b[0m in \u001b[0;36murlopen\u001b[1;34m(self, method, url, body, headers, retries, redirect, assert_same_host, timeout, pool_timeout, release_conn, chunked, body_pos, **response_kw)\u001b[0m\n\u001b[0;32m    697\u001b[0m \u001b[1;33m\u001b[0m\u001b[0m\n\u001b[0;32m    698\u001b[0m             \u001b[1;31m# Make the request on the httplib connection object.\u001b[0m\u001b[1;33m\u001b[0m\u001b[1;33m\u001b[0m\u001b[1;33m\u001b[0m\u001b[0m\n\u001b[1;32m--> 699\u001b[1;33m             httplib_response = self._make_request(\n\u001b[0m\u001b[0;32m    700\u001b[0m                 \u001b[0mconn\u001b[0m\u001b[1;33m,\u001b[0m\u001b[1;33m\u001b[0m\u001b[1;33m\u001b[0m\u001b[0m\n\u001b[0;32m    701\u001b[0m                 \u001b[0mmethod\u001b[0m\u001b[1;33m,\u001b[0m\u001b[1;33m\u001b[0m\u001b[1;33m\u001b[0m\u001b[0m\n",
      "\u001b[1;32mE:\\ANACONDA\\lib\\site-packages\\urllib3\\connectionpool.py\u001b[0m in \u001b[0;36m_make_request\u001b[1;34m(self, conn, method, url, timeout, chunked, **httplib_request_kw)\u001b[0m\n\u001b[0;32m    443\u001b[0m                     \u001b[1;31m# Python 3 (including for exceptions like SystemExit).\u001b[0m\u001b[1;33m\u001b[0m\u001b[1;33m\u001b[0m\u001b[1;33m\u001b[0m\u001b[0m\n\u001b[0;32m    444\u001b[0m                     \u001b[1;31m# Otherwise it looks like a bug in the code.\u001b[0m\u001b[1;33m\u001b[0m\u001b[1;33m\u001b[0m\u001b[1;33m\u001b[0m\u001b[0m\n\u001b[1;32m--> 445\u001b[1;33m                     \u001b[0msix\u001b[0m\u001b[1;33m.\u001b[0m\u001b[0mraise_from\u001b[0m\u001b[1;33m(\u001b[0m\u001b[0me\u001b[0m\u001b[1;33m,\u001b[0m \u001b[1;32mNone\u001b[0m\u001b[1;33m)\u001b[0m\u001b[1;33m\u001b[0m\u001b[1;33m\u001b[0m\u001b[0m\n\u001b[0m\u001b[0;32m    446\u001b[0m         \u001b[1;32mexcept\u001b[0m \u001b[1;33m(\u001b[0m\u001b[0mSocketTimeout\u001b[0m\u001b[1;33m,\u001b[0m \u001b[0mBaseSSLError\u001b[0m\u001b[1;33m,\u001b[0m \u001b[0mSocketError\u001b[0m\u001b[1;33m)\u001b[0m \u001b[1;32mas\u001b[0m \u001b[0me\u001b[0m\u001b[1;33m:\u001b[0m\u001b[1;33m\u001b[0m\u001b[1;33m\u001b[0m\u001b[0m\n\u001b[0;32m    447\u001b[0m             \u001b[0mself\u001b[0m\u001b[1;33m.\u001b[0m\u001b[0m_raise_timeout\u001b[0m\u001b[1;33m(\u001b[0m\u001b[0merr\u001b[0m\u001b[1;33m=\u001b[0m\u001b[0me\u001b[0m\u001b[1;33m,\u001b[0m \u001b[0murl\u001b[0m\u001b[1;33m=\u001b[0m\u001b[0murl\u001b[0m\u001b[1;33m,\u001b[0m \u001b[0mtimeout_value\u001b[0m\u001b[1;33m=\u001b[0m\u001b[0mread_timeout\u001b[0m\u001b[1;33m)\u001b[0m\u001b[1;33m\u001b[0m\u001b[1;33m\u001b[0m\u001b[0m\n",
      "\u001b[1;32mE:\\ANACONDA\\lib\\site-packages\\urllib3\\packages\\six.py\u001b[0m in \u001b[0;36mraise_from\u001b[1;34m(value, from_value)\u001b[0m\n",
      "\u001b[1;32mE:\\ANACONDA\\lib\\site-packages\\urllib3\\connectionpool.py\u001b[0m in \u001b[0;36m_make_request\u001b[1;34m(self, conn, method, url, timeout, chunked, **httplib_request_kw)\u001b[0m\n\u001b[0;32m    438\u001b[0m                 \u001b[1;31m# Python 3\u001b[0m\u001b[1;33m\u001b[0m\u001b[1;33m\u001b[0m\u001b[1;33m\u001b[0m\u001b[0m\n\u001b[0;32m    439\u001b[0m                 \u001b[1;32mtry\u001b[0m\u001b[1;33m:\u001b[0m\u001b[1;33m\u001b[0m\u001b[1;33m\u001b[0m\u001b[0m\n\u001b[1;32m--> 440\u001b[1;33m                     \u001b[0mhttplib_response\u001b[0m \u001b[1;33m=\u001b[0m \u001b[0mconn\u001b[0m\u001b[1;33m.\u001b[0m\u001b[0mgetresponse\u001b[0m\u001b[1;33m(\u001b[0m\u001b[1;33m)\u001b[0m\u001b[1;33m\u001b[0m\u001b[1;33m\u001b[0m\u001b[0m\n\u001b[0m\u001b[0;32m    441\u001b[0m                 \u001b[1;32mexcept\u001b[0m \u001b[0mBaseException\u001b[0m \u001b[1;32mas\u001b[0m \u001b[0me\u001b[0m\u001b[1;33m:\u001b[0m\u001b[1;33m\u001b[0m\u001b[1;33m\u001b[0m\u001b[0m\n\u001b[0;32m    442\u001b[0m                     \u001b[1;31m# Remove the TypeError from the exception chain in\u001b[0m\u001b[1;33m\u001b[0m\u001b[1;33m\u001b[0m\u001b[1;33m\u001b[0m\u001b[0m\n",
      "\u001b[1;32mE:\\ANACONDA\\lib\\http\\client.py\u001b[0m in \u001b[0;36mgetresponse\u001b[1;34m(self)\u001b[0m\n\u001b[0;32m   1345\u001b[0m         \u001b[1;32mtry\u001b[0m\u001b[1;33m:\u001b[0m\u001b[1;33m\u001b[0m\u001b[1;33m\u001b[0m\u001b[0m\n\u001b[0;32m   1346\u001b[0m             \u001b[1;32mtry\u001b[0m\u001b[1;33m:\u001b[0m\u001b[1;33m\u001b[0m\u001b[1;33m\u001b[0m\u001b[0m\n\u001b[1;32m-> 1347\u001b[1;33m                 \u001b[0mresponse\u001b[0m\u001b[1;33m.\u001b[0m\u001b[0mbegin\u001b[0m\u001b[1;33m(\u001b[0m\u001b[1;33m)\u001b[0m\u001b[1;33m\u001b[0m\u001b[1;33m\u001b[0m\u001b[0m\n\u001b[0m\u001b[0;32m   1348\u001b[0m             \u001b[1;32mexcept\u001b[0m \u001b[0mConnectionError\u001b[0m\u001b[1;33m:\u001b[0m\u001b[1;33m\u001b[0m\u001b[1;33m\u001b[0m\u001b[0m\n\u001b[0;32m   1349\u001b[0m                 \u001b[0mself\u001b[0m\u001b[1;33m.\u001b[0m\u001b[0mclose\u001b[0m\u001b[1;33m(\u001b[0m\u001b[1;33m)\u001b[0m\u001b[1;33m\u001b[0m\u001b[1;33m\u001b[0m\u001b[0m\n",
      "\u001b[1;32mE:\\ANACONDA\\lib\\http\\client.py\u001b[0m in \u001b[0;36mbegin\u001b[1;34m(self)\u001b[0m\n\u001b[0;32m    305\u001b[0m         \u001b[1;31m# read until we get a non-100 response\u001b[0m\u001b[1;33m\u001b[0m\u001b[1;33m\u001b[0m\u001b[1;33m\u001b[0m\u001b[0m\n\u001b[0;32m    306\u001b[0m         \u001b[1;32mwhile\u001b[0m \u001b[1;32mTrue\u001b[0m\u001b[1;33m:\u001b[0m\u001b[1;33m\u001b[0m\u001b[1;33m\u001b[0m\u001b[0m\n\u001b[1;32m--> 307\u001b[1;33m             \u001b[0mversion\u001b[0m\u001b[1;33m,\u001b[0m \u001b[0mstatus\u001b[0m\u001b[1;33m,\u001b[0m \u001b[0mreason\u001b[0m \u001b[1;33m=\u001b[0m \u001b[0mself\u001b[0m\u001b[1;33m.\u001b[0m\u001b[0m_read_status\u001b[0m\u001b[1;33m(\u001b[0m\u001b[1;33m)\u001b[0m\u001b[1;33m\u001b[0m\u001b[1;33m\u001b[0m\u001b[0m\n\u001b[0m\u001b[0;32m    308\u001b[0m             \u001b[1;32mif\u001b[0m \u001b[0mstatus\u001b[0m \u001b[1;33m!=\u001b[0m \u001b[0mCONTINUE\u001b[0m\u001b[1;33m:\u001b[0m\u001b[1;33m\u001b[0m\u001b[1;33m\u001b[0m\u001b[0m\n\u001b[0;32m    309\u001b[0m                 \u001b[1;32mbreak\u001b[0m\u001b[1;33m\u001b[0m\u001b[1;33m\u001b[0m\u001b[0m\n",
      "\u001b[1;32mE:\\ANACONDA\\lib\\http\\client.py\u001b[0m in \u001b[0;36m_read_status\u001b[1;34m(self)\u001b[0m\n\u001b[0;32m    266\u001b[0m \u001b[1;33m\u001b[0m\u001b[0m\n\u001b[0;32m    267\u001b[0m     \u001b[1;32mdef\u001b[0m \u001b[0m_read_status\u001b[0m\u001b[1;33m(\u001b[0m\u001b[0mself\u001b[0m\u001b[1;33m)\u001b[0m\u001b[1;33m:\u001b[0m\u001b[1;33m\u001b[0m\u001b[1;33m\u001b[0m\u001b[0m\n\u001b[1;32m--> 268\u001b[1;33m         \u001b[0mline\u001b[0m \u001b[1;33m=\u001b[0m \u001b[0mstr\u001b[0m\u001b[1;33m(\u001b[0m\u001b[0mself\u001b[0m\u001b[1;33m.\u001b[0m\u001b[0mfp\u001b[0m\u001b[1;33m.\u001b[0m\u001b[0mreadline\u001b[0m\u001b[1;33m(\u001b[0m\u001b[0m_MAXLINE\u001b[0m \u001b[1;33m+\u001b[0m \u001b[1;36m1\u001b[0m\u001b[1;33m)\u001b[0m\u001b[1;33m,\u001b[0m \u001b[1;34m\"iso-8859-1\"\u001b[0m\u001b[1;33m)\u001b[0m\u001b[1;33m\u001b[0m\u001b[1;33m\u001b[0m\u001b[0m\n\u001b[0m\u001b[0;32m    269\u001b[0m         \u001b[1;32mif\u001b[0m \u001b[0mlen\u001b[0m\u001b[1;33m(\u001b[0m\u001b[0mline\u001b[0m\u001b[1;33m)\u001b[0m \u001b[1;33m>\u001b[0m \u001b[0m_MAXLINE\u001b[0m\u001b[1;33m:\u001b[0m\u001b[1;33m\u001b[0m\u001b[1;33m\u001b[0m\u001b[0m\n\u001b[0;32m    270\u001b[0m             \u001b[1;32mraise\u001b[0m \u001b[0mLineTooLong\u001b[0m\u001b[1;33m(\u001b[0m\u001b[1;34m\"status line\"\u001b[0m\u001b[1;33m)\u001b[0m\u001b[1;33m\u001b[0m\u001b[1;33m\u001b[0m\u001b[0m\n",
      "\u001b[1;32mE:\\ANACONDA\\lib\\socket.py\u001b[0m in \u001b[0;36mreadinto\u001b[1;34m(self, b)\u001b[0m\n\u001b[0;32m    667\u001b[0m         \u001b[1;32mwhile\u001b[0m \u001b[1;32mTrue\u001b[0m\u001b[1;33m:\u001b[0m\u001b[1;33m\u001b[0m\u001b[1;33m\u001b[0m\u001b[0m\n\u001b[0;32m    668\u001b[0m             \u001b[1;32mtry\u001b[0m\u001b[1;33m:\u001b[0m\u001b[1;33m\u001b[0m\u001b[1;33m\u001b[0m\u001b[0m\n\u001b[1;32m--> 669\u001b[1;33m                 \u001b[1;32mreturn\u001b[0m \u001b[0mself\u001b[0m\u001b[1;33m.\u001b[0m\u001b[0m_sock\u001b[0m\u001b[1;33m.\u001b[0m\u001b[0mrecv_into\u001b[0m\u001b[1;33m(\u001b[0m\u001b[0mb\u001b[0m\u001b[1;33m)\u001b[0m\u001b[1;33m\u001b[0m\u001b[1;33m\u001b[0m\u001b[0m\n\u001b[0m\u001b[0;32m    670\u001b[0m             \u001b[1;32mexcept\u001b[0m \u001b[0mtimeout\u001b[0m\u001b[1;33m:\u001b[0m\u001b[1;33m\u001b[0m\u001b[1;33m\u001b[0m\u001b[0m\n\u001b[0;32m    671\u001b[0m                 \u001b[0mself\u001b[0m\u001b[1;33m.\u001b[0m\u001b[0m_timeout_occurred\u001b[0m \u001b[1;33m=\u001b[0m \u001b[1;32mTrue\u001b[0m\u001b[1;33m\u001b[0m\u001b[1;33m\u001b[0m\u001b[0m\n",
      "\u001b[1;32mE:\\ANACONDA\\lib\\ssl.py\u001b[0m in \u001b[0;36mrecv_into\u001b[1;34m(self, buffer, nbytes, flags)\u001b[0m\n\u001b[0;32m   1239\u001b[0m                   \u001b[1;34m\"non-zero flags not allowed in calls to recv_into() on %s\"\u001b[0m \u001b[1;33m%\u001b[0m\u001b[1;33m\u001b[0m\u001b[1;33m\u001b[0m\u001b[0m\n\u001b[0;32m   1240\u001b[0m                   self.__class__)\n\u001b[1;32m-> 1241\u001b[1;33m             \u001b[1;32mreturn\u001b[0m \u001b[0mself\u001b[0m\u001b[1;33m.\u001b[0m\u001b[0mread\u001b[0m\u001b[1;33m(\u001b[0m\u001b[0mnbytes\u001b[0m\u001b[1;33m,\u001b[0m \u001b[0mbuffer\u001b[0m\u001b[1;33m)\u001b[0m\u001b[1;33m\u001b[0m\u001b[1;33m\u001b[0m\u001b[0m\n\u001b[0m\u001b[0;32m   1242\u001b[0m         \u001b[1;32melse\u001b[0m\u001b[1;33m:\u001b[0m\u001b[1;33m\u001b[0m\u001b[1;33m\u001b[0m\u001b[0m\n\u001b[0;32m   1243\u001b[0m             \u001b[1;32mreturn\u001b[0m \u001b[0msuper\u001b[0m\u001b[1;33m(\u001b[0m\u001b[1;33m)\u001b[0m\u001b[1;33m.\u001b[0m\u001b[0mrecv_into\u001b[0m\u001b[1;33m(\u001b[0m\u001b[0mbuffer\u001b[0m\u001b[1;33m,\u001b[0m \u001b[0mnbytes\u001b[0m\u001b[1;33m,\u001b[0m \u001b[0mflags\u001b[0m\u001b[1;33m)\u001b[0m\u001b[1;33m\u001b[0m\u001b[1;33m\u001b[0m\u001b[0m\n",
      "\u001b[1;32mE:\\ANACONDA\\lib\\ssl.py\u001b[0m in \u001b[0;36mread\u001b[1;34m(self, len, buffer)\u001b[0m\n\u001b[0;32m   1097\u001b[0m         \u001b[1;32mtry\u001b[0m\u001b[1;33m:\u001b[0m\u001b[1;33m\u001b[0m\u001b[1;33m\u001b[0m\u001b[0m\n\u001b[0;32m   1098\u001b[0m             \u001b[1;32mif\u001b[0m \u001b[0mbuffer\u001b[0m \u001b[1;32mis\u001b[0m \u001b[1;32mnot\u001b[0m \u001b[1;32mNone\u001b[0m\u001b[1;33m:\u001b[0m\u001b[1;33m\u001b[0m\u001b[1;33m\u001b[0m\u001b[0m\n\u001b[1;32m-> 1099\u001b[1;33m                 \u001b[1;32mreturn\u001b[0m \u001b[0mself\u001b[0m\u001b[1;33m.\u001b[0m\u001b[0m_sslobj\u001b[0m\u001b[1;33m.\u001b[0m\u001b[0mread\u001b[0m\u001b[1;33m(\u001b[0m\u001b[0mlen\u001b[0m\u001b[1;33m,\u001b[0m \u001b[0mbuffer\u001b[0m\u001b[1;33m)\u001b[0m\u001b[1;33m\u001b[0m\u001b[1;33m\u001b[0m\u001b[0m\n\u001b[0m\u001b[0;32m   1100\u001b[0m             \u001b[1;32melse\u001b[0m\u001b[1;33m:\u001b[0m\u001b[1;33m\u001b[0m\u001b[1;33m\u001b[0m\u001b[0m\n\u001b[0;32m   1101\u001b[0m                 \u001b[1;32mreturn\u001b[0m \u001b[0mself\u001b[0m\u001b[1;33m.\u001b[0m\u001b[0m_sslobj\u001b[0m\u001b[1;33m.\u001b[0m\u001b[0mread\u001b[0m\u001b[1;33m(\u001b[0m\u001b[0mlen\u001b[0m\u001b[1;33m)\u001b[0m\u001b[1;33m\u001b[0m\u001b[1;33m\u001b[0m\u001b[0m\n",
      "\u001b[1;31mKeyboardInterrupt\u001b[0m: "
     ]
    }
   ],
   "source": [
    "from rich.progress import track\n",
    "for link in md_link:\n",
    "    md_img_download(find_image_url(link))"
   ]
  },
  {
   "cell_type": "markdown",
   "id": "transparent-spring",
   "metadata": {},
   "source": [
    "使用进度条"
   ]
  },
  {
   "cell_type": "code",
   "execution_count": 80,
   "id": "filled-republican",
   "metadata": {
    "collapsed": true
   },
   "outputs": [
    {
     "data": {
      "application/vnd.jupyter.widget-view+json": {
       "model_id": "d3640a0e657542c3947b0b4b4619aa6d",
       "version_major": 2,
       "version_minor": 0
      },
      "text/plain": [
       "Output()"
      ]
     },
     "metadata": {},
     "output_type": "display_data"
    },
    {
     "name": "stdout",
     "output_type": "stream",
     "text": [
      "200\n",
      "done\n",
      "200\n",
      "done\n",
      "200\n",
      "done\n",
      "200\n",
      "done\n",
      "200\n",
      "done\n",
      "200\n",
      "done\n",
      "200\n",
      "done\n",
      "200\n",
      "done\n",
      "200\n",
      "done\n",
      "200\n",
      "done\n",
      "200\n",
      "done\n"
     ]
    },
    {
     "ename": "KeyboardInterrupt",
     "evalue": "",
     "output_type": "error",
     "traceback": [
      "\u001b[1;31m---------------------------------------------------------------------------\u001b[0m",
      "\u001b[1;31mKeyboardInterrupt\u001b[0m                         Traceback (most recent call last)",
      "\u001b[1;32m<ipython-input-80-557e9a8e95c0>\u001b[0m in \u001b[0;36m<module>\u001b[1;34m\u001b[0m\n\u001b[0;32m      1\u001b[0m \u001b[1;32mfrom\u001b[0m \u001b[0mrich\u001b[0m\u001b[1;33m.\u001b[0m\u001b[0mprogress\u001b[0m \u001b[1;32mimport\u001b[0m \u001b[0mtrack\u001b[0m\u001b[1;33m\u001b[0m\u001b[1;33m\u001b[0m\u001b[0m\n\u001b[0;32m      2\u001b[0m \u001b[1;32mfor\u001b[0m \u001b[0mindex\u001b[0m \u001b[1;32min\u001b[0m \u001b[0mtrack\u001b[0m\u001b[1;33m(\u001b[0m\u001b[0mrange\u001b[0m\u001b[1;33m(\u001b[0m\u001b[0mlen\u001b[0m\u001b[1;33m(\u001b[0m\u001b[0mmd_link\u001b[0m\u001b[1;33m)\u001b[0m\u001b[1;33m)\u001b[0m\u001b[1;33m)\u001b[0m\u001b[1;33m:\u001b[0m\u001b[1;33m\u001b[0m\u001b[1;33m\u001b[0m\u001b[0m\n\u001b[1;32m----> 3\u001b[1;33m     \u001b[0mmd_img_download\u001b[0m\u001b[1;33m(\u001b[0m\u001b[0mfind_image_url\u001b[0m\u001b[1;33m(\u001b[0m\u001b[0mmd_link\u001b[0m\u001b[1;33m[\u001b[0m\u001b[0mindex\u001b[0m\u001b[1;33m]\u001b[0m\u001b[1;33m)\u001b[0m\u001b[1;33m)\u001b[0m\u001b[1;33m\u001b[0m\u001b[1;33m\u001b[0m\u001b[0m\n\u001b[0m",
      "\u001b[1;32m<ipython-input-62-0363bc1bf7b2>\u001b[0m in \u001b[0;36mmd_img_download\u001b[1;34m(link_ext)\u001b[0m\n\u001b[0;32m     24\u001b[0m     \u001b[1;32mfor\u001b[0m \u001b[0mlink\u001b[0m\u001b[1;33m,\u001b[0m\u001b[0mext\u001b[0m \u001b[1;32min\u001b[0m \u001b[0mzip\u001b[0m\u001b[1;33m(\u001b[0m\u001b[0mlink_ext\u001b[0m\u001b[1;33m[\u001b[0m\u001b[1;36m0\u001b[0m\u001b[1;33m]\u001b[0m\u001b[1;33m,\u001b[0m\u001b[0mlink_ext\u001b[0m\u001b[1;33m[\u001b[0m\u001b[1;36m1\u001b[0m\u001b[1;33m]\u001b[0m\u001b[1;33m)\u001b[0m\u001b[1;33m:\u001b[0m\u001b[1;33m\u001b[0m\u001b[1;33m\u001b[0m\u001b[0m\n\u001b[0;32m     25\u001b[0m         \u001b[0mnum\u001b[0m\u001b[1;33m+=\u001b[0m\u001b[1;36m1\u001b[0m\u001b[1;33m\u001b[0m\u001b[1;33m\u001b[0m\u001b[0m\n\u001b[1;32m---> 26\u001b[1;33m         \u001b[0mdownload_img\u001b[0m\u001b[1;33m(\u001b[0m\u001b[0mlink\u001b[0m\u001b[1;33m,\u001b[0m\u001b[0mstr\u001b[0m\u001b[1;33m(\u001b[0m\u001b[0mnum\u001b[0m\u001b[1;33m)\u001b[0m\u001b[1;33m+\u001b[0m\u001b[0mext\u001b[0m\u001b[1;33m)\u001b[0m\u001b[1;33m\u001b[0m\u001b[1;33m\u001b[0m\u001b[0m\n\u001b[0m",
      "\u001b[1;32m<ipython-input-62-0363bc1bf7b2>\u001b[0m in \u001b[0;36mdownload_img\u001b[1;34m(link, ext)\u001b[0m\n\u001b[0;32m     13\u001b[0m \u001b[1;33m\u001b[0m\u001b[0m\n\u001b[0;32m     14\u001b[0m \u001b[1;32mdef\u001b[0m \u001b[0mdownload_img\u001b[0m\u001b[1;33m(\u001b[0m\u001b[0mlink\u001b[0m\u001b[1;33m,\u001b[0m\u001b[0mext\u001b[0m\u001b[1;33m)\u001b[0m\u001b[1;33m:\u001b[0m\u001b[1;33m\u001b[0m\u001b[1;33m\u001b[0m\u001b[0m\n\u001b[1;32m---> 15\u001b[1;33m     \u001b[0mr\u001b[0m \u001b[1;33m=\u001b[0m \u001b[0mrequests\u001b[0m\u001b[1;33m.\u001b[0m\u001b[0mget\u001b[0m\u001b[1;33m(\u001b[0m\u001b[0mlink\u001b[0m\u001b[1;33m)\u001b[0m\u001b[1;33m\u001b[0m\u001b[1;33m\u001b[0m\u001b[0m\n\u001b[0m\u001b[0;32m     16\u001b[0m     \u001b[0mprint\u001b[0m\u001b[1;33m(\u001b[0m\u001b[0mr\u001b[0m\u001b[1;33m.\u001b[0m\u001b[0mstatus_code\u001b[0m\u001b[1;33m)\u001b[0m \u001b[1;31m# 返回状态码\u001b[0m\u001b[1;33m\u001b[0m\u001b[1;33m\u001b[0m\u001b[0m\n\u001b[0;32m     17\u001b[0m     \u001b[1;32mif\u001b[0m \u001b[0mr\u001b[0m\u001b[1;33m.\u001b[0m\u001b[0mstatus_code\u001b[0m \u001b[1;33m==\u001b[0m \u001b[1;36m200\u001b[0m\u001b[1;33m:\u001b[0m\u001b[1;33m\u001b[0m\u001b[1;33m\u001b[0m\u001b[0m\n",
      "\u001b[1;32mE:\\ANACONDA\\lib\\site-packages\\requests\\api.py\u001b[0m in \u001b[0;36mget\u001b[1;34m(url, params, **kwargs)\u001b[0m\n\u001b[0;32m     74\u001b[0m \u001b[1;33m\u001b[0m\u001b[0m\n\u001b[0;32m     75\u001b[0m     \u001b[0mkwargs\u001b[0m\u001b[1;33m.\u001b[0m\u001b[0msetdefault\u001b[0m\u001b[1;33m(\u001b[0m\u001b[1;34m'allow_redirects'\u001b[0m\u001b[1;33m,\u001b[0m \u001b[1;32mTrue\u001b[0m\u001b[1;33m)\u001b[0m\u001b[1;33m\u001b[0m\u001b[1;33m\u001b[0m\u001b[0m\n\u001b[1;32m---> 76\u001b[1;33m     \u001b[1;32mreturn\u001b[0m \u001b[0mrequest\u001b[0m\u001b[1;33m(\u001b[0m\u001b[1;34m'get'\u001b[0m\u001b[1;33m,\u001b[0m \u001b[0murl\u001b[0m\u001b[1;33m,\u001b[0m \u001b[0mparams\u001b[0m\u001b[1;33m=\u001b[0m\u001b[0mparams\u001b[0m\u001b[1;33m,\u001b[0m \u001b[1;33m**\u001b[0m\u001b[0mkwargs\u001b[0m\u001b[1;33m)\u001b[0m\u001b[1;33m\u001b[0m\u001b[1;33m\u001b[0m\u001b[0m\n\u001b[0m\u001b[0;32m     77\u001b[0m \u001b[1;33m\u001b[0m\u001b[0m\n\u001b[0;32m     78\u001b[0m \u001b[1;33m\u001b[0m\u001b[0m\n",
      "\u001b[1;32mE:\\ANACONDA\\lib\\site-packages\\requests\\api.py\u001b[0m in \u001b[0;36mrequest\u001b[1;34m(method, url, **kwargs)\u001b[0m\n\u001b[0;32m     59\u001b[0m     \u001b[1;31m# cases, and look like a memory leak in others.\u001b[0m\u001b[1;33m\u001b[0m\u001b[1;33m\u001b[0m\u001b[1;33m\u001b[0m\u001b[0m\n\u001b[0;32m     60\u001b[0m     \u001b[1;32mwith\u001b[0m \u001b[0msessions\u001b[0m\u001b[1;33m.\u001b[0m\u001b[0mSession\u001b[0m\u001b[1;33m(\u001b[0m\u001b[1;33m)\u001b[0m \u001b[1;32mas\u001b[0m \u001b[0msession\u001b[0m\u001b[1;33m:\u001b[0m\u001b[1;33m\u001b[0m\u001b[1;33m\u001b[0m\u001b[0m\n\u001b[1;32m---> 61\u001b[1;33m         \u001b[1;32mreturn\u001b[0m \u001b[0msession\u001b[0m\u001b[1;33m.\u001b[0m\u001b[0mrequest\u001b[0m\u001b[1;33m(\u001b[0m\u001b[0mmethod\u001b[0m\u001b[1;33m=\u001b[0m\u001b[0mmethod\u001b[0m\u001b[1;33m,\u001b[0m \u001b[0murl\u001b[0m\u001b[1;33m=\u001b[0m\u001b[0murl\u001b[0m\u001b[1;33m,\u001b[0m \u001b[1;33m**\u001b[0m\u001b[0mkwargs\u001b[0m\u001b[1;33m)\u001b[0m\u001b[1;33m\u001b[0m\u001b[1;33m\u001b[0m\u001b[0m\n\u001b[0m\u001b[0;32m     62\u001b[0m \u001b[1;33m\u001b[0m\u001b[0m\n\u001b[0;32m     63\u001b[0m \u001b[1;33m\u001b[0m\u001b[0m\n",
      "\u001b[1;32mE:\\ANACONDA\\lib\\site-packages\\requests\\sessions.py\u001b[0m in \u001b[0;36mrequest\u001b[1;34m(self, method, url, params, data, headers, cookies, files, auth, timeout, allow_redirects, proxies, hooks, stream, verify, cert, json)\u001b[0m\n\u001b[0;32m    540\u001b[0m         }\n\u001b[0;32m    541\u001b[0m         \u001b[0msend_kwargs\u001b[0m\u001b[1;33m.\u001b[0m\u001b[0mupdate\u001b[0m\u001b[1;33m(\u001b[0m\u001b[0msettings\u001b[0m\u001b[1;33m)\u001b[0m\u001b[1;33m\u001b[0m\u001b[1;33m\u001b[0m\u001b[0m\n\u001b[1;32m--> 542\u001b[1;33m         \u001b[0mresp\u001b[0m \u001b[1;33m=\u001b[0m \u001b[0mself\u001b[0m\u001b[1;33m.\u001b[0m\u001b[0msend\u001b[0m\u001b[1;33m(\u001b[0m\u001b[0mprep\u001b[0m\u001b[1;33m,\u001b[0m \u001b[1;33m**\u001b[0m\u001b[0msend_kwargs\u001b[0m\u001b[1;33m)\u001b[0m\u001b[1;33m\u001b[0m\u001b[1;33m\u001b[0m\u001b[0m\n\u001b[0m\u001b[0;32m    543\u001b[0m \u001b[1;33m\u001b[0m\u001b[0m\n\u001b[0;32m    544\u001b[0m         \u001b[1;32mreturn\u001b[0m \u001b[0mresp\u001b[0m\u001b[1;33m\u001b[0m\u001b[1;33m\u001b[0m\u001b[0m\n",
      "\u001b[1;32mE:\\ANACONDA\\lib\\site-packages\\requests\\sessions.py\u001b[0m in \u001b[0;36msend\u001b[1;34m(self, request, **kwargs)\u001b[0m\n\u001b[0;32m    653\u001b[0m \u001b[1;33m\u001b[0m\u001b[0m\n\u001b[0;32m    654\u001b[0m         \u001b[1;31m# Send the request\u001b[0m\u001b[1;33m\u001b[0m\u001b[1;33m\u001b[0m\u001b[1;33m\u001b[0m\u001b[0m\n\u001b[1;32m--> 655\u001b[1;33m         \u001b[0mr\u001b[0m \u001b[1;33m=\u001b[0m \u001b[0madapter\u001b[0m\u001b[1;33m.\u001b[0m\u001b[0msend\u001b[0m\u001b[1;33m(\u001b[0m\u001b[0mrequest\u001b[0m\u001b[1;33m,\u001b[0m \u001b[1;33m**\u001b[0m\u001b[0mkwargs\u001b[0m\u001b[1;33m)\u001b[0m\u001b[1;33m\u001b[0m\u001b[1;33m\u001b[0m\u001b[0m\n\u001b[0m\u001b[0;32m    656\u001b[0m \u001b[1;33m\u001b[0m\u001b[0m\n\u001b[0;32m    657\u001b[0m         \u001b[1;31m# Total elapsed time of the request (approximately)\u001b[0m\u001b[1;33m\u001b[0m\u001b[1;33m\u001b[0m\u001b[1;33m\u001b[0m\u001b[0m\n",
      "\u001b[1;32mE:\\ANACONDA\\lib\\site-packages\\requests\\adapters.py\u001b[0m in \u001b[0;36msend\u001b[1;34m(self, request, stream, timeout, verify, cert, proxies)\u001b[0m\n\u001b[0;32m    437\u001b[0m         \u001b[1;32mtry\u001b[0m\u001b[1;33m:\u001b[0m\u001b[1;33m\u001b[0m\u001b[1;33m\u001b[0m\u001b[0m\n\u001b[0;32m    438\u001b[0m             \u001b[1;32mif\u001b[0m \u001b[1;32mnot\u001b[0m \u001b[0mchunked\u001b[0m\u001b[1;33m:\u001b[0m\u001b[1;33m\u001b[0m\u001b[1;33m\u001b[0m\u001b[0m\n\u001b[1;32m--> 439\u001b[1;33m                 resp = conn.urlopen(\n\u001b[0m\u001b[0;32m    440\u001b[0m                     \u001b[0mmethod\u001b[0m\u001b[1;33m=\u001b[0m\u001b[0mrequest\u001b[0m\u001b[1;33m.\u001b[0m\u001b[0mmethod\u001b[0m\u001b[1;33m,\u001b[0m\u001b[1;33m\u001b[0m\u001b[1;33m\u001b[0m\u001b[0m\n\u001b[0;32m    441\u001b[0m                     \u001b[0murl\u001b[0m\u001b[1;33m=\u001b[0m\u001b[0murl\u001b[0m\u001b[1;33m,\u001b[0m\u001b[1;33m\u001b[0m\u001b[1;33m\u001b[0m\u001b[0m\n",
      "\u001b[1;32mE:\\ANACONDA\\lib\\site-packages\\urllib3\\connectionpool.py\u001b[0m in \u001b[0;36murlopen\u001b[1;34m(self, method, url, body, headers, retries, redirect, assert_same_host, timeout, pool_timeout, release_conn, chunked, body_pos, **response_kw)\u001b[0m\n\u001b[0;32m    697\u001b[0m \u001b[1;33m\u001b[0m\u001b[0m\n\u001b[0;32m    698\u001b[0m             \u001b[1;31m# Make the request on the httplib connection object.\u001b[0m\u001b[1;33m\u001b[0m\u001b[1;33m\u001b[0m\u001b[1;33m\u001b[0m\u001b[0m\n\u001b[1;32m--> 699\u001b[1;33m             httplib_response = self._make_request(\n\u001b[0m\u001b[0;32m    700\u001b[0m                 \u001b[0mconn\u001b[0m\u001b[1;33m,\u001b[0m\u001b[1;33m\u001b[0m\u001b[1;33m\u001b[0m\u001b[0m\n\u001b[0;32m    701\u001b[0m                 \u001b[0mmethod\u001b[0m\u001b[1;33m,\u001b[0m\u001b[1;33m\u001b[0m\u001b[1;33m\u001b[0m\u001b[0m\n",
      "\u001b[1;32mE:\\ANACONDA\\lib\\site-packages\\urllib3\\connectionpool.py\u001b[0m in \u001b[0;36m_make_request\u001b[1;34m(self, conn, method, url, timeout, chunked, **httplib_request_kw)\u001b[0m\n\u001b[0;32m    443\u001b[0m                     \u001b[1;31m# Python 3 (including for exceptions like SystemExit).\u001b[0m\u001b[1;33m\u001b[0m\u001b[1;33m\u001b[0m\u001b[1;33m\u001b[0m\u001b[0m\n\u001b[0;32m    444\u001b[0m                     \u001b[1;31m# Otherwise it looks like a bug in the code.\u001b[0m\u001b[1;33m\u001b[0m\u001b[1;33m\u001b[0m\u001b[1;33m\u001b[0m\u001b[0m\n\u001b[1;32m--> 445\u001b[1;33m                     \u001b[0msix\u001b[0m\u001b[1;33m.\u001b[0m\u001b[0mraise_from\u001b[0m\u001b[1;33m(\u001b[0m\u001b[0me\u001b[0m\u001b[1;33m,\u001b[0m \u001b[1;32mNone\u001b[0m\u001b[1;33m)\u001b[0m\u001b[1;33m\u001b[0m\u001b[1;33m\u001b[0m\u001b[0m\n\u001b[0m\u001b[0;32m    446\u001b[0m         \u001b[1;32mexcept\u001b[0m \u001b[1;33m(\u001b[0m\u001b[0mSocketTimeout\u001b[0m\u001b[1;33m,\u001b[0m \u001b[0mBaseSSLError\u001b[0m\u001b[1;33m,\u001b[0m \u001b[0mSocketError\u001b[0m\u001b[1;33m)\u001b[0m \u001b[1;32mas\u001b[0m \u001b[0me\u001b[0m\u001b[1;33m:\u001b[0m\u001b[1;33m\u001b[0m\u001b[1;33m\u001b[0m\u001b[0m\n\u001b[0;32m    447\u001b[0m             \u001b[0mself\u001b[0m\u001b[1;33m.\u001b[0m\u001b[0m_raise_timeout\u001b[0m\u001b[1;33m(\u001b[0m\u001b[0merr\u001b[0m\u001b[1;33m=\u001b[0m\u001b[0me\u001b[0m\u001b[1;33m,\u001b[0m \u001b[0murl\u001b[0m\u001b[1;33m=\u001b[0m\u001b[0murl\u001b[0m\u001b[1;33m,\u001b[0m \u001b[0mtimeout_value\u001b[0m\u001b[1;33m=\u001b[0m\u001b[0mread_timeout\u001b[0m\u001b[1;33m)\u001b[0m\u001b[1;33m\u001b[0m\u001b[1;33m\u001b[0m\u001b[0m\n",
      "\u001b[1;32mE:\\ANACONDA\\lib\\site-packages\\urllib3\\packages\\six.py\u001b[0m in \u001b[0;36mraise_from\u001b[1;34m(value, from_value)\u001b[0m\n",
      "\u001b[1;32mE:\\ANACONDA\\lib\\site-packages\\urllib3\\connectionpool.py\u001b[0m in \u001b[0;36m_make_request\u001b[1;34m(self, conn, method, url, timeout, chunked, **httplib_request_kw)\u001b[0m\n\u001b[0;32m    438\u001b[0m                 \u001b[1;31m# Python 3\u001b[0m\u001b[1;33m\u001b[0m\u001b[1;33m\u001b[0m\u001b[1;33m\u001b[0m\u001b[0m\n\u001b[0;32m    439\u001b[0m                 \u001b[1;32mtry\u001b[0m\u001b[1;33m:\u001b[0m\u001b[1;33m\u001b[0m\u001b[1;33m\u001b[0m\u001b[0m\n\u001b[1;32m--> 440\u001b[1;33m                     \u001b[0mhttplib_response\u001b[0m \u001b[1;33m=\u001b[0m \u001b[0mconn\u001b[0m\u001b[1;33m.\u001b[0m\u001b[0mgetresponse\u001b[0m\u001b[1;33m(\u001b[0m\u001b[1;33m)\u001b[0m\u001b[1;33m\u001b[0m\u001b[1;33m\u001b[0m\u001b[0m\n\u001b[0m\u001b[0;32m    441\u001b[0m                 \u001b[1;32mexcept\u001b[0m \u001b[0mBaseException\u001b[0m \u001b[1;32mas\u001b[0m \u001b[0me\u001b[0m\u001b[1;33m:\u001b[0m\u001b[1;33m\u001b[0m\u001b[1;33m\u001b[0m\u001b[0m\n\u001b[0;32m    442\u001b[0m                     \u001b[1;31m# Remove the TypeError from the exception chain in\u001b[0m\u001b[1;33m\u001b[0m\u001b[1;33m\u001b[0m\u001b[1;33m\u001b[0m\u001b[0m\n",
      "\u001b[1;32mE:\\ANACONDA\\lib\\http\\client.py\u001b[0m in \u001b[0;36mgetresponse\u001b[1;34m(self)\u001b[0m\n\u001b[0;32m   1345\u001b[0m         \u001b[1;32mtry\u001b[0m\u001b[1;33m:\u001b[0m\u001b[1;33m\u001b[0m\u001b[1;33m\u001b[0m\u001b[0m\n\u001b[0;32m   1346\u001b[0m             \u001b[1;32mtry\u001b[0m\u001b[1;33m:\u001b[0m\u001b[1;33m\u001b[0m\u001b[1;33m\u001b[0m\u001b[0m\n\u001b[1;32m-> 1347\u001b[1;33m                 \u001b[0mresponse\u001b[0m\u001b[1;33m.\u001b[0m\u001b[0mbegin\u001b[0m\u001b[1;33m(\u001b[0m\u001b[1;33m)\u001b[0m\u001b[1;33m\u001b[0m\u001b[1;33m\u001b[0m\u001b[0m\n\u001b[0m\u001b[0;32m   1348\u001b[0m             \u001b[1;32mexcept\u001b[0m \u001b[0mConnectionError\u001b[0m\u001b[1;33m:\u001b[0m\u001b[1;33m\u001b[0m\u001b[1;33m\u001b[0m\u001b[0m\n\u001b[0;32m   1349\u001b[0m                 \u001b[0mself\u001b[0m\u001b[1;33m.\u001b[0m\u001b[0mclose\u001b[0m\u001b[1;33m(\u001b[0m\u001b[1;33m)\u001b[0m\u001b[1;33m\u001b[0m\u001b[1;33m\u001b[0m\u001b[0m\n",
      "\u001b[1;32mE:\\ANACONDA\\lib\\http\\client.py\u001b[0m in \u001b[0;36mbegin\u001b[1;34m(self)\u001b[0m\n\u001b[0;32m    305\u001b[0m         \u001b[1;31m# read until we get a non-100 response\u001b[0m\u001b[1;33m\u001b[0m\u001b[1;33m\u001b[0m\u001b[1;33m\u001b[0m\u001b[0m\n\u001b[0;32m    306\u001b[0m         \u001b[1;32mwhile\u001b[0m \u001b[1;32mTrue\u001b[0m\u001b[1;33m:\u001b[0m\u001b[1;33m\u001b[0m\u001b[1;33m\u001b[0m\u001b[0m\n\u001b[1;32m--> 307\u001b[1;33m             \u001b[0mversion\u001b[0m\u001b[1;33m,\u001b[0m \u001b[0mstatus\u001b[0m\u001b[1;33m,\u001b[0m \u001b[0mreason\u001b[0m \u001b[1;33m=\u001b[0m \u001b[0mself\u001b[0m\u001b[1;33m.\u001b[0m\u001b[0m_read_status\u001b[0m\u001b[1;33m(\u001b[0m\u001b[1;33m)\u001b[0m\u001b[1;33m\u001b[0m\u001b[1;33m\u001b[0m\u001b[0m\n\u001b[0m\u001b[0;32m    308\u001b[0m             \u001b[1;32mif\u001b[0m \u001b[0mstatus\u001b[0m \u001b[1;33m!=\u001b[0m \u001b[0mCONTINUE\u001b[0m\u001b[1;33m:\u001b[0m\u001b[1;33m\u001b[0m\u001b[1;33m\u001b[0m\u001b[0m\n\u001b[0;32m    309\u001b[0m                 \u001b[1;32mbreak\u001b[0m\u001b[1;33m\u001b[0m\u001b[1;33m\u001b[0m\u001b[0m\n",
      "\u001b[1;32mE:\\ANACONDA\\lib\\http\\client.py\u001b[0m in \u001b[0;36m_read_status\u001b[1;34m(self)\u001b[0m\n\u001b[0;32m    266\u001b[0m \u001b[1;33m\u001b[0m\u001b[0m\n\u001b[0;32m    267\u001b[0m     \u001b[1;32mdef\u001b[0m \u001b[0m_read_status\u001b[0m\u001b[1;33m(\u001b[0m\u001b[0mself\u001b[0m\u001b[1;33m)\u001b[0m\u001b[1;33m:\u001b[0m\u001b[1;33m\u001b[0m\u001b[1;33m\u001b[0m\u001b[0m\n\u001b[1;32m--> 268\u001b[1;33m         \u001b[0mline\u001b[0m \u001b[1;33m=\u001b[0m \u001b[0mstr\u001b[0m\u001b[1;33m(\u001b[0m\u001b[0mself\u001b[0m\u001b[1;33m.\u001b[0m\u001b[0mfp\u001b[0m\u001b[1;33m.\u001b[0m\u001b[0mreadline\u001b[0m\u001b[1;33m(\u001b[0m\u001b[0m_MAXLINE\u001b[0m \u001b[1;33m+\u001b[0m \u001b[1;36m1\u001b[0m\u001b[1;33m)\u001b[0m\u001b[1;33m,\u001b[0m \u001b[1;34m\"iso-8859-1\"\u001b[0m\u001b[1;33m)\u001b[0m\u001b[1;33m\u001b[0m\u001b[1;33m\u001b[0m\u001b[0m\n\u001b[0m\u001b[0;32m    269\u001b[0m         \u001b[1;32mif\u001b[0m \u001b[0mlen\u001b[0m\u001b[1;33m(\u001b[0m\u001b[0mline\u001b[0m\u001b[1;33m)\u001b[0m \u001b[1;33m>\u001b[0m \u001b[0m_MAXLINE\u001b[0m\u001b[1;33m:\u001b[0m\u001b[1;33m\u001b[0m\u001b[1;33m\u001b[0m\u001b[0m\n\u001b[0;32m    270\u001b[0m             \u001b[1;32mraise\u001b[0m \u001b[0mLineTooLong\u001b[0m\u001b[1;33m(\u001b[0m\u001b[1;34m\"status line\"\u001b[0m\u001b[1;33m)\u001b[0m\u001b[1;33m\u001b[0m\u001b[1;33m\u001b[0m\u001b[0m\n",
      "\u001b[1;32mE:\\ANACONDA\\lib\\socket.py\u001b[0m in \u001b[0;36mreadinto\u001b[1;34m(self, b)\u001b[0m\n\u001b[0;32m    667\u001b[0m         \u001b[1;32mwhile\u001b[0m \u001b[1;32mTrue\u001b[0m\u001b[1;33m:\u001b[0m\u001b[1;33m\u001b[0m\u001b[1;33m\u001b[0m\u001b[0m\n\u001b[0;32m    668\u001b[0m             \u001b[1;32mtry\u001b[0m\u001b[1;33m:\u001b[0m\u001b[1;33m\u001b[0m\u001b[1;33m\u001b[0m\u001b[0m\n\u001b[1;32m--> 669\u001b[1;33m                 \u001b[1;32mreturn\u001b[0m \u001b[0mself\u001b[0m\u001b[1;33m.\u001b[0m\u001b[0m_sock\u001b[0m\u001b[1;33m.\u001b[0m\u001b[0mrecv_into\u001b[0m\u001b[1;33m(\u001b[0m\u001b[0mb\u001b[0m\u001b[1;33m)\u001b[0m\u001b[1;33m\u001b[0m\u001b[1;33m\u001b[0m\u001b[0m\n\u001b[0m\u001b[0;32m    670\u001b[0m             \u001b[1;32mexcept\u001b[0m \u001b[0mtimeout\u001b[0m\u001b[1;33m:\u001b[0m\u001b[1;33m\u001b[0m\u001b[1;33m\u001b[0m\u001b[0m\n\u001b[0;32m    671\u001b[0m                 \u001b[0mself\u001b[0m\u001b[1;33m.\u001b[0m\u001b[0m_timeout_occurred\u001b[0m \u001b[1;33m=\u001b[0m \u001b[1;32mTrue\u001b[0m\u001b[1;33m\u001b[0m\u001b[1;33m\u001b[0m\u001b[0m\n",
      "\u001b[1;32mE:\\ANACONDA\\lib\\ssl.py\u001b[0m in \u001b[0;36mrecv_into\u001b[1;34m(self, buffer, nbytes, flags)\u001b[0m\n\u001b[0;32m   1239\u001b[0m                   \u001b[1;34m\"non-zero flags not allowed in calls to recv_into() on %s\"\u001b[0m \u001b[1;33m%\u001b[0m\u001b[1;33m\u001b[0m\u001b[1;33m\u001b[0m\u001b[0m\n\u001b[0;32m   1240\u001b[0m                   self.__class__)\n\u001b[1;32m-> 1241\u001b[1;33m             \u001b[1;32mreturn\u001b[0m \u001b[0mself\u001b[0m\u001b[1;33m.\u001b[0m\u001b[0mread\u001b[0m\u001b[1;33m(\u001b[0m\u001b[0mnbytes\u001b[0m\u001b[1;33m,\u001b[0m \u001b[0mbuffer\u001b[0m\u001b[1;33m)\u001b[0m\u001b[1;33m\u001b[0m\u001b[1;33m\u001b[0m\u001b[0m\n\u001b[0m\u001b[0;32m   1242\u001b[0m         \u001b[1;32melse\u001b[0m\u001b[1;33m:\u001b[0m\u001b[1;33m\u001b[0m\u001b[1;33m\u001b[0m\u001b[0m\n\u001b[0;32m   1243\u001b[0m             \u001b[1;32mreturn\u001b[0m \u001b[0msuper\u001b[0m\u001b[1;33m(\u001b[0m\u001b[1;33m)\u001b[0m\u001b[1;33m.\u001b[0m\u001b[0mrecv_into\u001b[0m\u001b[1;33m(\u001b[0m\u001b[0mbuffer\u001b[0m\u001b[1;33m,\u001b[0m \u001b[0mnbytes\u001b[0m\u001b[1;33m,\u001b[0m \u001b[0mflags\u001b[0m\u001b[1;33m)\u001b[0m\u001b[1;33m\u001b[0m\u001b[1;33m\u001b[0m\u001b[0m\n",
      "\u001b[1;32mE:\\ANACONDA\\lib\\ssl.py\u001b[0m in \u001b[0;36mread\u001b[1;34m(self, len, buffer)\u001b[0m\n\u001b[0;32m   1097\u001b[0m         \u001b[1;32mtry\u001b[0m\u001b[1;33m:\u001b[0m\u001b[1;33m\u001b[0m\u001b[1;33m\u001b[0m\u001b[0m\n\u001b[0;32m   1098\u001b[0m             \u001b[1;32mif\u001b[0m \u001b[0mbuffer\u001b[0m \u001b[1;32mis\u001b[0m \u001b[1;32mnot\u001b[0m \u001b[1;32mNone\u001b[0m\u001b[1;33m:\u001b[0m\u001b[1;33m\u001b[0m\u001b[1;33m\u001b[0m\u001b[0m\n\u001b[1;32m-> 1099\u001b[1;33m                 \u001b[1;32mreturn\u001b[0m \u001b[0mself\u001b[0m\u001b[1;33m.\u001b[0m\u001b[0m_sslobj\u001b[0m\u001b[1;33m.\u001b[0m\u001b[0mread\u001b[0m\u001b[1;33m(\u001b[0m\u001b[0mlen\u001b[0m\u001b[1;33m,\u001b[0m \u001b[0mbuffer\u001b[0m\u001b[1;33m)\u001b[0m\u001b[1;33m\u001b[0m\u001b[1;33m\u001b[0m\u001b[0m\n\u001b[0m\u001b[0;32m   1100\u001b[0m             \u001b[1;32melse\u001b[0m\u001b[1;33m:\u001b[0m\u001b[1;33m\u001b[0m\u001b[1;33m\u001b[0m\u001b[0m\n\u001b[0;32m   1101\u001b[0m                 \u001b[1;32mreturn\u001b[0m \u001b[0mself\u001b[0m\u001b[1;33m.\u001b[0m\u001b[0m_sslobj\u001b[0m\u001b[1;33m.\u001b[0m\u001b[0mread\u001b[0m\u001b[1;33m(\u001b[0m\u001b[0mlen\u001b[0m\u001b[1;33m)\u001b[0m\u001b[1;33m\u001b[0m\u001b[1;33m\u001b[0m\u001b[0m\n",
      "\u001b[1;31mKeyboardInterrupt\u001b[0m: "
     ]
    }
   ],
   "source": [
    "from rich.progress import track\n",
    "for index in track(range(len(md_link))):\n",
    "    md_img_download(find_image_url(md_link[index]))"
   ]
  },
  {
   "cell_type": "markdown",
   "id": "trained-taylor",
   "metadata": {},
   "source": [
    "### 整理成一个函数"
   ]
  },
  {
   "cell_type": "code",
   "execution_count": 122,
   "id": "patent-channel",
   "metadata": {},
   "outputs": [],
   "source": [
    "import re\n",
    "import requests\n",
    "import os\n",
    "from rich.progress import track\n",
    "from pathlib import Path\n",
    "\n",
    "num = 0\n",
    "image_url_list_index = -1\n",
    "def find_image_url(file_url):\n",
    "    # C://Users/Administrator/Desktop/README.md\n",
    "    with open(file_url, 'r',encoding=\"utf-8\") as f:\n",
    "        md = f.read()\n",
    "    raw_link_list = re.findall(\"!\\[.*\\)\",md)\n",
    "    # 去除多余信息，仅留下链接\n",
    "    link_list = [raw_link.split('(')[1].split(')')[0] for raw_link in raw_link_list]\n",
    "    ext_list = [re.findall(\"\\.[a-zA-Z]*\",raw_ext)[-1] for raw_ext in link_list]\n",
    "    return link_list,ext_list\n",
    "\n",
    "def download_img(link,ext,source_link):\n",
    "    r = requests.get(link)\n",
    "#     print(r.status_code) # 返回状态码\n",
    "    if r.status_code == 200:\n",
    "        open(source_link+'//img//'+ext, 'wb').write(r.content) # 将内容写入图片\n",
    "#         print(\"done\")\n",
    "    del r\n",
    "\n",
    "# 以单个md文件为单位进行下载\n",
    "def md_img_download(link_ext,source_link,md_link):\n",
    "    image_url_list = []\n",
    "    global num\n",
    "    # 判断源路径是否有img文件夹，若无则创建文件夹\n",
    "    if not Path(source_link+'//img').is_dir():\n",
    "        os.mkdir(source_link+'/img')\n",
    "    for link,ext in zip(link_ext[0],link_ext[1]):\n",
    "        num+=1\n",
    "        download_img(link,str(num)+ext,source_link)\n",
    "        image_url_list.append('!['+str(num)+']('+source_link+'//img//'+str(num)+ext+\")\")\n",
    "    alter_image_url(image_url_list,md_link)\n",
    "#     print(image_url_list)\n",
    "        \n",
    "# 修改md文件中图片引用链接    \n",
    "# 使用re.sub(pattern, repl, string, count=0, flags=0)\n",
    "def alter_image_url(image_url_list,md_link):\n",
    "    # 替换url\n",
    "    global image_url_list_index\n",
    "    if image_url_list == []:\n",
    "        return\n",
    "    else:\n",
    "        def image_url_list_iterator():\n",
    "            global image_url_list_index\n",
    "            image_url_list_index+=1\n",
    "            return image_url_list[image_url_list_index]\n",
    "        with open(md_link, 'r',encoding=\"utf-8\") as f:\n",
    "            md = f.read()\n",
    "        index = 0\n",
    "        md = re.sub('!\\[.*?\\)',image_url_list_iterator(),md)\n",
    "    image_url_list_index = -1\n",
    "\n",
    "#     print(image_url_list)\n",
    "    # 写入文件，w表示覆盖写入\n",
    "    with open(md_link, 'w',encoding=\"utf-8\") as f:\n",
    "        f.write(md)\n",
    "        \n",
    "# 下载图片到指定文件夹\n",
    "def md_image_save(path):\n",
    "    # 获取所有链接\n",
    "    md_link = []\n",
    "    for root,dirs,files in os.walk(path):\n",
    "        if files == []:\n",
    "            continue\n",
    "        for file in files:\n",
    "            if re.findall('.md',file):\n",
    "                md_link.append(root+'/'+file)\n",
    "    # 按链接顺序下载并修改图片引用\n",
    "    for index in track(range(len(md_link))):\n",
    "        md_img_download(find_image_url(md_link[index]),path,md_link[index])"
   ]
  },
  {
   "cell_type": "code",
   "execution_count": 123,
   "id": "herbal-watershed",
   "metadata": {
    "collapsed": true
   },
   "outputs": [
    {
     "data": {
      "application/vnd.jupyter.widget-view+json": {
       "model_id": "69e0bcfbfd964673922e0192375c93ef",
       "version_major": 2,
       "version_minor": 0
      },
      "text/plain": [
       "Output()"
      ]
     },
     "metadata": {},
     "output_type": "display_data"
    },
    {
     "ename": "IndexError",
     "evalue": "list index out of range",
     "output_type": "error",
     "traceback": [
      "\u001b[1;31m---------------------------------------------------------------------------\u001b[0m",
      "\u001b[1;31mIndexError\u001b[0m                                Traceback (most recent call last)",
      "\u001b[1;32m<ipython-input-123-273b1d4e2c74>\u001b[0m in \u001b[0;36m<module>\u001b[1;34m\u001b[0m\n\u001b[1;32m----> 1\u001b[1;33m \u001b[0mmd_image_save\u001b[0m\u001b[1;33m(\u001b[0m\u001b[1;34m\"C://Users/Administrator/Desktop/Html5\"\u001b[0m\u001b[1;33m)\u001b[0m\u001b[1;33m\u001b[0m\u001b[1;33m\u001b[0m\u001b[0m\n\u001b[0m",
      "\u001b[1;32m<ipython-input-122-5b9442fda84e>\u001b[0m in \u001b[0;36mmd_image_save\u001b[1;34m(path)\u001b[0m\n\u001b[0;32m     74\u001b[0m     \u001b[1;31m# 按链接顺序下载并修改图片引用\u001b[0m\u001b[1;33m\u001b[0m\u001b[1;33m\u001b[0m\u001b[1;33m\u001b[0m\u001b[0m\n\u001b[0;32m     75\u001b[0m     \u001b[1;32mfor\u001b[0m \u001b[0mindex\u001b[0m \u001b[1;32min\u001b[0m \u001b[0mtrack\u001b[0m\u001b[1;33m(\u001b[0m\u001b[0mrange\u001b[0m\u001b[1;33m(\u001b[0m\u001b[0mlen\u001b[0m\u001b[1;33m(\u001b[0m\u001b[0mmd_link\u001b[0m\u001b[1;33m)\u001b[0m\u001b[1;33m)\u001b[0m\u001b[1;33m)\u001b[0m\u001b[1;33m:\u001b[0m\u001b[1;33m\u001b[0m\u001b[1;33m\u001b[0m\u001b[0m\n\u001b[1;32m---> 76\u001b[1;33m         \u001b[0mmd_img_download\u001b[0m\u001b[1;33m(\u001b[0m\u001b[0mfind_image_url\u001b[0m\u001b[1;33m(\u001b[0m\u001b[0mmd_link\u001b[0m\u001b[1;33m[\u001b[0m\u001b[0mindex\u001b[0m\u001b[1;33m]\u001b[0m\u001b[1;33m)\u001b[0m\u001b[1;33m,\u001b[0m\u001b[0mpath\u001b[0m\u001b[1;33m,\u001b[0m\u001b[0mmd_link\u001b[0m\u001b[1;33m[\u001b[0m\u001b[0mindex\u001b[0m\u001b[1;33m]\u001b[0m\u001b[1;33m)\u001b[0m\u001b[1;33m\u001b[0m\u001b[1;33m\u001b[0m\u001b[0m\n\u001b[0m",
      "\u001b[1;32m<ipython-input-122-5b9442fda84e>\u001b[0m in \u001b[0;36mfind_image_url\u001b[1;34m(file_url)\u001b[0m\n\u001b[0;32m     14\u001b[0m     \u001b[1;31m# 去除多余信息，仅留下链接\u001b[0m\u001b[1;33m\u001b[0m\u001b[1;33m\u001b[0m\u001b[1;33m\u001b[0m\u001b[0m\n\u001b[0;32m     15\u001b[0m     \u001b[0mlink_list\u001b[0m \u001b[1;33m=\u001b[0m \u001b[1;33m[\u001b[0m\u001b[0mraw_link\u001b[0m\u001b[1;33m.\u001b[0m\u001b[0msplit\u001b[0m\u001b[1;33m(\u001b[0m\u001b[1;34m'('\u001b[0m\u001b[1;33m)\u001b[0m\u001b[1;33m[\u001b[0m\u001b[1;36m1\u001b[0m\u001b[1;33m]\u001b[0m\u001b[1;33m.\u001b[0m\u001b[0msplit\u001b[0m\u001b[1;33m(\u001b[0m\u001b[1;34m')'\u001b[0m\u001b[1;33m)\u001b[0m\u001b[1;33m[\u001b[0m\u001b[1;36m0\u001b[0m\u001b[1;33m]\u001b[0m \u001b[1;32mfor\u001b[0m \u001b[0mraw_link\u001b[0m \u001b[1;32min\u001b[0m \u001b[0mraw_link_list\u001b[0m\u001b[1;33m]\u001b[0m\u001b[1;33m\u001b[0m\u001b[1;33m\u001b[0m\u001b[0m\n\u001b[1;32m---> 16\u001b[1;33m     \u001b[0mext_list\u001b[0m \u001b[1;33m=\u001b[0m \u001b[1;33m[\u001b[0m\u001b[0mre\u001b[0m\u001b[1;33m.\u001b[0m\u001b[0mfindall\u001b[0m\u001b[1;33m(\u001b[0m\u001b[1;34m\"\\.[a-zA-Z]*\"\u001b[0m\u001b[1;33m,\u001b[0m\u001b[0mraw_ext\u001b[0m\u001b[1;33m)\u001b[0m\u001b[1;33m[\u001b[0m\u001b[1;33m-\u001b[0m\u001b[1;36m1\u001b[0m\u001b[1;33m]\u001b[0m \u001b[1;32mfor\u001b[0m \u001b[0mraw_ext\u001b[0m \u001b[1;32min\u001b[0m \u001b[0mlink_list\u001b[0m\u001b[1;33m]\u001b[0m\u001b[1;33m\u001b[0m\u001b[1;33m\u001b[0m\u001b[0m\n\u001b[0m\u001b[0;32m     17\u001b[0m     \u001b[1;32mreturn\u001b[0m \u001b[0mlink_list\u001b[0m\u001b[1;33m,\u001b[0m\u001b[0mext_list\u001b[0m\u001b[1;33m\u001b[0m\u001b[1;33m\u001b[0m\u001b[0m\n\u001b[0;32m     18\u001b[0m \u001b[1;33m\u001b[0m\u001b[0m\n",
      "\u001b[1;32m<ipython-input-122-5b9442fda84e>\u001b[0m in \u001b[0;36m<listcomp>\u001b[1;34m(.0)\u001b[0m\n\u001b[0;32m     14\u001b[0m     \u001b[1;31m# 去除多余信息，仅留下链接\u001b[0m\u001b[1;33m\u001b[0m\u001b[1;33m\u001b[0m\u001b[1;33m\u001b[0m\u001b[0m\n\u001b[0;32m     15\u001b[0m     \u001b[0mlink_list\u001b[0m \u001b[1;33m=\u001b[0m \u001b[1;33m[\u001b[0m\u001b[0mraw_link\u001b[0m\u001b[1;33m.\u001b[0m\u001b[0msplit\u001b[0m\u001b[1;33m(\u001b[0m\u001b[1;34m'('\u001b[0m\u001b[1;33m)\u001b[0m\u001b[1;33m[\u001b[0m\u001b[1;36m1\u001b[0m\u001b[1;33m]\u001b[0m\u001b[1;33m.\u001b[0m\u001b[0msplit\u001b[0m\u001b[1;33m(\u001b[0m\u001b[1;34m')'\u001b[0m\u001b[1;33m)\u001b[0m\u001b[1;33m[\u001b[0m\u001b[1;36m0\u001b[0m\u001b[1;33m]\u001b[0m \u001b[1;32mfor\u001b[0m \u001b[0mraw_link\u001b[0m \u001b[1;32min\u001b[0m \u001b[0mraw_link_list\u001b[0m\u001b[1;33m]\u001b[0m\u001b[1;33m\u001b[0m\u001b[1;33m\u001b[0m\u001b[0m\n\u001b[1;32m---> 16\u001b[1;33m     \u001b[0mext_list\u001b[0m \u001b[1;33m=\u001b[0m \u001b[1;33m[\u001b[0m\u001b[0mre\u001b[0m\u001b[1;33m.\u001b[0m\u001b[0mfindall\u001b[0m\u001b[1;33m(\u001b[0m\u001b[1;34m\"\\.[a-zA-Z]*\"\u001b[0m\u001b[1;33m,\u001b[0m\u001b[0mraw_ext\u001b[0m\u001b[1;33m)\u001b[0m\u001b[1;33m[\u001b[0m\u001b[1;33m-\u001b[0m\u001b[1;36m1\u001b[0m\u001b[1;33m]\u001b[0m \u001b[1;32mfor\u001b[0m \u001b[0mraw_ext\u001b[0m \u001b[1;32min\u001b[0m \u001b[0mlink_list\u001b[0m\u001b[1;33m]\u001b[0m\u001b[1;33m\u001b[0m\u001b[1;33m\u001b[0m\u001b[0m\n\u001b[0m\u001b[0;32m     17\u001b[0m     \u001b[1;32mreturn\u001b[0m \u001b[0mlink_list\u001b[0m\u001b[1;33m,\u001b[0m\u001b[0mext_list\u001b[0m\u001b[1;33m\u001b[0m\u001b[1;33m\u001b[0m\u001b[0m\n\u001b[0;32m     18\u001b[0m \u001b[1;33m\u001b[0m\u001b[0m\n",
      "\u001b[1;31mIndexError\u001b[0m: list index out of range"
     ]
    }
   ],
   "source": [
    "md_image_save(\"C://Users/Administrator/Desktop/Html5\")"
   ]
  },
  {
   "cell_type": "code",
   "execution_count": 40,
   "id": "written-better",
   "metadata": {
    "collapsed": true
   },
   "outputs": [
    {
     "name": "stdout",
     "output_type": "stream",
     "text": [
      "['](C://Users/Administrator/Desktop/Html5/01-前端简介//img//.png)', '](C://Users/Administrator/Desktop/Html5/01-前端简介//img//.png)', '](C://Users/Administrator/Desktop/Html5/01-前端简介//img//.png)', '](C://Users/Administrator/Desktop/Html5/01-前端简介//img//.png)', '](C://Users/Administrator/Desktop/Html5/01-前端简介//img//.png)', '](C://Users/Administrator/Desktop/Html5/01-前端简介//img//.png)', '](C://Users/Administrator/Desktop/Html5/01-前端简介//img//.png)', '](C://Users/Administrator/Desktop/Html5/01-前端简介//img//.png)', '](C://Users/Administrator/Desktop/Html5/01-前端简介//img//.png)', '](C://Users/Administrator/Desktop/Html5/01-前端简介//img//.png)', '](C://Users/Administrator/Desktop/Html5/01-前端简介//img//.png)', '](C://Users/Administrator/Desktop/Html5/01-前端简介//img//.gif)']\n"
     ]
    }
   ],
   "source": [
    "md_img_download(find_image_url('C://Users/Administrator/Desktop/Html5/01-前端简介/README.md'),'C://Users/Administrator/Desktop/Html5/01-前端简介','C://Users/Administrator/Desktop/Html5/01-前端简介/README.md')"
   ]
  },
  {
   "cell_type": "markdown",
   "id": "surface-record",
   "metadata": {},
   "source": [
    "#### TODO\n",
    "1. 替换的是一个iter函数\n",
    "1. 判断是否为本地文件"
   ]
  },
  {
   "cell_type": "code",
   "execution_count": 40,
   "id": "accessory-contrary",
   "metadata": {},
   "outputs": [],
   "source": [
    "md_link = 'C://Users/Administrator/Desktop/Html5/01-前端简介/README.md'\n",
    "# 替换url\n",
    "with open(md_link, 'r',encoding=\"utf-8\") as f:\n",
    "    md = f.read()\n",
    "index = 0\n",
    "re.sub(r'!\\[.*\\)','11',md)\n",
    "\n",
    "#     print(image_url_list)\n",
    "# 写入文件，w表示覆盖写入\n",
    "with open(md_link, 'w',encoding=\"utf-8\") as f:\n",
    "    f.write(md)\n"
   ]
  },
  {
   "cell_type": "code",
   "execution_count": 102,
   "id": "paperback-proportion",
   "metadata": {},
   "outputs": [],
   "source": [
    "num = 0\n",
    "def image_url_list_iterator():\n",
    "    global num\n",
    "    num+=1\n",
    "    return str(num)"
   ]
  },
  {
   "cell_type": "code",
   "execution_count": 94,
   "id": "improving-design",
   "metadata": {},
   "outputs": [],
   "source": [
    "a = image_url_list_iterator()"
   ]
  },
  {
   "cell_type": "code",
   "execution_count": 90,
   "id": "athletic-smith",
   "metadata": {},
   "outputs": [
    {
     "data": {
      "text/plain": [
       "5"
      ]
     },
     "execution_count": 90,
     "metadata": {},
     "output_type": "execute_result"
    }
   ],
   "source": [
    "next(a)"
   ]
  },
  {
   "cell_type": "code",
   "execution_count": 108,
   "id": "wireless-board",
   "metadata": {},
   "outputs": [
    {
     "data": {
      "text/plain": [
       "'612dasda6'"
      ]
     },
     "execution_count": 108,
     "metadata": {},
     "output_type": "execute_result"
    }
   ],
   "source": [
    "md = 'app12dasdaapp'\n",
    "re.sub('app',image_url_list_iterator(),md)"
   ]
  }
 ],
 "metadata": {
  "kernelspec": {
   "display_name": "Python 3",
   "language": "python",
   "name": "python3"
  },
  "language_info": {
   "codemirror_mode": {
    "name": "ipython",
    "version": 3
   },
   "file_extension": ".py",
   "mimetype": "text/x-python",
   "name": "python",
   "nbconvert_exporter": "python",
   "pygments_lexer": "ipython3",
   "version": "3.8.5"
  },
  "toc": {
   "base_numbering": 1,
   "nav_menu": {},
   "number_sections": true,
   "sideBar": true,
   "skip_h1_title": false,
   "title_cell": "Table of Contents",
   "title_sidebar": "Contents",
   "toc_cell": false,
   "toc_position": {},
   "toc_section_display": true,
   "toc_window_display": false
  }
 },
 "nbformat": 4,
 "nbformat_minor": 5
}
