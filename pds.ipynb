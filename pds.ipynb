{
 "cells": [
  {
   "cell_type": "markdown",
   "id": "1b71e5fe",
   "metadata": {},
   "source": [
    "## LeetCode"
   ]
  },
  {
   "cell_type": "markdown",
   "id": "a5681c45",
   "metadata": {},
   "source": [
    "### 回文数"
   ]
  },
  {
   "cell_type": "code",
   "execution_count": 108,
   "id": "d52fdef8",
   "metadata": {},
   "outputs": [],
   "source": [
    "def isPalindrome(x: int) -> bool:\n",
    "    x = list(str(x))\n",
    "    isPal = True\n",
    "    while len(x)>1 and isPal:\n",
    "        if x.pop()!=x.pop(0):\n",
    "            return False\n",
    "    return isPal"
   ]
  },
  {
   "cell_type": "code",
   "execution_count": 110,
   "id": "8b22dfc9",
   "metadata": {},
   "outputs": [
    {
     "data": {
      "text/plain": [
       "True"
      ]
     },
     "execution_count": 110,
     "metadata": {},
     "output_type": "execute_result"
    }
   ],
   "source": [
    "isPalindrome(12321)"
   ]
  },
  {
   "cell_type": "code",
   "execution_count": 107,
   "id": "75a26457",
   "metadata": {
    "scrolled": true
   },
   "outputs": [
    {
     "data": {
      "text/plain": [
       "'1'"
      ]
     },
     "execution_count": 107,
     "metadata": {},
     "output_type": "execute_result"
    }
   ],
   "source": [
    "list(str(1234)).pop(0)"
   ]
  },
  {
   "cell_type": "markdown",
   "id": "715825f3",
   "metadata": {},
   "source": [
    "### 罗马数字转换"
   ]
  },
  {
   "cell_type": "code",
   "execution_count": 123,
   "id": "13ca6331",
   "metadata": {},
   "outputs": [],
   "source": [
    "class Solution:\n",
    "    def __init__(self):\n",
    "        self.rodict = {'I':1,'V':5,'X':10,'L':50,'C':100,'D':500,'M':1000}\n",
    "    def romanToInt(self, s: str) -> int:\n",
    "        # 从右至左，从个位数开始\n",
    "        roman = list(s)\n",
    "        intval = 0\n",
    "        last_add = 0\n",
    "        while len(roman)>0:\n",
    "            temp = roman.pop()\n",
    "            # 先看是否特殊情况（根据特殊情况的左部分检查），再加起来\n",
    "            if temp in self.rodict:\n",
    "                add_val =self.rodict[temp]\n",
    "                if (add_val == 1 and (last_add ==5 or last_add ==10)) or add_val == 10 and (last_add ==50 or last_add ==100) or  (add_val == 100 and (last_add ==500 or last_add ==1000)):\n",
    "                    intval -= add_val\n",
    "                else:\n",
    "                    # 若均不是则正常加起来\n",
    "                    intval += add_val\n",
    "                    last_add = add_val\n",
    "        return intval"
   ]
  },
  {
   "cell_type": "code",
   "execution_count": 122,
   "id": "5726c788",
   "metadata": {},
   "outputs": [
    {
     "data": {
      "text/plain": [
       "414"
      ]
     },
     "execution_count": 122,
     "metadata": {},
     "output_type": "execute_result"
    }
   ],
   "source": [
    "sol = Solution()\n",
    "sol.romanToInt('CDXIV')"
   ]
  },
  {
   "cell_type": "markdown",
   "id": "10fce92f",
   "metadata": {},
   "source": [
    "别人的答案\n",
    "+ 第一个优点是发现只要比这个小，就减一\n",
    "+ 第二是很清晰，从左到右进行，i<len-1是怕index超出"
   ]
  },
  {
   "cell_type": "code",
   "execution_count": 124,
   "id": "c6923529",
   "metadata": {},
   "outputs": [],
   "source": [
    "class Solution:\n",
    "    def romanToInt(self, s):\n",
    "        \"\"\"\n",
    "        :type s: str\n",
    "        :rtype: int\n",
    "        \"\"\"\n",
    "        a = {'I':1, 'V':5, 'X':10, 'L':50, 'C':100, 'D':500, 'M':1000}        \n",
    "        ans=0        \n",
    "        for i in range(len(s)):            \n",
    "            if i<len(s)-1 and a[s[i]]<a[s[i+1]]:                \n",
    "                ans-=a[s[i]]\n",
    "            else:\n",
    "                ans+=a[s[i]]\n",
    "        return ans"
   ]
  },
  {
   "cell_type": "markdown",
   "id": "458d5e15",
   "metadata": {},
   "source": [
    "### 最长公共前缀"
   ]
  },
  {
   "cell_type": "markdown",
   "id": "5b4740df",
   "metadata": {},
   "source": [
    "若只有一个元素，则直接返回\n",
    "这次还是一个数组切片的问题，`    while not foundlongest and pos<=min_len:`最后不能-1，因为数组切片已经忽略最后一个元素了"
   ]
  },
  {
   "cell_type": "code",
   "execution_count": 41,
   "id": "58a93e8d",
   "metadata": {},
   "outputs": [],
   "source": [
    "def longestCommonPrefix(strs):\n",
    "    pos = 1\n",
    "    prefix = ''\n",
    "    foundlongest = False\n",
    "    if len(strs) ==1:\n",
    "        return strs[0]\n",
    "    min_len = min([len(i) for i in strs])\n",
    "    while not foundlongest and pos<=min_len:\n",
    "        for i in range(len(strs)):\n",
    "            # 若前后两个值不等，则退出循环，并设置为True\n",
    "            if i!=len(strs)-1:\n",
    "                print(strs[i][:pos],strs[i+1][:pos])\n",
    "            if i!=len(strs)-1 and strs[i][:pos]!=strs[i+1][:pos]:\n",
    "                foundlongest = True\n",
    "                break\n",
    "        # 若循环结束均相等，则更新前缀，并pos+1\n",
    "        if not foundlongest:\n",
    "            prefix = strs[0][:pos]\n",
    "            pos+=1\n",
    "    return prefix"
   ]
  },
  {
   "cell_type": "code",
   "execution_count": 42,
   "id": "e9977ecc",
   "metadata": {},
   "outputs": [
    {
     "name": "stdout",
     "output_type": "stream",
     "text": [
      "a a\n"
     ]
    },
    {
     "data": {
      "text/plain": [
       "'a'"
      ]
     },
     "execution_count": 42,
     "metadata": {},
     "output_type": "execute_result"
    }
   ],
   "source": [
    "longestCommonPrefix(strs =[\"ab\", \"a\"])"
   ]
  },
  {
   "cell_type": "markdown",
   "id": "b52514d1",
   "metadata": {},
   "source": [
    "网友答案：利用python的zip函数，把str看成list然后把输入看成二维数组，左对齐纵向压缩，然后把每项利用集合去重，之后遍历list中找到元素长度大于1之前的就是公共前缀"
   ]
  },
  {
   "cell_type": "code",
   "execution_count": 5,
   "id": "075e3181",
   "metadata": {
    "scrolled": true
   },
   "outputs": [
    {
     "data": {
      "text/plain": [
       "[('a', 'a', 'a', 'd')]"
      ]
     },
     "execution_count": 5,
     "metadata": {},
     "output_type": "execute_result"
    }
   ],
   "source": [
    "list(zip(\"ab\", \"a\",'abc','da'))"
   ]
  },
  {
   "cell_type": "code",
   "execution_count": 8,
   "id": "adopted-municipality",
   "metadata": {},
   "outputs": [
    {
     "data": {
      "text/plain": [
       "[('a', 'c', 'a', 'd'), ('b', 'd', 'b', 'a')]"
      ]
     },
     "execution_count": 8,
     "metadata": {},
     "output_type": "execute_result"
    }
   ],
   "source": [
    "list(zip(*['ab','cd','abc','da']))"
   ]
  },
  {
   "cell_type": "code",
   "execution_count": 55,
   "id": "af3649d3",
   "metadata": {},
   "outputs": [
    {
     "data": {
      "text/plain": [
       "[{'a'}]"
      ]
     },
     "execution_count": 55,
     "metadata": {},
     "output_type": "execute_result"
    }
   ],
   "source": [
    "list(map(set, zip(*[\"ab\", \"a\",'abc','ada'])))"
   ]
  },
  {
   "cell_type": "code",
   "execution_count": 12,
   "id": "56851651",
   "metadata": {},
   "outputs": [],
   "source": [
    "def longestCommonPrefix(strs):\n",
    "    if not strs: return \"\"\n",
    "    ss = list(map(set, zip(*strs)))\n",
    "    res = \"\"\n",
    "    for x in ss:\n",
    "        x = list(x)\n",
    "        if len(x) > 1:\n",
    "            break\n",
    "        res = res + x[0]\n",
    "    return res"
   ]
  },
  {
   "cell_type": "code",
   "execution_count": 14,
   "id": "frequent-auckland",
   "metadata": {},
   "outputs": [
    {
     "data": {
      "text/plain": [
       "'ad'"
      ]
     },
     "execution_count": 14,
     "metadata": {},
     "output_type": "execute_result"
    }
   ],
   "source": [
    "longestCommonPrefix([\"adb\", \"ad\",'adbc','ada'])"
   ]
  },
  {
   "cell_type": "markdown",
   "id": "9f0bdbdd",
   "metadata": {},
   "source": [
    "### 有效的括号"
   ]
  },
  {
   "cell_type": "code",
   "execution_count": 100,
   "id": "b52c01ff",
   "metadata": {},
   "outputs": [],
   "source": [
    "def isValid(s: str) -> bool:\n",
    "    valid = True\n",
    "    alist = []\n",
    "    fuhao = {'(':')','{':'}','[':']',}\n",
    "    for i in s:\n",
    "        if i in fuhao.keys():\n",
    "            alist.append(i)\n",
    "            print(alist)\n",
    "        elif i in fuhao.values():\n",
    "            if alist == [] or fuhao[alist.pop()]!=i:\n",
    "                valid = False\n",
    "                break\n",
    "            # 若alist还有值，则失败\n",
    "    if alist!=[]:\n",
    "        valid = False\n",
    "    return valid"
   ]
  },
  {
   "cell_type": "code",
   "execution_count": 102,
   "id": "4eb5ba4e",
   "metadata": {},
   "outputs": [
    {
     "name": "stdout",
     "output_type": "stream",
     "text": [
      "['(']\n"
     ]
    },
    {
     "data": {
      "text/plain": [
       "False"
      ]
     },
     "execution_count": 102,
     "metadata": {},
     "output_type": "execute_result"
    }
   ],
   "source": [
    "isValid(\"(\")"
   ]
  },
  {
   "cell_type": "markdown",
   "id": "71690e96",
   "metadata": {},
   "source": [
    "### 搜索插入位置"
   ]
  },
  {
   "cell_type": "code",
   "execution_count": 108,
   "id": "31015449",
   "metadata": {},
   "outputs": [],
   "source": [
    "a=[1,2,3,4,5]\n",
    "def seq_search(list_search,target):\n",
    "    index = 0\n",
    "    found = False\n",
    "    first = 0\n",
    "    # 这里为什么要-1？？？\n",
    "    # 防止index溢出，有可能取到len值\n",
    "    last = len(list_search)-1\n",
    "    while not found:\n",
    "        # 是last+first，不是减号！！\n",
    "        # round因为是0.5所以可用，但是最好用//\n",
    "        temp_pos = round((last+first)/2)\n",
    "        if list_search[temp_pos] == target:\n",
    "            index = temp_pos\n",
    "            return index\n",
    "        elif list_search[temp_pos] > target:\n",
    "            # 我所没做到的就在这个+1上\n",
    "            last = temp_pos-1\n",
    "        else:\n",
    "            first = temp_pos+1\n",
    "        if first>last:\n",
    "            if list_search[temp_pos] > target:\n",
    "                index= temp_pos\n",
    "            else:\n",
    "                index= temp_pos+1\n",
    "            return index\n",
    "        print(temp_pos,first,last)\n",
    "    return index"
   ]
  },
  {
   "cell_type": "code",
   "execution_count": 111,
   "id": "a51878f4",
   "metadata": {
    "scrolled": true
   },
   "outputs": [
    {
     "name": "stdout",
     "output_type": "stream",
     "text": [
      "2 0 1\n"
     ]
    },
    {
     "data": {
      "text/plain": [
       "0"
      ]
     },
     "execution_count": 111,
     "metadata": {},
     "output_type": "execute_result"
    }
   ],
   "source": [
    "seq_search(a,0)"
   ]
  },
  {
   "cell_type": "markdown",
   "id": "5ebd9111",
   "metadata": {},
   "source": [
    "### 两数相加  ——出现问题，通过不了"
   ]
  },
  {
   "cell_type": "code",
   "execution_count": 13,
   "id": "6fe67e21",
   "metadata": {},
   "outputs": [],
   "source": [
    "# Definition for singly-linked list.\n",
    "class ListNode:\n",
    "    def __init__(self, val=0, next=None):\n",
    "        self.val = val\n",
    "        self.next = next\n",
    "    \n",
    "    def hasnext():\n",
    "        if self.next!=None:\n",
    "            return True\n",
    "        else:\n",
    "            return False\n",
    "\n",
    "def addTwoNumbers(l1: ListNode, l2: ListNode) -> ListNode:\n",
    "    add_val = 0\n",
    "    base = 1\n",
    "    while l1!=None and l2!=None:\n",
    "        add_val = add_val+base*(l1.val+l2.val)\n",
    "        l1,l2=[l1.next,l2.next]\n",
    "        base*=10\n",
    "    while l1!=None:\n",
    "        l1 = l1.next\n",
    "        add_val = add_val+l1.val\n",
    "        base*=10\n",
    "    while l2!=None:\n",
    "        l2 = l2.next\n",
    "        add_val = add_val+l2.val\n",
    "        base*=10\n",
    "    # 转化为字符串并反转\n",
    "    str_val = str(add_val)[::-1]\n",
    "    ini_node = ListNode()\n",
    "    tempnode = ini_node\n",
    "    # 创建新的Node\n",
    "    for i in range(len(str_val)):\n",
    "        tempnode.next = ListNode(int(str_val[i]))\n",
    "        tempnode = tempnode.next\n",
    "    return ini_node"
   ]
  },
  {
   "cell_type": "code",
   "execution_count": 16,
   "id": "70a73664",
   "metadata": {},
   "outputs": [
    {
     "data": {
      "text/plain": [
       "0"
      ]
     },
     "execution_count": 16,
     "metadata": {},
     "output_type": "execute_result"
    }
   ],
   "source": [
    "l1 = ListNode(2,ListNode(4,ListNode(3)))\n",
    "l2 = ListNode(5,ListNode(6,ListNode(4)))\n",
    "addTwoNumbers(l1,l2).next.next.val"
   ]
  },
  {
   "cell_type": "markdown",
   "id": "e6411954",
   "metadata": {},
   "source": [
    "### 3. 无重复字符的最长子串"
   ]
  },
  {
   "cell_type": "markdown",
   "id": "ac783d01",
   "metadata": {},
   "source": [
    "首先判断有无重复字符"
   ]
  },
  {
   "cell_type": "code",
   "execution_count": 19,
   "id": "2a976af7",
   "metadata": {},
   "outputs": [
    {
     "data": {
      "text/plain": [
       "True"
      ]
     },
     "execution_count": 19,
     "metadata": {},
     "output_type": "execute_result"
    }
   ],
   "source": [
    "a = 'ab'\n",
    "def no_dup(s):\n",
    "    if len(set(a))!=len(a):\n",
    "        return False\n",
    "    else:\n",
    "        return True\n",
    "no_dup(a)"
   ]
  },
  {
   "cell_type": "code",
   "execution_count": 21,
   "id": "c4a398e8",
   "metadata": {},
   "outputs": [
    {
     "data": {
      "text/plain": [
       "[0]"
      ]
     },
     "execution_count": 21,
     "metadata": {},
     "output_type": "execute_result"
    }
   ],
   "source": [
    "list(range(1))"
   ]
  },
  {
   "cell_type": "markdown",
   "id": "9da40883",
   "metadata": {},
   "source": [
    "此方法字符串不能过长，否则出现问题"
   ]
  },
  {
   "cell_type": "code",
   "execution_count": 56,
   "id": "3b4bd215",
   "metadata": {},
   "outputs": [
    {
     "data": {
      "text/plain": [
       "2"
      ]
     },
     "execution_count": 56,
     "metadata": {},
     "output_type": "execute_result"
    }
   ],
   "source": [
    "def lengthOfLongestSubstring(s: str) -> int:\n",
    "#     if len(s)<=1:\n",
    "#         return len(s)\n",
    "    # 判断有无重复字符\n",
    "    def no_dup(st):\n",
    "        if len(set(st))!=len(st):\n",
    "            return False\n",
    "        else:\n",
    "            return True\n",
    "    found = False\n",
    "    len_slice = len(s)\n",
    "    while not found:\n",
    "        for i in range(len(s)-len_slice+1):\n",
    "#             print(s[i:i+len_slice])\n",
    "            if no_dup(s[i:i+len_slice]):\n",
    "                return len_slice\n",
    "        len_slice-=1\n",
    "lengthOfLongestSubstring(' a')"
   ]
  },
  {
   "cell_type": "markdown",
   "id": "71aa4c0a",
   "metadata": {},
   "source": [
    "网友方法\n",
    "+ 解决我的困惑点是，在遇到重复后，切片刀之前重复点+1的地方，这样保留了之前不重复的长度"
   ]
  },
  {
   "cell_type": "code",
   "execution_count": null,
   "id": "10169b00",
   "metadata": {},
   "outputs": [],
   "source": [
    "class Solution:\n",
    "    def lengthOfLongestSubstring(self, s: str) -> int:\n",
    "        a = []\n",
    "        res = 0\n",
    "        for i in s:\n",
    "            if i in a:\n",
    "                a = a[a.index(i)+1:]\n",
    "            a.append(i)\n",
    "            res = res if len(a) < res else len(a)\n",
    "        return res"
   ]
  },
  {
   "cell_type": "code",
   "execution_count": 60,
   "id": "abeabba1",
   "metadata": {},
   "outputs": [
    {
     "data": {
      "text/plain": [
       "'a'"
      ]
     },
     "execution_count": 60,
     "metadata": {},
     "output_type": "execute_result"
    }
   ],
   "source": [
    "list('sssa').pop()"
   ]
  },
  {
   "cell_type": "code",
   "execution_count": 65,
   "id": "b11929d7",
   "metadata": {},
   "outputs": [
    {
     "data": {
      "text/plain": [
       "True"
      ]
     },
     "execution_count": 65,
     "metadata": {},
     "output_type": "execute_result"
    }
   ],
   "source": [
    "def is_sym(s):\n",
    "    ls = list(s)\n",
    "    while len(ls)>1:\n",
    "        if ls.pop(0)!=ls.pop():\n",
    "            return False\n",
    "    return True\n",
    "is_sym('abba')"
   ]
  },
  {
   "cell_type": "code",
   "execution_count": null,
   "id": "280516df",
   "metadata": {},
   "outputs": [],
   "source": [
    "    def longestPalindrome(self, s: str) -> str:\n",
    "        def is_sym(s):\n",
    "            ls = list(s)\n",
    "            while len(ls)>1:\n",
    "                if ls.pop(0)!=ls.pop():\n",
    "                    return False\n",
    "            return True\n",
    "        found = False\n",
    "        len_slice = len(s)\n",
    "        while not found:\n",
    "            for i in range(len(s)-len_slice+1):\n",
    "                if is_sym(s[i:i+len_slice]):\n",
    "                    return s[i:i+len_slice]\n",
    "            len_slice-=1"
   ]
  },
  {
   "cell_type": "markdown",
   "id": "ba96929d",
   "metadata": {},
   "source": [
    "### 26. 删除有序数组中的重复项"
   ]
  },
  {
   "cell_type": "code",
   "execution_count": 5,
   "id": "c4afc151",
   "metadata": {},
   "outputs": [
    {
     "name": "stdout",
     "output_type": "stream",
     "text": [
      "[1, 2, 4, 5]\n"
     ]
    },
    {
     "data": {
      "text/plain": [
       "4"
      ]
     },
     "execution_count": 5,
     "metadata": {},
     "output_type": "execute_result"
    }
   ],
   "source": [
    "def removeDuplicates(nums) -> int:\n",
    "    del_nums = 0\n",
    "    for i in range(len(nums)-1):\n",
    "        if nums[i]==nums[i+1]:\n",
    "            # 若相等，则把i换到前面delnum个的位置，最后删除\n",
    "            nums.insert(del_nums,nums.pop(i))\n",
    "            del_nums+=1\n",
    "    nums = nums[del_nums:]\n",
    "    print(nums)\n",
    "    return len(nums)\n",
    "removeDuplicates([1,1,2,2,4,4,5])"
   ]
  },
  {
   "cell_type": "markdown",
   "id": "c3abd46b",
   "metadata": {},
   "source": [
    "### 27. 移除元素"
   ]
  },
  {
   "cell_type": "code",
   "execution_count": null,
   "id": "c3131759",
   "metadata": {},
   "outputs": [],
   "source": [
    "class Solution:def removeElement(self, nums: List[int], val: int) -> int:\n",
    "    pos = 0\n",
    "    for i in range(len(nums)):\n",
    "        if nums[i]!=val:\n",
    "            nums[pos] = nums[i]\n",
    "            pos+=1\n",
    "    print(nums)\n",
    "    return pos"
   ]
  },
  {
   "cell_type": "markdown",
   "id": "talented-beverage",
   "metadata": {},
   "source": [
    "### 35. 搜索插入位置"
   ]
  },
  {
   "cell_type": "markdown",
   "id": "independent-corps",
   "metadata": {},
   "source": [
    "``` javascript\n",
    "nums = [1,3,5,6], target = 7\n",
    "var searchInsert = function(nums, target) {\n",
    "    for(let i in nums){\n",
    "    if(nums[i]>=target){\n",
    "        return i\n",
    "    }\n",
    "}\n",
    "    return nums.length\n",
    "};\n",
    "```"
   ]
  },
  {
   "cell_type": "markdown",
   "id": "comparable-screen",
   "metadata": {},
   "source": [
    "### 动态规划"
   ]
  },
  {
   "cell_type": "markdown",
   "id": "altered-airline",
   "metadata": {},
   "source": [
    "#### 22. 括号生成"
   ]
  },
  {
   "cell_type": "markdown",
   "id": "limited-collins",
   "metadata": {},
   "source": [
    "首先写一个栈检查器，然后遍历，若符合则存入该结构，在遍历之前首先检查结构中有无此类结构，若有则删除"
   ]
  },
  {
   "cell_type": "code",
   "execution_count": 6,
   "id": "proprietary-carry",
   "metadata": {},
   "outputs": [],
   "source": [
    "def brace_checker(braces):\n",
    "    num = 0\n",
    "    for i in braces:\n",
    "        if i == '(':\n",
    "            num+=1\n",
    "        else:\n",
    "            if num !=0:\n",
    "                num -=1\n",
    "            else:\n",
    "                return '错误'\n",
    "    if num !=0:\n",
    "        return '错误'\n",
    "    return '正确'"
   ]
  },
  {
   "cell_type": "code",
   "execution_count": 11,
   "id": "descending-morris",
   "metadata": {},
   "outputs": [
    {
     "data": {
      "text/plain": [
       "'错误'"
      ]
     },
     "execution_count": 11,
     "metadata": {},
     "output_type": "execute_result"
    }
   ],
   "source": [
    "brace_checker('()())')"
   ]
  },
  {
   "cell_type": "markdown",
   "id": "enhanced-happening",
   "metadata": {},
   "source": [
    "从左边添加(，左边的括号一定是(，因此剩下的n-1可以看做p+q=n-1，即'( + p + ) + q'\n",
    "\n",
    "因此遍历p即可"
   ]
  },
  {
   "cell_type": "code",
   "execution_count": 16,
   "id": "green-batman",
   "metadata": {},
   "outputs": [
    {
     "data": {
      "text/plain": [
       "[[None],\n",
       " ['()'],\n",
       " ['()()', '(())'],\n",
       " ['()()()', '()(())', '(())()', '(()())', '((()))'],\n",
       " ['()()()()',\n",
       "  '()()(())',\n",
       "  '()(())()',\n",
       "  '()(()())',\n",
       "  '()((()))',\n",
       "  '(())()()',\n",
       "  '(())(())',\n",
       "  '(()())()',\n",
       "  '((()))()',\n",
       "  '(()()())',\n",
       "  '(()(()))',\n",
       "  '((())())',\n",
       "  '((()()))',\n",
       "  '(((())))']]"
      ]
     },
     "execution_count": 16,
     "metadata": {},
     "output_type": "execute_result"
    }
   ],
   "source": [
    "n=4\n",
    "\n",
    "total_l = []\n",
    "total_l.append([None])    # 0组括号时记为None\n",
    "total_l.append([\"()\"])    # 1组括号只有一种情况\n",
    "\n",
    "for i in range(2,n+1):\n",
    "    # 当前数量的可用括号\n",
    "    cur_list = []\n",
    "     # 从0到n-1遍历所有可能的结构，p的个数是j，q的个数是n-1-j\n",
    "    for j in range(i):  # 能取到i-1\n",
    "        # 两个循环检查所有p和q\n",
    "        for p in total_l[j]:\n",
    "            for q in total_l[i-1-j]:\n",
    "                if p == None:\n",
    "                    p = ''\n",
    "                if q == None:\n",
    "                    q  = ''\n",
    "                cur_list.append('('+p+')'+q)\n",
    "    total_l.append(cur_list)\n",
    "total_l"
   ]
  },
  {
   "cell_type": "code",
   "execution_count": null,
   "id": "wanted-blind",
   "metadata": {},
   "outputs": [],
   "source": [
    "class Solution:\n",
    "    def generateParenthesis(self, n: int) -> List[str]:\n",
    "        if n == 0:\n",
    "            return []\n",
    "        total_l = []\n",
    "        total_l.append([None])    # 0组括号时记为None\n",
    "        total_l.append([\"()\"])    # 1组括号只有一种情况\n",
    "        for i in range(2,n+1):    # 开始计算i组括号时的括号组合\n",
    "            l = []        \n",
    "            for j in range(i):    # 开始遍历 p q ，其中p+q=i-1 , j 作为索引\n",
    "                now_list1 = total_l[j]    # p = j 时的括号组合情况\n",
    "                now_list2 = total_l[i-1-j]    # q = (i-1) - j 时的括号组合情况\n",
    "                for k1 in now_list1:  \n",
    "                    for k2 in now_list2:\n",
    "                        if k1 == None:\n",
    "                            k1 = \"\"\n",
    "                        if k2 == None:\n",
    "                            k2 = \"\"\n",
    "                        el = \"(\" + k1 + \")\" + k2\n",
    "                        l.append(el)    # 把所有可能的情况添加到 l 中\n",
    "            total_l.append(l)    # l这个list就是i组括号的所有情况，添加到total_l中，继续求解i=i+1的情况\n",
    "        return total_l[n]"
   ]
  },
  {
   "cell_type": "markdown",
   "id": "early-serbia",
   "metadata": {},
   "source": [
    "#### 最大递增子序列（不需要连续）"
   ]
  },
  {
   "cell_type": "markdown",
   "id": "driving-education",
   "metadata": {},
   "source": [
    "递归方式"
   ]
  },
  {
   "cell_type": "code",
   "execution_count": 44,
   "id": "moral-tomorrow",
   "metadata": {},
   "outputs": [
    {
     "data": {
      "text/plain": [
       "6"
      ]
     },
     "execution_count": 44,
     "metadata": {},
     "output_type": "execute_result"
    }
   ],
   "source": [
    "nums = [1,5,2,21,4,32,231,12,21,2112]\n",
    "memo = {}\n",
    "# 返回nums数组中从i开始最大递增子序列\n",
    "def max_incre(i,nums):\n",
    "    if i in memo:\n",
    "        return memo[i]\n",
    "    max_len = 1\n",
    "    # 若只有一个数，则返回1\n",
    "    if i == len(nums)-1:\n",
    "        memo[i]=1\n",
    "        return 1\n",
    "    for j in range(i,len(nums)):\n",
    "        if nums[i]<nums[j]:\n",
    "            max_len = max(max_len,1+max_incre(j,nums))\n",
    "    memo[i]=max_len\n",
    "    return max_len\n",
    "max_incre(0,nums)"
   ]
  },
  {
   "attachments": {
    "image.png": {
     "image/png": "[encoded data removed]"
    }
   },
   "cell_type": "markdown",
   "id": "charming-exhibition",
   "metadata": {},
   "source": [
    "非递归方式（开销更小）\n",
    "![image.png](attachment:image.png)"
   ]
  },
  {
   "cell_type": "code",
   "execution_count": 49,
   "id": "tribal-defensive",
   "metadata": {},
   "outputs": [
    {
     "name": "stdout",
     "output_type": "stream",
     "text": [
      "[6, 5, 5, 4, 4, 3, 2, 3, 2, 1]\n"
     ]
    }
   ],
   "source": [
    "nums = [1,5,2,21,4,32,231,12,21,2112]\n",
    "# 储存每个位置出发最大的递增子序列长度\n",
    "L = [1]*len(nums)\n",
    "# 返回nums数组中从i开始最大递增子序列\n",
    "def max_incre(nums):\n",
    "    # 从最右开始计算L(i)=max(L(i+2),L(i+3))+1\n",
    "    for i in reversed(range(0,len(nums))):\n",
    "        max_len = 1\n",
    "        # 循环与之后的数进行对比\n",
    "        for j in range(i+1,len(nums)):\n",
    "            if nums[i]<nums[j]:\n",
    "                max_len = max(max_len,L[j]+1)\n",
    "        L[i] = max_len\n",
    "    print(L)\n",
    "max_incre(nums)"
   ]
  },
  {
   "cell_type": "markdown",
   "id": "continent-danger",
   "metadata": {},
   "source": [
    "#### 70. 爬楼梯\n",
    "假设你正在爬楼梯。需要 n 阶你才能到达楼顶。\n",
    "每次你可以爬 1 或 2 个台阶。你有多少种不同的方法可以爬到楼顶呢？"
   ]
  },
  {
   "cell_type": "markdown",
   "id": "referenced-cylinder",
   "metadata": {},
   "source": [
    "直觉思路：下一个阶段与当前阶段可分为1和n-1阶或2和n-2阶，录入之前的有效阶数，循环查找即可"
   ]
  },
  {
   "cell_type": "code",
   "execution_count": 21,
   "id": "marine-graphics",
   "metadata": {},
   "outputs": [
    {
     "data": {
      "text/plain": [
       "[0, 1, 1, 2, 3, 5, 8, 13, 21, 34, 55]"
      ]
     },
     "execution_count": 21,
     "metadata": {},
     "output_type": "execute_result"
    }
   ],
   "source": [
    "def climb(n):\n",
    "    mem = [0,1,1]  # 0层无，1层只有一种，2层有两种\n",
    "    # 遍历mem数组3到n-1的下标\n",
    "    for i in range(3,n+1):\n",
    "        num = 0\n",
    "        # 次数等于两种情况之和，即i-1和i-2时情况之和\n",
    "        mem.append(mem[i-1]+mem[i-2])\n",
    "    return mem\n",
    "climb(10)"
   ]
  },
  {
   "cell_type": "markdown",
   "id": "funky-agenda",
   "metadata": {},
   "source": [
    "#### 118. 杨辉三角\n",
    "给定一个非负整数 numRows，生成「杨辉三角」的前 numRows 行。\n",
    "\n",
    "在「杨辉三角」中，每个数是它左上方和右上方的数的和。"
   ]
  },
  {
   "cell_type": "markdown",
   "id": "labeled-privacy",
   "metadata": {},
   "source": [
    "直觉思路：当前数组下标的数是上一个数组的下标数+下标数-1"
   ]
  },
  {
   "cell_type": "code",
   "execution_count": 19,
   "id": "adequate-diploma",
   "metadata": {},
   "outputs": [
    {
     "data": {
      "text/plain": [
       "[[None],\n",
       " [1],\n",
       " [1, 1],\n",
       " [1, 2, 1],\n",
       " [1, 3, 3, 1],\n",
       " [1, 4, 6, 4, 1],\n",
       " [1, 5, 10, 10, 5, 1],\n",
       " [1, 6, 15, 20, 15, 6, 1],\n",
       " [1, 7, 21, 35, 35, 21, 7, 1],\n",
       " [1, 8, 28, 56, 70, 56, 28, 8, 1],\n",
       " [1, 9, 36, 84, 126, 126, 84, 36, 9, 1]]"
      ]
     },
     "execution_count": 19,
     "metadata": {},
     "output_type": "execute_result"
    }
   ],
   "source": [
    "def trian(n):\n",
    "    mem = [[None],[1]]\n",
    "    # 从第二行开始遍历\n",
    "    for i in range(2,n+1):\n",
    "        temp = []\n",
    "        # 遍历这一行的中间元素\n",
    "        for j in range(1,i-1):\n",
    "            temp.append(mem[i-1][j]+mem[i-1][j-1])\n",
    "        # 最后添加最左右两边的元素（也就是1）\n",
    "        temp.append(1)\n",
    "        temp.insert(0,1)\n",
    "        mem.append(temp)\n",
    "    return mem\n",
    "trian(10)"
   ]
  },
  {
   "cell_type": "markdown",
   "id": "underlying-greensboro",
   "metadata": {},
   "source": [
    "#### 1137. 第 N 个泰波那契数\n",
    "泰波那契序列 Tn 定义如下： \n",
    "\n",
    "T0 = 0, T1 = 1, T2 = 1, 且在 n >= 0 的条件下 Tn+3 = Tn + Tn+1 + Tn+2\n",
    "\n",
    "给你整数 n，请返回第 n 个泰波那契数 Tn 的值。\n"
   ]
  },
  {
   "cell_type": "code",
   "execution_count": 22,
   "id": "alleged-hughes",
   "metadata": {},
   "outputs": [
    {
     "data": {
      "text/plain": [
       "[0, 1, 1, 2, 4, 7, 13, 24, 44, 81, 149]"
      ]
     },
     "execution_count": 22,
     "metadata": {},
     "output_type": "execute_result"
    }
   ],
   "source": [
    "def taibo(n):\n",
    "    mem = [0,1,1]  # 0层无，1层只有一种，2层有两种\n",
    "    # 遍历mem数组3到n-1的下标\n",
    "    for i in range(3,n+1):\n",
    "        num = 0\n",
    "        # 次数等于两种情况之和，即i-1和i-2时情况之和\n",
    "        mem.append(mem[i-1]+mem[i-2]+mem[i-3])\n",
    "    return mem\n",
    "taibo(10)"
   ]
  },
  {
   "cell_type": "markdown",
   "id": "played-transition",
   "metadata": {},
   "source": [
    "#### 746. 使用最小花费爬楼梯\n",
    "给你一个整数数组 cost ，其中 cost[i] 是从楼梯第 i 个台阶向上爬需要支付的费用。一旦你支付此费用，即可选择向上爬一个或者两个台阶。\n",
    "\n",
    "你可以选择从下标为 0 或下标为 1 的台阶开始爬楼梯。\n",
    "\n",
    "请你计算并返回达到楼梯顶部的最低花费。"
   ]
  },
  {
   "cell_type": "markdown",
   "id": "second-removal",
   "metadata": {},
   "source": [
    "直觉思路： 第n步时，只能选择从2+（n-2）和1+（n-1）里选择最小值并保存即可"
   ]
  },
  {
   "cell_type": "code",
   "execution_count": 28,
   "id": "reflected-hearts",
   "metadata": {},
   "outputs": [
    {
     "data": {
      "text/plain": [
       "[0, 0, 10, 15]"
      ]
     },
     "execution_count": 28,
     "metadata": {},
     "output_type": "execute_result"
    }
   ],
   "source": [
    "def climb(cost):\n",
    "    # 层数\n",
    "    n = len(cost)\n",
    "    mem = [0,0]   # 前两层不需要花钱\n",
    "    # 遍历cost数组2到n-1的下标 \n",
    "    for i in range(2,n+1):   # 这里n+1是因为要到顶部（最后一级台阶不算顶部）\n",
    "        num = 0\n",
    "        # 花费等于之前层跳到当前层花费+到之前层的花费\n",
    "        mem.append(min(cost[i-1]+mem[i-1],cost[i-2]+mem[i-2]))\n",
    "    return mem\n",
    "climb([10,15,20])"
   ]
  },
  {
   "cell_type": "markdown",
   "id": "understood-determination",
   "metadata": {},
   "source": [
    "#### !!!53. 最大子数组和"
   ]
  },
  {
   "cell_type": "markdown",
   "id": "dea646f5",
   "metadata": {},
   "source": [
    "网友答案解析：\n",
    "+ pre的最大函数隐含了一个规则：若num[i]<=0，则另起炉灶选择num[i]\n",
    "+ 另一个问题是，若之前的数组比当前的数大，但是这个数以及以后的数加起来更大，会怎样？\n",
    "+ 表示以 nums[i] 结尾 的 连续 子数组的最大和\n",
    "+ 解决问题的方法就是遍历所有数结尾的最大和，且在过程中保存最大值"
   ]
  },
  {
   "cell_type": "code",
   "execution_count": 2,
   "id": "b8824ebd",
   "metadata": {},
   "outputs": [
    {
     "name": "stdout",
     "output_type": "stream",
     "text": [
      "nums[i]为2，pre为0\n",
      "结果为2\n",
      "nums[i]为1，pre为2\n",
      "结果为3\n",
      "nums[i]为-1，pre为3\n",
      "结果为2\n",
      "nums[i]为1，pre为2\n",
      "结果为3\n",
      "nums[i]为-1，pre为3\n",
      "结果为2\n",
      "nums[i]为3，pre为2\n",
      "结果为5\n",
      "nums[i]为1，pre为5\n",
      "结果为6\n",
      "nums[i]为-5，pre为6\n",
      "结果为1\n",
      "nums[i]为4，pre为1\n",
      "结果为5\n"
     ]
    },
    {
     "data": {
      "text/plain": [
       "6"
      ]
     },
     "execution_count": 2,
     "metadata": {},
     "output_type": "execute_result"
    }
   ],
   "source": [
    "nums = [-2,1,-3,1,-1,2,1,-5,4]\n",
    "def maxSubArray(nums) -> int:\n",
    "    size = len(nums)\n",
    "    pre = 0\n",
    "    res = nums[0]\n",
    "    for i in range(size):\n",
    "        print(f'nums[i]为{nums[i]}，pre为{pre}')\n",
    "        pre = max(nums[i], pre + nums[i])\n",
    "        print(f'结果为{pre}')\n",
    "        res = max(res, pre)\n",
    "    return res\n",
    "maxSubArray( [2,1,-1,1,-1,3,1,-5,4])"
   ]
  },
  {
   "cell_type": "markdown",
   "id": "64f42934",
   "metadata": {},
   "source": [
    "分治法\n",
    "对于一个区间 [l,r][l,r]，我们可以维护四个量：\n",
    "\n",
    "$\\textit{lSum}$ 表示 [l,r] 内以 l为左端点的最大子段和 <br>\n",
    "$\\textit{rSum}$ 表示 [l,r] 内以 r 为右端点的最大子段和<br>\n",
    "$\\textit{mSum}$ 表示 [l,r]内的最大子段和<br>\n",
    "$\\textit{iSum}$ 表示 [l,r] 的区间和<br>\n"
   ]
  },
  {
   "cell_type": "markdown",
   "id": "236f2f10",
   "metadata": {},
   "source": [
    "```javascript\n",
    "function Status(l, r, m, i) {\n",
    "    this.lSum = l;\n",
    "    this.rSum = r;\n",
    "    this.mSum = m;\n",
    "    this.iSum = i;\n",
    "}\n",
    "\n",
    "const pushUp = (l, r) => {\n",
    "    const iSum = l.iSum + r.iSum;      //区间和等于两个区间相加\n",
    "    const lSum = Math.max(l.lSum, l.iSum + r.lSum);      //最大字段和因为是从左开始的，因此求最大即可\n",
    "    const rSum = Math.max(r.rSum, r.iSum + l.rSum);\n",
    "    //最大字段和要么是左，右，要么是左右中间（即左区间的右端点最大和+左...右端点最大和）\n",
    "    const mSum = Math.max(Math.max(l.mSum, r.mSum), l.rSum + r.lSum);\n",
    "    return new Status(lSum, rSum, mSum, iSum);\n",
    "}\n",
    "\n",
    "const getInfo = (a, l, r) => {\n",
    "    if (l === r) {   //若区间只有一个点，则返回这个点\n",
    "        return new Status(a[l], a[l], a[l], a[l]);\n",
    "    }\n",
    "    const m = (l + r) >> 1;\n",
    "    const lSub = getInfo(a, l, m);\n",
    "    const rSub = getInfo(a, m + 1, r);\n",
    "    return pushUp(lSub, rSub);\n",
    "}\n",
    "\n",
    "var maxSubArray = function(nums) {\n",
    "    return getInfo(nums, 0, nums.length - 1).mSum;\n",
    "};\n",
    "\n",
    "\n",
    "```"
   ]
  },
  {
   "cell_type": "markdown",
   "id": "thirty-electron",
   "metadata": {},
   "source": [
    "#### 121. 买卖股票的最佳时机\n",
    "给定一个数组 prices ，它的第 i 个元素 prices[i] 表示一支给定股票第 i 天的价格。\n",
    "\n",
    "你只能选择 某一天 买入这只股票，并选择在 未来的某一个不同的日子 卖出该股票。设计一个算法来计算你所能获取的最大利润。\n",
    "\n",
    "返回你可以从这笔交易中获取的最大利润。如果你不能获取任何利润，返回 0 。\n",
    "\n"
   ]
  },
  {
   "cell_type": "markdown",
   "id": "attractive-detection",
   "metadata": {},
   "source": [
    "思路：从右往左遍历，每一遍历放入买入价格，在下一次遍历时计算最大卖出值  \n",
    "**超出时间限制**"
   ]
  },
  {
   "cell_type": "code",
   "execution_count": 10,
   "id": "handed-engine",
   "metadata": {},
   "outputs": [
    {
     "name": "stdout",
     "output_type": "stream",
     "text": [
      "[0, 5, 1, 3, 0, 0]\n"
     ]
    }
   ],
   "source": [
    "def stock(prices):\n",
    "    profits = [0]*len(prices)\n",
    "    for i in range(1,len(prices)):\n",
    "        # 计算当天卖出的价格\n",
    "        for j in range(0,i):\n",
    "            profits[j] = max(profits[j],prices[i]-prices[j])\n",
    "    print(profits)\n",
    "stock([7,1,5,3,6,4])"
   ]
  },
  {
   "cell_type": "markdown",
   "id": "educational-quality",
   "metadata": {},
   "source": [
    "**超出时间限制**思路：已遍历的买入值肯定只会取最小值，用这个值跟当前值相减"
   ]
  },
  {
   "cell_type": "code",
   "execution_count": 12,
   "id": "extensive-hebrew",
   "metadata": {},
   "outputs": [
    {
     "name": "stdout",
     "output_type": "stream",
     "text": [
      "5\n"
     ]
    }
   ],
   "source": [
    "def stock(prices):\n",
    "    profits = 0\n",
    "    min_buy = prices[0]\n",
    "    for i in range(1,len(prices)):\n",
    "        # 计算当天卖出的价格\n",
    "        profits = max(profits,prices[i]-min_buy)\n",
    "        # 检查是不是最小值\n",
    "        min_buy = min(min_buy,prices[i])\n",
    "    print(profits)\n",
    "stock([7,1,5,3,6,4])"
   ]
  },
  {
   "cell_type": "markdown",
   "id": "settled-peripheral",
   "metadata": {},
   "source": [
    "#### ！（不想做）338. 比特位计数\n",
    "给你一个整数 n ，对于 0 <= i <= n 中的每个 i ，计算其二进制表示中 1 的个数 ，返回一个长度为 n + 1 的数组 ans 作为答案。"
   ]
  },
  {
   "cell_type": "markdown",
   "id": "dated-sheep",
   "metadata": {},
   "source": [
    "思路：首先转为二进制看有多少位，通过规律生成"
   ]
  },
  {
   "cell_type": "markdown",
   "id": "human-pocket",
   "metadata": {},
   "source": [
    "#### 392. 判断子序列\n",
    "给定字符串 s 和 t ，判断 s 是否为 t 的子序列。\n",
    "\n",
    "字符串的一个子序列是原始字符串删除一些（也可以不删除）字符而不改变剩余字符相对位置形成的新字符串。（例如，\"ace\"是\"abcde\"的一个子序列，而\"aec\"不是）。\n",
    "\n",
    "进阶：\n",
    "\n",
    "如果有大量输入的 S，称作 S1, S2, ... , Sk 其中 k >= 10亿，你需要依次检查它们是否为 T 的子序列。在这种情况下，你会怎样改变代码？\n"
   ]
  },
  {
   "cell_type": "markdown",
   "id": "spoken-daughter",
   "metadata": {},
   "source": [
    "从前往后扫，若找到字符，则计录，找下一个字符"
   ]
  },
  {
   "cell_type": "code",
   "execution_count": 30,
   "id": "incorrect-starter",
   "metadata": {},
   "outputs": [
    {
     "name": "stdout",
     "output_type": "stream",
     "text": [
      "1\n",
      "1\n",
      "2\n",
      "2\n",
      "2\n",
      "3\n"
     ]
    },
    {
     "data": {
      "text/plain": [
       "False"
      ]
     },
     "execution_count": 30,
     "metadata": {},
     "output_type": "execute_result"
    }
   ],
   "source": [
    "s = \"abc\"\n",
    "t = \"ahbgdc\"\n",
    "def isSubsequence(s: str, t: str) -> bool:\n",
    "    if len(s)==0:\n",
    "        return True\n",
    "    re = False\n",
    "    index = 0\n",
    "    for i in t:\n",
    "        if i == s[index]:\n",
    "            index+=1\n",
    "        print(index)\n",
    "        if index == len(s):\n",
    "            re = True\n",
    "            break\n",
    "    return re\n",
    "isSubsequence(s,t)"
   ]
  },
  {
   "cell_type": "markdown",
   "id": "accepted-equivalent",
   "metadata": {},
   "source": [
    "#### 1646. 获取生成数组中的最大值\n",
    "给你一个整数 n 。按下述规则生成一个长度为 n + 1 的数组 nums ：\n",
    "\n",
    "nums[0] = 0<br>\n",
    "nums[1] = 1<br>\n",
    "当 2 <= 2 * i <= n 时，nums[2 * i] = nums[i]<br>\n",
    "当 2 <= 2 * i + 1 <= n 时，nums[2 * i + 1] = nums[i] + nums[i + 1]<br>\n",
    "返回生成数组 nums 中的 最大 值。<br>"
   ]
  },
  {
   "cell_type": "code",
   "execution_count": 53,
   "id": "silent-prospect",
   "metadata": {},
   "outputs": [
    {
     "data": {
      "text/plain": [
       "[0, 1, 0]"
      ]
     },
     "execution_count": 53,
     "metadata": {},
     "output_type": "execute_result"
    }
   ],
   "source": [
    "def getMaximumGenerated(n: int) -> int:\n",
    "    if n == 0:\n",
    "        return 0\n",
    "    nums = [0,1]\n",
    "    n = n+1\n",
    "    for i in range(1,int(n/2)):\n",
    "        nums.append(nums[i])\n",
    "        nums.append(nums[i]+nums[i+1])\n",
    "    # 判断是不是偶数，若是则最后再加一次和\n",
    "    if n%2!=0:\n",
    "        nums.append(nums[int(n/2)])\n",
    "    return nums\n",
    "getMaximumGenerated(0)"
   ]
  },
  {
   "cell_type": "code",
   "execution_count": 40,
   "id": "hearing-curve",
   "metadata": {},
   "outputs": [
    {
     "data": {
      "text/plain": [
       "5"
      ]
     },
     "execution_count": 40,
     "metadata": {},
     "output_type": "execute_result"
    }
   ],
   "source": [
    "int(11/2)"
   ]
  },
  {
   "cell_type": "markdown",
   "id": "amino-italy",
   "metadata": {},
   "source": [
    "#### 1025. 除数博弈\n",
    "爱丽丝和鲍勃一起玩游戏，他们轮流行动。爱丽丝先手开局。\n",
    "\n",
    "最初，黑板上有一个数字 n 。在每个玩家的回合，玩家需要执行以下操作：\n",
    "\n",
    "选出任一 x，满足 0 < x < n 且 n % x == 0 。\n",
    "用 n - x 替换黑板上的数字 n 。\n",
    "如果玩家无法执行这些操作，就会输掉游戏。\n",
    "\n",
    "只有在爱丽丝在游戏中取得胜利时才返回 true 。假设两个玩家都以最佳状态参与游戏。\n",
    "\n"
   ]
  },
  {
   "cell_type": "markdown",
   "id": "whole-atlas",
   "metadata": {},
   "source": [
    "思路：从0开始计算无法操作的数并存入，"
   ]
  },
  {
   "cell_type": "code",
   "execution_count": null,
   "id": "ambient-poster",
   "metadata": {},
   "outputs": [],
   "source": []
  },
  {
   "cell_type": "markdown",
   "id": "considerable-ancient",
   "metadata": {},
   "source": [
    "### 58. 最后一个单词的长度"
   ]
  },
  {
   "cell_type": "markdown",
   "id": "great-answer",
   "metadata": {},
   "source": [
    "```javascript\n",
    "var lengthOfLastWord = function(s) {\n",
    "    temp = ''\n",
    "    re = ''\n",
    "    for(let char in s){\n",
    "        if(char!=' '){\n",
    "            temp=temp+char\n",
    "        }\n",
    "        else{\n",
    "            re = temp\n",
    "            temp = ''\n",
    "        }\n",
    "    }\n",
    "    return re.length\n",
    "};\n",
    "```"
   ]
  },
  {
   "cell_type": "markdown",
   "id": "d0ab57cc",
   "metadata": {},
   "source": [
    "### 66. 加一"
   ]
  },
  {
   "cell_type": "code",
   "execution_count": 32,
   "id": "6833b383",
   "metadata": {},
   "outputs": [
    {
     "data": {
      "text/plain": [
       "[1, 0, 0]"
      ]
     },
     "execution_count": 32,
     "metadata": {},
     "output_type": "execute_result"
    }
   ],
   "source": [
    "digits = [9,9]\n",
    "digits.insert(0,0)\n",
    "# 从末尾遍历，若+1>10则继续循环\n",
    "\n",
    "for i in range(1,len(digits)+1):\n",
    "    if digits[-i]+1==10:\n",
    "        digits[-i] = 0\n",
    "    else:\n",
    "        digits[-i]+=1\n",
    "        break\n",
    "if digits[0]==0:\n",
    "    del digits[0]\n",
    "digits"
   ]
  },
  {
   "cell_type": "markdown",
   "id": "polyphonic-management",
   "metadata": {},
   "source": [
    "### 67. 二进制求和"
   ]
  },
  {
   "cell_type": "markdown",
   "id": "handled-theta",
   "metadata": {},
   "source": [
    "```javascript\n",
    "/**\n",
    " * @param {string} a\n",
    " * @param {string} b\n",
    " * @return {string}\n",
    " */\n",
    "/**\n",
    " * @param {string} a\n",
    " * @param {string} b\n",
    " * @return {string}\n",
    " */\n",
    "var addBinary = function(a, b) {\n",
    "    end = false\n",
    "    num = 0\n",
    "    base = 1\n",
    "    a = a.split('').map(val=>parseInt(val))\n",
    "    b = b.split('').map(val=>parseInt(val))\n",
    "    while(!end){\n",
    "        a_last = a.pop()\n",
    "        b_last = b.pop()\n",
    "        if(a_last !== undefined && b_last !==undefined){\n",
    "            num = num + (a_last+b_last)*base\n",
    "        }\n",
    "        else if(b_last !==undefined){\n",
    "            num = num + (b_last)*base\n",
    "        }\n",
    "        else if(a_last !== undefined){\n",
    "            num = num + (a_last)*base\n",
    "        }\n",
    "        else{\n",
    "            end = true\n",
    "        }\n",
    "        base = base*2\n",
    "    }\n",
    "    re = ''\n",
    "\n",
    "    while(Math.floor(num/2)!=0){\n",
    "        re = String(num%2)+re\n",
    "        num = Math.floor(num/2)\n",
    "    }\n",
    "    if(num===1||num===0){\n",
    "        re = String(num%2)+re\n",
    "    }\n",
    "    return re\n",
    "};\n",
    "```"
   ]
  },
  {
   "cell_type": "markdown",
   "id": "f8342c2a",
   "metadata": {},
   "source": [
    "## 算法"
   ]
  },
  {
   "cell_type": "markdown",
   "id": "minimal-boring",
   "metadata": {},
   "source": [
    "### 进制转换\n",
    "#### 普通循环"
   ]
  },
  {
   "cell_type": "markdown",
   "id": "impossible-chest",
   "metadata": {},
   "source": [
    "不能使用round，因为round是四舍五入，//地板除直接舍弃\n",
    "<br>join连接列表里的字符，前面的字符串作为间隔"
   ]
  },
  {
   "cell_type": "code",
   "execution_count": 58,
   "id": "south-mention",
   "metadata": {},
   "outputs": [],
   "source": [
    "from collections import deque\n",
    "def str_to_base(num,base):\n",
    "    ram_list=deque()\n",
    "    result = ''\n",
    "    while num//base!=0:\n",
    "        ram = num % base\n",
    "        ram_list.append(ram)\n",
    "        num = num//base\n",
    "    \n",
    "    ram_list.append(num)\n",
    "    print(ram_list)\n",
    "    while len(ram_list)>0:\n",
    "        print(len(ram_list))\n",
    "        result = ''.join([result,str(ram_list.pop())])\n",
    "    return result"
   ]
  },
  {
   "cell_type": "code",
   "execution_count": 61,
   "id": "worldwide-scientist",
   "metadata": {},
   "outputs": [
    {
     "name": "stdout",
     "output_type": "stream",
     "text": [
      "deque([0, 0, 1])\n",
      "3\n",
      "2\n",
      "1\n"
     ]
    },
    {
     "data": {
      "text/plain": [
       "'100'"
      ]
     },
     "execution_count": 61,
     "metadata": {},
     "output_type": "execute_result"
    }
   ],
   "source": [
    "str_to_base(9,3)"
   ]
  },
  {
   "cell_type": "markdown",
   "id": "great-relevance",
   "metadata": {},
   "source": [
    "#### 使用递归"
   ]
  },
  {
   "cell_type": "markdown",
   "id": "toxic-literacy",
   "metadata": {},
   "source": [
    "问题在于result没有赋值"
   ]
  },
  {
   "cell_type": "code",
   "execution_count": 106,
   "id": "secure-colony",
   "metadata": {},
   "outputs": [],
   "source": [
    "def str_to_base(num,base,result=''):\n",
    "    ram = num % base\n",
    "    if num//base==0:\n",
    "        return str(ram)\n",
    "    else:\n",
    "        result =  ''.join([str_to_base(num//base,base,result),str(ram)])\n",
    "        return result"
   ]
  },
  {
   "cell_type": "code",
   "execution_count": 107,
   "id": "twelve-entertainment",
   "metadata": {},
   "outputs": [
    {
     "data": {
      "text/plain": [
       "'102'"
      ]
     },
     "execution_count": 107,
     "metadata": {},
     "output_type": "execute_result"
    }
   ],
   "source": [
    "str_to_base(11,3)"
   ]
  },
  {
   "cell_type": "code",
   "execution_count": 80,
   "id": "ready-being",
   "metadata": {},
   "outputs": [
    {
     "data": {
      "text/plain": [
       "'0'"
      ]
     },
     "execution_count": 80,
     "metadata": {},
     "output_type": "execute_result"
    }
   ],
   "source": [
    "''.join(['0',''])"
   ]
  },
  {
   "cell_type": "code",
   "execution_count": 1,
   "id": "mechanical-calgary",
   "metadata": {},
   "outputs": [
    {
     "data": {
      "text/plain": [
       "1"
      ]
     },
     "execution_count": 1,
     "metadata": {},
     "output_type": "execute_result"
    }
   ],
   "source": [
    "10%3"
   ]
  },
  {
   "cell_type": "code",
   "execution_count": 28,
   "id": "equipped-progress",
   "metadata": {},
   "outputs": [
    {
     "data": {
      "text/plain": [
       "6"
      ]
     },
     "execution_count": 28,
     "metadata": {},
     "output_type": "execute_result"
    }
   ],
   "source": [
    "20//3"
   ]
  },
  {
   "cell_type": "markdown",
   "id": "eafe813c",
   "metadata": {},
   "source": [
    "### 搜索"
   ]
  },
  {
   "cell_type": "markdown",
   "id": "4a48c002",
   "metadata": {},
   "source": [
    "#### 无序列表的顺序搜索"
   ]
  },
  {
   "cell_type": "code",
   "execution_count": 1,
   "id": "5265d9e3",
   "metadata": {},
   "outputs": [],
   "source": [
    "a=[1,2,3,4,5]"
   ]
  },
  {
   "cell_type": "code",
   "execution_count": 3,
   "id": "5e80716c",
   "metadata": {},
   "outputs": [],
   "source": [
    "def seq_search(list_search,target):\n",
    "    found =False\n",
    "    for i in list_search:\n",
    "        found = True if i == target else False\n",
    "    return found"
   ]
  },
  {
   "cell_type": "code",
   "execution_count": 6,
   "id": "b3234641",
   "metadata": {},
   "outputs": [
    {
     "data": {
      "text/plain": [
       "False"
      ]
     },
     "execution_count": 6,
     "metadata": {},
     "output_type": "execute_result"
    }
   ],
   "source": [
    "seq_search(a,15)"
   ]
  },
  {
   "cell_type": "markdown",
   "id": "8d6ec544",
   "metadata": {},
   "source": [
    "#### 有序列表的顺序搜索"
   ]
  },
  {
   "cell_type": "code",
   "execution_count": 7,
   "id": "be04f6f8",
   "metadata": {},
   "outputs": [],
   "source": [
    "a=[1,2,3,4,5]"
   ]
  },
  {
   "cell_type": "code",
   "execution_count": 8,
   "id": "37831ae9",
   "metadata": {},
   "outputs": [],
   "source": [
    "def seq_search(list_search,target):\n",
    "    found =False\n",
    "    for i in list_search:\n",
    "        if i >target:\n",
    "            return False\n",
    "        found = True if i == target else False\n",
    "    return found"
   ]
  },
  {
   "cell_type": "markdown",
   "id": "d78232da",
   "metadata": {},
   "source": [
    "#### 有序列表的二分搜索"
   ]
  },
  {
   "cell_type": "markdown",
   "id": "3ce44f98",
   "metadata": {},
   "source": [
    "第一次： 2.5  [2:5] \n",
    "第二次     1.5  [3:5]"
   ]
  },
  {
   "cell_type": "code",
   "execution_count": 54,
   "id": "2a126831",
   "metadata": {},
   "outputs": [],
   "source": [
    "a=[1,2,3,4,5]\n",
    "def seq_search(list_search,target):\n",
    "    found =False\n",
    "    first = 0\n",
    "    # 这里为什么要-1？？？\n",
    "    # 防止index溢出，有可能取到len值\n",
    "    last = len(list_search)-1\n",
    "    while not found and first<=last:\n",
    "        # 是last+first，不是减号！！\n",
    "        # round因为是0.5所以可用，但是最好用//\n",
    "        temp_pos = round((last+first)/2)\n",
    "        if list_search[temp_pos] == target:\n",
    "            found = True\n",
    "        elif list_search[temp_pos] > target:\n",
    "            # 我所没做到的就在这个+1上\n",
    "            last = temp_pos-1\n",
    "        else:\n",
    "            first = temp_pos+1\n",
    "\n",
    "        print(temp_pos,first,last)\n",
    "    return found"
   ]
  },
  {
   "cell_type": "code",
   "execution_count": 52,
   "id": "48a42966",
   "metadata": {},
   "outputs": [
    {
     "name": "stdout",
     "output_type": "stream",
     "text": [
      "2 3 4\n",
      "4 5 4\n"
     ]
    },
    {
     "data": {
      "text/plain": [
       "False"
      ]
     },
     "execution_count": 52,
     "metadata": {},
     "output_type": "execute_result"
    }
   ],
   "source": [
    "seq_search(a,6)"
   ]
  },
  {
   "cell_type": "markdown",
   "id": "b2f108ac",
   "metadata": {},
   "source": [
    "#### 有序列表的二分搜索（递归）"
   ]
  },
  {
   "cell_type": "code",
   "execution_count": 88,
   "id": "aa94bc9a",
   "metadata": {},
   "outputs": [],
   "source": [
    "# 基准条件是相同或者first>last\n",
    "a=[1,2,3,4,5,12,32,2321,231321]\n",
    "def seq_search(list_search,target):\n",
    "    found =False\n",
    "    # 错误所在，每次first都会归零\n",
    "#     first = 0\n",
    "    last = len(list_search)-1\n",
    "    if last<0:\n",
    "        return False\n",
    "    mid_pos = len(list_search)//2\n",
    "    print(last,mid_pos,list_search,sep=',')\n",
    "    if list_search[mid_pos] == target:\n",
    "        return True\n",
    "\n",
    "    elif list_search[mid_pos] > target:\n",
    "        # 数组是不取最后一个的，所以mid_pos不能-1\n",
    "        found = seq_search(list_search[:mid_pos],target)\n",
    "    else:\n",
    "        found = seq_search(list_search[mid_pos+1:],target)\n",
    "    return found"
   ]
  },
  {
   "cell_type": "code",
   "execution_count": 90,
   "id": "27892b2f",
   "metadata": {},
   "outputs": [
    {
     "name": "stdout",
     "output_type": "stream",
     "text": [
      "8,4,[1, 2, 3, 4, 5, 12, 32, 2321, 231321]\n",
      "3,2,[12, 32, 2321, 231321]\n",
      "1,1,[12, 32]\n",
      "0,0,[12]\n"
     ]
    },
    {
     "data": {
      "text/plain": [
       "True"
      ]
     },
     "execution_count": 90,
     "metadata": {},
     "output_type": "execute_result"
    }
   ],
   "source": [
    "seq_search(a,12)"
   ]
  },
  {
   "cell_type": "code",
   "execution_count": 1,
   "id": "76e6a0f2",
   "metadata": {
    "scrolled": true
   },
   "outputs": [
    {
     "data": {
      "text/plain": [
       "99"
      ]
     },
     "execution_count": 1,
     "metadata": {},
     "output_type": "execute_result"
    }
   ],
   "source": [
    "ord('c')"
   ]
  },
  {
   "cell_type": "markdown",
   "id": "9add4b63",
   "metadata": {},
   "source": [
    "### 排序"
   ]
  },
  {
   "cell_type": "code",
   "execution_count": 22,
   "id": "366e36fe",
   "metadata": {},
   "outputs": [],
   "source": [
    "alist = [1,3,1,4,32,5,7,3,2,8,5,0]"
   ]
  },
  {
   "cell_type": "code",
   "execution_count": 4,
   "id": "8a0dd381",
   "metadata": {},
   "outputs": [
    {
     "data": {
      "text/plain": [
       "[0, 1, 1, 2, 3, 3, 4, 5, 5, 7, 8, 32]"
      ]
     },
     "execution_count": 4,
     "metadata": {},
     "output_type": "execute_result"
    }
   ],
   "source": [
    "sorted(alist)"
   ]
  },
  {
   "cell_type": "markdown",
   "id": "4a90ea6c",
   "metadata": {},
   "source": [
    "#### 冒泡排序"
   ]
  },
  {
   "cell_type": "code",
   "execution_count": 86,
   "id": "703deb18",
   "metadata": {},
   "outputs": [
    {
     "data": {
      "text/plain": [
       "[0, 1, 2, 3, 4]"
      ]
     },
     "execution_count": 86,
     "metadata": {},
     "output_type": "execute_result"
    }
   ],
   "source": [
    "list(range(5))"
   ]
  },
  {
   "cell_type": "code",
   "execution_count": 87,
   "id": "b52eeba2",
   "metadata": {},
   "outputs": [],
   "source": [
    "alist1 = [1,3,1,4,32,5,7,3,2,8,5,0]\n",
    "# 使用递归\n",
    "def bubbleSort(alist):\n",
    "    sorted_list = []\n",
    "    # 基准条件\n",
    "    if alist == []:\n",
    "        return []\n",
    "    for i in range(len(alist)-1):\n",
    "        if alist[i]>alist[i+1]:\n",
    "            alist[i],alist[i+1] = alist[i+1],alist[i]\n",
    "    # 此时最大值已经处于最右边，弹出即可，将其余值递归\n",
    "    sorted_list.append(alist.pop())\n",
    "    alist=bubbleSort(alist) + sorted_list\n",
    "    return alist"
   ]
  },
  {
   "cell_type": "code",
   "execution_count": 88,
   "id": "219fdd02",
   "metadata": {},
   "outputs": [
    {
     "data": {
      "text/plain": [
       "[0, 1, 1, 2, 3, 3, 4, 5, 5, 7, 8, 32]"
      ]
     },
     "execution_count": 88,
     "metadata": {},
     "output_type": "execute_result"
    }
   ],
   "source": [
    "bubbleSort(alist1)"
   ]
  },
  {
   "cell_type": "code",
   "execution_count": 34,
   "id": "6e97d65c",
   "metadata": {},
   "outputs": [
    {
     "data": {
      "text/plain": [
       "[10, 9, 8, 7, 6, 5, 4, 3, 2, 1]"
      ]
     },
     "execution_count": 34,
     "metadata": {},
     "output_type": "execute_result"
    }
   ],
   "source": [
    "list(range(10,0,-1))"
   ]
  },
  {
   "cell_type": "markdown",
   "id": "1077c9a2",
   "metadata": {},
   "source": [
    "#### 选择排序"
   ]
  },
  {
   "cell_type": "code",
   "execution_count": 55,
   "id": "a1013ec4",
   "metadata": {},
   "outputs": [],
   "source": [
    "alist1 = [1,3,1,4,32,5,7,3,2,8,5,0]\n",
    "# 使用递归\n",
    "def bubbleSort(alist):\n",
    "    sorted_list = []\n",
    "    pos = 0\n",
    "    # 基准条件\n",
    "    if alist == []:\n",
    "        return []\n",
    "    for i in range(len(alist)-1):\n",
    "        # 记录下最大值的位置\n",
    "        if alist[i]>alist[pos]:\n",
    "            pos = i\n",
    "    # 循环完成后调换位置\n",
    "    alist[pos],alist[-1] =  alist[-1],alist[pos]\n",
    "    # 此时最大值已经处于最右边，弹出即可，将其余值递归\n",
    "    sorted_list.append(alist.pop())\n",
    "    alist=bubbleSort(alist) + sorted_list\n",
    "    return alist"
   ]
  },
  {
   "cell_type": "code",
   "execution_count": 57,
   "id": "1699e7af",
   "metadata": {},
   "outputs": [
    {
     "data": {
      "text/plain": [
       "[0, 1, 1, 2, 3, 3, 4, 5, 5, 7, 8, 32]"
      ]
     },
     "execution_count": 57,
     "metadata": {},
     "output_type": "execute_result"
    }
   ],
   "source": [
    "bubbleSort(alist1)"
   ]
  },
  {
   "cell_type": "code",
   "execution_count": 54,
   "id": "32205a66",
   "metadata": {},
   "outputs": [
    {
     "data": {
      "text/plain": [
       "[]"
      ]
     },
     "execution_count": 54,
     "metadata": {},
     "output_type": "execute_result"
    }
   ],
   "source": [
    "[1][0:-1]"
   ]
  },
  {
   "cell_type": "markdown",
   "id": "e189d173",
   "metadata": {},
   "source": [
    "#### 插入排序"
   ]
  },
  {
   "cell_type": "code",
   "execution_count": 84,
   "id": "0e0b7b57",
   "metadata": {},
   "outputs": [],
   "source": [
    "alist1 = [1,3,1,4,32,5,7,3,2,8,5,0]\n",
    "def bubbleSort(alist):\n",
    "    ordered_list = []\n",
    "    while alist!=[]:\n",
    "        temp = alist.pop(0)\n",
    "        pos = 0\n",
    "        # 寻找该元素的合适位置\n",
    "        for j in range(len(ordered_list)):\n",
    "#             print(ordered_list[j],temp)\n",
    "            if ordered_list[j]<temp:\n",
    "                pos = j+1\n",
    "        ordered_list.insert(pos,temp)\n",
    "        print(temp,ordered_list,pos)\n",
    "    return ordered_list"
   ]
  },
  {
   "cell_type": "code",
   "execution_count": 85,
   "id": "2f15f14b",
   "metadata": {
    "collapsed": true
   },
   "outputs": [
    {
     "name": "stdout",
     "output_type": "stream",
     "text": [
      "1 [1] 0\n",
      "3 [1, 3] 1\n",
      "1 [1, 1, 3] 0\n",
      "4 [1, 1, 3, 4] 3\n",
      "32 [1, 1, 3, 4, 32] 4\n",
      "5 [1, 1, 3, 4, 5, 32] 4\n",
      "7 [1, 1, 3, 4, 5, 7, 32] 5\n",
      "3 [1, 1, 3, 3, 4, 5, 7, 32] 2\n",
      "2 [1, 1, 2, 3, 3, 4, 5, 7, 32] 2\n",
      "8 [1, 1, 2, 3, 3, 4, 5, 7, 8, 32] 8\n",
      "5 [1, 1, 2, 3, 3, 4, 5, 5, 7, 8, 32] 6\n",
      "0 [0, 1, 1, 2, 3, 3, 4, 5, 5, 7, 8, 32] 0\n"
     ]
    },
    {
     "data": {
      "text/plain": [
       "[0, 1, 1, 2, 3, 3, 4, 5, 5, 7, 8, 32]"
      ]
     },
     "execution_count": 85,
     "metadata": {},
     "output_type": "execute_result"
    }
   ],
   "source": [
    "bubbleSort(alist1)"
   ]
  },
  {
   "cell_type": "code",
   "execution_count": 93,
   "id": "d9b47067",
   "metadata": {},
   "outputs": [
    {
     "data": {
      "text/plain": [
       "True"
      ]
     },
     "execution_count": 93,
     "metadata": {},
     "output_type": "execute_result"
    }
   ],
   "source": [
    "fuhao = {'(':')','{':'}','[':']',}\n",
    "'('in fuhao.keys()"
   ]
  }
 ],
 "metadata": {
  "kernelspec": {
   "display_name": "Python 3",
   "language": "python",
   "name": "python3"
  },
  "language_info": {
   "codemirror_mode": {
    "name": "ipython",
    "version": 3
   },
   "file_extension": ".py",
   "mimetype": "text/x-python",
   "name": "python",
   "nbconvert_exporter": "python",
   "pygments_lexer": "ipython3",
   "version": "3.8.5"
  },
  "toc": {
   "base_numbering": 1,
   "nav_menu": {},
   "number_sections": true,
   "sideBar": true,
   "skip_h1_title": false,
   "title_cell": "Table of Contents",
   "title_sidebar": "Contents",
   "toc_cell": false,
   "toc_position": {},
   "toc_section_display": true,
   "toc_window_display": false
  }
 },
 "nbformat": 4,
 "nbformat_minor": 5
}
