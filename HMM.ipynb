{
 "cells": [
  {
   "cell_type": "markdown",
   "id": "democratic-integration",
   "metadata": {},
   "source": [
    "[代码](https://www.heywhale.com/mw/project/5eafebf1366f4d002d75125c) \n",
    "[文档](https://hmmlearn.readthedocs.io/en/latest/)"
   ]
  },
  {
   "cell_type": "markdown",
   "id": "natural-vegetable",
   "metadata": {},
   "source": [
    "## 连续型高斯分布"
   ]
  },
  {
   "cell_type": "code",
   "execution_count": 2,
   "id": "revised-scheme",
   "metadata": {},
   "outputs": [],
   "source": [
    "from datetime import datetime\n",
    "import pandas as pd\n",
    "import numpy as np\n",
    "import matplotlib.pyplot as plt\n",
    "from matplotlib.dates import DayLocator\n",
    "from hmmlearn.hmm import GaussianHMM\n",
    "\n",
    "code_val = \"sz.000725\"\n",
    "data = pd.read_excel(\"E:\\\\All Files\\\\stock\\\\\"+code_val+\".xls\",\"Sheet1\")"
   ]
  },
  {
   "cell_type": "code",
   "execution_count": 3,
   "id": "expanded-buying",
   "metadata": {},
   "outputs": [
    {
     "data": {
      "text/html": [
       "<div>\n",
       "<style scoped>\n",
       "    .dataframe tbody tr th:only-of-type {\n",
       "        vertical-align: middle;\n",
       "    }\n",
       "\n",
       "    .dataframe tbody tr th {\n",
       "        vertical-align: top;\n",
       "    }\n",
       "\n",
       "    .dataframe thead th {\n",
       "        text-align: right;\n",
       "    }\n",
       "</style>\n",
       "<table border=\"1\" class=\"dataframe\">\n",
       "  <thead>\n",
       "    <tr style=\"text-align: right;\">\n",
       "      <th></th>\n",
       "      <th>Date</th>\n",
       "      <th>High</th>\n",
       "      <th>Low</th>\n",
       "      <th>Open</th>\n",
       "      <th>Close</th>\n",
       "      <th>Volume</th>\n",
       "    </tr>\n",
       "  </thead>\n",
       "  <tbody>\n",
       "    <tr>\n",
       "      <th>0</th>\n",
       "      <td>2011-01-04</td>\n",
       "      <td>3.20</td>\n",
       "      <td>3.12</td>\n",
       "      <td>3.16</td>\n",
       "      <td>3.19</td>\n",
       "      <td>823311.00</td>\n",
       "    </tr>\n",
       "    <tr>\n",
       "      <th>1</th>\n",
       "      <td>2011-01-05</td>\n",
       "      <td>3.17</td>\n",
       "      <td>3.14</td>\n",
       "      <td>3.17</td>\n",
       "      <td>3.15</td>\n",
       "      <td>613076.68</td>\n",
       "    </tr>\n",
       "    <tr>\n",
       "      <th>2</th>\n",
       "      <td>2011-01-06</td>\n",
       "      <td>3.26</td>\n",
       "      <td>3.13</td>\n",
       "      <td>3.15</td>\n",
       "      <td>3.19</td>\n",
       "      <td>1033121.80</td>\n",
       "    </tr>\n",
       "    <tr>\n",
       "      <th>3</th>\n",
       "      <td>2011-01-07</td>\n",
       "      <td>3.21</td>\n",
       "      <td>3.15</td>\n",
       "      <td>3.17</td>\n",
       "      <td>3.17</td>\n",
       "      <td>764602.07</td>\n",
       "    </tr>\n",
       "    <tr>\n",
       "      <th>4</th>\n",
       "      <td>2011-01-10</td>\n",
       "      <td>3.17</td>\n",
       "      <td>3.10</td>\n",
       "      <td>3.17</td>\n",
       "      <td>3.11</td>\n",
       "      <td>574004.56</td>\n",
       "    </tr>\n",
       "  </tbody>\n",
       "</table>\n",
       "</div>"
      ],
      "text/plain": [
       "        Date  High   Low  Open  Close      Volume\n",
       "0 2011-01-04  3.20  3.12  3.16   3.19   823311.00\n",
       "1 2011-01-05  3.17  3.14  3.17   3.15   613076.68\n",
       "2 2011-01-06  3.26  3.13  3.15   3.19  1033121.80\n",
       "3 2011-01-07  3.21  3.15  3.17   3.17   764602.07\n",
       "4 2011-01-10  3.17  3.10  3.17   3.11   574004.56"
      ]
     },
     "execution_count": 3,
     "metadata": {},
     "output_type": "execute_result"
    }
   ],
   "source": [
    "# 日期格式转换\n",
    "data['Date'] = pd.to_datetime(data['Date'], format = \"%d/%m/%Y\", errors = 'coerce')\n",
    "data.head()"
   ]
  },
  {
   "cell_type": "markdown",
   "id": "mediterranean-nylon",
   "metadata": {},
   "source": [
    "马尔可夫链从第二天开始训练，去除第一天的日期和交易量"
   ]
  },
  {
   "cell_type": "code",
   "execution_count": 4,
   "id": "paperback-discovery",
   "metadata": {},
   "outputs": [
    {
     "data": {
      "text/plain": [
       "(2431, 2)"
      ]
     },
     "execution_count": 4,
     "metadata": {},
     "output_type": "execute_result"
    }
   ],
   "source": [
    "dates = data['Date'].values[1:]\n",
    "close_v = data['Close'].values\n",
    "volume = data['Volume'].values[1:]\n",
    "\n",
    "# 计算前后两天收盘价的差值\n",
    "diff  = np.diff(close_v)\n",
    "close_v = close_v[1:]\n",
    "\n",
    "# 将数组按列合并\n",
    "X = np.column_stack([diff,volume])\n",
    "X.shape"
   ]
  },
  {
   "cell_type": "markdown",
   "id": "floppy-syracuse",
   "metadata": {},
   "source": [
    "建立模型\n",
    "+ n_components 参数指定了使用3个隐藏层状态\n",
    "+ covariance_type定义了协方差矩阵类型为对角线类型，即每个特征的高斯分布有自己的方差参数，相互之间没有影响\n",
    "+ n_iter参数定义了Baum-Welch的最大迭代次数"
   ]
  },
  {
   "cell_type": "code",
   "execution_count": 5,
   "id": "challenging-mailman",
   "metadata": {},
   "outputs": [
    {
     "data": {
      "text/plain": [
       "GaussianHMM(n_components=3, n_iter=1000)"
      ]
     },
     "execution_count": 5,
     "metadata": {},
     "output_type": "execute_result"
    }
   ],
   "source": [
    "model =  GaussianHMM(n_components=3, covariance_type=\"diag\",n_iter=1000, algorithm='viterbi')\n",
    "model.fit(X)"
   ]
  },
  {
   "cell_type": "markdown",
   "id": "velvet-syria",
   "metadata": {},
   "source": [
    "每层的方差和平均值，X有两列（涨跌幅和成交量），因此每层都有涨跌幅均值和成交量均值"
   ]
  },
  {
   "cell_type": "code",
   "execution_count": 6,
   "id": "basic-individual",
   "metadata": {},
   "outputs": [
    {
     "name": "stdout",
     "output_type": "stream",
     "text": [
      "Means and vars of each hidden state\n",
      "第0号隐藏状态\n",
      "mean =  [-2.11290017e-03  8.57661345e+05]\n",
      "var =  [1.09561944e-03 2.25957603e+11]\n",
      "第1号隐藏状态\n",
      "mean =  [-2.50047458e-03  3.66477834e+06]\n",
      "var =  [3.48038413e-03 2.12623265e+12]\n",
      "第2号隐藏状态\n",
      "mean =  [1.15283100e-02 1.14864005e+07]\n",
      "var =  [2.80731816e-02 3.62616807e+13]\n"
     ]
    }
   ],
   "source": [
    "print(\"Means and vars of each hidden state\")\n",
    "means_ = []\n",
    "vars_ = []\n",
    "for i in range(model.n_components):\n",
    "    means_.append(model.means_[i][0])\n",
    "    vars_.append(np.diag(model.covars_[i])[0])\n",
    "    print(\"第{0}号隐藏状态\".format(i))\n",
    "    print(\"mean = \", model.means_[i])\n",
    "    print(\"var = \", np.diag(model.covars_[i]))"
   ]
  },
  {
   "cell_type": "markdown",
   "id": "exotic-address",
   "metadata": {},
   "source": [
    "特征数"
   ]
  },
  {
   "cell_type": "code",
   "execution_count": 7,
   "id": "false-laser",
   "metadata": {},
   "outputs": [
    {
     "data": {
      "text/plain": [
       "2"
      ]
     },
     "execution_count": 7,
     "metadata": {},
     "output_type": "execute_result"
    }
   ],
   "source": [
    "model.n_features"
   ]
  },
  {
   "cell_type": "markdown",
   "id": "early-dependence",
   "metadata": {},
   "source": [
    "状态数"
   ]
  },
  {
   "cell_type": "code",
   "execution_count": 8,
   "id": "extended-sweden",
   "metadata": {},
   "outputs": [
    {
     "data": {
      "text/plain": [
       "3"
      ]
     },
     "execution_count": 8,
     "metadata": {},
     "output_type": "execute_result"
    }
   ],
   "source": [
    "model.n_components"
   ]
  },
  {
   "cell_type": "markdown",
   "id": "skilled-blame",
   "metadata": {},
   "source": [
    "观测集合"
   ]
  },
  {
   "cell_type": "code",
   "execution_count": 9,
   "id": "congressional-american",
   "metadata": {},
   "outputs": [
    {
     "data": {
      "text/plain": [
       "ConvergenceMonitor(\n",
       "    history=[-39423.21659390832, -36920.79847981348, -36149.78275849587, -35732.432148335036, -35507.56299402317, -35389.781765458065, -35320.22728402188, -35268.98420615596, -35220.482858756346, -35162.93737276044, -35118.803127121566, -35090.88727407402, -35074.00307686128, -35062.18543855802, -35054.88398906859, -35050.75398203086, -35048.267047937254, -35046.674818263746, -35045.6071069569, -35044.861343770935, -35044.3222505189, -35043.92224307741, -35043.62005746593, -35043.389228210435, -35043.2118748074, -35043.0753129577, -35042.97017576863, -35042.889346044925, -35042.827323244026, -35042.7798230285, -35042.74350332166, -35042.71576279891, -35042.69458492313, -35042.67841386127, -35042.66605483638, -35042.656594240565],\n",
       "    iter=36,\n",
       "    n_iter=1000,\n",
       "    tol=0.01,\n",
       "    verbose=False,\n",
       ")"
      ]
     },
     "execution_count": 9,
     "metadata": {},
     "output_type": "execute_result"
    }
   ],
   "source": [
    "model.monitor_"
   ]
  },
  {
   "cell_type": "markdown",
   "id": "grand-minority",
   "metadata": {},
   "source": [
    "状态转移概率矩阵"
   ]
  },
  {
   "cell_type": "code",
   "execution_count": 10,
   "id": "instrumental-infrared",
   "metadata": {},
   "outputs": [
    {
     "name": "stdout",
     "output_type": "stream",
     "text": [
      "Transition matrix\n",
      "[[0.95937103 0.03781558 0.00281338]\n",
      " [0.03636129 0.90281956 0.06081914]\n",
      " [0.00293688 0.09216571 0.9048974 ]]\n"
     ]
    }
   ],
   "source": [
    "print(\"Transition matrix\")\n",
    "print(model.transmat_)"
   ]
  },
  {
   "cell_type": "code",
   "execution_count": 11,
   "id": "abandoned-stuff",
   "metadata": {
    "scrolled": false
   },
   "outputs": [
    {
     "name": "stdout",
     "output_type": "stream",
     "text": [
      "predict_means [-0.002112900165966125, -0.00250047457664378, 0.011528309992299923]\n",
      "predict_vars [0.0010956194431480677, 0.003480384125969792, 0.028073181624211685]\n"
     ]
    }
   ],
   "source": [
    "# 计算当前状态后一天的预测均值\n",
    "predict_means = []\n",
    "predict_vars = []\n",
    "\n",
    "for idx, hid in enumerate(range(model.n_components)):   # 0 0 1 1 2 2\n",
    "    comp = np.argmax(model.transmat_[idx]) # 最可能的第二天状态   # 返回一个numpy数组中最大值的索引值\n",
    "    predict_means.append(means_[comp])\n",
    "    predict_vars.append(vars_[comp])\n",
    "\n",
    "print('predict_means',predict_means)\n",
    "print('predict_vars',predict_vars)"
   ]
  },
  {
   "cell_type": "markdown",
   "id": "painful-gasoline",
   "metadata": {},
   "source": [
    "1. 计算出每一天状态\n",
    "2. 通过概率转移矩阵得出之后一天概率最大的状态\n",
    "3. 通过后一天的概率分布矩阵得出后一天的预测值"
   ]
  },
  {
   "cell_type": "code",
   "execution_count": 12,
   "id": "adjustable-vault",
   "metadata": {},
   "outputs": [
    {
     "data": {
      "image/png": "[encoded data removed]",
      "text/plain": [
       "<Figure size 720x720 with 4 Axes>"
      ]
     },
     "metadata": {
      "needs_background": "light"
     },
     "output_type": "display_data"
    }
   ],
   "source": [
    "X = X[-100:]                      # 最后26天\n",
    "dates = dates[-100:]\n",
    "close_v = close_v[-100:]\n",
    "\n",
    "hidden_states = model.predict(X)\n",
    "hidden_states\n",
    "\n",
    "# 画图\n",
    "fig, axs = plt.subplots(model.n_components + 1, sharex=True, sharey=True,figsize=(10,10))\n",
    "\n",
    "for i, ax in enumerate(axs[:-1]):\n",
    "    ax.set_title(\"{0}th hidden state\".format(i))\n",
    "\n",
    "    # Use fancy indexing to plot data in each state.\n",
    "    mask = hidden_states == i\n",
    "    yesterday_mask = np.concatenate(([False], mask[:-1]))\n",
    "    if len(dates[mask]) <= 0:\n",
    "        continue\n",
    "\n",
    "    if predict_means[i] > 0.01:\n",
    "        # 上涨预测\n",
    "        ax.plot_date(dates[mask], close_v[mask], \"^\", c=\"#FF0000\")\n",
    "    elif predict_means[i] < -0.01:\n",
    "        # 下跌预测\n",
    "        ax.plot_date(dates[mask], close_v[mask], \"v\", c=\"#00FF00\")\n",
    "    else:\n",
    "        # 平\n",
    "        ax.plot_date(dates[mask], close_v[mask], \"+\", c=\"#000000\")\n",
    "\n",
    "    # locate specified days of the day\n",
    "    ax.xaxis.set_minor_locator(DayLocator())\n",
    "\n",
    "    ax.grid(True)\n",
    "    ax.legend([\"Mean: %0.3f\\nvar: %0.3f\" % (predict_means[i], predict_vars[i])],\n",
    "        loc='center left',\n",
    "        bbox_to_anchor=(1, 0.5))\n",
    "\n",
    "# 打印真实走势,用作对比\n",
    "axs[-1].plot_date(dates, close_v, \"-\", c='#000000')\n",
    "axs[-1].grid(True)\n",
    "box = axs[-1].get_position()\n",
    "axs[-1].set_position([box.x0, box.y0, box.width * 0.8, box.height])\n",
    "ax.xaxis.set_minor_locator(DayLocator())\n",
    "\n",
    "# 调整格式\n",
    "fig.autofmt_xdate()\n",
    "plt.subplots_adjust(left=None, bottom=None, right=0.75, top=None, \n",
    "                    wspace=None, hspace=0.43)\n",
    "\n",
    "plt.show()"
   ]
  },
  {
   "cell_type": "markdown",
   "id": "saving-appointment",
   "metadata": {},
   "source": [
    "## 2"
   ]
  },
  {
   "cell_type": "code",
   "execution_count": 13,
   "id": "careful-acceptance",
   "metadata": {
    "collapsed": true
   },
   "outputs": [
    {
     "ename": "OSError",
     "evalue": "apple.csv not found.",
     "output_type": "error",
     "traceback": [
      "\u001b[1;31m---------------------------------------------------------------------------\u001b[0m",
      "\u001b[1;31mOSError\u001b[0m                                   Traceback (most recent call last)",
      "\u001b[1;32m<ipython-input-13-d8286888c7e4>\u001b[0m in \u001b[0;36m<module>\u001b[1;34m\u001b[0m\n\u001b[0;32m     36\u001b[0m \u001b[1;33m\u001b[0m\u001b[0m\n\u001b[0;32m     37\u001b[0m \u001b[1;32mfor\u001b[0m \u001b[0mstock\u001b[0m \u001b[1;32min\u001b[0m \u001b[0mSTOCKS\u001b[0m\u001b[1;33m:\u001b[0m\u001b[1;33m\u001b[0m\u001b[1;33m\u001b[0m\u001b[0m\n\u001b[1;32m---> 38\u001b[1;33m     \u001b[0mdataset\u001b[0m \u001b[1;33m=\u001b[0m \u001b[0mnp\u001b[0m\u001b[1;33m.\u001b[0m\u001b[0mgenfromtxt\u001b[0m\u001b[1;33m(\u001b[0m\u001b[0mstock\u001b[0m\u001b[1;33m,\u001b[0m \u001b[0mdelimiter\u001b[0m\u001b[1;33m=\u001b[0m\u001b[1;34m','\u001b[0m\u001b[1;33m)\u001b[0m\u001b[1;33m\u001b[0m\u001b[1;33m\u001b[0m\u001b[0m\n\u001b[0m\u001b[0;32m     39\u001b[0m     \u001b[0mpredicted_stock_data\u001b[0m \u001b[1;33m=\u001b[0m \u001b[0mnp\u001b[0m\u001b[1;33m.\u001b[0m\u001b[0mempty\u001b[0m\u001b[1;33m(\u001b[0m\u001b[1;33m[\u001b[0m\u001b[1;36m0\u001b[0m\u001b[1;33m,\u001b[0m\u001b[0mdataset\u001b[0m\u001b[1;33m.\u001b[0m\u001b[0mshape\u001b[0m\u001b[1;33m[\u001b[0m\u001b[1;36m1\u001b[0m\u001b[1;33m]\u001b[0m\u001b[1;33m]\u001b[0m\u001b[1;33m)\u001b[0m\u001b[1;33m\u001b[0m\u001b[1;33m\u001b[0m\u001b[0m\n\u001b[0;32m     40\u001b[0m     \u001b[0mlikelihood_vect\u001b[0m \u001b[1;33m=\u001b[0m \u001b[0mnp\u001b[0m\u001b[1;33m.\u001b[0m\u001b[0mempty\u001b[0m\u001b[1;33m(\u001b[0m\u001b[1;33m[\u001b[0m\u001b[1;36m0\u001b[0m\u001b[1;33m,\u001b[0m\u001b[1;36m1\u001b[0m\u001b[1;33m]\u001b[0m\u001b[1;33m)\u001b[0m\u001b[1;33m\u001b[0m\u001b[1;33m\u001b[0m\u001b[0m\n",
      "\u001b[1;32mE:\\ANACONDA\\lib\\site-packages\\numpy\\lib\\npyio.py\u001b[0m in \u001b[0;36mgenfromtxt\u001b[1;34m(fname, dtype, comments, delimiter, skip_header, skip_footer, converters, missing_values, filling_values, usecols, names, excludelist, deletechars, replace_space, autostrip, case_sensitive, defaultfmt, unpack, usemask, loose, invalid_raise, max_rows, encoding)\u001b[0m\n\u001b[0;32m   1747\u001b[0m             \u001b[0mfname\u001b[0m \u001b[1;33m=\u001b[0m \u001b[0mos_fspath\u001b[0m\u001b[1;33m(\u001b[0m\u001b[0mfname\u001b[0m\u001b[1;33m)\u001b[0m\u001b[1;33m\u001b[0m\u001b[1;33m\u001b[0m\u001b[0m\n\u001b[0;32m   1748\u001b[0m         \u001b[1;32mif\u001b[0m \u001b[0misinstance\u001b[0m\u001b[1;33m(\u001b[0m\u001b[0mfname\u001b[0m\u001b[1;33m,\u001b[0m \u001b[0mstr\u001b[0m\u001b[1;33m)\u001b[0m\u001b[1;33m:\u001b[0m\u001b[1;33m\u001b[0m\u001b[1;33m\u001b[0m\u001b[0m\n\u001b[1;32m-> 1749\u001b[1;33m             \u001b[0mfid\u001b[0m \u001b[1;33m=\u001b[0m \u001b[0mnp\u001b[0m\u001b[1;33m.\u001b[0m\u001b[0mlib\u001b[0m\u001b[1;33m.\u001b[0m\u001b[0m_datasource\u001b[0m\u001b[1;33m.\u001b[0m\u001b[0mopen\u001b[0m\u001b[1;33m(\u001b[0m\u001b[0mfname\u001b[0m\u001b[1;33m,\u001b[0m \u001b[1;34m'rt'\u001b[0m\u001b[1;33m,\u001b[0m \u001b[0mencoding\u001b[0m\u001b[1;33m=\u001b[0m\u001b[0mencoding\u001b[0m\u001b[1;33m)\u001b[0m\u001b[1;33m\u001b[0m\u001b[1;33m\u001b[0m\u001b[0m\n\u001b[0m\u001b[0;32m   1750\u001b[0m             \u001b[0mfid_ctx\u001b[0m \u001b[1;33m=\u001b[0m \u001b[0mcontextlib\u001b[0m\u001b[1;33m.\u001b[0m\u001b[0mclosing\u001b[0m\u001b[1;33m(\u001b[0m\u001b[0mfid\u001b[0m\u001b[1;33m)\u001b[0m\u001b[1;33m\u001b[0m\u001b[1;33m\u001b[0m\u001b[0m\n\u001b[0;32m   1751\u001b[0m         \u001b[1;32melse\u001b[0m\u001b[1;33m:\u001b[0m\u001b[1;33m\u001b[0m\u001b[1;33m\u001b[0m\u001b[0m\n",
      "\u001b[1;32mE:\\ANACONDA\\lib\\site-packages\\numpy\\lib\\_datasource.py\u001b[0m in \u001b[0;36mopen\u001b[1;34m(path, mode, destpath, encoding, newline)\u001b[0m\n\u001b[0;32m    193\u001b[0m \u001b[1;33m\u001b[0m\u001b[0m\n\u001b[0;32m    194\u001b[0m     \u001b[0mds\u001b[0m \u001b[1;33m=\u001b[0m \u001b[0mDataSource\u001b[0m\u001b[1;33m(\u001b[0m\u001b[0mdestpath\u001b[0m\u001b[1;33m)\u001b[0m\u001b[1;33m\u001b[0m\u001b[1;33m\u001b[0m\u001b[0m\n\u001b[1;32m--> 195\u001b[1;33m     \u001b[1;32mreturn\u001b[0m \u001b[0mds\u001b[0m\u001b[1;33m.\u001b[0m\u001b[0mopen\u001b[0m\u001b[1;33m(\u001b[0m\u001b[0mpath\u001b[0m\u001b[1;33m,\u001b[0m \u001b[0mmode\u001b[0m\u001b[1;33m,\u001b[0m \u001b[0mencoding\u001b[0m\u001b[1;33m=\u001b[0m\u001b[0mencoding\u001b[0m\u001b[1;33m,\u001b[0m \u001b[0mnewline\u001b[0m\u001b[1;33m=\u001b[0m\u001b[0mnewline\u001b[0m\u001b[1;33m)\u001b[0m\u001b[1;33m\u001b[0m\u001b[1;33m\u001b[0m\u001b[0m\n\u001b[0m\u001b[0;32m    196\u001b[0m \u001b[1;33m\u001b[0m\u001b[0m\n\u001b[0;32m    197\u001b[0m \u001b[1;33m\u001b[0m\u001b[0m\n",
      "\u001b[1;32mE:\\ANACONDA\\lib\\site-packages\\numpy\\lib\\_datasource.py\u001b[0m in \u001b[0;36mopen\u001b[1;34m(self, path, mode, encoding, newline)\u001b[0m\n\u001b[0;32m    533\u001b[0m                                       encoding=encoding, newline=newline)\n\u001b[0;32m    534\u001b[0m         \u001b[1;32melse\u001b[0m\u001b[1;33m:\u001b[0m\u001b[1;33m\u001b[0m\u001b[1;33m\u001b[0m\u001b[0m\n\u001b[1;32m--> 535\u001b[1;33m             \u001b[1;32mraise\u001b[0m \u001b[0mIOError\u001b[0m\u001b[1;33m(\u001b[0m\u001b[1;34m\"%s not found.\"\u001b[0m \u001b[1;33m%\u001b[0m \u001b[0mpath\u001b[0m\u001b[1;33m)\u001b[0m\u001b[1;33m\u001b[0m\u001b[1;33m\u001b[0m\u001b[0m\n\u001b[0m\u001b[0;32m    536\u001b[0m \u001b[1;33m\u001b[0m\u001b[0m\n\u001b[0;32m    537\u001b[0m \u001b[1;33m\u001b[0m\u001b[0m\n",
      "\u001b[1;31mOSError\u001b[0m: apple.csv not found."
     ]
    }
   ],
   "source": [
    "import warnings\n",
    "import time\n",
    "import sys\n",
    "import numpy as np\n",
    "import matplotlib.pyplot as plt\n",
    "from hmmlearn import hmm\n",
    "\n",
    "warnings.filterwarnings(\"ignore\", category=DeprecationWarning)\n",
    "\n",
    "PLOT_SHOW=True\n",
    "PLOT_TYPE = False\n",
    "\n",
    "NUM_TEST = 100\n",
    "K = 50\n",
    "NUM_ITERS=10000\n",
    "\n",
    "STOCKS=['apple.csv','cmcst.csv','google.csv','qcom.csv']\n",
    "#NUM_STATES=12\n",
    "#FILE_NAME='HistoricalQuotes.csv'\n",
    "#TRAIN_CHUNK_SIZE=100\n",
    "\n",
    "#dirichlet_params = np.array([1., 20., 20., 20.])\n",
    "#dirichlet_params = np.random.randint(1,50,NUM_STATES)\n",
    "labels = ['Close','Open','High','Low']\n",
    "likelihood_vect = np.empty([0,1])\n",
    "aic_vect = np.empty([0,1])\n",
    "bic_vect = np.empty([0,1])\n",
    "\n",
    "# Possible number of states in Markov Model\n",
    "STATE_SPACE = range(2,15)\n",
    "\n",
    "# Calculating Mean Absolute Percentage Error of predictions\n",
    "def calc_mape(predicted_data, true_data):\n",
    "    return np.divide(np.sum(np.divide(np.absolute(predicted_data - true_data), true_data), 0), true_data.shape[0])\n",
    "\n",
    "\n",
    "for stock in STOCKS:\n",
    "    dataset = np.genfromtxt(stock, delimiter=',')\n",
    "    predicted_stock_data = np.empty([0,dataset.shape[1]])\n",
    "    likelihood_vect = np.empty([0,1])\n",
    "    aic_vect = np.empty([0,1])\n",
    "    bic_vect = np.empty([0,1])\n",
    "    for states in STATE_SPACE:\n",
    "        num_params = states**2 + states\n",
    "        dirichlet_params_states = np.random.randint(1,50,states)\n",
    "        #model = hmm.GaussianHMM(n_components=states, covariance_type='full', startprob_prior=dirichlet_params_states, transmat_prior=dirichlet_params_states, tol=0.0001, n_iter=NUM_ITERS, init_params='mc')\n",
    "        model = hmm.GaussianHMM(n_components=states, covariance_type='full', tol=0.0001, n_iter=NUM_ITERS)\n",
    "        model.fit(dataset[NUM_TEST:,:])\n",
    "        if model.monitor_.iter == NUM_ITERS:\n",
    "            print('Increase number of iterations')\n",
    "            sys.exit(1)\n",
    "        likelihood_vect = np.vstack((likelihood_vect, model.score(dataset)))\n",
    "        aic_vect = np.vstack((aic_vect, -2 * model.score(dataset) + 2 * num_params))\n",
    "        bic_vect = np.vstack((bic_vect, -2 * model.score(dataset) +  num_params * np.log(dataset.shape[0])))\n",
    "    \n",
    "    opt_states = np.argmin(bic_vect) + 2\n",
    "    print('Optimum number of states are {}'.format(opt_states))\n",
    "\n",
    "    for idx in reversed(range(NUM_TEST)):\n",
    "        train_dataset = dataset[idx + 1:,:]\n",
    "        test_data = dataset[idx,:]; \n",
    "        num_examples = train_dataset.shape[0]\n",
    "        #model = hmm.GaussianHMM(n_components=opt_states, covariance_type='full', startprob_prior=dirichlet_params, transmat_prior=dirichlet_params, tol=0.0001, n_iter=NUM_ITERS, init_params='mc')\n",
    "        if idx == NUM_TEST - 1:\n",
    "            model = hmm.GaussianHMM(n_components=opt_states, covariance_type='full', tol=0.0001, n_iter=NUM_ITERS, init_params='stmc')\n",
    "        else:\n",
    "            # Retune the model by using the HMM paramters from the previous iterations as the prior\n",
    "            model = hmm.GaussianHMM(n_components=opt_states, covariance_type='full', tol=0.0001, n_iter=NUM_ITERS, init_params='')\n",
    "            model.transmat_ = transmat_retune_prior \n",
    "            model.startprob_ = startprob_retune_prior\n",
    "            model.means_ = means_retune_prior\n",
    "            model.covars_ = covars_retune_prior\n",
    "\n",
    "        model.fit(np.flipud(train_dataset))\n",
    "\n",
    "        transmat_retune_prior = model.transmat_\n",
    "        startprob_retune_prior = model.startprob_\n",
    "        means_retune_prior = model.means_\n",
    "        covars_retune_prior = model.covars_\n",
    "\n",
    "        if model.monitor_.iter == NUM_ITERS:\n",
    "            print('Increase number of iterations')\n",
    "            sys.exit(1)\n",
    "        #print('Model score : ', model.score(dataset))\n",
    "        #print('Dirichlet parameters : ',dirichlet_params)\n",
    "\n",
    "        iters = 1;\n",
    "        past_likelihood = []\n",
    "        curr_likelihood = model.score(np.flipud(train_dataset[0:K - 1, :]))\n",
    "        while iters < num_examples / K - 1:\n",
    "            past_likelihood = np.append(past_likelihood, model.score(np.flipud(train_dataset[iters:iters + K - 1, :])))\n",
    "            iters = iters + 1\n",
    "        likelihood_diff_idx = np.argmin(np.absolute(past_likelihood - curr_likelihood))\n",
    "        predicted_change = train_dataset[likelihood_diff_idx,:] - train_dataset[likelihood_diff_idx + 1,:]\n",
    "        predicted_stock_data = np.vstack((predicted_stock_data, dataset[idx + 1,:] + predicted_change))\n",
    "    np.savetxt('{}_forecast.csv'.format(stock),predicted_stock_data,delimiter=',',fmt='%.2f')\n",
    "\n",
    "    mape = calc_mape(predicted_stock_data, np.flipud(dataset[range(100),:]))\n",
    "    print('MAPE for the stock {} is '.format(stock),mape)\n",
    "\n",
    "    if PLOT_TYPE:\n",
    "        hdl_p = plt.plot(range(100), predicted_stock_data);\n",
    "        plt.title('Predicted stock prices')\n",
    "        plt.legend(iter(hdl_p), ('Close','Open','High','Low'))\n",
    "        plt.xlabel('Time steps')\n",
    "        plt.ylabel('Price')\n",
    "        plt.figure()\n",
    "        hdl_a = plt.plot(range(100),np.flipud(dataset[range(100),:]))\n",
    "        plt.title('Actual stock prices')\n",
    "        plt.legend(iter(hdl_p), ('Close','Open','High','Low'))\n",
    "        plt.xlabel('Time steps')\n",
    "        plt.ylabel('Price')\n",
    "    else:\n",
    "        for i in range(4):\n",
    "            plt.figure()\n",
    "            plt.plot(range(100), predicted_stock_data[:,i],'k-', label = 'Predicted '+labels[i]+' price');\n",
    "            plt.plot(range(100),np.flipud(dataset[range(100),i]),'r--', label = 'Actual '+labels[i]+' price')\n",
    "            plt.xlabel('Time steps')\n",
    "            plt.ylabel('Price')\n",
    "            plt.title(labels[i]+' price'+ ' for '+stock[:-4])\n",
    "            plt.grid(True)\n",
    "            plt.legend(loc = 'upper left')\n",
    "        \n",
    "\n",
    "    if PLOT_SHOW:\n",
    "        plt.show(block=False)"
   ]
  }
 ],
 "metadata": {
  "kernelspec": {
   "display_name": "Python 3",
   "language": "python",
   "name": "python3"
  },
  "language_info": {
   "codemirror_mode": {
    "name": "ipython",
    "version": 3
   },
   "file_extension": ".py",
   "mimetype": "text/x-python",
   "name": "python",
   "nbconvert_exporter": "python",
   "pygments_lexer": "ipython3",
   "version": "3.8.5"
  },
  "toc": {
   "base_numbering": 1,
   "nav_menu": {},
   "number_sections": true,
   "sideBar": true,
   "skip_h1_title": false,
   "title_cell": "Table of Contents",
   "title_sidebar": "Contents",
   "toc_cell": false,
   "toc_position": {},
   "toc_section_display": true,
   "toc_window_display": false
  }
 },
 "nbformat": 4,
 "nbformat_minor": 5
}
