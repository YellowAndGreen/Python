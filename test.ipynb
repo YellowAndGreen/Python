{
 "cells": [
  {
   "cell_type": "code",
   "execution_count": 8,
   "metadata": {
    "scrolled": true
   },
   "outputs": [],
   "source": [
    "import baostock as bs\n",
    "import pandas as pd\n",
    "import json\n",
    "from datetime import datetime"
   ]
  },
  {
   "cell_type": "code",
   "execution_count": 2,
   "metadata": {},
   "outputs": [
    {
     "name": "stdout",
     "output_type": "stream",
     "text": [
      "login success!\n",
      "login respond error_code:0\n",
      "login respond  error_msg:success\n",
      "query_history_k_data_plus respond error_code:0\n",
      "query_history_k_data_plus respond  error_msg:success\n"
     ]
    }
   ],
   "source": [
    "lg = bs.login()\n",
    "# 显示登陆返回信息\n",
    "print('login respond error_code:' + lg.error_code)\n",
    "print('login respond  error_msg:' + lg.error_msg)\n",
    "rs = bs.query_history_k_data_plus(\"sh.600000\",\n",
    "                                  \"date,code,open,high,low,close,preclose,volume,amount,adjustflag,turn,\"\n",
    "                                  \"tradestatus,pctChg,isST\",\n",
    "                                  start_date='2017-07-01', end_date='2017-12-31',\n",
    "                                  frequency=\"d\", adjustflag=\"3\")\n",
    "print('query_history_k_data_plus respond error_code:' + rs.error_code)\n",
    "print('query_history_k_data_plus respond  error_msg:' + rs.error_msg)\n",
    "data_list = []\n",
    "while (rs.error_code == '0') & rs.next():\n",
    "    # 获取一条记录，将记录合并在一起\n",
    "    data_list.append(rs.get_row_data())\n",
    "result = pd.DataFrame(data_list, columns=rs.fields)\n",
    "# [open,close,low,high]\n",
    "data_stock = []\n",
    "for i in range(len(result[\"open\"])):\n",
    "    data_stock.append(\n",
    "        [result[\"date\"][i], float(result[\"open\"][i]), float(result[\"close\"][i]), float(result[\"high\"][i]), float(result[\"low\"][i])])\n"
   ]
  },
  {
   "cell_type": "code",
   "execution_count": 5,
   "metadata": {},
   "outputs": [
    {
     "data": {
      "text/plain": [
       "str"
      ]
     },
     "execution_count": 5,
     "metadata": {},
     "output_type": "execute_result"
    }
   ],
   "source": [
    "result[\"date\"][0]"
   ]
  },
  {
   "cell_type": "code",
   "execution_count": 11,
   "metadata": {},
   "outputs": [
    {
     "data": {
      "text/plain": [
       "'2017/07/03'"
      ]
     },
     "execution_count": 11,
     "metadata": {},
     "output_type": "execute_result"
    }
   ],
   "source": [
    "a = datetime.strptime(result[\"date\"][0],\"%Y-%m-%d\")\n",
    "datetime.strftime(a,\"%Y/%m/%d\")"
   ]
  },
  {
   "cell_type": "code",
   "execution_count": null,
   "metadata": {},
   "outputs": [],
   "source": [
    "\n",
    "datetime.strftime(datetime.strptime(result[\"date\"][i],\"%Y-%m-%d\"),\"%Y/%m/%d\")"
   ]
  },
  {
   "cell_type": "code",
   "execution_count": 19,
   "metadata": {},
   "outputs": [
    {
     "data": {
      "text/plain": [
       "sqlite3.Cursor"
      ]
     },
     "execution_count": 19,
     "metadata": {},
     "output_type": "execute_result"
    }
   ],
   "source": [
    "import sqlite3\n",
    "conn = sqlite3.connect(\"C:\\\\Users\\\\Administrator\\\\Desktop\\\\collection.anki2\")\n",
    "cursor = conn.cursor()\n",
    "type(conn)\n",
    "type(cursor)"
   ]
  },
  {
   "cell_type": "code",
   "execution_count": 10,
   "metadata": {},
   "outputs": [
    {
     "data": {
      "text/plain": [
       "('table',\n",
       " 'col',\n",
       " 'col',\n",
       " 2,\n",
       " 'CREATE TABLE col (\\n    id              integer primary key,\\n    crt             integer not null,\\n    mod             integer not null,\\n    scm             integer not null,\\n    ver             integer not null,\\n    dty             integer not null,\\n    usn             integer not null,\\n    ls              integer not null,\\n    conf            text not null,\\n    models          text not null,\\n    decks           text not null,\\n    dconf           text not null,\\n    tags            text not null\\n)')"
      ]
     },
     "execution_count": 10,
     "metadata": {},
     "output_type": "execute_result"
    }
   ],
   "source": [
    "conn.execute(\"SELECT * FROM sqlite_master WHERE type='table';\").fetchone()"
   ]
  },
  {
   "cell_type": "code",
   "execution_count": 21,
   "metadata": {},
   "outputs": [
    {
     "data": {
      "text/plain": [
       "(1,\n",
       " '默认',\n",
       " 1518672121,\n",
       " 0,\n",
       " b'\\x10\\x01\\x18\\xf2\\t\\xfa\\x0f\\x17{\"mid\":\"1500337583015\"}',\n",
       " b'\\n\\x06\\x08\\x01\\x10\\n\\x182')"
      ]
     },
     "execution_count": 21,
     "metadata": {},
     "output_type": "execute_result"
    }
   ],
   "source": [
    "cursor.execute(\"SELECT * FROM decks;\").fetchone()"
   ]
  },
  {
   "cell_type": "code",
   "execution_count": 22,
   "metadata": {},
   "outputs": [
    {
     "data": {
      "text/plain": [
       "(1425993478151, 1425106476528, 3, -60, 0)"
      ]
     },
     "execution_count": 22,
     "metadata": {},
     "output_type": "execute_result"
    }
   ],
   "source": [
    "cursor.execute(\"SELECT id, cid, ease, lastIvl, type FROM revlog WHERE type != 2;\").fetchone()"
   ]
  }
 ],
 "metadata": {
  "colab": {
   "authorship_tag": "ABX9TyNiaaKR2dcCEzsxNwvmCcvA",
   "collapsed_sections": [],
   "name": "test.ipynb",
   "provenance": []
  },
  "kernelspec": {
   "display_name": "Python 3",
   "language": "python",
   "name": "python3"
  },
  "language_info": {
   "codemirror_mode": {
    "name": "ipython",
    "version": 3
   },
   "file_extension": ".py",
   "mimetype": "text/x-python",
   "name": "python",
   "nbconvert_exporter": "python",
   "pygments_lexer": "ipython3",
   "version": "3.8.5"
  },
  "toc": {
   "base_numbering": 1,
   "nav_menu": {},
   "number_sections": true,
   "sideBar": true,
   "skip_h1_title": false,
   "title_cell": "Table of Contents",
   "title_sidebar": "Contents",
   "toc_cell": false,
   "toc_position": {},
   "toc_section_display": true,
   "toc_window_display": false
  }
 },
 "nbformat": 4,
 "nbformat_minor": 1
}
